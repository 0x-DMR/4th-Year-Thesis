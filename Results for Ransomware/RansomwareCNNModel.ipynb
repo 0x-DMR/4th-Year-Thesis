{
 "cells": [
  {
   "cell_type": "code",
   "execution_count": 1,
   "id": "e08d24dc",
   "metadata": {},
   "outputs": [],
   "source": [
    "import os\n",
    "os.environ['TF_XLA_FLAGS'] = '--tf_xla_enable_xla_devices'\n",
    "path_root = '/home/dmr/DatasetForExperiments/ransomware/'"
   ]
  },
  {
   "cell_type": "code",
   "execution_count": 27,
   "id": "6a45dad7",
   "metadata": {},
   "outputs": [
    {
     "name": "stdout",
     "output_type": "stream",
     "text": [
      "Found 101 images belonging to 10 classes.\n"
     ]
    }
   ],
   "source": [
    "from keras.preprocessing.image import ImageDataGenerator\n",
    "batches = ImageDataGenerator().flow_from_directory(directory=path_root, target_size=(64,64), batch_size=10000)"
   ]
  },
  {
   "cell_type": "code",
   "execution_count": 3,
   "id": "728b8be6",
   "metadata": {},
   "outputs": [
    {
     "data": {
      "text/plain": [
       "(101, 10)"
      ]
     },
     "execution_count": 3,
     "metadata": {},
     "output_type": "execute_result"
    }
   ],
   "source": [
    "# Print information about Images \n",
    "imgs, labels = next(batches)\n",
    "imgs.shape # Images with width x length x depth\n",
    "labels.shape # Lablels with batch_size, number of classes"
   ]
  },
  {
   "cell_type": "code",
   "execution_count": 4,
   "id": "57424da2",
   "metadata": {},
   "outputs": [],
   "source": [
    "import numpy as np\n",
    "import scipy as sp\n",
    "from PIL import Image\n",
    "\n",
    "# Train and Test \n",
    "from sklearn.model_selection import train_test_split\n",
    "X_train, X_test, y_train, y_test = train_test_split(imgs/255.,labels, test_size=0.1)"
   ]
  },
  {
   "cell_type": "code",
   "execution_count": 5,
   "id": "3590200f",
   "metadata": {},
   "outputs": [
    {
     "data": {
      "text/plain": [
       "(90, 64, 64, 3)"
      ]
     },
     "execution_count": 5,
     "metadata": {},
     "output_type": "execute_result"
    }
   ],
   "source": [
    "X_train.shape"
   ]
  },
  {
   "cell_type": "code",
   "execution_count": 6,
   "id": "3db9230c",
   "metadata": {},
   "outputs": [
    {
     "data": {
      "text/plain": [
       "(11, 64, 64, 3)"
      ]
     },
     "execution_count": 6,
     "metadata": {},
     "output_type": "execute_result"
    }
   ],
   "source": [
    "X_test.shape"
   ]
  },
  {
   "cell_type": "code",
   "execution_count": 7,
   "id": "2b6ca85a",
   "metadata": {},
   "outputs": [
    {
     "data": {
      "text/plain": [
       "(90, 10)"
      ]
     },
     "execution_count": 7,
     "metadata": {},
     "output_type": "execute_result"
    }
   ],
   "source": [
    "y_train.shape"
   ]
  },
  {
   "cell_type": "code",
   "execution_count": 8,
   "id": "f5f1dec9",
   "metadata": {},
   "outputs": [
    {
     "data": {
      "text/plain": [
       "(11, 10)"
      ]
     },
     "execution_count": 8,
     "metadata": {},
     "output_type": "execute_result"
    }
   ],
   "source": [
    "y_test.shape"
   ]
  },
  {
   "cell_type": "code",
   "execution_count": 9,
   "id": "fde8f125",
   "metadata": {},
   "outputs": [],
   "source": [
    "# CNN Model"
   ]
  },
  {
   "cell_type": "code",
   "execution_count": 10,
   "id": "0f3529a9",
   "metadata": {},
   "outputs": [],
   "source": [
    "import keras\n",
    "import tensorflow\n",
    "from keras.models import Sequential, Input, Model\n",
    "from keras.layers import Dense, Dropout, Flatten\n",
    "from keras.layers import Conv2D, MaxPooling2D\n",
    "from tensorflow.keras.layers import BatchNormalization\n",
    "from tensorflow.keras.metrics import AUC"
   ]
  },
  {
   "cell_type": "code",
   "execution_count": 11,
   "id": "0401eabd",
   "metadata": {},
   "outputs": [],
   "source": [
    "num_classes = 10"
   ]
  },
  {
   "cell_type": "code",
   "execution_count": 12,
   "id": "b3593ed6",
   "metadata": {},
   "outputs": [],
   "source": [
    "def malware_model():\n",
    "    Malware_model = Sequential()\n",
    "    # Convolutional Layer : 30 filters, (3 * 3) kernel size\n",
    "    Malware_model.add(Conv2D(30, kernel_size=(3, 3),\n",
    "                     activation='relu',\n",
    "                     input_shape=(64,64,3)))\n",
    "\n",
    "    # Max Pooling Layer : (2 * 2) pool size\n",
    "    Malware_model.add(MaxPooling2D(pool_size=(2, 2)))\n",
    "    \n",
    "    #Convolutional Layer : 15 filters, (3 * 3) kernel size\n",
    "    Malware_model.add(Conv2D(16, (3, 3), activation='relu'))\n",
    "    \n",
    "    # Max Pooling Layer : (2 * 2) pool size\n",
    "    Malware_model.add(MaxPooling2D(pool_size=(2, 2)))\n",
    "    \n",
    "    # DropOut Layer : Dropping 25% of neurons.\n",
    "    Malware_model.add(Dropout(0.25))\n",
    "    \n",
    "    # Flatten Layer\n",
    "    Malware_model.add(Flatten())\n",
    "    \n",
    "    # Dense/Fully Connected Layer : 128 Neurons, Relu activation function\n",
    "    Malware_model.add(Dense(128, activation='relu'))\n",
    "    \n",
    "   # Malware_model.add(Dense(64, activation='relu'))\n",
    "    \n",
    "    # DropOut Layer : Dropping 50% of neurons.\n",
    "    Malware_model.add(Dropout(0.5))\n",
    "    \n",
    "    # Dense/Fully Connected Layer : 50 Neurons, Softmax activation function\n",
    "    Malware_model.add(Dense(50, activation='relu'))\n",
    "    \n",
    "    # Dense/Fully Connected Layer : num_class Neurons, Softmax activation function\n",
    "    Malware_model.add(Dense(num_classes, activation='softmax'))\n",
    "    \n",
    "    \n",
    "    Malware_model.compile(loss='categorical_crossentropy', optimizer = 'adam', metrics=['accuracy'])\n",
    "    return Malware_model\n",
    "\n",
    "\n",
    "    # sparse_categorical_cross_entropy\n",
    "    # categorical_crossentropy\n",
    "    "
   ]
  },
  {
   "cell_type": "code",
   "execution_count": 13,
   "id": "9a4ebf7d",
   "metadata": {},
   "outputs": [],
   "source": [
    "from keras import backend as K\n",
    "\n",
    "def recall_m(y_test, y_pred):\n",
    "    true_positives = K.sum(K.round(K.clip(y_test * y_pred, 0, 1)))\n",
    "    possible_positives = K.sum(K.round(K.clip(y_test, 0, 1)))\n",
    "    recall = true_positives / (possible_positives + K.epsilon())\n",
    "    return recall\n",
    "\n",
    "def precision_m(y_test, y_pred):\n",
    "    true_positives = K.sum(K.round(K.clip(y_test * y_pred, 0, 1)))\n",
    "    predicted_positives = K.sum(K.round(K.clip(y_pred, 0, 1)))\n",
    "    precision = true_positives / (predicted_positives + K.epsilon())\n",
    "    return precision\n",
    "\n",
    "def f1_m(y_test, y_pred):\n",
    "    precision = precision_m(y_test, y_pred)\n",
    "    recall = recall_m(y_test, y_pred)\n",
    "    return 2*((precision*recall)/(precision+recall+K.epsilon()))"
   ]
  },
  {
   "cell_type": "code",
   "execution_count": 26,
   "id": "c1e2abbc",
   "metadata": {},
   "outputs": [],
   "source": [
    "Malware_model = malware_model()"
   ]
  },
  {
   "cell_type": "code",
   "execution_count": 15,
   "id": "bcb1d474",
   "metadata": {},
   "outputs": [
    {
     "name": "stdout",
     "output_type": "stream",
     "text": [
      "Model: \"sequential\"\n",
      "_________________________________________________________________\n",
      "Layer (type)                 Output Shape              Param #   \n",
      "=================================================================\n",
      "conv2d (Conv2D)              (None, 62, 62, 30)        840       \n",
      "_________________________________________________________________\n",
      "max_pooling2d (MaxPooling2D) (None, 31, 31, 30)        0         \n",
      "_________________________________________________________________\n",
      "conv2d_1 (Conv2D)            (None, 29, 29, 16)        4336      \n",
      "_________________________________________________________________\n",
      "max_pooling2d_1 (MaxPooling2 (None, 14, 14, 16)        0         \n",
      "_________________________________________________________________\n",
      "dropout (Dropout)            (None, 14, 14, 16)        0         \n",
      "_________________________________________________________________\n",
      "flatten (Flatten)            (None, 3136)              0         \n",
      "_________________________________________________________________\n",
      "dense (Dense)                (None, 128)               401536    \n",
      "_________________________________________________________________\n",
      "dropout_1 (Dropout)          (None, 128)               0         \n",
      "_________________________________________________________________\n",
      "dense_1 (Dense)              (None, 50)                6450      \n",
      "_________________________________________________________________\n",
      "dense_2 (Dense)              (None, 10)                510       \n",
      "=================================================================\n",
      "Total params: 413,672\n",
      "Trainable params: 413,672\n",
      "Non-trainable params: 0\n",
      "_________________________________________________________________\n"
     ]
    }
   ],
   "source": [
    "Malware_model.summary()"
   ]
  },
  {
   "cell_type": "code",
   "execution_count": 16,
   "id": "9e8d69b6",
   "metadata": {},
   "outputs": [
    {
     "data": {
      "text/plain": [
       "(90, 10)"
      ]
     },
     "execution_count": 16,
     "metadata": {},
     "output_type": "execute_result"
    }
   ],
   "source": [
    "y_train.shape"
   ]
  },
  {
   "cell_type": "code",
   "execution_count": 17,
   "id": "6711d2f9",
   "metadata": {},
   "outputs": [],
   "source": [
    "y_train_new = np.argmax(y_train, axis=1)"
   ]
  },
  {
   "cell_type": "code",
   "execution_count": 18,
   "id": "838a6a56",
   "metadata": {},
   "outputs": [
    {
     "data": {
      "text/plain": [
       "array([9, 5, 8, 3, 8, 2, 5, 2, 6, 3, 8, 0, 3, 7, 7, 3, 2, 8, 8, 6, 4, 4,\n",
       "       4, 9, 4, 9, 6, 7, 6, 3, 2, 3, 7, 0, 3, 5, 8, 0, 2, 4, 5, 8, 4, 9,\n",
       "       4, 3, 7, 1, 6, 0, 1, 2, 0, 1, 5, 3, 4, 7, 9, 5, 6, 6, 4, 2, 0, 1,\n",
       "       8, 7, 9, 0, 7, 6, 2, 5, 8, 5, 1, 6, 0, 9, 8, 1, 4, 1, 8, 1, 2, 1,\n",
       "       9, 9])"
      ]
     },
     "execution_count": 18,
     "metadata": {},
     "output_type": "execute_result"
    }
   ],
   "source": [
    "y_train_new"
   ]
  },
  {
   "cell_type": "code",
   "execution_count": 19,
   "id": "e5fccc6d",
   "metadata": {},
   "outputs": [],
   "source": [
    "from sklearn.utils import class_weight\n",
    "class_weights = class_weight.compute_class_weight(class_weight = 'balanced',\n",
    "                                                 classes = np.unique(y_train_new),\n",
    "                                                 y = y_train_new)\n",
    "\n",
    "class_weights = {l:c for l,c in zip(np.unique(y_train_new), class_weights)}"
   ]
  },
  {
   "cell_type": "code",
   "execution_count": 20,
   "id": "a62f070a",
   "metadata": {},
   "outputs": [],
   "source": [
    "Malware_model.compile(optimizer='adam', loss='binary_crossentropy', metrics=[f1_m,precision_m, recall_m,AUC()])"
   ]
  },
  {
   "cell_type": "code",
   "execution_count": 21,
   "id": "f8c8523a",
   "metadata": {
    "scrolled": false
   },
   "outputs": [
    {
     "name": "stdout",
     "output_type": "stream",
     "text": [
      "Epoch 1/100\n"
     ]
    },
    {
     "name": "stderr",
     "output_type": "stream",
     "text": [
      "2023-05-02 16:59:10.302755: I tensorflow/compiler/mlir/mlir_graph_optimization_pass.cc:116] None of the MLIR optimization passes are enabled (registered 2)\n"
     ]
    },
    {
     "name": "stdout",
     "output_type": "stream",
     "text": [
      "3/3 [==============================] - 3s 513ms/step - loss: 0.6822 - f1_m: 0.0000e+00 - precision_m: 0.0000e+00 - recall_m: 0.0000e+00 - auc: 0.4889 - val_loss: 0.5343 - val_f1_m: 0.0000e+00 - val_precision_m: 0.0000e+00 - val_recall_m: 0.0000e+00 - val_auc: 0.5298\n",
      "Epoch 2/100\n",
      "3/3 [==============================] - 0s 72ms/step - loss: 0.5489 - f1_m: 0.0123 - precision_m: 0.1667 - recall_m: 0.0064 - auc: 0.4848 - val_loss: 0.4371 - val_f1_m: 0.0000e+00 - val_precision_m: 0.0000e+00 - val_recall_m: 0.0000e+00 - val_auc: 0.5289\n",
      "Epoch 3/100\n",
      "3/3 [==============================] - 0s 71ms/step - loss: 0.5063 - f1_m: 0.0000e+00 - precision_m: 0.0000e+00 - recall_m: 0.0000e+00 - auc: 0.4607 - val_loss: 0.3881 - val_f1_m: 0.0000e+00 - val_precision_m: 0.0000e+00 - val_recall_m: 0.0000e+00 - val_auc: 0.5014\n",
      "Epoch 4/100\n",
      "3/3 [==============================] - 0s 69ms/step - loss: 0.4312 - f1_m: 0.0000e+00 - precision_m: 0.0000e+00 - recall_m: 0.0000e+00 - auc: 0.5284 - val_loss: 0.3652 - val_f1_m: 0.0000e+00 - val_precision_m: 0.0000e+00 - val_recall_m: 0.0000e+00 - val_auc: 0.4963\n",
      "Epoch 5/100\n",
      "3/3 [==============================] - 0s 66ms/step - loss: 0.3913 - f1_m: 0.0162 - precision_m: 0.0729 - recall_m: 0.0091 - auc: 0.5650 - val_loss: 0.3454 - val_f1_m: 0.0000e+00 - val_precision_m: 0.0000e+00 - val_recall_m: 0.0000e+00 - val_auc: 0.5165\n",
      "Epoch 6/100\n",
      "3/3 [==============================] - 0s 77ms/step - loss: 0.3885 - f1_m: 0.0000e+00 - precision_m: 0.0000e+00 - recall_m: 0.0000e+00 - auc: 0.5152 - val_loss: 0.3333 - val_f1_m: 0.0000e+00 - val_precision_m: 0.0000e+00 - val_recall_m: 0.0000e+00 - val_auc: 0.6024\n",
      "Epoch 7/100\n",
      "3/3 [==============================] - 0s 73ms/step - loss: 0.3775 - f1_m: 0.0000e+00 - precision_m: 0.0000e+00 - recall_m: 0.0000e+00 - auc: 0.5422 - val_loss: 0.3286 - val_f1_m: 0.0000e+00 - val_precision_m: 0.0000e+00 - val_recall_m: 0.0000e+00 - val_auc: 0.6185\n",
      "Epoch 8/100\n",
      "3/3 [==============================] - 0s 73ms/step - loss: 0.3538 - f1_m: 0.0000e+00 - precision_m: 0.0000e+00 - recall_m: 0.0000e+00 - auc: 0.5548 - val_loss: 0.3234 - val_f1_m: 0.0000e+00 - val_precision_m: 0.0000e+00 - val_recall_m: 0.0000e+00 - val_auc: 0.6745\n",
      "Epoch 9/100\n",
      "3/3 [==============================] - 0s 76ms/step - loss: 0.3521 - f1_m: 0.0000e+00 - precision_m: 0.0000e+00 - recall_m: 0.0000e+00 - auc: 0.5613 - val_loss: 0.3177 - val_f1_m: 0.0000e+00 - val_precision_m: 0.0000e+00 - val_recall_m: 0.0000e+00 - val_auc: 0.6616\n",
      "Epoch 10/100\n",
      "3/3 [==============================] - 0s 82ms/step - loss: 0.3318 - f1_m: 0.0629 - precision_m: 1.0000 - recall_m: 0.0325 - auc: 0.6081 - val_loss: 0.3132 - val_f1_m: 0.0000e+00 - val_precision_m: 0.0000e+00 - val_recall_m: 0.0000e+00 - val_auc: 0.7181\n",
      "Epoch 11/100\n",
      "3/3 [==============================] - 0s 83ms/step - loss: 0.3311 - f1_m: 0.0000e+00 - precision_m: 0.0000e+00 - recall_m: 0.0000e+00 - auc: 0.6262 - val_loss: 0.3117 - val_f1_m: 0.0000e+00 - val_precision_m: 0.0000e+00 - val_recall_m: 0.0000e+00 - val_auc: 0.8343\n",
      "Epoch 12/100\n",
      "3/3 [==============================] - 0s 80ms/step - loss: 0.3284 - f1_m: 0.0000e+00 - precision_m: 0.0000e+00 - recall_m: 0.0000e+00 - auc: 0.6372 - val_loss: 0.3007 - val_f1_m: 0.0000e+00 - val_precision_m: 0.0000e+00 - val_recall_m: 0.0000e+00 - val_auc: 0.9017\n",
      "Epoch 13/100\n",
      "3/3 [==============================] - 0s 79ms/step - loss: 0.3166 - f1_m: 0.0177 - precision_m: 0.2917 - recall_m: 0.0091 - auc: 0.6557 - val_loss: 0.2943 - val_f1_m: 0.0000e+00 - val_precision_m: 0.0000e+00 - val_recall_m: 0.0000e+00 - val_auc: 0.9031\n",
      "Epoch 14/100\n",
      "3/3 [==============================] - 0s 81ms/step - loss: 0.3103 - f1_m: 0.0177 - precision_m: 0.2917 - recall_m: 0.0091 - auc: 0.6891 - val_loss: 0.2891 - val_f1_m: 0.0000e+00 - val_precision_m: 0.0000e+00 - val_recall_m: 0.0000e+00 - val_auc: 0.9320\n",
      "Epoch 15/100\n",
      "3/3 [==============================] - 0s 81ms/step - loss: 0.2920 - f1_m: 0.0328 - precision_m: 0.5417 - recall_m: 0.0169 - auc: 0.7847 - val_loss: 0.2845 - val_f1_m: 0.0000e+00 - val_precision_m: 0.0000e+00 - val_recall_m: 0.0000e+00 - val_auc: 0.9444\n",
      "Epoch 16/100\n",
      "3/3 [==============================] - 0s 83ms/step - loss: 0.2918 - f1_m: 0.0505 - precision_m: 0.8333 - recall_m: 0.0260 - auc: 0.7914 - val_loss: 0.2797 - val_f1_m: 0.0000e+00 - val_precision_m: 0.0000e+00 - val_recall_m: 0.0000e+00 - val_auc: 0.9169\n",
      "Epoch 17/100\n",
      "3/3 [==============================] - 0s 79ms/step - loss: 0.2866 - f1_m: 0.0505 - precision_m: 0.8333 - recall_m: 0.0260 - auc: 0.7982 - val_loss: 0.2717 - val_f1_m: 0.0000e+00 - val_precision_m: 0.0000e+00 - val_recall_m: 0.0000e+00 - val_auc: 0.9031\n",
      "Epoch 18/100\n",
      "3/3 [==============================] - 0s 79ms/step - loss: 0.2738 - f1_m: 0.1173 - precision_m: 1.0000 - recall_m: 0.0635 - auc: 0.8478 - val_loss: 0.2619 - val_f1_m: 0.0000e+00 - val_precision_m: 0.0000e+00 - val_recall_m: 0.0000e+00 - val_auc: 0.9132\n",
      "Epoch 19/100\n",
      "3/3 [==============================] - 0s 79ms/step - loss: 0.2511 - f1_m: 0.2101 - precision_m: 0.8583 - recall_m: 0.1207 - auc: 0.8751 - val_loss: 0.2521 - val_f1_m: 0.0000e+00 - val_precision_m: 0.0000e+00 - val_recall_m: 0.0000e+00 - val_auc: 0.9137\n",
      "Epoch 20/100\n",
      "3/3 [==============================] - 0s 74ms/step - loss: 0.2444 - f1_m: 0.2361 - precision_m: 0.8646 - recall_m: 0.1375 - auc: 0.8970 - val_loss: 0.2471 - val_f1_m: 0.0000e+00 - val_precision_m: 0.0000e+00 - val_recall_m: 0.0000e+00 - val_auc: 0.9132\n",
      "Epoch 21/100\n",
      "3/3 [==============================] - 0s 78ms/step - loss: 0.2435 - f1_m: 0.2790 - precision_m: 1.0000 - recall_m: 0.1623 - auc: 0.8958 - val_loss: 0.2382 - val_f1_m: 0.1667 - val_precision_m: 1.0000 - val_recall_m: 0.0909 - val_auc: 0.9169\n",
      "Epoch 22/100\n",
      "3/3 [==============================] - 0s 82ms/step - loss: 0.2327 - f1_m: 0.3196 - precision_m: 0.8528 - recall_m: 0.1987 - auc: 0.8948 - val_loss: 0.2265 - val_f1_m: 0.1667 - val_precision_m: 1.0000 - val_recall_m: 0.0909 - val_auc: 0.9284\n",
      "Epoch 23/100\n",
      "3/3 [==============================] - 0s 92ms/step - loss: 0.2260 - f1_m: 0.4089 - precision_m: 0.9676 - recall_m: 0.2596 - auc: 0.9063 - val_loss: 0.2143 - val_f1_m: 0.3077 - val_precision_m: 1.0000 - val_recall_m: 0.1818 - val_auc: 0.9435\n",
      "Epoch 24/100\n",
      "3/3 [==============================] - 0s 90ms/step - loss: 0.2262 - f1_m: 0.3885 - precision_m: 0.8369 - recall_m: 0.2605 - auc: 0.9124 - val_loss: 0.2055 - val_f1_m: 0.3077 - val_precision_m: 1.0000 - val_recall_m: 0.1818 - val_auc: 0.9564\n",
      "Epoch 25/100\n",
      "3/3 [==============================] - 0s 94ms/step - loss: 0.2062 - f1_m: 0.3870 - precision_m: 0.7754 - recall_m: 0.2672 - auc: 0.9358 - val_loss: 0.1982 - val_f1_m: 0.7059 - val_precision_m: 1.0000 - val_recall_m: 0.5455 - val_auc: 0.9564\n",
      "Epoch 26/100\n",
      "3/3 [==============================] - 0s 78ms/step - loss: 0.1899 - f1_m: 0.5572 - precision_m: 0.8998 - recall_m: 0.4040 - auc: 0.9525 - val_loss: 0.1910 - val_f1_m: 0.6250 - val_precision_m: 1.0000 - val_recall_m: 0.4545 - val_auc: 0.9504\n",
      "Epoch 27/100\n",
      "3/3 [==============================] - 0s 95ms/step - loss: 0.1890 - f1_m: 0.5568 - precision_m: 0.9004 - recall_m: 0.4049 - auc: 0.9465 - val_loss: 0.1916 - val_f1_m: 0.6250 - val_precision_m: 1.0000 - val_recall_m: 0.4545 - val_auc: 0.9343\n",
      "Epoch 28/100\n",
      "3/3 [==============================] - 0s 90ms/step - loss: 0.1914 - f1_m: 0.5616 - precision_m: 0.8542 - recall_m: 0.4285 - auc: 0.9372 - val_loss: 0.1911 - val_f1_m: 0.7059 - val_precision_m: 1.0000 - val_recall_m: 0.5455 - val_auc: 0.9394\n",
      "Epoch 29/100\n",
      "3/3 [==============================] - 0s 102ms/step - loss: 0.1717 - f1_m: 0.7035 - precision_m: 0.9093 - recall_m: 0.5807 - auc: 0.9607 - val_loss: 0.1687 - val_f1_m: 0.7059 - val_precision_m: 1.0000 - val_recall_m: 0.5455 - val_auc: 0.9550\n",
      "Epoch 30/100\n",
      "3/3 [==============================] - 0s 97ms/step - loss: 0.1659 - f1_m: 0.6719 - precision_m: 0.8842 - recall_m: 0.5430 - auc: 0.9643 - val_loss: 0.1718 - val_f1_m: 0.7059 - val_precision_m: 1.0000 - val_recall_m: 0.5455 - val_auc: 0.9573\n",
      "Epoch 31/100\n",
      "3/3 [==============================] - 0s 92ms/step - loss: 0.1527 - f1_m: 0.7323 - precision_m: 0.9159 - recall_m: 0.6115 - auc: 0.9746 - val_loss: 0.1668 - val_f1_m: 0.7059 - val_precision_m: 1.0000 - val_recall_m: 0.5455 - val_auc: 0.9601\n"
     ]
    },
    {
     "name": "stdout",
     "output_type": "stream",
     "text": [
      "Epoch 32/100\n",
      "3/3 [==============================] - 0s 95ms/step - loss: 0.1442 - f1_m: 0.6809 - precision_m: 0.8433 - recall_m: 0.5713 - auc: 0.9733 - val_loss: 0.1654 - val_f1_m: 0.7059 - val_precision_m: 1.0000 - val_recall_m: 0.5455 - val_auc: 0.9573\n",
      "Epoch 33/100\n",
      "3/3 [==============================] - 0s 97ms/step - loss: 0.1264 - f1_m: 0.8351 - precision_m: 0.9567 - recall_m: 0.7431 - auc: 0.9874 - val_loss: 0.1626 - val_f1_m: 0.7778 - val_precision_m: 1.0000 - val_recall_m: 0.6364 - val_auc: 0.9486\n",
      "Epoch 34/100\n",
      "3/3 [==============================] - 0s 99ms/step - loss: 0.1271 - f1_m: 0.8058 - precision_m: 0.9158 - recall_m: 0.7195 - auc: 0.9842 - val_loss: 0.1616 - val_f1_m: 0.7778 - val_precision_m: 1.0000 - val_recall_m: 0.6364 - val_auc: 0.9467\n",
      "Epoch 35/100\n",
      "3/3 [==============================] - 0s 93ms/step - loss: 0.1289 - f1_m: 0.7158 - precision_m: 0.9015 - recall_m: 0.5970 - auc: 0.9819 - val_loss: 0.1518 - val_f1_m: 0.7778 - val_precision_m: 1.0000 - val_recall_m: 0.6364 - val_auc: 0.9500\n",
      "Epoch 36/100\n",
      "3/3 [==============================] - 0s 96ms/step - loss: 0.1289 - f1_m: 0.7707 - precision_m: 0.9401 - recall_m: 0.6554 - auc: 0.9844 - val_loss: 0.1650 - val_f1_m: 0.7619 - val_precision_m: 0.8000 - val_recall_m: 0.7273 - val_auc: 0.9403\n",
      "Epoch 37/100\n",
      "3/3 [==============================] - 0s 106ms/step - loss: 0.1111 - f1_m: 0.8777 - precision_m: 0.9861 - recall_m: 0.7921 - auc: 0.9926 - val_loss: 0.1560 - val_f1_m: 0.7000 - val_precision_m: 0.7778 - val_recall_m: 0.6364 - val_auc: 0.9532\n",
      "Epoch 38/100\n",
      "3/3 [==============================] - 0s 108ms/step - loss: 0.0912 - f1_m: 0.8999 - precision_m: 0.9393 - recall_m: 0.8638 - auc: 0.9929 - val_loss: 0.1535 - val_f1_m: 0.7000 - val_precision_m: 0.7778 - val_recall_m: 0.6364 - val_auc: 0.9614\n",
      "Epoch 39/100\n",
      "3/3 [==============================] - 0s 103ms/step - loss: 0.1010 - f1_m: 0.8941 - precision_m: 0.9470 - recall_m: 0.8470 - auc: 0.9919 - val_loss: 0.1571 - val_f1_m: 0.7000 - val_precision_m: 0.7778 - val_recall_m: 0.6364 - val_auc: 0.9481\n",
      "Epoch 40/100\n",
      "3/3 [==============================] - 0s 112ms/step - loss: 0.0976 - f1_m: 0.8875 - precision_m: 0.9537 - recall_m: 0.8299 - auc: 0.9956 - val_loss: 0.1482 - val_f1_m: 0.7619 - val_precision_m: 0.8000 - val_recall_m: 0.7273 - val_auc: 0.9541\n",
      "Epoch 41/100\n",
      "3/3 [==============================] - 0s 91ms/step - loss: 0.0922 - f1_m: 0.9131 - precision_m: 0.9737 - recall_m: 0.8597 - auc: 0.9942 - val_loss: 0.1477 - val_f1_m: 0.8571 - val_precision_m: 0.9000 - val_recall_m: 0.8182 - val_auc: 0.9669\n",
      "Epoch 42/100\n",
      "3/3 [==============================] - 0s 82ms/step - loss: 0.0740 - f1_m: 0.8977 - precision_m: 0.9199 - recall_m: 0.8770 - auc: 0.9962 - val_loss: 0.1334 - val_f1_m: 0.8571 - val_precision_m: 0.9000 - val_recall_m: 0.8182 - val_auc: 0.9734\n",
      "Epoch 43/100\n",
      "3/3 [==============================] - 0s 71ms/step - loss: 0.0721 - f1_m: 0.9462 - precision_m: 0.9899 - recall_m: 0.9064 - auc: 0.9997 - val_loss: 0.1305 - val_f1_m: 0.7619 - val_precision_m: 0.8000 - val_recall_m: 0.7273 - val_auc: 0.9679\n",
      "Epoch 44/100\n",
      "3/3 [==============================] - 0s 69ms/step - loss: 0.0809 - f1_m: 0.9003 - precision_m: 0.9270 - recall_m: 0.8752 - auc: 0.9966 - val_loss: 0.1358 - val_f1_m: 0.8182 - val_precision_m: 0.8182 - val_recall_m: 0.8182 - val_auc: 0.9633\n",
      "Epoch 45/100\n",
      "3/3 [==============================] - 0s 66ms/step - loss: 0.0595 - f1_m: 0.9847 - precision_m: 1.0000 - recall_m: 0.9703 - auc: 1.0000 - val_loss: 0.1549 - val_f1_m: 0.8182 - val_precision_m: 0.8182 - val_recall_m: 0.8182 - val_auc: 0.9683\n",
      "Epoch 46/100\n",
      "3/3 [==============================] - 0s 70ms/step - loss: 0.0758 - f1_m: 0.9429 - precision_m: 0.9813 - recall_m: 0.9077 - auc: 0.9983 - val_loss: 0.1386 - val_f1_m: 0.8182 - val_precision_m: 0.8182 - val_recall_m: 0.8182 - val_auc: 0.9656\n",
      "Epoch 47/100\n",
      "3/3 [==============================] - 0s 74ms/step - loss: 0.0621 - f1_m: 0.9385 - precision_m: 0.9548 - recall_m: 0.9232 - auc: 0.9985 - val_loss: 0.1273 - val_f1_m: 0.8182 - val_precision_m: 0.8182 - val_recall_m: 0.8182 - val_auc: 0.9596\n",
      "Epoch 48/100\n",
      "3/3 [==============================] - 0s 65ms/step - loss: 0.0640 - f1_m: 0.9609 - precision_m: 0.9756 - recall_m: 0.9469 - auc: 0.9991 - val_loss: 0.1256 - val_f1_m: 0.8182 - val_precision_m: 0.8182 - val_recall_m: 0.8182 - val_auc: 0.9642\n",
      "Epoch 49/100\n",
      "3/3 [==============================] - 0s 63ms/step - loss: 0.0571 - f1_m: 0.9526 - precision_m: 0.9642 - recall_m: 0.9416 - auc: 0.9990 - val_loss: 0.1277 - val_f1_m: 0.8182 - val_precision_m: 0.8182 - val_recall_m: 0.8182 - val_auc: 0.9770\n",
      "Epoch 50/100\n",
      "3/3 [==============================] - 0s 62ms/step - loss: 0.0455 - f1_m: 0.9842 - precision_m: 0.9936 - recall_m: 0.9754 - auc: 0.9993 - val_loss: 0.1318 - val_f1_m: 0.8571 - val_precision_m: 0.9000 - val_recall_m: 0.8182 - val_auc: 0.9798\n",
      "Epoch 51/100\n",
      "3/3 [==============================] - 0s 64ms/step - loss: 0.0448 - f1_m: 0.9704 - precision_m: 0.9831 - recall_m: 0.9584 - auc: 0.9991 - val_loss: 0.1307 - val_f1_m: 0.8571 - val_precision_m: 0.9000 - val_recall_m: 0.8182 - val_auc: 0.9766\n",
      "Epoch 52/100\n",
      "3/3 [==============================] - 0s 62ms/step - loss: 0.0452 - f1_m: 0.9604 - precision_m: 0.9690 - recall_m: 0.9520 - auc: 0.9993 - val_loss: 0.1312 - val_f1_m: 0.8182 - val_precision_m: 0.8182 - val_recall_m: 0.8182 - val_auc: 0.9725\n",
      "Epoch 53/100\n",
      "3/3 [==============================] - 0s 63ms/step - loss: 0.0474 - f1_m: 0.9742 - precision_m: 0.9825 - recall_m: 0.9661 - auc: 0.9996 - val_loss: 0.1442 - val_f1_m: 0.7619 - val_precision_m: 0.8000 - val_recall_m: 0.7273 - val_auc: 0.9656\n",
      "Epoch 54/100\n",
      "3/3 [==============================] - 0s 61ms/step - loss: 0.0309 - f1_m: 0.9842 - precision_m: 0.9909 - recall_m: 0.9781 - auc: 0.9999 - val_loss: 0.1483 - val_f1_m: 0.7273 - val_precision_m: 0.7273 - val_recall_m: 0.7273 - val_auc: 0.9656\n",
      "Epoch 55/100\n",
      "3/3 [==============================] - 0s 64ms/step - loss: 0.0472 - f1_m: 0.9628 - precision_m: 0.9673 - recall_m: 0.9584 - auc: 0.9984 - val_loss: 0.1365 - val_f1_m: 0.7619 - val_precision_m: 0.8000 - val_recall_m: 0.7273 - val_auc: 0.9711\n",
      "Epoch 56/100\n",
      "3/3 [==============================] - 0s 63ms/step - loss: 0.0411 - f1_m: 0.9823 - precision_m: 0.9909 - recall_m: 0.9740 - auc: 0.9996 - val_loss: 0.1258 - val_f1_m: 0.8182 - val_precision_m: 0.8182 - val_recall_m: 0.8182 - val_auc: 0.9770\n",
      "Epoch 57/100\n",
      "3/3 [==============================] - 0s 62ms/step - loss: 0.0345 - f1_m: 0.9769 - precision_m: 0.9812 - recall_m: 0.9727 - auc: 0.9999 - val_loss: 0.1352 - val_f1_m: 0.8182 - val_precision_m: 0.8182 - val_recall_m: 0.8182 - val_auc: 0.9738\n",
      "Epoch 58/100\n",
      "3/3 [==============================] - 0s 64ms/step - loss: 0.0308 - f1_m: 0.9954 - precision_m: 1.0000 - recall_m: 0.9909 - auc: 1.0000 - val_loss: 0.1401 - val_f1_m: 0.8182 - val_precision_m: 0.8182 - val_recall_m: 0.8182 - val_auc: 0.9761\n",
      "Epoch 59/100\n",
      "3/3 [==============================] - 0s 65ms/step - loss: 0.0259 - f1_m: 1.0000 - precision_m: 1.0000 - recall_m: 1.0000 - auc: 1.0000 - val_loss: 0.1391 - val_f1_m: 0.8182 - val_precision_m: 0.8182 - val_recall_m: 0.8182 - val_auc: 0.9752\n",
      "Epoch 60/100\n",
      "3/3 [==============================] - 0s 62ms/step - loss: 0.0317 - f1_m: 0.9479 - precision_m: 0.9479 - recall_m: 0.9479 - auc: 0.9996 - val_loss: 0.1453 - val_f1_m: 0.8182 - val_precision_m: 0.8182 - val_recall_m: 0.8182 - val_auc: 0.9757\n",
      "Epoch 61/100\n",
      "3/3 [==============================] - 0s 60ms/step - loss: 0.0316 - f1_m: 0.9850 - precision_m: 0.9936 - recall_m: 0.9767 - auc: 0.9999 - val_loss: 0.1445 - val_f1_m: 0.8000 - val_precision_m: 0.8889 - val_recall_m: 0.7273 - val_auc: 0.9766\n",
      "Epoch 62/100\n",
      "3/3 [==============================] - 0s 57ms/step - loss: 0.0339 - f1_m: 0.9921 - precision_m: 1.0000 - recall_m: 0.9845 - auc: 0.9999 - val_loss: 0.1493 - val_f1_m: 0.7619 - val_precision_m: 0.8000 - val_recall_m: 0.7273 - val_auc: 0.9380\n",
      "Epoch 63/100\n",
      "3/3 [==============================] - 0s 57ms/step - loss: 0.0223 - f1_m: 0.9967 - precision_m: 1.0000 - recall_m: 0.9936 - auc: 1.0000 - val_loss: 0.1463 - val_f1_m: 0.8182 - val_precision_m: 0.8182 - val_recall_m: 0.8182 - val_auc: 0.9357\n",
      "Epoch 64/100\n"
     ]
    },
    {
     "name": "stdout",
     "output_type": "stream",
     "text": [
      "3/3 [==============================] - 0s 63ms/step - loss: 0.0223 - f1_m: 0.9831 - precision_m: 0.9831 - recall_m: 0.9831 - auc: 0.9999 - val_loss: 0.1371 - val_f1_m: 0.8571 - val_precision_m: 0.9000 - val_recall_m: 0.8182 - val_auc: 0.9738\n",
      "Epoch 65/100\n",
      "3/3 [==============================] - 0s 56ms/step - loss: 0.0231 - f1_m: 0.9775 - precision_m: 0.9906 - recall_m: 0.9648 - auc: 0.9999 - val_loss: 0.1433 - val_f1_m: 0.8571 - val_precision_m: 0.9000 - val_recall_m: 0.8182 - val_auc: 0.9706\n",
      "Epoch 66/100\n",
      "3/3 [==============================] - 0s 57ms/step - loss: 0.0229 - f1_m: 0.9936 - precision_m: 0.9936 - recall_m: 0.9936 - auc: 1.0000 - val_loss: 0.1573 - val_f1_m: 0.8571 - val_precision_m: 0.9000 - val_recall_m: 0.8182 - val_auc: 0.9770\n",
      "Epoch 67/100\n",
      "3/3 [==============================] - 0s 55ms/step - loss: 0.0210 - f1_m: 0.9936 - precision_m: 0.9936 - recall_m: 0.9936 - auc: 1.0000 - val_loss: 0.1652 - val_f1_m: 0.8571 - val_precision_m: 0.9000 - val_recall_m: 0.8182 - val_auc: 0.9426\n",
      "Epoch 68/100\n",
      "3/3 [==============================] - 0s 58ms/step - loss: 0.0318 - f1_m: 0.9812 - precision_m: 0.9903 - recall_m: 0.9727 - auc: 0.9999 - val_loss: 0.1514 - val_f1_m: 0.7273 - val_precision_m: 0.7273 - val_recall_m: 0.7273 - val_auc: 0.9789\n",
      "Epoch 69/100\n",
      "3/3 [==============================] - 0s 60ms/step - loss: 0.0159 - f1_m: 1.0000 - precision_m: 1.0000 - recall_m: 1.0000 - auc: 1.0000 - val_loss: 0.1567 - val_f1_m: 0.7273 - val_precision_m: 0.7273 - val_recall_m: 0.7273 - val_auc: 0.9743\n",
      "Epoch 70/100\n",
      "3/3 [==============================] - 0s 57ms/step - loss: 0.0236 - f1_m: 0.9786 - precision_m: 0.9872 - recall_m: 0.9703 - auc: 0.9997 - val_loss: 0.1508 - val_f1_m: 0.7273 - val_precision_m: 0.7273 - val_recall_m: 0.7273 - val_auc: 0.9316\n",
      "Epoch 71/100\n",
      "3/3 [==============================] - 0s 56ms/step - loss: 0.0252 - f1_m: 0.9745 - precision_m: 0.9776 - recall_m: 0.9717 - auc: 0.9998 - val_loss: 0.1385 - val_f1_m: 0.8000 - val_precision_m: 0.8889 - val_recall_m: 0.7273 - val_auc: 0.9353\n",
      "Epoch 72/100\n",
      "3/3 [==============================] - 0s 56ms/step - loss: 0.0307 - f1_m: 0.9701 - precision_m: 0.9909 - recall_m: 0.9506 - auc: 0.9994 - val_loss: 0.1391 - val_f1_m: 0.8182 - val_precision_m: 0.8182 - val_recall_m: 0.8182 - val_auc: 0.9348\n",
      "Epoch 73/100\n",
      "3/3 [==============================] - 0s 55ms/step - loss: 0.0255 - f1_m: 0.9954 - precision_m: 1.0000 - recall_m: 0.9909 - auc: 1.0000 - val_loss: 0.1497 - val_f1_m: 0.8182 - val_precision_m: 0.8182 - val_recall_m: 0.8182 - val_auc: 0.9320\n",
      "Epoch 74/100\n",
      "3/3 [==============================] - 0s 56ms/step - loss: 0.0174 - f1_m: 1.0000 - precision_m: 1.0000 - recall_m: 1.0000 - auc: 1.0000 - val_loss: 0.1643 - val_f1_m: 0.8182 - val_precision_m: 0.8182 - val_recall_m: 0.8182 - val_auc: 0.9389\n",
      "Epoch 75/100\n",
      "3/3 [==============================] - 0s 55ms/step - loss: 0.0218 - f1_m: 0.9909 - precision_m: 0.9909 - recall_m: 0.9909 - auc: 0.9998 - val_loss: 0.1602 - val_f1_m: 0.8571 - val_precision_m: 0.9000 - val_recall_m: 0.8182 - val_auc: 0.9394\n",
      "Epoch 76/100\n",
      "3/3 [==============================] - 0s 55ms/step - loss: 0.0184 - f1_m: 0.9936 - precision_m: 0.9936 - recall_m: 0.9936 - auc: 1.0000 - val_loss: 0.1502 - val_f1_m: 0.8182 - val_precision_m: 0.8182 - val_recall_m: 0.8182 - val_auc: 0.9738\n",
      "Epoch 77/100\n",
      "3/3 [==============================] - 0s 54ms/step - loss: 0.0204 - f1_m: 0.9661 - precision_m: 0.9661 - recall_m: 0.9661 - auc: 0.9998 - val_loss: 0.1383 - val_f1_m: 0.8182 - val_precision_m: 0.8182 - val_recall_m: 0.8182 - val_auc: 0.9752\n",
      "Epoch 78/100\n",
      "3/3 [==============================] - 0s 55ms/step - loss: 0.0194 - f1_m: 1.0000 - precision_m: 1.0000 - recall_m: 1.0000 - auc: 1.0000 - val_loss: 0.1433 - val_f1_m: 0.7619 - val_precision_m: 0.8000 - val_recall_m: 0.7273 - val_auc: 0.9747\n",
      "Epoch 79/100\n",
      "3/3 [==============================] - 0s 54ms/step - loss: 0.0185 - f1_m: 0.9909 - precision_m: 0.9909 - recall_m: 0.9909 - auc: 0.9999 - val_loss: 0.1667 - val_f1_m: 0.7273 - val_precision_m: 0.7273 - val_recall_m: 0.7273 - val_auc: 0.9311\n",
      "Epoch 80/100\n",
      "3/3 [==============================] - 0s 55ms/step - loss: 0.0235 - f1_m: 0.9784 - precision_m: 0.9831 - recall_m: 0.9740 - auc: 0.9998 - val_loss: 0.1756 - val_f1_m: 0.7619 - val_precision_m: 0.8000 - val_recall_m: 0.7273 - val_auc: 0.9348\n",
      "Epoch 81/100\n",
      "3/3 [==============================] - 0s 53ms/step - loss: 0.0158 - f1_m: 0.9914 - precision_m: 1.0000 - recall_m: 0.9831 - auc: 1.0000 - val_loss: 0.1672 - val_f1_m: 0.7619 - val_precision_m: 0.8000 - val_recall_m: 0.7273 - val_auc: 0.9371\n",
      "Epoch 82/100\n",
      "3/3 [==============================] - 0s 55ms/step - loss: 0.0127 - f1_m: 1.0000 - precision_m: 1.0000 - recall_m: 1.0000 - auc: 1.0000 - val_loss: 0.1656 - val_f1_m: 0.8182 - val_precision_m: 0.8182 - val_recall_m: 0.8182 - val_auc: 0.9412\n",
      "Epoch 83/100\n",
      "3/3 [==============================] - 0s 53ms/step - loss: 0.0265 - f1_m: 0.9651 - precision_m: 0.9734 - recall_m: 0.9570 - auc: 0.9995 - val_loss: 0.1437 - val_f1_m: 0.8182 - val_precision_m: 0.8182 - val_recall_m: 0.8182 - val_auc: 0.9412\n",
      "Epoch 84/100\n",
      "3/3 [==============================] - 0s 58ms/step - loss: 0.0149 - f1_m: 0.9914 - precision_m: 1.0000 - recall_m: 0.9831 - auc: 1.0000 - val_loss: 0.1366 - val_f1_m: 0.8571 - val_precision_m: 0.9000 - val_recall_m: 0.8182 - val_auc: 0.9780\n",
      "Epoch 85/100\n",
      "3/3 [==============================] - 0s 55ms/step - loss: 0.0192 - f1_m: 0.9740 - precision_m: 0.9740 - recall_m: 0.9740 - auc: 0.9999 - val_loss: 0.1379 - val_f1_m: 0.8182 - val_precision_m: 0.8182 - val_recall_m: 0.8182 - val_auc: 0.9385\n",
      "Epoch 86/100\n",
      "3/3 [==============================] - 0s 55ms/step - loss: 0.0151 - f1_m: 1.0000 - precision_m: 1.0000 - recall_m: 1.0000 - auc: 1.0000 - val_loss: 0.1559 - val_f1_m: 0.7619 - val_precision_m: 0.8000 - val_recall_m: 0.7273 - val_auc: 0.9371\n",
      "Epoch 87/100\n",
      "3/3 [==============================] - 0s 53ms/step - loss: 0.0110 - f1_m: 0.9936 - precision_m: 0.9936 - recall_m: 0.9936 - auc: 1.0000 - val_loss: 0.1728 - val_f1_m: 0.7273 - val_precision_m: 0.7273 - val_recall_m: 0.7273 - val_auc: 0.8962\n",
      "Epoch 88/100\n",
      "3/3 [==============================] - 0s 54ms/step - loss: 0.0086 - f1_m: 1.0000 - precision_m: 1.0000 - recall_m: 1.0000 - auc: 1.0000 - val_loss: 0.1756 - val_f1_m: 0.7273 - val_precision_m: 0.7273 - val_recall_m: 0.7273 - val_auc: 0.8953\n",
      "Epoch 89/100\n",
      "3/3 [==============================] - 0s 55ms/step - loss: 0.0131 - f1_m: 0.9909 - precision_m: 0.9909 - recall_m: 0.9909 - auc: 1.0000 - val_loss: 0.1763 - val_f1_m: 0.7619 - val_precision_m: 0.8000 - val_recall_m: 0.7273 - val_auc: 0.8944\n",
      "Epoch 90/100\n",
      "3/3 [==============================] - 0s 54ms/step - loss: 0.0138 - f1_m: 1.0000 - precision_m: 1.0000 - recall_m: 1.0000 - auc: 1.0000 - val_loss: 0.1789 - val_f1_m: 0.7273 - val_precision_m: 0.7273 - val_recall_m: 0.7273 - val_auc: 0.8953\n",
      "Epoch 91/100\n",
      "3/3 [==============================] - 0s 57ms/step - loss: 0.0096 - f1_m: 1.0000 - precision_m: 1.0000 - recall_m: 1.0000 - auc: 1.0000 - val_loss: 0.1780 - val_f1_m: 0.7273 - val_precision_m: 0.7273 - val_recall_m: 0.7273 - val_auc: 0.8972\n",
      "Epoch 92/100\n",
      "3/3 [==============================] - 0s 57ms/step - loss: 0.0091 - f1_m: 1.0000 - precision_m: 1.0000 - recall_m: 1.0000 - auc: 1.0000 - val_loss: 0.1766 - val_f1_m: 0.7273 - val_precision_m: 0.7273 - val_recall_m: 0.7273 - val_auc: 0.8962\n",
      "Epoch 93/100\n",
      "3/3 [==============================] - 0s 58ms/step - loss: 0.0099 - f1_m: 0.9909 - precision_m: 0.9909 - recall_m: 0.9909 - auc: 1.0000 - val_loss: 0.1769 - val_f1_m: 0.8182 - val_precision_m: 0.8182 - val_recall_m: 0.8182 - val_auc: 0.8990\n",
      "Epoch 94/100\n",
      "3/3 [==============================] - 0s 59ms/step - loss: 0.0074 - f1_m: 1.0000 - precision_m: 1.0000 - recall_m: 1.0000 - auc: 1.0000 - val_loss: 0.1752 - val_f1_m: 0.8182 - val_precision_m: 0.8182 - val_recall_m: 0.8182 - val_auc: 0.8990\n",
      "Epoch 95/100\n",
      "3/3 [==============================] - 0s 55ms/step - loss: 0.0086 - f1_m: 1.0000 - precision_m: 1.0000 - recall_m: 1.0000 - auc: 1.0000 - val_loss: 0.1599 - val_f1_m: 0.8571 - val_precision_m: 0.9000 - val_recall_m: 0.8182 - val_auc: 0.9389\n",
      "Epoch 96/100\n"
     ]
    },
    {
     "name": "stdout",
     "output_type": "stream",
     "text": [
      "3/3 [==============================] - 0s 54ms/step - loss: 0.0127 - f1_m: 1.0000 - precision_m: 1.0000 - recall_m: 1.0000 - auc: 1.0000 - val_loss: 0.1544 - val_f1_m: 0.8182 - val_precision_m: 0.8182 - val_recall_m: 0.8182 - val_auc: 0.9775\n",
      "Epoch 97/100\n",
      "3/3 [==============================] - 0s 54ms/step - loss: 0.0123 - f1_m: 0.9933 - precision_m: 1.0000 - recall_m: 0.9872 - auc: 1.0000 - val_loss: 0.1609 - val_f1_m: 0.7273 - val_precision_m: 0.7273 - val_recall_m: 0.7273 - val_auc: 0.9752\n",
      "Epoch 98/100\n",
      "3/3 [==============================] - 0s 54ms/step - loss: 0.0163 - f1_m: 0.9845 - precision_m: 0.9845 - recall_m: 0.9845 - auc: 0.9999 - val_loss: 0.1495 - val_f1_m: 0.7273 - val_precision_m: 0.7273 - val_recall_m: 0.7273 - val_auc: 0.9761\n",
      "Epoch 99/100\n",
      "3/3 [==============================] - 0s 57ms/step - loss: 0.0103 - f1_m: 0.9967 - precision_m: 1.0000 - recall_m: 0.9936 - auc: 1.0000 - val_loss: 0.1339 - val_f1_m: 0.7273 - val_precision_m: 0.7273 - val_recall_m: 0.7273 - val_auc: 0.9798\n",
      "Epoch 100/100\n",
      "3/3 [==============================] - 0s 54ms/step - loss: 0.0143 - f1_m: 0.9707 - precision_m: 0.9740 - recall_m: 0.9675 - auc: 0.9999 - val_loss: 0.1252 - val_f1_m: 0.8571 - val_precision_m: 0.9000 - val_recall_m: 0.8182 - val_auc: 0.9830\n"
     ]
    },
    {
     "data": {
      "text/plain": [
       "<tensorflow.python.keras.callbacks.History at 0x7f247c122040>"
      ]
     },
     "execution_count": 21,
     "metadata": {},
     "output_type": "execute_result"
    }
   ],
   "source": [
    "Malware_model.fit(X_train, y_train, validation_data=(X_test, y_test), epochs=100,  class_weight=class_weights)"
   ]
  },
  {
   "cell_type": "code",
   "execution_count": 22,
   "id": "4471392c",
   "metadata": {},
   "outputs": [
    {
     "name": "stdout",
     "output_type": "stream",
     "text": [
      "1/1 [==============================] - 0s 20ms/step - loss: 0.1252 - f1_m: 0.8571 - precision_m: 0.9000 - recall_m: 0.8182 - auc: 0.9830\n"
     ]
    }
   ],
   "source": [
    "scores = Malware_model.evaluate(X_test, y_test)"
   ]
  },
  {
   "cell_type": "code",
   "execution_count": 23,
   "id": "af5d617f",
   "metadata": {},
   "outputs": [
    {
     "name": "stdout",
     "output_type": "stream",
     "text": [
      "1/1 [==============================] - 0s 19ms/step - loss: 0.1252 - f1_m: 0.8571 - precision_m: 0.9000 - recall_m: 0.8182 - auc: 0.9830\n"
     ]
    }
   ],
   "source": [
    "loss, accuracy, f1_score, precision, recall = Malware_model.evaluate(X_test, y_test)"
   ]
  },
  {
   "cell_type": "code",
   "execution_count": 24,
   "id": "dbcee16a",
   "metadata": {},
   "outputs": [
    {
     "name": "stdout",
     "output_type": "stream",
     "text": [
      "Final CNN accuracy:  0.8571427464485168\n"
     ]
    }
   ],
   "source": [
    "print('Final CNN accuracy: ', scores[1])"
   ]
  }
 ],
 "metadata": {
  "kernelspec": {
   "display_name": "Python 3 (ipykernel)",
   "language": "python",
   "name": "python3"
  },
  "language_info": {
   "codemirror_mode": {
    "name": "ipython",
    "version": 3
   },
   "file_extension": ".py",
   "mimetype": "text/x-python",
   "name": "python",
   "nbconvert_exporter": "python",
   "pygments_lexer": "ipython3",
   "version": "3.9.16"
  }
 },
 "nbformat": 4,
 "nbformat_minor": 5
}
