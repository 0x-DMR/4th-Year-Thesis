{
 "cells": [
  {
   "cell_type": "code",
   "execution_count": 1,
   "id": "e08d24dc",
   "metadata": {},
   "outputs": [],
   "source": [
    "import os\n",
    "os.environ['TF_XLA_FLAGS'] = '--tf_xla_enable_xla_devices'\n",
    "path_root = '/home/dmr/DatasetForExperiments/adware'"
   ]
  },
  {
   "cell_type": "code",
   "execution_count": 2,
   "id": "6a45dad7",
   "metadata": {},
   "outputs": [
    {
     "name": "stderr",
     "output_type": "stream",
     "text": [
      "2023-05-02 11:55:11.199532: I tensorflow/stream_executor/platform/default/dso_loader.cc:49] Successfully opened dynamic library libcudart.so.10.1\n"
     ]
    },
    {
     "name": "stdout",
     "output_type": "stream",
     "text": [
      "Found 107 images belonging to 10 classes.\n"
     ]
    }
   ],
   "source": [
    "from keras.preprocessing.image import ImageDataGenerator\n",
    "batches = ImageDataGenerator().flow_from_directory(directory=path_root, target_size=(64,64), batch_size=10000)"
   ]
  },
  {
   "cell_type": "code",
   "execution_count": 3,
   "id": "728b8be6",
   "metadata": {},
   "outputs": [
    {
     "data": {
      "text/plain": [
       "(107, 10)"
      ]
     },
     "execution_count": 3,
     "metadata": {},
     "output_type": "execute_result"
    }
   ],
   "source": [
    "# Print information about Images \n",
    "imgs, labels = next(batches)\n",
    "imgs.shape # Images with width x length x depth\n",
    "labels.shape # Lablels with batch_size, number of classes"
   ]
  },
  {
   "cell_type": "code",
   "execution_count": 4,
   "id": "57424da2",
   "metadata": {},
   "outputs": [],
   "source": [
    "import numpy as np\n",
    "import scipy as sp\n",
    "from PIL import Image\n",
    "\n",
    "# Train and Test \n",
    "from sklearn.model_selection import train_test_split\n",
    "X_train, X_test, y_train, y_test = train_test_split(imgs/255.,labels, test_size=0.3)"
   ]
  },
  {
   "cell_type": "code",
   "execution_count": 5,
   "id": "3590200f",
   "metadata": {},
   "outputs": [
    {
     "data": {
      "text/plain": [
       "(74, 64, 64, 3)"
      ]
     },
     "execution_count": 5,
     "metadata": {},
     "output_type": "execute_result"
    }
   ],
   "source": [
    "X_train.shape"
   ]
  },
  {
   "cell_type": "code",
   "execution_count": 6,
   "id": "3db9230c",
   "metadata": {},
   "outputs": [
    {
     "data": {
      "text/plain": [
       "(33, 64, 64, 3)"
      ]
     },
     "execution_count": 6,
     "metadata": {},
     "output_type": "execute_result"
    }
   ],
   "source": [
    "X_test.shape"
   ]
  },
  {
   "cell_type": "code",
   "execution_count": 7,
   "id": "2b6ca85a",
   "metadata": {},
   "outputs": [
    {
     "data": {
      "text/plain": [
       "(74, 10)"
      ]
     },
     "execution_count": 7,
     "metadata": {},
     "output_type": "execute_result"
    }
   ],
   "source": [
    "y_train.shape"
   ]
  },
  {
   "cell_type": "code",
   "execution_count": 8,
   "id": "f5f1dec9",
   "metadata": {},
   "outputs": [
    {
     "data": {
      "text/plain": [
       "(33, 10)"
      ]
     },
     "execution_count": 8,
     "metadata": {},
     "output_type": "execute_result"
    }
   ],
   "source": [
    "y_test.shape"
   ]
  },
  {
   "cell_type": "code",
   "execution_count": 9,
   "id": "fde8f125",
   "metadata": {},
   "outputs": [],
   "source": [
    "# CNN Model"
   ]
  },
  {
   "cell_type": "code",
   "execution_count": 10,
   "id": "0f3529a9",
   "metadata": {},
   "outputs": [],
   "source": [
    "import keras\n",
    "import tensorflow\n",
    "from keras.models import Sequential, Input, Model\n",
    "from keras.layers import Dense, Dropout, Flatten\n",
    "from keras.layers import Conv2D, MaxPooling2D\n",
    "from tensorflow.keras.layers import BatchNormalization\n",
    "from tensorflow.keras.metrics import AUC"
   ]
  },
  {
   "cell_type": "code",
   "execution_count": 11,
   "id": "0401eabd",
   "metadata": {},
   "outputs": [],
   "source": [
    "num_classes = 10"
   ]
  },
  {
   "cell_type": "code",
   "execution_count": 12,
   "id": "b3593ed6",
   "metadata": {},
   "outputs": [],
   "source": [
    "def malware_model():\n",
    "    Malware_model = Sequential()\n",
    "    Malware_model.add(Conv2D(30, kernel_size=(3, 3),\n",
    "                     activation='relu',\n",
    "                     input_shape=(64,64,3)))\n",
    "\n",
    "    Malware_model.add(MaxPooling2D(pool_size=(2, 2)))\n",
    "    Malware_model.add(Conv2D(15, (3, 3), activation='relu'))\n",
    "    Malware_model.add(MaxPooling2D(pool_size=(2, 2)))\n",
    "    Malware_model.add(Dropout(0.25))\n",
    "    Malware_model.add(Flatten())\n",
    "    Malware_model.add(Dense(128, activation='relu'))\n",
    "    Malware_model.add(Dropout(0.5))\n",
    "    Malware_model.add(Dense(50, activation='relu'))\n",
    "    Malware_model.add(Dense(num_classes, activation='softmax'))\n",
    "    Malware_model.compile(loss='categorical_crossentropy', optimizer = 'adam', metrics=['accuracy'])\n",
    "    #Malware_model.compile(loss='sparse_categorical_cross_entropy', optimizer = 'adam', metrics=['accuracy'])\n",
    "    return Malware_model\n",
    "\n",
    "\n",
    "    # sparse_categorical_cross_entropy\n",
    "    # categorical_crossentropy\n",
    "    "
   ]
  },
  {
   "cell_type": "code",
   "execution_count": 13,
   "id": "9a4ebf7d",
   "metadata": {},
   "outputs": [],
   "source": [
    "from keras import backend as K\n",
    "\n",
    "def recall_m(y_test, y_pred):\n",
    "    true_positives = K.sum(K.round(K.clip(y_test * y_pred, 0, 1)))\n",
    "    possible_positives = K.sum(K.round(K.clip(y_test, 0, 1)))\n",
    "    recall = true_positives / (possible_positives + K.epsilon())\n",
    "    return recall\n",
    "\n",
    "def precision_m(y_test, y_pred):\n",
    "    true_positives = K.sum(K.round(K.clip(y_test * y_pred, 0, 1)))\n",
    "    predicted_positives = K.sum(K.round(K.clip(y_pred, 0, 1)))\n",
    "    precision = true_positives / (predicted_positives + K.epsilon())\n",
    "    return precision\n",
    "\n",
    "def f1_m(y_test, y_pred):\n",
    "    precision = precision_m(y_test, y_pred)\n",
    "    recall = recall_m(y_test, y_pred)\n",
    "    return 2*((precision*recall)/(precision+recall+K.epsilon()))"
   ]
  },
  {
   "cell_type": "code",
   "execution_count": 14,
   "id": "c1e2abbc",
   "metadata": {},
   "outputs": [
    {
     "name": "stderr",
     "output_type": "stream",
     "text": [
      "2023-05-02 11:55:15.060738: I tensorflow/stream_executor/platform/default/dso_loader.cc:49] Successfully opened dynamic library libcuda.so.1\n",
      "2023-05-02 11:55:15.326316: E tensorflow/stream_executor/cuda/cuda_driver.cc:328] failed call to cuInit: CUDA_ERROR_NO_DEVICE: no CUDA-capable device is detected\n",
      "2023-05-02 11:55:15.326340: I tensorflow/stream_executor/cuda/cuda_diagnostics.cc:156] kernel driver does not appear to be running on this host (pop-os): /proc/driver/nvidia/version does not exist\n",
      "2023-05-02 11:55:15.326769: I tensorflow/core/platform/cpu_feature_guard.cc:142] This TensorFlow binary is optimized with oneAPI Deep Neural Network Library (oneDNN) to use the following CPU instructions in performance-critical operations:  SSE4.1 SSE4.2 AVX AVX2 FMA\n",
      "To enable them in other operations, rebuild TensorFlow with the appropriate compiler flags.\n",
      "2023-05-02 11:55:15.331956: I tensorflow/core/platform/profile_utils/cpu_utils.cc:112] CPU Frequency: 1999965000 Hz\n",
      "2023-05-02 11:55:15.332279: I tensorflow/compiler/xla/service/service.cc:168] XLA service 0x26441f0 initialized for platform Host (this does not guarantee that XLA will be used). Devices:\n",
      "2023-05-02 11:55:15.332297: I tensorflow/compiler/xla/service/service.cc:176]   StreamExecutor device (0): Host, Default Version\n"
     ]
    }
   ],
   "source": [
    "Malware_model = malware_model()"
   ]
  },
  {
   "cell_type": "code",
   "execution_count": 15,
   "id": "bcb1d474",
   "metadata": {},
   "outputs": [
    {
     "name": "stdout",
     "output_type": "stream",
     "text": [
      "Model: \"sequential\"\n",
      "_________________________________________________________________\n",
      "Layer (type)                 Output Shape              Param #   \n",
      "=================================================================\n",
      "conv2d (Conv2D)              (None, 62, 62, 30)        840       \n",
      "_________________________________________________________________\n",
      "max_pooling2d (MaxPooling2D) (None, 31, 31, 30)        0         \n",
      "_________________________________________________________________\n",
      "conv2d_1 (Conv2D)            (None, 29, 29, 15)        4065      \n",
      "_________________________________________________________________\n",
      "max_pooling2d_1 (MaxPooling2 (None, 14, 14, 15)        0         \n",
      "_________________________________________________________________\n",
      "dropout (Dropout)            (None, 14, 14, 15)        0         \n",
      "_________________________________________________________________\n",
      "flatten (Flatten)            (None, 2940)              0         \n",
      "_________________________________________________________________\n",
      "dense (Dense)                (None, 128)               376448    \n",
      "_________________________________________________________________\n",
      "dropout_1 (Dropout)          (None, 128)               0         \n",
      "_________________________________________________________________\n",
      "dense_1 (Dense)              (None, 50)                6450      \n",
      "_________________________________________________________________\n",
      "dense_2 (Dense)              (None, 10)                510       \n",
      "=================================================================\n",
      "Total params: 388,313\n",
      "Trainable params: 388,313\n",
      "Non-trainable params: 0\n",
      "_________________________________________________________________\n"
     ]
    }
   ],
   "source": [
    "Malware_model.summary()"
   ]
  },
  {
   "cell_type": "code",
   "execution_count": 16,
   "id": "9e8d69b6",
   "metadata": {},
   "outputs": [
    {
     "data": {
      "text/plain": [
       "(74, 10)"
      ]
     },
     "execution_count": 16,
     "metadata": {},
     "output_type": "execute_result"
    }
   ],
   "source": [
    "y_train.shape"
   ]
  },
  {
   "cell_type": "code",
   "execution_count": 17,
   "id": "6711d2f9",
   "metadata": {},
   "outputs": [],
   "source": [
    "y_train_new = np.argmax(y_train, axis=1)"
   ]
  },
  {
   "cell_type": "code",
   "execution_count": 18,
   "id": "838a6a56",
   "metadata": {},
   "outputs": [
    {
     "data": {
      "text/plain": [
       "array([7, 9, 3, 3, 5, 0, 1, 9, 9, 6, 4, 3, 3, 7, 2, 4, 0, 9, 7, 3, 2, 2,\n",
       "       5, 4, 5, 4, 1, 4, 5, 8, 6, 2, 8, 3, 5, 5, 6, 6, 4, 7, 3, 2, 3, 7,\n",
       "       7, 3, 8, 7, 9, 6, 0, 4, 8, 7, 2, 6, 6, 1, 2, 2, 3, 5, 0, 2, 2, 3,\n",
       "       4, 0, 4, 7, 4, 3, 0, 4])"
      ]
     },
     "execution_count": 18,
     "metadata": {},
     "output_type": "execute_result"
    }
   ],
   "source": [
    "y_train_new"
   ]
  },
  {
   "cell_type": "code",
   "execution_count": 19,
   "id": "e5fccc6d",
   "metadata": {},
   "outputs": [],
   "source": [
    "from sklearn.utils import class_weight\n",
    "class_weights = class_weight.compute_class_weight(class_weight = 'balanced',\n",
    "                                                 classes = np.unique(y_train_new),\n",
    "                                                 y = y_train_new)\n",
    "\n",
    "class_weights = {l:c for l,c in zip(np.unique(y_train_new), class_weights)}"
   ]
  },
  {
   "cell_type": "code",
   "execution_count": 20,
   "id": "a62f070a",
   "metadata": {},
   "outputs": [],
   "source": [
    "Malware_model.compile(optimizer='adam', loss='binary_crossentropy', metrics=[f1_m,precision_m, recall_m,AUC()])"
   ]
  },
  {
   "cell_type": "code",
   "execution_count": 21,
   "id": "f8c8523a",
   "metadata": {
    "scrolled": false
   },
   "outputs": [
    {
     "name": "stderr",
     "output_type": "stream",
     "text": [
      "2023-05-02 11:55:15.525999: I tensorflow/compiler/mlir/mlir_graph_optimization_pass.cc:116] None of the MLIR optimization passes are enabled (registered 2)\n"
     ]
    },
    {
     "name": "stdout",
     "output_type": "stream",
     "text": [
      "Epoch 1/50\n",
      "3/3 [==============================] - 1s 260ms/step - loss: 0.6493 - f1_m: 0.0000e+00 - precision_m: 0.0000e+00 - recall_m: 0.0000e+00 - auc: 0.6082 - val_loss: 0.4834 - val_f1_m: 0.0000e+00 - val_precision_m: 0.0000e+00 - val_recall_m: 0.0000e+00 - val_auc: 0.4617\n",
      "Epoch 2/50\n",
      "3/3 [==============================] - 0s 49ms/step - loss: 0.4955 - f1_m: 0.0507 - precision_m: 0.0833 - recall_m: 0.0365 - auc: 0.6124 - val_loss: 0.3885 - val_f1_m: 0.0286 - val_precision_m: 0.1667 - val_recall_m: 0.0156 - val_auc: 0.4517\n",
      "Epoch 3/50\n",
      "3/3 [==============================] - 0s 50ms/step - loss: 0.4359 - f1_m: 0.1015 - precision_m: 0.2205 - recall_m: 0.0687 - auc: 0.5560 - val_loss: 0.3505 - val_f1_m: 0.0000e+00 - val_precision_m: 0.0000e+00 - val_recall_m: 0.0000e+00 - val_auc: 0.4650\n",
      "Epoch 4/50\n",
      "3/3 [==============================] - 0s 49ms/step - loss: 0.3796 - f1_m: 0.0310 - precision_m: 0.1806 - recall_m: 0.0169 - auc: 0.5855 - val_loss: 0.3412 - val_f1_m: 0.0000e+00 - val_precision_m: 0.0000e+00 - val_recall_m: 0.0000e+00 - val_auc: 0.4728\n",
      "Epoch 5/50\n",
      "3/3 [==============================] - 0s 50ms/step - loss: 0.3750 - f1_m: 0.0000e+00 - precision_m: 0.0000e+00 - recall_m: 0.0000e+00 - auc: 0.5526 - val_loss: 0.3373 - val_f1_m: 0.0000e+00 - val_precision_m: 0.0000e+00 - val_recall_m: 0.0000e+00 - val_auc: 0.4742\n",
      "Epoch 6/50\n",
      "3/3 [==============================] - 0s 55ms/step - loss: 0.3650 - f1_m: 0.0000e+00 - precision_m: 0.0000e+00 - recall_m: 0.0000e+00 - auc: 0.6038 - val_loss: 0.3373 - val_f1_m: 0.0000e+00 - val_precision_m: 0.0000e+00 - val_recall_m: 0.0000e+00 - val_auc: 0.4976\n",
      "Epoch 7/50\n",
      "3/3 [==============================] - 0s 58ms/step - loss: 0.3517 - f1_m: 0.0177 - precision_m: 0.2917 - recall_m: 0.0091 - auc: 0.5768 - val_loss: 0.3280 - val_f1_m: 0.0000e+00 - val_precision_m: 0.0000e+00 - val_recall_m: 0.0000e+00 - val_auc: 0.5482\n",
      "Epoch 8/50\n",
      "3/3 [==============================] - 0s 62ms/step - loss: 0.3732 - f1_m: 0.0000e+00 - precision_m: 0.0000e+00 - recall_m: 0.0000e+00 - auc: 0.4966 - val_loss: 0.3293 - val_f1_m: 0.0000e+00 - val_precision_m: 0.0000e+00 - val_recall_m: 0.0000e+00 - val_auc: 0.5886\n",
      "Epoch 9/50\n",
      "3/3 [==============================] - 0s 58ms/step - loss: 0.3595 - f1_m: 0.0000e+00 - precision_m: 0.0000e+00 - recall_m: 0.0000e+00 - auc: 0.5802 - val_loss: 0.3273 - val_f1_m: 0.0000e+00 - val_precision_m: 0.0000e+00 - val_recall_m: 0.0000e+00 - val_auc: 0.5932\n",
      "Epoch 10/50\n",
      "3/3 [==============================] - 0s 54ms/step - loss: 0.3365 - f1_m: 0.0000e+00 - precision_m: 0.0000e+00 - recall_m: 0.0000e+00 - auc: 0.6197 - val_loss: 0.3213 - val_f1_m: 0.0000e+00 - val_precision_m: 0.0000e+00 - val_recall_m: 0.0000e+00 - val_auc: 0.6232\n",
      "Epoch 11/50\n",
      "3/3 [==============================] - 0s 49ms/step - loss: 0.3386 - f1_m: 0.0495 - precision_m: 0.6389 - recall_m: 0.0260 - auc: 0.5920 - val_loss: 0.3198 - val_f1_m: 0.0000e+00 - val_precision_m: 0.0000e+00 - val_recall_m: 0.0000e+00 - val_auc: 0.6354\n",
      "Epoch 12/50\n",
      "3/3 [==============================] - 0s 53ms/step - loss: 0.3283 - f1_m: 0.0000e+00 - precision_m: 0.0000e+00 - recall_m: 0.0000e+00 - auc: 0.6304 - val_loss: 0.3188 - val_f1_m: 0.0000e+00 - val_precision_m: 0.0000e+00 - val_recall_m: 0.0000e+00 - val_auc: 0.6593\n",
      "Epoch 13/50\n",
      "3/3 [==============================] - 0s 57ms/step - loss: 0.3231 - f1_m: 0.0000e+00 - precision_m: 0.0000e+00 - recall_m: 0.0000e+00 - auc: 0.6903 - val_loss: 0.3184 - val_f1_m: 0.0000e+00 - val_precision_m: 0.0000e+00 - val_recall_m: 0.0000e+00 - val_auc: 0.6795\n",
      "Epoch 14/50\n",
      "3/3 [==============================] - 0s 71ms/step - loss: 0.3303 - f1_m: 0.0000e+00 - precision_m: 0.0000e+00 - recall_m: 0.0000e+00 - auc: 0.6833 - val_loss: 0.3105 - val_f1_m: 0.0000e+00 - val_precision_m: 0.0000e+00 - val_recall_m: 0.0000e+00 - val_auc: 0.7194\n",
      "Epoch 15/50\n",
      "3/3 [==============================] - 0s 62ms/step - loss: 0.3116 - f1_m: 0.0000e+00 - precision_m: 0.0000e+00 - recall_m: 0.0000e+00 - auc: 0.6884 - val_loss: 0.3087 - val_f1_m: 0.0000e+00 - val_precision_m: 0.0000e+00 - val_recall_m: 0.0000e+00 - val_auc: 0.7546\n",
      "Epoch 16/50\n",
      "3/3 [==============================] - 0s 63ms/step - loss: 0.3144 - f1_m: 0.0000e+00 - precision_m: 0.0000e+00 - recall_m: 0.0000e+00 - auc: 0.6720 - val_loss: 0.3049 - val_f1_m: 0.0000e+00 - val_precision_m: 0.0000e+00 - val_recall_m: 0.0000e+00 - val_auc: 0.7565\n",
      "Epoch 17/50\n",
      "3/3 [==============================] - 0s 60ms/step - loss: 0.2893 - f1_m: 0.0000e+00 - precision_m: 0.0000e+00 - recall_m: 0.0000e+00 - auc: 0.7320 - val_loss: 0.3050 - val_f1_m: 0.0000e+00 - val_precision_m: 0.0000e+00 - val_recall_m: 0.0000e+00 - val_auc: 0.7601\n",
      "Epoch 18/50\n",
      "3/3 [==============================] - 0s 55ms/step - loss: 0.3037 - f1_m: 0.0000e+00 - precision_m: 0.0000e+00 - recall_m: 0.0000e+00 - auc: 0.7070 - val_loss: 0.3005 - val_f1_m: 0.0000e+00 - val_precision_m: 0.0000e+00 - val_recall_m: 0.0000e+00 - val_auc: 0.7704\n",
      "Epoch 19/50\n",
      "3/3 [==============================] - 0s 56ms/step - loss: 0.2740 - f1_m: 0.0000e+00 - precision_m: 0.0000e+00 - recall_m: 0.0000e+00 - auc: 0.8002 - val_loss: 0.2954 - val_f1_m: 0.0000e+00 - val_precision_m: 0.0000e+00 - val_recall_m: 0.0000e+00 - val_auc: 0.7722\n",
      "Epoch 20/50\n",
      "3/3 [==============================] - 0s 57ms/step - loss: 0.2873 - f1_m: 0.0000e+00 - precision_m: 0.0000e+00 - recall_m: 0.0000e+00 - auc: 0.7760 - val_loss: 0.2914 - val_f1_m: 0.0000e+00 - val_precision_m: 0.0000e+00 - val_recall_m: 0.0000e+00 - val_auc: 0.7729\n",
      "Epoch 21/50\n",
      "3/3 [==============================] - 0s 66ms/step - loss: 0.2816 - f1_m: 0.0646 - precision_m: 0.4583 - recall_m: 0.0349 - auc: 0.8216 - val_loss: 0.2899 - val_f1_m: 0.0000e+00 - val_precision_m: 0.0000e+00 - val_recall_m: 0.0000e+00 - val_auc: 0.7800\n",
      "Epoch 22/50\n",
      "3/3 [==============================] - 0s 61ms/step - loss: 0.2870 - f1_m: 0.0328 - precision_m: 0.5417 - recall_m: 0.0169 - auc: 0.7843 - val_loss: 0.2848 - val_f1_m: 0.0000e+00 - val_precision_m: 0.0000e+00 - val_recall_m: 0.0000e+00 - val_auc: 0.7964\n",
      "Epoch 23/50\n",
      "3/3 [==============================] - 0s 55ms/step - loss: 0.2520 - f1_m: 0.1269 - precision_m: 0.4583 - recall_m: 0.0773 - auc: 0.8254 - val_loss: 0.2820 - val_f1_m: 0.0303 - val_precision_m: 0.5000 - val_recall_m: 0.0156 - val_auc: 0.8027\n",
      "Epoch 24/50\n",
      "3/3 [==============================] - 0s 54ms/step - loss: 0.2567 - f1_m: 0.1351 - precision_m: 0.8194 - recall_m: 0.0763 - auc: 0.8603 - val_loss: 0.2773 - val_f1_m: 0.0857 - val_precision_m: 0.5000 - val_recall_m: 0.0469 - val_auc: 0.7943\n",
      "Epoch 25/50\n",
      "3/3 [==============================] - 0s 52ms/step - loss: 0.2427 - f1_m: 0.1536 - precision_m: 0.6708 - recall_m: 0.0870 - auc: 0.8757 - val_loss: 0.2684 - val_f1_m: 0.6351 - val_precision_m: 1.0000 - val_recall_m: 0.5781 - val_auc: 0.8230\n",
      "Epoch 26/50\n",
      "3/3 [==============================] - 0s 50ms/step - loss: 0.2362 - f1_m: 0.2802 - precision_m: 1.0000 - recall_m: 0.1638 - auc: 0.8912 - val_loss: 0.2639 - val_f1_m: 0.6351 - val_precision_m: 1.0000 - val_recall_m: 0.5781 - val_auc: 0.8124\n",
      "Epoch 27/50\n",
      "3/3 [==============================] - 0s 57ms/step - loss: 0.2340 - f1_m: 0.2597 - precision_m: 0.6104 - recall_m: 0.1654 - auc: 0.8603 - val_loss: 0.2642 - val_f1_m: 0.6579 - val_precision_m: 1.0000 - val_recall_m: 0.5937 - val_auc: 0.8101\n",
      "Epoch 28/50\n",
      "3/3 [==============================] - 0s 62ms/step - loss: 0.2098 - f1_m: 0.4318 - precision_m: 0.8371 - recall_m: 0.2927 - auc: 0.9262 - val_loss: 0.2703 - val_f1_m: 0.1111 - val_precision_m: 0.5000 - val_recall_m: 0.0625 - val_auc: 0.8013\n",
      "Epoch 29/50\n",
      "3/3 [==============================] - 0s 55ms/step - loss: 0.2118 - f1_m: 0.4186 - precision_m: 0.7609 - recall_m: 0.2951 - auc: 0.9143 - val_loss: 0.2697 - val_f1_m: 0.6351 - val_precision_m: 1.0000 - val_recall_m: 0.5781 - val_auc: 0.8087\n",
      "Epoch 30/50\n",
      "3/3 [==============================] - 0s 48ms/step - loss: 0.2128 - f1_m: 0.4194 - precision_m: 0.8000 - recall_m: 0.2906 - auc: 0.9163 - val_loss: 0.2635 - val_f1_m: 0.6579 - val_precision_m: 1.0000 - val_recall_m: 0.5937 - val_auc: 0.8177\n",
      "Epoch 31/50\n",
      "3/3 [==============================] - 0s 49ms/step - loss: 0.1916 - f1_m: 0.3951 - precision_m: 0.6847 - recall_m: 0.2786 - auc: 0.9339 - val_loss: 0.2618 - val_f1_m: 0.6579 - val_precision_m: 1.0000 - val_recall_m: 0.5937 - val_auc: 0.8207\n"
     ]
    },
    {
     "name": "stdout",
     "output_type": "stream",
     "text": [
      "Epoch 32/50\n",
      "3/3 [==============================] - 0s 56ms/step - loss: 0.1969 - f1_m: 0.4324 - precision_m: 0.7753 - recall_m: 0.3016 - auc: 0.9308 - val_loss: 0.2630 - val_f1_m: 0.6579 - val_precision_m: 1.0000 - val_recall_m: 0.5937 - val_auc: 0.8203\n",
      "Epoch 33/50\n",
      "3/3 [==============================] - 0s 51ms/step - loss: 0.1685 - f1_m: 0.5616 - precision_m: 0.8839 - recall_m: 0.4138 - auc: 0.9548 - val_loss: 0.2695 - val_f1_m: 0.6579 - val_precision_m: 1.0000 - val_recall_m: 0.5937 - val_auc: 0.8156\n",
      "Epoch 34/50\n",
      "3/3 [==============================] - 0s 52ms/step - loss: 0.1911 - f1_m: 0.5185 - precision_m: 0.8718 - recall_m: 0.3698 - auc: 0.9550 - val_loss: 0.2551 - val_f1_m: 0.6750 - val_precision_m: 0.9375 - val_recall_m: 0.6094 - val_auc: 0.8358\n",
      "Epoch 35/50\n",
      "3/3 [==============================] - 0s 47ms/step - loss: 0.1710 - f1_m: 0.6751 - precision_m: 0.9232 - recall_m: 0.5323 - auc: 0.9636 - val_loss: 0.2549 - val_f1_m: 0.6628 - val_precision_m: 0.8182 - val_recall_m: 0.6094 - val_auc: 0.8420\n",
      "Epoch 36/50\n",
      "3/3 [==============================] - 0s 48ms/step - loss: 0.1509 - f1_m: 0.6189 - precision_m: 0.8637 - recall_m: 0.4888 - auc: 0.9612 - val_loss: 0.2693 - val_f1_m: 0.6522 - val_precision_m: 0.7500 - val_recall_m: 0.6094 - val_auc: 0.8323\n",
      "Epoch 37/50\n",
      "3/3 [==============================] - 0s 50ms/step - loss: 0.1462 - f1_m: 0.6138 - precision_m: 0.7632 - recall_m: 0.5167 - auc: 0.9682 - val_loss: 0.2599 - val_f1_m: 0.6522 - val_precision_m: 0.7500 - val_recall_m: 0.6094 - val_auc: 0.8228\n",
      "Epoch 38/50\n",
      "3/3 [==============================] - 0s 48ms/step - loss: 0.1440 - f1_m: 0.6603 - precision_m: 0.8618 - recall_m: 0.5352 - auc: 0.9750 - val_loss: 0.2629 - val_f1_m: 0.6458 - val_precision_m: 0.7187 - val_recall_m: 0.6094 - val_auc: 0.8152\n",
      "Epoch 39/50\n",
      "3/3 [==============================] - 0s 50ms/step - loss: 0.1315 - f1_m: 0.6311 - precision_m: 0.8288 - recall_m: 0.5120 - auc: 0.9804 - val_loss: 0.2746 - val_f1_m: 0.6429 - val_precision_m: 0.7059 - val_recall_m: 0.6094 - val_auc: 0.8189\n",
      "Epoch 40/50\n",
      "3/3 [==============================] - 0s 52ms/step - loss: 0.1407 - f1_m: 0.6710 - precision_m: 0.7706 - recall_m: 0.5961 - auc: 0.9592 - val_loss: 0.2688 - val_f1_m: 0.6489 - val_precision_m: 0.7333 - val_recall_m: 0.6094 - val_auc: 0.8292\n",
      "Epoch 41/50\n",
      "3/3 [==============================] - 0s 50ms/step - loss: 0.1299 - f1_m: 0.7668 - precision_m: 0.9130 - recall_m: 0.6635 - auc: 0.9806 - val_loss: 0.2565 - val_f1_m: 0.6739 - val_precision_m: 0.7857 - val_recall_m: 0.6250 - val_auc: 0.8377\n",
      "Epoch 42/50\n",
      "3/3 [==============================] - 0s 50ms/step - loss: 0.1211 - f1_m: 0.6565 - precision_m: 0.8090 - recall_m: 0.5547 - auc: 0.9792 - val_loss: 0.2564 - val_f1_m: 0.6458 - val_precision_m: 0.7187 - val_recall_m: 0.6094 - val_auc: 0.8381\n",
      "Epoch 43/50\n",
      "3/3 [==============================] - 0s 48ms/step - loss: 0.1066 - f1_m: 0.8017 - precision_m: 0.9159 - recall_m: 0.7143 - auc: 0.9887 - val_loss: 0.2812 - val_f1_m: 0.6429 - val_precision_m: 0.7059 - val_recall_m: 0.6094 - val_auc: 0.8130\n",
      "Epoch 44/50\n",
      "3/3 [==============================] - 0s 48ms/step - loss: 0.1078 - f1_m: 0.7470 - precision_m: 0.8418 - recall_m: 0.6747 - auc: 0.9902 - val_loss: 0.2879 - val_f1_m: 0.6400 - val_precision_m: 0.6944 - val_recall_m: 0.6094 - val_auc: 0.8035\n",
      "Epoch 45/50\n",
      "3/3 [==============================] - 0s 55ms/step - loss: 0.0940 - f1_m: 0.7746 - precision_m: 0.8606 - recall_m: 0.7049 - auc: 0.9870 - val_loss: 0.2887 - val_f1_m: 0.6429 - val_precision_m: 0.7059 - val_recall_m: 0.6094 - val_auc: 0.8056\n",
      "Epoch 46/50\n",
      "3/3 [==============================] - 0s 48ms/step - loss: 0.1041 - f1_m: 0.8185 - precision_m: 0.8929 - recall_m: 0.7586 - auc: 0.9858 - val_loss: 0.2886 - val_f1_m: 0.6400 - val_precision_m: 0.6944 - val_recall_m: 0.6094 - val_auc: 0.8078\n",
      "Epoch 47/50\n",
      "3/3 [==============================] - 0s 47ms/step - loss: 0.0877 - f1_m: 0.8009 - precision_m: 0.8519 - recall_m: 0.7586 - auc: 0.9886 - val_loss: 0.2842 - val_f1_m: 0.6373 - val_precision_m: 0.6842 - val_recall_m: 0.6094 - val_auc: 0.8061\n",
      "Epoch 48/50\n",
      "3/3 [==============================] - 0s 47ms/step - loss: 0.0979 - f1_m: 0.7905 - precision_m: 0.8742 - recall_m: 0.7242 - auc: 0.9873 - val_loss: 0.2986 - val_f1_m: 0.6373 - val_precision_m: 0.6842 - val_recall_m: 0.6094 - val_auc: 0.7863\n",
      "Epoch 49/50\n",
      "3/3 [==============================] - 0s 47ms/step - loss: 0.1034 - f1_m: 0.8080 - precision_m: 0.8581 - recall_m: 0.7664 - auc: 0.9829 - val_loss: 0.2979 - val_f1_m: 0.6400 - val_precision_m: 0.6944 - val_recall_m: 0.6094 - val_auc: 0.7949\n",
      "Epoch 50/50\n",
      "3/3 [==============================] - 0s 52ms/step - loss: 0.0790 - f1_m: 0.8855 - precision_m: 0.9412 - recall_m: 0.8362 - auc: 0.9937 - val_loss: 0.2920 - val_f1_m: 0.6373 - val_precision_m: 0.6842 - val_recall_m: 0.6094 - val_auc: 0.8169\n"
     ]
    },
    {
     "data": {
      "text/plain": [
       "<tensorflow.python.keras.callbacks.History at 0x7f34546cf1f0>"
      ]
     },
     "execution_count": 21,
     "metadata": {},
     "output_type": "execute_result"
    }
   ],
   "source": [
    "Malware_model.fit(X_train, y_train, validation_data=(X_test, y_test), epochs=50,  class_weight=class_weights)\n",
    "#Malware_model.add(GlobalAveragePooling2D())"
   ]
  },
  {
   "cell_type": "code",
   "execution_count": 22,
   "id": "4471392c",
   "metadata": {},
   "outputs": [
    {
     "name": "stdout",
     "output_type": "stream",
     "text": [
      "2/2 [==============================] - 0s 3ms/step - loss: 0.2920 - f1_m: 0.6373 - precision_m: 0.6842 - recall_m: 0.6094 - auc: 0.8169\n"
     ]
    }
   ],
   "source": [
    "scores = Malware_model.evaluate(X_test, y_test)"
   ]
  },
  {
   "cell_type": "code",
   "execution_count": 23,
   "id": "af5d617f",
   "metadata": {},
   "outputs": [
    {
     "name": "stdout",
     "output_type": "stream",
     "text": [
      "2/2 [==============================] - 0s 9ms/step - loss: 0.2920 - f1_m: 0.6373 - precision_m: 0.6842 - recall_m: 0.6094 - auc: 0.8169\n"
     ]
    }
   ],
   "source": [
    "loss, accuracy, f1_score, precision, recall = Malware_model.evaluate(X_test, y_test)"
   ]
  },
  {
   "cell_type": "code",
   "execution_count": 24,
   "id": "d25483c9",
   "metadata": {},
   "outputs": [
    {
     "name": "stdout",
     "output_type": "stream",
     "text": [
      "Final CNN accuracy:  0.6372547745704651\n"
     ]
    }
   ],
   "source": [
    "print('Final CNN accuracy: ', scores[1])"
   ]
  },
  {
   "cell_type": "code",
   "execution_count": null,
   "id": "cddcf3ef",
   "metadata": {},
   "outputs": [],
   "source": []
  },
  {
   "cell_type": "code",
   "execution_count": null,
   "id": "15015936",
   "metadata": {},
   "outputs": [],
   "source": []
  },
  {
   "cell_type": "code",
   "execution_count": null,
   "id": "a9abcec2",
   "metadata": {},
   "outputs": [],
   "source": []
  },
  {
   "cell_type": "code",
   "execution_count": null,
   "id": "c9ebee7f",
   "metadata": {},
   "outputs": [],
   "source": []
  }
 ],
 "metadata": {
  "kernelspec": {
   "display_name": "Python 3 (ipykernel)",
   "language": "python",
   "name": "python3"
  },
  "language_info": {
   "codemirror_mode": {
    "name": "ipython",
    "version": 3
   },
   "file_extension": ".py",
   "mimetype": "text/x-python",
   "name": "python",
   "nbconvert_exporter": "python",
   "pygments_lexer": "ipython3",
   "version": "3.9.16"
  }
 },
 "nbformat": 4,
 "nbformat_minor": 5
}
