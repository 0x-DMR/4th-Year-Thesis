{
 "cells": [
  {
   "cell_type": "code",
   "execution_count": 1,
   "id": "e08d24dc",
   "metadata": {},
   "outputs": [],
   "source": [
    "import os\n",
    "os.environ['TF_XLA_FLAGS'] = '--tf_xla_enable_xla_devices'\n",
    "path_root = '/home/dmr/DatasetForExperiments/adware'"
   ]
  },
  {
   "cell_type": "code",
   "execution_count": 2,
   "id": "6a45dad7",
   "metadata": {},
   "outputs": [
    {
     "name": "stderr",
     "output_type": "stream",
     "text": [
      "2023-05-02 12:41:46.544383: I tensorflow/stream_executor/platform/default/dso_loader.cc:49] Successfully opened dynamic library libcudart.so.10.1\n"
     ]
    },
    {
     "name": "stdout",
     "output_type": "stream",
     "text": [
      "Found 107 images belonging to 10 classes.\n"
     ]
    }
   ],
   "source": [
    "from keras.preprocessing.image import ImageDataGenerator\n",
    "batches = ImageDataGenerator().flow_from_directory(directory=path_root, target_size=(64,64), batch_size=10000)"
   ]
  },
  {
   "cell_type": "code",
   "execution_count": 3,
   "id": "728b8be6",
   "metadata": {},
   "outputs": [
    {
     "data": {
      "text/plain": [
       "(107, 10)"
      ]
     },
     "execution_count": 3,
     "metadata": {},
     "output_type": "execute_result"
    }
   ],
   "source": [
    "# Print information about Images \n",
    "imgs, labels = next(batches)\n",
    "imgs.shape # Images with width x length x depth\n",
    "labels.shape # Lablels with batch_size, number of classes"
   ]
  },
  {
   "cell_type": "code",
   "execution_count": 4,
   "id": "57424da2",
   "metadata": {},
   "outputs": [],
   "source": [
    "import numpy as np\n",
    "import scipy as sp\n",
    "from PIL import Image\n",
    "\n",
    "# Train and Test \n",
    "from sklearn.model_selection import train_test_split\n",
    "X_train, X_test, y_train, y_test = train_test_split(imgs/255.,labels, test_size=0.3)"
   ]
  },
  {
   "cell_type": "code",
   "execution_count": 5,
   "id": "3590200f",
   "metadata": {},
   "outputs": [
    {
     "data": {
      "text/plain": [
       "(74, 64, 64, 3)"
      ]
     },
     "execution_count": 5,
     "metadata": {},
     "output_type": "execute_result"
    }
   ],
   "source": [
    "X_train.shape"
   ]
  },
  {
   "cell_type": "code",
   "execution_count": 6,
   "id": "3db9230c",
   "metadata": {},
   "outputs": [
    {
     "data": {
      "text/plain": [
       "(33, 64, 64, 3)"
      ]
     },
     "execution_count": 6,
     "metadata": {},
     "output_type": "execute_result"
    }
   ],
   "source": [
    "X_test.shape"
   ]
  },
  {
   "cell_type": "code",
   "execution_count": 7,
   "id": "2b6ca85a",
   "metadata": {},
   "outputs": [
    {
     "data": {
      "text/plain": [
       "(74, 10)"
      ]
     },
     "execution_count": 7,
     "metadata": {},
     "output_type": "execute_result"
    }
   ],
   "source": [
    "y_train.shape"
   ]
  },
  {
   "cell_type": "code",
   "execution_count": 8,
   "id": "f5f1dec9",
   "metadata": {},
   "outputs": [
    {
     "data": {
      "text/plain": [
       "(33, 10)"
      ]
     },
     "execution_count": 8,
     "metadata": {},
     "output_type": "execute_result"
    }
   ],
   "source": [
    "y_test.shape"
   ]
  },
  {
   "cell_type": "code",
   "execution_count": 9,
   "id": "fde8f125",
   "metadata": {},
   "outputs": [],
   "source": [
    "# CNN Model"
   ]
  },
  {
   "cell_type": "code",
   "execution_count": 10,
   "id": "0f3529a9",
   "metadata": {},
   "outputs": [],
   "source": [
    "import keras\n",
    "import tensorflow\n",
    "from keras.models import Sequential, Input, Model\n",
    "from keras.layers import Dense, Dropout, Flatten\n",
    "from keras.layers import Conv2D, MaxPooling2D\n",
    "from tensorflow.keras.layers import BatchNormalization\n",
    "from tensorflow.keras.metrics import AUC"
   ]
  },
  {
   "cell_type": "code",
   "execution_count": 11,
   "id": "0401eabd",
   "metadata": {},
   "outputs": [],
   "source": [
    "num_classes = 10"
   ]
  },
  {
   "cell_type": "code",
   "execution_count": 12,
   "id": "b3593ed6",
   "metadata": {},
   "outputs": [],
   "source": [
    "def malware_model():\n",
    "    Malware_model = Sequential()\n",
    "    # Convolutional Layer : 30 filters, (3 * 3) kernel size\n",
    "    Malware_model.add(Conv2D(30, kernel_size=(3, 3),\n",
    "                     activation='relu',\n",
    "                     input_shape=(64,64,3)))\n",
    "\n",
    "    # Max Pooling Layer : (2 * 2) pool size\n",
    "    Malware_model.add(MaxPooling2D(pool_size=(2, 2)))\n",
    "    \n",
    "    #Convolutional Layer : 15 filters, (3 * 3) kernel size\n",
    "    Malware_model.add(Conv2D(16, (3, 3), activation='relu'))\n",
    "    \n",
    "    # Max Pooling Layer : (2 * 2) pool size\n",
    "    Malware_model.add(MaxPooling2D(pool_size=(2, 2)))\n",
    "    \n",
    "    # DropOut Layer : Dropping 25% of neurons.\n",
    "    Malware_model.add(Dropout(0.25))\n",
    "    \n",
    "    # Flatten Layer\n",
    "    Malware_model.add(Flatten())\n",
    "    \n",
    "    # Dense/Fully Connected Layer : 128 Neurons, Relu activation function\n",
    "    Malware_model.add(Dense(128, activation='relu'))\n",
    "    \n",
    "   # Malware_model.add(Dense(64, activation='relu'))\n",
    "    \n",
    "    # DropOut Layer : Dropping 50% of neurons.\n",
    "    Malware_model.add(Dropout(0.5))\n",
    "    \n",
    "    # Dense/Fully Connected Layer : 50 Neurons, Softmax activation function\n",
    "    Malware_model.add(Dense(50, activation='relu'))\n",
    "    \n",
    "    # Dense/Fully Connected Layer : num_class Neurons, Softmax activation function\n",
    "    Malware_model.add(Dense(num_classes, activation='softmax'))\n",
    "    \n",
    "    \n",
    "    Malware_model.compile(loss='categorical_crossentropy', optimizer = 'adam', metrics=['accuracy'])\n",
    "    return Malware_model\n",
    "\n",
    "\n",
    "    # sparse_categorical_cross_entropy\n",
    "    # categorical_crossentropy\n",
    "    "
   ]
  },
  {
   "cell_type": "code",
   "execution_count": 13,
   "id": "9a4ebf7d",
   "metadata": {},
   "outputs": [],
   "source": [
    "from keras import backend as K\n",
    "\n",
    "def recall_m(y_test, y_pred):\n",
    "    true_positives = K.sum(K.round(K.clip(y_test * y_pred, 0, 1)))\n",
    "    possible_positives = K.sum(K.round(K.clip(y_test, 0, 1)))\n",
    "    recall = true_positives / (possible_positives + K.epsilon())\n",
    "    return recall\n",
    "\n",
    "def precision_m(y_test, y_pred):\n",
    "    true_positives = K.sum(K.round(K.clip(y_test * y_pred, 0, 1)))\n",
    "    predicted_positives = K.sum(K.round(K.clip(y_pred, 0, 1)))\n",
    "    precision = true_positives / (predicted_positives + K.epsilon())\n",
    "    return precision\n",
    "\n",
    "def f1_m(y_test, y_pred):\n",
    "    precision = precision_m(y_test, y_pred)\n",
    "    recall = recall_m(y_test, y_pred)\n",
    "    return 2*((precision*recall)/(precision+recall+K.epsilon()))"
   ]
  },
  {
   "cell_type": "code",
   "execution_count": 14,
   "id": "c1e2abbc",
   "metadata": {},
   "outputs": [
    {
     "name": "stderr",
     "output_type": "stream",
     "text": [
      "2023-05-02 12:41:50.130025: I tensorflow/stream_executor/platform/default/dso_loader.cc:49] Successfully opened dynamic library libcuda.so.1\n",
      "2023-05-02 12:41:54.298158: E tensorflow/stream_executor/cuda/cuda_driver.cc:328] failed call to cuInit: CUDA_ERROR_NO_DEVICE: no CUDA-capable device is detected\n",
      "2023-05-02 12:41:54.298187: I tensorflow/stream_executor/cuda/cuda_diagnostics.cc:156] kernel driver does not appear to be running on this host (pop-os): /proc/driver/nvidia/version does not exist\n",
      "2023-05-02 12:41:54.298959: I tensorflow/core/platform/cpu_feature_guard.cc:142] This TensorFlow binary is optimized with oneAPI Deep Neural Network Library (oneDNN) to use the following CPU instructions in performance-critical operations:  SSE4.1 SSE4.2 AVX AVX2 FMA\n",
      "To enable them in other operations, rebuild TensorFlow with the appropriate compiler flags.\n",
      "2023-05-02 12:41:54.304393: I tensorflow/core/platform/profile_utils/cpu_utils.cc:112] CPU Frequency: 1999965000 Hz\n",
      "2023-05-02 12:41:54.304817: I tensorflow/compiler/xla/service/service.cc:168] XLA service 0x12d9fc0 initialized for platform Host (this does not guarantee that XLA will be used). Devices:\n",
      "2023-05-02 12:41:54.304835: I tensorflow/compiler/xla/service/service.cc:176]   StreamExecutor device (0): Host, Default Version\n"
     ]
    }
   ],
   "source": [
    "Malware_model = malware_model()"
   ]
  },
  {
   "cell_type": "code",
   "execution_count": 15,
   "id": "bcb1d474",
   "metadata": {},
   "outputs": [
    {
     "name": "stdout",
     "output_type": "stream",
     "text": [
      "Model: \"sequential\"\n",
      "_________________________________________________________________\n",
      "Layer (type)                 Output Shape              Param #   \n",
      "=================================================================\n",
      "conv2d (Conv2D)              (None, 62, 62, 30)        840       \n",
      "_________________________________________________________________\n",
      "max_pooling2d (MaxPooling2D) (None, 31, 31, 30)        0         \n",
      "_________________________________________________________________\n",
      "conv2d_1 (Conv2D)            (None, 29, 29, 16)        4336      \n",
      "_________________________________________________________________\n",
      "max_pooling2d_1 (MaxPooling2 (None, 14, 14, 16)        0         \n",
      "_________________________________________________________________\n",
      "dropout (Dropout)            (None, 14, 14, 16)        0         \n",
      "_________________________________________________________________\n",
      "flatten (Flatten)            (None, 3136)              0         \n",
      "_________________________________________________________________\n",
      "dense (Dense)                (None, 128)               401536    \n",
      "_________________________________________________________________\n",
      "dropout_1 (Dropout)          (None, 128)               0         \n",
      "_________________________________________________________________\n",
      "dense_1 (Dense)              (None, 50)                6450      \n",
      "_________________________________________________________________\n",
      "dense_2 (Dense)              (None, 10)                510       \n",
      "=================================================================\n",
      "Total params: 413,672\n",
      "Trainable params: 413,672\n",
      "Non-trainable params: 0\n",
      "_________________________________________________________________\n"
     ]
    }
   ],
   "source": [
    "Malware_model.summary()"
   ]
  },
  {
   "cell_type": "code",
   "execution_count": 16,
   "id": "9e8d69b6",
   "metadata": {},
   "outputs": [
    {
     "data": {
      "text/plain": [
       "(74, 10)"
      ]
     },
     "execution_count": 16,
     "metadata": {},
     "output_type": "execute_result"
    }
   ],
   "source": [
    "y_train.shape"
   ]
  },
  {
   "cell_type": "code",
   "execution_count": 17,
   "id": "6711d2f9",
   "metadata": {},
   "outputs": [],
   "source": [
    "y_train_new = np.argmax(y_train, axis=1)"
   ]
  },
  {
   "cell_type": "code",
   "execution_count": 18,
   "id": "838a6a56",
   "metadata": {},
   "outputs": [
    {
     "data": {
      "text/plain": [
       "array([9, 8, 0, 3, 5, 2, 5, 7, 4, 2, 7, 0, 3, 3, 6, 6, 9, 9, 6, 5, 4, 2,\n",
       "       9, 2, 5, 6, 5, 3, 2, 2, 7, 5, 3, 3, 4, 0, 0, 4, 6, 4, 7, 9, 1, 1,\n",
       "       5, 1, 7, 4, 5, 3, 3, 3, 2, 8, 1, 2, 8, 9, 4, 0, 8, 4, 6, 3, 2, 1,\n",
       "       7, 3, 1, 2, 4, 2, 0, 6])"
      ]
     },
     "execution_count": 18,
     "metadata": {},
     "output_type": "execute_result"
    }
   ],
   "source": [
    "y_train_new"
   ]
  },
  {
   "cell_type": "code",
   "execution_count": 19,
   "id": "e5fccc6d",
   "metadata": {},
   "outputs": [],
   "source": [
    "from sklearn.utils import class_weight\n",
    "class_weights = class_weight.compute_class_weight(class_weight = 'balanced',\n",
    "                                                 classes = np.unique(y_train_new),\n",
    "                                                 y = y_train_new)\n",
    "\n",
    "class_weights = {l:c for l,c in zip(np.unique(y_train_new), class_weights)}"
   ]
  },
  {
   "cell_type": "code",
   "execution_count": 20,
   "id": "a62f070a",
   "metadata": {},
   "outputs": [],
   "source": [
    "Malware_model.compile(optimizer='adam', loss='binary_crossentropy', metrics=[f1_m,precision_m, recall_m,AUC()])"
   ]
  },
  {
   "cell_type": "code",
   "execution_count": 21,
   "id": "f8c8523a",
   "metadata": {
    "scrolled": true
   },
   "outputs": [
    {
     "name": "stderr",
     "output_type": "stream",
     "text": [
      "2023-05-02 12:41:54.484051: I tensorflow/compiler/mlir/mlir_graph_optimization_pass.cc:116] None of the MLIR optimization passes are enabled (registered 2)\n"
     ]
    },
    {
     "name": "stdout",
     "output_type": "stream",
     "text": [
      "Epoch 1/100\n",
      "3/3 [==============================] - 2s 331ms/step - loss: 0.6714 - f1_m: 0.0000e+00 - precision_m: 0.0000e+00 - recall_m: 0.0000e+00 - auc: 0.5518 - val_loss: 0.4510 - val_f1_m: 0.0000e+00 - val_precision_m: 0.0000e+00 - val_recall_m: 0.0000e+00 - val_auc: 0.5326\n",
      "Epoch 2/100\n",
      "3/3 [==============================] - 0s 61ms/step - loss: 0.4748 - f1_m: 0.0000e+00 - precision_m: 0.0000e+00 - recall_m: 0.0000e+00 - auc: 0.5112 - val_loss: 0.3584 - val_f1_m: 0.0000e+00 - val_precision_m: 0.0000e+00 - val_recall_m: 0.0000e+00 - val_auc: 0.5311\n",
      "Epoch 3/100\n",
      "3/3 [==============================] - 0s 52ms/step - loss: 0.4213 - f1_m: 0.0556 - precision_m: 0.1548 - recall_m: 0.0339 - auc: 0.4731 - val_loss: 0.3573 - val_f1_m: 0.0000e+00 - val_precision_m: 0.0000e+00 - val_recall_m: 0.0000e+00 - val_auc: 0.4731\n",
      "Epoch 4/100\n",
      "3/3 [==============================] - 0s 53ms/step - loss: 0.3969 - f1_m: 0.0271 - precision_m: 0.0677 - recall_m: 0.0169 - auc: 0.5139 - val_loss: 0.3450 - val_f1_m: 0.0000e+00 - val_precision_m: 0.0000e+00 - val_recall_m: 0.0000e+00 - val_auc: 0.4857\n",
      "Epoch 5/100\n",
      "3/3 [==============================] - 0s 51ms/step - loss: 0.3901 - f1_m: 0.0000e+00 - precision_m: 0.0000e+00 - recall_m: 0.0000e+00 - auc: 0.5166 - val_loss: 0.3598 - val_f1_m: 0.0000e+00 - val_precision_m: 0.0000e+00 - val_recall_m: 0.0000e+00 - val_auc: 0.4927\n",
      "Epoch 6/100\n",
      "3/3 [==============================] - 0s 52ms/step - loss: 0.3714 - f1_m: 0.0000e+00 - precision_m: 0.0000e+00 - recall_m: 0.0000e+00 - auc: 0.5378 - val_loss: 0.3405 - val_f1_m: 0.0000e+00 - val_precision_m: 0.0000e+00 - val_recall_m: 0.0000e+00 - val_auc: 0.5051\n",
      "Epoch 7/100\n",
      "3/3 [==============================] - 0s 53ms/step - loss: 0.3357 - f1_m: 0.0177 - precision_m: 0.2917 - recall_m: 0.0091 - auc: 0.6239 - val_loss: 0.3329 - val_f1_m: 0.0000e+00 - val_precision_m: 0.0000e+00 - val_recall_m: 0.0000e+00 - val_auc: 0.5155\n",
      "Epoch 8/100\n",
      "3/3 [==============================] - 0s 53ms/step - loss: 0.3477 - f1_m: 0.0455 - precision_m: 0.3750 - recall_m: 0.0258 - auc: 0.5703 - val_loss: 0.3348 - val_f1_m: 0.0000e+00 - val_precision_m: 0.0000e+00 - val_recall_m: 0.0000e+00 - val_auc: 0.5531\n",
      "Epoch 9/100\n",
      "3/3 [==============================] - 0s 51ms/step - loss: 0.3519 - f1_m: 0.0000e+00 - precision_m: 0.0000e+00 - recall_m: 0.0000e+00 - auc: 0.5758 - val_loss: 0.3288 - val_f1_m: 0.0000e+00 - val_precision_m: 0.0000e+00 - val_recall_m: 0.0000e+00 - val_auc: 0.5620\n",
      "Epoch 10/100\n",
      "3/3 [==============================] - 0s 54ms/step - loss: 0.3653 - f1_m: 0.0000e+00 - precision_m: 0.0000e+00 - recall_m: 0.0000e+00 - auc: 0.5229 - val_loss: 0.3348 - val_f1_m: 0.0000e+00 - val_precision_m: 0.0000e+00 - val_recall_m: 0.0000e+00 - val_auc: 0.5855\n",
      "Epoch 11/100\n",
      "3/3 [==============================] - 0s 52ms/step - loss: 0.3387 - f1_m: 0.0000e+00 - precision_m: 0.0000e+00 - recall_m: 0.0000e+00 - auc: 0.5959 - val_loss: 0.3242 - val_f1_m: 0.0000e+00 - val_precision_m: 0.0000e+00 - val_recall_m: 0.0000e+00 - val_auc: 0.6091\n",
      "Epoch 12/100\n",
      "3/3 [==============================] - 0s 53ms/step - loss: 0.3377 - f1_m: 0.0000e+00 - precision_m: 0.0000e+00 - recall_m: 0.0000e+00 - auc: 0.6053 - val_loss: 0.3201 - val_f1_m: 0.0000e+00 - val_precision_m: 0.0000e+00 - val_recall_m: 0.0000e+00 - val_auc: 0.6180\n",
      "Epoch 13/100\n",
      "3/3 [==============================] - 0s 51ms/step - loss: 0.3185 - f1_m: 0.0172 - precision_m: 0.1458 - recall_m: 0.0091 - auc: 0.6717 - val_loss: 0.3174 - val_f1_m: 0.0000e+00 - val_precision_m: 0.0000e+00 - val_recall_m: 0.0000e+00 - val_auc: 0.6395\n",
      "Epoch 14/100\n",
      "3/3 [==============================] - 0s 49ms/step - loss: 0.3195 - f1_m: 0.0328 - precision_m: 0.5417 - recall_m: 0.0169 - auc: 0.6681 - val_loss: 0.3137 - val_f1_m: 0.0000e+00 - val_precision_m: 0.0000e+00 - val_recall_m: 0.0000e+00 - val_auc: 0.6585\n",
      "Epoch 15/100\n",
      "3/3 [==============================] - 0s 55ms/step - loss: 0.3173 - f1_m: 0.0328 - precision_m: 0.5417 - recall_m: 0.0169 - auc: 0.6782 - val_loss: 0.3136 - val_f1_m: 0.0000e+00 - val_precision_m: 0.0000e+00 - val_recall_m: 0.0000e+00 - val_auc: 0.6989\n",
      "Epoch 16/100\n",
      "3/3 [==============================] - 0s 60ms/step - loss: 0.3201 - f1_m: 0.0662 - precision_m: 0.5625 - recall_m: 0.0352 - auc: 0.6893 - val_loss: 0.3062 - val_f1_m: 0.0000e+00 - val_precision_m: 0.0000e+00 - val_recall_m: 0.0000e+00 - val_auc: 0.7063\n",
      "Epoch 17/100\n",
      "3/3 [==============================] - 0s 50ms/step - loss: 0.2964 - f1_m: 0.0671 - precision_m: 0.8333 - recall_m: 0.0352 - auc: 0.6894 - val_loss: 0.3023 - val_f1_m: 0.0303 - val_precision_m: 0.5000 - val_recall_m: 0.0156 - val_auc: 0.7268\n",
      "Epoch 18/100\n",
      "3/3 [==============================] - 0s 63ms/step - loss: 0.2958 - f1_m: 0.0490 - precision_m: 0.4167 - recall_m: 0.0260 - auc: 0.7273 - val_loss: 0.3009 - val_f1_m: 0.0000e+00 - val_precision_m: 0.0000e+00 - val_recall_m: 0.0000e+00 - val_auc: 0.7491\n",
      "Epoch 19/100\n",
      "3/3 [==============================] - 0s 59ms/step - loss: 0.2899 - f1_m: 0.0808 - precision_m: 1.0000 - recall_m: 0.0427 - auc: 0.7583 - val_loss: 0.3002 - val_f1_m: 0.0303 - val_precision_m: 0.5000 - val_recall_m: 0.0156 - val_auc: 0.7619\n",
      "Epoch 20/100\n",
      "3/3 [==============================] - 0s 56ms/step - loss: 0.2774 - f1_m: 0.1080 - precision_m: 0.6979 - recall_m: 0.0599 - auc: 0.7889 - val_loss: 0.2933 - val_f1_m: 0.0303 - val_precision_m: 0.5000 - val_recall_m: 0.0156 - val_auc: 0.7946\n",
      "Epoch 21/100\n",
      "3/3 [==============================] - 0s 65ms/step - loss: 0.2736 - f1_m: 0.1507 - precision_m: 0.7083 - recall_m: 0.0844 - auc: 0.8094 - val_loss: 0.2881 - val_f1_m: 0.0303 - val_precision_m: 0.5000 - val_recall_m: 0.0156 - val_auc: 0.7963\n",
      "Epoch 22/100\n",
      "3/3 [==============================] - 0s 61ms/step - loss: 0.2592 - f1_m: 0.1262 - precision_m: 0.7361 - recall_m: 0.0690 - auc: 0.8633 - val_loss: 0.2826 - val_f1_m: 0.0857 - val_precision_m: 0.5000 - val_recall_m: 0.0469 - val_auc: 0.8209\n",
      "Epoch 23/100\n",
      "3/3 [==============================] - 0s 62ms/step - loss: 0.2578 - f1_m: 0.1364 - precision_m: 0.8542 - recall_m: 0.0763 - auc: 0.8753 - val_loss: 0.2776 - val_f1_m: 0.0857 - val_precision_m: 0.5000 - val_recall_m: 0.0469 - val_auc: 0.8313\n",
      "Epoch 24/100\n",
      "3/3 [==============================] - 0s 60ms/step - loss: 0.2409 - f1_m: 0.1800 - precision_m: 0.6563 - recall_m: 0.1055 - auc: 0.8638 - val_loss: 0.2729 - val_f1_m: 0.0303 - val_precision_m: 0.5000 - val_recall_m: 0.0156 - val_auc: 0.8371\n",
      "Epoch 25/100\n",
      "3/3 [==============================] - 0s 62ms/step - loss: 0.2400 - f1_m: 0.2153 - precision_m: 1.0000 - recall_m: 0.1221 - auc: 0.9124 - val_loss: 0.2678 - val_f1_m: 0.0857 - val_precision_m: 0.5000 - val_recall_m: 0.0469 - val_auc: 0.8247\n",
      "Epoch 26/100\n",
      "3/3 [==============================] - 0s 55ms/step - loss: 0.2249 - f1_m: 0.3482 - precision_m: 0.8598 - recall_m: 0.2297 - auc: 0.9063 - val_loss: 0.2602 - val_f1_m: 0.1351 - val_precision_m: 0.5000 - val_recall_m: 0.0781 - val_auc: 0.8359\n",
      "Epoch 27/100\n",
      "3/3 [==============================] - 0s 65ms/step - loss: 0.2390 - f1_m: 0.2318 - precision_m: 0.7292 - recall_m: 0.1474 - auc: 0.8520 - val_loss: 0.2557 - val_f1_m: 0.1351 - val_precision_m: 0.5000 - val_recall_m: 0.0781 - val_auc: 0.8548\n",
      "Epoch 28/100\n",
      "3/3 [==============================] - 0s 67ms/step - loss: 0.2180 - f1_m: 0.3834 - precision_m: 0.8912 - recall_m: 0.2477 - auc: 0.9031 - val_loss: 0.2542 - val_f1_m: 0.1351 - val_precision_m: 0.5000 - val_recall_m: 0.0781 - val_auc: 0.8588\n",
      "Epoch 29/100\n",
      "3/3 [==============================] - 0s 73ms/step - loss: 0.2218 - f1_m: 0.3562 - precision_m: 0.7553 - recall_m: 0.2341 - auc: 0.8856 - val_loss: 0.2526 - val_f1_m: 0.1351 - val_precision_m: 0.5000 - val_recall_m: 0.0781 - val_auc: 0.8511\n",
      "Epoch 30/100\n",
      "3/3 [==============================] - 0s 49ms/step - loss: 0.2085 - f1_m: 0.3611 - precision_m: 0.6919 - recall_m: 0.2445 - auc: 0.9187 - val_loss: 0.2502 - val_f1_m: 0.1351 - val_precision_m: 0.5000 - val_recall_m: 0.0781 - val_auc: 0.8546\n",
      "Epoch 31/100\n",
      "3/3 [==============================] - 0s 73ms/step - loss: 0.1786 - f1_m: 0.5095 - precision_m: 0.8819 - recall_m: 0.3620 - auc: 0.9575 - val_loss: 0.2526 - val_f1_m: 0.1579 - val_precision_m: 0.5000 - val_recall_m: 0.0938 - val_auc: 0.8695\n"
     ]
    },
    {
     "name": "stdout",
     "output_type": "stream",
     "text": [
      "Epoch 32/100\n",
      "3/3 [==============================] - 0s 53ms/step - loss: 0.1760 - f1_m: 0.5184 - precision_m: 0.8701 - recall_m: 0.3904 - auc: 0.9501 - val_loss: 0.2417 - val_f1_m: 0.1351 - val_precision_m: 0.5000 - val_recall_m: 0.0781 - val_auc: 0.8722\n",
      "Epoch 33/100\n",
      "3/3 [==============================] - 0s 49ms/step - loss: 0.1717 - f1_m: 0.4903 - precision_m: 0.8691 - recall_m: 0.3482 - auc: 0.9580 - val_loss: 0.2372 - val_f1_m: 0.1351 - val_precision_m: 0.5000 - val_recall_m: 0.0781 - val_auc: 0.8741\n",
      "Epoch 34/100\n",
      "3/3 [==============================] - 0s 60ms/step - loss: 0.1534 - f1_m: 0.6710 - precision_m: 0.8917 - recall_m: 0.5404 - auc: 0.9720 - val_loss: 0.2428 - val_f1_m: 0.1316 - val_precision_m: 0.4167 - val_recall_m: 0.0781 - val_auc: 0.8899\n",
      "Epoch 35/100\n",
      "3/3 [==============================] - 0s 57ms/step - loss: 0.1715 - f1_m: 0.5508 - precision_m: 0.7790 - recall_m: 0.4357 - auc: 0.9485 - val_loss: 0.2464 - val_f1_m: 0.1351 - val_precision_m: 0.5000 - val_recall_m: 0.0781 - val_auc: 0.8738\n",
      "Epoch 36/100\n",
      "3/3 [==============================] - 0s 51ms/step - loss: 0.1687 - f1_m: 0.5774 - precision_m: 0.8739 - recall_m: 0.4339 - auc: 0.9524 - val_loss: 0.2436 - val_f1_m: 0.1579 - val_precision_m: 0.5000 - val_recall_m: 0.0938 - val_auc: 0.8419\n",
      "Epoch 37/100\n",
      "3/3 [==============================] - 0s 55ms/step - loss: 0.1427 - f1_m: 0.7277 - precision_m: 0.9099 - recall_m: 0.6099 - auc: 0.9777 - val_loss: 0.2422 - val_f1_m: 0.1667 - val_precision_m: 0.3500 - val_recall_m: 0.1094 - val_auc: 0.8559\n",
      "Epoch 38/100\n",
      "3/3 [==============================] - 0s 57ms/step - loss: 0.1478 - f1_m: 0.6594 - precision_m: 0.8033 - recall_m: 0.5622 - auc: 0.9683 - val_loss: 0.2670 - val_f1_m: 0.1628 - val_precision_m: 0.3182 - val_recall_m: 0.1094 - val_auc: 0.8607\n",
      "Epoch 39/100\n",
      "3/3 [==============================] - 0s 50ms/step - loss: 0.1529 - f1_m: 0.7258 - precision_m: 0.8506 - recall_m: 0.6359 - auc: 0.9696 - val_loss: 0.2358 - val_f1_m: 0.7000 - val_precision_m: 0.8462 - val_recall_m: 0.6406 - val_auc: 0.8837\n",
      "Epoch 40/100\n",
      "3/3 [==============================] - 0s 55ms/step - loss: 0.1161 - f1_m: 0.7608 - precision_m: 0.8409 - recall_m: 0.6974 - auc: 0.9820 - val_loss: 0.2189 - val_f1_m: 0.6818 - val_precision_m: 0.8333 - val_recall_m: 0.6250 - val_auc: 0.8981\n",
      "Epoch 41/100\n",
      "3/3 [==============================] - 0s 60ms/step - loss: 0.1096 - f1_m: 0.7725 - precision_m: 0.9150 - recall_m: 0.6701 - auc: 0.9851 - val_loss: 0.2195 - val_f1_m: 0.6818 - val_precision_m: 0.8333 - val_recall_m: 0.6250 - val_auc: 0.8985\n",
      "Epoch 42/100\n",
      "3/3 [==============================] - 0s 52ms/step - loss: 0.1238 - f1_m: 0.7409 - precision_m: 0.8545 - recall_m: 0.6544 - auc: 0.9799 - val_loss: 0.2362 - val_f1_m: 0.1778 - val_precision_m: 0.3077 - val_recall_m: 0.1250 - val_auc: 0.8866\n",
      "Epoch 43/100\n",
      "3/3 [==============================] - 0s 53ms/step - loss: 0.1078 - f1_m: 0.8178 - precision_m: 0.9040 - recall_m: 0.7482 - auc: 0.9908 - val_loss: 0.2511 - val_f1_m: 0.1875 - val_precision_m: 0.2812 - val_recall_m: 0.1406 - val_auc: 0.8778\n",
      "Epoch 44/100\n",
      "3/3 [==============================] - 0s 60ms/step - loss: 0.1079 - f1_m: 0.7700 - precision_m: 0.8494 - recall_m: 0.7047 - auc: 0.9853 - val_loss: 0.2554 - val_f1_m: 0.6875 - val_precision_m: 0.7812 - val_recall_m: 0.6406 - val_auc: 0.8785\n",
      "Epoch 45/100\n",
      "3/3 [==============================] - 0s 57ms/step - loss: 0.0974 - f1_m: 0.7847 - precision_m: 0.8864 - recall_m: 0.7086 - auc: 0.9918 - val_loss: 0.2439 - val_f1_m: 0.6837 - val_precision_m: 0.7647 - val_recall_m: 0.6406 - val_auc: 0.8867\n",
      "Epoch 46/100\n",
      "3/3 [==============================] - 0s 52ms/step - loss: 0.0976 - f1_m: 0.7677 - precision_m: 0.8538 - recall_m: 0.6987 - auc: 0.9885 - val_loss: 0.2247 - val_f1_m: 0.7041 - val_precision_m: 0.7941 - val_recall_m: 0.6562 - val_auc: 0.8876\n",
      "Epoch 47/100\n",
      "3/3 [==============================] - 0s 59ms/step - loss: 0.0948 - f1_m: 0.7777 - precision_m: 0.8683 - recall_m: 0.7065 - auc: 0.9875 - val_loss: 0.2212 - val_f1_m: 0.6875 - val_precision_m: 0.7812 - val_recall_m: 0.6406 - val_auc: 0.8901\n",
      "Epoch 48/100\n",
      "3/3 [==============================] - 0s 59ms/step - loss: 0.0977 - f1_m: 0.7569 - precision_m: 0.8264 - recall_m: 0.6997 - auc: 0.9866 - val_loss: 0.2291 - val_f1_m: 0.7083 - val_precision_m: 0.8125 - val_recall_m: 0.6562 - val_auc: 0.8906\n",
      "Epoch 49/100\n",
      "3/3 [==============================] - 0s 56ms/step - loss: 0.0938 - f1_m: 0.8083 - precision_m: 0.8565 - recall_m: 0.7661 - auc: 0.9865 - val_loss: 0.2487 - val_f1_m: 0.7000 - val_precision_m: 0.7778 - val_recall_m: 0.6562 - val_auc: 0.8776\n",
      "Epoch 50/100\n",
      "3/3 [==============================] - 0s 54ms/step - loss: 0.0827 - f1_m: 0.8467 - precision_m: 0.8731 - recall_m: 0.8221 - auc: 0.9915 - val_loss: 0.2640 - val_f1_m: 0.7000 - val_precision_m: 0.7778 - val_recall_m: 0.6562 - val_auc: 0.8764\n",
      "Epoch 51/100\n",
      "3/3 [==============================] - 0s 60ms/step - loss: 0.0910 - f1_m: 0.8295 - precision_m: 0.8723 - recall_m: 0.7917 - auc: 0.9900 - val_loss: 0.2450 - val_f1_m: 0.7407 - val_precision_m: 0.7955 - val_recall_m: 0.7031 - val_auc: 0.8877\n",
      "Epoch 52/100\n",
      "3/3 [==============================] - 0s 49ms/step - loss: 0.0797 - f1_m: 0.7759 - precision_m: 0.8120 - recall_m: 0.7430 - auc: 0.9910 - val_loss: 0.2219 - val_f1_m: 0.7157 - val_precision_m: 0.7895 - val_recall_m: 0.6719 - val_auc: 0.9000\n",
      "Epoch 53/100\n",
      "3/3 [==============================] - 0s 55ms/step - loss: 0.0835 - f1_m: 0.8035 - precision_m: 0.8562 - recall_m: 0.7583 - auc: 0.9917 - val_loss: 0.2214 - val_f1_m: 0.7000 - val_precision_m: 0.7778 - val_recall_m: 0.6562 - val_auc: 0.9001\n",
      "Epoch 54/100\n",
      "3/3 [==============================] - 0s 60ms/step - loss: 0.0684 - f1_m: 0.8358 - precision_m: 0.8636 - recall_m: 0.8104 - auc: 0.9928 - val_loss: 0.2343 - val_f1_m: 0.7041 - val_precision_m: 0.7941 - val_recall_m: 0.6562 - val_auc: 0.8950\n",
      "Epoch 55/100\n",
      "3/3 [==============================] - 0s 53ms/step - loss: 0.0631 - f1_m: 0.8336 - precision_m: 0.8569 - recall_m: 0.8117 - auc: 0.9952 - val_loss: 0.2535 - val_f1_m: 0.6961 - val_precision_m: 0.7632 - val_recall_m: 0.6562 - val_auc: 0.8955\n",
      "Epoch 56/100\n",
      "3/3 [==============================] - 0s 53ms/step - loss: 0.0578 - f1_m: 0.8315 - precision_m: 0.8678 - recall_m: 0.8042 - auc: 0.9943 - val_loss: 0.2459 - val_f1_m: 0.7182 - val_precision_m: 0.7609 - val_recall_m: 0.6875 - val_auc: 0.8923\n",
      "Epoch 57/100\n",
      "3/3 [==============================] - 0s 58ms/step - loss: 0.0568 - f1_m: 0.8667 - precision_m: 0.8823 - recall_m: 0.8518 - auc: 0.9943 - val_loss: 0.2317 - val_f1_m: 0.7264 - val_precision_m: 0.7857 - val_recall_m: 0.6875 - val_auc: 0.8885\n",
      "Epoch 58/100\n",
      "3/3 [==============================] - 0s 59ms/step - loss: 0.0720 - f1_m: 0.8255 - precision_m: 0.8544 - recall_m: 0.8003 - auc: 0.9932 - val_loss: 0.2206 - val_f1_m: 0.7407 - val_precision_m: 0.7955 - val_recall_m: 0.7031 - val_auc: 0.8928\n",
      "Epoch 59/100\n",
      "3/3 [==============================] - 0s 55ms/step - loss: 0.0620 - f1_m: 0.8564 - precision_m: 0.8884 - recall_m: 0.8271 - auc: 0.9930 - val_loss: 0.2191 - val_f1_m: 0.7453 - val_precision_m: 0.8095 - val_recall_m: 0.7031 - val_auc: 0.8974\n",
      "Epoch 60/100\n",
      "3/3 [==============================] - 0s 55ms/step - loss: 0.0693 - f1_m: 0.8384 - precision_m: 0.8497 - recall_m: 0.8273 - auc: 0.9918 - val_loss: 0.2246 - val_f1_m: 0.7453 - val_precision_m: 0.8095 - val_recall_m: 0.7031 - val_auc: 0.9035\n",
      "Epoch 61/100\n",
      "3/3 [==============================] - 0s 57ms/step - loss: 0.0617 - f1_m: 0.8473 - precision_m: 0.8787 - recall_m: 0.8182 - auc: 0.9942 - val_loss: 0.2359 - val_f1_m: 0.7143 - val_precision_m: 0.7500 - val_recall_m: 0.6875 - val_auc: 0.8929\n",
      "Epoch 62/100\n",
      "3/3 [==============================] - 0s 51ms/step - loss: 0.0576 - f1_m: 0.8559 - precision_m: 0.9004 - recall_m: 0.8211 - auc: 0.9937 - val_loss: 0.2526 - val_f1_m: 0.7203 - val_precision_m: 0.7407 - val_recall_m: 0.7031 - val_auc: 0.8881\n",
      "Epoch 63/100\n",
      "3/3 [==============================] - 0s 49ms/step - loss: 0.0527 - f1_m: 0.9027 - precision_m: 0.9195 - recall_m: 0.8870 - auc: 0.9974 - val_loss: 0.2531 - val_f1_m: 0.7264 - val_precision_m: 0.7857 - val_recall_m: 0.6875 - val_auc: 0.8924\n",
      "Epoch 64/100\n"
     ]
    },
    {
     "name": "stdout",
     "output_type": "stream",
     "text": [
      "3/3 [==============================] - 0s 49ms/step - loss: 0.0724 - f1_m: 0.8323 - precision_m: 0.8474 - recall_m: 0.8180 - auc: 0.9917 - val_loss: 0.2337 - val_f1_m: 0.7157 - val_precision_m: 0.7895 - val_recall_m: 0.6719 - val_auc: 0.8982\n",
      "Epoch 65/100\n",
      "3/3 [==============================] - 0s 52ms/step - loss: 0.0554 - f1_m: 0.8787 - precision_m: 0.9083 - recall_m: 0.8536 - auc: 0.9960 - val_loss: 0.2211 - val_f1_m: 0.7407 - val_precision_m: 0.7955 - val_recall_m: 0.7031 - val_auc: 0.8945\n",
      "Epoch 66/100\n",
      "3/3 [==============================] - 0s 51ms/step - loss: 0.0538 - f1_m: 0.9171 - precision_m: 0.9213 - recall_m: 0.9130 - auc: 0.9957 - val_loss: 0.2258 - val_f1_m: 0.7453 - val_precision_m: 0.8095 - val_recall_m: 0.7031 - val_auc: 0.8922\n",
      "Epoch 67/100\n",
      "3/3 [==============================] - 0s 52ms/step - loss: 0.0717 - f1_m: 0.8827 - precision_m: 0.9237 - recall_m: 0.8466 - auc: 0.9953 - val_loss: 0.2533 - val_f1_m: 0.7157 - val_precision_m: 0.7895 - val_recall_m: 0.6719 - val_auc: 0.8806\n",
      "Epoch 68/100\n",
      "3/3 [==============================] - 0s 53ms/step - loss: 0.0500 - f1_m: 0.8905 - precision_m: 0.9025 - recall_m: 0.8794 - auc: 0.9967 - val_loss: 0.2859 - val_f1_m: 0.6964 - val_precision_m: 0.7292 - val_recall_m: 0.6719 - val_auc: 0.8742\n",
      "Epoch 69/100\n",
      "3/3 [==============================] - 0s 48ms/step - loss: 0.0820 - f1_m: 0.8071 - precision_m: 0.8205 - recall_m: 0.7945 - auc: 0.9889 - val_loss: 0.2794 - val_f1_m: 0.7037 - val_precision_m: 0.7500 - val_recall_m: 0.6719 - val_auc: 0.8786\n",
      "Epoch 70/100\n",
      "3/3 [==============================] - 0s 47ms/step - loss: 0.0553 - f1_m: 0.8737 - precision_m: 0.8777 - recall_m: 0.8698 - auc: 0.9961 - val_loss: 0.2628 - val_f1_m: 0.6964 - val_precision_m: 0.7292 - val_recall_m: 0.6719 - val_auc: 0.8829\n",
      "Epoch 71/100\n",
      "3/3 [==============================] - 0s 52ms/step - loss: 0.0452 - f1_m: 0.8611 - precision_m: 0.8773 - recall_m: 0.8456 - auc: 0.9964 - val_loss: 0.2533 - val_f1_m: 0.7069 - val_precision_m: 0.7308 - val_recall_m: 0.6875 - val_auc: 0.8853\n",
      "Epoch 72/100\n",
      "3/3 [==============================] - 0s 52ms/step - loss: 0.0465 - f1_m: 0.8617 - precision_m: 0.8807 - recall_m: 0.8438 - auc: 0.9950 - val_loss: 0.2523 - val_f1_m: 0.7321 - val_precision_m: 0.7708 - val_recall_m: 0.7031 - val_auc: 0.8704\n",
      "Epoch 73/100\n",
      "3/3 [==============================] - 0s 51ms/step - loss: 0.0418 - f1_m: 0.9076 - precision_m: 0.9116 - recall_m: 0.9036 - auc: 0.9970 - val_loss: 0.2641 - val_f1_m: 0.7321 - val_precision_m: 0.7708 - val_recall_m: 0.7031 - val_auc: 0.8718\n",
      "Epoch 74/100\n",
      "3/3 [==============================] - 0s 52ms/step - loss: 0.0435 - f1_m: 0.9042 - precision_m: 0.9161 - recall_m: 0.8935 - auc: 0.9960 - val_loss: 0.2798 - val_f1_m: 0.7222 - val_precision_m: 0.7727 - val_recall_m: 0.6875 - val_auc: 0.8705\n",
      "Epoch 75/100\n",
      "3/3 [==============================] - 0s 49ms/step - loss: 0.0495 - f1_m: 0.9049 - precision_m: 0.9220 - recall_m: 0.8885 - auc: 0.9977 - val_loss: 0.2814 - val_f1_m: 0.7222 - val_precision_m: 0.7727 - val_recall_m: 0.6875 - val_auc: 0.8690\n",
      "Epoch 76/100\n",
      "3/3 [==============================] - 0s 53ms/step - loss: 0.0484 - f1_m: 0.8909 - precision_m: 0.8949 - recall_m: 0.8870 - auc: 0.9968 - val_loss: 0.2780 - val_f1_m: 0.7264 - val_precision_m: 0.7857 - val_recall_m: 0.6875 - val_auc: 0.8669\n",
      "Epoch 77/100\n",
      "3/3 [==============================] - 0s 55ms/step - loss: 0.0668 - f1_m: 0.8421 - precision_m: 0.8578 - recall_m: 0.8273 - auc: 0.9906 - val_loss: 0.2638 - val_f1_m: 0.7075 - val_precision_m: 0.7619 - val_recall_m: 0.6719 - val_auc: 0.8657\n",
      "Epoch 78/100\n",
      "3/3 [==============================] - 0s 52ms/step - loss: 0.0651 - f1_m: 0.8407 - precision_m: 0.8545 - recall_m: 0.8281 - auc: 0.9892 - val_loss: 0.2451 - val_f1_m: 0.7264 - val_precision_m: 0.7857 - val_recall_m: 0.6875 - val_auc: 0.8857\n",
      "Epoch 79/100\n",
      "3/3 [==============================] - 0s 58ms/step - loss: 0.0484 - f1_m: 0.8549 - precision_m: 0.8549 - recall_m: 0.8549 - auc: 0.9943 - val_loss: 0.2298 - val_f1_m: 0.7264 - val_precision_m: 0.7857 - val_recall_m: 0.6875 - val_auc: 0.8921\n",
      "Epoch 80/100\n",
      "3/3 [==============================] - 0s 50ms/step - loss: 0.0453 - f1_m: 0.8603 - precision_m: 0.8748 - recall_m: 0.8466 - auc: 0.9949 - val_loss: 0.2270 - val_f1_m: 0.7182 - val_precision_m: 0.7609 - val_recall_m: 0.6875 - val_auc: 0.8977\n",
      "Epoch 81/100\n",
      "3/3 [==============================] - 0s 49ms/step - loss: 0.0501 - f1_m: 0.8240 - precision_m: 0.8688 - recall_m: 0.7857 - auc: 0.9945 - val_loss: 0.2380 - val_f1_m: 0.7414 - val_precision_m: 0.7692 - val_recall_m: 0.7187 - val_auc: 0.8991\n",
      "Epoch 82/100\n",
      "3/3 [==============================] - 0s 51ms/step - loss: 0.0432 - f1_m: 0.8860 - precision_m: 0.9026 - recall_m: 0.8703 - auc: 0.9959 - val_loss: 0.2545 - val_f1_m: 0.7414 - val_precision_m: 0.7692 - val_recall_m: 0.7187 - val_auc: 0.8858\n",
      "Epoch 83/100\n",
      "3/3 [==============================] - 0s 50ms/step - loss: 0.0480 - f1_m: 0.8705 - precision_m: 0.8871 - recall_m: 0.8547 - auc: 0.9955 - val_loss: 0.2621 - val_f1_m: 0.7281 - val_precision_m: 0.7600 - val_recall_m: 0.7031 - val_auc: 0.8847\n",
      "Epoch 84/100\n",
      "3/3 [==============================] - 0s 48ms/step - loss: 0.0427 - f1_m: 0.8622 - precision_m: 0.8622 - recall_m: 0.8622 - auc: 0.9961 - val_loss: 0.2672 - val_f1_m: 0.7321 - val_precision_m: 0.7708 - val_recall_m: 0.7031 - val_auc: 0.8721\n",
      "Epoch 85/100\n",
      "3/3 [==============================] - 0s 49ms/step - loss: 0.0407 - f1_m: 0.8671 - precision_m: 0.8713 - recall_m: 0.8630 - auc: 0.9963 - val_loss: 0.2697 - val_f1_m: 0.7364 - val_precision_m: 0.7826 - val_recall_m: 0.7031 - val_auc: 0.8792\n",
      "Epoch 86/100\n",
      "3/3 [==============================] - 0s 50ms/step - loss: 0.0456 - f1_m: 0.8732 - precision_m: 0.8928 - recall_m: 0.8547 - auc: 0.9960 - val_loss: 0.2521 - val_f1_m: 0.7407 - val_precision_m: 0.7955 - val_recall_m: 0.7031 - val_auc: 0.8919\n",
      "Epoch 87/100\n",
      "3/3 [==============================] - 0s 51ms/step - loss: 0.0345 - f1_m: 0.9377 - precision_m: 0.9461 - recall_m: 0.9297 - auc: 0.9982 - val_loss: 0.2538 - val_f1_m: 0.7264 - val_precision_m: 0.7857 - val_recall_m: 0.6875 - val_auc: 0.8909\n",
      "Epoch 88/100\n",
      "3/3 [==============================] - 0s 49ms/step - loss: 0.0486 - f1_m: 0.8772 - precision_m: 0.8932 - recall_m: 0.8620 - auc: 0.9950 - val_loss: 0.2654 - val_f1_m: 0.7364 - val_precision_m: 0.7826 - val_recall_m: 0.7031 - val_auc: 0.8892\n",
      "Epoch 89/100\n",
      "3/3 [==============================] - 0s 51ms/step - loss: 0.0462 - f1_m: 0.8544 - precision_m: 0.8544 - recall_m: 0.8544 - auc: 0.9950 - val_loss: 0.2753 - val_f1_m: 0.7281 - val_precision_m: 0.7600 - val_recall_m: 0.7031 - val_auc: 0.8889\n",
      "Epoch 90/100\n",
      "3/3 [==============================] - 0s 48ms/step - loss: 0.0417 - f1_m: 0.8899 - precision_m: 0.9009 - recall_m: 0.8797 - auc: 0.9976 - val_loss: 0.2687 - val_f1_m: 0.7182 - val_precision_m: 0.7609 - val_recall_m: 0.6875 - val_auc: 0.8765\n",
      "Epoch 91/100\n",
      "3/3 [==============================] - 0s 52ms/step - loss: 0.0430 - f1_m: 0.8543 - precision_m: 0.8659 - recall_m: 0.8451 - auc: 0.9894 - val_loss: 0.2636 - val_f1_m: 0.7143 - val_precision_m: 0.7500 - val_recall_m: 0.6875 - val_auc: 0.8859\n",
      "Epoch 92/100\n",
      "3/3 [==============================] - 0s 50ms/step - loss: 0.0437 - f1_m: 0.8615 - precision_m: 0.8814 - recall_m: 0.8427 - auc: 0.9956 - val_loss: 0.2675 - val_f1_m: 0.7143 - val_precision_m: 0.7500 - val_recall_m: 0.6875 - val_auc: 0.8848\n",
      "Epoch 93/100\n",
      "3/3 [==============================] - 0s 51ms/step - loss: 0.0434 - f1_m: 0.8313 - precision_m: 0.8611 - recall_m: 0.8044 - auc: 0.9943 - val_loss: 0.2766 - val_f1_m: 0.7069 - val_precision_m: 0.7308 - val_recall_m: 0.6875 - val_auc: 0.8734\n",
      "Epoch 94/100\n",
      "3/3 [==============================] - 0s 51ms/step - loss: 0.0500 - f1_m: 0.8248 - precision_m: 0.8405 - recall_m: 0.8102 - auc: 0.9939 - val_loss: 0.2748 - val_f1_m: 0.7203 - val_precision_m: 0.7407 - val_recall_m: 0.7031 - val_auc: 0.8752\n",
      "Epoch 95/100\n",
      "3/3 [==============================] - 0s 50ms/step - loss: 0.0404 - f1_m: 0.8458 - precision_m: 0.8570 - recall_m: 0.8349 - auc: 0.9949 - val_loss: 0.2752 - val_f1_m: 0.7105 - val_precision_m: 0.7400 - val_recall_m: 0.6875 - val_auc: 0.8748\n",
      "Epoch 96/100\n"
     ]
    },
    {
     "name": "stdout",
     "output_type": "stream",
     "text": [
      "3/3 [==============================] - 0s 49ms/step - loss: 0.0378 - f1_m: 0.8922 - precision_m: 0.8965 - recall_m: 0.8880 - auc: 0.9959 - val_loss: 0.2742 - val_f1_m: 0.6964 - val_precision_m: 0.7292 - val_recall_m: 0.6719 - val_auc: 0.8870\n",
      "Epoch 97/100\n",
      "3/3 [==============================] - 0s 51ms/step - loss: 0.0450 - f1_m: 0.8880 - precision_m: 0.8880 - recall_m: 0.8880 - auc: 0.9947 - val_loss: 0.2723 - val_f1_m: 0.7264 - val_precision_m: 0.7857 - val_recall_m: 0.6875 - val_auc: 0.8888\n",
      "Epoch 98/100\n",
      "3/3 [==============================] - 0s 53ms/step - loss: 0.0440 - f1_m: 0.8740 - precision_m: 0.8780 - recall_m: 0.8701 - auc: 0.9952 - val_loss: 0.2709 - val_f1_m: 0.7364 - val_precision_m: 0.7826 - val_recall_m: 0.7031 - val_auc: 0.8791\n",
      "Epoch 99/100\n",
      "3/3 [==============================] - 0s 50ms/step - loss: 0.0333 - f1_m: 0.9497 - precision_m: 0.9624 - recall_m: 0.9375 - auc: 0.9977 - val_loss: 0.2758 - val_f1_m: 0.7321 - val_precision_m: 0.7708 - val_recall_m: 0.7031 - val_auc: 0.8776\n",
      "Epoch 100/100\n",
      "3/3 [==============================] - 0s 52ms/step - loss: 0.0299 - f1_m: 0.8810 - precision_m: 0.8810 - recall_m: 0.8810 - auc: 0.9977 - val_loss: 0.2832 - val_f1_m: 0.7281 - val_precision_m: 0.7600 - val_recall_m: 0.7031 - val_auc: 0.8670\n"
     ]
    },
    {
     "data": {
      "text/plain": [
       "<tensorflow.python.keras.callbacks.History at 0x7f01a81dd070>"
      ]
     },
     "execution_count": 21,
     "metadata": {},
     "output_type": "execute_result"
    }
   ],
   "source": [
    "Malware_model.fit(X_train, y_train, validation_data=(X_test, y_test), epochs=100,  class_weight=class_weights)\n",
    "#Malware_model.add(GlobalAveragePooling2D())"
   ]
  },
  {
   "cell_type": "code",
   "execution_count": 22,
   "id": "4471392c",
   "metadata": {},
   "outputs": [
    {
     "name": "stdout",
     "output_type": "stream",
     "text": [
      "2/2 [==============================] - 0s 4ms/step - loss: 0.2832 - f1_m: 0.7281 - precision_m: 0.7600 - recall_m: 0.7031 - auc: 0.8670\n"
     ]
    }
   ],
   "source": [
    "scores = Malware_model.evaluate(X_test, y_test)"
   ]
  },
  {
   "cell_type": "code",
   "execution_count": 23,
   "id": "af5d617f",
   "metadata": {},
   "outputs": [
    {
     "name": "stdout",
     "output_type": "stream",
     "text": [
      "2/2 [==============================] - 0s 3ms/step - loss: 0.2832 - f1_m: 0.7281 - precision_m: 0.7600 - recall_m: 0.7031 - auc: 0.8670\n"
     ]
    }
   ],
   "source": [
    "loss, accuracy, f1_score, precision, recall = Malware_model.evaluate(X_test, y_test)"
   ]
  },
  {
   "cell_type": "code",
   "execution_count": 24,
   "id": "d25483c9",
   "metadata": {},
   "outputs": [
    {
     "name": "stdout",
     "output_type": "stream",
     "text": [
      "Final CNN accuracy:  0.7280700206756592\n"
     ]
    }
   ],
   "source": [
    "print('Final CNN accuracy: ', scores[1])"
   ]
  },
  {
   "cell_type": "code",
   "execution_count": 25,
   "id": "cddcf3ef",
   "metadata": {},
   "outputs": [],
   "source": [
    "# Confusion Matrix\n",
    "import numpy as np\n",
    "import pandas as pd"
   ]
  },
  {
   "cell_type": "code",
   "execution_count": 26,
   "id": "15015936",
   "metadata": {},
   "outputs": [],
   "source": [
    "y_pred = np.argmax(Malware_model.predict(X_test), axis=-1)"
   ]
  },
  {
   "cell_type": "code",
   "execution_count": 27,
   "id": "a9abcec2",
   "metadata": {},
   "outputs": [
    {
     "data": {
      "text/plain": [
       "array([0, 0, 7, 0, 2, 1, 0, 3, 3, 6, 0, 4, 7, 6, 3, 2, 5, 6, 6, 5, 4, 7,\n",
       "       0, 3, 2, 6, 5, 1, 5, 1, 6, 3, 7])"
      ]
     },
     "execution_count": 27,
     "metadata": {},
     "output_type": "execute_result"
    }
   ],
   "source": [
    "y_pred"
   ]
  },
  {
   "cell_type": "code",
   "execution_count": 28,
   "id": "ef01bb96",
   "metadata": {},
   "outputs": [],
   "source": [
    "y_test2 = np.argmax(y_test, axis=1)"
   ]
  },
  {
   "cell_type": "code",
   "execution_count": 29,
   "id": "1aa147f6",
   "metadata": {},
   "outputs": [
    {
     "data": {
      "text/plain": [
       "array([4, 5, 7, 0, 3, 1, 0, 2, 2, 6, 5, 4, 7, 3, 2, 3, 4, 9, 6, 1, 4, 7,\n",
       "       0, 9, 3, 6, 5, 1, 9, 1, 2, 0, 7])"
      ]
     },
     "execution_count": 29,
     "metadata": {},
     "output_type": "execute_result"
    }
   ],
   "source": [
    "y_test2"
   ]
  },
  {
   "cell_type": "code",
   "execution_count": 30,
   "id": "758ebc08",
   "metadata": {},
   "outputs": [],
   "source": [
    "from sklearn import metrics\n",
    "c_matrix = metrics.confusion_matrix(y_test2, y_pred)"
   ]
  },
  {
   "cell_type": "code",
   "execution_count": 31,
   "id": "b57b32de",
   "metadata": {},
   "outputs": [],
   "source": [
    "import seaborn as sns\n",
    "def confusion_matrix(confusion_matrix, class_names, figsize = (10,7), fontsize=14):\n",
    "    \n",
    "    df_cm = pd.DataFrame(\n",
    "        confusion_matrix, index=class_names, columns=class_names, \n",
    "    )\n",
    "    fig = plt.figure(figsize=figsize)\n",
    "    try:\n",
    "        heatmap = sns.heatmap(df_cm, annot=True, fmt=\"d\")\n",
    "    except ValueError:\n",
    "        raise ValueError(\"Confusion matrix values must be integers.\")\n",
    "    heatmap.yaxis.set_ticklabels(heatmap.yaxis.get_ticklabels(), rotation=0, ha='right', fontsize=fontsize)\n",
    "    heatmap.xaxis.set_ticklabels(heatmap.xaxis.get_ticklabels(), rotation=45, ha='right', fontsize=fontsize)\n",
    "    plt.ylabel('True label')\n",
    "    plt.xlabel('Predicted label')"
   ]
  },
  {
   "cell_type": "code",
   "execution_count": 33,
   "id": "1008ff2f",
   "metadata": {},
   "outputs": [],
   "source": [
    "#class_names= batches.class_indices.keys()\n",
    "#confusion_matrix(c_matrix, class_names, figsize = (20,7), fontsize=20)"
   ]
  },
  {
   "cell_type": "code",
   "execution_count": 40,
   "id": "a0dc6064",
   "metadata": {},
   "outputs": [
    {
     "ename": "NameError",
     "evalue": "name 'history' is not defined",
     "output_type": "error",
     "traceback": [
      "\u001b[0;31m---------------------------------------------------------------------------\u001b[0m",
      "\u001b[0;31mNameError\u001b[0m                                 Traceback (most recent call last)",
      "Cell \u001b[0;32mIn[40], line 20\u001b[0m\n\u001b[1;32m     17\u001b[0m             \u001b[38;5;28;01mreturn\u001b[39;00m\n\u001b[1;32m     19\u001b[0m \u001b[38;5;66;03m## As loss always exists\u001b[39;00m\n\u001b[0;32m---> 20\u001b[0m epochs \u001b[38;5;241m=\u001b[39m \u001b[38;5;28mrange\u001b[39m(\u001b[38;5;241m1\u001b[39m,\u001b[38;5;28mlen\u001b[39m(\u001b[43mhistory\u001b[49m\u001b[38;5;241m.\u001b[39mhistory[loss_list[\u001b[38;5;241m0\u001b[39m]]) \u001b[38;5;241m+\u001b[39m \u001b[38;5;241m1\u001b[39m)\n\u001b[1;32m     22\u001b[0m \u001b[38;5;66;03m## Display Loss\u001b[39;00m\n\u001b[1;32m     23\u001b[0m plt\u001b[38;5;241m.\u001b[39mfigure(\u001b[38;5;241m1\u001b[39m)\n",
      "\u001b[0;31mNameError\u001b[0m: name 'history' is not defined"
     ]
    }
   ],
   "source": []
  },
  {
   "cell_type": "code",
   "execution_count": null,
   "id": "e2045508",
   "metadata": {},
   "outputs": [],
   "source": []
  }
 ],
 "metadata": {
  "kernelspec": {
   "display_name": "Python 3 (ipykernel)",
   "language": "python",
   "name": "python3"
  },
  "language_info": {
   "codemirror_mode": {
    "name": "ipython",
    "version": 3
   },
   "file_extension": ".py",
   "mimetype": "text/x-python",
   "name": "python",
   "nbconvert_exporter": "python",
   "pygments_lexer": "ipython3",
   "version": "3.9.16"
  }
 },
 "nbformat": 4,
 "nbformat_minor": 5
}
