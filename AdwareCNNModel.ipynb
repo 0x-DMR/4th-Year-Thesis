{
 "cells": [
  {
   "cell_type": "code",
   "execution_count": 1,
   "id": "e08d24dc",
   "metadata": {},
   "outputs": [],
   "source": [
    "import os\n",
    "os.environ['TF_XLA_FLAGS'] = '--tf_xla_enable_xla_devices'\n",
    "path_root = '/home/dmr/DatasetForExperiments/adware'"
   ]
  },
  {
   "cell_type": "code",
   "execution_count": 26,
   "id": "6a45dad7",
   "metadata": {},
   "outputs": [
    {
     "name": "stdout",
     "output_type": "stream",
     "text": [
      "Found 107 images belonging to 10 classes.\n"
     ]
    }
   ],
   "source": [
    "from keras.preprocessing.image import ImageDataGenerator\n",
    "batches = ImageDataGenerator().flow_from_directory(directory=path_root, target_size=(64,64), batch_size=10000)"
   ]
  },
  {
   "cell_type": "code",
   "execution_count": 3,
   "id": "728b8be6",
   "metadata": {},
   "outputs": [
    {
     "data": {
      "text/plain": [
       "(107, 10)"
      ]
     },
     "execution_count": 3,
     "metadata": {},
     "output_type": "execute_result"
    }
   ],
   "source": [
    "# Print information about Images \n",
    "imgs, labels = next(batches)\n",
    "imgs.shape # Images with width x length x depth\n",
    "labels.shape # Lablels with batch_size, number of classes"
   ]
  },
  {
   "cell_type": "code",
   "execution_count": 4,
   "id": "57424da2",
   "metadata": {},
   "outputs": [],
   "source": [
    "import numpy as np\n",
    "import scipy as sp\n",
    "from PIL import Image\n",
    "\n",
    "# Train and Test \n",
    "from sklearn.model_selection import train_test_split\n",
    "X_train, X_test, y_train, y_test = train_test_split(imgs/255.,labels, test_size=0.3)"
   ]
  },
  {
   "cell_type": "code",
   "execution_count": 5,
   "id": "3590200f",
   "metadata": {},
   "outputs": [
    {
     "data": {
      "text/plain": [
       "(74, 64, 64, 3)"
      ]
     },
     "execution_count": 5,
     "metadata": {},
     "output_type": "execute_result"
    }
   ],
   "source": [
    "X_train.shape"
   ]
  },
  {
   "cell_type": "code",
   "execution_count": 6,
   "id": "3db9230c",
   "metadata": {},
   "outputs": [
    {
     "data": {
      "text/plain": [
       "(33, 64, 64, 3)"
      ]
     },
     "execution_count": 6,
     "metadata": {},
     "output_type": "execute_result"
    }
   ],
   "source": [
    "X_test.shape"
   ]
  },
  {
   "cell_type": "code",
   "execution_count": 7,
   "id": "2b6ca85a",
   "metadata": {},
   "outputs": [
    {
     "data": {
      "text/plain": [
       "(74, 10)"
      ]
     },
     "execution_count": 7,
     "metadata": {},
     "output_type": "execute_result"
    }
   ],
   "source": [
    "y_train.shape"
   ]
  },
  {
   "cell_type": "code",
   "execution_count": 8,
   "id": "f5f1dec9",
   "metadata": {},
   "outputs": [
    {
     "data": {
      "text/plain": [
       "(33, 10)"
      ]
     },
     "execution_count": 8,
     "metadata": {},
     "output_type": "execute_result"
    }
   ],
   "source": [
    "y_test.shape"
   ]
  },
  {
   "cell_type": "code",
   "execution_count": 9,
   "id": "fde8f125",
   "metadata": {},
   "outputs": [],
   "source": [
    "# CNN Model"
   ]
  },
  {
   "cell_type": "code",
   "execution_count": 10,
   "id": "0f3529a9",
   "metadata": {},
   "outputs": [],
   "source": [
    "import keras\n",
    "import tensorflow\n",
    "from keras.models import Sequential, Input, Model\n",
    "from keras.layers import Dense, Dropout, Flatten\n",
    "from keras.layers import Conv2D, MaxPooling2D\n",
    "from tensorflow.keras.layers import BatchNormalization\n",
    "from tensorflow.keras.metrics import AUC"
   ]
  },
  {
   "cell_type": "code",
   "execution_count": 11,
   "id": "0401eabd",
   "metadata": {},
   "outputs": [],
   "source": [
    "num_classes = 10"
   ]
  },
  {
   "cell_type": "code",
   "execution_count": 12,
   "id": "b3593ed6",
   "metadata": {},
   "outputs": [],
   "source": [
    "def malware_model():\n",
    "    Malware_model = Sequential()\n",
    "    # Convolutional Layer : 30 filters, (3 * 3) kernel size\n",
    "    Malware_model.add(Conv2D(30, kernel_size=(3, 3),\n",
    "                     activation='relu',\n",
    "                     input_shape=(64,64,3)))\n",
    "\n",
    "    # Max Pooling Layer : (2 * 2) pool size\n",
    "    Malware_model.add(MaxPooling2D(pool_size=(2, 2)))\n",
    "    \n",
    "    #Convolutional Layer : 15 filters, (3 * 3) kernel size\n",
    "    Malware_model.add(Conv2D(16, (3, 3), activation='relu'))\n",
    "    \n",
    "    # Max Pooling Layer : (2 * 2) pool size\n",
    "    Malware_model.add(MaxPooling2D(pool_size=(2, 2)))\n",
    "    \n",
    "    # DropOut Layer : Dropping 25% of neurons.\n",
    "    Malware_model.add(Dropout(0.25))\n",
    "    \n",
    "    # Flatten Layer\n",
    "    Malware_model.add(Flatten())\n",
    "    \n",
    "    # Dense/Fully Connected Layer : 128 Neurons, Relu activation function\n",
    "    Malware_model.add(Dense(128, activation='relu'))\n",
    "    \n",
    "   # Malware_model.add(Dense(64, activation='relu'))\n",
    "    \n",
    "    # DropOut Layer : Dropping 50% of neurons.\n",
    "    Malware_model.add(Dropout(0.5))\n",
    "    \n",
    "    # Dense/Fully Connected Layer : 50 Neurons, Softmax activation function\n",
    "    Malware_model.add(Dense(50, activation='relu'))\n",
    "    \n",
    "    # Dense/Fully Connected Layer : num_class Neurons, Softmax activation function\n",
    "    Malware_model.add(Dense(num_classes, activation='softmax'))\n",
    "    \n",
    "    \n",
    "    Malware_model.compile(loss='categorical_crossentropy', optimizer = 'adam', metrics=['accuracy'])\n",
    "    return Malware_model\n",
    "\n",
    "\n",
    "    # sparse_categorical_cross_entropy\n",
    "    # categorical_crossentropy\n",
    "    "
   ]
  },
  {
   "cell_type": "code",
   "execution_count": 13,
   "id": "9a4ebf7d",
   "metadata": {},
   "outputs": [],
   "source": [
    "from keras import backend as K\n",
    "\n",
    "def recall_m(y_test, y_pred):\n",
    "    true_positives = K.sum(K.round(K.clip(y_test * y_pred, 0, 1)))\n",
    "    possible_positives = K.sum(K.round(K.clip(y_test, 0, 1)))\n",
    "    recall = true_positives / (possible_positives + K.epsilon())\n",
    "    return recall\n",
    "\n",
    "def precision_m(y_test, y_pred):\n",
    "    true_positives = K.sum(K.round(K.clip(y_test * y_pred, 0, 1)))\n",
    "    predicted_positives = K.sum(K.round(K.clip(y_pred, 0, 1)))\n",
    "    precision = true_positives / (predicted_positives + K.epsilon())\n",
    "    return precision\n",
    "\n",
    "def f1_m(y_test, y_pred):\n",
    "    precision = precision_m(y_test, y_pred)\n",
    "    recall = recall_m(y_test, y_pred)\n",
    "    return 2*((precision*recall)/(precision+recall+K.epsilon()))"
   ]
  },
  {
   "cell_type": "code",
   "execution_count": 25,
   "id": "c1e2abbc",
   "metadata": {},
   "outputs": [],
   "source": [
    "Malware_model = malware_model()"
   ]
  },
  {
   "cell_type": "code",
   "execution_count": 15,
   "id": "bcb1d474",
   "metadata": {},
   "outputs": [
    {
     "name": "stdout",
     "output_type": "stream",
     "text": [
      "Model: \"sequential\"\n",
      "_________________________________________________________________\n",
      "Layer (type)                 Output Shape              Param #   \n",
      "=================================================================\n",
      "conv2d (Conv2D)              (None, 62, 62, 30)        840       \n",
      "_________________________________________________________________\n",
      "max_pooling2d (MaxPooling2D) (None, 31, 31, 30)        0         \n",
      "_________________________________________________________________\n",
      "conv2d_1 (Conv2D)            (None, 29, 29, 16)        4336      \n",
      "_________________________________________________________________\n",
      "max_pooling2d_1 (MaxPooling2 (None, 14, 14, 16)        0         \n",
      "_________________________________________________________________\n",
      "dropout (Dropout)            (None, 14, 14, 16)        0         \n",
      "_________________________________________________________________\n",
      "flatten (Flatten)            (None, 3136)              0         \n",
      "_________________________________________________________________\n",
      "dense (Dense)                (None, 128)               401536    \n",
      "_________________________________________________________________\n",
      "dropout_1 (Dropout)          (None, 128)               0         \n",
      "_________________________________________________________________\n",
      "dense_1 (Dense)              (None, 50)                6450      \n",
      "_________________________________________________________________\n",
      "dense_2 (Dense)              (None, 10)                510       \n",
      "=================================================================\n",
      "Total params: 413,672\n",
      "Trainable params: 413,672\n",
      "Non-trainable params: 0\n",
      "_________________________________________________________________\n"
     ]
    }
   ],
   "source": [
    "Malware_model.summary()"
   ]
  },
  {
   "cell_type": "code",
   "execution_count": 16,
   "id": "9e8d69b6",
   "metadata": {},
   "outputs": [
    {
     "data": {
      "text/plain": [
       "(74, 10)"
      ]
     },
     "execution_count": 16,
     "metadata": {},
     "output_type": "execute_result"
    }
   ],
   "source": [
    "y_train.shape"
   ]
  },
  {
   "cell_type": "code",
   "execution_count": 17,
   "id": "6711d2f9",
   "metadata": {},
   "outputs": [],
   "source": [
    "y_train_new = np.argmax(y_train, axis=1)"
   ]
  },
  {
   "cell_type": "code",
   "execution_count": 18,
   "id": "838a6a56",
   "metadata": {},
   "outputs": [
    {
     "data": {
      "text/plain": [
       "array([2, 2, 5, 8, 3, 5, 2, 0, 1, 2, 6, 4, 7, 4, 9, 4, 4, 0, 7, 3, 5, 9,\n",
       "       3, 1, 5, 6, 3, 4, 8, 7, 2, 4, 7, 5, 1, 7, 4, 5, 7, 2, 0, 6, 9, 6,\n",
       "       6, 1, 1, 3, 3, 0, 1, 4, 3, 9, 8, 6, 2, 5, 6, 3, 9, 0, 0, 6, 5, 3,\n",
       "       4, 0, 1, 1, 9, 2, 2, 5])"
      ]
     },
     "execution_count": 18,
     "metadata": {},
     "output_type": "execute_result"
    }
   ],
   "source": [
    "y_train_new"
   ]
  },
  {
   "cell_type": "code",
   "execution_count": 19,
   "id": "e5fccc6d",
   "metadata": {},
   "outputs": [],
   "source": [
    "from sklearn.utils import class_weight\n",
    "class_weights = class_weight.compute_class_weight(class_weight = 'balanced',\n",
    "                                                 classes = np.unique(y_train_new),\n",
    "                                                 y = y_train_new)\n",
    "\n",
    "class_weights = {l:c for l,c in zip(np.unique(y_train_new), class_weights)}"
   ]
  },
  {
   "cell_type": "code",
   "execution_count": 20,
   "id": "a62f070a",
   "metadata": {},
   "outputs": [],
   "source": [
    "Malware_model.compile(optimizer='adam', loss='binary_crossentropy', metrics=[f1_m,precision_m, recall_m,AUC()])"
   ]
  },
  {
   "cell_type": "code",
   "execution_count": 21,
   "id": "f8c8523a",
   "metadata": {
    "scrolled": true
   },
   "outputs": [
    {
     "name": "stderr",
     "output_type": "stream",
     "text": [
      "2023-05-02 19:00:15.737473: I tensorflow/compiler/mlir/mlir_graph_optimization_pass.cc:116] None of the MLIR optimization passes are enabled (registered 2)\n"
     ]
    },
    {
     "name": "stdout",
     "output_type": "stream",
     "text": [
      "Epoch 1/100\n",
      "3/3 [==============================] - 1s 249ms/step - loss: 0.6938 - f1_m: 0.0000e+00 - precision_m: 0.0000e+00 - recall_m: 0.0000e+00 - auc: 0.4950 - val_loss: 0.5608 - val_f1_m: 0.0000e+00 - val_precision_m: 0.0000e+00 - val_recall_m: 0.0000e+00 - val_auc: 0.5317\n",
      "Epoch 2/100\n",
      "3/3 [==============================] - 0s 42ms/step - loss: 0.5781 - f1_m: 0.0256 - precision_m: 0.0556 - recall_m: 0.0167 - auc: 0.5286 - val_loss: 0.4280 - val_f1_m: 0.0294 - val_precision_m: 0.2500 - val_recall_m: 0.0156 - val_auc: 0.5604\n",
      "Epoch 3/100\n",
      "3/3 [==============================] - 0s 39ms/step - loss: 0.4768 - f1_m: 0.0400 - precision_m: 0.1146 - recall_m: 0.0258 - auc: 0.5380 - val_loss: 0.3866 - val_f1_m: 0.0000e+00 - val_precision_m: 0.0000e+00 - val_recall_m: 0.0000e+00 - val_auc: 0.5583\n",
      "Epoch 4/100\n",
      "3/3 [==============================] - 0s 41ms/step - loss: 0.4548 - f1_m: 0.0427 - precision_m: 0.1227 - recall_m: 0.0260 - auc: 0.5208 - val_loss: 0.3570 - val_f1_m: 0.0000e+00 - val_precision_m: 0.0000e+00 - val_recall_m: 0.0000e+00 - val_auc: 0.5540\n",
      "Epoch 5/100\n",
      "3/3 [==============================] - 0s 45ms/step - loss: 0.3991 - f1_m: 0.0557 - precision_m: 0.1910 - recall_m: 0.0336 - auc: 0.5380 - val_loss: 0.3484 - val_f1_m: 0.0000e+00 - val_precision_m: 0.0000e+00 - val_recall_m: 0.0000e+00 - val_auc: 0.5548\n",
      "Epoch 6/100\n",
      "3/3 [==============================] - 0s 46ms/step - loss: 0.4257 - f1_m: 0.0000e+00 - precision_m: 0.0000e+00 - recall_m: 0.0000e+00 - auc: 0.4666 - val_loss: 0.3457 - val_f1_m: 0.0000e+00 - val_precision_m: 0.0000e+00 - val_recall_m: 0.0000e+00 - val_auc: 0.5510\n",
      "Epoch 7/100\n",
      "3/3 [==============================] - 0s 38ms/step - loss: 0.3918 - f1_m: 0.0000e+00 - precision_m: 0.0000e+00 - recall_m: 0.0000e+00 - auc: 0.5331 - val_loss: 0.3333 - val_f1_m: 0.0000e+00 - val_precision_m: 0.0000e+00 - val_recall_m: 0.0000e+00 - val_auc: 0.5652\n",
      "Epoch 8/100\n",
      "3/3 [==============================] - 0s 38ms/step - loss: 0.3657 - f1_m: 0.0000e+00 - precision_m: 0.0000e+00 - recall_m: 0.0000e+00 - auc: 0.5477 - val_loss: 0.3283 - val_f1_m: 0.0000e+00 - val_precision_m: 0.0000e+00 - val_recall_m: 0.0000e+00 - val_auc: 0.5662\n",
      "Epoch 9/100\n",
      "3/3 [==============================] - 0s 39ms/step - loss: 0.3811 - f1_m: 0.0000e+00 - precision_m: 0.0000e+00 - recall_m: 0.0000e+00 - auc: 0.5315 - val_loss: 0.3230 - val_f1_m: 0.0000e+00 - val_precision_m: 0.0000e+00 - val_recall_m: 0.0000e+00 - val_auc: 0.5895\n",
      "Epoch 10/100\n",
      "3/3 [==============================] - 0s 38ms/step - loss: 0.3652 - f1_m: 0.0000e+00 - precision_m: 0.0000e+00 - recall_m: 0.0000e+00 - auc: 0.5239 - val_loss: 0.3199 - val_f1_m: 0.0000e+00 - val_precision_m: 0.0000e+00 - val_recall_m: 0.0000e+00 - val_auc: 0.6166\n",
      "Epoch 11/100\n",
      "3/3 [==============================] - 0s 43ms/step - loss: 0.3499 - f1_m: 0.0177 - precision_m: 0.2917 - recall_m: 0.0091 - auc: 0.5642 - val_loss: 0.3180 - val_f1_m: 0.0000e+00 - val_precision_m: 0.0000e+00 - val_recall_m: 0.0000e+00 - val_auc: 0.6554\n",
      "Epoch 12/100\n",
      "3/3 [==============================] - 0s 45ms/step - loss: 0.3164 - f1_m: 0.0000e+00 - precision_m: 0.0000e+00 - recall_m: 0.0000e+00 - auc: 0.6635 - val_loss: 0.3161 - val_f1_m: 0.0000e+00 - val_precision_m: 0.0000e+00 - val_recall_m: 0.0000e+00 - val_auc: 0.6629\n",
      "Epoch 13/100\n",
      "3/3 [==============================] - 0s 39ms/step - loss: 0.3395 - f1_m: 0.0000e+00 - precision_m: 0.0000e+00 - recall_m: 0.0000e+00 - auc: 0.6297 - val_loss: 0.3154 - val_f1_m: 0.0000e+00 - val_precision_m: 0.0000e+00 - val_recall_m: 0.0000e+00 - val_auc: 0.6685\n",
      "Epoch 14/100\n",
      "3/3 [==============================] - 0s 38ms/step - loss: 0.3389 - f1_m: 0.0000e+00 - precision_m: 0.0000e+00 - recall_m: 0.0000e+00 - auc: 0.6211 - val_loss: 0.3222 - val_f1_m: 0.0000e+00 - val_precision_m: 0.0000e+00 - val_recall_m: 0.0000e+00 - val_auc: 0.6508\n",
      "Epoch 15/100\n",
      "3/3 [==============================] - 0s 44ms/step - loss: 0.3350 - f1_m: 0.0000e+00 - precision_m: 0.0000e+00 - recall_m: 0.0000e+00 - auc: 0.6605 - val_loss: 0.3171 - val_f1_m: 0.0000e+00 - val_precision_m: 0.0000e+00 - val_recall_m: 0.0000e+00 - val_auc: 0.6546\n",
      "Epoch 16/100\n",
      "3/3 [==============================] - 0s 43ms/step - loss: 0.3195 - f1_m: 0.0000e+00 - precision_m: 0.0000e+00 - recall_m: 0.0000e+00 - auc: 0.6592 - val_loss: 0.3170 - val_f1_m: 0.0000e+00 - val_precision_m: 0.0000e+00 - val_recall_m: 0.0000e+00 - val_auc: 0.6635\n",
      "Epoch 17/100\n",
      "3/3 [==============================] - 0s 39ms/step - loss: 0.3214 - f1_m: 0.0328 - precision_m: 0.5417 - recall_m: 0.0169 - auc: 0.6837 - val_loss: 0.3108 - val_f1_m: 0.0000e+00 - val_precision_m: 0.0000e+00 - val_recall_m: 0.0000e+00 - val_auc: 0.7026\n",
      "Epoch 18/100\n",
      "3/3 [==============================] - 0s 39ms/step - loss: 0.3173 - f1_m: 0.0000e+00 - precision_m: 0.0000e+00 - recall_m: 0.0000e+00 - auc: 0.6989 - val_loss: 0.3088 - val_f1_m: 0.0000e+00 - val_precision_m: 0.0000e+00 - val_recall_m: 0.0000e+00 - val_auc: 0.7333\n",
      "Epoch 19/100\n",
      "3/3 [==============================] - 0s 37ms/step - loss: 0.3066 - f1_m: 0.0000e+00 - precision_m: 0.0000e+00 - recall_m: 0.0000e+00 - auc: 0.7526 - val_loss: 0.3038 - val_f1_m: 0.0000e+00 - val_precision_m: 0.0000e+00 - val_recall_m: 0.0000e+00 - val_auc: 0.7527\n",
      "Epoch 20/100\n",
      "3/3 [==============================] - 0s 46ms/step - loss: 0.2890 - f1_m: 0.0662 - precision_m: 0.7361 - recall_m: 0.0352 - auc: 0.7792 - val_loss: 0.3013 - val_f1_m: 0.0000e+00 - val_precision_m: 0.0000e+00 - val_recall_m: 0.0000e+00 - val_auc: 0.7520\n",
      "Epoch 21/100\n",
      "3/3 [==============================] - 0s 44ms/step - loss: 0.3067 - f1_m: 0.0328 - precision_m: 0.5417 - recall_m: 0.0169 - auc: 0.7452 - val_loss: 0.3043 - val_f1_m: 0.0000e+00 - val_precision_m: 0.0000e+00 - val_recall_m: 0.0000e+00 - val_auc: 0.7394\n",
      "Epoch 22/100\n",
      "3/3 [==============================] - 0s 44ms/step - loss: 0.3098 - f1_m: 0.0475 - precision_m: 0.3125 - recall_m: 0.0258 - auc: 0.7312 - val_loss: 0.3003 - val_f1_m: 0.0000e+00 - val_precision_m: 0.0000e+00 - val_recall_m: 0.0000e+00 - val_auc: 0.7294\n",
      "Epoch 23/100\n",
      "3/3 [==============================] - 0s 43ms/step - loss: 0.2775 - f1_m: 0.0646 - precision_m: 0.4583 - recall_m: 0.0349 - auc: 0.8332 - val_loss: 0.3034 - val_f1_m: 0.0000e+00 - val_precision_m: 0.0000e+00 - val_recall_m: 0.0000e+00 - val_auc: 0.7244\n",
      "Epoch 24/100\n",
      "3/3 [==============================] - 0s 38ms/step - loss: 0.2930 - f1_m: 0.0480 - precision_m: 0.4583 - recall_m: 0.0258 - auc: 0.7895 - val_loss: 0.2989 - val_f1_m: 0.0000e+00 - val_precision_m: 0.0000e+00 - val_recall_m: 0.0000e+00 - val_auc: 0.7468\n",
      "Epoch 25/100\n",
      "3/3 [==============================] - 0s 38ms/step - loss: 0.2780 - f1_m: 0.0752 - precision_m: 0.6181 - recall_m: 0.0427 - auc: 0.8029 - val_loss: 0.2907 - val_f1_m: 0.0000e+00 - val_precision_m: 0.0000e+00 - val_recall_m: 0.0000e+00 - val_auc: 0.7837\n",
      "Epoch 26/100\n",
      "3/3 [==============================] - 0s 37ms/step - loss: 0.2818 - f1_m: 0.0619 - precision_m: 0.3611 - recall_m: 0.0339 - auc: 0.8139 - val_loss: 0.2870 - val_f1_m: 0.0588 - val_precision_m: 0.5000 - val_recall_m: 0.0312 - val_auc: 0.7988\n",
      "Epoch 27/100\n",
      "3/3 [==============================] - 0s 39ms/step - loss: 0.2559 - f1_m: 0.2331 - precision_m: 0.9167 - recall_m: 0.1365 - auc: 0.8647 - val_loss: 0.2842 - val_f1_m: 0.0588 - val_precision_m: 0.5000 - val_recall_m: 0.0312 - val_auc: 0.8041\n",
      "Epoch 28/100\n",
      "3/3 [==============================] - 0s 38ms/step - loss: 0.2589 - f1_m: 0.2075 - precision_m: 0.8250 - recall_m: 0.1193 - auc: 0.8644 - val_loss: 0.2829 - val_f1_m: 0.0303 - val_precision_m: 0.5000 - val_recall_m: 0.0156 - val_auc: 0.8051\n",
      "Epoch 29/100\n",
      "3/3 [==============================] - 0s 41ms/step - loss: 0.2437 - f1_m: 0.2378 - precision_m: 1.0000 - recall_m: 0.1461 - auc: 0.8626 - val_loss: 0.2845 - val_f1_m: 0.0303 - val_precision_m: 0.5000 - val_recall_m: 0.0156 - val_auc: 0.8091\n",
      "Epoch 30/100\n",
      "3/3 [==============================] - 0s 43ms/step - loss: 0.2488 - f1_m: 0.2393 - precision_m: 0.6493 - recall_m: 0.1471 - auc: 0.8630 - val_loss: 0.2806 - val_f1_m: 0.0303 - val_precision_m: 0.5000 - val_recall_m: 0.0156 - val_auc: 0.7937\n",
      "Epoch 31/100\n"
     ]
    },
    {
     "name": "stdout",
     "output_type": "stream",
     "text": [
      "3/3 [==============================] - 0s 42ms/step - loss: 0.2339 - f1_m: 0.3061 - precision_m: 1.0000 - recall_m: 0.1820 - auc: 0.8980 - val_loss: 0.2801 - val_f1_m: 0.0588 - val_precision_m: 0.5000 - val_recall_m: 0.0312 - val_auc: 0.7830\n",
      "Epoch 32/100\n",
      "3/3 [==============================] - 0s 45ms/step - loss: 0.2183 - f1_m: 0.3770 - precision_m: 0.8681 - recall_m: 0.2432 - auc: 0.9279 - val_loss: 0.2785 - val_f1_m: 0.0303 - val_precision_m: 0.5000 - val_recall_m: 0.0156 - val_auc: 0.7919\n",
      "Epoch 33/100\n",
      "3/3 [==============================] - 0s 42ms/step - loss: 0.2120 - f1_m: 0.4683 - precision_m: 0.9167 - recall_m: 0.3177 - auc: 0.9183 - val_loss: 0.2751 - val_f1_m: 0.0278 - val_precision_m: 0.1250 - val_recall_m: 0.0156 - val_auc: 0.8064\n",
      "Epoch 34/100\n",
      "3/3 [==============================] - 0s 41ms/step - loss: 0.2231 - f1_m: 0.3920 - precision_m: 0.7034 - recall_m: 0.2742 - auc: 0.9013 - val_loss: 0.2696 - val_f1_m: 0.1026 - val_precision_m: 0.2857 - val_recall_m: 0.0625 - val_auc: 0.8187\n",
      "Epoch 35/100\n",
      "3/3 [==============================] - 0s 39ms/step - loss: 0.2273 - f1_m: 0.4334 - precision_m: 0.8552 - recall_m: 0.2992 - auc: 0.9170 - val_loss: 0.2722 - val_f1_m: 0.1026 - val_precision_m: 0.2857 - val_recall_m: 0.0625 - val_auc: 0.8141\n",
      "Epoch 36/100\n",
      "3/3 [==============================] - 0s 39ms/step - loss: 0.2086 - f1_m: 0.4425 - precision_m: 0.8625 - recall_m: 0.3008 - auc: 0.9313 - val_loss: 0.2788 - val_f1_m: 0.1081 - val_precision_m: 0.4000 - val_recall_m: 0.0625 - val_auc: 0.8068\n",
      "Epoch 37/100\n",
      "3/3 [==============================] - 0s 38ms/step - loss: 0.1700 - f1_m: 0.6203 - precision_m: 0.9818 - recall_m: 0.4576 - auc: 0.9704 - val_loss: 0.2729 - val_f1_m: 0.1111 - val_precision_m: 0.5000 - val_recall_m: 0.0625 - val_auc: 0.7975\n",
      "Epoch 38/100\n",
      "3/3 [==============================] - 0s 39ms/step - loss: 0.1810 - f1_m: 0.5358 - precision_m: 0.8572 - recall_m: 0.3964 - auc: 0.9608 - val_loss: 0.2705 - val_f1_m: 0.1026 - val_precision_m: 0.2857 - val_recall_m: 0.0625 - val_auc: 0.8003\n",
      "Epoch 39/100\n",
      "3/3 [==============================] - 0s 40ms/step - loss: 0.2027 - f1_m: 0.4765 - precision_m: 0.8909 - recall_m: 0.3271 - auc: 0.9327 - val_loss: 0.2671 - val_f1_m: 0.1250 - val_precision_m: 0.3125 - val_recall_m: 0.0781 - val_auc: 0.8172\n",
      "Epoch 40/100\n",
      "3/3 [==============================] - 0s 38ms/step - loss: 0.1712 - f1_m: 0.5663 - precision_m: 0.8386 - recall_m: 0.4339 - auc: 0.9589 - val_loss: 0.2642 - val_f1_m: 0.1364 - val_precision_m: 0.2500 - val_recall_m: 0.0938 - val_auc: 0.8433\n",
      "Epoch 41/100\n",
      "3/3 [==============================] - 0s 38ms/step - loss: 0.1700 - f1_m: 0.5542 - precision_m: 0.8005 - recall_m: 0.4266 - auc: 0.9583 - val_loss: 0.2539 - val_f1_m: 0.1333 - val_precision_m: 0.2308 - val_recall_m: 0.0938 - val_auc: 0.8567\n",
      "Epoch 42/100\n",
      "3/3 [==============================] - 0s 38ms/step - loss: 0.1676 - f1_m: 0.6531 - precision_m: 0.8224 - recall_m: 0.5427 - auc: 0.9489 - val_loss: 0.2557 - val_f1_m: 0.1136 - val_precision_m: 0.2083 - val_recall_m: 0.0781 - val_auc: 0.8482\n",
      "Epoch 43/100\n",
      "3/3 [==============================] - 0s 37ms/step - loss: 0.1558 - f1_m: 0.6997 - precision_m: 0.8502 - recall_m: 0.5958 - auc: 0.9602 - val_loss: 0.2711 - val_f1_m: 0.1333 - val_precision_m: 0.2308 - val_recall_m: 0.0938 - val_auc: 0.8391\n",
      "Epoch 44/100\n",
      "3/3 [==============================] - 0s 40ms/step - loss: 0.1445 - f1_m: 0.7476 - precision_m: 0.9018 - recall_m: 0.6388 - auc: 0.9790 - val_loss: 0.2682 - val_f1_m: 0.1333 - val_precision_m: 0.2308 - val_recall_m: 0.0938 - val_auc: 0.8318\n",
      "Epoch 45/100\n",
      "3/3 [==============================] - 0s 37ms/step - loss: 0.1408 - f1_m: 0.7185 - precision_m: 0.8934 - recall_m: 0.6044 - auc: 0.9761 - val_loss: 0.2567 - val_f1_m: 0.6333 - val_precision_m: 0.7308 - val_recall_m: 0.5937 - val_auc: 0.8357\n",
      "Epoch 46/100\n",
      "3/3 [==============================] - 0s 37ms/step - loss: 0.1328 - f1_m: 0.7409 - precision_m: 0.8545 - recall_m: 0.6544 - auc: 0.9794 - val_loss: 0.2756 - val_f1_m: 0.6458 - val_precision_m: 0.7187 - val_recall_m: 0.6094 - val_auc: 0.8203\n",
      "Epoch 47/100\n",
      "3/3 [==============================] - 0s 40ms/step - loss: 0.1226 - f1_m: 0.7349 - precision_m: 0.8614 - recall_m: 0.6443 - auc: 0.9839 - val_loss: 0.2821 - val_f1_m: 0.1702 - val_precision_m: 0.2667 - val_recall_m: 0.1250 - val_auc: 0.8075\n",
      "Epoch 48/100\n",
      "3/3 [==============================] - 0s 38ms/step - loss: 0.1153 - f1_m: 0.8320 - precision_m: 0.9531 - recall_m: 0.7398 - auc: 0.9839 - val_loss: 0.2790 - val_f1_m: 0.1875 - val_precision_m: 0.2812 - val_recall_m: 0.1406 - val_auc: 0.8044\n",
      "Epoch 49/100\n",
      "3/3 [==============================] - 0s 37ms/step - loss: 0.1242 - f1_m: 0.7453 - precision_m: 0.8792 - recall_m: 0.6500 - auc: 0.9738 - val_loss: 0.2874 - val_f1_m: 0.1633 - val_precision_m: 0.2353 - val_recall_m: 0.1250 - val_auc: 0.8174\n",
      "Epoch 50/100\n",
      "3/3 [==============================] - 0s 40ms/step - loss: 0.0999 - f1_m: 0.8592 - precision_m: 0.9285 - recall_m: 0.8000 - auc: 0.9946 - val_loss: 0.2974 - val_f1_m: 0.1600 - val_precision_m: 0.2222 - val_recall_m: 0.1250 - val_auc: 0.8262\n",
      "Epoch 51/100\n",
      "3/3 [==============================] - 0s 37ms/step - loss: 0.1146 - f1_m: 0.7734 - precision_m: 0.8343 - recall_m: 0.7221 - auc: 0.9838 - val_loss: 0.2759 - val_f1_m: 0.1600 - val_precision_m: 0.2222 - val_recall_m: 0.1250 - val_auc: 0.8307\n",
      "Epoch 52/100\n",
      "3/3 [==============================] - 0s 38ms/step - loss: 0.1095 - f1_m: 0.7782 - precision_m: 0.8656 - recall_m: 0.7078 - auc: 0.9835 - val_loss: 0.2620 - val_f1_m: 0.1633 - val_precision_m: 0.2353 - val_recall_m: 0.1250 - val_auc: 0.8347\n",
      "Epoch 53/100\n",
      "3/3 [==============================] - 0s 38ms/step - loss: 0.1045 - f1_m: 0.8077 - precision_m: 0.9078 - recall_m: 0.7328 - auc: 0.9912 - val_loss: 0.2751 - val_f1_m: 0.1633 - val_precision_m: 0.2353 - val_recall_m: 0.1250 - val_auc: 0.8276\n",
      "Epoch 54/100\n",
      "3/3 [==============================] - 0s 39ms/step - loss: 0.1069 - f1_m: 0.8086 - precision_m: 0.8901 - recall_m: 0.7417 - auc: 0.9900 - val_loss: 0.2791 - val_f1_m: 0.1765 - val_precision_m: 0.2368 - val_recall_m: 0.1406 - val_auc: 0.8319\n",
      "Epoch 55/100\n",
      "3/3 [==============================] - 0s 39ms/step - loss: 0.1082 - f1_m: 0.8099 - precision_m: 0.8446 - recall_m: 0.7781 - auc: 0.9899 - val_loss: 0.2837 - val_f1_m: 0.6731 - val_precision_m: 0.7250 - val_recall_m: 0.6406 - val_auc: 0.8244\n",
      "Epoch 56/100\n",
      "3/3 [==============================] - 0s 38ms/step - loss: 0.0854 - f1_m: 0.8707 - precision_m: 0.9314 - recall_m: 0.8182 - auc: 0.9939 - val_loss: 0.2969 - val_f1_m: 0.1731 - val_precision_m: 0.2250 - val_recall_m: 0.1406 - val_auc: 0.8195\n",
      "Epoch 57/100\n",
      "3/3 [==============================] - 0s 39ms/step - loss: 0.0783 - f1_m: 0.8476 - precision_m: 0.8591 - recall_m: 0.8365 - auc: 0.9937 - val_loss: 0.3029 - val_f1_m: 0.1731 - val_precision_m: 0.2250 - val_recall_m: 0.1406 - val_auc: 0.8128\n",
      "Epoch 58/100\n",
      "3/3 [==============================] - 0s 39ms/step - loss: 0.0891 - f1_m: 0.8084 - precision_m: 0.8550 - recall_m: 0.7667 - auc: 0.9912 - val_loss: 0.2873 - val_f1_m: 0.1731 - val_precision_m: 0.2250 - val_recall_m: 0.1406 - val_auc: 0.8089\n",
      "Epoch 59/100\n",
      "3/3 [==============================] - 0s 44ms/step - loss: 0.0908 - f1_m: 0.8076 - precision_m: 0.8563 - recall_m: 0.7659 - auc: 0.9916 - val_loss: 0.2821 - val_f1_m: 0.6800 - val_precision_m: 0.7500 - val_recall_m: 0.6406 - val_auc: 0.8145\n",
      "Epoch 60/100\n",
      "3/3 [==============================] - 0s 46ms/step - loss: 0.0770 - f1_m: 0.8712 - precision_m: 0.9307 - recall_m: 0.8198 - auc: 0.9954 - val_loss: 0.3043 - val_f1_m: 0.6765 - val_precision_m: 0.7368 - val_recall_m: 0.6406 - val_auc: 0.8247\n",
      "Epoch 61/100\n",
      "3/3 [==============================] - 0s 44ms/step - loss: 0.0845 - f1_m: 0.8379 - precision_m: 0.8617 - recall_m: 0.8169 - auc: 0.9933 - val_loss: 0.3031 - val_f1_m: 0.6765 - val_precision_m: 0.7368 - val_recall_m: 0.6406 - val_auc: 0.8140\n",
      "Epoch 62/100\n",
      "3/3 [==============================] - 0s 45ms/step - loss: 0.0797 - f1_m: 0.8225 - precision_m: 0.8642 - recall_m: 0.7867 - auc: 0.9908 - val_loss: 0.2980 - val_f1_m: 0.6538 - val_precision_m: 0.7000 - val_recall_m: 0.6250 - val_auc: 0.8120\n",
      "Epoch 63/100\n"
     ]
    },
    {
     "name": "stdout",
     "output_type": "stream",
     "text": [
      "3/3 [==============================] - 0s 46ms/step - loss: 0.0821 - f1_m: 0.8565 - precision_m: 0.9216 - recall_m: 0.8023 - auc: 0.9930 - val_loss: 0.3056 - val_f1_m: 0.6538 - val_precision_m: 0.7000 - val_recall_m: 0.6250 - val_auc: 0.8047\n",
      "Epoch 64/100\n",
      "3/3 [==============================] - 0s 44ms/step - loss: 0.0817 - f1_m: 0.8072 - precision_m: 0.8495 - recall_m: 0.7690 - auc: 0.9911 - val_loss: 0.2986 - val_f1_m: 0.6667 - val_precision_m: 0.7045 - val_recall_m: 0.6406 - val_auc: 0.8128\n",
      "Epoch 65/100\n",
      "3/3 [==============================] - 0s 46ms/step - loss: 0.0746 - f1_m: 0.8796 - precision_m: 0.8999 - recall_m: 0.8607 - auc: 0.9954 - val_loss: 0.3024 - val_f1_m: 0.6373 - val_precision_m: 0.6842 - val_recall_m: 0.6094 - val_auc: 0.8196\n",
      "Epoch 66/100\n",
      "3/3 [==============================] - 0s 47ms/step - loss: 0.0760 - f1_m: 0.8904 - precision_m: 0.9102 - recall_m: 0.8716 - auc: 0.9923 - val_loss: 0.3089 - val_f1_m: 0.6765 - val_precision_m: 0.7368 - val_recall_m: 0.6406 - val_auc: 0.8172\n",
      "Epoch 67/100\n",
      "3/3 [==============================] - 0s 45ms/step - loss: 0.0755 - f1_m: 0.8664 - precision_m: 0.8903 - recall_m: 0.8440 - auc: 0.9918 - val_loss: 0.3188 - val_f1_m: 0.6818 - val_precision_m: 0.7174 - val_recall_m: 0.6562 - val_auc: 0.8015\n",
      "Epoch 68/100\n",
      "3/3 [==============================] - 0s 48ms/step - loss: 0.0721 - f1_m: 0.8820 - precision_m: 0.9057 - recall_m: 0.8599 - auc: 0.9930 - val_loss: 0.3180 - val_f1_m: 0.6667 - val_precision_m: 0.7045 - val_recall_m: 0.6406 - val_auc: 0.7933\n",
      "Epoch 69/100\n",
      "3/3 [==============================] - 0s 46ms/step - loss: 0.0656 - f1_m: 0.8632 - precision_m: 0.8925 - recall_m: 0.8362 - auc: 0.9940 - val_loss: 0.3159 - val_f1_m: 0.6818 - val_precision_m: 0.7174 - val_recall_m: 0.6562 - val_auc: 0.7973\n",
      "Epoch 70/100\n",
      "3/3 [==============================] - 0s 45ms/step - loss: 0.0652 - f1_m: 0.9497 - precision_m: 0.9624 - recall_m: 0.9375 - auc: 0.9960 - val_loss: 0.3241 - val_f1_m: 0.6786 - val_precision_m: 0.7083 - val_recall_m: 0.6562 - val_auc: 0.7871\n",
      "Epoch 71/100\n",
      "3/3 [==============================] - 0s 48ms/step - loss: 0.0848 - f1_m: 0.7989 - precision_m: 0.8223 - recall_m: 0.7773 - auc: 0.9876 - val_loss: 0.3370 - val_f1_m: 0.6698 - val_precision_m: 0.7143 - val_recall_m: 0.6406 - val_auc: 0.8037\n",
      "Epoch 72/100\n",
      "3/3 [==============================] - 0s 38ms/step - loss: 0.0576 - f1_m: 0.8871 - precision_m: 0.8989 - recall_m: 0.8763 - auc: 0.9955 - val_loss: 0.3425 - val_f1_m: 0.6724 - val_precision_m: 0.6923 - val_recall_m: 0.6562 - val_auc: 0.8152\n",
      "Epoch 73/100\n",
      "3/3 [==============================] - 0s 44ms/step - loss: 0.0608 - f1_m: 0.8867 - precision_m: 0.8867 - recall_m: 0.8867 - auc: 0.9968 - val_loss: 0.3145 - val_f1_m: 0.6552 - val_precision_m: 0.6731 - val_recall_m: 0.6406 - val_auc: 0.8117\n",
      "Epoch 74/100\n",
      "3/3 [==============================] - 0s 45ms/step - loss: 0.0458 - f1_m: 0.9228 - precision_m: 0.9530 - recall_m: 0.8948 - auc: 0.9982 - val_loss: 0.3076 - val_f1_m: 0.6636 - val_precision_m: 0.6957 - val_recall_m: 0.6406 - val_auc: 0.8110\n",
      "Epoch 75/100\n",
      "3/3 [==============================] - 0s 47ms/step - loss: 0.0493 - f1_m: 0.9189 - precision_m: 0.9234 - recall_m: 0.9146 - auc: 0.9973 - val_loss: 0.3205 - val_f1_m: 0.6698 - val_precision_m: 0.7143 - val_recall_m: 0.6406 - val_auc: 0.8096\n",
      "Epoch 76/100\n",
      "3/3 [==============================] - 0s 43ms/step - loss: 0.0577 - f1_m: 0.9172 - precision_m: 0.9296 - recall_m: 0.9052 - auc: 0.9970 - val_loss: 0.3385 - val_f1_m: 0.6509 - val_precision_m: 0.6905 - val_recall_m: 0.6250 - val_auc: 0.8061\n",
      "Epoch 77/100\n",
      "3/3 [==============================] - 0s 40ms/step - loss: 0.0488 - f1_m: 0.9034 - precision_m: 0.9112 - recall_m: 0.8964 - auc: 0.9979 - val_loss: 0.3402 - val_f1_m: 0.6818 - val_precision_m: 0.7174 - val_recall_m: 0.6562 - val_auc: 0.8140\n",
      "Epoch 78/100\n",
      "3/3 [==============================] - 0s 38ms/step - loss: 0.0715 - f1_m: 0.8593 - precision_m: 0.8944 - recall_m: 0.8281 - auc: 0.9918 - val_loss: 0.3267 - val_f1_m: 0.6754 - val_precision_m: 0.7000 - val_recall_m: 0.6562 - val_auc: 0.8153\n",
      "Epoch 79/100\n",
      "3/3 [==============================] - 0s 39ms/step - loss: 0.0621 - f1_m: 0.8668 - precision_m: 0.8912 - recall_m: 0.8440 - auc: 0.9951 - val_loss: 0.3236 - val_f1_m: 0.6818 - val_precision_m: 0.7174 - val_recall_m: 0.6562 - val_auc: 0.8040\n",
      "Epoch 80/100\n",
      "3/3 [==============================] - 0s 38ms/step - loss: 0.0553 - f1_m: 0.8529 - precision_m: 0.8880 - recall_m: 0.8208 - auc: 0.9949 - val_loss: 0.3277 - val_f1_m: 0.6964 - val_precision_m: 0.7292 - val_recall_m: 0.6719 - val_auc: 0.8042\n",
      "Epoch 81/100\n",
      "3/3 [==============================] - 0s 40ms/step - loss: 0.0627 - f1_m: 0.8860 - precision_m: 0.9325 - recall_m: 0.8440 - auc: 0.9959 - val_loss: 0.3275 - val_f1_m: 0.6930 - val_precision_m: 0.7200 - val_recall_m: 0.6719 - val_auc: 0.8056\n",
      "Epoch 82/100\n",
      "3/3 [==============================] - 0s 39ms/step - loss: 0.0501 - f1_m: 0.8742 - precision_m: 0.8871 - recall_m: 0.8622 - auc: 0.9968 - val_loss: 0.3554 - val_f1_m: 0.6864 - val_precision_m: 0.7037 - val_recall_m: 0.6719 - val_auc: 0.8006\n",
      "Epoch 83/100\n",
      "3/3 [==============================] - 0s 38ms/step - loss: 0.0672 - f1_m: 0.8496 - precision_m: 0.8538 - recall_m: 0.8456 - auc: 0.9948 - val_loss: 0.3400 - val_f1_m: 0.6754 - val_precision_m: 0.7000 - val_recall_m: 0.6562 - val_auc: 0.8039\n",
      "Epoch 84/100\n",
      "3/3 [==============================] - 0s 38ms/step - loss: 0.0684 - f1_m: 0.8584 - precision_m: 0.8737 - recall_m: 0.8438 - auc: 0.9939 - val_loss: 0.3132 - val_f1_m: 0.6786 - val_precision_m: 0.7083 - val_recall_m: 0.6562 - val_auc: 0.8057\n",
      "Epoch 85/100\n",
      "3/3 [==============================] - 0s 38ms/step - loss: 0.0493 - f1_m: 0.8789 - precision_m: 0.8789 - recall_m: 0.8789 - auc: 0.9968 - val_loss: 0.3114 - val_f1_m: 0.6786 - val_precision_m: 0.7083 - val_recall_m: 0.6562 - val_auc: 0.8093\n",
      "Epoch 86/100\n",
      "3/3 [==============================] - 0s 44ms/step - loss: 0.0497 - f1_m: 0.9167 - precision_m: 0.9288 - recall_m: 0.9049 - auc: 0.9982 - val_loss: 0.3304 - val_f1_m: 0.6636 - val_precision_m: 0.6957 - val_recall_m: 0.6406 - val_auc: 0.8099\n",
      "Epoch 87/100\n",
      "3/3 [==============================] - 0s 38ms/step - loss: 0.0521 - f1_m: 0.8921 - precision_m: 0.9040 - recall_m: 0.8805 - auc: 0.9971 - val_loss: 0.3363 - val_f1_m: 0.6667 - val_precision_m: 0.7045 - val_recall_m: 0.6406 - val_auc: 0.8068\n",
      "Epoch 88/100\n",
      "3/3 [==============================] - 0s 38ms/step - loss: 0.0480 - f1_m: 0.9070 - precision_m: 0.9291 - recall_m: 0.8870 - auc: 0.9975 - val_loss: 0.3393 - val_f1_m: 0.6964 - val_precision_m: 0.7292 - val_recall_m: 0.6719 - val_auc: 0.7977\n",
      "Epoch 89/100\n",
      "3/3 [==============================] - 0s 38ms/step - loss: 0.0503 - f1_m: 0.8907 - precision_m: 0.9027 - recall_m: 0.8792 - auc: 0.9965 - val_loss: 0.3626 - val_f1_m: 0.7203 - val_precision_m: 0.7407 - val_recall_m: 0.7031 - val_auc: 0.7868\n",
      "Epoch 90/100\n",
      "3/3 [==============================] - 0s 38ms/step - loss: 0.0591 - f1_m: 0.9074 - precision_m: 0.9194 - recall_m: 0.8958 - auc: 0.9955 - val_loss: 0.3602 - val_f1_m: 0.7000 - val_precision_m: 0.7391 - val_recall_m: 0.6719 - val_auc: 0.7901\n",
      "Epoch 91/100\n",
      "3/3 [==============================] - 0s 42ms/step - loss: 0.0417 - f1_m: 0.9221 - precision_m: 0.9302 - recall_m: 0.9143 - auc: 0.9984 - val_loss: 0.3478 - val_f1_m: 0.6552 - val_precision_m: 0.6731 - val_recall_m: 0.6406 - val_auc: 0.8107\n",
      "Epoch 92/100\n",
      "3/3 [==============================] - 0s 44ms/step - loss: 0.0536 - f1_m: 0.8650 - precision_m: 0.8688 - recall_m: 0.8612 - auc: 0.9956 - val_loss: 0.3489 - val_f1_m: 0.6833 - val_precision_m: 0.6964 - val_recall_m: 0.6719 - val_auc: 0.8088\n",
      "Epoch 93/100\n",
      "3/3 [==============================] - 0s 45ms/step - loss: 0.0416 - f1_m: 0.9114 - precision_m: 0.9195 - recall_m: 0.9036 - auc: 0.9973 - val_loss: 0.3539 - val_f1_m: 0.6695 - val_precision_m: 0.6852 - val_recall_m: 0.6562 - val_auc: 0.8096\n",
      "Epoch 94/100\n",
      "3/3 [==============================] - 0s 41ms/step - loss: 0.0490 - f1_m: 0.8770 - precision_m: 0.8845 - recall_m: 0.8698 - auc: 0.9958 - val_loss: 0.3523 - val_f1_m: 0.6864 - val_precision_m: 0.7037 - val_recall_m: 0.6719 - val_auc: 0.8162\n",
      "Epoch 95/100\n"
     ]
    },
    {
     "name": "stdout",
     "output_type": "stream",
     "text": [
      "3/3 [==============================] - 0s 43ms/step - loss: 0.0573 - f1_m: 0.8554 - precision_m: 0.8592 - recall_m: 0.8518 - auc: 0.9946 - val_loss: 0.3367 - val_f1_m: 0.6833 - val_precision_m: 0.6964 - val_recall_m: 0.6719 - val_auc: 0.8226\n",
      "Epoch 96/100\n",
      "3/3 [==============================] - 0s 43ms/step - loss: 0.0393 - f1_m: 0.9097 - precision_m: 0.9140 - recall_m: 0.9055 - auc: 0.9984 - val_loss: 0.3317 - val_f1_m: 0.6930 - val_precision_m: 0.7200 - val_recall_m: 0.6719 - val_auc: 0.8230\n",
      "Epoch 97/100\n",
      "3/3 [==============================] - 0s 40ms/step - loss: 0.0414 - f1_m: 0.9648 - precision_m: 0.9648 - recall_m: 0.9648 - auc: 0.9985 - val_loss: 0.3499 - val_f1_m: 0.6930 - val_precision_m: 0.7200 - val_recall_m: 0.6719 - val_auc: 0.7939\n",
      "Epoch 98/100\n",
      "3/3 [==============================] - 0s 37ms/step - loss: 0.0416 - f1_m: 0.9187 - precision_m: 0.9231 - recall_m: 0.9143 - auc: 0.9977 - val_loss: 0.3678 - val_f1_m: 0.6930 - val_precision_m: 0.7200 - val_recall_m: 0.6719 - val_auc: 0.8008\n",
      "Epoch 99/100\n",
      "3/3 [==============================] - 0s 37ms/step - loss: 0.0403 - f1_m: 0.8549 - precision_m: 0.8549 - recall_m: 0.8549 - auc: 0.9973 - val_loss: 0.3669 - val_f1_m: 0.6930 - val_precision_m: 0.7200 - val_recall_m: 0.6719 - val_auc: 0.7977\n",
      "Epoch 100/100\n",
      "3/3 [==============================] - 0s 37ms/step - loss: 0.0430 - f1_m: 0.9044 - precision_m: 0.9119 - recall_m: 0.8971 - auc: 0.9974 - val_loss: 0.3714 - val_f1_m: 0.7069 - val_precision_m: 0.7308 - val_recall_m: 0.6875 - val_auc: 0.8093\n"
     ]
    },
    {
     "data": {
      "text/plain": [
       "<tensorflow.python.keras.callbacks.History at 0x7f38e81dc1f0>"
      ]
     },
     "execution_count": 21,
     "metadata": {},
     "output_type": "execute_result"
    }
   ],
   "source": [
    "Malware_model.fit(X_train, y_train, validation_data=(X_test, y_test), epochs=100,  class_weight=class_weights)"
   ]
  },
  {
   "cell_type": "code",
   "execution_count": 22,
   "id": "4471392c",
   "metadata": {},
   "outputs": [
    {
     "name": "stdout",
     "output_type": "stream",
     "text": [
      "2/2 [==============================] - 0s 3ms/step - loss: 0.3714 - f1_m: 0.7069 - precision_m: 0.7308 - recall_m: 0.6875 - auc: 0.8093\n"
     ]
    }
   ],
   "source": [
    "scores = Malware_model.evaluate(X_test, y_test)"
   ]
  },
  {
   "cell_type": "code",
   "execution_count": 23,
   "id": "af5d617f",
   "metadata": {},
   "outputs": [
    {
     "name": "stdout",
     "output_type": "stream",
     "text": [
      "2/2 [==============================] - 0s 3ms/step - loss: 0.3714 - f1_m: 0.7069 - precision_m: 0.7308 - recall_m: 0.6875 - auc: 0.8093\n"
     ]
    }
   ],
   "source": [
    "loss, accuracy, f1_score, precision, recall = Malware_model.evaluate(X_test, y_test)"
   ]
  },
  {
   "cell_type": "code",
   "execution_count": 24,
   "id": "dbcee16a",
   "metadata": {},
   "outputs": [
    {
     "name": "stdout",
     "output_type": "stream",
     "text": [
      "Final CNN accuracy:  0.7068964242935181\n"
     ]
    }
   ],
   "source": [
    "print('Final CNN accuracy: ', scores[1])"
   ]
  }
 ],
 "metadata": {
  "kernelspec": {
   "display_name": "Python 3 (ipykernel)",
   "language": "python",
   "name": "python3"
  },
  "language_info": {
   "codemirror_mode": {
    "name": "ipython",
    "version": 3
   },
   "file_extension": ".py",
   "mimetype": "text/x-python",
   "name": "python",
   "nbconvert_exporter": "python",
   "pygments_lexer": "ipython3",
   "version": "3.9.16"
  }
 },
 "nbformat": 4,
 "nbformat_minor": 5
}
