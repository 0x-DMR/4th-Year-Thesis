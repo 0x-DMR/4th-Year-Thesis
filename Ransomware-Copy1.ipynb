{
 "cells": [
  {
   "cell_type": "code",
   "execution_count": 1,
   "id": "e1c748fb",
   "metadata": {},
   "outputs": [
    {
     "name": "stderr",
     "output_type": "stream",
     "text": [
      "2023-05-05 14:47:22.613893: I tensorflow/stream_executor/platform/default/dso_loader.cc:49] Successfully opened dynamic library libcudart.so.10.1\n"
     ]
    },
    {
     "name": "stdout",
     "output_type": "stream",
     "text": [
      "Found 101 images belonging to 10 classes.\n",
      "Number of Images and Size of Images:  (101, 64, 64, 3)\n",
      "Number of Images and Families:  (101, 10)\n"
     ]
    }
   ],
   "source": [
    "# The following section is used to generate information about the datasets so these \n",
    "# variables can be initialised in the CNN Model. The information gathered here will\n",
    "# also be used to determine an appropiate size of the training and testing datasets.\n",
    "import os                                                   # Import os to change the information surrounding the enviroment \n",
    "from keras.preprocessing.image import ImageDataGenerator    # Create tensorflow image batches using data augmentation.\n",
    "os.environ['TF_XLA_FLAGS'] = '--tf_xla_enable_xla_devices'\n",
    "locationOfDataset = '/home/dmr/DatasetForExperiments/ransomware/'\n",
    "batches = ImageDataGenerator().flow_from_directory(directory=locationOfDataset, target_size=(64,64), batch_size=1010)\n",
    "\n",
    "# Print information about Images \n",
    "imgs, labels = next(batches)\n",
    "print(\"Number of Images and Size of Images: \",imgs.shape) # Images with width x length x depth\n",
    "print(\"Number of Images and Families: \",labels.shape) # Lablels with batch_size, number of classes"
   ]
  },
  {
   "cell_type": "code",
   "execution_count": 2,
   "id": "678032d1",
   "metadata": {},
   "outputs": [
    {
     "name": "stdout",
     "output_type": "stream",
     "text": [
      "Number of Samples in Training Set:  (90, 10)\n",
      "Number of Samples in Testing Set:  (11, 10)\n"
     ]
    }
   ],
   "source": [
    "# This section will cover the necessary steps used to split the scareware dataset\n",
    "# into training and testing to evaluate the effectiveness of this convolutional neural \n",
    "# network model based on the scareware samples.\n",
    "import numpy as np                                   # Provides the ability to use numerical data to convert the .dex files to greyscale images\n",
    "import scipy as sp                                   # Provides the use of algorithms to be used \n",
    "from PIL import Image                                # Allow for processing of images\n",
    "\n",
    "# Splitting the Dataset into Training and testing with a test size of 30% of overall \n",
    "# samples in the dataset. \n",
    "from sklearn.model_selection import train_test_split    # Used to split the dataset\n",
    "\n",
    "# Split up the data set, 10% testing 90% training\n",
    "trainX, testX, trainY, testY = train_test_split(imgs/255.,labels, test_size=0.1)\n",
    "\n",
    "# Print the information regarding the training and testing sample sizes\n",
    "#print(\"Size of Training Set: \", trainX.shape)                   # Print training set information\n",
    "#print(\"Size of Testing Set: \",testX.shape)                      # Print testing set information\n",
    "print(\"Number of Samples in Training Set: \",trainY.shape)   # Print training set information\n",
    "print(\"Number of Samples in Testing Set: \",testY.shape)     # Print testing set information"
   ]
  },
  {
   "cell_type": "code",
   "execution_count": 3,
   "id": "612d65d2",
   "metadata": {},
   "outputs": [],
   "source": [
    "# The Convolutional Neural Network Model\n",
    "# This section will encompass the aspects surrounding the convultional neural network\n",
    "# which was used for the experimentation of this research. \n",
    "import keras                                            # Import keras\n",
    "import tensorflow                                       # Import tensorflow\n",
    "from keras.models import Sequential, Input, Model       # Used for CNN model regarding Models\n",
    "from keras.layers import Dense, Dropout, Flatten        # Used for CNN model regarding Layers\n",
    "from keras.layers import Conv2D, MaxPooling2D           # Used for CNN model regarding Layers\n",
    "from tensorflow.keras.layers import BatchNormalization  # Layer used to normalise inputs\n",
    "from tensorflow.keras.metrics import AUC                # Used estimate to Area Under Curve\n",
    "\n",
    "noOfFamilies = 10 # Number of Families in the Sample\n",
    "\n",
    "# Function used to create the layers of the convolutional neural network model. These parameters were\n",
    "# constantly changed throughout testing in order to obtain the best possible results. Within this model \n",
    "# there are 10 main layers and each layers parameters are explained in detail. \n",
    "def CNNModel():\n",
    "    CNNModel = Sequential()        # Sequential Model is used the experiments\n",
    "\n",
    "    # Convolutional Layer: With relu Activation, 31 filters, and a kernel size of 3 x 3\n",
    "    CNNModel.add(Conv2D(31, kernel_size=(3, 3),\n",
    "                     activation='relu',\n",
    "                     input_shape=(64,64,3)))                # Layer 1 \n",
    "\n",
    "    # Max Pooling Layer: With a pool size of 2 x 2\n",
    "    CNNModel.add(MaxPooling2D(pool_size=(2, 2)))            # Layer 2\n",
    "    \n",
    "    # Convolutional Layer: 17 filters and kernel size of 3 x 3 \n",
    "    CNNModel.add(Conv2D(17, (3, 3), activation='relu'))     # Layer 3\n",
    "    \n",
    "    # Max Pooling Layer: Pool size of 2 x 2 \n",
    "    CNNModel.add(MaxPooling2D(pool_size=(2, 2)))            # Layer 4\n",
    "    \n",
    "    # Drop Out Layer: This layer used to drop 25% of neurons in the model .\n",
    "    CNNModel.add(Dropout(0.25))                             # Layer 5\n",
    "    \n",
    "    # Flatten Layer\n",
    "    CNNModel.add(Flatten())                                 # Layer 6\n",
    "    \n",
    "    # Dense/Fully Connected Layer : 128 Neurons using the relu activation function\n",
    "    CNNModel.add(Dense(128, activation='relu'))             # Layer 7\n",
    "    \n",
    "    # Drop Out Layer: This layer used to drop 50% of neurons in the model.\n",
    "    CNNModel.add(Dropout(0.5))                              # Layer 8\n",
    "    \n",
    "    # Dense/Fully Connected Layer : 50 Neurons using the relu activation function\n",
    "    CNNModel.add(Dense(50, activation='relu'))              # Layer 9\n",
    "    \n",
    "    # Dense/Fully Connected Layer : number of families neurons, using the softmax activation function\n",
    "    CNNModel.add(Dense(noOfFamilies, activation='softmax')) # Layer 10\n",
    "    \n",
    "    CNNModel.compile(loss='categorical_crossentropy', optimizer = 'adam', metrics=['accuracy'])\n",
    "    return CNNModel     # Return the Convolutional Neural Network Model"
   ]
  },
  {
   "cell_type": "code",
   "execution_count": 4,
   "id": "43cddf0f",
   "metadata": {},
   "outputs": [],
   "source": [
    "# Measure the effectiveness of the model. This section is used to generate the results of the \n",
    "# corresponding convolutional neural network. For the purpose of this mode, there are three main \n",
    "# measurements which have to be declared. These are recall, preicision and f1. Listed below\n",
    "# are the neccessary formulas which are required to obtain these results.\n",
    "from keras import backend as K\n",
    "\n",
    "# Recall Measurement\n",
    "def recallMeasurement(testY, yPrediction):\n",
    "    true_positives = K.sum(K.round(K.clip(testY * yPrediction, 0, 1)))\n",
    "    possible_positives = K.sum(K.round(K.clip(testY, 0, 1)))\n",
    "    recall = true_positives / (possible_positives + K.epsilon())\n",
    "    return recall\n",
    "\n",
    "# Precision Measurement\n",
    "def precisionMeasurement(testY, yPrediction):\n",
    "    true_positives = K.sum(K.round(K.clip(testY * yPrediction, 0, 1)))\n",
    "    predicted_positives = K.sum(K.round(K.clip(yPrediction, 0, 1)))\n",
    "    precision = true_positives / (predicted_positives + K.epsilon())\n",
    "    return precision\n",
    "\n",
    "# F1 Measurement\n",
    "def f1Measurement(testY, yPrediction):\n",
    "    precision = precisionMeasurement(testY, yPrediction)\n",
    "    recall = recallMeasurement(testY, yPrediction)\n",
    "    return 2*((precision*recall)/(precision+recall+K.epsilon()))"
   ]
  },
  {
   "cell_type": "code",
   "execution_count": 5,
   "id": "3d135f36",
   "metadata": {},
   "outputs": [
    {
     "name": "stderr",
     "output_type": "stream",
     "text": [
      "2023-05-05 14:47:24.456156: I tensorflow/stream_executor/platform/default/dso_loader.cc:49] Successfully opened dynamic library libcuda.so.1\n",
      "2023-05-05 14:47:24.755191: E tensorflow/stream_executor/cuda/cuda_driver.cc:328] failed call to cuInit: CUDA_ERROR_NO_DEVICE: no CUDA-capable device is detected\n",
      "2023-05-05 14:47:24.755213: I tensorflow/stream_executor/cuda/cuda_diagnostics.cc:156] kernel driver does not appear to be running on this host (pop-os): /proc/driver/nvidia/version does not exist\n",
      "2023-05-05 14:47:24.755881: I tensorflow/core/platform/cpu_feature_guard.cc:142] This TensorFlow binary is optimized with oneAPI Deep Neural Network Library (oneDNN) to use the following CPU instructions in performance-critical operations:  SSE4.1 SSE4.2 AVX AVX2 FMA\n",
      "To enable them in other operations, rebuild TensorFlow with the appropriate compiler flags.\n",
      "2023-05-05 14:47:24.760330: I tensorflow/core/platform/profile_utils/cpu_utils.cc:112] CPU Frequency: 1999965000 Hz\n",
      "2023-05-05 14:47:24.760933: I tensorflow/compiler/xla/service/service.cc:168] XLA service 0x17b3620 initialized for platform Host (this does not guarantee that XLA will be used). Devices:\n",
      "2023-05-05 14:47:24.760960: I tensorflow/compiler/xla/service/service.cc:176]   StreamExecutor device (0): Host, Default Version\n"
     ]
    }
   ],
   "source": [
    "# Initialise the Model\n",
    "CNNModel = CNNModel()"
   ]
  },
  {
   "cell_type": "code",
   "execution_count": 6,
   "id": "4f9fc651",
   "metadata": {},
   "outputs": [
    {
     "name": "stdout",
     "output_type": "stream",
     "text": [
      "Model: \"sequential\"\n",
      "_________________________________________________________________\n",
      "Layer (type)                 Output Shape              Param #   \n",
      "=================================================================\n",
      "conv2d (Conv2D)              (None, 62, 62, 31)        868       \n",
      "_________________________________________________________________\n",
      "max_pooling2d (MaxPooling2D) (None, 31, 31, 31)        0         \n",
      "_________________________________________________________________\n",
      "conv2d_1 (Conv2D)            (None, 29, 29, 17)        4760      \n",
      "_________________________________________________________________\n",
      "max_pooling2d_1 (MaxPooling2 (None, 14, 14, 17)        0         \n",
      "_________________________________________________________________\n",
      "dropout (Dropout)            (None, 14, 14, 17)        0         \n",
      "_________________________________________________________________\n",
      "flatten (Flatten)            (None, 3332)              0         \n",
      "_________________________________________________________________\n",
      "dense (Dense)                (None, 128)               426624    \n",
      "_________________________________________________________________\n",
      "dropout_1 (Dropout)          (None, 128)               0         \n",
      "_________________________________________________________________\n",
      "dense_1 (Dense)              (None, 50)                6450      \n",
      "_________________________________________________________________\n",
      "dense_2 (Dense)              (None, 10)                510       \n",
      "=================================================================\n",
      "Total params: 439,212\n",
      "Trainable params: 439,212\n",
      "Non-trainable params: 0\n",
      "_________________________________________________________________\n"
     ]
    }
   ],
   "source": [
    "# Print the Information of the Model. This includes the information surrounding \n",
    "# the layers of the models as well as the number of total parameters\n",
    "CNNModel.summary()"
   ]
  },
  {
   "cell_type": "code",
   "execution_count": 7,
   "id": "45305f00",
   "metadata": {},
   "outputs": [
    {
     "data": {
      "text/plain": [
       "array([2, 4, 0, 4, 6, 6, 8, 9, 0, 0, 3, 8, 7, 4, 4, 4, 7, 2, 8, 8, 5, 7,\n",
       "       5, 0, 2, 1, 3, 2, 1, 4, 1, 2, 2, 2, 6, 9, 1, 5, 3, 9, 3, 6, 6, 4,\n",
       "       6, 4, 8, 3, 5, 3, 9, 2, 8, 1, 9, 1, 0, 6, 6, 4, 7, 7, 5, 8, 7, 4,\n",
       "       9, 1, 9, 0, 5, 2, 2, 5, 8, 9, 5, 7, 8, 6, 1, 8, 7, 0, 7, 8, 7, 5,\n",
       "       3, 6])"
      ]
     },
     "execution_count": 7,
     "metadata": {},
     "output_type": "execute_result"
    }
   ],
   "source": [
    "trainY.shape                            # Returns the shape of the trainY array \n",
    "trainY_new = np.argmax(trainY, axis=1)  # Converts the trainY array to an array of integers \n",
    "trainY_new                              # Returns the array of integer labels"
   ]
  },
  {
   "cell_type": "code",
   "execution_count": 8,
   "id": "78a23209",
   "metadata": {},
   "outputs": [],
   "source": [
    "# This section of the model imports the class_weight function from the sklearn.utils \n",
    "# library. This is used to compute the class weights for a multi-class classification problem.\n",
    "# The weightOfModel computes the class weights based on the class distribution found in the \n",
    "# training set. The class_weight parameter is set to balanced which means that the class \n",
    "# weights are automatically adjusted in acorrdance with the information obtained from the \n",
    "# input data.\n",
    "\n",
    "from sklearn.utils import class_weight # Used to compute the class weights for a multi-class classification system\n",
    "weightOfModel = class_weight.compute_class_weight(class_weight = 'balanced',\n",
    "                                                 classes = np.unique(trainY_new),\n",
    "                                                 y = trainY_new)\n",
    "\n",
    "# This code is used to map each unique class label in the training set trainY_new variable. \n",
    "# This is then uses the class_weight variable initialised above. \n",
    "weightOfModel = {l:c for l,c in zip(np.unique(trainY_new), weightOfModel)}"
   ]
  },
  {
   "cell_type": "code",
   "execution_count": 9,
   "id": "b2d1340c",
   "metadata": {},
   "outputs": [],
   "source": [
    "# This is used to compile the Convolutional Neural network Model. It uses the adam optimiser, \n",
    "# computes loss using binary_crossentropy and then calculates the measurements listed before.\n",
    "CNNModel.compile(optimizer='adam', \n",
    "                    loss='binary_crossentropy', \n",
    "                    metrics=[f1Measurement,precisionMeasurement, \n",
    "                    recallMeasurement,\n",
    "                    AUC()])"
   ]
  },
  {
   "cell_type": "code",
   "execution_count": 10,
   "id": "28118981",
   "metadata": {},
   "outputs": [
    {
     "name": "stderr",
     "output_type": "stream",
     "text": [
      "2023-05-05 14:47:24.915770: I tensorflow/compiler/mlir/mlir_graph_optimization_pass.cc:116] None of the MLIR optimization passes are enabled (registered 2)\n"
     ]
    },
    {
     "name": "stdout",
     "output_type": "stream",
     "text": [
      "Epoch 1/100\n",
      "3/3 [==============================] - 1s 269ms/step - loss: 0.6571 - f1Measurement: 0.0000e+00 - precisionMeasurement: 0.0000e+00 - recallMeasurement: 0.0000e+00 - auc: 0.5492 - val_loss: 0.4962 - val_f1Measurement: 0.0000e+00 - val_precisionMeasurement: 0.0000e+00 - val_recallMeasurement: 0.0000e+00 - val_auc: 0.5344\n",
      "Epoch 2/100\n",
      "3/3 [==============================] - 0s 57ms/step - loss: 0.5024 - f1Measurement: 0.0272 - precisionMeasurement: 0.3102 - recallMeasurement: 0.0155 - auc: 0.5088 - val_loss: 0.3411 - val_f1Measurement: 0.0000e+00 - val_precisionMeasurement: 0.0000e+00 - val_recallMeasurement: 0.0000e+00 - val_auc: 0.6051\n",
      "Epoch 3/100\n",
      "3/3 [==============================] - 0s 58ms/step - loss: 0.3952 - f1Measurement: 0.0649 - precisionMeasurement: 0.1687 - recallMeasurement: 0.0403 - auc: 0.5686 - val_loss: 0.3371 - val_f1Measurement: 0.0000e+00 - val_precisionMeasurement: 0.0000e+00 - val_recallMeasurement: 0.0000e+00 - val_auc: 0.5459\n",
      "Epoch 4/100\n",
      "3/3 [==============================] - 0s 59ms/step - loss: 0.4072 - f1Measurement: 0.0841 - precisionMeasurement: 0.2579 - recallMeasurement: 0.0507 - auc: 0.5045 - val_loss: 0.3246 - val_f1Measurement: 0.0000e+00 - val_precisionMeasurement: 0.0000e+00 - val_recallMeasurement: 0.0000e+00 - val_auc: 0.6001\n",
      "Epoch 5/100\n",
      "3/3 [==============================] - 0s 58ms/step - loss: 0.3919 - f1Measurement: 0.0000e+00 - precisionMeasurement: 0.0000e+00 - recallMeasurement: 0.0000e+00 - auc: 0.5053 - val_loss: 0.3376 - val_f1Measurement: 0.0000e+00 - val_precisionMeasurement: 0.0000e+00 - val_recallMeasurement: 0.0000e+00 - val_auc: 0.6419\n",
      "Epoch 6/100\n",
      "3/3 [==============================] - 0s 58ms/step - loss: 0.3838 - f1Measurement: 0.0000e+00 - precisionMeasurement: 0.0000e+00 - recallMeasurement: 0.0000e+00 - auc: 0.5183 - val_loss: 0.3443 - val_f1Measurement: 0.0000e+00 - val_precisionMeasurement: 0.0000e+00 - val_recallMeasurement: 0.0000e+00 - val_auc: 0.6506\n",
      "Epoch 7/100\n",
      "3/3 [==============================] - 0s 58ms/step - loss: 0.3750 - f1Measurement: 0.0000e+00 - precisionMeasurement: 0.0000e+00 - recallMeasurement: 0.0000e+00 - auc: 0.5080 - val_loss: 0.3262 - val_f1Measurement: 0.0000e+00 - val_precisionMeasurement: 0.0000e+00 - val_recallMeasurement: 0.0000e+00 - val_auc: 0.7048\n",
      "Epoch 8/100\n",
      "3/3 [==============================] - 0s 57ms/step - loss: 0.3493 - f1Measurement: 0.0172 - precisionMeasurement: 0.1458 - recallMeasurement: 0.0091 - auc: 0.5665 - val_loss: 0.3103 - val_f1Measurement: 0.0000e+00 - val_precisionMeasurement: 0.0000e+00 - val_recallMeasurement: 0.0000e+00 - val_auc: 0.7254\n",
      "Epoch 9/100\n",
      "3/3 [==============================] - 0s 57ms/step - loss: 0.3379 - f1Measurement: 0.0442 - precisionMeasurement: 0.4375 - recallMeasurement: 0.0233 - auc: 0.5893 - val_loss: 0.3044 - val_f1Measurement: 0.0000e+00 - val_precisionMeasurement: 0.0000e+00 - val_recallMeasurement: 0.0000e+00 - val_auc: 0.7571\n",
      "Epoch 10/100\n",
      "3/3 [==============================] - 0s 56ms/step - loss: 0.3533 - f1Measurement: 0.0000e+00 - precisionMeasurement: 0.0000e+00 - recallMeasurement: 0.0000e+00 - auc: 0.5678 - val_loss: 0.3022 - val_f1Measurement: 0.0000e+00 - val_precisionMeasurement: 0.0000e+00 - val_recallMeasurement: 0.0000e+00 - val_auc: 0.8219\n",
      "Epoch 11/100\n",
      "3/3 [==============================] - 0s 58ms/step - loss: 0.3292 - f1Measurement: 0.0000e+00 - precisionMeasurement: 0.0000e+00 - recallMeasurement: 0.0000e+00 - auc: 0.6222 - val_loss: 0.3113 - val_f1Measurement: 0.0000e+00 - val_precisionMeasurement: 0.0000e+00 - val_recallMeasurement: 0.0000e+00 - val_auc: 0.7971\n",
      "Epoch 12/100\n",
      "3/3 [==============================] - 0s 62ms/step - loss: 0.3213 - f1Measurement: 0.0343 - precisionMeasurement: 0.2917 - recallMeasurement: 0.0182 - auc: 0.6613 - val_loss: 0.3044 - val_f1Measurement: 0.0000e+00 - val_precisionMeasurement: 0.0000e+00 - val_recallMeasurement: 0.0000e+00 - val_auc: 0.7750\n",
      "Epoch 13/100\n",
      "3/3 [==============================] - 0s 60ms/step - loss: 0.3204 - f1Measurement: 0.0296 - precisionMeasurement: 0.3750 - recallMeasurement: 0.0155 - auc: 0.6841 - val_loss: 0.2966 - val_f1Measurement: 0.0000e+00 - val_precisionMeasurement: 0.0000e+00 - val_recallMeasurement: 0.0000e+00 - val_auc: 0.7764\n",
      "Epoch 14/100\n",
      "3/3 [==============================] - 0s 59ms/step - loss: 0.3079 - f1Measurement: 0.0452 - precisionMeasurement: 0.7083 - recallMeasurement: 0.0233 - auc: 0.7101 - val_loss: 0.2943 - val_f1Measurement: 0.0000e+00 - val_precisionMeasurement: 0.0000e+00 - val_recallMeasurement: 0.0000e+00 - val_auc: 0.7906\n",
      "Epoch 15/100\n",
      "3/3 [==============================] - 0s 57ms/step - loss: 0.3147 - f1Measurement: 0.0300 - precisionMeasurement: 0.4583 - recallMeasurement: 0.0155 - auc: 0.7127 - val_loss: 0.2875 - val_f1Measurement: 0.0000e+00 - val_precisionMeasurement: 0.0000e+00 - val_recallMeasurement: 0.0000e+00 - val_auc: 0.8958\n",
      "Epoch 16/100\n",
      "3/3 [==============================] - 0s 55ms/step - loss: 0.2923 - f1Measurement: 0.1076 - precisionMeasurement: 0.7222 - recallMeasurement: 0.0585 - auc: 0.7572 - val_loss: 0.2784 - val_f1Measurement: 0.0000e+00 - val_precisionMeasurement: 0.0000e+00 - val_recallMeasurement: 0.0000e+00 - val_auc: 0.9376\n",
      "Epoch 17/100\n",
      "3/3 [==============================] - 0s 57ms/step - loss: 0.2876 - f1Measurement: 0.0619 - precisionMeasurement: 0.3611 - recallMeasurement: 0.0339 - auc: 0.7653 - val_loss: 0.2668 - val_f1Measurement: 0.0000e+00 - val_precisionMeasurement: 0.0000e+00 - val_recallMeasurement: 0.0000e+00 - val_auc: 0.9279\n",
      "Epoch 18/100\n",
      "3/3 [==============================] - 0s 56ms/step - loss: 0.2744 - f1Measurement: 0.1625 - precisionMeasurement: 0.6389 - recallMeasurement: 0.0960 - auc: 0.8320 - val_loss: 0.2625 - val_f1Measurement: 0.0000e+00 - val_precisionMeasurement: 0.0000e+00 - val_recallMeasurement: 0.0000e+00 - val_auc: 0.9178\n",
      "Epoch 19/100\n",
      "3/3 [==============================] - 0s 56ms/step - loss: 0.2730 - f1Measurement: 0.1146 - precisionMeasurement: 0.5938 - recallMeasurement: 0.0635 - auc: 0.8210 - val_loss: 0.2615 - val_f1Measurement: 0.0000e+00 - val_precisionMeasurement: 0.0000e+00 - val_recallMeasurement: 0.0000e+00 - val_auc: 0.9206\n",
      "Epoch 20/100\n",
      "3/3 [==============================] - 0s 56ms/step - loss: 0.2690 - f1Measurement: 0.1460 - precisionMeasurement: 0.5729 - recallMeasurement: 0.0845 - auc: 0.8308 - val_loss: 0.2551 - val_f1Measurement: 0.0000e+00 - val_precisionMeasurement: 0.0000e+00 - val_recallMeasurement: 0.0000e+00 - val_auc: 0.9362\n",
      "Epoch 21/100\n",
      "3/3 [==============================] - 0s 57ms/step - loss: 0.2794 - f1Measurement: 0.1006 - precisionMeasurement: 0.4097 - recallMeasurement: 0.0584 - auc: 0.8036 - val_loss: 0.2461 - val_f1Measurement: 0.0000e+00 - val_precisionMeasurement: 0.0000e+00 - val_recallMeasurement: 0.0000e+00 - val_auc: 0.9412\n",
      "Epoch 22/100\n",
      "3/3 [==============================] - 0s 54ms/step - loss: 0.2570 - f1Measurement: 0.2897 - precisionMeasurement: 0.7657 - recallMeasurement: 0.1806 - auc: 0.8603 - val_loss: 0.2398 - val_f1Measurement: 0.0000e+00 - val_precisionMeasurement: 0.0000e+00 - val_recallMeasurement: 0.0000e+00 - val_auc: 0.9532\n",
      "Epoch 23/100\n",
      "3/3 [==============================] - 0s 59ms/step - loss: 0.2407 - f1Measurement: 0.3048 - precisionMeasurement: 0.8935 - recallMeasurement: 0.1869 - auc: 0.8765 - val_loss: 0.2327 - val_f1Measurement: 0.0000e+00 - val_precisionMeasurement: 0.0000e+00 - val_recallMeasurement: 0.0000e+00 - val_auc: 0.9421\n",
      "Epoch 24/100\n",
      "3/3 [==============================] - 0s 55ms/step - loss: 0.2409 - f1Measurement: 0.3030 - precisionMeasurement: 0.7004 - recallMeasurement: 0.1977 - auc: 0.8838 - val_loss: 0.2312 - val_f1Measurement: 0.0000e+00 - val_precisionMeasurement: 0.0000e+00 - val_recallMeasurement: 0.0000e+00 - val_auc: 0.9330\n",
      "Epoch 25/100\n",
      "3/3 [==============================] - 0s 56ms/step - loss: 0.2317 - f1Measurement: 0.2500 - precisionMeasurement: 0.6438 - recallMeasurement: 0.1558 - auc: 0.9037 - val_loss: 0.2260 - val_f1Measurement: 0.1667 - val_precisionMeasurement: 1.0000 - val_recallMeasurement: 0.0909 - val_auc: 0.9238\n",
      "Epoch 26/100\n"
     ]
    },
    {
     "name": "stdout",
     "output_type": "stream",
     "text": [
      "3/3 [==============================] - 0s 55ms/step - loss: 0.2217 - f1Measurement: 0.3743 - precisionMeasurement: 0.7418 - recallMeasurement: 0.2533 - auc: 0.9116 - val_loss: 0.2139 - val_f1Measurement: 0.1667 - val_precisionMeasurement: 1.0000 - val_recallMeasurement: 0.0909 - val_auc: 0.9192\n",
      "Epoch 27/100\n",
      "3/3 [==============================] - 0s 58ms/step - loss: 0.2026 - f1Measurement: 0.4719 - precisionMeasurement: 0.8602 - recallMeasurement: 0.3259 - auc: 0.9367 - val_loss: 0.2093 - val_f1Measurement: 0.5333 - val_precisionMeasurement: 1.0000 - val_recallMeasurement: 0.3636 - val_auc: 0.9197\n",
      "Epoch 28/100\n",
      "3/3 [==============================] - 0s 60ms/step - loss: 0.2307 - f1Measurement: 0.3878 - precisionMeasurement: 0.8111 - recallMeasurement: 0.2597 - auc: 0.8968 - val_loss: 0.2034 - val_f1Measurement: 0.6250 - val_precisionMeasurement: 1.0000 - val_recallMeasurement: 0.4545 - val_auc: 0.9307\n",
      "Epoch 29/100\n",
      "3/3 [==============================] - 0s 61ms/step - loss: 0.2196 - f1Measurement: 0.4585 - precisionMeasurement: 0.8322 - recallMeasurement: 0.3181 - auc: 0.9006 - val_loss: 0.1942 - val_f1Measurement: 0.5882 - val_precisionMeasurement: 0.8333 - val_recallMeasurement: 0.4545 - val_auc: 0.9513\n",
      "Epoch 30/100\n",
      "3/3 [==============================] - 0s 56ms/step - loss: 0.1946 - f1Measurement: 0.4994 - precisionMeasurement: 0.8034 - recallMeasurement: 0.3624 - auc: 0.9408 - val_loss: 0.1871 - val_f1Measurement: 0.5882 - val_precisionMeasurement: 0.8333 - val_recallMeasurement: 0.4545 - val_auc: 0.9536\n",
      "Epoch 31/100\n",
      "3/3 [==============================] - 0s 57ms/step - loss: 0.2003 - f1Measurement: 0.5372 - precisionMeasurement: 0.8854 - recallMeasurement: 0.3997 - auc: 0.9301 - val_loss: 0.1869 - val_f1Measurement: 0.6250 - val_precisionMeasurement: 1.0000 - val_recallMeasurement: 0.4545 - val_auc: 0.9458\n",
      "Epoch 32/100\n",
      "3/3 [==============================] - 0s 56ms/step - loss: 0.1934 - f1Measurement: 0.5542 - precisionMeasurement: 0.7098 - recallMeasurement: 0.4547 - auc: 0.9339 - val_loss: 0.1829 - val_f1Measurement: 0.6250 - val_precisionMeasurement: 1.0000 - val_recallMeasurement: 0.4545 - val_auc: 0.9486\n",
      "Epoch 33/100\n",
      "3/3 [==============================] - 0s 56ms/step - loss: 0.1893 - f1Measurement: 0.4807 - precisionMeasurement: 0.7803 - recallMeasurement: 0.3572 - auc: 0.9419 - val_loss: 0.1848 - val_f1Measurement: 0.6250 - val_precisionMeasurement: 1.0000 - val_recallMeasurement: 0.4545 - val_auc: 0.9431\n",
      "Epoch 34/100\n",
      "3/3 [==============================] - 0s 57ms/step - loss: 0.1855 - f1Measurement: 0.5728 - precisionMeasurement: 0.7621 - recallMeasurement: 0.4614 - auc: 0.9322 - val_loss: 0.1764 - val_f1Measurement: 0.6250 - val_precisionMeasurement: 1.0000 - val_recallMeasurement: 0.4545 - val_auc: 0.9573\n",
      "Epoch 35/100\n",
      "3/3 [==============================] - 0s 55ms/step - loss: 0.1763 - f1Measurement: 0.5762 - precisionMeasurement: 0.8201 - recallMeasurement: 0.4442 - auc: 0.9573 - val_loss: 0.1713 - val_f1Measurement: 0.5882 - val_precisionMeasurement: 0.8333 - val_recallMeasurement: 0.4545 - val_auc: 0.9596\n",
      "Epoch 36/100\n",
      "3/3 [==============================] - 0s 55ms/step - loss: 0.1670 - f1Measurement: 0.6734 - precisionMeasurement: 0.8840 - recallMeasurement: 0.5443 - auc: 0.9593 - val_loss: 0.1732 - val_f1Measurement: 0.5882 - val_precisionMeasurement: 0.8333 - val_recallMeasurement: 0.4545 - val_auc: 0.9513\n",
      "Epoch 37/100\n",
      "3/3 [==============================] - 0s 56ms/step - loss: 0.1612 - f1Measurement: 0.6552 - precisionMeasurement: 0.8761 - recallMeasurement: 0.5360 - auc: 0.9650 - val_loss: 0.1640 - val_f1Measurement: 0.6250 - val_precisionMeasurement: 1.0000 - val_recallMeasurement: 0.4545 - val_auc: 0.9591\n",
      "Epoch 38/100\n",
      "3/3 [==============================] - 0s 57ms/step - loss: 0.1574 - f1Measurement: 0.6493 - precisionMeasurement: 0.8616 - recallMeasurement: 0.5233 - auc: 0.9646 - val_loss: 0.1529 - val_f1Measurement: 0.7368 - val_precisionMeasurement: 0.8750 - val_recallMeasurement: 0.6364 - val_auc: 0.9578\n",
      "Epoch 39/100\n",
      "3/3 [==============================] - 0s 54ms/step - loss: 0.1498 - f1Measurement: 0.7173 - precisionMeasurement: 0.8984 - recallMeasurement: 0.5974 - auc: 0.9739 - val_loss: 0.1500 - val_f1Measurement: 0.7778 - val_precisionMeasurement: 1.0000 - val_recallMeasurement: 0.6364 - val_auc: 0.9486\n",
      "Epoch 40/100\n",
      "3/3 [==============================] - 0s 58ms/step - loss: 0.1386 - f1Measurement: 0.7314 - precisionMeasurement: 0.8826 - recallMeasurement: 0.6248 - auc: 0.9742 - val_loss: 0.1474 - val_f1Measurement: 0.7778 - val_precisionMeasurement: 1.0000 - val_recallMeasurement: 0.6364 - val_auc: 0.9513\n",
      "Epoch 41/100\n",
      "3/3 [==============================] - 0s 59ms/step - loss: 0.1419 - f1Measurement: 0.7551 - precisionMeasurement: 0.9063 - recallMeasurement: 0.6480 - auc: 0.9801 - val_loss: 0.1367 - val_f1Measurement: 0.8000 - val_precisionMeasurement: 0.8889 - val_recallMeasurement: 0.7273 - val_auc: 0.9601\n",
      "Epoch 42/100\n",
      "3/3 [==============================] - 0s 63ms/step - loss: 0.1356 - f1Measurement: 0.7307 - precisionMeasurement: 0.8430 - recallMeasurement: 0.6453 - auc: 0.9773 - val_loss: 0.1404 - val_f1Measurement: 0.8421 - val_precisionMeasurement: 1.0000 - val_recallMeasurement: 0.7273 - val_auc: 0.9688\n",
      "Epoch 43/100\n",
      "3/3 [==============================] - 0s 63ms/step - loss: 0.1315 - f1Measurement: 0.7548 - precisionMeasurement: 0.8696 - recallMeasurement: 0.6729 - auc: 0.9836 - val_loss: 0.1561 - val_f1Measurement: 0.7059 - val_precisionMeasurement: 1.0000 - val_recallMeasurement: 0.5455 - val_auc: 0.9532\n",
      "Epoch 44/100\n",
      "3/3 [==============================] - 0s 72ms/step - loss: 0.1311 - f1Measurement: 0.7712 - precisionMeasurement: 0.8579 - recallMeasurement: 0.7028 - auc: 0.9835 - val_loss: 0.1462 - val_f1Measurement: 0.7059 - val_precisionMeasurement: 1.0000 - val_recallMeasurement: 0.5455 - val_auc: 0.9651\n",
      "Epoch 45/100\n",
      "3/3 [==============================] - 0s 63ms/step - loss: 0.1116 - f1Measurement: 0.8388 - precisionMeasurement: 0.9467 - recallMeasurement: 0.7532 - auc: 0.9912 - val_loss: 0.1255 - val_f1Measurement: 0.9000 - val_precisionMeasurement: 1.0000 - val_recallMeasurement: 0.8182 - val_auc: 0.9725\n",
      "Epoch 46/100\n",
      "3/3 [==============================] - 0s 62ms/step - loss: 0.1136 - f1Measurement: 0.8168 - precisionMeasurement: 0.9205 - recallMeasurement: 0.7349 - auc: 0.9890 - val_loss: 0.1264 - val_f1Measurement: 0.8421 - val_precisionMeasurement: 1.0000 - val_recallMeasurement: 0.7273 - val_auc: 0.9697\n",
      "Epoch 47/100\n",
      "3/3 [==============================] - 0s 64ms/step - loss: 0.1001 - f1Measurement: 0.8444 - precisionMeasurement: 0.9128 - recallMeasurement: 0.7857 - auc: 0.9914 - val_loss: 0.1365 - val_f1Measurement: 0.8000 - val_precisionMeasurement: 0.8889 - val_recallMeasurement: 0.7273 - val_auc: 0.9642\n",
      "Epoch 48/100\n",
      "3/3 [==============================] - 0s 62ms/step - loss: 0.1164 - f1Measurement: 0.8017 - precisionMeasurement: 0.8588 - recallMeasurement: 0.7536 - auc: 0.9836 - val_loss: 0.1354 - val_f1Measurement: 0.7368 - val_precisionMeasurement: 0.8750 - val_recallMeasurement: 0.6364 - val_auc: 0.9334\n",
      "Epoch 49/100\n",
      "3/3 [==============================] - 0s 63ms/step - loss: 0.1021 - f1Measurement: 0.8828 - precisionMeasurement: 0.9396 - recallMeasurement: 0.8326 - auc: 0.9906 - val_loss: 0.1192 - val_f1Measurement: 0.9091 - val_precisionMeasurement: 0.9091 - val_recallMeasurement: 0.9091 - val_auc: 0.9688\n",
      "Epoch 50/100\n",
      "3/3 [==============================] - 0s 63ms/step - loss: 0.1027 - f1Measurement: 0.8890 - precisionMeasurement: 0.9377 - recallMeasurement: 0.8455 - auc: 0.9917 - val_loss: 0.1053 - val_f1Measurement: 0.8571 - val_precisionMeasurement: 0.9000 - val_recallMeasurement: 0.8182 - val_auc: 0.9734\n",
      "Epoch 51/100\n",
      "3/3 [==============================] - 0s 62ms/step - loss: 0.0792 - f1Measurement: 0.8990 - precisionMeasurement: 0.9568 - recallMeasurement: 0.8493 - auc: 0.9954 - val_loss: 0.0989 - val_f1Measurement: 0.9524 - val_precisionMeasurement: 1.0000 - val_recallMeasurement: 0.9091 - val_auc: 0.9743\n",
      "Epoch 52/100\n",
      "3/3 [==============================] - 0s 56ms/step - loss: 0.0761 - f1Measurement: 0.9183 - precisionMeasurement: 0.9549 - recallMeasurement: 0.8844 - auc: 0.9976 - val_loss: 0.1003 - val_f1Measurement: 0.9524 - val_precisionMeasurement: 1.0000 - val_recallMeasurement: 0.9091 - val_auc: 0.9734\n"
     ]
    },
    {
     "name": "stdout",
     "output_type": "stream",
     "text": [
      "Epoch 53/100\n",
      "3/3 [==============================] - 0s 72ms/step - loss: 0.0642 - f1Measurement: 0.9138 - precisionMeasurement: 0.9367 - recallMeasurement: 0.8922 - auc: 0.9978 - val_loss: 0.1127 - val_f1Measurement: 0.8571 - val_precisionMeasurement: 0.9000 - val_recallMeasurement: 0.8182 - val_auc: 0.9385\n",
      "Epoch 54/100\n",
      "3/3 [==============================] - 0s 63ms/step - loss: 0.0725 - f1Measurement: 0.9434 - precisionMeasurement: 0.9833 - recallMeasurement: 0.9081 - auc: 0.9985 - val_loss: 0.1170 - val_f1Measurement: 0.8571 - val_precisionMeasurement: 0.9000 - val_recallMeasurement: 0.8182 - val_auc: 0.9399\n",
      "Epoch 55/100\n",
      "3/3 [==============================] - 0s 63ms/step - loss: 0.0662 - f1Measurement: 0.8869 - precisionMeasurement: 0.9321 - recallMeasurement: 0.8465 - auc: 0.9961 - val_loss: 0.1129 - val_f1Measurement: 0.9091 - val_precisionMeasurement: 0.9091 - val_recallMeasurement: 0.9091 - val_auc: 0.9412\n",
      "Epoch 56/100\n",
      "3/3 [==============================] - 0s 57ms/step - loss: 0.0669 - f1Measurement: 0.9171 - precisionMeasurement: 0.9385 - recallMeasurement: 0.8972 - auc: 0.9884 - val_loss: 0.1073 - val_f1Measurement: 0.9091 - val_precisionMeasurement: 0.9091 - val_recallMeasurement: 0.9091 - val_auc: 0.9421\n",
      "Epoch 57/100\n",
      "3/3 [==============================] - 0s 57ms/step - loss: 0.0631 - f1Measurement: 0.9407 - precisionMeasurement: 0.9624 - recallMeasurement: 0.9206 - auc: 0.9975 - val_loss: 0.1061 - val_f1Measurement: 0.9091 - val_precisionMeasurement: 0.9091 - val_recallMeasurement: 0.9091 - val_auc: 0.9421\n",
      "Epoch 58/100\n",
      "3/3 [==============================] - 0s 55ms/step - loss: 0.0625 - f1Measurement: 0.9054 - precisionMeasurement: 0.9124 - recallMeasurement: 0.8986 - auc: 0.9973 - val_loss: 0.1072 - val_f1Measurement: 0.9091 - val_precisionMeasurement: 0.9091 - val_recallMeasurement: 0.9091 - val_auc: 0.9408\n",
      "Epoch 59/100\n",
      "3/3 [==============================] - 0s 56ms/step - loss: 0.0467 - f1Measurement: 0.9527 - precisionMeasurement: 0.9728 - recallMeasurement: 0.9337 - auc: 0.9995 - val_loss: 0.1132 - val_f1Measurement: 0.9091 - val_precisionMeasurement: 0.9091 - val_recallMeasurement: 0.9091 - val_auc: 0.9421\n",
      "Epoch 60/100\n",
      "3/3 [==============================] - 0s 57ms/step - loss: 0.0580 - f1Measurement: 0.9214 - precisionMeasurement: 0.9457 - recallMeasurement: 0.8986 - auc: 0.9979 - val_loss: 0.1166 - val_f1Measurement: 0.9091 - val_precisionMeasurement: 0.9091 - val_recallMeasurement: 0.9091 - val_auc: 0.9435\n",
      "Epoch 61/100\n",
      "3/3 [==============================] - 0s 58ms/step - loss: 0.0600 - f1Measurement: 0.9220 - precisionMeasurement: 0.9562 - recallMeasurement: 0.8907 - auc: 0.9979 - val_loss: 0.1084 - val_f1Measurement: 0.9091 - val_precisionMeasurement: 0.9091 - val_recallMeasurement: 0.9091 - val_auc: 0.9431\n",
      "Epoch 62/100\n",
      "3/3 [==============================] - 0s 56ms/step - loss: 0.0463 - f1Measurement: 0.9767 - precisionMeasurement: 0.9767 - recallMeasurement: 0.9767 - auc: 0.9998 - val_loss: 0.1001 - val_f1Measurement: 0.9091 - val_precisionMeasurement: 0.9091 - val_recallMeasurement: 0.9091 - val_auc: 0.9472\n",
      "Epoch 63/100\n",
      "3/3 [==============================] - 0s 56ms/step - loss: 0.0445 - f1Measurement: 0.9756 - precisionMeasurement: 0.9936 - recallMeasurement: 0.9584 - auc: 0.9993 - val_loss: 0.0952 - val_f1Measurement: 0.9524 - val_precisionMeasurement: 1.0000 - val_recallMeasurement: 0.9091 - val_auc: 0.9472\n",
      "Epoch 64/100\n",
      "3/3 [==============================] - 0s 57ms/step - loss: 0.0392 - f1Measurement: 0.9628 - precisionMeasurement: 0.9673 - recallMeasurement: 0.9584 - auc: 0.9996 - val_loss: 0.0993 - val_f1Measurement: 0.9091 - val_precisionMeasurement: 0.9091 - val_recallMeasurement: 0.9091 - val_auc: 0.9467\n",
      "Epoch 65/100\n",
      "3/3 [==============================] - 0s 56ms/step - loss: 0.0476 - f1Measurement: 0.9742 - precisionMeasurement: 0.9825 - recallMeasurement: 0.9661 - auc: 0.9994 - val_loss: 0.1076 - val_f1Measurement: 0.9000 - val_precisionMeasurement: 1.0000 - val_recallMeasurement: 0.8182 - val_auc: 0.9458\n",
      "Epoch 66/100\n",
      "3/3 [==============================] - 0s 54ms/step - loss: 0.0591 - f1Measurement: 0.9412 - precisionMeasurement: 0.9575 - recallMeasurement: 0.9259 - auc: 0.9982 - val_loss: 0.1184 - val_f1Measurement: 0.8571 - val_precisionMeasurement: 0.9000 - val_recallMeasurement: 0.8182 - val_auc: 0.9444\n",
      "Epoch 67/100\n",
      "3/3 [==============================] - 0s 56ms/step - loss: 0.0333 - f1Measurement: 0.9914 - precisionMeasurement: 1.0000 - recallMeasurement: 0.9831 - auc: 0.9998 - val_loss: 0.1240 - val_f1Measurement: 0.8571 - val_precisionMeasurement: 0.9000 - val_recallMeasurement: 0.8182 - val_auc: 0.9444\n",
      "Epoch 68/100\n",
      "3/3 [==============================] - 0s 55ms/step - loss: 0.0456 - f1Measurement: 0.9451 - precisionMeasurement: 0.9595 - recallMeasurement: 0.9314 - auc: 0.9994 - val_loss: 0.1079 - val_f1Measurement: 0.8571 - val_precisionMeasurement: 0.9000 - val_recallMeasurement: 0.8182 - val_auc: 0.9472\n",
      "Epoch 69/100\n",
      "3/3 [==============================] - 0s 56ms/step - loss: 0.0399 - f1Measurement: 0.9709 - precisionMeasurement: 0.9825 - recallMeasurement: 0.9597 - auc: 0.9996 - val_loss: 0.0984 - val_f1Measurement: 0.9091 - val_precisionMeasurement: 0.9091 - val_recallMeasurement: 0.9091 - val_auc: 0.9486\n",
      "Epoch 70/100\n",
      "3/3 [==============================] - 0s 57ms/step - loss: 0.0326 - f1Measurement: 0.9873 - precisionMeasurement: 1.0000 - recallMeasurement: 0.9754 - auc: 0.9999 - val_loss: 0.1133 - val_f1Measurement: 0.9091 - val_precisionMeasurement: 0.9091 - val_recallMeasurement: 0.9091 - val_auc: 0.9477\n",
      "Epoch 71/100\n",
      "3/3 [==============================] - 0s 57ms/step - loss: 0.0290 - f1Measurement: 0.9890 - precisionMeasurement: 0.9936 - recallMeasurement: 0.9845 - auc: 1.0000 - val_loss: 0.1211 - val_f1Measurement: 0.9091 - val_precisionMeasurement: 0.9091 - val_recallMeasurement: 0.9091 - val_auc: 0.9477\n",
      "Epoch 72/100\n",
      "3/3 [==============================] - 0s 57ms/step - loss: 0.0332 - f1Measurement: 0.9845 - precisionMeasurement: 0.9845 - recallMeasurement: 0.9845 - auc: 0.9996 - val_loss: 0.1050 - val_f1Measurement: 0.9091 - val_precisionMeasurement: 0.9091 - val_recallMeasurement: 0.9091 - val_auc: 0.9486\n",
      "Epoch 73/100\n",
      "3/3 [==============================] - 0s 55ms/step - loss: 0.0359 - f1Measurement: 0.9818 - precisionMeasurement: 0.9818 - recallMeasurement: 0.9818 - auc: 0.9997 - val_loss: 0.0897 - val_f1Measurement: 0.9524 - val_precisionMeasurement: 1.0000 - val_recallMeasurement: 0.9091 - val_auc: 0.9490\n",
      "Epoch 74/100\n",
      "3/3 [==============================] - 0s 56ms/step - loss: 0.0263 - f1Measurement: 0.9831 - precisionMeasurement: 0.9831 - recallMeasurement: 0.9831 - auc: 0.9999 - val_loss: 0.0919 - val_f1Measurement: 0.9524 - val_precisionMeasurement: 1.0000 - val_recallMeasurement: 0.9091 - val_auc: 0.9490\n",
      "Epoch 75/100\n",
      "3/3 [==============================] - 0s 57ms/step - loss: 0.0380 - f1Measurement: 0.9497 - precisionMeasurement: 0.9839 - recallMeasurement: 0.9182 - auc: 0.9995 - val_loss: 0.0991 - val_f1Measurement: 0.9091 - val_precisionMeasurement: 0.9091 - val_recallMeasurement: 0.9091 - val_auc: 0.9467\n",
      "Epoch 76/100\n",
      "3/3 [==============================] - 0s 56ms/step - loss: 0.0322 - f1Measurement: 0.9728 - precisionMeasurement: 0.9836 - recallMeasurement: 0.9625 - auc: 0.9997 - val_loss: 0.1008 - val_f1Measurement: 0.9091 - val_precisionMeasurement: 0.9091 - val_recallMeasurement: 0.9091 - val_auc: 0.9467\n",
      "Epoch 77/100\n",
      "3/3 [==============================] - 0s 56ms/step - loss: 0.0318 - f1Measurement: 0.9528 - precisionMeasurement: 0.9603 - recallMeasurement: 0.9456 - auc: 0.9991 - val_loss: 0.1025 - val_f1Measurement: 0.9091 - val_precisionMeasurement: 0.9091 - val_recallMeasurement: 0.9091 - val_auc: 0.9481\n",
      "Epoch 78/100\n",
      "3/3 [==============================] - 0s 56ms/step - loss: 0.0195 - f1Measurement: 0.9831 - precisionMeasurement: 0.9831 - recallMeasurement: 0.9831 - auc: 1.0000 - val_loss: 0.1038 - val_f1Measurement: 0.9091 - val_precisionMeasurement: 0.9091 - val_recallMeasurement: 0.9091 - val_auc: 0.9481\n",
      "Epoch 79/100\n"
     ]
    },
    {
     "name": "stdout",
     "output_type": "stream",
     "text": [
      "3/3 [==============================] - 0s 56ms/step - loss: 0.0290 - f1Measurement: 0.9954 - precisionMeasurement: 1.0000 - recallMeasurement: 0.9909 - auc: 0.9999 - val_loss: 0.1007 - val_f1Measurement: 0.9091 - val_precisionMeasurement: 0.9091 - val_recallMeasurement: 0.9091 - val_auc: 0.9495\n",
      "Epoch 80/100\n",
      "3/3 [==============================] - 0s 55ms/step - loss: 0.0232 - f1Measurement: 0.9954 - precisionMeasurement: 1.0000 - recallMeasurement: 0.9909 - auc: 1.0000 - val_loss: 0.1060 - val_f1Measurement: 0.9091 - val_precisionMeasurement: 0.9091 - val_recallMeasurement: 0.9091 - val_auc: 0.9495\n",
      "Epoch 81/100\n",
      "3/3 [==============================] - 0s 54ms/step - loss: 0.0159 - f1Measurement: 0.9967 - precisionMeasurement: 1.0000 - recallMeasurement: 0.9936 - auc: 1.0000 - val_loss: 0.1155 - val_f1Measurement: 0.9000 - val_precisionMeasurement: 1.0000 - val_recallMeasurement: 0.8182 - val_auc: 0.9486\n",
      "Epoch 82/100\n",
      "3/3 [==============================] - 0s 55ms/step - loss: 0.0223 - f1Measurement: 1.0000 - precisionMeasurement: 1.0000 - recallMeasurement: 1.0000 - auc: 1.0000 - val_loss: 0.1209 - val_f1Measurement: 0.9091 - val_precisionMeasurement: 0.9091 - val_recallMeasurement: 0.9091 - val_auc: 0.9486\n",
      "Epoch 83/100\n",
      "3/3 [==============================] - 0s 55ms/step - loss: 0.0286 - f1Measurement: 0.9618 - precisionMeasurement: 0.9734 - recallMeasurement: 0.9506 - auc: 0.9997 - val_loss: 0.1217 - val_f1Measurement: 0.9091 - val_precisionMeasurement: 0.9091 - val_recallMeasurement: 0.9091 - val_auc: 0.9500\n",
      "Epoch 84/100\n",
      "3/3 [==============================] - 0s 56ms/step - loss: 0.0361 - f1Measurement: 0.9661 - precisionMeasurement: 0.9661 - recallMeasurement: 0.9661 - auc: 0.9986 - val_loss: 0.1057 - val_f1Measurement: 0.9091 - val_precisionMeasurement: 0.9091 - val_recallMeasurement: 0.9091 - val_auc: 0.9504\n",
      "Epoch 85/100\n",
      "3/3 [==============================] - 0s 57ms/step - loss: 0.0368 - f1Measurement: 0.9675 - precisionMeasurement: 0.9675 - recallMeasurement: 0.9675 - auc: 0.9994 - val_loss: 0.1039 - val_f1Measurement: 0.9091 - val_precisionMeasurement: 0.9091 - val_recallMeasurement: 0.9091 - val_auc: 0.9504\n",
      "Epoch 86/100\n",
      "3/3 [==============================] - 0s 55ms/step - loss: 0.0241 - f1Measurement: 0.9733 - precisionMeasurement: 0.9764 - recallMeasurement: 0.9703 - auc: 0.9996 - val_loss: 0.1106 - val_f1Measurement: 0.9091 - val_precisionMeasurement: 0.9091 - val_recallMeasurement: 0.9091 - val_auc: 0.9490\n",
      "Epoch 87/100\n",
      "3/3 [==============================] - 0s 55ms/step - loss: 0.0255 - f1Measurement: 0.9861 - precisionMeasurement: 0.9906 - recallMeasurement: 0.9818 - auc: 1.0000 - val_loss: 0.1149 - val_f1Measurement: 0.8182 - val_precisionMeasurement: 0.8182 - val_recallMeasurement: 0.8182 - val_auc: 0.9477\n",
      "Epoch 88/100\n",
      "3/3 [==============================] - 0s 55ms/step - loss: 0.0349 - f1Measurement: 0.9648 - precisionMeasurement: 0.9825 - recallMeasurement: 0.9479 - auc: 0.9995 - val_loss: 0.1114 - val_f1Measurement: 0.8571 - val_precisionMeasurement: 0.9000 - val_recallMeasurement: 0.8182 - val_auc: 0.9467\n",
      "Epoch 89/100\n",
      "3/3 [==============================] - 0s 55ms/step - loss: 0.0175 - f1Measurement: 0.9954 - precisionMeasurement: 1.0000 - recallMeasurement: 0.9909 - auc: 1.0000 - val_loss: 0.1133 - val_f1Measurement: 0.8571 - val_precisionMeasurement: 0.9000 - val_recallMeasurement: 0.8182 - val_auc: 0.9477\n",
      "Epoch 90/100\n",
      "3/3 [==============================] - 0s 56ms/step - loss: 0.0164 - f1Measurement: 1.0000 - precisionMeasurement: 1.0000 - recallMeasurement: 1.0000 - auc: 1.0000 - val_loss: 0.1204 - val_f1Measurement: 0.8571 - val_precisionMeasurement: 0.9000 - val_recallMeasurement: 0.8182 - val_auc: 0.9458\n",
      "Epoch 91/100\n",
      "3/3 [==============================] - 0s 56ms/step - loss: 0.0238 - f1Measurement: 0.9823 - precisionMeasurement: 0.9909 - recallMeasurement: 0.9740 - auc: 0.9997 - val_loss: 0.1157 - val_f1Measurement: 0.8571 - val_precisionMeasurement: 0.9000 - val_recallMeasurement: 0.8182 - val_auc: 0.9472\n",
      "Epoch 92/100\n",
      "3/3 [==============================] - 0s 55ms/step - loss: 0.0257 - f1Measurement: 0.9733 - precisionMeasurement: 0.9764 - recallMeasurement: 0.9703 - auc: 0.9998 - val_loss: 0.1005 - val_f1Measurement: 0.9091 - val_precisionMeasurement: 0.9091 - val_recallMeasurement: 0.9091 - val_auc: 0.9486\n",
      "Epoch 93/100\n",
      "3/3 [==============================] - 0s 56ms/step - loss: 0.0134 - f1Measurement: 1.0000 - precisionMeasurement: 1.0000 - recallMeasurement: 1.0000 - auc: 1.0000 - val_loss: 0.0967 - val_f1Measurement: 0.9091 - val_precisionMeasurement: 0.9091 - val_recallMeasurement: 0.9091 - val_auc: 0.9486\n",
      "Epoch 94/100\n",
      "3/3 [==============================] - 0s 56ms/step - loss: 0.0225 - f1Measurement: 0.9835 - precisionMeasurement: 1.0000 - recallMeasurement: 0.9675 - auc: 0.9999 - val_loss: 0.1037 - val_f1Measurement: 0.9091 - val_precisionMeasurement: 0.9091 - val_recallMeasurement: 0.9091 - val_auc: 0.9495\n",
      "Epoch 95/100\n",
      "3/3 [==============================] - 0s 55ms/step - loss: 0.0157 - f1Measurement: 0.9845 - precisionMeasurement: 0.9845 - recallMeasurement: 0.9845 - auc: 0.9999 - val_loss: 0.1190 - val_f1Measurement: 0.9091 - val_precisionMeasurement: 0.9091 - val_recallMeasurement: 0.9091 - val_auc: 0.9495\n",
      "Epoch 96/100\n",
      "3/3 [==============================] - 0s 57ms/step - loss: 0.0175 - f1Measurement: 0.9831 - precisionMeasurement: 0.9831 - recallMeasurement: 0.9831 - auc: 1.0000 - val_loss: 0.1366 - val_f1Measurement: 0.8182 - val_precisionMeasurement: 0.8182 - val_recallMeasurement: 0.8182 - val_auc: 0.9486\n",
      "Epoch 97/100\n",
      "3/3 [==============================] - 0s 57ms/step - loss: 0.0185 - f1Measurement: 0.9872 - precisionMeasurement: 0.9872 - recallMeasurement: 0.9872 - auc: 0.9999 - val_loss: 0.1293 - val_f1Measurement: 0.9091 - val_precisionMeasurement: 0.9091 - val_recallMeasurement: 0.9091 - val_auc: 0.9495\n",
      "Epoch 98/100\n",
      "3/3 [==============================] - 0s 55ms/step - loss: 0.0225 - f1Measurement: 0.9784 - precisionMeasurement: 0.9831 - recallMeasurement: 0.9740 - auc: 0.9999 - val_loss: 0.1085 - val_f1Measurement: 0.9091 - val_precisionMeasurement: 0.9091 - val_recallMeasurement: 0.9091 - val_auc: 0.9504\n",
      "Epoch 99/100\n",
      "3/3 [==============================] - 0s 57ms/step - loss: 0.0157 - f1Measurement: 0.9831 - precisionMeasurement: 0.9831 - recallMeasurement: 0.9831 - auc: 1.0000 - val_loss: 0.1019 - val_f1Measurement: 0.9091 - val_precisionMeasurement: 0.9091 - val_recallMeasurement: 0.9091 - val_auc: 0.9495\n",
      "Epoch 100/100\n",
      "3/3 [==============================] - 0s 57ms/step - loss: 0.0195 - f1Measurement: 0.9914 - precisionMeasurement: 1.0000 - recallMeasurement: 0.9831 - auc: 1.0000 - val_loss: 0.1047 - val_f1Measurement: 0.9091 - val_precisionMeasurement: 0.9091 - val_recallMeasurement: 0.9091 - val_auc: 0.9486\n"
     ]
    },
    {
     "data": {
      "text/plain": [
       "<tensorflow.python.keras.callbacks.History at 0x7f659fd09070>"
      ]
     },
     "execution_count": 10,
     "metadata": {},
     "output_type": "execute_result"
    }
   ],
   "source": [
    "# This section of the model is used to trained the convolutional neural network model. \n",
    "# This is achieved by using the fit() method from the Keras API of the TensorFlow library which \n",
    "# was imported previously. Here is where the number of epochs are declared for the model also\n",
    "CNNModel.fit(trainX, trainY, validation_data=(testX, testY), \n",
    "                epochs=100,  \n",
    "                class_weight=weightOfModel)"
   ]
  },
  {
   "cell_type": "code",
   "execution_count": 11,
   "id": "97f32f75",
   "metadata": {},
   "outputs": [
    {
     "name": "stdout",
     "output_type": "stream",
     "text": [
      "1/1 [==============================] - 0s 20ms/step - loss: 0.1047 - f1Measurement: 0.9091 - precisionMeasurement: 0.9091 - recallMeasurement: 0.9091 - auc: 0.9486\n",
      "--------------------------------------------------------------------------------------------------------------------\n",
      "1/1 [==============================] - 0s 20ms/step - loss: 0.1047 - f1Measurement: 0.9091 - precisionMeasurement: 0.9091 - recallMeasurement: 0.9091 - auc: 0.9486\n",
      "--------------------------------------------------------------------------------------------------------------------\n",
      "Final Results for The CNN Model\n",
      "F1 Accuracy of: 0.91 %\n",
      "With a Loss of: 0.10 %\n"
     ]
    }
   ],
   "source": [
    "# Evaluates the trained  model on the test data and returns the values of the  metrics\n",
    "scores = CNNModel.evaluate(testX, testY) \n",
    "print(\"--------------------------------------------------------------------------------------------------------------------\")\n",
    "\n",
    "# Evaluates the trained model on the test data and declares the loss, accuracy \n",
    "# f1_score, precision and recall\n",
    "loss, accuracy, f1_score, precision, recall = CNNModel.evaluate(testX, testY)\n",
    "print(\"--------------------------------------------------------------------------------------------------------------------\")\n",
    "\n",
    "# Used to Print the Final CNN Accuracy of the model\n",
    "print(\"Final Results for The CNN Model\")\n",
    "print(\"F1 Accuracy of: {:.2f}\".format(scores[1]),'%')    # Print Accuracy of Model\n",
    "print(\"With a Loss of: {:.2f}\".format(scores[0]),'%')    # Print Loss of Model"
   ]
  },
  {
   "cell_type": "code",
   "execution_count": null,
   "id": "a2e019da",
   "metadata": {},
   "outputs": [],
   "source": []
  }
 ],
 "metadata": {
  "kernelspec": {
   "display_name": "Python 3 (ipykernel)",
   "language": "python",
   "name": "python3"
  },
  "language_info": {
   "codemirror_mode": {
    "name": "ipython",
    "version": 3
   },
   "file_extension": ".py",
   "mimetype": "text/x-python",
   "name": "python",
   "nbconvert_exporter": "python",
   "pygments_lexer": "ipython3",
   "version": "3.9.16"
  }
 },
 "nbformat": 4,
 "nbformat_minor": 5
}
