{
 "cells": [
  {
   "cell_type": "code",
   "execution_count": 1,
   "id": "e08d24dc",
   "metadata": {},
   "outputs": [],
   "source": [
    "import os\n",
    "os.environ['TF_XLA_FLAGS'] = '--tf_xla_enable_xla_devices'\n",
    "path_root = '/home/dmr/DatasetForExperiments/adware'"
   ]
  },
  {
   "cell_type": "code",
   "execution_count": 2,
   "id": "6a45dad7",
   "metadata": {},
   "outputs": [
    {
     "name": "stderr",
     "output_type": "stream",
     "text": [
      "2023-05-02 19:14:28.926233: I tensorflow/stream_executor/platform/default/dso_loader.cc:49] Successfully opened dynamic library libcudart.so.10.1\n"
     ]
    },
    {
     "name": "stdout",
     "output_type": "stream",
     "text": [
      "Found 107 images belonging to 10 classes.\n"
     ]
    }
   ],
   "source": [
    "from keras.preprocessing.image import ImageDataGenerator\n",
    "batches = ImageDataGenerator().flow_from_directory(directory=path_root, target_size=(64,64), batch_size=10000)"
   ]
  },
  {
   "cell_type": "code",
   "execution_count": 3,
   "id": "728b8be6",
   "metadata": {},
   "outputs": [
    {
     "data": {
      "text/plain": [
       "(107, 10)"
      ]
     },
     "execution_count": 3,
     "metadata": {},
     "output_type": "execute_result"
    }
   ],
   "source": [
    "# Print information about Images \n",
    "imgs, labels = next(batches)\n",
    "imgs.shape # Images with width x length x depth\n",
    "labels.shape # Lablels with batch_size, number of classes"
   ]
  },
  {
   "cell_type": "code",
   "execution_count": 4,
   "id": "57424da2",
   "metadata": {},
   "outputs": [],
   "source": [
    "import numpy as np\n",
    "import scipy as sp\n",
    "from PIL import Image\n",
    "\n",
    "# Train and Test \n",
    "from sklearn.model_selection import train_test_split\n",
    "X_train, X_test, y_train, y_test = train_test_split(imgs/255.,labels, test_size=0.3)"
   ]
  },
  {
   "cell_type": "code",
   "execution_count": 5,
   "id": "3590200f",
   "metadata": {},
   "outputs": [
    {
     "data": {
      "text/plain": [
       "(74, 64, 64, 3)"
      ]
     },
     "execution_count": 5,
     "metadata": {},
     "output_type": "execute_result"
    }
   ],
   "source": [
    "X_train.shape"
   ]
  },
  {
   "cell_type": "code",
   "execution_count": 6,
   "id": "3db9230c",
   "metadata": {},
   "outputs": [
    {
     "data": {
      "text/plain": [
       "(33, 64, 64, 3)"
      ]
     },
     "execution_count": 6,
     "metadata": {},
     "output_type": "execute_result"
    }
   ],
   "source": [
    "X_test.shape"
   ]
  },
  {
   "cell_type": "code",
   "execution_count": 7,
   "id": "2b6ca85a",
   "metadata": {},
   "outputs": [
    {
     "data": {
      "text/plain": [
       "(74, 10)"
      ]
     },
     "execution_count": 7,
     "metadata": {},
     "output_type": "execute_result"
    }
   ],
   "source": [
    "y_train.shape"
   ]
  },
  {
   "cell_type": "code",
   "execution_count": 8,
   "id": "f5f1dec9",
   "metadata": {},
   "outputs": [
    {
     "data": {
      "text/plain": [
       "(33, 10)"
      ]
     },
     "execution_count": 8,
     "metadata": {},
     "output_type": "execute_result"
    }
   ],
   "source": [
    "y_test.shape"
   ]
  },
  {
   "cell_type": "code",
   "execution_count": 9,
   "id": "fde8f125",
   "metadata": {},
   "outputs": [],
   "source": [
    "# CNN Model"
   ]
  },
  {
   "cell_type": "code",
   "execution_count": 10,
   "id": "0f3529a9",
   "metadata": {},
   "outputs": [],
   "source": [
    "import keras\n",
    "import tensorflow\n",
    "from keras.models import Sequential, Input, Model\n",
    "from keras.layers import Dense, Dropout, Flatten\n",
    "from keras.layers import Conv2D, MaxPooling2D\n",
    "from tensorflow.keras.layers import BatchNormalization\n",
    "from tensorflow.keras.metrics import AUC"
   ]
  },
  {
   "cell_type": "code",
   "execution_count": 11,
   "id": "0401eabd",
   "metadata": {},
   "outputs": [],
   "source": [
    "num_classes = 10"
   ]
  },
  {
   "cell_type": "code",
   "execution_count": 12,
   "id": "b3593ed6",
   "metadata": {},
   "outputs": [],
   "source": [
    "def malware_model():\n",
    "    Malware_model = Sequential()\n",
    "    # Convolutional Layer : 30 filters, (3 * 3) kernel size\n",
    "    Malware_model.add(Conv2D(30, kernel_size=(3, 3),\n",
    "                     activation='relu',\n",
    "                     input_shape=(64,64,3)))\n",
    "\n",
    "    # Max Pooling Layer : (2 * 2) pool size\n",
    "    Malware_model.add(MaxPooling2D(pool_size=(2, 2)))\n",
    "    \n",
    "    #Convolutional Layer : 15 filters, (3 * 3) kernel size\n",
    "    Malware_model.add(Conv2D(16, (3, 3), activation='relu'))\n",
    "    \n",
    "    # Max Pooling Layer : (2 * 2) pool size\n",
    "    Malware_model.add(MaxPooling2D(pool_size=(2, 2)))\n",
    "    \n",
    "    # DropOut Layer : Dropping 25% of neurons.\n",
    "    Malware_model.add(Dropout(0.25))\n",
    "    \n",
    "    # Flatten Layer\n",
    "    Malware_model.add(Flatten())\n",
    "    \n",
    "    # Dense/Fully Connected Layer : 128 Neurons, Relu activation function\n",
    "    Malware_model.add(Dense(128, activation='relu'))\n",
    "    \n",
    "   # Malware_model.add(Dense(64, activation='relu'))\n",
    "    \n",
    "    # DropOut Layer : Dropping 50% of neurons.\n",
    "    Malware_model.add(Dropout(0.5))\n",
    "    \n",
    "    # Dense/Fully Connected Layer : 50 Neurons, Softmax activation function\n",
    "    Malware_model.add(Dense(50, activation='relu'))\n",
    "    \n",
    "    # Dense/Fully Connected Layer : num_class Neurons, Softmax activation function\n",
    "    Malware_model.add(Dense(num_classes, activation='softmax'))\n",
    "    \n",
    "    \n",
    "    Malware_model.compile(loss='categorical_crossentropy', optimizer = 'adam', metrics=['accuracy'])\n",
    "    return Malware_model\n",
    "\n",
    "\n",
    "    # sparse_categorical_cross_entropy\n",
    "    # categorical_crossentropy\n",
    "    "
   ]
  },
  {
   "cell_type": "code",
   "execution_count": 13,
   "id": "9a4ebf7d",
   "metadata": {},
   "outputs": [],
   "source": [
    "from keras import backend as K\n",
    "\n",
    "def recall_m(y_test, y_pred):\n",
    "    true_positives = K.sum(K.round(K.clip(y_test * y_pred, 0, 1)))\n",
    "    possible_positives = K.sum(K.round(K.clip(y_test, 0, 1)))\n",
    "    recall = true_positives / (possible_positives + K.epsilon())\n",
    "    return recall\n",
    "\n",
    "def precision_m(y_test, y_pred):\n",
    "    true_positives = K.sum(K.round(K.clip(y_test * y_pred, 0, 1)))\n",
    "    predicted_positives = K.sum(K.round(K.clip(y_pred, 0, 1)))\n",
    "    precision = true_positives / (predicted_positives + K.epsilon())\n",
    "    return precision\n",
    "\n",
    "def f1_m(y_test, y_pred):\n",
    "    precision = precision_m(y_test, y_pred)\n",
    "    recall = recall_m(y_test, y_pred)\n",
    "    return 2*((precision*recall)/(precision+recall+K.epsilon()))"
   ]
  },
  {
   "cell_type": "code",
   "execution_count": 14,
   "id": "c1e2abbc",
   "metadata": {},
   "outputs": [
    {
     "name": "stderr",
     "output_type": "stream",
     "text": [
      "2023-05-02 19:14:32.256070: I tensorflow/stream_executor/platform/default/dso_loader.cc:49] Successfully opened dynamic library libcuda.so.1\n",
      "2023-05-02 19:14:32.515010: E tensorflow/stream_executor/cuda/cuda_driver.cc:328] failed call to cuInit: CUDA_ERROR_NO_DEVICE: no CUDA-capable device is detected\n",
      "2023-05-02 19:14:32.515030: I tensorflow/stream_executor/cuda/cuda_diagnostics.cc:156] kernel driver does not appear to be running on this host (pop-os): /proc/driver/nvidia/version does not exist\n",
      "2023-05-02 19:14:32.515323: I tensorflow/core/platform/cpu_feature_guard.cc:142] This TensorFlow binary is optimized with oneAPI Deep Neural Network Library (oneDNN) to use the following CPU instructions in performance-critical operations:  SSE4.1 SSE4.2 AVX AVX2 FMA\n",
      "To enable them in other operations, rebuild TensorFlow with the appropriate compiler flags.\n",
      "2023-05-02 19:14:32.520245: I tensorflow/core/platform/profile_utils/cpu_utils.cc:112] CPU Frequency: 1999965000 Hz\n",
      "2023-05-02 19:14:32.520995: I tensorflow/compiler/xla/service/service.cc:168] XLA service 0x2ecdfc0 initialized for platform Host (this does not guarantee that XLA will be used). Devices:\n",
      "2023-05-02 19:14:32.521027: I tensorflow/compiler/xla/service/service.cc:176]   StreamExecutor device (0): Host, Default Version\n"
     ]
    }
   ],
   "source": [
    "Malware_model = malware_model()"
   ]
  },
  {
   "cell_type": "code",
   "execution_count": 15,
   "id": "bcb1d474",
   "metadata": {},
   "outputs": [
    {
     "name": "stdout",
     "output_type": "stream",
     "text": [
      "Model: \"sequential\"\n",
      "_________________________________________________________________\n",
      "Layer (type)                 Output Shape              Param #   \n",
      "=================================================================\n",
      "conv2d (Conv2D)              (None, 62, 62, 30)        840       \n",
      "_________________________________________________________________\n",
      "max_pooling2d (MaxPooling2D) (None, 31, 31, 30)        0         \n",
      "_________________________________________________________________\n",
      "conv2d_1 (Conv2D)            (None, 29, 29, 16)        4336      \n",
      "_________________________________________________________________\n",
      "max_pooling2d_1 (MaxPooling2 (None, 14, 14, 16)        0         \n",
      "_________________________________________________________________\n",
      "dropout (Dropout)            (None, 14, 14, 16)        0         \n",
      "_________________________________________________________________\n",
      "flatten (Flatten)            (None, 3136)              0         \n",
      "_________________________________________________________________\n",
      "dense (Dense)                (None, 128)               401536    \n",
      "_________________________________________________________________\n",
      "dropout_1 (Dropout)          (None, 128)               0         \n",
      "_________________________________________________________________\n",
      "dense_1 (Dense)              (None, 50)                6450      \n",
      "_________________________________________________________________\n",
      "dense_2 (Dense)              (None, 10)                510       \n",
      "=================================================================\n",
      "Total params: 413,672\n",
      "Trainable params: 413,672\n",
      "Non-trainable params: 0\n",
      "_________________________________________________________________\n"
     ]
    }
   ],
   "source": [
    "Malware_model.summary()"
   ]
  },
  {
   "cell_type": "code",
   "execution_count": 16,
   "id": "9e8d69b6",
   "metadata": {},
   "outputs": [
    {
     "data": {
      "text/plain": [
       "(74, 10)"
      ]
     },
     "execution_count": 16,
     "metadata": {},
     "output_type": "execute_result"
    }
   ],
   "source": [
    "y_train.shape"
   ]
  },
  {
   "cell_type": "code",
   "execution_count": 17,
   "id": "6711d2f9",
   "metadata": {},
   "outputs": [],
   "source": [
    "y_train_new = np.argmax(y_train, axis=1)"
   ]
  },
  {
   "cell_type": "code",
   "execution_count": 18,
   "id": "838a6a56",
   "metadata": {},
   "outputs": [
    {
     "data": {
      "text/plain": [
       "array([9, 1, 7, 4, 6, 6, 8, 3, 6, 4, 5, 6, 1, 9, 4, 3, 4, 5, 7, 4, 2, 1,\n",
       "       6, 9, 4, 3, 7, 6, 8, 2, 3, 7, 9, 7, 8, 7, 0, 4, 2, 4, 5, 5, 1, 2,\n",
       "       9, 0, 0, 2, 5, 6, 9, 3, 2, 4, 2, 1, 3, 7, 2, 2, 2, 5, 0, 6, 0, 3,\n",
       "       9, 3, 0, 4, 8, 0, 1, 5])"
      ]
     },
     "execution_count": 18,
     "metadata": {},
     "output_type": "execute_result"
    }
   ],
   "source": [
    "y_train_new"
   ]
  },
  {
   "cell_type": "code",
   "execution_count": 19,
   "id": "e5fccc6d",
   "metadata": {},
   "outputs": [],
   "source": [
    "from sklearn.utils import class_weight\n",
    "class_weights = class_weight.compute_class_weight(class_weight = 'balanced',\n",
    "                                                 classes = np.unique(y_train_new),\n",
    "                                                 y = y_train_new)\n",
    "\n",
    "class_weights = {l:c for l,c in zip(np.unique(y_train_new), class_weights)}"
   ]
  },
  {
   "cell_type": "code",
   "execution_count": 20,
   "id": "a62f070a",
   "metadata": {},
   "outputs": [],
   "source": [
    "Malware_model.compile(optimizer='adam', loss='binary_crossentropy', metrics=[f1_m,precision_m, recall_m,AUC()])"
   ]
  },
  {
   "cell_type": "code",
   "execution_count": 21,
   "id": "f8c8523a",
   "metadata": {
    "scrolled": true
   },
   "outputs": [
    {
     "name": "stderr",
     "output_type": "stream",
     "text": [
      "2023-05-02 19:14:32.698981: I tensorflow/compiler/mlir/mlir_graph_optimization_pass.cc:116] None of the MLIR optimization passes are enabled (registered 2)\n"
     ]
    },
    {
     "name": "stdout",
     "output_type": "stream",
     "text": [
      "Epoch 1/100\n",
      "3/3 [==============================] - 1s 259ms/step - loss: 0.6141 - f1_m: 0.0000e+00 - precision_m: 0.0000e+00 - recall_m: 0.0000e+00 - auc: 0.4624 - val_loss: 0.3494 - val_f1_m: 0.0000e+00 - val_precision_m: 0.0000e+00 - val_recall_m: 0.0000e+00 - val_auc: 0.4977\n",
      "Epoch 2/100\n",
      "3/3 [==============================] - 0s 45ms/step - loss: 0.3985 - f1_m: 0.0721 - precision_m: 0.2512 - recall_m: 0.0427 - auc: 0.4864 - val_loss: 0.3523 - val_f1_m: 0.0000e+00 - val_precision_m: 0.0000e+00 - val_recall_m: 0.0000e+00 - val_auc: 0.5752\n",
      "Epoch 3/100\n",
      "3/3 [==============================] - 0s 44ms/step - loss: 0.3840 - f1_m: 0.0150 - precision_m: 0.0417 - recall_m: 0.0091 - auc: 0.5139 - val_loss: 0.3191 - val_f1_m: 0.0000e+00 - val_precision_m: 0.0000e+00 - val_recall_m: 0.0000e+00 - val_auc: 0.6187\n",
      "Epoch 4/100\n",
      "3/3 [==============================] - 0s 49ms/step - loss: 0.3729 - f1_m: 0.0000e+00 - precision_m: 0.0000e+00 - recall_m: 0.0000e+00 - auc: 0.5295 - val_loss: 0.3333 - val_f1_m: 0.0000e+00 - val_precision_m: 0.0000e+00 - val_recall_m: 0.0000e+00 - val_auc: 0.5996\n",
      "Epoch 5/100\n",
      "3/3 [==============================] - 0s 45ms/step - loss: 0.3662 - f1_m: 0.0000e+00 - precision_m: 0.0000e+00 - recall_m: 0.0000e+00 - auc: 0.5513 - val_loss: 0.3234 - val_f1_m: 0.0000e+00 - val_precision_m: 0.0000e+00 - val_recall_m: 0.0000e+00 - val_auc: 0.6088\n",
      "Epoch 6/100\n",
      "3/3 [==============================] - 0s 44ms/step - loss: 0.3548 - f1_m: 0.0000e+00 - precision_m: 0.0000e+00 - recall_m: 0.0000e+00 - auc: 0.5241 - val_loss: 0.3240 - val_f1_m: 0.0000e+00 - val_precision_m: 0.0000e+00 - val_recall_m: 0.0000e+00 - val_auc: 0.6121\n",
      "Epoch 7/100\n",
      "3/3 [==============================] - 0s 39ms/step - loss: 0.3420 - f1_m: 0.0000e+00 - precision_m: 0.0000e+00 - recall_m: 0.0000e+00 - auc: 0.5980 - val_loss: 0.3220 - val_f1_m: 0.0000e+00 - val_precision_m: 0.0000e+00 - val_recall_m: 0.0000e+00 - val_auc: 0.6118\n",
      "Epoch 8/100\n",
      "3/3 [==============================] - 0s 40ms/step - loss: 0.3493 - f1_m: 0.0177 - precision_m: 0.2917 - recall_m: 0.0091 - auc: 0.5425 - val_loss: 0.3236 - val_f1_m: 0.0000e+00 - val_precision_m: 0.0000e+00 - val_recall_m: 0.0000e+00 - val_auc: 0.6315\n",
      "Epoch 9/100\n",
      "3/3 [==============================] - 0s 40ms/step - loss: 0.3369 - f1_m: 0.0000e+00 - precision_m: 0.0000e+00 - recall_m: 0.0000e+00 - auc: 0.6189 - val_loss: 0.3188 - val_f1_m: 0.0000e+00 - val_precision_m: 0.0000e+00 - val_recall_m: 0.0000e+00 - val_auc: 0.6481\n",
      "Epoch 10/100\n",
      "3/3 [==============================] - 0s 40ms/step - loss: 0.3359 - f1_m: 0.0000e+00 - precision_m: 0.0000e+00 - recall_m: 0.0000e+00 - auc: 0.5657 - val_loss: 0.3231 - val_f1_m: 0.0000e+00 - val_precision_m: 0.0000e+00 - val_recall_m: 0.0000e+00 - val_auc: 0.6695\n",
      "Epoch 11/100\n",
      "3/3 [==============================] - 0s 43ms/step - loss: 0.3388 - f1_m: 0.0000e+00 - precision_m: 0.0000e+00 - recall_m: 0.0000e+00 - auc: 0.5467 - val_loss: 0.3166 - val_f1_m: 0.0000e+00 - val_precision_m: 0.0000e+00 - val_recall_m: 0.0000e+00 - val_auc: 0.6797\n",
      "Epoch 12/100\n",
      "3/3 [==============================] - 0s 43ms/step - loss: 0.3321 - f1_m: 0.0000e+00 - precision_m: 0.0000e+00 - recall_m: 0.0000e+00 - auc: 0.6412 - val_loss: 0.3173 - val_f1_m: 0.0000e+00 - val_precision_m: 0.0000e+00 - val_recall_m: 0.0000e+00 - val_auc: 0.6928\n",
      "Epoch 13/100\n",
      "3/3 [==============================] - 0s 42ms/step - loss: 0.3195 - f1_m: 0.0000e+00 - precision_m: 0.0000e+00 - recall_m: 0.0000e+00 - auc: 0.6396 - val_loss: 0.3123 - val_f1_m: 0.0000e+00 - val_precision_m: 0.0000e+00 - val_recall_m: 0.0000e+00 - val_auc: 0.7076\n",
      "Epoch 14/100\n",
      "3/3 [==============================] - 0s 43ms/step - loss: 0.3071 - f1_m: 0.0000e+00 - precision_m: 0.0000e+00 - recall_m: 0.0000e+00 - auc: 0.6580 - val_loss: 0.3085 - val_f1_m: 0.0000e+00 - val_precision_m: 0.0000e+00 - val_recall_m: 0.0000e+00 - val_auc: 0.7245\n",
      "Epoch 15/100\n",
      "3/3 [==============================] - 0s 46ms/step - loss: 0.2958 - f1_m: 0.0000e+00 - precision_m: 0.0000e+00 - recall_m: 0.0000e+00 - auc: 0.7407 - val_loss: 0.3055 - val_f1_m: 0.0000e+00 - val_precision_m: 0.0000e+00 - val_recall_m: 0.0000e+00 - val_auc: 0.7241\n",
      "Epoch 16/100\n",
      "3/3 [==============================] - 0s 46ms/step - loss: 0.2911 - f1_m: 0.0303 - precision_m: 0.1667 - recall_m: 0.0167 - auc: 0.7471 - val_loss: 0.3033 - val_f1_m: 0.0000e+00 - val_precision_m: 0.0000e+00 - val_recall_m: 0.0000e+00 - val_auc: 0.7202\n",
      "Epoch 17/100\n",
      "3/3 [==============================] - 0s 44ms/step - loss: 0.2939 - f1_m: 0.0000e+00 - precision_m: 0.0000e+00 - recall_m: 0.0000e+00 - auc: 0.7777 - val_loss: 0.3013 - val_f1_m: 0.0000e+00 - val_precision_m: 0.0000e+00 - val_recall_m: 0.0000e+00 - val_auc: 0.7180\n",
      "Epoch 18/100\n",
      "3/3 [==============================] - 0s 41ms/step - loss: 0.2874 - f1_m: 0.0662 - precision_m: 0.5625 - recall_m: 0.0352 - auc: 0.7410 - val_loss: 0.2953 - val_f1_m: 0.0000e+00 - val_precision_m: 0.0000e+00 - val_recall_m: 0.0000e+00 - val_auc: 0.7403\n",
      "Epoch 19/100\n",
      "3/3 [==============================] - 0s 40ms/step - loss: 0.2860 - f1_m: 0.1193 - precision_m: 0.7083 - recall_m: 0.0672 - auc: 0.7783 - val_loss: 0.2933 - val_f1_m: 0.0000e+00 - val_precision_m: 0.0000e+00 - val_recall_m: 0.0000e+00 - val_auc: 0.7461\n",
      "Epoch 20/100\n",
      "3/3 [==============================] - 0s 41ms/step - loss: 0.2721 - f1_m: 0.0646 - precision_m: 0.4583 - recall_m: 0.0349 - auc: 0.8065 - val_loss: 0.2956 - val_f1_m: 0.0000e+00 - val_precision_m: 0.0000e+00 - val_recall_m: 0.0000e+00 - val_auc: 0.7271\n",
      "Epoch 21/100\n",
      "3/3 [==============================] - 0s 41ms/step - loss: 0.2675 - f1_m: 0.0646 - precision_m: 0.4583 - recall_m: 0.0349 - auc: 0.8032 - val_loss: 0.2954 - val_f1_m: 0.0000e+00 - val_precision_m: 0.0000e+00 - val_recall_m: 0.0000e+00 - val_auc: 0.7234\n",
      "Epoch 22/100\n",
      "3/3 [==============================] - 0s 40ms/step - loss: 0.2652 - f1_m: 0.0671 - precision_m: 0.8333 - recall_m: 0.0352 - auc: 0.8143 - val_loss: 0.2920 - val_f1_m: 0.0303 - val_precision_m: 0.5000 - val_recall_m: 0.0156 - val_auc: 0.7254\n",
      "Epoch 23/100\n",
      "3/3 [==============================] - 0s 42ms/step - loss: 0.2378 - f1_m: 0.1992 - precision_m: 0.8333 - recall_m: 0.1133 - auc: 0.8902 - val_loss: 0.2892 - val_f1_m: 0.0303 - val_precision_m: 0.5000 - val_recall_m: 0.0156 - val_auc: 0.7348\n",
      "Epoch 24/100\n",
      "3/3 [==============================] - 0s 40ms/step - loss: 0.2647 - f1_m: 0.1790 - precision_m: 0.7167 - recall_m: 0.1026 - auc: 0.8152 - val_loss: 0.2855 - val_f1_m: 0.0303 - val_precision_m: 0.5000 - val_recall_m: 0.0156 - val_auc: 0.7395\n",
      "Epoch 25/100\n",
      "3/3 [==============================] - 0s 40ms/step - loss: 0.2332 - f1_m: 0.2472 - precision_m: 0.7431 - recall_m: 0.1484 - auc: 0.8675 - val_loss: 0.2804 - val_f1_m: 0.0588 - val_precision_m: 0.5000 - val_recall_m: 0.0312 - val_auc: 0.7651\n",
      "Epoch 26/100\n",
      "3/3 [==============================] - 0s 44ms/step - loss: 0.2477 - f1_m: 0.2622 - precision_m: 0.9676 - recall_m: 0.1570 - auc: 0.8553 - val_loss: 0.2773 - val_f1_m: 0.0588 - val_precision_m: 0.5000 - val_recall_m: 0.0312 - val_auc: 0.7830\n",
      "Epoch 27/100\n",
      "3/3 [==============================] - 0s 42ms/step - loss: 0.2308 - f1_m: 0.2935 - precision_m: 1.0000 - recall_m: 0.1729 - auc: 0.9129 - val_loss: 0.2873 - val_f1_m: 0.0588 - val_precision_m: 0.5000 - val_recall_m: 0.0312 - val_auc: 0.7731\n",
      "Epoch 28/100\n",
      "3/3 [==============================] - 0s 43ms/step - loss: 0.2188 - f1_m: 0.4341 - precision_m: 0.9167 - recall_m: 0.2844 - auc: 0.9058 - val_loss: 0.2876 - val_f1_m: 0.0833 - val_precision_m: 0.3750 - val_recall_m: 0.0469 - val_auc: 0.7601\n",
      "Epoch 29/100\n",
      "3/3 [==============================] - 0s 39ms/step - loss: 0.2033 - f1_m: 0.4103 - precision_m: 1.0000 - recall_m: 0.2656 - auc: 0.9380 - val_loss: 0.2826 - val_f1_m: 0.0833 - val_precision_m: 0.3750 - val_recall_m: 0.0469 - val_auc: 0.7612\n",
      "Epoch 30/100\n",
      "3/3 [==============================] - 0s 40ms/step - loss: 0.2162 - f1_m: 0.3319 - precision_m: 0.7354 - recall_m: 0.2169 - auc: 0.9239 - val_loss: 0.2765 - val_f1_m: 0.1538 - val_precision_m: 0.4286 - val_recall_m: 0.0938 - val_auc: 0.7763\n",
      "Epoch 31/100\n"
     ]
    },
    {
     "name": "stdout",
     "output_type": "stream",
     "text": [
      "3/3 [==============================] - 0s 44ms/step - loss: 0.2040 - f1_m: 0.4767 - precision_m: 0.8681 - recall_m: 0.3286 - auc: 0.9318 - val_loss: 0.2736 - val_f1_m: 0.1026 - val_precision_m: 0.2857 - val_recall_m: 0.0625 - val_auc: 0.7908\n",
      "Epoch 32/100\n",
      "3/3 [==============================] - 0s 44ms/step - loss: 0.2014 - f1_m: 0.4172 - precision_m: 0.7324 - recall_m: 0.2951 - auc: 0.9228 - val_loss: 0.2705 - val_f1_m: 0.1026 - val_precision_m: 0.2857 - val_recall_m: 0.0625 - val_auc: 0.7939\n",
      "Epoch 33/100\n",
      "3/3 [==============================] - 0s 43ms/step - loss: 0.1789 - f1_m: 0.5196 - precision_m: 0.7886 - recall_m: 0.3898 - auc: 0.9488 - val_loss: 0.2731 - val_f1_m: 0.1538 - val_precision_m: 0.4286 - val_recall_m: 0.0938 - val_auc: 0.7854\n",
      "Epoch 34/100\n",
      "3/3 [==============================] - 0s 43ms/step - loss: 0.1902 - f1_m: 0.5497 - precision_m: 0.8256 - recall_m: 0.4154 - auc: 0.9382 - val_loss: 0.2854 - val_f1_m: 0.1316 - val_precision_m: 0.4167 - val_recall_m: 0.0781 - val_auc: 0.7762\n",
      "Epoch 35/100\n",
      "3/3 [==============================] - 0s 40ms/step - loss: 0.1794 - f1_m: 0.5663 - precision_m: 0.8434 - recall_m: 0.4341 - auc: 0.9298 - val_loss: 0.2742 - val_f1_m: 0.1250 - val_precision_m: 0.3125 - val_recall_m: 0.0781 - val_auc: 0.7979\n",
      "Epoch 36/100\n",
      "3/3 [==============================] - 0s 39ms/step - loss: 0.1703 - f1_m: 0.5746 - precision_m: 0.8082 - recall_m: 0.4469 - auc: 0.9551 - val_loss: 0.2617 - val_f1_m: 0.1463 - val_precision_m: 0.3333 - val_recall_m: 0.0938 - val_auc: 0.8186\n",
      "Epoch 37/100\n",
      "3/3 [==============================] - 0s 40ms/step - loss: 0.1552 - f1_m: 0.7396 - precision_m: 0.9072 - recall_m: 0.6289 - auc: 0.9637 - val_loss: 0.2584 - val_f1_m: 0.1628 - val_precision_m: 0.3182 - val_recall_m: 0.1094 - val_auc: 0.8267\n",
      "Epoch 38/100\n",
      "3/3 [==============================] - 0s 41ms/step - loss: 0.1555 - f1_m: 0.7149 - precision_m: 0.8727 - recall_m: 0.6102 - auc: 0.9628 - val_loss: 0.2720 - val_f1_m: 0.1556 - val_precision_m: 0.2692 - val_recall_m: 0.1094 - val_auc: 0.8106\n",
      "Epoch 39/100\n",
      "3/3 [==============================] - 0s 41ms/step - loss: 0.1634 - f1_m: 0.6619 - precision_m: 0.8646 - recall_m: 0.5362 - auc: 0.9644 - val_loss: 0.2746 - val_f1_m: 0.1628 - val_precision_m: 0.3182 - val_recall_m: 0.1094 - val_auc: 0.7902\n",
      "Epoch 40/100\n",
      "3/3 [==============================] - 0s 40ms/step - loss: 0.1359 - f1_m: 0.7688 - precision_m: 0.9036 - recall_m: 0.6701 - auc: 0.9810 - val_loss: 0.2730 - val_f1_m: 0.1778 - val_precision_m: 0.3077 - val_recall_m: 0.1250 - val_auc: 0.7971\n",
      "Epoch 41/100\n",
      "3/3 [==============================] - 0s 40ms/step - loss: 0.1345 - f1_m: 0.7554 - precision_m: 0.8796 - recall_m: 0.6638 - auc: 0.9738 - val_loss: 0.2746 - val_f1_m: 0.1702 - val_precision_m: 0.2667 - val_recall_m: 0.1250 - val_auc: 0.7968\n",
      "Epoch 42/100\n",
      "3/3 [==============================] - 0s 40ms/step - loss: 0.1224 - f1_m: 0.7869 - precision_m: 0.9012 - recall_m: 0.6984 - auc: 0.9890 - val_loss: 0.2813 - val_f1_m: 0.1800 - val_precision_m: 0.2500 - val_recall_m: 0.1406 - val_auc: 0.7915\n",
      "Epoch 43/100\n",
      "3/3 [==============================] - 0s 41ms/step - loss: 0.1403 - f1_m: 0.6710 - precision_m: 0.8046 - recall_m: 0.5763 - auc: 0.9746 - val_loss: 0.2868 - val_f1_m: 0.1667 - val_precision_m: 0.2500 - val_recall_m: 0.1250 - val_auc: 0.7816\n",
      "Epoch 44/100\n",
      "3/3 [==============================] - 0s 42ms/step - loss: 0.1240 - f1_m: 0.7376 - precision_m: 0.8701 - recall_m: 0.6484 - auc: 0.9816 - val_loss: 0.2764 - val_f1_m: 0.1489 - val_precision_m: 0.2333 - val_recall_m: 0.1094 - val_auc: 0.8018\n",
      "Epoch 45/100\n",
      "3/3 [==============================] - 0s 41ms/step - loss: 0.1057 - f1_m: 0.8422 - precision_m: 0.9351 - recall_m: 0.7672 - auc: 0.9898 - val_loss: 0.2748 - val_f1_m: 0.6800 - val_precision_m: 0.7500 - val_recall_m: 0.6406 - val_auc: 0.8241\n",
      "Epoch 46/100\n",
      "3/3 [==============================] - 0s 39ms/step - loss: 0.1141 - f1_m: 0.7729 - precision_m: 0.8795 - recall_m: 0.6906 - auc: 0.9853 - val_loss: 0.2876 - val_f1_m: 0.6923 - val_precision_m: 0.7500 - val_recall_m: 0.6562 - val_auc: 0.8165\n",
      "Epoch 47/100\n",
      "3/3 [==============================] - 0s 41ms/step - loss: 0.1050 - f1_m: 0.8129 - precision_m: 0.8600 - recall_m: 0.7724 - auc: 0.9875 - val_loss: 0.2892 - val_f1_m: 0.1818 - val_precision_m: 0.2174 - val_recall_m: 0.1562 - val_auc: 0.8014\n",
      "Epoch 48/100\n",
      "3/3 [==============================] - 0s 43ms/step - loss: 0.1124 - f1_m: 0.7726 - precision_m: 0.9069 - recall_m: 0.6740 - auc: 0.9868 - val_loss: 0.2762 - val_f1_m: 0.1538 - val_precision_m: 0.2000 - val_recall_m: 0.1250 - val_auc: 0.8066\n",
      "Epoch 49/100\n",
      "3/3 [==============================] - 0s 43ms/step - loss: 0.0896 - f1_m: 0.8831 - precision_m: 0.9878 - recall_m: 0.7997 - auc: 0.9960 - val_loss: 0.2872 - val_f1_m: 0.1698 - val_precision_m: 0.2143 - val_recall_m: 0.1406 - val_auc: 0.8078\n",
      "Epoch 50/100\n",
      "3/3 [==============================] - 0s 46ms/step - loss: 0.0974 - f1_m: 0.8417 - precision_m: 0.8775 - recall_m: 0.8089 - auc: 0.9870 - val_loss: 0.3278 - val_f1_m: 0.2034 - val_precision_m: 0.2222 - val_recall_m: 0.1875 - val_auc: 0.7918\n",
      "Epoch 51/100\n",
      "3/3 [==============================] - 0s 45ms/step - loss: 0.1181 - f1_m: 0.7859 - precision_m: 0.8733 - recall_m: 0.7154 - auc: 0.9778 - val_loss: 0.3028 - val_f1_m: 0.1964 - val_precision_m: 0.2292 - val_recall_m: 0.1719 - val_auc: 0.7985\n",
      "Epoch 52/100\n",
      "3/3 [==============================] - 0s 43ms/step - loss: 0.0860 - f1_m: 0.8737 - precision_m: 0.9069 - recall_m: 0.8438 - auc: 0.9922 - val_loss: 0.2855 - val_f1_m: 0.1923 - val_precision_m: 0.2500 - val_recall_m: 0.1562 - val_auc: 0.8034\n",
      "Epoch 53/100\n",
      "3/3 [==============================] - 0s 40ms/step - loss: 0.0941 - f1_m: 0.8148 - precision_m: 0.9348 - recall_m: 0.7245 - auc: 0.9892 - val_loss: 0.2968 - val_f1_m: 0.1296 - val_precision_m: 0.1591 - val_recall_m: 0.1094 - val_auc: 0.7823\n",
      "Epoch 54/100\n",
      "3/3 [==============================] - 0s 43ms/step - loss: 0.0772 - f1_m: 0.8862 - precision_m: 0.9589 - recall_m: 0.8281 - auc: 0.9957 - val_loss: 0.2945 - val_f1_m: 0.6346 - val_precision_m: 0.6750 - val_recall_m: 0.6094 - val_auc: 0.8065\n",
      "Epoch 55/100\n",
      "3/3 [==============================] - 0s 41ms/step - loss: 0.0806 - f1_m: 0.8416 - precision_m: 0.8770 - recall_m: 0.8091 - auc: 0.9920 - val_loss: 0.2872 - val_f1_m: 0.6852 - val_precision_m: 0.7273 - val_recall_m: 0.6562 - val_auc: 0.8348\n",
      "Epoch 56/100\n",
      "3/3 [==============================] - 0s 40ms/step - loss: 0.0769 - f1_m: 0.8158 - precision_m: 0.8376 - recall_m: 0.7953 - auc: 0.9922 - val_loss: 0.2794 - val_f1_m: 0.2037 - val_precision_m: 0.2500 - val_recall_m: 0.1719 - val_auc: 0.8364\n",
      "Epoch 57/100\n",
      "3/3 [==============================] - 0s 40ms/step - loss: 0.0740 - f1_m: 0.9042 - precision_m: 0.9243 - recall_m: 0.8859 - auc: 0.9945 - val_loss: 0.2743 - val_f1_m: 0.2000 - val_precision_m: 0.2391 - val_recall_m: 0.1719 - val_auc: 0.8425\n",
      "Epoch 58/100\n",
      "3/3 [==============================] - 0s 40ms/step - loss: 0.0804 - f1_m: 0.9013 - precision_m: 0.9342 - recall_m: 0.8711 - auc: 0.9937 - val_loss: 0.2905 - val_f1_m: 0.6818 - val_precision_m: 0.7174 - val_recall_m: 0.6562 - val_auc: 0.8232\n",
      "Epoch 59/100\n",
      "3/3 [==============================] - 0s 42ms/step - loss: 0.0686 - f1_m: 0.8725 - precision_m: 0.8933 - recall_m: 0.8531 - auc: 0.9955 - val_loss: 0.3319 - val_f1_m: 0.6724 - val_precision_m: 0.6923 - val_recall_m: 0.6562 - val_auc: 0.7950\n",
      "Epoch 60/100\n",
      "3/3 [==============================] - 0s 40ms/step - loss: 0.0688 - f1_m: 0.8257 - precision_m: 0.8607 - recall_m: 0.7951 - auc: 0.9949 - val_loss: 0.3157 - val_f1_m: 0.1724 - val_precision_m: 0.1923 - val_recall_m: 0.1562 - val_auc: 0.8090\n",
      "Epoch 61/100\n",
      "3/3 [==============================] - 0s 41ms/step - loss: 0.0708 - f1_m: 0.8737 - precision_m: 0.8777 - recall_m: 0.8698 - auc: 0.9937 - val_loss: 0.3069 - val_f1_m: 0.2069 - val_precision_m: 0.2308 - val_recall_m: 0.1875 - val_auc: 0.8216\n",
      "Epoch 62/100\n",
      "3/3 [==============================] - 0s 45ms/step - loss: 0.0621 - f1_m: 0.8962 - precision_m: 0.9438 - recall_m: 0.8547 - auc: 0.9967 - val_loss: 0.3154 - val_f1_m: 0.2105 - val_precision_m: 0.2400 - val_recall_m: 0.1875 - val_auc: 0.8174\n",
      "Epoch 63/100\n"
     ]
    },
    {
     "name": "stdout",
     "output_type": "stream",
     "text": [
      "3/3 [==============================] - 0s 44ms/step - loss: 0.0636 - f1_m: 0.8956 - precision_m: 0.9425 - recall_m: 0.8531 - auc: 0.9957 - val_loss: 0.3395 - val_f1_m: 0.1964 - val_precision_m: 0.2292 - val_recall_m: 0.1719 - val_auc: 0.7962\n",
      "Epoch 64/100\n",
      "3/3 [==============================] - 0s 41ms/step - loss: 0.0678 - f1_m: 0.8218 - precision_m: 0.8516 - recall_m: 0.7948 - auc: 0.9924 - val_loss: 0.3251 - val_f1_m: 0.1864 - val_precision_m: 0.2037 - val_recall_m: 0.1719 - val_auc: 0.7915\n",
      "Epoch 65/100\n",
      "3/3 [==============================] - 0s 45ms/step - loss: 0.0579 - f1_m: 0.9074 - precision_m: 0.9194 - recall_m: 0.8964 - auc: 0.9943 - val_loss: 0.3093 - val_f1_m: 0.6754 - val_precision_m: 0.7000 - val_recall_m: 0.6562 - val_auc: 0.7947\n",
      "Epoch 66/100\n",
      "3/3 [==============================] - 0s 41ms/step - loss: 0.0678 - f1_m: 0.8697 - precision_m: 0.9078 - recall_m: 0.8352 - auc: 0.9958 - val_loss: 0.3000 - val_f1_m: 0.6786 - val_precision_m: 0.7083 - val_recall_m: 0.6562 - val_auc: 0.8018\n",
      "Epoch 67/100\n",
      "3/3 [==============================] - 0s 44ms/step - loss: 0.0524 - f1_m: 0.9232 - precision_m: 0.9531 - recall_m: 0.8958 - auc: 0.9980 - val_loss: 0.2968 - val_f1_m: 0.6818 - val_precision_m: 0.7174 - val_recall_m: 0.6562 - val_auc: 0.8284\n",
      "Epoch 68/100\n",
      "3/3 [==============================] - 0s 40ms/step - loss: 0.0567 - f1_m: 0.9299 - precision_m: 0.9299 - recall_m: 0.9299 - auc: 0.9970 - val_loss: 0.3211 - val_f1_m: 0.6964 - val_precision_m: 0.7292 - val_recall_m: 0.6719 - val_auc: 0.8275\n",
      "Epoch 69/100\n",
      "3/3 [==============================] - 0s 43ms/step - loss: 0.0564 - f1_m: 0.9125 - precision_m: 0.9202 - recall_m: 0.9049 - auc: 0.9952 - val_loss: 0.3321 - val_f1_m: 0.2069 - val_precision_m: 0.2308 - val_recall_m: 0.1875 - val_auc: 0.8251\n",
      "Epoch 70/100\n",
      "3/3 [==============================] - 0s 40ms/step - loss: 0.0668 - f1_m: 0.8519 - precision_m: 0.8800 - recall_m: 0.8258 - auc: 0.9936 - val_loss: 0.3216 - val_f1_m: 0.1897 - val_precision_m: 0.2115 - val_recall_m: 0.1719 - val_auc: 0.8175\n",
      "Epoch 71/100\n",
      "3/3 [==============================] - 0s 44ms/step - loss: 0.0536 - f1_m: 0.8970 - precision_m: 0.9170 - recall_m: 0.8781 - auc: 0.9976 - val_loss: 0.3189 - val_f1_m: 0.1864 - val_precision_m: 0.2037 - val_recall_m: 0.1719 - val_auc: 0.7908\n",
      "Epoch 72/100\n",
      "3/3 [==============================] - 0s 40ms/step - loss: 0.0520 - f1_m: 0.9286 - precision_m: 0.9455 - recall_m: 0.9128 - auc: 0.9975 - val_loss: 0.3352 - val_f1_m: 0.2000 - val_precision_m: 0.2143 - val_recall_m: 0.1875 - val_auc: 0.7823\n",
      "Epoch 73/100\n",
      "3/3 [==============================] - 0s 41ms/step - loss: 0.0491 - f1_m: 0.9331 - precision_m: 0.9627 - recall_m: 0.9055 - auc: 0.9973 - val_loss: 0.3425 - val_f1_m: 0.1930 - val_precision_m: 0.2200 - val_recall_m: 0.1719 - val_auc: 0.7782\n",
      "Epoch 74/100\n",
      "3/3 [==============================] - 0s 40ms/step - loss: 0.0598 - f1_m: 0.8321 - precision_m: 0.8552 - recall_m: 0.8104 - auc: 0.9934 - val_loss: 0.3246 - val_f1_m: 0.2000 - val_precision_m: 0.2143 - val_recall_m: 0.1875 - val_auc: 0.8003\n",
      "Epoch 75/100\n",
      "3/3 [==============================] - 0s 46ms/step - loss: 0.0511 - f1_m: 0.9049 - precision_m: 0.9127 - recall_m: 0.8974 - auc: 0.9968 - val_loss: 0.3127 - val_f1_m: 0.1864 - val_precision_m: 0.2037 - val_recall_m: 0.1719 - val_auc: 0.8126\n",
      "Epoch 76/100\n",
      "3/3 [==============================] - 0s 40ms/step - loss: 0.0523 - f1_m: 0.8942 - precision_m: 0.9020 - recall_m: 0.8867 - auc: 0.9958 - val_loss: 0.3057 - val_f1_m: 0.1833 - val_precision_m: 0.1964 - val_recall_m: 0.1719 - val_auc: 0.8099\n",
      "Epoch 77/100\n",
      "3/3 [==============================] - 0s 41ms/step - loss: 0.0534 - f1_m: 0.8735 - precision_m: 0.8852 - recall_m: 0.8622 - auc: 0.9953 - val_loss: 0.3226 - val_f1_m: 0.1833 - val_precision_m: 0.1964 - val_recall_m: 0.1719 - val_auc: 0.8091\n",
      "Epoch 78/100\n",
      "3/3 [==============================] - 0s 43ms/step - loss: 0.0498 - f1_m: 0.8828 - precision_m: 0.8946 - recall_m: 0.8714 - auc: 0.9965 - val_loss: 0.3284 - val_f1_m: 0.1864 - val_precision_m: 0.2037 - val_recall_m: 0.1719 - val_auc: 0.7900\n",
      "Epoch 79/100\n",
      "3/3 [==============================] - 0s 40ms/step - loss: 0.0468 - f1_m: 0.8726 - precision_m: 0.8764 - recall_m: 0.8690 - auc: 0.9965 - val_loss: 0.3296 - val_f1_m: 0.1724 - val_precision_m: 0.1923 - val_recall_m: 0.1562 - val_auc: 0.8010\n",
      "Epoch 80/100\n",
      "3/3 [==============================] - 0s 40ms/step - loss: 0.0377 - f1_m: 0.8909 - precision_m: 0.8949 - recall_m: 0.8870 - auc: 0.9979 - val_loss: 0.3284 - val_f1_m: 0.6864 - val_precision_m: 0.7037 - val_recall_m: 0.6719 - val_auc: 0.7922\n",
      "Epoch 81/100\n",
      "3/3 [==============================] - 0s 43ms/step - loss: 0.0486 - f1_m: 0.9034 - precision_m: 0.9111 - recall_m: 0.8958 - auc: 0.9964 - val_loss: 0.3172 - val_f1_m: 0.6864 - val_precision_m: 0.7037 - val_recall_m: 0.6719 - val_auc: 0.7889\n",
      "Epoch 82/100\n",
      "3/3 [==============================] - 0s 40ms/step - loss: 0.0429 - f1_m: 0.9118 - precision_m: 0.9203 - recall_m: 0.9039 - auc: 0.9968 - val_loss: 0.2928 - val_f1_m: 0.6897 - val_precision_m: 0.7115 - val_recall_m: 0.6719 - val_auc: 0.8248\n",
      "Epoch 83/100\n",
      "3/3 [==============================] - 0s 41ms/step - loss: 0.0471 - f1_m: 0.8946 - precision_m: 0.9111 - recall_m: 0.8792 - auc: 0.9965 - val_loss: 0.2859 - val_f1_m: 0.1818 - val_precision_m: 0.2174 - val_recall_m: 0.1562 - val_auc: 0.8365\n",
      "Epoch 84/100\n",
      "3/3 [==============================] - 0s 45ms/step - loss: 0.0447 - f1_m: 0.9100 - precision_m: 0.9262 - recall_m: 0.8945 - auc: 0.9970 - val_loss: 0.3115 - val_f1_m: 0.1923 - val_precision_m: 0.2500 - val_recall_m: 0.1562 - val_auc: 0.8286\n",
      "Epoch 85/100\n",
      "3/3 [==============================] - 0s 42ms/step - loss: 0.0555 - f1_m: 0.8523 - precision_m: 0.8595 - recall_m: 0.8453 - auc: 0.9950 - val_loss: 0.3519 - val_f1_m: 0.6897 - val_precision_m: 0.7115 - val_recall_m: 0.6719 - val_auc: 0.8022\n",
      "Epoch 86/100\n",
      "3/3 [==============================] - 0s 44ms/step - loss: 0.0433 - f1_m: 0.9074 - precision_m: 0.9194 - recall_m: 0.8958 - auc: 0.9976 - val_loss: 0.3900 - val_f1_m: 0.7000 - val_precision_m: 0.7143 - val_recall_m: 0.6875 - val_auc: 0.7877\n",
      "Epoch 87/100\n",
      "3/3 [==============================] - 0s 41ms/step - loss: 0.0396 - f1_m: 0.9479 - precision_m: 0.9559 - recall_m: 0.9401 - auc: 0.9970 - val_loss: 0.4025 - val_f1_m: 0.7034 - val_precision_m: 0.7222 - val_recall_m: 0.6875 - val_auc: 0.7936\n",
      "Epoch 88/100\n",
      "3/3 [==============================] - 0s 43ms/step - loss: 0.0519 - f1_m: 0.8794 - precision_m: 0.8794 - recall_m: 0.8794 - auc: 0.9950 - val_loss: 0.3574 - val_f1_m: 0.7241 - val_precision_m: 0.7500 - val_recall_m: 0.7031 - val_auc: 0.8080\n",
      "Epoch 89/100\n",
      "3/3 [==============================] - 0s 45ms/step - loss: 0.0479 - f1_m: 0.9079 - precision_m: 0.9202 - recall_m: 0.8961 - auc: 0.9866 - val_loss: 0.3126 - val_f1_m: 0.2131 - val_precision_m: 0.2241 - val_recall_m: 0.2031 - val_auc: 0.8304\n",
      "Epoch 90/100\n",
      "3/3 [==============================] - 0s 43ms/step - loss: 0.0509 - f1_m: 0.8701 - precision_m: 0.8701 - recall_m: 0.8701 - auc: 0.9916 - val_loss: 0.2978 - val_f1_m: 0.2105 - val_precision_m: 0.2400 - val_recall_m: 0.1875 - val_auc: 0.8150\n",
      "Epoch 91/100\n",
      "3/3 [==============================] - 0s 44ms/step - loss: 0.0387 - f1_m: 0.9419 - precision_m: 0.9631 - recall_m: 0.9219 - auc: 0.9971 - val_loss: 0.2931 - val_f1_m: 0.1930 - val_precision_m: 0.2200 - val_recall_m: 0.1719 - val_auc: 0.8179\n",
      "Epoch 92/100\n",
      "3/3 [==============================] - 0s 40ms/step - loss: 0.0429 - f1_m: 0.8487 - precision_m: 0.8684 - recall_m: 0.8302 - auc: 0.9967 - val_loss: 0.3104 - val_f1_m: 0.1864 - val_precision_m: 0.2037 - val_recall_m: 0.1719 - val_auc: 0.8001\n",
      "Epoch 93/100\n",
      "3/3 [==============================] - 0s 40ms/step - loss: 0.0432 - f1_m: 0.9265 - precision_m: 0.9390 - recall_m: 0.9143 - auc: 0.9975 - val_loss: 0.3408 - val_f1_m: 0.1864 - val_precision_m: 0.2037 - val_recall_m: 0.1719 - val_auc: 0.7890\n",
      "Epoch 94/100\n",
      "3/3 [==============================] - 0s 44ms/step - loss: 0.0473 - f1_m: 0.9180 - precision_m: 0.9522 - recall_m: 0.8867 - auc: 0.9981 - val_loss: 0.3706 - val_f1_m: 0.1864 - val_precision_m: 0.2037 - val_recall_m: 0.1719 - val_auc: 0.7937\n",
      "Epoch 95/100\n"
     ]
    },
    {
     "name": "stdout",
     "output_type": "stream",
     "text": [
      "3/3 [==============================] - 0s 44ms/step - loss: 0.0402 - f1_m: 0.9388 - precision_m: 0.9388 - recall_m: 0.9388 - auc: 0.9974 - val_loss: 0.3797 - val_f1_m: 0.1967 - val_precision_m: 0.2069 - val_recall_m: 0.1875 - val_auc: 0.8035\n",
      "Epoch 96/100\n",
      "3/3 [==============================] - 0s 46ms/step - loss: 0.0318 - f1_m: 0.8810 - precision_m: 0.8810 - recall_m: 0.8810 - auc: 0.9982 - val_loss: 0.3790 - val_f1_m: 0.2000 - val_precision_m: 0.2143 - val_recall_m: 0.1875 - val_auc: 0.7996\n",
      "Epoch 97/100\n",
      "3/3 [==============================] - 0s 44ms/step - loss: 0.0447 - f1_m: 0.9219 - precision_m: 0.9219 - recall_m: 0.9219 - auc: 0.9975 - val_loss: 0.3311 - val_f1_m: 0.2167 - val_precision_m: 0.2321 - val_recall_m: 0.2031 - val_auc: 0.8163\n",
      "Epoch 98/100\n",
      "3/3 [==============================] - 0s 43ms/step - loss: 0.0454 - f1_m: 0.8909 - precision_m: 0.8949 - recall_m: 0.8870 - auc: 0.9961 - val_loss: 0.3006 - val_f1_m: 0.2143 - val_precision_m: 0.2500 - val_recall_m: 0.1875 - val_auc: 0.8129\n",
      "Epoch 99/100\n",
      "3/3 [==============================] - 0s 42ms/step - loss: 0.0422 - f1_m: 0.8975 - precision_m: 0.9062 - recall_m: 0.8896 - auc: 0.9968 - val_loss: 0.2986 - val_f1_m: 0.7069 - val_precision_m: 0.7308 - val_recall_m: 0.6875 - val_auc: 0.8005\n",
      "Epoch 100/100\n",
      "3/3 [==============================] - 0s 41ms/step - loss: 0.0406 - f1_m: 0.8614 - precision_m: 0.8790 - recall_m: 0.8453 - auc: 0.9968 - val_loss: 0.3089 - val_f1_m: 0.7069 - val_precision_m: 0.7308 - val_recall_m: 0.6875 - val_auc: 0.7959\n"
     ]
    },
    {
     "data": {
      "text/plain": [
       "<tensorflow.python.keras.callbacks.History at 0x7fb9bc083100>"
      ]
     },
     "execution_count": 21,
     "metadata": {},
     "output_type": "execute_result"
    }
   ],
   "source": [
    "Malware_model.fit(X_train, y_train, validation_data=(X_test, y_test), epochs=100,  class_weight=class_weights)"
   ]
  },
  {
   "cell_type": "code",
   "execution_count": 22,
   "id": "4471392c",
   "metadata": {},
   "outputs": [
    {
     "name": "stdout",
     "output_type": "stream",
     "text": [
      "2/2 [==============================] - 0s 3ms/step - loss: 0.3089 - f1_m: 0.7069 - precision_m: 0.7308 - recall_m: 0.6875 - auc: 0.7959\n"
     ]
    }
   ],
   "source": [
    "scores = Malware_model.evaluate(X_test, y_test)"
   ]
  },
  {
   "cell_type": "code",
   "execution_count": 23,
   "id": "af5d617f",
   "metadata": {},
   "outputs": [
    {
     "name": "stdout",
     "output_type": "stream",
     "text": [
      "2/2 [==============================] - 0s 3ms/step - loss: 0.3089 - f1_m: 0.7069 - precision_m: 0.7308 - recall_m: 0.6875 - auc: 0.7959\n"
     ]
    }
   ],
   "source": [
    "loss, accuracy, f1_score, precision, recall = Malware_model.evaluate(X_test, y_test)"
   ]
  },
  {
   "cell_type": "code",
   "execution_count": 24,
   "id": "dbcee16a",
   "metadata": {},
   "outputs": [
    {
     "name": "stdout",
     "output_type": "stream",
     "text": [
      "Final CNN accuracy:  0.7068964242935181\n"
     ]
    }
   ],
   "source": [
    "print('Final CNN accuracy: ', scores[1])"
   ]
  }
 ],
 "metadata": {
  "kernelspec": {
   "display_name": "Python 3 (ipykernel)",
   "language": "python",
   "name": "python3"
  },
  "language_info": {
   "codemirror_mode": {
    "name": "ipython",
    "version": 3
   },
   "file_extension": ".py",
   "mimetype": "text/x-python",
   "name": "python",
   "nbconvert_exporter": "python",
   "pygments_lexer": "ipython3",
   "version": "3.9.16"
  }
 },
 "nbformat": 4,
 "nbformat_minor": 5
}
