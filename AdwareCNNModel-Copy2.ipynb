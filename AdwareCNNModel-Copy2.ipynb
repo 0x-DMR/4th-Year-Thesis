{
 "cells": [
  {
   "cell_type": "code",
   "execution_count": 1,
   "id": "e08d24dc",
   "metadata": {},
   "outputs": [],
   "source": [
    "import os\n",
    "os.environ['TF_XLA_FLAGS'] = '--tf_xla_enable_xla_devices'\n",
    "path_root = '/home/dmr/DatasetForExperiments/adware'"
   ]
  },
  {
   "cell_type": "code",
   "execution_count": 2,
   "id": "6a45dad7",
   "metadata": {},
   "outputs": [
    {
     "name": "stderr",
     "output_type": "stream",
     "text": [
      "2023-05-03 15:28:02.442918: I tensorflow/stream_executor/platform/default/dso_loader.cc:49] Successfully opened dynamic library libcudart.so.10.1\n"
     ]
    },
    {
     "name": "stdout",
     "output_type": "stream",
     "text": [
      "Found 107 images belonging to 10 classes.\n"
     ]
    }
   ],
   "source": [
    "from keras.preprocessing.image import ImageDataGenerator\n",
    "batches = ImageDataGenerator().flow_from_directory(directory=path_root, target_size=(64,64), batch_size=10000)"
   ]
  },
  {
   "cell_type": "code",
   "execution_count": 3,
   "id": "728b8be6",
   "metadata": {},
   "outputs": [
    {
     "data": {
      "text/plain": [
       "(107, 10)"
      ]
     },
     "execution_count": 3,
     "metadata": {},
     "output_type": "execute_result"
    }
   ],
   "source": [
    "# Print information about Images \n",
    "imgs, labels = next(batches)\n",
    "imgs.shape # Images with width x length x depth\n",
    "labels.shape # Lablels with batch_size, number of classes"
   ]
  },
  {
   "cell_type": "code",
   "execution_count": 4,
   "id": "57424da2",
   "metadata": {},
   "outputs": [],
   "source": [
    "import numpy as np\n",
    "import scipy as sp\n",
    "from PIL import Image\n",
    "\n",
    "# Train and Test \n",
    "from sklearn.model_selection import train_test_split\n",
    "X_train, X_test, y_train, y_test = train_test_split(imgs/255.,labels, test_size=0.3)"
   ]
  },
  {
   "cell_type": "code",
   "execution_count": 5,
   "id": "3590200f",
   "metadata": {},
   "outputs": [
    {
     "data": {
      "text/plain": [
       "(74, 64, 64, 3)"
      ]
     },
     "execution_count": 5,
     "metadata": {},
     "output_type": "execute_result"
    }
   ],
   "source": [
    "X_train.shape"
   ]
  },
  {
   "cell_type": "code",
   "execution_count": 6,
   "id": "3db9230c",
   "metadata": {},
   "outputs": [
    {
     "data": {
      "text/plain": [
       "(33, 64, 64, 3)"
      ]
     },
     "execution_count": 6,
     "metadata": {},
     "output_type": "execute_result"
    }
   ],
   "source": [
    "X_test.shape"
   ]
  },
  {
   "cell_type": "code",
   "execution_count": 7,
   "id": "2b6ca85a",
   "metadata": {},
   "outputs": [
    {
     "data": {
      "text/plain": [
       "(74, 10)"
      ]
     },
     "execution_count": 7,
     "metadata": {},
     "output_type": "execute_result"
    }
   ],
   "source": [
    "y_train.shape"
   ]
  },
  {
   "cell_type": "code",
   "execution_count": 8,
   "id": "f5f1dec9",
   "metadata": {},
   "outputs": [
    {
     "data": {
      "text/plain": [
       "(33, 10)"
      ]
     },
     "execution_count": 8,
     "metadata": {},
     "output_type": "execute_result"
    }
   ],
   "source": [
    "y_test.shape"
   ]
  },
  {
   "cell_type": "code",
   "execution_count": 9,
   "id": "fde8f125",
   "metadata": {},
   "outputs": [],
   "source": [
    "# CNN Model"
   ]
  },
  {
   "cell_type": "code",
   "execution_count": 10,
   "id": "0f3529a9",
   "metadata": {},
   "outputs": [],
   "source": [
    "import keras\n",
    "import tensorflow\n",
    "from keras.models import Sequential, Input, Model\n",
    "from keras.layers import Dense, Dropout, Flatten\n",
    "from keras.layers import Conv2D, MaxPooling2D\n",
    "from tensorflow.keras.layers import BatchNormalization\n",
    "from tensorflow.keras.metrics import AUC"
   ]
  },
  {
   "cell_type": "code",
   "execution_count": 11,
   "id": "0401eabd",
   "metadata": {},
   "outputs": [],
   "source": [
    "num_classes = 10"
   ]
  },
  {
   "cell_type": "code",
   "execution_count": 12,
   "id": "b3593ed6",
   "metadata": {},
   "outputs": [],
   "source": [
    "def malware_model():\n",
    "    Malware_model = Sequential()\n",
    "    # Convolutional Layer : 30 filters, (3 * 3) kernel size\n",
    "    Malware_model.add(Conv2D(31, kernel_size=(3, 3),\n",
    "                     activation='relu',\n",
    "                     input_shape=(64,64,3)))\n",
    "\n",
    "    # Max Pooling Layer : (2 * 2) pool size\n",
    "    Malware_model.add(MaxPooling2D(pool_size=(2, 2)))\n",
    "    \n",
    "    #Convolutional Layer : 15 filters, (3 * 3) kernel size\n",
    "    Malware_model.add(Conv2D(16, (3, 3), activation='relu'))\n",
    "    \n",
    "    # Max Pooling Layer : (2 * 2) pool size\n",
    "    Malware_model.add(MaxPooling2D(pool_size=(2, 2)))\n",
    "    \n",
    "    # DropOut Layer : Dropping 25% of neurons.\n",
    "    Malware_model.add(Dropout(0.25))\n",
    "    \n",
    "    # Flatten Layer\n",
    "    Malware_model.add(Flatten())\n",
    "    \n",
    "    # Dense/Fully Connected Layer : 128 Neurons, Relu activation function\n",
    "    Malware_model.add(Dense(128, activation='relu'))\n",
    "    \n",
    "   # Malware_model.add(Dense(64, activation='relu'))\n",
    "    \n",
    "    # DropOut Layer : Dropping 50% of neurons.\n",
    "    Malware_model.add(Dropout(0.5))\n",
    "    \n",
    "    # Dense/Fully Connected Layer : 50 Neurons, Softmax activation function\n",
    "    Malware_model.add(Dense(50, activation='relu'))\n",
    "    \n",
    "    # Dense/Fully Connected Layer : num_class Neurons, Softmax activation function\n",
    "    Malware_model.add(Dense(num_classes, activation='softmax'))\n",
    "    \n",
    "    \n",
    "    Malware_model.compile(loss='categorical_crossentropy', optimizer = 'adam', metrics=['accuracy'])\n",
    "    return Malware_model\n",
    "\n",
    "\n",
    "    # sparse_categorical_cross_entropy\n",
    "    # categorical_crossentropy\n",
    "    "
   ]
  },
  {
   "cell_type": "code",
   "execution_count": 13,
   "id": "9a4ebf7d",
   "metadata": {},
   "outputs": [],
   "source": [
    "from keras import backend as K\n",
    "\n",
    "def recall_m(y_test, y_pred):\n",
    "    true_positives = K.sum(K.round(K.clip(y_test * y_pred, 0, 1)))\n",
    "    possible_positives = K.sum(K.round(K.clip(y_test, 0, 1)))\n",
    "    recall = true_positives / (possible_positives + K.epsilon())\n",
    "    return recall\n",
    "\n",
    "def precision_m(y_test, y_pred):\n",
    "    true_positives = K.sum(K.round(K.clip(y_test * y_pred, 0, 1)))\n",
    "    predicted_positives = K.sum(K.round(K.clip(y_pred, 0, 1)))\n",
    "    precision = true_positives / (predicted_positives + K.epsilon())\n",
    "    return precision\n",
    "\n",
    "def f1_m(y_test, y_pred):\n",
    "    precision = precision_m(y_test, y_pred)\n",
    "    recall = recall_m(y_test, y_pred)\n",
    "    return 2*((precision*recall)/(precision+recall+K.epsilon()))"
   ]
  },
  {
   "cell_type": "code",
   "execution_count": 14,
   "id": "c1e2abbc",
   "metadata": {},
   "outputs": [
    {
     "name": "stderr",
     "output_type": "stream",
     "text": [
      "2023-05-03 15:28:05.492624: I tensorflow/stream_executor/platform/default/dso_loader.cc:49] Successfully opened dynamic library libcuda.so.1\n",
      "2023-05-03 15:28:05.801045: E tensorflow/stream_executor/cuda/cuda_driver.cc:328] failed call to cuInit: CUDA_ERROR_NO_DEVICE: no CUDA-capable device is detected\n",
      "2023-05-03 15:28:05.801063: I tensorflow/stream_executor/cuda/cuda_diagnostics.cc:156] kernel driver does not appear to be running on this host (pop-os): /proc/driver/nvidia/version does not exist\n",
      "2023-05-03 15:28:05.801446: I tensorflow/core/platform/cpu_feature_guard.cc:142] This TensorFlow binary is optimized with oneAPI Deep Neural Network Library (oneDNN) to use the following CPU instructions in performance-critical operations:  SSE4.1 SSE4.2 AVX AVX2 FMA\n",
      "To enable them in other operations, rebuild TensorFlow with the appropriate compiler flags.\n",
      "2023-05-03 15:28:05.805497: I tensorflow/core/platform/profile_utils/cpu_utils.cc:112] CPU Frequency: 1999965000 Hz\n",
      "2023-05-03 15:28:05.806254: I tensorflow/compiler/xla/service/service.cc:168] XLA service 0x28a8fc0 initialized for platform Host (this does not guarantee that XLA will be used). Devices:\n",
      "2023-05-03 15:28:05.806284: I tensorflow/compiler/xla/service/service.cc:176]   StreamExecutor device (0): Host, Default Version\n"
     ]
    }
   ],
   "source": [
    "Malware_model = malware_model()"
   ]
  },
  {
   "cell_type": "code",
   "execution_count": 15,
   "id": "bcb1d474",
   "metadata": {},
   "outputs": [
    {
     "name": "stdout",
     "output_type": "stream",
     "text": [
      "Model: \"sequential\"\n",
      "_________________________________________________________________\n",
      "Layer (type)                 Output Shape              Param #   \n",
      "=================================================================\n",
      "conv2d (Conv2D)              (None, 62, 62, 31)        868       \n",
      "_________________________________________________________________\n",
      "max_pooling2d (MaxPooling2D) (None, 31, 31, 31)        0         \n",
      "_________________________________________________________________\n",
      "conv2d_1 (Conv2D)            (None, 29, 29, 16)        4480      \n",
      "_________________________________________________________________\n",
      "max_pooling2d_1 (MaxPooling2 (None, 14, 14, 16)        0         \n",
      "_________________________________________________________________\n",
      "dropout (Dropout)            (None, 14, 14, 16)        0         \n",
      "_________________________________________________________________\n",
      "flatten (Flatten)            (None, 3136)              0         \n",
      "_________________________________________________________________\n",
      "dense (Dense)                (None, 128)               401536    \n",
      "_________________________________________________________________\n",
      "dropout_1 (Dropout)          (None, 128)               0         \n",
      "_________________________________________________________________\n",
      "dense_1 (Dense)              (None, 50)                6450      \n",
      "_________________________________________________________________\n",
      "dense_2 (Dense)              (None, 10)                510       \n",
      "=================================================================\n",
      "Total params: 413,844\n",
      "Trainable params: 413,844\n",
      "Non-trainable params: 0\n",
      "_________________________________________________________________\n"
     ]
    }
   ],
   "source": [
    "Malware_model.summary()"
   ]
  },
  {
   "cell_type": "code",
   "execution_count": 16,
   "id": "9e8d69b6",
   "metadata": {},
   "outputs": [
    {
     "data": {
      "text/plain": [
       "(74, 10)"
      ]
     },
     "execution_count": 16,
     "metadata": {},
     "output_type": "execute_result"
    }
   ],
   "source": [
    "y_train.shape"
   ]
  },
  {
   "cell_type": "code",
   "execution_count": 17,
   "id": "6711d2f9",
   "metadata": {},
   "outputs": [],
   "source": [
    "y_train_new = np.argmax(y_train, axis=1)"
   ]
  },
  {
   "cell_type": "code",
   "execution_count": 18,
   "id": "838a6a56",
   "metadata": {},
   "outputs": [
    {
     "data": {
      "text/plain": [
       "array([7, 0, 1, 0, 6, 9, 2, 6, 4, 4, 5, 7, 7, 5, 8, 4, 1, 6, 3, 8, 9, 2,\n",
       "       9, 0, 0, 0, 0, 9, 0, 7, 1, 9, 2, 2, 3, 6, 5, 9, 0, 3, 5, 9, 7, 9,\n",
       "       2, 2, 7, 3, 4, 1, 0, 5, 8, 7, 5, 3, 6, 8, 6, 4, 4, 3, 7, 3, 1, 2,\n",
       "       5, 1, 1, 2, 3, 5, 3, 5])"
      ]
     },
     "execution_count": 18,
     "metadata": {},
     "output_type": "execute_result"
    }
   ],
   "source": [
    "y_train_new"
   ]
  },
  {
   "cell_type": "code",
   "execution_count": 19,
   "id": "e5fccc6d",
   "metadata": {},
   "outputs": [],
   "source": [
    "from sklearn.utils import class_weight\n",
    "class_weights = class_weight.compute_class_weight(class_weight = 'balanced',\n",
    "                                                 classes = np.unique(y_train_new),\n",
    "                                                 y = y_train_new)\n",
    "\n",
    "class_weights = {l:c for l,c in zip(np.unique(y_train_new), class_weights)}"
   ]
  },
  {
   "cell_type": "code",
   "execution_count": 20,
   "id": "a62f070a",
   "metadata": {},
   "outputs": [],
   "source": [
    "Malware_model.compile(optimizer='adam', loss='binary_crossentropy', metrics=[f1_m,precision_m, recall_m,AUC()])"
   ]
  },
  {
   "cell_type": "code",
   "execution_count": 21,
   "id": "f8c8523a",
   "metadata": {
    "scrolled": true
   },
   "outputs": [
    {
     "name": "stderr",
     "output_type": "stream",
     "text": [
      "2023-05-03 15:28:05.960940: I tensorflow/compiler/mlir/mlir_graph_optimization_pass.cc:116] None of the MLIR optimization passes are enabled (registered 2)\n"
     ]
    },
    {
     "name": "stdout",
     "output_type": "stream",
     "text": [
      "Epoch 1/150\n",
      "3/3 [==============================] - 1s 236ms/step - loss: 0.6242 - f1_m: 0.0000e+00 - precision_m: 0.0000e+00 - recall_m: 0.0000e+00 - auc: 0.4675 - val_loss: 0.3692 - val_f1_m: 0.0000e+00 - val_precision_m: 0.0000e+00 - val_recall_m: 0.0000e+00 - val_auc: 0.6471\n",
      "Epoch 2/150\n",
      "3/3 [==============================] - 0s 45ms/step - loss: 0.4123 - f1_m: 0.0158 - precision_m: 0.0583 - recall_m: 0.0091 - auc: 0.5498 - val_loss: 0.3340 - val_f1_m: 0.0000e+00 - val_precision_m: 0.0000e+00 - val_recall_m: 0.0000e+00 - val_auc: 0.5770\n",
      "Epoch 3/150\n",
      "3/3 [==============================] - 0s 44ms/step - loss: 0.3971 - f1_m: 0.0154 - precision_m: 0.0486 - recall_m: 0.0091 - auc: 0.5021 - val_loss: 0.3437 - val_f1_m: 0.0000e+00 - val_precision_m: 0.0000e+00 - val_recall_m: 0.0000e+00 - val_auc: 0.5304\n",
      "Epoch 4/150\n",
      "3/3 [==============================] - 0s 40ms/step - loss: 0.3733 - f1_m: 0.0516 - precision_m: 0.1083 - recall_m: 0.0339 - auc: 0.5275 - val_loss: 0.3364 - val_f1_m: 0.0000e+00 - val_precision_m: 0.0000e+00 - val_recall_m: 0.0000e+00 - val_auc: 0.5568\n",
      "Epoch 5/150\n",
      "3/3 [==============================] - 0s 45ms/step - loss: 0.3615 - f1_m: 0.0319 - precision_m: 0.2708 - recall_m: 0.0169 - auc: 0.5411 - val_loss: 0.3456 - val_f1_m: 0.0000e+00 - val_precision_m: 0.0000e+00 - val_recall_m: 0.0000e+00 - val_auc: 0.6473\n",
      "Epoch 6/150\n",
      "3/3 [==============================] - 0s 40ms/step - loss: 0.3470 - f1_m: 0.0000e+00 - precision_m: 0.0000e+00 - recall_m: 0.0000e+00 - auc: 0.5898 - val_loss: 0.3315 - val_f1_m: 0.0000e+00 - val_precision_m: 0.0000e+00 - val_recall_m: 0.0000e+00 - val_auc: 0.6479\n",
      "Epoch 7/150\n",
      "3/3 [==============================] - 0s 39ms/step - loss: 0.3572 - f1_m: 0.0000e+00 - precision_m: 0.0000e+00 - recall_m: 0.0000e+00 - auc: 0.5378 - val_loss: 0.3224 - val_f1_m: 0.0000e+00 - val_precision_m: 0.0000e+00 - val_recall_m: 0.0000e+00 - val_auc: 0.6383\n",
      "Epoch 8/150\n",
      "3/3 [==============================] - 0s 38ms/step - loss: 0.3508 - f1_m: 0.0000e+00 - precision_m: 0.0000e+00 - recall_m: 0.0000e+00 - auc: 0.5343 - val_loss: 0.3243 - val_f1_m: 0.0000e+00 - val_precision_m: 0.0000e+00 - val_recall_m: 0.0000e+00 - val_auc: 0.6179\n",
      "Epoch 9/150\n",
      "3/3 [==============================] - 0s 40ms/step - loss: 0.3469 - f1_m: 0.0000e+00 - precision_m: 0.0000e+00 - recall_m: 0.0000e+00 - auc: 0.5834 - val_loss: 0.3266 - val_f1_m: 0.0000e+00 - val_precision_m: 0.0000e+00 - val_recall_m: 0.0000e+00 - val_auc: 0.5915\n",
      "Epoch 10/150\n",
      "3/3 [==============================] - 0s 40ms/step - loss: 0.3469 - f1_m: 0.0000e+00 - precision_m: 0.0000e+00 - recall_m: 0.0000e+00 - auc: 0.5601 - val_loss: 0.3329 - val_f1_m: 0.0000e+00 - val_precision_m: 0.0000e+00 - val_recall_m: 0.0000e+00 - val_auc: 0.6192\n",
      "Epoch 11/150\n",
      "3/3 [==============================] - 0s 40ms/step - loss: 0.3452 - f1_m: 0.0000e+00 - precision_m: 0.0000e+00 - recall_m: 0.0000e+00 - auc: 0.5504 - val_loss: 0.3270 - val_f1_m: 0.0000e+00 - val_precision_m: 0.0000e+00 - val_recall_m: 0.0000e+00 - val_auc: 0.6856\n",
      "Epoch 12/150\n",
      "3/3 [==============================] - 0s 38ms/step - loss: 0.3341 - f1_m: 0.0000e+00 - precision_m: 0.0000e+00 - recall_m: 0.0000e+00 - auc: 0.6200 - val_loss: 0.3131 - val_f1_m: 0.0000e+00 - val_precision_m: 0.0000e+00 - val_recall_m: 0.0000e+00 - val_auc: 0.6940\n",
      "Epoch 13/150\n",
      "3/3 [==============================] - 0s 43ms/step - loss: 0.3468 - f1_m: 0.0000e+00 - precision_m: 0.0000e+00 - recall_m: 0.0000e+00 - auc: 0.5383 - val_loss: 0.3082 - val_f1_m: 0.0000e+00 - val_precision_m: 0.0000e+00 - val_recall_m: 0.0000e+00 - val_auc: 0.7275\n",
      "Epoch 14/150\n",
      "3/3 [==============================] - 0s 45ms/step - loss: 0.3230 - f1_m: 0.0000e+00 - precision_m: 0.0000e+00 - recall_m: 0.0000e+00 - auc: 0.6835 - val_loss: 0.3085 - val_f1_m: 0.0000e+00 - val_precision_m: 0.0000e+00 - val_recall_m: 0.0000e+00 - val_auc: 0.7309\n",
      "Epoch 15/150\n",
      "3/3 [==============================] - 0s 46ms/step - loss: 0.2955 - f1_m: 0.0328 - precision_m: 0.5417 - recall_m: 0.0169 - auc: 0.7453 - val_loss: 0.3076 - val_f1_m: 0.0000e+00 - val_precision_m: 0.0000e+00 - val_recall_m: 0.0000e+00 - val_auc: 0.7277\n",
      "Epoch 16/150\n",
      "3/3 [==============================] - 0s 44ms/step - loss: 0.3130 - f1_m: 0.0000e+00 - precision_m: 0.0000e+00 - recall_m: 0.0000e+00 - auc: 0.7022 - val_loss: 0.3111 - val_f1_m: 0.0000e+00 - val_precision_m: 0.0000e+00 - val_recall_m: 0.0000e+00 - val_auc: 0.7849\n",
      "Epoch 17/150\n",
      "3/3 [==============================] - 0s 44ms/step - loss: 0.3148 - f1_m: 0.0000e+00 - precision_m: 0.0000e+00 - recall_m: 0.0000e+00 - auc: 0.7268 - val_loss: 0.3078 - val_f1_m: 0.0000e+00 - val_precision_m: 0.0000e+00 - val_recall_m: 0.0000e+00 - val_auc: 0.7659\n",
      "Epoch 18/150\n",
      "3/3 [==============================] - 0s 40ms/step - loss: 0.3119 - f1_m: 0.0303 - precision_m: 0.1667 - recall_m: 0.0167 - auc: 0.6789 - val_loss: 0.3013 - val_f1_m: 0.0000e+00 - val_precision_m: 0.0000e+00 - val_recall_m: 0.0000e+00 - val_auc: 0.7333\n",
      "Epoch 19/150\n",
      "3/3 [==============================] - 0s 38ms/step - loss: 0.2993 - f1_m: 0.0495 - precision_m: 0.5625 - recall_m: 0.0260 - auc: 0.7297 - val_loss: 0.2943 - val_f1_m: 0.0857 - val_precision_m: 0.5000 - val_recall_m: 0.0469 - val_auc: 0.7540\n",
      "Epoch 20/150\n",
      "3/3 [==============================] - 0s 39ms/step - loss: 0.3072 - f1_m: 0.0486 - precision_m: 0.2188 - recall_m: 0.0273 - auc: 0.7365 - val_loss: 0.2957 - val_f1_m: 0.0303 - val_precision_m: 0.5000 - val_recall_m: 0.0156 - val_auc: 0.7857\n",
      "Epoch 21/150\n",
      "3/3 [==============================] - 0s 38ms/step - loss: 0.2790 - f1_m: 0.0303 - precision_m: 0.1667 - recall_m: 0.0167 - auc: 0.8151 - val_loss: 0.2874 - val_f1_m: 0.0857 - val_precision_m: 0.5000 - val_recall_m: 0.0469 - val_auc: 0.8026\n",
      "Epoch 22/150\n",
      "3/3 [==============================] - 0s 39ms/step - loss: 0.2790 - f1_m: 0.1129 - precision_m: 0.4583 - recall_m: 0.0758 - auc: 0.7733 - val_loss: 0.2803 - val_f1_m: 0.0857 - val_precision_m: 0.5000 - val_recall_m: 0.0469 - val_auc: 0.8153\n",
      "Epoch 23/150\n",
      "3/3 [==============================] - 0s 40ms/step - loss: 0.2690 - f1_m: 0.1327 - precision_m: 0.9444 - recall_m: 0.0763 - auc: 0.7973 - val_loss: 0.2744 - val_f1_m: 0.0857 - val_precision_m: 0.5000 - val_recall_m: 0.0469 - val_auc: 0.8260\n",
      "Epoch 24/150\n",
      "3/3 [==============================] - 0s 44ms/step - loss: 0.2510 - f1_m: 0.1250 - precision_m: 0.5625 - recall_m: 0.0703 - auc: 0.8686 - val_loss: 0.2715 - val_f1_m: 0.0857 - val_precision_m: 0.5000 - val_recall_m: 0.0469 - val_auc: 0.8343\n",
      "Epoch 25/150\n",
      "3/3 [==============================] - 0s 45ms/step - loss: 0.2651 - f1_m: 0.2416 - precision_m: 0.7083 - recall_m: 0.1513 - auc: 0.8139 - val_loss: 0.2657 - val_f1_m: 0.0857 - val_precision_m: 0.5000 - val_recall_m: 0.0469 - val_auc: 0.8285\n",
      "Epoch 26/150\n",
      "3/3 [==============================] - 0s 46ms/step - loss: 0.2497 - f1_m: 0.2802 - precision_m: 1.0000 - recall_m: 0.1638 - auc: 0.8314 - val_loss: 0.2644 - val_f1_m: 0.0857 - val_precision_m: 0.5000 - val_recall_m: 0.0469 - val_auc: 0.8225\n",
      "Epoch 27/150\n",
      "3/3 [==============================] - 0s 47ms/step - loss: 0.2662 - f1_m: 0.2617 - precision_m: 0.8194 - recall_m: 0.1557 - auc: 0.8058 - val_loss: 0.2624 - val_f1_m: 0.1111 - val_precision_m: 0.5000 - val_recall_m: 0.0625 - val_auc: 0.8313\n",
      "Epoch 28/150\n",
      "3/3 [==============================] - 0s 43ms/step - loss: 0.2282 - f1_m: 0.4098 - precision_m: 0.9514 - recall_m: 0.2646 - auc: 0.8825 - val_loss: 0.2584 - val_f1_m: 0.1351 - val_precision_m: 0.5000 - val_recall_m: 0.0781 - val_auc: 0.8311\n",
      "Epoch 29/150\n",
      "3/3 [==============================] - 0s 40ms/step - loss: 0.2428 - f1_m: 0.3361 - precision_m: 0.8764 - recall_m: 0.2151 - auc: 0.8636 - val_loss: 0.2599 - val_f1_m: 0.1351 - val_precision_m: 0.5000 - val_recall_m: 0.0781 - val_auc: 0.8211\n",
      "Epoch 30/150\n",
      "3/3 [==============================] - 0s 39ms/step - loss: 0.2269 - f1_m: 0.3952 - precision_m: 0.8356 - recall_m: 0.2599 - auc: 0.8874 - val_loss: 0.2630 - val_f1_m: 0.1351 - val_precision_m: 0.5000 - val_recall_m: 0.0781 - val_auc: 0.8030\n",
      "Epoch 31/150\n",
      "3/3 [==============================] - 0s 41ms/step - loss: 0.2282 - f1_m: 0.3591 - precision_m: 0.9417 - recall_m: 0.2245 - auc: 0.9001 - val_loss: 0.2590 - val_f1_m: 0.1579 - val_precision_m: 0.5000 - val_recall_m: 0.0938 - val_auc: 0.8143\n"
     ]
    },
    {
     "name": "stdout",
     "output_type": "stream",
     "text": [
      "Epoch 32/150\n",
      "3/3 [==============================] - 0s 39ms/step - loss: 0.2121 - f1_m: 0.4011 - precision_m: 0.7538 - recall_m: 0.2758 - auc: 0.9180 - val_loss: 0.2524 - val_f1_m: 0.1579 - val_precision_m: 0.5000 - val_recall_m: 0.0938 - val_auc: 0.8340\n",
      "Epoch 33/150\n",
      "3/3 [==============================] - 0s 43ms/step - loss: 0.2375 - f1_m: 0.3127 - precision_m: 0.7301 - recall_m: 0.2000 - auc: 0.8610 - val_loss: 0.2529 - val_f1_m: 0.1538 - val_precision_m: 0.4286 - val_recall_m: 0.0938 - val_auc: 0.8295\n",
      "Epoch 34/150\n",
      "3/3 [==============================] - 0s 39ms/step - loss: 0.2119 - f1_m: 0.3227 - precision_m: 0.9153 - recall_m: 0.2000 - auc: 0.9162 - val_loss: 0.2533 - val_f1_m: 0.1538 - val_precision_m: 0.4286 - val_recall_m: 0.0938 - val_auc: 0.8156\n",
      "Epoch 35/150\n",
      "3/3 [==============================] - 0s 39ms/step - loss: 0.2001 - f1_m: 0.4630 - precision_m: 0.9193 - recall_m: 0.3102 - auc: 0.9220 - val_loss: 0.2573 - val_f1_m: 0.1538 - val_precision_m: 0.4286 - val_recall_m: 0.0938 - val_auc: 0.8086\n",
      "Epoch 36/150\n",
      "3/3 [==============================] - 0s 38ms/step - loss: 0.1853 - f1_m: 0.5348 - precision_m: 0.8322 - recall_m: 0.3951 - auc: 0.9438 - val_loss: 0.2539 - val_f1_m: 0.1500 - val_precision_m: 0.3750 - val_recall_m: 0.0938 - val_auc: 0.8205\n",
      "Epoch 37/150\n",
      "3/3 [==============================] - 0s 39ms/step - loss: 0.1970 - f1_m: 0.5305 - precision_m: 0.7962 - recall_m: 0.4026 - auc: 0.9353 - val_loss: 0.2475 - val_f1_m: 0.1463 - val_precision_m: 0.3333 - val_recall_m: 0.0938 - val_auc: 0.8400\n",
      "Epoch 38/150\n",
      "3/3 [==============================] - 0s 39ms/step - loss: 0.1850 - f1_m: 0.5764 - precision_m: 0.8745 - recall_m: 0.4299 - auc: 0.9422 - val_loss: 0.2378 - val_f1_m: 0.2000 - val_precision_m: 0.3462 - val_recall_m: 0.1406 - val_auc: 0.8578\n",
      "Epoch 39/150\n",
      "3/3 [==============================] - 0s 39ms/step - loss: 0.1666 - f1_m: 0.6649 - precision_m: 0.9268 - recall_m: 0.5232 - auc: 0.9507 - val_loss: 0.2324 - val_f1_m: 0.1875 - val_precision_m: 0.2812 - val_recall_m: 0.1406 - val_auc: 0.8739\n",
      "Epoch 40/150\n",
      "3/3 [==============================] - 0s 44ms/step - loss: 0.1541 - f1_m: 0.6488 - precision_m: 0.8507 - recall_m: 0.5326 - auc: 0.9702 - val_loss: 0.2302 - val_f1_m: 0.1837 - val_precision_m: 0.2647 - val_recall_m: 0.1406 - val_auc: 0.8786\n",
      "Epoch 41/150\n",
      "3/3 [==============================] - 0s 46ms/step - loss: 0.1623 - f1_m: 0.6426 - precision_m: 0.9168 - recall_m: 0.4982 - auc: 0.9558 - val_loss: 0.2297 - val_f1_m: 0.1875 - val_precision_m: 0.2812 - val_recall_m: 0.1406 - val_auc: 0.8695\n",
      "Epoch 42/150\n",
      "3/3 [==============================] - 0s 45ms/step - loss: 0.1444 - f1_m: 0.6808 - precision_m: 0.9120 - recall_m: 0.5440 - auc: 0.9796 - val_loss: 0.2300 - val_f1_m: 0.6961 - val_precision_m: 0.7632 - val_recall_m: 0.6562 - val_auc: 0.8724\n",
      "Epoch 43/150\n",
      "3/3 [==============================] - 0s 45ms/step - loss: 0.1488 - f1_m: 0.6918 - precision_m: 0.8499 - recall_m: 0.5875 - auc: 0.9705 - val_loss: 0.2220 - val_f1_m: 0.6923 - val_precision_m: 0.7500 - val_recall_m: 0.6562 - val_auc: 0.8935\n",
      "Epoch 44/150\n",
      "3/3 [==============================] - 0s 49ms/step - loss: 0.1469 - f1_m: 0.6969 - precision_m: 0.8612 - recall_m: 0.5857 - auc: 0.9642 - val_loss: 0.2165 - val_f1_m: 0.6887 - val_precision_m: 0.7381 - val_recall_m: 0.6562 - val_auc: 0.8978\n",
      "Epoch 45/150\n",
      "3/3 [==============================] - 0s 46ms/step - loss: 0.1400 - f1_m: 0.7494 - precision_m: 0.9099 - recall_m: 0.6385 - auc: 0.9736 - val_loss: 0.2186 - val_f1_m: 0.6765 - val_precision_m: 0.7368 - val_recall_m: 0.6406 - val_auc: 0.8953\n",
      "Epoch 46/150\n",
      "3/3 [==============================] - 0s 49ms/step - loss: 0.1250 - f1_m: 0.7714 - precision_m: 0.8823 - recall_m: 0.6880 - auc: 0.9833 - val_loss: 0.2248 - val_f1_m: 0.1800 - val_precision_m: 0.2500 - val_recall_m: 0.1406 - val_auc: 0.8862\n",
      "Epoch 47/150\n",
      "3/3 [==============================] - 0s 47ms/step - loss: 0.1302 - f1_m: 0.7731 - precision_m: 0.9514 - recall_m: 0.6542 - auc: 0.9824 - val_loss: 0.2313 - val_f1_m: 0.1765 - val_precision_m: 0.2368 - val_recall_m: 0.1406 - val_auc: 0.8830\n",
      "Epoch 48/150\n",
      "3/3 [==============================] - 0s 46ms/step - loss: 0.1133 - f1_m: 0.8346 - precision_m: 0.9425 - recall_m: 0.7497 - auc: 0.9863 - val_loss: 0.2233 - val_f1_m: 0.7115 - val_precision_m: 0.7750 - val_recall_m: 0.6719 - val_auc: 0.8886\n",
      "Epoch 49/150\n",
      "3/3 [==============================] - 0s 49ms/step - loss: 0.1204 - f1_m: 0.7369 - precision_m: 0.8559 - recall_m: 0.6471 - auc: 0.9839 - val_loss: 0.2231 - val_f1_m: 0.7075 - val_precision_m: 0.7619 - val_recall_m: 0.6719 - val_auc: 0.8777\n",
      "Epoch 50/150\n",
      "3/3 [==============================] - 0s 46ms/step - loss: 0.1332 - f1_m: 0.7904 - precision_m: 0.9275 - recall_m: 0.6966 - auc: 0.9718 - val_loss: 0.2262 - val_f1_m: 0.6887 - val_precision_m: 0.7381 - val_recall_m: 0.6562 - val_auc: 0.8759\n",
      "Epoch 51/150\n",
      "3/3 [==============================] - 0s 44ms/step - loss: 0.1190 - f1_m: 0.7968 - precision_m: 0.9126 - recall_m: 0.7078 - auc: 0.9839 - val_loss: 0.2267 - val_f1_m: 0.7037 - val_precision_m: 0.7500 - val_recall_m: 0.6719 - val_auc: 0.8832\n",
      "Epoch 52/150\n",
      "3/3 [==============================] - 0s 44ms/step - loss: 0.1058 - f1_m: 0.7962 - precision_m: 0.8891 - recall_m: 0.7245 - auc: 0.9838 - val_loss: 0.2312 - val_f1_m: 0.2075 - val_precision_m: 0.2619 - val_recall_m: 0.1719 - val_auc: 0.8884\n",
      "Epoch 53/150\n",
      "3/3 [==============================] - 0s 54ms/step - loss: 0.1011 - f1_m: 0.8561 - precision_m: 0.9010 - recall_m: 0.8164 - auc: 0.9906 - val_loss: 0.2357 - val_f1_m: 0.1754 - val_precision_m: 0.2000 - val_recall_m: 0.1562 - val_auc: 0.8864\n",
      "Epoch 54/150\n",
      "3/3 [==============================] - 0s 55ms/step - loss: 0.0972 - f1_m: 0.7901 - precision_m: 0.8455 - recall_m: 0.7427 - auc: 0.9892 - val_loss: 0.2256 - val_f1_m: 0.1818 - val_precision_m: 0.2174 - val_recall_m: 0.1562 - val_auc: 0.8898\n",
      "Epoch 55/150\n",
      "3/3 [==============================] - 0s 53ms/step - loss: 0.0789 - f1_m: 0.9207 - precision_m: 0.9464 - recall_m: 0.8974 - auc: 0.9976 - val_loss: 0.2302 - val_f1_m: 0.7037 - val_precision_m: 0.7500 - val_recall_m: 0.6719 - val_auc: 0.8933\n",
      "Epoch 56/150\n",
      "3/3 [==============================] - 0s 39ms/step - loss: 0.0989 - f1_m: 0.7769 - precision_m: 0.8267 - recall_m: 0.7331 - auc: 0.9890 - val_loss: 0.2357 - val_f1_m: 0.7037 - val_precision_m: 0.7500 - val_recall_m: 0.6719 - val_auc: 0.8818\n",
      "Epoch 57/150\n",
      "3/3 [==============================] - 0s 39ms/step - loss: 0.0837 - f1_m: 0.8510 - precision_m: 0.8952 - recall_m: 0.8117 - auc: 0.9945 - val_loss: 0.2300 - val_f1_m: 0.7000 - val_precision_m: 0.7391 - val_recall_m: 0.6719 - val_auc: 0.8816\n",
      "Epoch 58/150\n",
      "3/3 [==============================] - 0s 38ms/step - loss: 0.0806 - f1_m: 0.8290 - precision_m: 0.8910 - recall_m: 0.7753 - auc: 0.9928 - val_loss: 0.2219 - val_f1_m: 0.7143 - val_precision_m: 0.7500 - val_recall_m: 0.6875 - val_auc: 0.8901\n",
      "Epoch 59/150\n",
      "3/3 [==============================] - 0s 39ms/step - loss: 0.0825 - f1_m: 0.8883 - precision_m: 0.9597 - recall_m: 0.8284 - auc: 0.9960 - val_loss: 0.2255 - val_f1_m: 0.7281 - val_precision_m: 0.7600 - val_recall_m: 0.7031 - val_auc: 0.8877\n",
      "Epoch 60/150\n",
      "3/3 [==============================] - 0s 40ms/step - loss: 0.0763 - f1_m: 0.8933 - precision_m: 0.9410 - recall_m: 0.8516 - auc: 0.9931 - val_loss: 0.2440 - val_f1_m: 0.7143 - val_precision_m: 0.7500 - val_recall_m: 0.6875 - val_auc: 0.8838\n",
      "Epoch 61/150\n",
      "3/3 [==============================] - 0s 39ms/step - loss: 0.0751 - f1_m: 0.8898 - precision_m: 0.9509 - recall_m: 0.8362 - auc: 0.9978 - val_loss: 0.2545 - val_f1_m: 0.7143 - val_precision_m: 0.7500 - val_recall_m: 0.6875 - val_auc: 0.8804\n",
      "Epoch 62/150\n",
      "3/3 [==============================] - 0s 43ms/step - loss: 0.0741 - f1_m: 0.9012 - precision_m: 0.9262 - recall_m: 0.8779 - auc: 0.9952 - val_loss: 0.2491 - val_f1_m: 0.7131 - val_precision_m: 0.7241 - val_recall_m: 0.7031 - val_auc: 0.8728\n",
      "Epoch 63/150\n",
      "3/3 [==============================] - 0s 40ms/step - loss: 0.0633 - f1_m: 0.8616 - precision_m: 0.8781 - recall_m: 0.8458 - auc: 0.9965 - val_loss: 0.2474 - val_f1_m: 0.6818 - val_precision_m: 0.7174 - val_recall_m: 0.6562 - val_auc: 0.8678\n",
      "Epoch 64/150\n"
     ]
    },
    {
     "name": "stdout",
     "output_type": "stream",
     "text": [
      "3/3 [==============================] - 0s 41ms/step - loss: 0.0801 - f1_m: 0.8444 - precision_m: 0.8849 - recall_m: 0.8076 - auc: 0.9920 - val_loss: 0.2422 - val_f1_m: 0.7222 - val_precision_m: 0.7727 - val_recall_m: 0.6875 - val_auc: 0.8705\n",
      "Epoch 65/150\n",
      "3/3 [==============================] - 0s 39ms/step - loss: 0.0773 - f1_m: 0.8473 - precision_m: 0.8888 - recall_m: 0.8117 - auc: 0.9951 - val_loss: 0.2445 - val_f1_m: 0.7105 - val_precision_m: 0.7400 - val_recall_m: 0.6875 - val_auc: 0.8677\n",
      "Epoch 66/150\n",
      "3/3 [==============================] - 0s 42ms/step - loss: 0.0729 - f1_m: 0.9124 - precision_m: 0.9605 - recall_m: 0.8698 - auc: 0.9945 - val_loss: 0.2539 - val_f1_m: 0.7105 - val_precision_m: 0.7400 - val_recall_m: 0.6875 - val_auc: 0.8613\n",
      "Epoch 67/150\n",
      "3/3 [==============================] - 0s 39ms/step - loss: 0.0743 - f1_m: 0.8974 - precision_m: 0.9346 - recall_m: 0.8635 - auc: 0.9930 - val_loss: 0.2492 - val_f1_m: 0.7258 - val_precision_m: 0.7333 - val_recall_m: 0.7187 - val_auc: 0.8747\n",
      "Epoch 68/150\n",
      "3/3 [==============================] - 0s 39ms/step - loss: 0.0538 - f1_m: 0.9319 - precision_m: 0.9479 - recall_m: 0.9180 - auc: 0.9967 - val_loss: 0.2517 - val_f1_m: 0.7069 - val_precision_m: 0.7308 - val_recall_m: 0.6875 - val_auc: 0.8736\n",
      "Epoch 69/150\n",
      "3/3 [==============================] - 0s 40ms/step - loss: 0.0533 - f1_m: 0.9089 - precision_m: 0.9250 - recall_m: 0.8935 - auc: 0.9973 - val_loss: 0.2654 - val_f1_m: 0.6818 - val_precision_m: 0.7174 - val_recall_m: 0.6562 - val_auc: 0.8667\n",
      "Epoch 70/150\n",
      "3/3 [==============================] - 0s 40ms/step - loss: 0.0541 - f1_m: 0.9388 - precision_m: 0.9549 - recall_m: 0.9237 - auc: 0.9985 - val_loss: 0.2846 - val_f1_m: 0.7143 - val_precision_m: 0.7500 - val_recall_m: 0.6875 - val_auc: 0.8512\n",
      "Epoch 71/150\n",
      "3/3 [==============================] - 0s 45ms/step - loss: 0.0638 - f1_m: 0.8811 - precision_m: 0.9008 - recall_m: 0.8625 - auc: 0.9960 - val_loss: 0.2835 - val_f1_m: 0.7281 - val_precision_m: 0.7600 - val_recall_m: 0.7031 - val_auc: 0.8471\n",
      "Epoch 72/150\n",
      "3/3 [==============================] - 0s 40ms/step - loss: 0.0525 - f1_m: 0.9243 - precision_m: 0.9550 - recall_m: 0.8961 - auc: 0.9981 - val_loss: 0.2678 - val_f1_m: 0.7333 - val_precision_m: 0.7500 - val_recall_m: 0.7187 - val_auc: 0.8678\n",
      "Epoch 73/150\n",
      "3/3 [==============================] - 0s 43ms/step - loss: 0.0591 - f1_m: 0.9044 - precision_m: 0.9266 - recall_m: 0.8859 - auc: 0.9944 - val_loss: 0.2596 - val_f1_m: 0.7333 - val_precision_m: 0.7500 - val_recall_m: 0.7187 - val_auc: 0.8671\n",
      "Epoch 74/150\n",
      "3/3 [==============================] - 0s 45ms/step - loss: 0.0547 - f1_m: 0.9430 - precision_m: 0.9473 - recall_m: 0.9388 - auc: 0.9971 - val_loss: 0.2610 - val_f1_m: 0.7333 - val_precision_m: 0.7500 - val_recall_m: 0.7187 - val_auc: 0.8528\n",
      "Epoch 75/150\n",
      "3/3 [==============================] - 0s 39ms/step - loss: 0.0693 - f1_m: 0.9022 - precision_m: 0.9185 - recall_m: 0.8872 - auc: 0.9941 - val_loss: 0.2760 - val_f1_m: 0.7333 - val_precision_m: 0.7500 - val_recall_m: 0.7187 - val_auc: 0.8321\n",
      "Epoch 76/150\n",
      "3/3 [==============================] - 0s 39ms/step - loss: 0.0506 - f1_m: 0.9168 - precision_m: 0.9210 - recall_m: 0.9128 - auc: 0.9983 - val_loss: 0.3041 - val_f1_m: 0.6786 - val_precision_m: 0.7083 - val_recall_m: 0.6562 - val_auc: 0.8159\n",
      "Epoch 77/150\n",
      "3/3 [==============================] - 0s 38ms/step - loss: 0.0659 - f1_m: 0.8549 - precision_m: 0.8830 - recall_m: 0.8289 - auc: 0.9936 - val_loss: 0.2951 - val_f1_m: 0.7105 - val_precision_m: 0.7400 - val_recall_m: 0.6875 - val_auc: 0.8244\n",
      "Epoch 78/150\n",
      "3/3 [==============================] - 0s 39ms/step - loss: 0.0571 - f1_m: 0.9255 - precision_m: 0.9458 - recall_m: 0.9062 - auc: 0.9958 - val_loss: 0.2870 - val_f1_m: 0.6967 - val_precision_m: 0.7069 - val_recall_m: 0.6875 - val_auc: 0.8259\n",
      "Epoch 79/150\n",
      "3/3 [==============================] - 0s 40ms/step - loss: 0.0572 - f1_m: 0.8940 - precision_m: 0.9205 - recall_m: 0.8701 - auc: 0.9959 - val_loss: 0.2944 - val_f1_m: 0.2222 - val_precision_m: 0.2258 - val_recall_m: 0.2188 - val_auc: 0.8316\n",
      "Epoch 80/150\n",
      "3/3 [==============================] - 0s 42ms/step - loss: 0.0469 - f1_m: 0.9385 - precision_m: 0.9463 - recall_m: 0.9315 - auc: 0.9988 - val_loss: 0.2927 - val_f1_m: 0.7097 - val_precision_m: 0.7167 - val_recall_m: 0.7031 - val_auc: 0.8261\n",
      "Epoch 81/150\n",
      "3/3 [==============================] - 0s 40ms/step - loss: 0.0598 - f1_m: 0.8609 - precision_m: 0.8759 - recall_m: 0.8469 - auc: 0.9949 - val_loss: 0.2907 - val_f1_m: 0.6754 - val_precision_m: 0.7000 - val_recall_m: 0.6562 - val_auc: 0.8100\n",
      "Epoch 82/150\n",
      "3/3 [==============================] - 0s 42ms/step - loss: 0.0648 - f1_m: 0.9086 - precision_m: 0.9307 - recall_m: 0.8885 - auc: 0.9982 - val_loss: 0.3032 - val_f1_m: 0.7000 - val_precision_m: 0.7391 - val_recall_m: 0.6719 - val_auc: 0.8019\n",
      "Epoch 83/150\n",
      "3/3 [==============================] - 0s 38ms/step - loss: 0.0569 - f1_m: 0.8895 - precision_m: 0.9179 - recall_m: 0.8635 - auc: 0.9968 - val_loss: 0.3209 - val_f1_m: 0.6897 - val_precision_m: 0.7115 - val_recall_m: 0.6719 - val_auc: 0.8052\n",
      "Epoch 84/150\n",
      "3/3 [==============================] - 0s 44ms/step - loss: 0.0483 - f1_m: 0.9377 - precision_m: 0.9546 - recall_m: 0.9219 - auc: 0.9986 - val_loss: 0.3294 - val_f1_m: 0.7105 - val_precision_m: 0.7400 - val_recall_m: 0.6875 - val_auc: 0.7952\n",
      "Epoch 85/150\n",
      "3/3 [==============================] - 0s 45ms/step - loss: 0.0517 - f1_m: 0.9252 - precision_m: 0.9465 - recall_m: 0.9052 - auc: 0.9986 - val_loss: 0.3299 - val_f1_m: 0.7281 - val_precision_m: 0.7600 - val_recall_m: 0.7031 - val_auc: 0.7914\n",
      "Epoch 86/150\n",
      "3/3 [==============================] - 0s 45ms/step - loss: 0.0518 - f1_m: 0.9226 - precision_m: 0.9301 - recall_m: 0.9154 - auc: 0.9964 - val_loss: 0.3285 - val_f1_m: 0.7182 - val_precision_m: 0.7609 - val_recall_m: 0.6875 - val_auc: 0.7970\n",
      "Epoch 87/150\n",
      "3/3 [==============================] - 0s 44ms/step - loss: 0.0510 - f1_m: 0.8871 - precision_m: 0.9037 - recall_m: 0.8714 - auc: 0.9974 - val_loss: 0.3346 - val_f1_m: 0.7203 - val_precision_m: 0.7407 - val_recall_m: 0.7031 - val_auc: 0.8161\n",
      "Epoch 88/150\n",
      "3/3 [==============================] - 0s 39ms/step - loss: 0.0279 - f1_m: 0.9694 - precision_m: 0.9739 - recall_m: 0.9651 - auc: 0.9998 - val_loss: 0.3522 - val_f1_m: 0.7241 - val_precision_m: 0.7500 - val_recall_m: 0.7031 - val_auc: 0.8035\n",
      "Epoch 89/150\n",
      "3/3 [==============================] - 0s 39ms/step - loss: 0.0441 - f1_m: 0.9352 - precision_m: 0.9476 - recall_m: 0.9237 - auc: 0.9980 - val_loss: 0.3676 - val_f1_m: 0.7281 - val_precision_m: 0.7600 - val_recall_m: 0.7031 - val_auc: 0.7778\n",
      "Epoch 90/150\n",
      "3/3 [==============================] - 0s 40ms/step - loss: 0.0465 - f1_m: 0.9310 - precision_m: 0.9476 - recall_m: 0.9156 - auc: 0.9979 - val_loss: 0.3555 - val_f1_m: 0.7281 - val_precision_m: 0.7600 - val_recall_m: 0.7031 - val_auc: 0.7896\n",
      "Epoch 91/150\n",
      "3/3 [==============================] - 0s 39ms/step - loss: 0.0426 - f1_m: 0.9266 - precision_m: 0.9309 - recall_m: 0.9224 - auc: 0.9986 - val_loss: 0.3305 - val_f1_m: 0.7295 - val_precision_m: 0.7414 - val_recall_m: 0.7187 - val_auc: 0.7988\n",
      "Epoch 92/150\n",
      "3/3 [==============================] - 0s 39ms/step - loss: 0.0361 - f1_m: 0.9464 - precision_m: 0.9727 - recall_m: 0.9221 - auc: 0.9989 - val_loss: 0.3069 - val_f1_m: 0.7131 - val_precision_m: 0.7241 - val_recall_m: 0.7031 - val_auc: 0.8117\n",
      "Epoch 93/150\n",
      "3/3 [==============================] - 0s 39ms/step - loss: 0.0487 - f1_m: 0.9000 - precision_m: 0.9121 - recall_m: 0.8883 - auc: 0.9972 - val_loss: 0.3009 - val_f1_m: 0.7034 - val_precision_m: 0.7222 - val_recall_m: 0.6875 - val_auc: 0.8359\n",
      "Epoch 94/150\n",
      "3/3 [==============================] - 0s 39ms/step - loss: 0.0465 - f1_m: 0.9005 - precision_m: 0.9129 - recall_m: 0.8885 - auc: 0.9972 - val_loss: 0.3089 - val_f1_m: 0.7097 - val_precision_m: 0.7167 - val_recall_m: 0.7031 - val_auc: 0.8178\n",
      "Epoch 95/150\n",
      "3/3 [==============================] - 0s 40ms/step - loss: 0.0587 - f1_m: 0.8895 - precision_m: 0.9090 - recall_m: 0.8711 - auc: 0.9937 - val_loss: 0.3155 - val_f1_m: 0.7063 - val_precision_m: 0.7097 - val_recall_m: 0.7031 - val_auc: 0.8338\n",
      "Epoch 96/150\n"
     ]
    },
    {
     "name": "stdout",
     "output_type": "stream",
     "text": [
      "3/3 [==============================] - 0s 40ms/step - loss: 0.0449 - f1_m: 0.9273 - precision_m: 0.9442 - recall_m: 0.9117 - auc: 0.9971 - val_loss: 0.3187 - val_f1_m: 0.7097 - val_precision_m: 0.7167 - val_recall_m: 0.7031 - val_auc: 0.8355\n",
      "Epoch 97/150\n",
      "3/3 [==============================] - 0s 39ms/step - loss: 0.0521 - f1_m: 0.9210 - precision_m: 0.9379 - recall_m: 0.9049 - auc: 0.9968 - val_loss: 0.3233 - val_f1_m: 0.7131 - val_precision_m: 0.7241 - val_recall_m: 0.7031 - val_auc: 0.8280\n",
      "Epoch 98/150\n",
      "3/3 [==============================] - 0s 38ms/step - loss: 0.0420 - f1_m: 0.9570 - precision_m: 0.9651 - recall_m: 0.9492 - auc: 0.9982 - val_loss: 0.3319 - val_f1_m: 0.7131 - val_precision_m: 0.7241 - val_recall_m: 0.7031 - val_auc: 0.8269\n",
      "Epoch 99/150\n",
      "3/3 [==============================] - 0s 39ms/step - loss: 0.0476 - f1_m: 0.8979 - precision_m: 0.9173 - recall_m: 0.8797 - auc: 0.9964 - val_loss: 0.3346 - val_f1_m: 0.7131 - val_precision_m: 0.7241 - val_recall_m: 0.7031 - val_auc: 0.8055\n",
      "Epoch 100/150\n",
      "3/3 [==============================] - 0s 40ms/step - loss: 0.0400 - f1_m: 0.9551 - precision_m: 0.9818 - recall_m: 0.9310 - auc: 0.9984 - val_loss: 0.3418 - val_f1_m: 0.7241 - val_precision_m: 0.7500 - val_recall_m: 0.7031 - val_auc: 0.7721\n",
      "Epoch 101/150\n",
      "3/3 [==============================] - 0s 39ms/step - loss: 0.0399 - f1_m: 0.9171 - precision_m: 0.9213 - recall_m: 0.9130 - auc: 0.9978 - val_loss: 0.3557 - val_f1_m: 0.7333 - val_precision_m: 0.7500 - val_recall_m: 0.7187 - val_auc: 0.7710\n",
      "Epoch 102/150\n",
      "3/3 [==============================] - 0s 38ms/step - loss: 0.0370 - f1_m: 0.9312 - precision_m: 0.9393 - recall_m: 0.9234 - auc: 0.9989 - val_loss: 0.3658 - val_f1_m: 0.7143 - val_precision_m: 0.7500 - val_recall_m: 0.6875 - val_auc: 0.7720\n",
      "Epoch 103/150\n",
      "3/3 [==============================] - 0s 39ms/step - loss: 0.0326 - f1_m: 0.9300 - precision_m: 0.9388 - recall_m: 0.9221 - auc: 0.9988 - val_loss: 0.3694 - val_f1_m: 0.7203 - val_precision_m: 0.7407 - val_recall_m: 0.7031 - val_auc: 0.7694\n",
      "Epoch 104/150\n",
      "3/3 [==============================] - 0s 39ms/step - loss: 0.0344 - f1_m: 0.9237 - precision_m: 0.9237 - recall_m: 0.9237 - auc: 0.9884 - val_loss: 0.3675 - val_f1_m: 0.7373 - val_precision_m: 0.7593 - val_recall_m: 0.7187 - val_auc: 0.7803\n",
      "Epoch 105/150\n",
      "3/3 [==============================] - 0s 38ms/step - loss: 0.0418 - f1_m: 0.9075 - precision_m: 0.9277 - recall_m: 0.8885 - auc: 0.9971 - val_loss: 0.3623 - val_f1_m: 0.7241 - val_precision_m: 0.7500 - val_recall_m: 0.7031 - val_auc: 0.7650\n",
      "Epoch 106/150\n",
      "3/3 [==============================] - 0s 38ms/step - loss: 0.0313 - f1_m: 0.9393 - precision_m: 0.9562 - recall_m: 0.9234 - auc: 0.9990 - val_loss: 0.3674 - val_f1_m: 0.7167 - val_precision_m: 0.7321 - val_recall_m: 0.7031 - val_auc: 0.8011\n",
      "Epoch 107/150\n",
      "3/3 [==============================] - 0s 39ms/step - loss: 0.0454 - f1_m: 0.9135 - precision_m: 0.9210 - recall_m: 0.9062 - auc: 0.9986 - val_loss: 0.3686 - val_f1_m: 0.7333 - val_precision_m: 0.7500 - val_recall_m: 0.7187 - val_auc: 0.7996\n",
      "Epoch 108/150\n",
      "3/3 [==============================] - 0s 40ms/step - loss: 0.0317 - f1_m: 0.9681 - precision_m: 0.9812 - recall_m: 0.9560 - auc: 0.9990 - val_loss: 0.3560 - val_f1_m: 0.7241 - val_precision_m: 0.7500 - val_recall_m: 0.7031 - val_auc: 0.8009\n",
      "Epoch 109/150\n",
      "3/3 [==============================] - 0s 39ms/step - loss: 0.0301 - f1_m: 0.9775 - precision_m: 0.9906 - recall_m: 0.9648 - auc: 0.9997 - val_loss: 0.3410 - val_f1_m: 0.7131 - val_precision_m: 0.7241 - val_recall_m: 0.7031 - val_auc: 0.8167\n",
      "Epoch 110/150\n",
      "3/3 [==============================] - 0s 38ms/step - loss: 0.0335 - f1_m: 0.9742 - precision_m: 0.9825 - recall_m: 0.9661 - auc: 0.9992 - val_loss: 0.3481 - val_f1_m: 0.7131 - val_precision_m: 0.7241 - val_recall_m: 0.7031 - val_auc: 0.8059\n",
      "Epoch 111/150\n",
      "3/3 [==============================] - 0s 39ms/step - loss: 0.0405 - f1_m: 0.9524 - precision_m: 0.9651 - recall_m: 0.9401 - auc: 0.9988 - val_loss: 0.3639 - val_f1_m: 0.7131 - val_precision_m: 0.7241 - val_recall_m: 0.7031 - val_auc: 0.7828\n",
      "Epoch 112/150\n",
      "3/3 [==============================] - 0s 39ms/step - loss: 0.0242 - f1_m: 0.9470 - precision_m: 0.9557 - recall_m: 0.9391 - auc: 0.9995 - val_loss: 0.3762 - val_f1_m: 0.7097 - val_precision_m: 0.7167 - val_recall_m: 0.7031 - val_auc: 0.7684\n",
      "Epoch 113/150\n",
      "3/3 [==============================] - 0s 39ms/step - loss: 0.0362 - f1_m: 0.9353 - precision_m: 0.9398 - recall_m: 0.9310 - auc: 0.9980 - val_loss: 0.3814 - val_f1_m: 0.7258 - val_precision_m: 0.7333 - val_recall_m: 0.7187 - val_auc: 0.7729\n",
      "Epoch 114/150\n",
      "3/3 [==============================] - 0s 39ms/step - loss: 0.0385 - f1_m: 0.9068 - precision_m: 0.9068 - recall_m: 0.9068 - auc: 0.9985 - val_loss: 0.3810 - val_f1_m: 0.7333 - val_precision_m: 0.7500 - val_recall_m: 0.7187 - val_auc: 0.7704\n",
      "Epoch 115/150\n",
      "3/3 [==============================] - 0s 44ms/step - loss: 0.0401 - f1_m: 0.9187 - precision_m: 0.9231 - recall_m: 0.9143 - auc: 0.9975 - val_loss: 0.3650 - val_f1_m: 0.7143 - val_precision_m: 0.7500 - val_recall_m: 0.6875 - val_auc: 0.7684\n",
      "Epoch 116/150\n",
      "3/3 [==============================] - 0s 40ms/step - loss: 0.0299 - f1_m: 0.9469 - precision_m: 0.9552 - recall_m: 0.9388 - auc: 0.9991 - val_loss: 0.3593 - val_f1_m: 0.7143 - val_precision_m: 0.7500 - val_recall_m: 0.6875 - val_auc: 0.7706\n",
      "Epoch 117/150\n",
      "3/3 [==============================] - 0s 39ms/step - loss: 0.0422 - f1_m: 0.8932 - precision_m: 0.9162 - recall_m: 0.8724 - auc: 0.9973 - val_loss: 0.3683 - val_f1_m: 0.7105 - val_precision_m: 0.7400 - val_recall_m: 0.6875 - val_auc: 0.7666\n",
      "Epoch 118/150\n",
      "3/3 [==============================] - 0s 42ms/step - loss: 0.0329 - f1_m: 0.9404 - precision_m: 0.9404 - recall_m: 0.9404 - auc: 0.9991 - val_loss: 0.3901 - val_f1_m: 0.7258 - val_precision_m: 0.7333 - val_recall_m: 0.7187 - val_auc: 0.7706\n",
      "Epoch 119/150\n",
      "3/3 [==============================] - 0s 40ms/step - loss: 0.0344 - f1_m: 0.9740 - precision_m: 0.9740 - recall_m: 0.9740 - auc: 0.9994 - val_loss: 0.4180 - val_f1_m: 0.7258 - val_precision_m: 0.7333 - val_recall_m: 0.7187 - val_auc: 0.7599\n",
      "Epoch 120/150\n",
      "3/3 [==============================] - 0s 39ms/step - loss: 0.0398 - f1_m: 0.9140 - precision_m: 0.9218 - recall_m: 0.9065 - auc: 0.9980 - val_loss: 0.4178 - val_f1_m: 0.7187 - val_precision_m: 0.7187 - val_recall_m: 0.7187 - val_auc: 0.7590\n",
      "Epoch 121/150\n",
      "3/3 [==============================] - 0s 40ms/step - loss: 0.0429 - f1_m: 0.9000 - precision_m: 0.9121 - recall_m: 0.8883 - auc: 0.9969 - val_loss: 0.4014 - val_f1_m: 0.7222 - val_precision_m: 0.7258 - val_recall_m: 0.7187 - val_auc: 0.7577\n",
      "Epoch 122/150\n",
      "3/3 [==============================] - 0s 39ms/step - loss: 0.0338 - f1_m: 0.9312 - precision_m: 0.9313 - recall_m: 0.9313 - auc: 0.9986 - val_loss: 0.3849 - val_f1_m: 0.7167 - val_precision_m: 0.7321 - val_recall_m: 0.7031 - val_auc: 0.7576\n",
      "Epoch 123/150\n",
      "3/3 [==============================] - 0s 40ms/step - loss: 0.0202 - f1_m: 0.9528 - precision_m: 0.9573 - recall_m: 0.9484 - auc: 0.9996 - val_loss: 0.3841 - val_f1_m: 0.7000 - val_precision_m: 0.7143 - val_recall_m: 0.6875 - val_auc: 0.7579\n",
      "Epoch 124/150\n",
      "3/3 [==============================] - 0s 41ms/step - loss: 0.0284 - f1_m: 0.9226 - precision_m: 0.9310 - recall_m: 0.9146 - auc: 0.9989 - val_loss: 0.3841 - val_f1_m: 0.7031 - val_precision_m: 0.7031 - val_recall_m: 0.7031 - val_auc: 0.7833\n",
      "Epoch 125/150\n",
      "3/3 [==============================] - 0s 39ms/step - loss: 0.0409 - f1_m: 0.9263 - precision_m: 0.9307 - recall_m: 0.9221 - auc: 0.9985 - val_loss: 0.3728 - val_f1_m: 0.7031 - val_precision_m: 0.7031 - val_recall_m: 0.7031 - val_auc: 0.7827\n",
      "Epoch 126/150\n",
      "3/3 [==============================] - 0s 40ms/step - loss: 0.0441 - f1_m: 0.9263 - precision_m: 0.9307 - recall_m: 0.9221 - auc: 0.9966 - val_loss: 0.3737 - val_f1_m: 0.7000 - val_precision_m: 0.7143 - val_recall_m: 0.6875 - val_auc: 0.7668\n",
      "Epoch 127/150\n",
      "3/3 [==============================] - 0s 39ms/step - loss: 0.0242 - f1_m: 0.9560 - precision_m: 0.9560 - recall_m: 0.9560 - auc: 0.9993 - val_loss: 0.3841 - val_f1_m: 0.7131 - val_precision_m: 0.7241 - val_recall_m: 0.7031 - val_auc: 0.7672\n",
      "Epoch 128/150\n"
     ]
    },
    {
     "name": "stdout",
     "output_type": "stream",
     "text": [
      "3/3 [==============================] - 0s 40ms/step - loss: 0.0345 - f1_m: 0.9221 - precision_m: 0.9221 - recall_m: 0.9221 - auc: 0.9986 - val_loss: 0.3990 - val_f1_m: 0.7097 - val_precision_m: 0.7167 - val_recall_m: 0.7031 - val_auc: 0.7717\n",
      "Epoch 129/150\n",
      "3/3 [==============================] - 0s 40ms/step - loss: 0.0304 - f1_m: 0.9603 - precision_m: 0.9731 - recall_m: 0.9479 - auc: 0.9989 - val_loss: 0.4226 - val_f1_m: 0.7222 - val_precision_m: 0.7258 - val_recall_m: 0.7187 - val_auc: 0.7638\n",
      "Epoch 130/150\n",
      "3/3 [==============================] - 0s 42ms/step - loss: 0.0329 - f1_m: 0.9300 - precision_m: 0.9388 - recall_m: 0.9221 - auc: 0.9927 - val_loss: 0.4344 - val_f1_m: 0.7381 - val_precision_m: 0.7419 - val_recall_m: 0.7344 - val_auc: 0.7629\n",
      "Epoch 131/150\n",
      "3/3 [==============================] - 0s 39ms/step - loss: 0.0290 - f1_m: 0.9484 - precision_m: 0.9567 - recall_m: 0.9404 - auc: 0.9989 - val_loss: 0.4371 - val_f1_m: 0.7258 - val_precision_m: 0.7333 - val_recall_m: 0.7187 - val_auc: 0.7635\n",
      "Epoch 132/150\n",
      "3/3 [==============================] - 0s 42ms/step - loss: 0.0422 - f1_m: 0.9482 - precision_m: 0.9482 - recall_m: 0.9482 - auc: 0.9990 - val_loss: 0.4215 - val_f1_m: 0.7258 - val_precision_m: 0.7333 - val_recall_m: 0.7187 - val_auc: 0.7591\n",
      "Epoch 133/150\n",
      "3/3 [==============================] - 0s 39ms/step - loss: 0.0247 - f1_m: 0.9570 - precision_m: 0.9651 - recall_m: 0.9492 - auc: 0.9991 - val_loss: 0.4042 - val_f1_m: 0.7167 - val_precision_m: 0.7321 - val_recall_m: 0.7031 - val_auc: 0.7679\n",
      "Epoch 134/150\n",
      "3/3 [==============================] - 0s 41ms/step - loss: 0.0390 - f1_m: 0.9140 - precision_m: 0.9218 - recall_m: 0.9065 - auc: 0.9985 - val_loss: 0.3935 - val_f1_m: 0.7063 - val_precision_m: 0.7097 - val_recall_m: 0.7031 - val_auc: 0.7683\n",
      "Epoch 135/150\n",
      "3/3 [==============================] - 0s 38ms/step - loss: 0.0355 - f1_m: 0.9482 - precision_m: 0.9482 - recall_m: 0.9482 - auc: 0.9985 - val_loss: 0.3975 - val_f1_m: 0.6935 - val_precision_m: 0.7000 - val_recall_m: 0.6875 - val_auc: 0.7698\n",
      "Epoch 136/150\n",
      "3/3 [==============================] - 0s 39ms/step - loss: 0.0266 - f1_m: 0.9482 - precision_m: 0.9482 - recall_m: 0.9482 - auc: 0.9994 - val_loss: 0.4095 - val_f1_m: 0.6967 - val_precision_m: 0.7069 - val_recall_m: 0.6875 - val_auc: 0.7717\n",
      "Epoch 137/150\n",
      "3/3 [==============================] - 0s 43ms/step - loss: 0.0351 - f1_m: 0.9049 - precision_m: 0.9127 - recall_m: 0.8974 - auc: 0.9979 - val_loss: 0.4128 - val_f1_m: 0.7000 - val_precision_m: 0.7143 - val_recall_m: 0.6875 - val_auc: 0.7732\n",
      "Epoch 138/150\n",
      "3/3 [==============================] - 0s 40ms/step - loss: 0.0301 - f1_m: 0.9312 - precision_m: 0.9313 - recall_m: 0.9313 - auc: 0.9987 - val_loss: 0.4215 - val_f1_m: 0.7105 - val_precision_m: 0.7400 - val_recall_m: 0.6875 - val_auc: 0.7717\n",
      "Epoch 139/150\n",
      "3/3 [==============================] - 0s 38ms/step - loss: 0.0330 - f1_m: 0.9401 - precision_m: 0.9401 - recall_m: 0.9401 - auc: 0.9979 - val_loss: 0.4306 - val_f1_m: 0.7131 - val_precision_m: 0.7241 - val_recall_m: 0.7031 - val_auc: 0.7703\n",
      "Epoch 140/150\n",
      "3/3 [==============================] - 0s 39ms/step - loss: 0.0273 - f1_m: 0.9651 - precision_m: 0.9651 - recall_m: 0.9651 - auc: 0.9993 - val_loss: 0.4334 - val_f1_m: 0.7063 - val_precision_m: 0.7097 - val_recall_m: 0.7031 - val_auc: 0.7448\n",
      "Epoch 141/150\n",
      "3/3 [==============================] - 0s 41ms/step - loss: 0.0275 - f1_m: 0.9433 - precision_m: 0.9476 - recall_m: 0.9391 - auc: 0.9994 - val_loss: 0.4218 - val_f1_m: 0.7097 - val_precision_m: 0.7167 - val_recall_m: 0.7031 - val_auc: 0.7721\n",
      "Epoch 142/150\n",
      "3/3 [==============================] - 0s 39ms/step - loss: 0.0370 - f1_m: 0.9353 - precision_m: 0.9398 - recall_m: 0.9310 - auc: 0.9979 - val_loss: 0.4124 - val_f1_m: 0.7131 - val_precision_m: 0.7241 - val_recall_m: 0.7031 - val_auc: 0.7722\n",
      "Epoch 143/150\n",
      "3/3 [==============================] - 0s 39ms/step - loss: 0.0222 - f1_m: 0.9270 - precision_m: 0.9398 - recall_m: 0.9146 - auc: 0.9994 - val_loss: 0.4144 - val_f1_m: 0.7258 - val_precision_m: 0.7333 - val_recall_m: 0.7187 - val_auc: 0.7603\n",
      "Epoch 144/150\n",
      "3/3 [==============================] - 0s 40ms/step - loss: 0.0179 - f1_m: 0.9740 - precision_m: 0.9740 - recall_m: 0.9740 - auc: 0.9998 - val_loss: 0.4284 - val_f1_m: 0.7097 - val_precision_m: 0.7167 - val_recall_m: 0.7031 - val_auc: 0.7505\n",
      "Epoch 145/150\n",
      "3/3 [==============================] - 0s 39ms/step - loss: 0.0315 - f1_m: 0.9375 - precision_m: 0.9375 - recall_m: 0.9375 - auc: 0.9984 - val_loss: 0.4477 - val_f1_m: 0.7097 - val_precision_m: 0.7167 - val_recall_m: 0.7031 - val_auc: 0.7518\n",
      "Epoch 146/150\n",
      "3/3 [==============================] - 0s 40ms/step - loss: 0.0311 - f1_m: 0.8896 - precision_m: 0.8896 - recall_m: 0.8896 - auc: 0.9984 - val_loss: 0.4595 - val_f1_m: 0.7258 - val_precision_m: 0.7333 - val_recall_m: 0.7187 - val_auc: 0.7560\n",
      "Epoch 147/150\n",
      "3/3 [==============================] - 0s 44ms/step - loss: 0.0309 - f1_m: 0.9054 - precision_m: 0.9126 - recall_m: 0.8984 - auc: 0.9982 - val_loss: 0.4660 - val_f1_m: 0.7258 - val_precision_m: 0.7333 - val_recall_m: 0.7187 - val_auc: 0.7625\n",
      "Epoch 148/150\n",
      "3/3 [==============================] - 0s 49ms/step - loss: 0.0304 - f1_m: 0.9146 - precision_m: 0.9146 - recall_m: 0.9146 - auc: 0.9990 - val_loss: 0.4722 - val_f1_m: 0.6967 - val_precision_m: 0.7069 - val_recall_m: 0.6875 - val_auc: 0.7596\n",
      "Epoch 149/150\n",
      "3/3 [==============================] - 0s 50ms/step - loss: 0.0205 - f1_m: 0.9479 - precision_m: 0.9479 - recall_m: 0.9479 - auc: 0.9994 - val_loss: 0.4818 - val_f1_m: 0.7031 - val_precision_m: 0.7031 - val_recall_m: 0.7031 - val_auc: 0.7445\n",
      "Epoch 150/150\n",
      "3/3 [==============================] - 0s 50ms/step - loss: 0.0389 - f1_m: 0.9022 - precision_m: 0.9349 - recall_m: 0.8727 - auc: 0.9974 - val_loss: 0.4739 - val_f1_m: 0.6905 - val_precision_m: 0.6935 - val_recall_m: 0.6875 - val_auc: 0.7426\n"
     ]
    },
    {
     "data": {
      "text/plain": [
       "<tensorflow.python.keras.callbacks.History at 0x7fc8579311f0>"
      ]
     },
     "execution_count": 21,
     "metadata": {},
     "output_type": "execute_result"
    }
   ],
   "source": [
    "Malware_model.fit(X_train, y_train, validation_data=(X_test, y_test), epochs=150,  class_weight=class_weights)"
   ]
  },
  {
   "cell_type": "code",
   "execution_count": 22,
   "id": "4471392c",
   "metadata": {},
   "outputs": [
    {
     "name": "stdout",
     "output_type": "stream",
     "text": [
      "2/2 [==============================] - 0s 3ms/step - loss: 0.4739 - f1_m: 0.6905 - precision_m: 0.6935 - recall_m: 0.6875 - auc: 0.7426\n"
     ]
    }
   ],
   "source": [
    "scores = Malware_model.evaluate(X_test, y_test)"
   ]
  },
  {
   "cell_type": "code",
   "execution_count": 23,
   "id": "af5d617f",
   "metadata": {},
   "outputs": [
    {
     "name": "stdout",
     "output_type": "stream",
     "text": [
      "2/2 [==============================] - 0s 3ms/step - loss: 0.4739 - f1_m: 0.6905 - precision_m: 0.6935 - recall_m: 0.6875 - auc: 0.7426\n"
     ]
    }
   ],
   "source": [
    "loss, accuracy, f1_score, precision, recall = Malware_model.evaluate(X_test, y_test)"
   ]
  },
  {
   "cell_type": "code",
   "execution_count": 24,
   "id": "dbcee16a",
   "metadata": {},
   "outputs": [
    {
     "name": "stdout",
     "output_type": "stream",
     "text": [
      "Final CNN accuracy:  0.6904760599136353\n"
     ]
    }
   ],
   "source": [
    "print('Final CNN accuracy: ', scores[1])"
   ]
  }
 ],
 "metadata": {
  "kernelspec": {
   "display_name": "Python 3 (ipykernel)",
   "language": "python",
   "name": "python3"
  },
  "language_info": {
   "codemirror_mode": {
    "name": "ipython",
    "version": 3
   },
   "file_extension": ".py",
   "mimetype": "text/x-python",
   "name": "python",
   "nbconvert_exporter": "python",
   "pygments_lexer": "ipython3",
   "version": "3.9.16"
  }
 },
 "nbformat": 4,
 "nbformat_minor": 5
}
