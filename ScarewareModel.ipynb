{
 "cells": [
  {
   "cell_type": "code",
   "execution_count": 1,
   "id": "e08d24dc",
   "metadata": {},
   "outputs": [],
   "source": [
    "import os\n",
    "os.environ['TF_XLA_FLAGS'] = '--tf_xla_enable_xla_devices'\n",
    "path_root = '/home/dmr/DatasetForExperiments/scareware/'"
   ]
  },
  {
   "cell_type": "code",
   "execution_count": 2,
   "id": "6a45dad7",
   "metadata": {},
   "outputs": [
    {
     "name": "stderr",
     "output_type": "stream",
     "text": [
      "2023-05-03 15:54:13.299672: I tensorflow/stream_executor/platform/default/dso_loader.cc:49] Successfully opened dynamic library libcudart.so.10.1\n"
     ]
    },
    {
     "name": "stdout",
     "output_type": "stream",
     "text": [
      "Found 97 images belonging to 11 classes.\n"
     ]
    }
   ],
   "source": [
    "from keras.preprocessing.image import ImageDataGenerator\n",
    "batches = ImageDataGenerator().flow_from_directory(directory=path_root, target_size=(64,64), batch_size=10000)"
   ]
  },
  {
   "cell_type": "code",
   "execution_count": 3,
   "id": "728b8be6",
   "metadata": {},
   "outputs": [
    {
     "data": {
      "text/plain": [
       "(97, 11)"
      ]
     },
     "execution_count": 3,
     "metadata": {},
     "output_type": "execute_result"
    }
   ],
   "source": [
    "# Print information about Images \n",
    "imgs, labels = next(batches)\n",
    "imgs.shape # Images with width x length x depth\n",
    "labels.shape # Lablels with batch_size, number of classes"
   ]
  },
  {
   "cell_type": "code",
   "execution_count": 4,
   "id": "57424da2",
   "metadata": {},
   "outputs": [],
   "source": [
    "import numpy as np\n",
    "import scipy as sp\n",
    "from PIL import Image\n",
    "\n",
    "# Train and Test \n",
    "from sklearn.model_selection import train_test_split\n",
    "X_train, X_test, y_train, y_test = train_test_split(imgs/255.,labels, test_size=0.3)"
   ]
  },
  {
   "cell_type": "code",
   "execution_count": 5,
   "id": "3590200f",
   "metadata": {},
   "outputs": [
    {
     "data": {
      "text/plain": [
       "(67, 64, 64, 3)"
      ]
     },
     "execution_count": 5,
     "metadata": {},
     "output_type": "execute_result"
    }
   ],
   "source": [
    "X_train.shape"
   ]
  },
  {
   "cell_type": "code",
   "execution_count": 6,
   "id": "3db9230c",
   "metadata": {},
   "outputs": [
    {
     "data": {
      "text/plain": [
       "(30, 64, 64, 3)"
      ]
     },
     "execution_count": 6,
     "metadata": {},
     "output_type": "execute_result"
    }
   ],
   "source": [
    "X_test.shape"
   ]
  },
  {
   "cell_type": "code",
   "execution_count": 7,
   "id": "2b6ca85a",
   "metadata": {},
   "outputs": [
    {
     "data": {
      "text/plain": [
       "(67, 11)"
      ]
     },
     "execution_count": 7,
     "metadata": {},
     "output_type": "execute_result"
    }
   ],
   "source": [
    "y_train.shape"
   ]
  },
  {
   "cell_type": "code",
   "execution_count": 8,
   "id": "f5f1dec9",
   "metadata": {},
   "outputs": [
    {
     "data": {
      "text/plain": [
       "(30, 11)"
      ]
     },
     "execution_count": 8,
     "metadata": {},
     "output_type": "execute_result"
    }
   ],
   "source": [
    "y_test.shape"
   ]
  },
  {
   "cell_type": "code",
   "execution_count": 9,
   "id": "fde8f125",
   "metadata": {},
   "outputs": [],
   "source": [
    "# CNN Model"
   ]
  },
  {
   "cell_type": "code",
   "execution_count": 10,
   "id": "0f3529a9",
   "metadata": {},
   "outputs": [],
   "source": [
    "import keras\n",
    "import tensorflow\n",
    "from keras.models import Sequential, Input, Model\n",
    "from keras.layers import Dense, Dropout, Flatten\n",
    "from keras.layers import Conv2D, MaxPooling2D\n",
    "from tensorflow.keras.layers import BatchNormalization\n",
    "from tensorflow.keras.metrics import AUC"
   ]
  },
  {
   "cell_type": "code",
   "execution_count": 11,
   "id": "0401eabd",
   "metadata": {},
   "outputs": [],
   "source": [
    "num_classes = 11 # Changed from 10 to 11 for families on scareware"
   ]
  },
  {
   "cell_type": "code",
   "execution_count": 12,
   "id": "b3593ed6",
   "metadata": {},
   "outputs": [],
   "source": [
    "def malware_model():\n",
    "    Malware_model = Sequential()\n",
    "    # Convolutional Layer : 30 filters, (3 * 3) kernel size\n",
    "    Malware_model.add(Conv2D(30, kernel_size=(3, 3),\n",
    "                     activation='relu',\n",
    "                     input_shape=(64,64,3)))\n",
    "\n",
    "    # Max Pooling Layer : (2 * 2) pool size\n",
    "    Malware_model.add(MaxPooling2D(pool_size=(2, 2)))\n",
    "    \n",
    "    #Convolutional Layer : 15 filters, (3 * 3) kernel size\n",
    "    Malware_model.add(Conv2D(17, (3, 3), activation='relu'))\n",
    "    \n",
    "    # Max Pooling Layer : (2 * 2) pool size\n",
    "    Malware_model.add(MaxPooling2D(pool_size=(2, 2)))\n",
    "    \n",
    "    # DropOut Layer : Dropping 25% of neurons.\n",
    "    Malware_model.add(Dropout(0.25))\n",
    "    \n",
    "    # Flatten Layer\n",
    "    Malware_model.add(Flatten())\n",
    "    \n",
    "    # Dense/Fully Connected Layer : 128 Neurons, Relu activation function\n",
    "    Malware_model.add(Dense(128, activation='relu'))    \n",
    "   # Malware_model.add(Dense(64, activation='relu'))\n",
    "    \n",
    "    # DropOut Layer : Dropping 50% of neurons.\n",
    "    Malware_model.add(Dropout(0.5))\n",
    "    \n",
    "    # Dense/Fully Connected Layer : 50 Neurons, Softmax activation function\n",
    "    Malware_model.add(Dense(50, activation='relu'))\n",
    "    \n",
    "    # Dense/Fully Connected Layer : num_class Neurons, Softmax activation function\n",
    "    Malware_model.add(Dense(num_classes, activation='softmax'))\n",
    "    \n",
    "    \n",
    "    Malware_model.compile(loss='categorical_crossentropy', optimizer = 'adam', metrics=['accuracy'])\n",
    "    return Malware_model\n",
    "\n",
    "\n",
    "    # sparse_categorical_cross_entropy\n",
    "    # categorical_crossentropy\n",
    "    "
   ]
  },
  {
   "cell_type": "code",
   "execution_count": 13,
   "id": "9a4ebf7d",
   "metadata": {},
   "outputs": [],
   "source": [
    "from keras import backend as K\n",
    "\n",
    "def recall_m(y_test, y_pred):\n",
    "    true_positives = K.sum(K.round(K.clip(y_test * y_pred, 0, 1)))\n",
    "    possible_positives = K.sum(K.round(K.clip(y_test, 0, 1)))\n",
    "    recall = true_positives / (possible_positives + K.epsilon())\n",
    "    return recall\n",
    "\n",
    "def precision_m(y_test, y_pred):\n",
    "    true_positives = K.sum(K.round(K.clip(y_test * y_pred, 0, 1)))\n",
    "    predicted_positives = K.sum(K.round(K.clip(y_pred, 0, 1)))\n",
    "    precision = true_positives / (predicted_positives + K.epsilon())\n",
    "    return precision\n",
    "\n",
    "def f1_m(y_test, y_pred):\n",
    "    precision = precision_m(y_test, y_pred)\n",
    "    recall = recall_m(y_test, y_pred)\n",
    "    return 2*((precision*recall)/(precision+recall+K.epsilon()))"
   ]
  },
  {
   "cell_type": "code",
   "execution_count": 14,
   "id": "c1e2abbc",
   "metadata": {},
   "outputs": [
    {
     "name": "stderr",
     "output_type": "stream",
     "text": [
      "2023-05-03 15:54:16.377756: I tensorflow/stream_executor/platform/default/dso_loader.cc:49] Successfully opened dynamic library libcuda.so.1\n",
      "2023-05-03 15:54:16.705052: E tensorflow/stream_executor/cuda/cuda_driver.cc:328] failed call to cuInit: CUDA_ERROR_NO_DEVICE: no CUDA-capable device is detected\n",
      "2023-05-03 15:54:16.705148: I tensorflow/stream_executor/cuda/cuda_diagnostics.cc:156] kernel driver does not appear to be running on this host (pop-os): /proc/driver/nvidia/version does not exist\n",
      "2023-05-03 15:54:16.706373: I tensorflow/core/platform/cpu_feature_guard.cc:142] This TensorFlow binary is optimized with oneAPI Deep Neural Network Library (oneDNN) to use the following CPU instructions in performance-critical operations:  SSE4.1 SSE4.2 AVX AVX2 FMA\n",
      "To enable them in other operations, rebuild TensorFlow with the appropriate compiler flags.\n",
      "2023-05-03 15:54:16.725437: I tensorflow/core/platform/profile_utils/cpu_utils.cc:112] CPU Frequency: 1999965000 Hz\n",
      "2023-05-03 15:54:16.727647: I tensorflow/compiler/xla/service/service.cc:168] XLA service 0x1a28870 initialized for platform Host (this does not guarantee that XLA will be used). Devices:\n",
      "2023-05-03 15:54:16.727688: I tensorflow/compiler/xla/service/service.cc:176]   StreamExecutor device (0): Host, Default Version\n"
     ]
    }
   ],
   "source": [
    "Malware_model = malware_model()"
   ]
  },
  {
   "cell_type": "code",
   "execution_count": 15,
   "id": "bcb1d474",
   "metadata": {},
   "outputs": [
    {
     "name": "stdout",
     "output_type": "stream",
     "text": [
      "Model: \"sequential\"\n",
      "_________________________________________________________________\n",
      "Layer (type)                 Output Shape              Param #   \n",
      "=================================================================\n",
      "conv2d (Conv2D)              (None, 62, 62, 30)        840       \n",
      "_________________________________________________________________\n",
      "max_pooling2d (MaxPooling2D) (None, 31, 31, 30)        0         \n",
      "_________________________________________________________________\n",
      "conv2d_1 (Conv2D)            (None, 29, 29, 17)        4607      \n",
      "_________________________________________________________________\n",
      "max_pooling2d_1 (MaxPooling2 (None, 14, 14, 17)        0         \n",
      "_________________________________________________________________\n",
      "dropout (Dropout)            (None, 14, 14, 17)        0         \n",
      "_________________________________________________________________\n",
      "flatten (Flatten)            (None, 3332)              0         \n",
      "_________________________________________________________________\n",
      "dense (Dense)                (None, 128)               426624    \n",
      "_________________________________________________________________\n",
      "dropout_1 (Dropout)          (None, 128)               0         \n",
      "_________________________________________________________________\n",
      "dense_1 (Dense)              (None, 50)                6450      \n",
      "_________________________________________________________________\n",
      "dense_2 (Dense)              (None, 11)                561       \n",
      "=================================================================\n",
      "Total params: 439,082\n",
      "Trainable params: 439,082\n",
      "Non-trainable params: 0\n",
      "_________________________________________________________________\n"
     ]
    }
   ],
   "source": [
    "Malware_model.summary()"
   ]
  },
  {
   "cell_type": "code",
   "execution_count": 16,
   "id": "9e8d69b6",
   "metadata": {},
   "outputs": [
    {
     "data": {
      "text/plain": [
       "(67, 11)"
      ]
     },
     "execution_count": 16,
     "metadata": {},
     "output_type": "execute_result"
    }
   ],
   "source": [
    "y_train.shape"
   ]
  },
  {
   "cell_type": "code",
   "execution_count": 17,
   "id": "6711d2f9",
   "metadata": {},
   "outputs": [],
   "source": [
    "y_train_new = np.argmax(y_train, axis=1)"
   ]
  },
  {
   "cell_type": "code",
   "execution_count": 18,
   "id": "838a6a56",
   "metadata": {},
   "outputs": [
    {
     "data": {
      "text/plain": [
       "array([ 9,  1,  9,  3,  7,  8, 10, 10,  9,  6,  3,  0,  2,  5,  2,  6,  2,\n",
       "        9,  3,  4, 10,  9,  5,  6, 10, 10,  5,  4,  3,  5,  8,  7,  3,  6,\n",
       "        2,  6,  7,  6,  1,  5,  8,  4,  6,  6,  8,  4,  8,  4,  5,  1,  1,\n",
       "        1,  2,  8,  7,  9,  6,  9,  4,  5,  6,  1,  0,  8, 10,  1,  5])"
      ]
     },
     "execution_count": 18,
     "metadata": {},
     "output_type": "execute_result"
    }
   ],
   "source": [
    "y_train_new"
   ]
  },
  {
   "cell_type": "code",
   "execution_count": 19,
   "id": "e5fccc6d",
   "metadata": {},
   "outputs": [],
   "source": [
    "from sklearn.utils import class_weight\n",
    "class_weights = class_weight.compute_class_weight(class_weight = 'balanced',\n",
    "                                                 classes = np.unique(y_train_new),\n",
    "                                                 y = y_train_new)\n",
    "\n",
    "class_weights = {l:c for l,c in zip(np.unique(y_train_new), class_weights)}"
   ]
  },
  {
   "cell_type": "code",
   "execution_count": 20,
   "id": "a62f070a",
   "metadata": {},
   "outputs": [],
   "source": [
    "Malware_model.compile(optimizer='adam', loss='binary_crossentropy', metrics=[f1_m,precision_m, recall_m,AUC()])"
   ]
  },
  {
   "cell_type": "code",
   "execution_count": 21,
   "id": "f8c8523a",
   "metadata": {
    "scrolled": true
   },
   "outputs": [
    {
     "name": "stderr",
     "output_type": "stream",
     "text": [
      "2023-05-03 15:54:16.906304: I tensorflow/compiler/mlir/mlir_graph_optimization_pass.cc:116] None of the MLIR optimization passes are enabled (registered 2)\n"
     ]
    },
    {
     "name": "stdout",
     "output_type": "stream",
     "text": [
      "Epoch 1/100\n",
      "3/3 [==============================] - 1s 254ms/step - loss: 0.6276 - f1_m: 0.0000e+00 - precision_m: 0.0000e+00 - recall_m: 0.0000e+00 - auc: 0.4765 - val_loss: 0.3358 - val_f1_m: 0.0000e+00 - val_precision_m: 0.0000e+00 - val_recall_m: 0.0000e+00 - val_auc: 0.5924\n",
      "Epoch 2/100\n",
      "3/3 [==============================] - 0s 40ms/step - loss: 0.3789 - f1_m: 0.0000e+00 - precision_m: 0.0000e+00 - recall_m: 0.0000e+00 - auc: 0.5299 - val_loss: 0.3301 - val_f1_m: 0.0000e+00 - val_precision_m: 0.0000e+00 - val_recall_m: 0.0000e+00 - val_auc: 0.6248\n",
      "Epoch 3/100\n",
      "3/3 [==============================] - 0s 39ms/step - loss: 0.4018 - f1_m: 0.0167 - precision_m: 0.0972 - recall_m: 0.0091 - auc: 0.4777 - val_loss: 0.3136 - val_f1_m: 0.0000e+00 - val_precision_m: 0.0000e+00 - val_recall_m: 0.0000e+00 - val_auc: 0.5844\n",
      "Epoch 4/100\n",
      "3/3 [==============================] - 0s 40ms/step - loss: 0.3728 - f1_m: 0.0000e+00 - precision_m: 0.0000e+00 - recall_m: 0.0000e+00 - auc: 0.4908 - val_loss: 0.3202 - val_f1_m: 0.0000e+00 - val_precision_m: 0.0000e+00 - val_recall_m: 0.0000e+00 - val_auc: 0.5726\n",
      "Epoch 5/100\n",
      "3/3 [==============================] - 0s 41ms/step - loss: 0.3491 - f1_m: 0.0000e+00 - precision_m: 0.0000e+00 - recall_m: 0.0000e+00 - auc: 0.5201 - val_loss: 0.3292 - val_f1_m: 0.0000e+00 - val_precision_m: 0.0000e+00 - val_recall_m: 0.0000e+00 - val_auc: 0.5884\n",
      "Epoch 6/100\n",
      "3/3 [==============================] - 0s 38ms/step - loss: 0.3391 - f1_m: 0.0000e+00 - precision_m: 0.0000e+00 - recall_m: 0.0000e+00 - auc: 0.5248 - val_loss: 0.3109 - val_f1_m: 0.0000e+00 - val_precision_m: 0.0000e+00 - val_recall_m: 0.0000e+00 - val_auc: 0.5875\n",
      "Epoch 7/100\n",
      "3/3 [==============================] - 0s 39ms/step - loss: 0.3429 - f1_m: 0.0000e+00 - precision_m: 0.0000e+00 - recall_m: 0.0000e+00 - auc: 0.4859 - val_loss: 0.3070 - val_f1_m: 0.0000e+00 - val_precision_m: 0.0000e+00 - val_recall_m: 0.0000e+00 - val_auc: 0.5836\n",
      "Epoch 8/100\n",
      "3/3 [==============================] - 0s 41ms/step - loss: 0.3310 - f1_m: 0.0000e+00 - precision_m: 0.0000e+00 - recall_m: 0.0000e+00 - auc: 0.5298 - val_loss: 0.3062 - val_f1_m: 0.0000e+00 - val_precision_m: 0.0000e+00 - val_recall_m: 0.0000e+00 - val_auc: 0.5774\n",
      "Epoch 9/100\n",
      "3/3 [==============================] - 0s 39ms/step - loss: 0.3460 - f1_m: 0.0000e+00 - precision_m: 0.0000e+00 - recall_m: 0.0000e+00 - auc: 0.4980 - val_loss: 0.3040 - val_f1_m: 0.0000e+00 - val_precision_m: 0.0000e+00 - val_recall_m: 0.0000e+00 - val_auc: 0.5742\n",
      "Epoch 10/100\n",
      "3/3 [==============================] - 0s 39ms/step - loss: 0.3222 - f1_m: 0.0177 - precision_m: 0.2917 - recall_m: 0.0091 - auc: 0.6237 - val_loss: 0.3072 - val_f1_m: 0.0000e+00 - val_precision_m: 0.0000e+00 - val_recall_m: 0.0000e+00 - val_auc: 0.5811\n",
      "Epoch 11/100\n",
      "3/3 [==============================] - 0s 37ms/step - loss: 0.3258 - f1_m: 0.0000e+00 - precision_m: 0.0000e+00 - recall_m: 0.0000e+00 - auc: 0.5711 - val_loss: 0.3018 - val_f1_m: 0.0000e+00 - val_precision_m: 0.0000e+00 - val_recall_m: 0.0000e+00 - val_auc: 0.6182\n",
      "Epoch 12/100\n",
      "3/3 [==============================] - 0s 37ms/step - loss: 0.3197 - f1_m: 0.0000e+00 - precision_m: 0.0000e+00 - recall_m: 0.0000e+00 - auc: 0.5807 - val_loss: 0.2937 - val_f1_m: 0.0000e+00 - val_precision_m: 0.0000e+00 - val_recall_m: 0.0000e+00 - val_auc: 0.6468\n",
      "Epoch 13/100\n",
      "3/3 [==============================] - 0s 38ms/step - loss: 0.3091 - f1_m: 0.0000e+00 - precision_m: 0.0000e+00 - recall_m: 0.0000e+00 - auc: 0.6219 - val_loss: 0.2936 - val_f1_m: 0.0000e+00 - val_precision_m: 0.0000e+00 - val_recall_m: 0.0000e+00 - val_auc: 0.6627\n",
      "Epoch 14/100\n",
      "3/3 [==============================] - 0s 39ms/step - loss: 0.3030 - f1_m: 0.0177 - precision_m: 0.2917 - recall_m: 0.0091 - auc: 0.6393 - val_loss: 0.2907 - val_f1_m: 0.0000e+00 - val_precision_m: 0.0000e+00 - val_recall_m: 0.0000e+00 - val_auc: 0.6651\n",
      "Epoch 15/100\n",
      "3/3 [==============================] - 0s 47ms/step - loss: 0.3016 - f1_m: 0.0328 - precision_m: 0.5417 - recall_m: 0.0169 - auc: 0.6300 - val_loss: 0.2959 - val_f1_m: 0.0000e+00 - val_precision_m: 0.0000e+00 - val_recall_m: 0.0000e+00 - val_auc: 0.6878\n",
      "Epoch 16/100\n",
      "3/3 [==============================] - 0s 52ms/step - loss: 0.2954 - f1_m: 0.0505 - precision_m: 0.8333 - recall_m: 0.0260 - auc: 0.6791 - val_loss: 0.3046 - val_f1_m: 0.0000e+00 - val_precision_m: 0.0000e+00 - val_recall_m: 0.0000e+00 - val_auc: 0.6872\n",
      "Epoch 17/100\n",
      "3/3 [==============================] - 0s 43ms/step - loss: 0.3124 - f1_m: 0.0000e+00 - precision_m: 0.0000e+00 - recall_m: 0.0000e+00 - auc: 0.6504 - val_loss: 0.2855 - val_f1_m: 0.0000e+00 - val_precision_m: 0.0000e+00 - val_recall_m: 0.0000e+00 - val_auc: 0.6801\n",
      "Epoch 18/100\n",
      "3/3 [==============================] - 0s 45ms/step - loss: 0.3050 - f1_m: 0.0328 - precision_m: 0.5417 - recall_m: 0.0169 - auc: 0.5832 - val_loss: 0.2897 - val_f1_m: 0.0000e+00 - val_precision_m: 0.0000e+00 - val_recall_m: 0.0000e+00 - val_auc: 0.6687\n",
      "Epoch 19/100\n",
      "3/3 [==============================] - 0s 46ms/step - loss: 0.3174 - f1_m: 0.0000e+00 - precision_m: 0.0000e+00 - recall_m: 0.0000e+00 - auc: 0.6065 - val_loss: 0.2833 - val_f1_m: 0.0000e+00 - val_precision_m: 0.0000e+00 - val_recall_m: 0.0000e+00 - val_auc: 0.6823\n",
      "Epoch 20/100\n",
      "3/3 [==============================] - 0s 43ms/step - loss: 0.2876 - f1_m: 0.0177 - precision_m: 0.2917 - recall_m: 0.0091 - auc: 0.7336 - val_loss: 0.2938 - val_f1_m: 0.0000e+00 - val_precision_m: 0.0000e+00 - val_recall_m: 0.0000e+00 - val_auc: 0.6949\n",
      "Epoch 21/100\n",
      "3/3 [==============================] - 0s 52ms/step - loss: 0.3044 - f1_m: 0.0000e+00 - precision_m: 0.0000e+00 - recall_m: 0.0000e+00 - auc: 0.6731 - val_loss: 0.2860 - val_f1_m: 0.0000e+00 - val_precision_m: 0.0000e+00 - val_recall_m: 0.0000e+00 - val_auc: 0.6858\n",
      "Epoch 22/100\n",
      "3/3 [==============================] - 0s 46ms/step - loss: 0.2959 - f1_m: 0.0177 - precision_m: 0.2917 - recall_m: 0.0091 - auc: 0.6679 - val_loss: 0.2839 - val_f1_m: 0.0000e+00 - val_precision_m: 0.0000e+00 - val_recall_m: 0.0000e+00 - val_auc: 0.6832\n",
      "Epoch 23/100\n",
      "3/3 [==============================] - 0s 45ms/step - loss: 0.2897 - f1_m: 0.0177 - precision_m: 0.2917 - recall_m: 0.0091 - auc: 0.7217 - val_loss: 0.2818 - val_f1_m: 0.1818 - val_precision_m: 1.0000 - val_recall_m: 0.1000 - val_auc: 0.6919\n",
      "Epoch 24/100\n",
      "3/3 [==============================] - 0s 45ms/step - loss: 0.2725 - f1_m: 0.0505 - precision_m: 0.8333 - recall_m: 0.0260 - auc: 0.7415 - val_loss: 0.2797 - val_f1_m: 0.0645 - val_precision_m: 1.0000 - val_recall_m: 0.0333 - val_auc: 0.7064\n",
      "Epoch 25/100\n",
      "3/3 [==============================] - 0s 41ms/step - loss: 0.2840 - f1_m: 0.0637 - precision_m: 0.5417 - recall_m: 0.0339 - auc: 0.7100 - val_loss: 0.2794 - val_f1_m: 0.0000e+00 - val_precision_m: 0.0000e+00 - val_recall_m: 0.0000e+00 - val_auc: 0.7286\n",
      "Epoch 26/100\n",
      "3/3 [==============================] - 0s 44ms/step - loss: 0.2595 - f1_m: 0.0505 - precision_m: 0.8333 - recall_m: 0.0260 - auc: 0.8250 - val_loss: 0.2758 - val_f1_m: 0.0000e+00 - val_precision_m: 0.0000e+00 - val_recall_m: 0.0000e+00 - val_auc: 0.7362\n",
      "Epoch 27/100\n",
      "3/3 [==============================] - 0s 38ms/step - loss: 0.2682 - f1_m: 0.0000e+00 - precision_m: 0.0000e+00 - recall_m: 0.0000e+00 - auc: 0.7626 - val_loss: 0.2761 - val_f1_m: 0.1818 - val_precision_m: 1.0000 - val_recall_m: 0.1000 - val_auc: 0.7426\n",
      "Epoch 28/100\n",
      "3/3 [==============================] - 0s 44ms/step - loss: 0.2723 - f1_m: 0.0637 - precision_m: 0.5417 - recall_m: 0.0339 - auc: 0.7484 - val_loss: 0.2752 - val_f1_m: 0.1818 - val_precision_m: 1.0000 - val_recall_m: 0.1000 - val_auc: 0.7569\n",
      "Epoch 29/100\n",
      "3/3 [==============================] - 0s 46ms/step - loss: 0.2693 - f1_m: 0.0929 - precision_m: 0.5417 - recall_m: 0.0508 - auc: 0.7349 - val_loss: 0.2723 - val_f1_m: 0.1818 - val_precision_m: 1.0000 - val_recall_m: 0.1000 - val_auc: 0.7633\n",
      "Epoch 30/100\n",
      "3/3 [==============================] - 0s 46ms/step - loss: 0.2642 - f1_m: 0.0500 - precision_m: 0.6875 - recall_m: 0.0260 - auc: 0.7722 - val_loss: 0.2716 - val_f1_m: 0.1818 - val_precision_m: 1.0000 - val_recall_m: 0.1000 - val_auc: 0.7466\n",
      "Epoch 31/100\n"
     ]
    },
    {
     "name": "stdout",
     "output_type": "stream",
     "text": [
      "3/3 [==============================] - 0s 40ms/step - loss: 0.2524 - f1_m: 0.1137 - precision_m: 0.8333 - recall_m: 0.0612 - auc: 0.8428 - val_loss: 0.2727 - val_f1_m: 0.1818 - val_precision_m: 1.0000 - val_recall_m: 0.1000 - val_auc: 0.7281\n",
      "Epoch 32/100\n",
      "3/3 [==============================] - 0s 39ms/step - loss: 0.2579 - f1_m: 0.0505 - precision_m: 0.8333 - recall_m: 0.0260 - auc: 0.8068 - val_loss: 0.2717 - val_f1_m: 0.1818 - val_precision_m: 1.0000 - val_recall_m: 0.1000 - val_auc: 0.7085\n",
      "Epoch 33/100\n",
      "3/3 [==============================] - 0s 38ms/step - loss: 0.2615 - f1_m: 0.0500 - precision_m: 0.2917 - recall_m: 0.0273 - auc: 0.7635 - val_loss: 0.2689 - val_f1_m: 0.2353 - val_precision_m: 1.0000 - val_recall_m: 0.1333 - val_auc: 0.7149\n",
      "Epoch 34/100\n",
      "3/3 [==============================] - 0s 38ms/step - loss: 0.2600 - f1_m: 0.0671 - precision_m: 0.8333 - recall_m: 0.0352 - auc: 0.8075 - val_loss: 0.2664 - val_f1_m: 0.2353 - val_precision_m: 1.0000 - val_recall_m: 0.1333 - val_auc: 0.7258\n",
      "Epoch 35/100\n",
      "3/3 [==============================] - 0s 37ms/step - loss: 0.2545 - f1_m: 0.1647 - precision_m: 1.0000 - recall_m: 0.0985 - auc: 0.8333 - val_loss: 0.2643 - val_f1_m: 0.2353 - val_precision_m: 1.0000 - val_recall_m: 0.1333 - val_auc: 0.7281\n",
      "Epoch 36/100\n",
      "3/3 [==============================] - 0s 39ms/step - loss: 0.2404 - f1_m: 0.1426 - precision_m: 0.8333 - recall_m: 0.0794 - auc: 0.8575 - val_loss: 0.2609 - val_f1_m: 0.2353 - val_precision_m: 1.0000 - val_recall_m: 0.1333 - val_auc: 0.7413\n",
      "Epoch 37/100\n",
      "3/3 [==============================] - 0s 39ms/step - loss: 0.2350 - f1_m: 0.1717 - precision_m: 0.8333 - recall_m: 0.0964 - auc: 0.8502 - val_loss: 0.2560 - val_f1_m: 0.2353 - val_precision_m: 1.0000 - val_recall_m: 0.1333 - val_auc: 0.7586\n",
      "Epoch 38/100\n",
      "3/3 [==============================] - 0s 38ms/step - loss: 0.2453 - f1_m: 0.1357 - precision_m: 0.4722 - recall_m: 0.0807 - auc: 0.8399 - val_loss: 0.2521 - val_f1_m: 0.2353 - val_precision_m: 1.0000 - val_recall_m: 0.1333 - val_auc: 0.7773\n",
      "Epoch 39/100\n",
      "3/3 [==============================] - 0s 36ms/step - loss: 0.2473 - f1_m: 0.1646 - precision_m: 0.5681 - recall_m: 0.0964 - auc: 0.8389 - val_loss: 0.2473 - val_f1_m: 0.2857 - val_precision_m: 1.0000 - val_recall_m: 0.1667 - val_auc: 0.7940\n",
      "Epoch 40/100\n",
      "3/3 [==============================] - 0s 41ms/step - loss: 0.2264 - f1_m: 0.2762 - precision_m: 0.7731 - recall_m: 0.1719 - auc: 0.8890 - val_loss: 0.2447 - val_f1_m: 0.2857 - val_precision_m: 1.0000 - val_recall_m: 0.1667 - val_auc: 0.8033\n",
      "Epoch 41/100\n",
      "3/3 [==============================] - 0s 37ms/step - loss: 0.2300 - f1_m: 0.2341 - precision_m: 0.7750 - recall_m: 0.1380 - auc: 0.9034 - val_loss: 0.2397 - val_f1_m: 0.2857 - val_precision_m: 1.0000 - val_recall_m: 0.1667 - val_auc: 0.8186\n",
      "Epoch 42/100\n",
      "3/3 [==============================] - 0s 37ms/step - loss: 0.2026 - f1_m: 0.3576 - precision_m: 0.7969 - recall_m: 0.2313 - auc: 0.9247 - val_loss: 0.2318 - val_f1_m: 0.2857 - val_precision_m: 1.0000 - val_recall_m: 0.1667 - val_auc: 0.8505\n",
      "Epoch 43/100\n",
      "3/3 [==============================] - 0s 37ms/step - loss: 0.1975 - f1_m: 0.3933 - precision_m: 1.0000 - recall_m: 0.2483 - auc: 0.9213 - val_loss: 0.2302 - val_f1_m: 0.3784 - val_precision_m: 1.0000 - val_recall_m: 0.2333 - val_auc: 0.8504\n",
      "Epoch 44/100\n",
      "3/3 [==============================] - 0s 40ms/step - loss: 0.1893 - f1_m: 0.3552 - precision_m: 0.7458 - recall_m: 0.2331 - auc: 0.9385 - val_loss: 0.2370 - val_f1_m: 0.2857 - val_precision_m: 1.0000 - val_recall_m: 0.1667 - val_auc: 0.8341\n",
      "Epoch 45/100\n",
      "3/3 [==============================] - 0s 37ms/step - loss: 0.2080 - f1_m: 0.3910 - precision_m: 0.7552 - recall_m: 0.2669 - auc: 0.9165 - val_loss: 0.2409 - val_f1_m: 0.2857 - val_precision_m: 1.0000 - val_recall_m: 0.1667 - val_auc: 0.8052\n",
      "Epoch 46/100\n",
      "3/3 [==============================] - 0s 37ms/step - loss: 0.1849 - f1_m: 0.4065 - precision_m: 0.7617 - recall_m: 0.2773 - auc: 0.9468 - val_loss: 0.2481 - val_f1_m: 0.2857 - val_precision_m: 1.0000 - val_recall_m: 0.1667 - val_auc: 0.7781\n",
      "Epoch 47/100\n",
      "3/3 [==============================] - 0s 37ms/step - loss: 0.2033 - f1_m: 0.4144 - precision_m: 0.8646 - recall_m: 0.2756 - auc: 0.9369 - val_loss: 0.2519 - val_f1_m: 0.3333 - val_precision_m: 1.0000 - val_recall_m: 0.2000 - val_auc: 0.7693\n",
      "Epoch 48/100\n",
      "3/3 [==============================] - 0s 40ms/step - loss: 0.1975 - f1_m: 0.4424 - precision_m: 1.0000 - recall_m: 0.3320 - auc: 0.9290 - val_loss: 0.2475 - val_f1_m: 0.3333 - val_precision_m: 1.0000 - val_recall_m: 0.2000 - val_auc: 0.7788\n",
      "Epoch 49/100\n",
      "3/3 [==============================] - 0s 38ms/step - loss: 0.1805 - f1_m: 0.5107 - precision_m: 0.9639 - recall_m: 0.3563 - auc: 0.9435 - val_loss: 0.2375 - val_f1_m: 0.4211 - val_precision_m: 1.0000 - val_recall_m: 0.2667 - val_auc: 0.8056\n",
      "Epoch 50/100\n",
      "3/3 [==============================] - 0s 38ms/step - loss: 0.1895 - f1_m: 0.3758 - precision_m: 0.7656 - recall_m: 0.2552 - auc: 0.9489 - val_loss: 0.2281 - val_f1_m: 0.4615 - val_precision_m: 1.0000 - val_recall_m: 0.3000 - val_auc: 0.8272\n",
      "Epoch 51/100\n",
      "3/3 [==============================] - 0s 37ms/step - loss: 0.1742 - f1_m: 0.4355 - precision_m: 0.8333 - recall_m: 0.2969 - auc: 0.9642 - val_loss: 0.2290 - val_f1_m: 0.5581 - val_precision_m: 0.9231 - val_recall_m: 0.4000 - val_auc: 0.8424\n",
      "Epoch 52/100\n",
      "3/3 [==============================] - 0s 38ms/step - loss: 0.1651 - f1_m: 0.6539 - precision_m: 0.9138 - recall_m: 0.5299 - auc: 0.9511 - val_loss: 0.2278 - val_f1_m: 0.5714 - val_precision_m: 1.0000 - val_recall_m: 0.4000 - val_auc: 0.8374\n",
      "Epoch 53/100\n",
      "3/3 [==============================] - 0s 38ms/step - loss: 0.1848 - f1_m: 0.5583 - precision_m: 0.8755 - recall_m: 0.4136 - auc: 0.9502 - val_loss: 0.2172 - val_f1_m: 0.5366 - val_precision_m: 1.0000 - val_recall_m: 0.3667 - val_auc: 0.8379\n",
      "Epoch 54/100\n",
      "3/3 [==============================] - 0s 38ms/step - loss: 0.1649 - f1_m: 0.6545 - precision_m: 0.8677 - recall_m: 0.5417 - auc: 0.9563 - val_loss: 0.2221 - val_f1_m: 0.5366 - val_precision_m: 1.0000 - val_recall_m: 0.3667 - val_auc: 0.8251\n",
      "Epoch 55/100\n",
      "3/3 [==============================] - 0s 38ms/step - loss: 0.1508 - f1_m: 0.5490 - precision_m: 0.7696 - recall_m: 0.4271 - auc: 0.9630 - val_loss: 0.2352 - val_f1_m: 0.5116 - val_precision_m: 0.8462 - val_recall_m: 0.3667 - val_auc: 0.8109\n",
      "Epoch 56/100\n",
      "3/3 [==============================] - 0s 37ms/step - loss: 0.1609 - f1_m: 0.6650 - precision_m: 0.9188 - recall_m: 0.5265 - auc: 0.9570 - val_loss: 0.2503 - val_f1_m: 0.5116 - val_precision_m: 0.8462 - val_recall_m: 0.3667 - val_auc: 0.8038\n",
      "Epoch 57/100\n",
      "3/3 [==============================] - 0s 42ms/step - loss: 0.1323 - f1_m: 0.7566 - precision_m: 0.9462 - recall_m: 0.6306 - auc: 0.9735 - val_loss: 0.2376 - val_f1_m: 0.5116 - val_precision_m: 0.8462 - val_recall_m: 0.3667 - val_auc: 0.8223\n",
      "Epoch 58/100\n",
      "3/3 [==============================] - 0s 37ms/step - loss: 0.1470 - f1_m: 0.7361 - precision_m: 0.8719 - recall_m: 0.6445 - auc: 0.9711 - val_loss: 0.2207 - val_f1_m: 0.5116 - val_precision_m: 0.8462 - val_recall_m: 0.3667 - val_auc: 0.8402\n",
      "Epoch 59/100\n",
      "3/3 [==============================] - 0s 38ms/step - loss: 0.1419 - f1_m: 0.6390 - precision_m: 0.8796 - recall_m: 0.5030 - auc: 0.9650 - val_loss: 0.2167 - val_f1_m: 0.5714 - val_precision_m: 1.0000 - val_recall_m: 0.4000 - val_auc: 0.8438\n",
      "Epoch 60/100\n",
      "3/3 [==============================] - 0s 39ms/step - loss: 0.1459 - f1_m: 0.7446 - precision_m: 0.8750 - recall_m: 0.6502 - auc: 0.9740 - val_loss: 0.2198 - val_f1_m: 0.5714 - val_precision_m: 1.0000 - val_recall_m: 0.4000 - val_auc: 0.8451\n",
      "Epoch 61/100\n",
      "3/3 [==============================] - 0s 37ms/step - loss: 0.1400 - f1_m: 0.6796 - precision_m: 0.9010 - recall_m: 0.5608 - auc: 0.9798 - val_loss: 0.2154 - val_f1_m: 0.5366 - val_precision_m: 1.0000 - val_recall_m: 0.3667 - val_auc: 0.8501\n",
      "Epoch 62/100\n",
      "3/3 [==============================] - 0s 39ms/step - loss: 0.1290 - f1_m: 0.7047 - precision_m: 0.9369 - recall_m: 0.5764 - auc: 0.9778 - val_loss: 0.2128 - val_f1_m: 0.5581 - val_precision_m: 0.9231 - val_recall_m: 0.4000 - val_auc: 0.8590\n",
      "Epoch 63/100\n"
     ]
    },
    {
     "name": "stdout",
     "output_type": "stream",
     "text": [
      "3/3 [==============================] - 0s 37ms/step - loss: 0.1246 - f1_m: 0.8319 - precision_m: 0.9754 - recall_m: 0.7318 - auc: 0.9925 - val_loss: 0.2138 - val_f1_m: 0.5581 - val_precision_m: 0.9231 - val_recall_m: 0.4000 - val_auc: 0.8653\n",
      "Epoch 64/100\n",
      "3/3 [==============================] - 0s 37ms/step - loss: 0.1119 - f1_m: 0.7368 - precision_m: 0.8591 - recall_m: 0.6454 - auc: 0.9907 - val_loss: 0.2122 - val_f1_m: 0.5714 - val_precision_m: 1.0000 - val_recall_m: 0.4000 - val_auc: 0.8726\n",
      "Epoch 65/100\n",
      "3/3 [==============================] - 0s 38ms/step - loss: 0.1067 - f1_m: 0.8163 - precision_m: 0.9651 - recall_m: 0.7088 - auc: 0.9941 - val_loss: 0.2049 - val_f1_m: 0.5455 - val_precision_m: 0.8571 - val_recall_m: 0.4000 - val_auc: 0.8781\n",
      "Epoch 66/100\n",
      "3/3 [==============================] - 0s 39ms/step - loss: 0.1078 - f1_m: 0.8535 - precision_m: 1.0000 - recall_m: 0.7452 - auc: 0.9936 - val_loss: 0.1963 - val_f1_m: 0.6383 - val_precision_m: 0.8824 - val_recall_m: 0.5000 - val_auc: 0.8829\n",
      "Epoch 67/100\n",
      "3/3 [==============================] - 0s 38ms/step - loss: 0.1080 - f1_m: 0.8370 - precision_m: 0.9742 - recall_m: 0.7422 - auc: 0.9923 - val_loss: 0.2003 - val_f1_m: 0.6000 - val_precision_m: 0.7500 - val_recall_m: 0.5000 - val_auc: 0.8819\n",
      "Epoch 68/100\n",
      "3/3 [==============================] - 0s 37ms/step - loss: 0.1087 - f1_m: 0.8522 - precision_m: 0.9470 - recall_m: 0.7778 - auc: 0.9899 - val_loss: 0.2093 - val_f1_m: 0.6000 - val_precision_m: 0.7500 - val_recall_m: 0.5000 - val_auc: 0.8849\n",
      "Epoch 69/100\n",
      "3/3 [==============================] - 0s 38ms/step - loss: 0.1100 - f1_m: 0.8729 - precision_m: 0.9383 - recall_m: 0.8177 - auc: 0.9847 - val_loss: 0.2178 - val_f1_m: 0.5532 - val_precision_m: 0.7647 - val_recall_m: 0.4333 - val_auc: 0.8852\n",
      "Epoch 70/100\n",
      "3/3 [==============================] - 0s 38ms/step - loss: 0.1152 - f1_m: 0.8093 - precision_m: 0.9283 - recall_m: 0.7240 - auc: 0.9874 - val_loss: 0.2135 - val_f1_m: 0.5833 - val_precision_m: 0.7778 - val_recall_m: 0.4667 - val_auc: 0.8886\n",
      "Epoch 71/100\n",
      "3/3 [==============================] - 0s 37ms/step - loss: 0.0818 - f1_m: 0.9020 - precision_m: 0.9617 - recall_m: 0.8559 - auc: 0.9978 - val_loss: 0.2029 - val_f1_m: 0.6383 - val_precision_m: 0.8824 - val_recall_m: 0.5000 - val_auc: 0.8859\n",
      "Epoch 72/100\n",
      "3/3 [==============================] - 0s 39ms/step - loss: 0.0917 - f1_m: 0.8955 - precision_m: 0.9687 - recall_m: 0.8346 - auc: 0.9914 - val_loss: 0.1976 - val_f1_m: 0.6087 - val_precision_m: 0.8750 - val_recall_m: 0.4667 - val_auc: 0.8783\n",
      "Epoch 73/100\n",
      "3/3 [==============================] - 0s 38ms/step - loss: 0.0839 - f1_m: 0.8720 - precision_m: 0.9692 - recall_m: 0.7999 - auc: 0.9969 - val_loss: 0.1995 - val_f1_m: 0.6383 - val_precision_m: 0.8824 - val_recall_m: 0.5000 - val_auc: 0.8772\n",
      "Epoch 74/100\n",
      "3/3 [==============================] - 0s 38ms/step - loss: 0.0832 - f1_m: 0.8900 - precision_m: 1.0000 - recall_m: 0.8073 - auc: 0.9973 - val_loss: 0.2142 - val_f1_m: 0.6122 - val_precision_m: 0.7895 - val_recall_m: 0.5000 - val_auc: 0.8740\n",
      "Epoch 75/100\n",
      "3/3 [==============================] - 0s 36ms/step - loss: 0.0809 - f1_m: 0.9096 - precision_m: 0.9899 - recall_m: 0.8451 - auc: 0.9974 - val_loss: 0.2352 - val_f1_m: 0.5556 - val_precision_m: 0.6250 - val_recall_m: 0.5000 - val_auc: 0.8612\n",
      "Epoch 76/100\n",
      "3/3 [==============================] - 0s 40ms/step - loss: 0.0948 - f1_m: 0.8463 - precision_m: 0.9247 - recall_m: 0.7826 - auc: 0.9908 - val_loss: 0.2341 - val_f1_m: 0.5660 - val_precision_m: 0.6522 - val_recall_m: 0.5000 - val_auc: 0.8683\n",
      "Epoch 77/100\n",
      "3/3 [==============================] - 0s 38ms/step - loss: 0.0789 - f1_m: 0.8830 - precision_m: 0.9799 - recall_m: 0.8064 - auc: 0.9925 - val_loss: 0.2104 - val_f1_m: 0.6122 - val_precision_m: 0.7895 - val_recall_m: 0.5000 - val_auc: 0.8809\n",
      "Epoch 78/100\n",
      "3/3 [==============================] - 0s 39ms/step - loss: 0.0810 - f1_m: 0.8968 - precision_m: 0.9591 - recall_m: 0.8438 - auc: 0.9922 - val_loss: 0.2062 - val_f1_m: 0.6087 - val_precision_m: 0.8750 - val_recall_m: 0.4667 - val_auc: 0.8737\n",
      "Epoch 79/100\n",
      "3/3 [==============================] - 0s 40ms/step - loss: 0.0641 - f1_m: 0.9161 - precision_m: 0.9899 - recall_m: 0.8572 - auc: 0.9994 - val_loss: 0.2192 - val_f1_m: 0.6522 - val_precision_m: 0.9375 - val_recall_m: 0.5000 - val_auc: 0.8608\n",
      "Epoch 80/100\n",
      "3/3 [==============================] - 0s 39ms/step - loss: 0.0761 - f1_m: 0.9297 - precision_m: 0.9609 - recall_m: 0.9023 - auc: 0.9975 - val_loss: 0.2203 - val_f1_m: 0.6250 - val_precision_m: 0.8333 - val_recall_m: 0.5000 - val_auc: 0.8679\n",
      "Epoch 81/100\n",
      "3/3 [==============================] - 0s 38ms/step - loss: 0.0654 - f1_m: 0.9400 - precision_m: 0.9899 - recall_m: 0.8958 - auc: 0.9983 - val_loss: 0.2156 - val_f1_m: 0.6939 - val_precision_m: 0.8947 - val_recall_m: 0.5667 - val_auc: 0.8768\n",
      "Epoch 82/100\n",
      "3/3 [==============================] - 0s 38ms/step - loss: 0.0625 - f1_m: 0.9578 - precision_m: 1.0000 - recall_m: 0.9206 - auc: 0.9994 - val_loss: 0.2129 - val_f1_m: 0.6275 - val_precision_m: 0.7619 - val_recall_m: 0.5333 - val_auc: 0.8868\n",
      "Epoch 83/100\n",
      "3/3 [==============================] - 0s 38ms/step - loss: 0.0654 - f1_m: 0.9237 - precision_m: 0.9538 - recall_m: 0.8958 - auc: 0.9979 - val_loss: 0.2200 - val_f1_m: 0.6122 - val_precision_m: 0.7895 - val_recall_m: 0.5000 - val_auc: 0.8870\n",
      "Epoch 84/100\n",
      "3/3 [==============================] - 0s 37ms/step - loss: 0.0496 - f1_m: 0.9503 - precision_m: 0.9725 - recall_m: 0.9297 - auc: 0.9992 - val_loss: 0.2320 - val_f1_m: 0.5882 - val_precision_m: 0.7143 - val_recall_m: 0.5000 - val_auc: 0.8844\n",
      "Epoch 85/100\n",
      "3/3 [==============================] - 0s 37ms/step - loss: 0.0578 - f1_m: 0.9603 - precision_m: 0.9731 - recall_m: 0.9479 - auc: 0.9995 - val_loss: 0.2432 - val_f1_m: 0.5455 - val_precision_m: 0.6000 - val_recall_m: 0.5000 - val_auc: 0.8697\n",
      "Epoch 86/100\n",
      "3/3 [==============================] - 0s 39ms/step - loss: 0.0560 - f1_m: 0.9034 - precision_m: 0.9162 - recall_m: 0.8911 - auc: 0.9971 - val_loss: 0.2561 - val_f1_m: 0.5455 - val_precision_m: 0.6000 - val_recall_m: 0.5000 - val_auc: 0.8623\n",
      "Epoch 87/100\n",
      "3/3 [==============================] - 0s 38ms/step - loss: 0.0500 - f1_m: 0.9599 - precision_m: 0.9825 - recall_m: 0.9388 - auc: 0.9989 - val_loss: 0.2599 - val_f1_m: 0.5185 - val_precision_m: 0.5833 - val_recall_m: 0.4667 - val_auc: 0.8519\n",
      "Epoch 88/100\n",
      "3/3 [==============================] - 0s 40ms/step - loss: 0.0705 - f1_m: 0.9210 - precision_m: 0.9367 - recall_m: 0.9062 - auc: 0.9985 - val_loss: 0.2546 - val_f1_m: 0.4444 - val_precision_m: 0.5000 - val_recall_m: 0.4000 - val_auc: 0.8528\n",
      "Epoch 89/100\n",
      "3/3 [==============================] - 0s 37ms/step - loss: 0.0483 - f1_m: 0.9177 - precision_m: 0.9637 - recall_m: 0.8832 - auc: 0.9979 - val_loss: 0.2453 - val_f1_m: 0.4706 - val_precision_m: 0.5714 - val_recall_m: 0.4000 - val_auc: 0.8603\n",
      "Epoch 90/100\n",
      "3/3 [==============================] - 0s 37ms/step - loss: 0.0522 - f1_m: 0.9020 - precision_m: 0.9398 - recall_m: 0.8754 - auc: 0.9993 - val_loss: 0.2318 - val_f1_m: 0.5306 - val_precision_m: 0.6842 - val_recall_m: 0.4333 - val_auc: 0.8624\n",
      "Epoch 91/100\n",
      "3/3 [==============================] - 0s 39ms/step - loss: 0.0396 - f1_m: 0.9825 - precision_m: 1.0000 - recall_m: 0.9661 - auc: 0.9997 - val_loss: 0.2316 - val_f1_m: 0.5600 - val_precision_m: 0.7000 - val_recall_m: 0.4667 - val_auc: 0.8726\n",
      "Epoch 92/100\n",
      "3/3 [==============================] - 0s 39ms/step - loss: 0.0594 - f1_m: 0.9066 - precision_m: 0.9799 - recall_m: 0.8481 - auc: 0.9972 - val_loss: 0.2241 - val_f1_m: 0.6275 - val_precision_m: 0.7619 - val_recall_m: 0.5333 - val_auc: 0.8799\n",
      "Epoch 93/100\n",
      "3/3 [==============================] - 0s 36ms/step - loss: 0.0447 - f1_m: 0.9667 - precision_m: 1.0000 - recall_m: 0.9444 - auc: 1.0000 - val_loss: 0.2251 - val_f1_m: 0.6154 - val_precision_m: 0.7273 - val_recall_m: 0.5333 - val_auc: 0.8752\n",
      "Epoch 94/100\n",
      "3/3 [==============================] - 0s 40ms/step - loss: 0.0389 - f1_m: 0.9861 - precision_m: 0.9906 - recall_m: 0.9818 - auc: 0.9999 - val_loss: 0.2347 - val_f1_m: 0.5818 - val_precision_m: 0.6400 - val_recall_m: 0.5333 - val_auc: 0.8547\n",
      "Epoch 95/100\n"
     ]
    },
    {
     "name": "stdout",
     "output_type": "stream",
     "text": [
      "3/3 [==============================] - 0s 37ms/step - loss: 0.0501 - f1_m: 0.9696 - precision_m: 0.9825 - recall_m: 0.9570 - auc: 0.9987 - val_loss: 0.2359 - val_f1_m: 0.6296 - val_precision_m: 0.7083 - val_recall_m: 0.5667 - val_auc: 0.8757\n",
      "Epoch 96/100\n",
      "3/3 [==============================] - 0s 38ms/step - loss: 0.0362 - f1_m: 0.9868 - precision_m: 1.0000 - recall_m: 0.9740 - auc: 0.9999 - val_loss: 0.2403 - val_f1_m: 0.6154 - val_precision_m: 0.7273 - val_recall_m: 0.5333 - val_auc: 0.8744\n",
      "Epoch 97/100\n",
      "3/3 [==============================] - 0s 40ms/step - loss: 0.0389 - f1_m: 0.9868 - precision_m: 1.0000 - recall_m: 0.9740 - auc: 1.0000 - val_loss: 0.2452 - val_f1_m: 0.6275 - val_precision_m: 0.7619 - val_recall_m: 0.5333 - val_auc: 0.8724\n",
      "Epoch 98/100\n",
      "3/3 [==============================] - 0s 36ms/step - loss: 0.0398 - f1_m: 0.9831 - precision_m: 0.9831 - recall_m: 0.9831 - auc: 0.9999 - val_loss: 0.2556 - val_f1_m: 0.6275 - val_precision_m: 0.7619 - val_recall_m: 0.5333 - val_auc: 0.8715\n",
      "Epoch 99/100\n",
      "3/3 [==============================] - 0s 38ms/step - loss: 0.0394 - f1_m: 0.9548 - precision_m: 0.9825 - recall_m: 0.9297 - auc: 0.9991 - val_loss: 0.2652 - val_f1_m: 0.6122 - val_precision_m: 0.7895 - val_recall_m: 0.5000 - val_auc: 0.8709\n",
      "Epoch 100/100\n",
      "3/3 [==============================] - 0s 36ms/step - loss: 0.0291 - f1_m: 0.9497 - precision_m: 0.9831 - recall_m: 0.9275 - auc: 0.9998 - val_loss: 0.2481 - val_f1_m: 0.6667 - val_precision_m: 0.8095 - val_recall_m: 0.5667 - val_auc: 0.8684\n"
     ]
    },
    {
     "data": {
      "text/plain": [
       "<tensorflow.python.keras.callbacks.History at 0x7fe950081100>"
      ]
     },
     "execution_count": 21,
     "metadata": {},
     "output_type": "execute_result"
    }
   ],
   "source": [
    "Malware_model.fit(X_train, y_train, validation_data=(X_test, y_test), epochs=100,  class_weight=class_weights)"
   ]
  },
  {
   "cell_type": "code",
   "execution_count": 22,
   "id": "4471392c",
   "metadata": {},
   "outputs": [
    {
     "name": "stdout",
     "output_type": "stream",
     "text": [
      "1/1 [==============================] - 0s 21ms/step - loss: 0.2481 - f1_m: 0.6667 - precision_m: 0.8095 - recall_m: 0.5667 - auc: 0.8684\n"
     ]
    }
   ],
   "source": [
    "scores = Malware_model.evaluate(X_test, y_test)"
   ]
  },
  {
   "cell_type": "code",
   "execution_count": 23,
   "id": "af5d617f",
   "metadata": {},
   "outputs": [
    {
     "name": "stdout",
     "output_type": "stream",
     "text": [
      "1/1 [==============================] - 0s 21ms/step - loss: 0.2481 - f1_m: 0.6667 - precision_m: 0.8095 - recall_m: 0.5667 - auc: 0.8684\n"
     ]
    }
   ],
   "source": [
    "loss, accuracy, f1_score, precision, recall = Malware_model.evaluate(X_test, y_test)"
   ]
  },
  {
   "cell_type": "code",
   "execution_count": 24,
   "id": "dbcee16a",
   "metadata": {},
   "outputs": [
    {
     "name": "stdout",
     "output_type": "stream",
     "text": [
      "Final CNN accuracy:  0.666666567325592\n"
     ]
    }
   ],
   "source": [
    "print('Final CNN accuracy: ', scores[1])"
   ]
  }
 ],
 "metadata": {
  "kernelspec": {
   "display_name": "Python 3 (ipykernel)",
   "language": "python",
   "name": "python3"
  },
  "language_info": {
   "codemirror_mode": {
    "name": "ipython",
    "version": 3
   },
   "file_extension": ".py",
   "mimetype": "text/x-python",
   "name": "python",
   "nbconvert_exporter": "python",
   "pygments_lexer": "ipython3",
   "version": "3.9.16"
  }
 },
 "nbformat": 4,
 "nbformat_minor": 5
}
