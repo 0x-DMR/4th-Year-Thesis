{
 "cells": [
  {
   "cell_type": "code",
   "execution_count": 1,
   "id": "e1c748fb",
   "metadata": {},
   "outputs": [
    {
     "name": "stderr",
     "output_type": "stream",
     "text": [
      "2023-05-05 15:11:01.220013: I tensorflow/stream_executor/platform/default/dso_loader.cc:49] Successfully opened dynamic library libcudart.so.10.1\n"
     ]
    },
    {
     "name": "stdout",
     "output_type": "stream",
     "text": [
      "Found 97 images belonging to 11 classes.\n",
      "Number of Images and Size of Images:  (97, 64, 64, 3)\n",
      "Number of Images and Families:  (97, 11)\n"
     ]
    }
   ],
   "source": [
    "# The following section is used to generate information about the datasets so these \n",
    "# variables can be initialised in the CNN Model. The information gathered here will\n",
    "# also be used to determine an appropiate size of the training and testing datasets.\n",
    "import os                                                   # Import os to change the information surrounding the enviroment \n",
    "from keras.preprocessing.image import ImageDataGenerator    # Create tensorflow image batches using data augmentation.\n",
    "os.environ['TF_XLA_FLAGS'] = '--tf_xla_enable_xla_devices'\n",
    "locationOfDataset = '/home/dmr/DatasetForExperiments/scareware/'\n",
    "batches = ImageDataGenerator().flow_from_directory(directory=locationOfDataset, target_size=(64,64), batch_size=970)\n",
    "\n",
    "# Print information about Images \n",
    "imgs, labels = next(batches)\n",
    "print(\"Number of Images and Size of Images: \",imgs.shape) # Images with width x length x depth\n",
    "print(\"Number of Images and Families: \",labels.shape) # Lablels with batch_size, number of classes"
   ]
  },
  {
   "cell_type": "code",
   "execution_count": 2,
   "id": "678032d1",
   "metadata": {},
   "outputs": [
    {
     "name": "stdout",
     "output_type": "stream",
     "text": [
      "Number of Samples in Training Set:  (67, 11)\n",
      "Number of Samples in Testing Set:  (30, 11)\n"
     ]
    }
   ],
   "source": [
    "# This section will cover the necessary steps used to split the scareware dataset\n",
    "# into training and testing to evaluate the effectiveness of this convolutional neural \n",
    "# network model based on the scareware samples.\n",
    "import numpy as np                                   # Provides the ability to use numerical data to convert the .dex files to greyscale images\n",
    "import scipy as sp                                   # Provides the use of algorithms to be used \n",
    "from PIL import Image                                # Allow for processing of images\n",
    "\n",
    "# Splitting the Dataset into Training and testing with a test size of 30% of overall \n",
    "# samples in the dataset. \n",
    "from sklearn.model_selection import train_test_split    # Used to split the dataset\n",
    "\n",
    "# Split up the data set, 10% testing 90% training\n",
    "trainX, testX, trainY, testY = train_test_split(imgs/255.,labels, test_size=0.3)\n",
    "\n",
    "# Print the information regarding the training and testing sample sizes\n",
    "#print(\"Size of Training Set: \", trainX.shape)                   # Print training set information\n",
    "#print(\"Size of Testing Set: \",testX.shape)                      # Print testing set information\n",
    "print(\"Number of Samples in Training Set: \",trainY.shape)   # Print training set information\n",
    "print(\"Number of Samples in Testing Set: \",testY.shape)     # Print testing set information"
   ]
  },
  {
   "cell_type": "code",
   "execution_count": 3,
   "id": "612d65d2",
   "metadata": {},
   "outputs": [],
   "source": [
    "# The Convolutional Neural Network Model\n",
    "# This section will encompass the aspects surrounding the convultional neural network\n",
    "# which was used for the experimentation of this research. \n",
    "import keras                                            # Import keras\n",
    "import tensorflow                                       # Import tensorflow\n",
    "from keras.models import Sequential, Input, Model       # Used for CNN model regarding Models\n",
    "from keras.layers import Dense, Dropout, Flatten        # Used for CNN model regarding Layers\n",
    "from keras.layers import Conv2D, MaxPooling2D           # Used for CNN model regarding Layers\n",
    "from tensorflow.keras.layers import BatchNormalization  # Layer used to normalise inputs\n",
    "from tensorflow.keras.metrics import AUC                # Used estimate to Area Under Curve\n",
    "\n",
    "noOfFamilies = 11 # Number of Families in the Sample\n",
    "\n",
    "# Function used to create the layers of the convolutional neural network model. These parameters were\n",
    "# constantly changed throughout testing in order to obtain the best possible results. Within this model \n",
    "# there are 10 main layers and each layers parameters are explained in detail. \n",
    "def CNNModel():\n",
    "    CNNModel = Sequential()        # Sequential Model is used the experiments\n",
    "\n",
    "    # Convolutional Layer: With relu Activation, 31 filters, and a kernel size of 3 x 3\n",
    "    CNNModel.add(Conv2D(31, kernel_size=(3, 3),\n",
    "                     activation='relu',\n",
    "                     input_shape=(64,64,3)))                # Layer 1 \n",
    "\n",
    "    # Max Pooling Layer: With a pool size of 2 x 2\n",
    "    CNNModel.add(MaxPooling2D(pool_size=(2, 2)))            # Layer 2\n",
    "    \n",
    "    # Convolutional Layer: 17 filters and kernel size of 3 x 3 \n",
    "    CNNModel.add(Conv2D(18, (3, 3), activation='relu'))     # Layer 3\n",
    "    \n",
    "    # Max Pooling Layer: Pool size of 2 x 2 \n",
    "    CNNModel.add(MaxPooling2D(pool_size=(2, 2)))            # Layer 4\n",
    "    \n",
    "    # Drop Out Layer: This layer used to drop 25% of neurons in the model .\n",
    "    CNNModel.add(Dropout(0.25))                             # Layer 5\n",
    "    \n",
    "    # Flatten Layer\n",
    "    CNNModel.add(Flatten())                                 # Layer 6\n",
    "    \n",
    "    # Dense/Fully Connected Layer : 128 Neurons using the relu activation function\n",
    "    CNNModel.add(Dense(128, activation='relu'))             # Layer 7\n",
    "    \n",
    "    # Drop Out Layer: This layer used to drop 50% of neurons in the model.\n",
    "    CNNModel.add(Dropout(0.5))                              # Layer 8\n",
    "    \n",
    "    # Dense/Fully Connected Layer : 50 Neurons using the relu activation function\n",
    "    CNNModel.add(Dense(50, activation='relu'))              # Layer 9\n",
    "    \n",
    "    # Dense/Fully Connected Layer : number of families neurons, using the softmax activation function\n",
    "    CNNModel.add(Dense(noOfFamilies, activation='softmax')) # Layer 10\n",
    "    \n",
    "    CNNModel.compile(loss='categorical_crossentropy', optimizer = 'adam', metrics=['accuracy'])\n",
    "    return CNNModel     # Return the Convolutional Neural Network Model"
   ]
  },
  {
   "cell_type": "code",
   "execution_count": 4,
   "id": "43cddf0f",
   "metadata": {},
   "outputs": [],
   "source": [
    "# Measure the effectiveness of the model. This section is used to generate the results of the \n",
    "# corresponding convolutional neural network. For the purpose of this mode, there are three main \n",
    "# measurements which have to be declared. These are recall, preicision and f1. Listed below\n",
    "# are the neccessary formulas which are required to obtain these results.\n",
    "from keras import backend as K\n",
    "\n",
    "# Recall Measurement\n",
    "def recallMeasurement(testY, yPrediction):\n",
    "    true_positives = K.sum(K.round(K.clip(testY * yPrediction, 0, 1)))\n",
    "    possible_positives = K.sum(K.round(K.clip(testY, 0, 1)))\n",
    "    recall = true_positives / (possible_positives + K.epsilon())\n",
    "    return recall\n",
    "\n",
    "# Precision Measurement\n",
    "def precisionMeasurement(testY, yPrediction):\n",
    "    true_positives = K.sum(K.round(K.clip(testY * yPrediction, 0, 1)))\n",
    "    predicted_positives = K.sum(K.round(K.clip(yPrediction, 0, 1)))\n",
    "    precision = true_positives / (predicted_positives + K.epsilon())\n",
    "    return precision\n",
    "\n",
    "# F1 Measurement\n",
    "def f1Measurement(testY, yPrediction):\n",
    "    precision = precisionMeasurement(testY, yPrediction)\n",
    "    recall = recallMeasurement(testY, yPrediction)\n",
    "    return 2*((precision*recall)/(precision+recall+K.epsilon()))"
   ]
  },
  {
   "cell_type": "code",
   "execution_count": 5,
   "id": "3d135f36",
   "metadata": {},
   "outputs": [
    {
     "name": "stderr",
     "output_type": "stream",
     "text": [
      "2023-05-05 15:11:04.623037: I tensorflow/stream_executor/platform/default/dso_loader.cc:49] Successfully opened dynamic library libcuda.so.1\n",
      "2023-05-05 15:11:04.946134: E tensorflow/stream_executor/cuda/cuda_driver.cc:328] failed call to cuInit: CUDA_ERROR_NO_DEVICE: no CUDA-capable device is detected\n",
      "2023-05-05 15:11:04.946183: I tensorflow/stream_executor/cuda/cuda_diagnostics.cc:156] kernel driver does not appear to be running on this host (pop-os): /proc/driver/nvidia/version does not exist\n",
      "2023-05-05 15:11:04.946926: I tensorflow/core/platform/cpu_feature_guard.cc:142] This TensorFlow binary is optimized with oneAPI Deep Neural Network Library (oneDNN) to use the following CPU instructions in performance-critical operations:  SSE4.1 SSE4.2 AVX AVX2 FMA\n",
      "To enable them in other operations, rebuild TensorFlow with the appropriate compiler flags.\n",
      "2023-05-05 15:11:04.956122: I tensorflow/core/platform/profile_utils/cpu_utils.cc:112] CPU Frequency: 1999965000 Hz\n",
      "2023-05-05 15:11:04.956769: I tensorflow/compiler/xla/service/service.cc:168] XLA service 0x28a14e0 initialized for platform Host (this does not guarantee that XLA will be used). Devices:\n",
      "2023-05-05 15:11:04.956800: I tensorflow/compiler/xla/service/service.cc:176]   StreamExecutor device (0): Host, Default Version\n"
     ]
    }
   ],
   "source": [
    "# Initialise the Model\n",
    "CNNModel = CNNModel()"
   ]
  },
  {
   "cell_type": "code",
   "execution_count": 6,
   "id": "4f9fc651",
   "metadata": {},
   "outputs": [
    {
     "name": "stdout",
     "output_type": "stream",
     "text": [
      "Model: \"sequential\"\n",
      "_________________________________________________________________\n",
      "Layer (type)                 Output Shape              Param #   \n",
      "=================================================================\n",
      "conv2d (Conv2D)              (None, 62, 62, 31)        868       \n",
      "_________________________________________________________________\n",
      "max_pooling2d (MaxPooling2D) (None, 31, 31, 31)        0         \n",
      "_________________________________________________________________\n",
      "conv2d_1 (Conv2D)            (None, 29, 29, 18)        5040      \n",
      "_________________________________________________________________\n",
      "max_pooling2d_1 (MaxPooling2 (None, 14, 14, 18)        0         \n",
      "_________________________________________________________________\n",
      "dropout (Dropout)            (None, 14, 14, 18)        0         \n",
      "_________________________________________________________________\n",
      "flatten (Flatten)            (None, 3528)              0         \n",
      "_________________________________________________________________\n",
      "dense (Dense)                (None, 128)               451712    \n",
      "_________________________________________________________________\n",
      "dropout_1 (Dropout)          (None, 128)               0         \n",
      "_________________________________________________________________\n",
      "dense_1 (Dense)              (None, 50)                6450      \n",
      "_________________________________________________________________\n",
      "dense_2 (Dense)              (None, 11)                561       \n",
      "=================================================================\n",
      "Total params: 464,631\n",
      "Trainable params: 464,631\n",
      "Non-trainable params: 0\n",
      "_________________________________________________________________\n"
     ]
    }
   ],
   "source": [
    "# Print the Information of the Model. This includes the information surrounding \n",
    "# the layers of the models as well as the number of total parameters\n",
    "CNNModel.summary()"
   ]
  },
  {
   "cell_type": "code",
   "execution_count": 7,
   "id": "45305f00",
   "metadata": {},
   "outputs": [
    {
     "data": {
      "text/plain": [
       "array([ 5,  1,  8,  7,  6,  0, 10,  5,  5,  6,  4,  7,  9,  4,  1, 10,  3,\n",
       "        1,  5,  7,  3,  5,  6, 10,  3,  1,  2,  0,  6,  8, 10, 10,  8,  4,\n",
       "        9,  5,  9,  3,  6,  8,  4,  2,  6,  7,  1,  1,  7,  1,  7, 10,  9,\n",
       "        1,  3,  8,  7,  8,  9,  2,  9,  2,  4,  5,  3, 10,  3,  8,  1])"
      ]
     },
     "execution_count": 7,
     "metadata": {},
     "output_type": "execute_result"
    }
   ],
   "source": [
    "trainY.shape                            # Returns the shape of the trainY array \n",
    "trainY_new = np.argmax(trainY, axis=1)  # Converts the trainY array to an array of integers \n",
    "trainY_new                              # Returns the array of integer labels"
   ]
  },
  {
   "cell_type": "code",
   "execution_count": 8,
   "id": "78a23209",
   "metadata": {},
   "outputs": [],
   "source": [
    "# This section of the model imports the class_weight function from the sklearn.utils \n",
    "# library. This is used to compute the class weights for a multi-class classification problem.\n",
    "# The weightOfModel computes the class weights based on the class distribution found in the \n",
    "# training set. The class_weight parameter is set to balanced which means that the class \n",
    "# weights are automatically adjusted in acorrdance with the information obtained from the \n",
    "# input data.\n",
    "\n",
    "from sklearn.utils import class_weight # Used to compute the class weights for a multi-class classification system\n",
    "weightOfModel = class_weight.compute_class_weight(class_weight = 'balanced',\n",
    "                                                 classes = np.unique(trainY_new),\n",
    "                                                 y = trainY_new)\n",
    "\n",
    "# This code is used to map each unique class label in the training set trainY_new variable. \n",
    "# This is then uses the class_weight variable initialised above. \n",
    "weightOfModel = {l:c for l,c in zip(np.unique(trainY_new), weightOfModel)}"
   ]
  },
  {
   "cell_type": "code",
   "execution_count": 9,
   "id": "b2d1340c",
   "metadata": {},
   "outputs": [],
   "source": [
    "# This is used to compile the Convolutional Neural network Model. It uses the adam optimiser, \n",
    "# computes loss using binary_crossentropy and then calculates the measurements listed before.\n",
    "CNNModel.compile(optimizer='adam', \n",
    "                    loss='binary_crossentropy', \n",
    "                    metrics=[f1Measurement,precisionMeasurement, \n",
    "                    recallMeasurement,\n",
    "                    AUC()])"
   ]
  },
  {
   "cell_type": "code",
   "execution_count": 10,
   "id": "28118981",
   "metadata": {},
   "outputs": [
    {
     "name": "stderr",
     "output_type": "stream",
     "text": [
      "2023-05-05 15:11:05.121864: I tensorflow/compiler/mlir/mlir_graph_optimization_pass.cc:116] None of the MLIR optimization passes are enabled (registered 2)\n"
     ]
    },
    {
     "name": "stdout",
     "output_type": "stream",
     "text": [
      "Epoch 1/100\n",
      "3/3 [==============================] - 1s 276ms/step - loss: 0.6837 - f1Measurement: 0.0000e+00 - precisionMeasurement: 0.0000e+00 - recallMeasurement: 0.0000e+00 - auc: 0.5296 - val_loss: 0.5195 - val_f1Measurement: 0.0000e+00 - val_precisionMeasurement: 0.0000e+00 - val_recallMeasurement: 0.0000e+00 - val_auc: 0.5404\n",
      "Epoch 2/100\n",
      "3/3 [==============================] - 0s 48ms/step - loss: 0.5366 - f1Measurement: 0.0150 - precisionMeasurement: 0.0417 - recallMeasurement: 0.0091 - auc: 0.5160 - val_loss: 0.3810 - val_f1Measurement: 0.0000e+00 - val_precisionMeasurement: 0.0000e+00 - val_recallMeasurement: 0.0000e+00 - val_auc: 0.5167\n",
      "Epoch 3/100\n",
      "3/3 [==============================] - 0s 50ms/step - loss: 0.4411 - f1Measurement: 0.0999 - precisionMeasurement: 0.1447 - recallMeasurement: 0.0768 - auc: 0.5668 - val_loss: 0.3491 - val_f1Measurement: 0.0000e+00 - val_precisionMeasurement: 0.0000e+00 - val_recallMeasurement: 0.0000e+00 - val_auc: 0.4501\n",
      "Epoch 4/100\n",
      "3/3 [==============================] - 0s 48ms/step - loss: 0.4067 - f1Measurement: 0.0139 - precisionMeasurement: 0.0292 - recallMeasurement: 0.0091 - auc: 0.5355 - val_loss: 0.3509 - val_f1Measurement: 0.0000e+00 - val_precisionMeasurement: 0.0000e+00 - val_recallMeasurement: 0.0000e+00 - val_auc: 0.4641\n",
      "Epoch 5/100\n",
      "3/3 [==============================] - 0s 49ms/step - loss: 0.3989 - f1Measurement: 0.0167 - precisionMeasurement: 0.0972 - recallMeasurement: 0.0091 - auc: 0.4721 - val_loss: 0.3452 - val_f1Measurement: 0.0000e+00 - val_precisionMeasurement: 0.0000e+00 - val_recallMeasurement: 0.0000e+00 - val_auc: 0.4722\n",
      "Epoch 6/100\n",
      "3/3 [==============================] - 0s 48ms/step - loss: 0.3741 - f1Measurement: 0.0000e+00 - precisionMeasurement: 0.0000e+00 - recallMeasurement: 0.0000e+00 - auc: 0.5133 - val_loss: 0.3363 - val_f1Measurement: 0.0000e+00 - val_precisionMeasurement: 0.0000e+00 - val_recallMeasurement: 0.0000e+00 - val_auc: 0.4842\n",
      "Epoch 7/100\n",
      "3/3 [==============================] - 0s 49ms/step - loss: 0.3735 - f1Measurement: 0.0000e+00 - precisionMeasurement: 0.0000e+00 - recallMeasurement: 0.0000e+00 - auc: 0.4642 - val_loss: 0.3237 - val_f1Measurement: 0.0000e+00 - val_precisionMeasurement: 0.0000e+00 - val_recallMeasurement: 0.0000e+00 - val_auc: 0.4828\n",
      "Epoch 8/100\n",
      "3/3 [==============================] - 0s 52ms/step - loss: 0.3549 - f1Measurement: 0.0310 - precisionMeasurement: 0.1806 - recallMeasurement: 0.0169 - auc: 0.5158 - val_loss: 0.3156 - val_f1Measurement: 0.0000e+00 - val_precisionMeasurement: 0.0000e+00 - val_recallMeasurement: 0.0000e+00 - val_auc: 0.5037\n",
      "Epoch 9/100\n",
      "3/3 [==============================] - 0s 48ms/step - loss: 0.3226 - f1Measurement: 0.0324 - precisionMeasurement: 0.1458 - recallMeasurement: 0.0182 - auc: 0.5690 - val_loss: 0.3059 - val_f1Measurement: 0.0000e+00 - val_precisionMeasurement: 0.0000e+00 - val_recallMeasurement: 0.0000e+00 - val_auc: 0.5593\n",
      "Epoch 10/100\n",
      "3/3 [==============================] - 0s 49ms/step - loss: 0.3294 - f1Measurement: 0.0301 - precisionMeasurement: 0.1354 - recallMeasurement: 0.0169 - auc: 0.5654 - val_loss: 0.3068 - val_f1Measurement: 0.0000e+00 - val_precisionMeasurement: 0.0000e+00 - val_recallMeasurement: 0.0000e+00 - val_auc: 0.5877\n",
      "Epoch 11/100\n",
      "3/3 [==============================] - 0s 48ms/step - loss: 0.3325 - f1Measurement: 0.0000e+00 - precisionMeasurement: 0.0000e+00 - recallMeasurement: 0.0000e+00 - auc: 0.5102 - val_loss: 0.3066 - val_f1Measurement: 0.0000e+00 - val_precisionMeasurement: 0.0000e+00 - val_recallMeasurement: 0.0000e+00 - val_auc: 0.6301\n",
      "Epoch 12/100\n",
      "3/3 [==============================] - 0s 48ms/step - loss: 0.3285 - f1Measurement: 0.0000e+00 - precisionMeasurement: 0.0000e+00 - recallMeasurement: 0.0000e+00 - auc: 0.5555 - val_loss: 0.3013 - val_f1Measurement: 0.0000e+00 - val_precisionMeasurement: 0.0000e+00 - val_recallMeasurement: 0.0000e+00 - val_auc: 0.6551\n",
      "Epoch 13/100\n",
      "3/3 [==============================] - 0s 47ms/step - loss: 0.3075 - f1Measurement: 0.0000e+00 - precisionMeasurement: 0.0000e+00 - recallMeasurement: 0.0000e+00 - auc: 0.6325 - val_loss: 0.2998 - val_f1Measurement: 0.0000e+00 - val_precisionMeasurement: 0.0000e+00 - val_recallMeasurement: 0.0000e+00 - val_auc: 0.6884\n",
      "Epoch 14/100\n",
      "3/3 [==============================] - 0s 46ms/step - loss: 0.3157 - f1Measurement: 0.0000e+00 - precisionMeasurement: 0.0000e+00 - recallMeasurement: 0.0000e+00 - auc: 0.5924 - val_loss: 0.2990 - val_f1Measurement: 0.0000e+00 - val_precisionMeasurement: 0.0000e+00 - val_recallMeasurement: 0.0000e+00 - val_auc: 0.6803\n",
      "Epoch 15/100\n",
      "3/3 [==============================] - 0s 47ms/step - loss: 0.3121 - f1Measurement: 0.0000e+00 - precisionMeasurement: 0.0000e+00 - recallMeasurement: 0.0000e+00 - auc: 0.6083 - val_loss: 0.2979 - val_f1Measurement: 0.0000e+00 - val_precisionMeasurement: 0.0000e+00 - val_recallMeasurement: 0.0000e+00 - val_auc: 0.6727\n",
      "Epoch 16/100\n",
      "3/3 [==============================] - 0s 48ms/step - loss: 0.3178 - f1Measurement: 0.0000e+00 - precisionMeasurement: 0.0000e+00 - recallMeasurement: 0.0000e+00 - auc: 0.5804 - val_loss: 0.2978 - val_f1Measurement: 0.0000e+00 - val_precisionMeasurement: 0.0000e+00 - val_recallMeasurement: 0.0000e+00 - val_auc: 0.6880\n",
      "Epoch 17/100\n",
      "3/3 [==============================] - 0s 50ms/step - loss: 0.3034 - f1Measurement: 0.0000e+00 - precisionMeasurement: 0.0000e+00 - recallMeasurement: 0.0000e+00 - auc: 0.6060 - val_loss: 0.2940 - val_f1Measurement: 0.0000e+00 - val_precisionMeasurement: 0.0000e+00 - val_recallMeasurement: 0.0000e+00 - val_auc: 0.6784\n",
      "Epoch 18/100\n",
      "3/3 [==============================] - 0s 51ms/step - loss: 0.3228 - f1Measurement: 0.0177 - precisionMeasurement: 0.2917 - recallMeasurement: 0.0091 - auc: 0.5676 - val_loss: 0.2897 - val_f1Measurement: 0.0000e+00 - val_precisionMeasurement: 0.0000e+00 - val_recallMeasurement: 0.0000e+00 - val_auc: 0.7043\n",
      "Epoch 19/100\n",
      "3/3 [==============================] - 0s 53ms/step - loss: 0.3026 - f1Measurement: 0.0000e+00 - precisionMeasurement: 0.0000e+00 - recallMeasurement: 0.0000e+00 - auc: 0.6071 - val_loss: 0.2840 - val_f1Measurement: 0.0000e+00 - val_precisionMeasurement: 0.0000e+00 - val_recallMeasurement: 0.0000e+00 - val_auc: 0.7247\n",
      "Epoch 20/100\n",
      "3/3 [==============================] - 0s 50ms/step - loss: 0.2994 - f1Measurement: 0.0172 - precisionMeasurement: 0.1458 - recallMeasurement: 0.0091 - auc: 0.6266 - val_loss: 0.2866 - val_f1Measurement: 0.0000e+00 - val_precisionMeasurement: 0.0000e+00 - val_recallMeasurement: 0.0000e+00 - val_auc: 0.7038\n",
      "Epoch 21/100\n",
      "3/3 [==============================] - 0s 52ms/step - loss: 0.3187 - f1Measurement: 0.0000e+00 - precisionMeasurement: 0.0000e+00 - recallMeasurement: 0.0000e+00 - auc: 0.5850 - val_loss: 0.2825 - val_f1Measurement: 0.0000e+00 - val_precisionMeasurement: 0.0000e+00 - val_recallMeasurement: 0.0000e+00 - val_auc: 0.7056\n",
      "Epoch 22/100\n",
      "3/3 [==============================] - 0s 52ms/step - loss: 0.3042 - f1Measurement: 0.0343 - precisionMeasurement: 0.2917 - recallMeasurement: 0.0182 - auc: 0.6413 - val_loss: 0.2839 - val_f1Measurement: 0.0000e+00 - val_precisionMeasurement: 0.0000e+00 - val_recallMeasurement: 0.0000e+00 - val_auc: 0.7483\n",
      "Epoch 23/100\n",
      "3/3 [==============================] - 0s 47ms/step - loss: 0.3116 - f1Measurement: 0.0000e+00 - precisionMeasurement: 0.0000e+00 - recallMeasurement: 0.0000e+00 - auc: 0.6343 - val_loss: 0.2848 - val_f1Measurement: 0.0000e+00 - val_precisionMeasurement: 0.0000e+00 - val_recallMeasurement: 0.0000e+00 - val_auc: 0.7541\n",
      "Epoch 24/100\n",
      "3/3 [==============================] - 0s 47ms/step - loss: 0.3216 - f1Measurement: 0.0000e+00 - precisionMeasurement: 0.0000e+00 - recallMeasurement: 0.0000e+00 - auc: 0.6816 - val_loss: 0.2760 - val_f1Measurement: 0.0000e+00 - val_precisionMeasurement: 0.0000e+00 - val_recallMeasurement: 0.0000e+00 - val_auc: 0.7510\n",
      "Epoch 25/100\n",
      "3/3 [==============================] - 0s 49ms/step - loss: 0.2840 - f1Measurement: 0.1152 - precisionMeasurement: 0.4375 - recallMeasurement: 0.0725 - auc: 0.7345 - val_loss: 0.2742 - val_f1Measurement: 0.0000e+00 - val_precisionMeasurement: 0.0000e+00 - val_recallMeasurement: 0.0000e+00 - val_auc: 0.7619\n",
      "Epoch 26/100\n"
     ]
    },
    {
     "name": "stdout",
     "output_type": "stream",
     "text": [
      "3/3 [==============================] - 0s 47ms/step - loss: 0.2849 - f1Measurement: 0.0177 - precisionMeasurement: 0.2917 - recallMeasurement: 0.0091 - auc: 0.7133 - val_loss: 0.2706 - val_f1Measurement: 0.0000e+00 - val_precisionMeasurement: 0.0000e+00 - val_recallMeasurement: 0.0000e+00 - val_auc: 0.7957\n",
      "Epoch 27/100\n",
      "3/3 [==============================] - 0s 46ms/step - loss: 0.2716 - f1Measurement: 0.0000e+00 - precisionMeasurement: 0.0000e+00 - recallMeasurement: 0.0000e+00 - auc: 0.7797 - val_loss: 0.2637 - val_f1Measurement: 0.0000e+00 - val_precisionMeasurement: 0.0000e+00 - val_recallMeasurement: 0.0000e+00 - val_auc: 0.8302\n",
      "Epoch 28/100\n",
      "3/3 [==============================] - 0s 51ms/step - loss: 0.2790 - f1Measurement: 0.0328 - precisionMeasurement: 0.5417 - recallMeasurement: 0.0169 - auc: 0.7535 - val_loss: 0.2561 - val_f1Measurement: 0.0000e+00 - val_precisionMeasurement: 0.0000e+00 - val_recallMeasurement: 0.0000e+00 - val_auc: 0.8427\n",
      "Epoch 29/100\n",
      "3/3 [==============================] - 0s 54ms/step - loss: 0.2684 - f1Measurement: 0.1010 - precisionMeasurement: 0.4583 - recallMeasurement: 0.0647 - auc: 0.7522 - val_loss: 0.2512 - val_f1Measurement: 0.0000e+00 - val_precisionMeasurement: 0.0000e+00 - val_recallMeasurement: 0.0000e+00 - val_auc: 0.8533\n",
      "Epoch 30/100\n",
      "3/3 [==============================] - 0s 49ms/step - loss: 0.2774 - f1Measurement: 0.0343 - precisionMeasurement: 0.2917 - recallMeasurement: 0.0182 - auc: 0.7179 - val_loss: 0.2482 - val_f1Measurement: 0.0000e+00 - val_precisionMeasurement: 0.0000e+00 - val_recallMeasurement: 0.0000e+00 - val_auc: 0.8518\n",
      "Epoch 31/100\n",
      "3/3 [==============================] - 0s 48ms/step - loss: 0.2593 - f1Measurement: 0.2105 - precisionMeasurement: 1.0000 - recallMeasurement: 0.1246 - auc: 0.7976 - val_loss: 0.2448 - val_f1Measurement: 0.1818 - val_precisionMeasurement: 1.0000 - val_recallMeasurement: 0.1000 - val_auc: 0.8592\n",
      "Epoch 32/100\n",
      "3/3 [==============================] - 0s 47ms/step - loss: 0.2691 - f1Measurement: 0.0768 - precisionMeasurement: 0.2431 - recallMeasurement: 0.0456 - auc: 0.7724 - val_loss: 0.2496 - val_f1Measurement: 0.1250 - val_precisionMeasurement: 1.0000 - val_recallMeasurement: 0.0667 - val_auc: 0.8568\n",
      "Epoch 33/100\n",
      "3/3 [==============================] - 0s 49ms/step - loss: 0.2638 - f1Measurement: 0.1415 - precisionMeasurement: 0.7604 - recallMeasurement: 0.0781 - auc: 0.7769 - val_loss: 0.2462 - val_f1Measurement: 0.1818 - val_precisionMeasurement: 1.0000 - val_recallMeasurement: 0.1000 - val_auc: 0.8659\n",
      "Epoch 34/100\n",
      "3/3 [==============================] - 0s 47ms/step - loss: 0.2418 - f1Measurement: 0.1117 - precisionMeasurement: 0.8333 - recallMeasurement: 0.0625 - auc: 0.8491 - val_loss: 0.2437 - val_f1Measurement: 0.1818 - val_precisionMeasurement: 1.0000 - val_recallMeasurement: 0.1000 - val_auc: 0.8556\n",
      "Epoch 35/100\n",
      "3/3 [==============================] - 0s 48ms/step - loss: 0.2588 - f1Measurement: 0.1786 - precisionMeasurement: 0.7222 - recallMeasurement: 0.1076 - auc: 0.8023 - val_loss: 0.2373 - val_f1Measurement: 0.1818 - val_precisionMeasurement: 1.0000 - val_recallMeasurement: 0.1000 - val_auc: 0.8650\n",
      "Epoch 36/100\n",
      "3/3 [==============================] - 0s 47ms/step - loss: 0.2504 - f1Measurement: 0.2934 - precisionMeasurement: 0.9583 - recallMeasurement: 0.1780 - auc: 0.8312 - val_loss: 0.2344 - val_f1Measurement: 0.1818 - val_precisionMeasurement: 1.0000 - val_recallMeasurement: 0.1000 - val_auc: 0.8847\n",
      "Epoch 37/100\n",
      "3/3 [==============================] - 0s 47ms/step - loss: 0.2325 - f1Measurement: 0.1769 - precisionMeasurement: 0.7431 - recallMeasurement: 0.1029 - auc: 0.8881 - val_loss: 0.2307 - val_f1Measurement: 0.2857 - val_precisionMeasurement: 1.0000 - val_recallMeasurement: 0.1667 - val_auc: 0.8721\n",
      "Epoch 38/100\n",
      "3/3 [==============================] - 0s 47ms/step - loss: 0.2143 - f1Measurement: 0.2564 - precisionMeasurement: 0.7143 - recallMeasurement: 0.1562 - auc: 0.8875 - val_loss: 0.2310 - val_f1Measurement: 0.4615 - val_precisionMeasurement: 1.0000 - val_recallMeasurement: 0.3000 - val_auc: 0.8726\n",
      "Epoch 39/100\n",
      "3/3 [==============================] - 0s 47ms/step - loss: 0.2330 - f1Measurement: 0.2703 - precisionMeasurement: 0.7101 - recallMeasurement: 0.1688 - auc: 0.8487 - val_loss: 0.2213 - val_f1Measurement: 0.4615 - val_precisionMeasurement: 1.0000 - val_recallMeasurement: 0.3000 - val_auc: 0.8931\n",
      "Epoch 40/100\n",
      "3/3 [==============================] - 0s 48ms/step - loss: 0.2300 - f1Measurement: 0.3065 - precisionMeasurement: 0.9514 - recallMeasurement: 0.1858 - auc: 0.8819 - val_loss: 0.2224 - val_f1Measurement: 0.4615 - val_precisionMeasurement: 1.0000 - val_recallMeasurement: 0.3000 - val_auc: 0.8762\n",
      "Epoch 41/100\n",
      "3/3 [==============================] - 0s 47ms/step - loss: 0.2282 - f1Measurement: 0.1658 - precisionMeasurement: 0.7969 - recallMeasurement: 0.0977 - auc: 0.8751 - val_loss: 0.2221 - val_f1Measurement: 0.4615 - val_precisionMeasurement: 1.0000 - val_recallMeasurement: 0.3000 - val_auc: 0.8735\n",
      "Epoch 42/100\n",
      "3/3 [==============================] - 0s 48ms/step - loss: 0.1972 - f1Measurement: 0.4668 - precisionMeasurement: 0.8868 - recallMeasurement: 0.3286 - auc: 0.9150 - val_loss: 0.2202 - val_f1Measurement: 0.3784 - val_precisionMeasurement: 1.0000 - val_recallMeasurement: 0.2333 - val_auc: 0.8848\n",
      "Epoch 43/100\n",
      "3/3 [==============================] - 0s 50ms/step - loss: 0.2165 - f1Measurement: 0.4250 - precisionMeasurement: 0.8958 - recallMeasurement: 0.2934 - auc: 0.8835 - val_loss: 0.2159 - val_f1Measurement: 0.5000 - val_precisionMeasurement: 1.0000 - val_recallMeasurement: 0.3333 - val_auc: 0.8963\n",
      "Epoch 44/100\n",
      "3/3 [==============================] - 0s 45ms/step - loss: 0.1878 - f1Measurement: 0.4292 - precisionMeasurement: 0.8292 - recallMeasurement: 0.2912 - auc: 0.9287 - val_loss: 0.2062 - val_f1Measurement: 0.5000 - val_precisionMeasurement: 1.0000 - val_recallMeasurement: 0.3333 - val_auc: 0.9234\n",
      "Epoch 45/100\n",
      "3/3 [==============================] - 0s 46ms/step - loss: 0.2128 - f1Measurement: 0.3713 - precisionMeasurement: 0.6619 - recallMeasurement: 0.2700 - auc: 0.8901 - val_loss: 0.1981 - val_f1Measurement: 0.4615 - val_precisionMeasurement: 1.0000 - val_recallMeasurement: 0.3000 - val_auc: 0.9246\n",
      "Epoch 46/100\n",
      "3/3 [==============================] - 0s 47ms/step - loss: 0.1848 - f1Measurement: 0.4883 - precisionMeasurement: 0.7885 - recallMeasurement: 0.3542 - auc: 0.9299 - val_loss: 0.1971 - val_f1Measurement: 0.4615 - val_precisionMeasurement: 1.0000 - val_recallMeasurement: 0.3000 - val_auc: 0.9244\n",
      "Epoch 47/100\n",
      "3/3 [==============================] - 0s 47ms/step - loss: 0.1709 - f1Measurement: 0.4994 - precisionMeasurement: 1.0000 - recallMeasurement: 0.3329 - auc: 0.9639 - val_loss: 0.1934 - val_f1Measurement: 0.6047 - val_precisionMeasurement: 1.0000 - val_recallMeasurement: 0.4333 - val_auc: 0.9111\n",
      "Epoch 48/100\n",
      "3/3 [==============================] - 0s 50ms/step - loss: 0.2017 - f1Measurement: 0.5557 - precisionMeasurement: 0.8239 - recallMeasurement: 0.4453 - auc: 0.9295 - val_loss: 0.1901 - val_f1Measurement: 0.6047 - val_precisionMeasurement: 1.0000 - val_recallMeasurement: 0.4333 - val_auc: 0.9132\n",
      "Epoch 49/100\n",
      "3/3 [==============================] - 0s 48ms/step - loss: 0.1695 - f1Measurement: 0.6232 - precisionMeasurement: 0.8889 - recallMeasurement: 0.4835 - auc: 0.9405 - val_loss: 0.1857 - val_f1Measurement: 0.6047 - val_precisionMeasurement: 1.0000 - val_recallMeasurement: 0.4333 - val_auc: 0.9223\n",
      "Epoch 50/100\n",
      "3/3 [==============================] - 0s 48ms/step - loss: 0.1654 - f1Measurement: 0.4660 - precisionMeasurement: 0.6716 - recallMeasurement: 0.3568 - auc: 0.9513 - val_loss: 0.1807 - val_f1Measurement: 0.5714 - val_precisionMeasurement: 1.0000 - val_recallMeasurement: 0.4000 - val_auc: 0.9209\n",
      "Epoch 51/100\n",
      "3/3 [==============================] - 0s 47ms/step - loss: 0.1685 - f1Measurement: 0.6246 - precisionMeasurement: 0.9583 - recallMeasurement: 0.4692 - auc: 0.9486 - val_loss: 0.1814 - val_f1Measurement: 0.5714 - val_precisionMeasurement: 1.0000 - val_recallMeasurement: 0.4000 - val_auc: 0.9218\n",
      "Epoch 52/100\n"
     ]
    },
    {
     "name": "stdout",
     "output_type": "stream",
     "text": [
      "3/3 [==============================] - 0s 47ms/step - loss: 0.1538 - f1Measurement: 0.7109 - precisionMeasurement: 0.9510 - recallMeasurement: 0.5833 - auc: 0.9736 - val_loss: 0.1811 - val_f1Measurement: 0.5714 - val_precisionMeasurement: 1.0000 - val_recallMeasurement: 0.4000 - val_auc: 0.9266\n",
      "Epoch 53/100\n",
      "3/3 [==============================] - 0s 46ms/step - loss: 0.1419 - f1Measurement: 0.6354 - precisionMeasurement: 0.9519 - recallMeasurement: 0.4813 - auc: 0.9745 - val_loss: 0.1866 - val_f1Measurement: 0.5714 - val_precisionMeasurement: 1.0000 - val_recallMeasurement: 0.4000 - val_auc: 0.9224\n",
      "Epoch 54/100\n",
      "3/3 [==============================] - 0s 48ms/step - loss: 0.1615 - f1Measurement: 0.5633 - precisionMeasurement: 0.8471 - recallMeasurement: 0.4280 - auc: 0.9528 - val_loss: 0.1792 - val_f1Measurement: 0.5714 - val_precisionMeasurement: 1.0000 - val_recallMeasurement: 0.4000 - val_auc: 0.9276\n",
      "Epoch 55/100\n",
      "3/3 [==============================] - 0s 50ms/step - loss: 0.1553 - f1Measurement: 0.5835 - precisionMeasurement: 0.9363 - recallMeasurement: 0.4280 - auc: 0.9803 - val_loss: 0.1774 - val_f1Measurement: 0.5714 - val_precisionMeasurement: 1.0000 - val_recallMeasurement: 0.4000 - val_auc: 0.9369\n",
      "Epoch 56/100\n",
      "3/3 [==============================] - 0s 48ms/step - loss: 0.1605 - f1Measurement: 0.6900 - precisionMeasurement: 0.8935 - recallMeasurement: 0.5755 - auc: 0.9668 - val_loss: 0.1692 - val_f1Measurement: 0.5714 - val_precisionMeasurement: 1.0000 - val_recallMeasurement: 0.4000 - val_auc: 0.9389\n",
      "Epoch 57/100\n",
      "3/3 [==============================] - 0s 47ms/step - loss: 0.1316 - f1Measurement: 0.7914 - precisionMeasurement: 0.9492 - recallMeasurement: 0.6814 - auc: 0.9827 - val_loss: 0.1703 - val_f1Measurement: 0.5714 - val_precisionMeasurement: 1.0000 - val_recallMeasurement: 0.4000 - val_auc: 0.9432\n",
      "Epoch 58/100\n",
      "3/3 [==============================] - 0s 52ms/step - loss: 0.1103 - f1Measurement: 0.7981 - precisionMeasurement: 0.9191 - recallMeasurement: 0.7088 - auc: 0.9847 - val_loss: 0.1731 - val_f1Measurement: 0.6222 - val_precisionMeasurement: 0.9333 - val_recallMeasurement: 0.4667 - val_auc: 0.9325\n",
      "Epoch 59/100\n",
      "3/3 [==============================] - 0s 53ms/step - loss: 0.1119 - f1Measurement: 0.7654 - precisionMeasurement: 0.9174 - recallMeasurement: 0.6806 - auc: 0.9911 - val_loss: 0.1679 - val_f1Measurement: 0.6383 - val_precisionMeasurement: 0.8824 - val_recallMeasurement: 0.5000 - val_auc: 0.9208\n",
      "Epoch 60/100\n",
      "3/3 [==============================] - 0s 47ms/step - loss: 0.1139 - f1Measurement: 0.8372 - precisionMeasurement: 0.9757 - recallMeasurement: 0.7396 - auc: 0.9921 - val_loss: 0.1691 - val_f1Measurement: 0.6087 - val_precisionMeasurement: 0.8750 - val_recallMeasurement: 0.4667 - val_auc: 0.9163\n",
      "Epoch 61/100\n",
      "3/3 [==============================] - 0s 45ms/step - loss: 0.1271 - f1Measurement: 0.8131 - precisionMeasurement: 0.9404 - recallMeasurement: 0.7227 - auc: 0.9750 - val_loss: 0.1697 - val_f1Measurement: 0.6364 - val_precisionMeasurement: 1.0000 - val_recallMeasurement: 0.4667 - val_auc: 0.9182\n",
      "Epoch 62/100\n",
      "3/3 [==============================] - 0s 46ms/step - loss: 0.1012 - f1Measurement: 0.8297 - precisionMeasurement: 0.9551 - recallMeasurement: 0.7348 - auc: 0.9760 - val_loss: 0.1650 - val_f1Measurement: 0.6364 - val_precisionMeasurement: 1.0000 - val_recallMeasurement: 0.4667 - val_auc: 0.9304\n",
      "Epoch 63/100\n",
      "3/3 [==============================] - 0s 48ms/step - loss: 0.1050 - f1Measurement: 0.8533 - precisionMeasurement: 0.9267 - recallMeasurement: 0.7930 - auc: 0.9834 - val_loss: 0.1562 - val_f1Measurement: 0.6047 - val_precisionMeasurement: 1.0000 - val_recallMeasurement: 0.4333 - val_auc: 0.9516\n",
      "Epoch 64/100\n",
      "3/3 [==============================] - 0s 51ms/step - loss: 0.0899 - f1Measurement: 0.8676 - precisionMeasurement: 0.9354 - recallMeasurement: 0.8142 - auc: 0.9913 - val_loss: 0.1564 - val_f1Measurement: 0.5778 - val_precisionMeasurement: 0.8667 - val_recallMeasurement: 0.4333 - val_auc: 0.9552\n",
      "Epoch 65/100\n",
      "3/3 [==============================] - 0s 48ms/step - loss: 0.0916 - f1Measurement: 0.8173 - precisionMeasurement: 0.8827 - recallMeasurement: 0.7622 - auc: 0.9906 - val_loss: 0.1543 - val_f1Measurement: 0.6957 - val_precisionMeasurement: 1.0000 - val_recallMeasurement: 0.5333 - val_auc: 0.9581\n",
      "Epoch 66/100\n",
      "3/3 [==============================] - 0s 47ms/step - loss: 0.0798 - f1Measurement: 0.8705 - precisionMeasurement: 0.9513 - recallMeasurement: 0.8064 - auc: 0.9953 - val_loss: 0.1539 - val_f1Measurement: 0.6364 - val_precisionMeasurement: 1.0000 - val_recallMeasurement: 0.4667 - val_auc: 0.9619\n",
      "Epoch 67/100\n",
      "3/3 [==============================] - 0s 47ms/step - loss: 0.0795 - f1Measurement: 0.8829 - precisionMeasurement: 0.9253 - recallMeasurement: 0.8451 - auc: 0.9949 - val_loss: 0.1706 - val_f1Measurement: 0.6087 - val_precisionMeasurement: 0.8750 - val_recallMeasurement: 0.4667 - val_auc: 0.9487\n",
      "Epoch 68/100\n",
      "3/3 [==============================] - 0s 48ms/step - loss: 0.0828 - f1Measurement: 0.7802 - precisionMeasurement: 0.8347 - recallMeasurement: 0.7348 - auc: 0.9903 - val_loss: 0.1697 - val_f1Measurement: 0.6383 - val_precisionMeasurement: 0.8824 - val_recallMeasurement: 0.5000 - val_auc: 0.9406\n",
      "Epoch 69/100\n",
      "3/3 [==============================] - 0s 48ms/step - loss: 0.0887 - f1Measurement: 0.8526 - precisionMeasurement: 0.9249 - recallMeasurement: 0.7943 - auc: 0.9893 - val_loss: 0.1568 - val_f1Measurement: 0.6364 - val_precisionMeasurement: 1.0000 - val_recallMeasurement: 0.4667 - val_auc: 0.9443\n",
      "Epoch 70/100\n",
      "3/3 [==============================] - 0s 55ms/step - loss: 0.0839 - f1Measurement: 0.9033 - precisionMeasurement: 1.0000 - recallMeasurement: 0.8268 - auc: 0.9980 - val_loss: 0.1618 - val_f1Measurement: 0.6522 - val_precisionMeasurement: 0.9375 - val_recallMeasurement: 0.5000 - val_auc: 0.9424\n",
      "Epoch 71/100\n",
      "3/3 [==============================] - 0s 54ms/step - loss: 0.0864 - f1Measurement: 0.8255 - precisionMeasurement: 0.8733 - recallMeasurement: 0.7856 - auc: 0.9946 - val_loss: 0.1762 - val_f1Measurement: 0.6383 - val_precisionMeasurement: 0.8824 - val_recallMeasurement: 0.5000 - val_auc: 0.9358\n",
      "Epoch 72/100\n",
      "3/3 [==============================] - 0s 54ms/step - loss: 0.0776 - f1Measurement: 0.9052 - precisionMeasurement: 0.9368 - recallMeasurement: 0.8776 - auc: 0.9958 - val_loss: 0.1637 - val_f1Measurement: 0.5833 - val_precisionMeasurement: 0.7778 - val_recallMeasurement: 0.4667 - val_auc: 0.9431\n",
      "Epoch 73/100\n",
      "3/3 [==============================] - 0s 55ms/step - loss: 0.0670 - f1Measurement: 0.8813 - precisionMeasurement: 0.9069 - recallMeasurement: 0.8572 - auc: 0.9979 - val_loss: 0.1522 - val_f1Measurement: 0.5833 - val_precisionMeasurement: 0.7778 - val_recallMeasurement: 0.4667 - val_auc: 0.9518\n",
      "Epoch 74/100\n",
      "3/3 [==============================] - 0s 52ms/step - loss: 0.0692 - f1Measurement: 0.9368 - precisionMeasurement: 0.9716 - recallMeasurement: 0.9049 - auc: 0.9984 - val_loss: 0.1457 - val_f1Measurement: 0.6250 - val_precisionMeasurement: 0.8333 - val_recallMeasurement: 0.5000 - val_auc: 0.9524\n",
      "Epoch 75/100\n",
      "3/3 [==============================] - 0s 53ms/step - loss: 0.0689 - f1Measurement: 0.8698 - precisionMeasurement: 0.9423 - recallMeasurement: 0.8129 - auc: 0.9959 - val_loss: 0.1450 - val_f1Measurement: 0.6809 - val_precisionMeasurement: 0.9412 - val_recallMeasurement: 0.5333 - val_auc: 0.9566\n",
      "Epoch 76/100\n",
      "3/3 [==============================] - 0s 55ms/step - loss: 0.0625 - f1Measurement: 0.9462 - precisionMeasurement: 0.9722 - recallMeasurement: 0.9219 - auc: 0.9982 - val_loss: 0.1630 - val_f1Measurement: 0.7200 - val_precisionMeasurement: 0.9000 - val_recallMeasurement: 0.6000 - val_auc: 0.9487\n",
      "Epoch 77/100\n",
      "3/3 [==============================] - 0s 53ms/step - loss: 0.0527 - f1Measurement: 0.9456 - precisionMeasurement: 0.9819 - recallMeasurement: 0.9128 - auc: 0.9992 - val_loss: 0.1717 - val_f1Measurement: 0.6667 - val_precisionMeasurement: 0.8889 - val_recallMeasurement: 0.5333 - val_auc: 0.9462\n",
      "Epoch 78/100\n",
      "3/3 [==============================] - 0s 53ms/step - loss: 0.0636 - f1Measurement: 0.9418 - precisionMeasurement: 0.9543 - recallMeasurement: 0.9297 - auc: 0.9971 - val_loss: 0.1723 - val_f1Measurement: 0.6939 - val_precisionMeasurement: 0.8947 - val_recallMeasurement: 0.5667 - val_auc: 0.9367\n"
     ]
    },
    {
     "name": "stdout",
     "output_type": "stream",
     "text": [
      "Epoch 79/100\n",
      "3/3 [==============================] - 0s 58ms/step - loss: 0.0653 - f1Measurement: 0.9134 - precisionMeasurement: 0.9524 - recallMeasurement: 0.8789 - auc: 0.9977 - val_loss: 0.1694 - val_f1Measurement: 0.6383 - val_precisionMeasurement: 0.8824 - val_recallMeasurement: 0.5000 - val_auc: 0.9369\n",
      "Epoch 80/100\n",
      "3/3 [==============================] - 0s 53ms/step - loss: 0.0597 - f1Measurement: 0.9126 - precisionMeasurement: 0.9278 - recallMeasurement: 0.8984 - auc: 0.9980 - val_loss: 0.1735 - val_f1Measurement: 0.6800 - val_precisionMeasurement: 0.8500 - val_recallMeasurement: 0.5667 - val_auc: 0.9423\n",
      "Epoch 81/100\n",
      "3/3 [==============================] - 0s 52ms/step - loss: 0.0547 - f1Measurement: 0.9603 - precisionMeasurement: 0.9731 - recallMeasurement: 0.9479 - auc: 0.9991 - val_loss: 0.1812 - val_f1Measurement: 0.6400 - val_precisionMeasurement: 0.8000 - val_recallMeasurement: 0.5333 - val_auc: 0.9346\n",
      "Epoch 82/100\n",
      "3/3 [==============================] - 0s 49ms/step - loss: 0.0682 - f1Measurement: 0.9288 - precisionMeasurement: 0.9542 - recallMeasurement: 0.9049 - auc: 0.9983 - val_loss: 0.1708 - val_f1Measurement: 0.6531 - val_precisionMeasurement: 0.8421 - val_recallMeasurement: 0.5333 - val_auc: 0.9281\n",
      "Epoch 83/100\n",
      "3/3 [==============================] - 0s 57ms/step - loss: 0.0668 - f1Measurement: 0.9096 - precisionMeasurement: 0.9432 - recallMeasurement: 0.8789 - auc: 0.9968 - val_loss: 0.1661 - val_f1Measurement: 0.6800 - val_precisionMeasurement: 0.8500 - val_recallMeasurement: 0.5667 - val_auc: 0.9406\n",
      "Epoch 84/100\n",
      "3/3 [==============================] - 0s 52ms/step - loss: 0.0466 - f1Measurement: 0.9726 - precisionMeasurement: 0.9903 - recallMeasurement: 0.9557 - auc: 0.9995 - val_loss: 0.1714 - val_f1Measurement: 0.7037 - val_precisionMeasurement: 0.7917 - val_recallMeasurement: 0.6333 - val_auc: 0.9317\n",
      "Epoch 85/100\n",
      "3/3 [==============================] - 0s 54ms/step - loss: 0.0576 - f1Measurement: 0.9368 - precisionMeasurement: 0.9716 - recallMeasurement: 0.9049 - auc: 0.9979 - val_loss: 0.1824 - val_f1Measurement: 0.6909 - val_precisionMeasurement: 0.7600 - val_recallMeasurement: 0.6333 - val_auc: 0.9261\n",
      "Epoch 86/100\n",
      "3/3 [==============================] - 0s 46ms/step - loss: 0.0576 - f1Measurement: 0.9240 - precisionMeasurement: 0.9532 - recallMeasurement: 0.8971 - auc: 0.9974 - val_loss: 0.1828 - val_f1Measurement: 0.6909 - val_precisionMeasurement: 0.7600 - val_recallMeasurement: 0.6333 - val_auc: 0.9295\n",
      "Epoch 87/100\n",
      "3/3 [==============================] - 0s 46ms/step - loss: 0.0439 - f1Measurement: 0.9731 - precisionMeasurement: 1.0000 - recallMeasurement: 0.9479 - auc: 0.9984 - val_loss: 0.1791 - val_f1Measurement: 0.6923 - val_precisionMeasurement: 0.8182 - val_recallMeasurement: 0.6000 - val_auc: 0.9476\n",
      "Epoch 88/100\n",
      "3/3 [==============================] - 0s 46ms/step - loss: 0.0372 - f1Measurement: 0.9398 - precisionMeasurement: 0.9444 - recallMeasurement: 0.9353 - auc: 0.9999 - val_loss: 0.1722 - val_f1Measurement: 0.6122 - val_precisionMeasurement: 0.7895 - val_recallMeasurement: 0.5000 - val_auc: 0.9524\n",
      "Epoch 89/100\n",
      "3/3 [==============================] - 0s 46ms/step - loss: 0.0375 - f1Measurement: 0.9914 - precisionMeasurement: 1.0000 - recallMeasurement: 0.9831 - auc: 1.0000 - val_loss: 0.1656 - val_f1Measurement: 0.6122 - val_precisionMeasurement: 0.7895 - val_recallMeasurement: 0.5000 - val_auc: 0.9504\n",
      "Epoch 90/100\n",
      "3/3 [==============================] - 0s 49ms/step - loss: 0.0550 - f1Measurement: 0.9370 - precisionMeasurement: 0.9557 - recallMeasurement: 0.9206 - auc: 0.9984 - val_loss: 0.1636 - val_f1Measurement: 0.6250 - val_precisionMeasurement: 0.8333 - val_recallMeasurement: 0.5000 - val_auc: 0.9517\n",
      "Epoch 91/100\n",
      "3/3 [==============================] - 0s 47ms/step - loss: 0.0555 - f1Measurement: 0.9523 - precisionMeasurement: 0.9567 - recallMeasurement: 0.9479 - auc: 0.9983 - val_loss: 0.1753 - val_f1Measurement: 0.6939 - val_precisionMeasurement: 0.8947 - val_recallMeasurement: 0.5667 - val_auc: 0.9524\n",
      "Epoch 92/100\n",
      "3/3 [==============================] - 0s 46ms/step - loss: 0.0456 - f1Measurement: 0.9559 - precisionMeasurement: 0.9728 - recallMeasurement: 0.9401 - auc: 0.9989 - val_loss: 0.1759 - val_f1Measurement: 0.7059 - val_precisionMeasurement: 0.8571 - val_recallMeasurement: 0.6000 - val_auc: 0.9514\n",
      "Epoch 93/100\n",
      "3/3 [==============================] - 0s 47ms/step - loss: 0.0317 - f1Measurement: 0.9818 - precisionMeasurement: 0.9818 - recallMeasurement: 0.9818 - auc: 0.9993 - val_loss: 0.1723 - val_f1Measurement: 0.6923 - val_precisionMeasurement: 0.8182 - val_recallMeasurement: 0.6000 - val_auc: 0.9546\n",
      "Epoch 94/100\n",
      "3/3 [==============================] - 0s 47ms/step - loss: 0.0395 - f1Measurement: 0.9190 - precisionMeasurement: 0.9651 - recallMeasurement: 0.8845 - auc: 0.9993 - val_loss: 0.1582 - val_f1Measurement: 0.6800 - val_precisionMeasurement: 0.8500 - val_recallMeasurement: 0.5667 - val_auc: 0.9658\n",
      "Epoch 95/100\n",
      "3/3 [==============================] - 0s 47ms/step - loss: 0.0469 - f1Measurement: 0.9560 - precisionMeasurement: 0.9643 - recallMeasurement: 0.9479 - auc: 0.9993 - val_loss: 0.1499 - val_f1Measurement: 0.6923 - val_precisionMeasurement: 0.8182 - val_recallMeasurement: 0.6000 - val_auc: 0.9708\n",
      "Epoch 96/100\n",
      "3/3 [==============================] - 0s 47ms/step - loss: 0.0257 - f1Measurement: 0.9734 - precisionMeasurement: 0.9909 - recallMeasurement: 0.9570 - auc: 0.9998 - val_loss: 0.1554 - val_f1Measurement: 0.6667 - val_precisionMeasurement: 0.8095 - val_recallMeasurement: 0.5667 - val_auc: 0.9656\n",
      "Epoch 97/100\n",
      "3/3 [==============================] - 0s 48ms/step - loss: 0.0342 - f1Measurement: 0.9769 - precisionMeasurement: 0.9812 - recallMeasurement: 0.9727 - auc: 0.9990 - val_loss: 0.1704 - val_f1Measurement: 0.6538 - val_precisionMeasurement: 0.7727 - val_recallMeasurement: 0.5667 - val_auc: 0.9584\n",
      "Epoch 98/100\n",
      "3/3 [==============================] - 0s 49ms/step - loss: 0.0336 - f1Measurement: 0.9742 - precisionMeasurement: 0.9825 - recallMeasurement: 0.9661 - auc: 0.9997 - val_loss: 0.1897 - val_f1Measurement: 0.6415 - val_precisionMeasurement: 0.7391 - val_recallMeasurement: 0.5667 - val_auc: 0.9510\n",
      "Epoch 99/100\n",
      "3/3 [==============================] - 0s 47ms/step - loss: 0.0302 - f1Measurement: 0.9737 - precisionMeasurement: 0.9831 - recallMeasurement: 0.9648 - auc: 0.9996 - val_loss: 0.1873 - val_f1Measurement: 0.6415 - val_precisionMeasurement: 0.7391 - val_recallMeasurement: 0.5667 - val_auc: 0.9556\n",
      "Epoch 100/100\n",
      "3/3 [==============================] - 0s 46ms/step - loss: 0.0311 - f1Measurement: 0.9651 - precisionMeasurement: 0.9734 - recallMeasurement: 0.9570 - auc: 0.9995 - val_loss: 0.1783 - val_f1Measurement: 0.7037 - val_precisionMeasurement: 0.7917 - val_recallMeasurement: 0.6333 - val_auc: 0.9437\n"
     ]
    },
    {
     "data": {
      "text/plain": [
       "<tensorflow.python.keras.callbacks.History at 0x7f8d4730b070>"
      ]
     },
     "execution_count": 10,
     "metadata": {},
     "output_type": "execute_result"
    }
   ],
   "source": [
    "# This section of the model is used to trained the convolutional neural network model. \n",
    "# This is achieved by using the fit() method from the Keras API of the TensorFlow library which \n",
    "# was imported previously. Here is where the number of epochs are declared for the model also\n",
    "CNNModel.fit(trainX, trainY, validation_data=(testX, testY), \n",
    "                epochs=100,  \n",
    "                class_weight=weightOfModel)"
   ]
  },
  {
   "cell_type": "code",
   "execution_count": 11,
   "id": "97f32f75",
   "metadata": {},
   "outputs": [
    {
     "name": "stdout",
     "output_type": "stream",
     "text": [
      "1/1 [==============================] - 0s 31ms/step - loss: 0.1783 - f1Measurement: 0.7037 - precisionMeasurement: 0.7917 - recallMeasurement: 0.6333 - auc: 0.9437\n",
      "--------------------------------------------------------------------------------------------------------------------\n",
      "1/1 [==============================] - 0s 31ms/step - loss: 0.1783 - f1Measurement: 0.7037 - precisionMeasurement: 0.7917 - recallMeasurement: 0.6333 - auc: 0.9437\n",
      "--------------------------------------------------------------------------------------------------------------------\n",
      "Final Results for The CNN Model\n",
      "F1 Accuracy of: 0.70 %\n",
      "With a Loss of: 0.18 %\n"
     ]
    }
   ],
   "source": [
    "# Evaluates the trained  model on the test data and returns the values of the  metrics\n",
    "scores = CNNModel.evaluate(testX, testY) \n",
    "print(\"--------------------------------------------------------------------------------------------------------------------\")\n",
    "\n",
    "# Evaluates the trained model on the test data and declares the loss, accuracy \n",
    "# f1_score, precision and recall\n",
    "loss, accuracy, f1_score, precision, recall = CNNModel.evaluate(testX, testY)\n",
    "print(\"--------------------------------------------------------------------------------------------------------------------\")\n",
    "\n",
    "# Used to Print the Final CNN Accuracy of the model\n",
    "print(\"Final Results for The CNN Model\")\n",
    "print(\"F1 Accuracy of: {:.2f}\".format(scores[1]),'%')    # Print Accuracy of Model\n",
    "print(\"With a Loss of: {:.2f}\".format(scores[0]),'%')    # Print Loss of Model"
   ]
  },
  {
   "cell_type": "code",
   "execution_count": null,
   "id": "a2e019da",
   "metadata": {},
   "outputs": [],
   "source": []
  }
 ],
 "metadata": {
  "kernelspec": {
   "display_name": "Python 3 (ipykernel)",
   "language": "python",
   "name": "python3"
  },
  "language_info": {
   "codemirror_mode": {
    "name": "ipython",
    "version": 3
   },
   "file_extension": ".py",
   "mimetype": "text/x-python",
   "name": "python",
   "nbconvert_exporter": "python",
   "pygments_lexer": "ipython3",
   "version": "3.9.16"
  }
 },
 "nbformat": 4,
 "nbformat_minor": 5
}
