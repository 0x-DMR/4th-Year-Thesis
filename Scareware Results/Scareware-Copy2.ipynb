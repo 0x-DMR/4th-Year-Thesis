{
 "cells": [
  {
   "cell_type": "code",
   "execution_count": 1,
   "id": "e1c748fb",
   "metadata": {},
   "outputs": [
    {
     "name": "stderr",
     "output_type": "stream",
     "text": [
      "2023-05-05 16:27:57.985500: I tensorflow/stream_executor/platform/default/dso_loader.cc:49] Successfully opened dynamic library libcudart.so.10.1\n"
     ]
    },
    {
     "name": "stdout",
     "output_type": "stream",
     "text": [
      "Found 97 images belonging to 11 classes.\n",
      "Number of Images and Size of Images:  (97, 64, 64, 3)\n",
      "Number of Images and Families:  (97, 11)\n"
     ]
    }
   ],
   "source": [
    "# The following section is used to generate information about the datasets so these \n",
    "# variables can be initialised in the CNN Model. The information gathered here will\n",
    "# also be used to determine an appropiate size of the training and testing datasets.\n",
    "import os                                                   # Import os to change the information surrounding the enviroment \n",
    "from keras.preprocessing.image import ImageDataGenerator    # Create tensorflow image batches using data augmentation.\n",
    "os.environ['TF_XLA_FLAGS'] = '--tf_xla_enable_xla_devices'\n",
    "locationOfDataset = '/home/dmr/DatasetForExperiments/scareware/'\n",
    "batches = ImageDataGenerator().flow_from_directory(directory=locationOfDataset, target_size=(64,64), batch_size=194)\n",
    "\n",
    "# Print information about Images \n",
    "imgs, labels = next(batches)\n",
    "print(\"Number of Images and Size of Images: \",imgs.shape) # Images with width x length x depth\n",
    "print(\"Number of Images and Families: \",labels.shape) # Lablels with batch_size, number of classes"
   ]
  },
  {
   "cell_type": "code",
   "execution_count": 2,
   "id": "678032d1",
   "metadata": {},
   "outputs": [
    {
     "name": "stdout",
     "output_type": "stream",
     "text": [
      "Number of Samples in Training Set:  (77, 11)\n",
      "Number of Samples in Testing Set:  (20, 11)\n"
     ]
    }
   ],
   "source": [
    "# This section will cover the necessary steps used to split the scareware dataset\n",
    "# into training and testing to evaluate the effectiveness of this convolutional neural \n",
    "# network model based on the scareware samples.\n",
    "import numpy as np                                   # Provides the ability to use numerical data to convert the .dex files to greyscale images\n",
    "import scipy as sp                                   # Provides the use of algorithms to be used \n",
    "from PIL import Image                                # Allow for processing of images\n",
    "\n",
    "# Splitting the Dataset into Training and testing with a test size of 30% of overall \n",
    "# samples in the dataset. \n",
    "from sklearn.model_selection import train_test_split    # Used to split the dataset\n",
    "\n",
    "# Split up the data set, 10% testing 90% training\n",
    "trainX, testX, trainY, testY = train_test_split(imgs/255.,labels, test_size=0.2)\n",
    "\n",
    "# Print the information regarding the training and testing sample sizes\n",
    "#print(\"Size of Training Set: \", trainX.shape)                   # Print training set information\n",
    "#print(\"Size of Testing Set: \",testX.shape)                      # Print testing set information\n",
    "print(\"Number of Samples in Training Set: \",trainY.shape)   # Print training set information\n",
    "print(\"Number of Samples in Testing Set: \",testY.shape)     # Print testing set information"
   ]
  },
  {
   "cell_type": "code",
   "execution_count": 3,
   "id": "612d65d2",
   "metadata": {},
   "outputs": [],
   "source": [
    "# The Convolutional Neural Network Model\n",
    "# This section will encompass the aspects surrounding the convultional neural network\n",
    "# which was used for the experimentation of this research. \n",
    "import keras                                            # Import keras\n",
    "import tensorflow                                       # Import tensorflow\n",
    "from keras.models import Sequential, Input, Model       # Used for CNN model regarding Models\n",
    "from keras.layers import Dense, Dropout, Flatten        # Used for CNN model regarding Layers\n",
    "from keras.layers import Conv2D, MaxPooling2D           # Used for CNN model regarding Layers\n",
    "from tensorflow.keras.layers import BatchNormalization  # Layer used to normalise inputs\n",
    "from tensorflow.keras.metrics import AUC                # Used estimate to Area Under Curve\n",
    "\n",
    "noOfFamilies = 11 # Number of Families in the Sample\n",
    "\n",
    "# Function used to create the layers of the convolutional neural network model. These parameters were\n",
    "# constantly changed throughout testing in order to obtain the best possible results. Within this model \n",
    "# there are 10 main layers and each layers parameters are explained in detail. \n",
    "def CNNModel():\n",
    "    CNNModel = Sequential()        # Sequential Model is used the experiments\n",
    "\n",
    "    # Convolutional Layer: With relu Activation, 31 filters, and a kernel size of 3 x 3\n",
    "    CNNModel.add(Conv2D(30, kernel_size=(3, 3),\n",
    "                     activation='relu',\n",
    "                     input_shape=(64,64,3)))                # Layer 1 \n",
    "\n",
    "    # Max Pooling Layer: With a pool size of 2 x 2\n",
    "    CNNModel.add(MaxPooling2D(pool_size=(2, 2)))            # Layer 2\n",
    "    \n",
    "    # Convolutional Layer: 17 filters and kernel size of 3 x 3 \n",
    "    CNNModel.add(Conv2D(17, (3, 3), activation='relu'))     # Layer 3\n",
    "    \n",
    "    # Max Pooling Layer: Pool size of 2 x 2 \n",
    "    CNNModel.add(MaxPooling2D(pool_size=(2, 2)))            # Layer 4\n",
    "    \n",
    "    # Drop Out Layer: This layer used to drop 25% of neurons in the model .\n",
    "    CNNModel.add(Dropout(0.25))                             # Layer 5\n",
    "    \n",
    "    # Flatten Layer\n",
    "    CNNModel.add(Flatten())                                 # Layer 6\n",
    "    \n",
    "    # Dense/Fully Connected Layer : 128 Neurons using the relu activation function\n",
    "    CNNModel.add(Dense(128, activation='relu'))             # Layer 7\n",
    "    \n",
    "    # Drop Out Layer: This layer used to drop 50% of neurons in the model.\n",
    "    CNNModel.add(Dropout(0.5))                              # Layer 8\n",
    "    \n",
    "    # Dense/Fully Connected Layer : 50 Neurons using the relu activation function\n",
    "    CNNModel.add(Dense(50, activation='relu'))              # Layer 9\n",
    "    \n",
    "    # Dense/Fully Connected Layer : number of families neurons, using the softmax activation function\n",
    "    CNNModel.add(Dense(noOfFamilies, activation='softmax')) # Layer 10\n",
    "    \n",
    "    CNNModel.compile(loss='categorical_crossentropy', optimizer = 'adam', metrics=['accuracy'])\n",
    "    return CNNModel     # Return the Convolutional Neural Network Model"
   ]
  },
  {
   "cell_type": "code",
   "execution_count": 4,
   "id": "43cddf0f",
   "metadata": {},
   "outputs": [],
   "source": [
    "# Measure the effectiveness of the model. This section is used to generate the results of the \n",
    "# corresponding convolutional neural network. For the purpose of this mode, there are three main \n",
    "# measurements which have to be declared. These are recall, preicision and f1. Listed below\n",
    "# are the neccessary formulas which are required to obtain these results.\n",
    "from keras import backend as K\n",
    "\n",
    "# Recall Measurement\n",
    "def recallMeasurement(testY, yPrediction):\n",
    "    true_positives = K.sum(K.round(K.clip(testY * yPrediction, 0, 1)))\n",
    "    possible_positives = K.sum(K.round(K.clip(testY, 0, 1)))\n",
    "    recall = true_positives / (possible_positives + K.epsilon())\n",
    "    return recall\n",
    "\n",
    "# Precision Measurement\n",
    "def precisionMeasurement(testY, yPrediction):\n",
    "    true_positives = K.sum(K.round(K.clip(testY * yPrediction, 0, 1)))\n",
    "    predicted_positives = K.sum(K.round(K.clip(yPrediction, 0, 1)))\n",
    "    precision = true_positives / (predicted_positives + K.epsilon())\n",
    "    return precision\n",
    "\n",
    "# F1 Measurement\n",
    "def f1Measurement(testY, yPrediction):\n",
    "    precision = precisionMeasurement(testY, yPrediction)\n",
    "    recall = recallMeasurement(testY, yPrediction)\n",
    "    return 2*((precision*recall)/(precision+recall+K.epsilon()))"
   ]
  },
  {
   "cell_type": "code",
   "execution_count": 5,
   "id": "3d135f36",
   "metadata": {
    "scrolled": true
   },
   "outputs": [
    {
     "name": "stderr",
     "output_type": "stream",
     "text": [
      "2023-05-05 16:28:01.176928: I tensorflow/stream_executor/platform/default/dso_loader.cc:49] Successfully opened dynamic library libcuda.so.1\n",
      "2023-05-05 16:28:01.494347: E tensorflow/stream_executor/cuda/cuda_driver.cc:328] failed call to cuInit: CUDA_ERROR_NO_DEVICE: no CUDA-capable device is detected\n",
      "2023-05-05 16:28:01.494432: I tensorflow/stream_executor/cuda/cuda_diagnostics.cc:156] kernel driver does not appear to be running on this host (pop-os): /proc/driver/nvidia/version does not exist\n",
      "2023-05-05 16:28:01.495725: I tensorflow/core/platform/cpu_feature_guard.cc:142] This TensorFlow binary is optimized with oneAPI Deep Neural Network Library (oneDNN) to use the following CPU instructions in performance-critical operations:  SSE4.1 SSE4.2 AVX AVX2 FMA\n",
      "To enable them in other operations, rebuild TensorFlow with the appropriate compiler flags.\n",
      "2023-05-05 16:28:01.512470: I tensorflow/core/platform/profile_utils/cpu_utils.cc:112] CPU Frequency: 1999965000 Hz\n",
      "2023-05-05 16:28:01.513847: I tensorflow/compiler/xla/service/service.cc:168] XLA service 0x169dfb0 initialized for platform Host (this does not guarantee that XLA will be used). Devices:\n",
      "2023-05-05 16:28:01.513882: I tensorflow/compiler/xla/service/service.cc:176]   StreamExecutor device (0): Host, Default Version\n"
     ]
    }
   ],
   "source": [
    "# Initialise the Model\n",
    "CNNModel = CNNModel()"
   ]
  },
  {
   "cell_type": "code",
   "execution_count": 6,
   "id": "4f9fc651",
   "metadata": {},
   "outputs": [
    {
     "name": "stdout",
     "output_type": "stream",
     "text": [
      "Model: \"sequential\"\n",
      "_________________________________________________________________\n",
      "Layer (type)                 Output Shape              Param #   \n",
      "=================================================================\n",
      "conv2d (Conv2D)              (None, 62, 62, 30)        840       \n",
      "_________________________________________________________________\n",
      "max_pooling2d (MaxPooling2D) (None, 31, 31, 30)        0         \n",
      "_________________________________________________________________\n",
      "conv2d_1 (Conv2D)            (None, 29, 29, 17)        4607      \n",
      "_________________________________________________________________\n",
      "max_pooling2d_1 (MaxPooling2 (None, 14, 14, 17)        0         \n",
      "_________________________________________________________________\n",
      "dropout (Dropout)            (None, 14, 14, 17)        0         \n",
      "_________________________________________________________________\n",
      "flatten (Flatten)            (None, 3332)              0         \n",
      "_________________________________________________________________\n",
      "dense (Dense)                (None, 128)               426624    \n",
      "_________________________________________________________________\n",
      "dropout_1 (Dropout)          (None, 128)               0         \n",
      "_________________________________________________________________\n",
      "dense_1 (Dense)              (None, 50)                6450      \n",
      "_________________________________________________________________\n",
      "dense_2 (Dense)              (None, 11)                561       \n",
      "=================================================================\n",
      "Total params: 439,082\n",
      "Trainable params: 439,082\n",
      "Non-trainable params: 0\n",
      "_________________________________________________________________\n"
     ]
    }
   ],
   "source": [
    "# Print the Information of the Model. This includes the information surrounding \n",
    "# the layers of the models as well as the number of total parameters\n",
    "CNNModel.summary()"
   ]
  },
  {
   "cell_type": "code",
   "execution_count": 7,
   "id": "45305f00",
   "metadata": {},
   "outputs": [
    {
     "data": {
      "text/plain": [
       "array([ 9,  7,  4,  2,  4,  6,  8,  8,  1,  4,  2,  3,  9,  9,  6,  8,  2,\n",
       "        5,  1,  7,  6, 10,  9,  9,  5,  6,  1,  5,  3, 10,  2,  3, 10,  1,\n",
       "        6,  7,  1,  3,  4, 10,  4,  3,  6,  8,  7, 10,  6,  5,  2,  7,  8,\n",
       "        2,  9,  1,  7,  1,  6,  9,  6,  3,  3,  7, 10,  5,  3,  4,  4,  6,\n",
       "       10,  6,  8,  9,  1, 10,  0,  5,  8])"
      ]
     },
     "execution_count": 7,
     "metadata": {},
     "output_type": "execute_result"
    }
   ],
   "source": [
    "trainY.shape                            # Returns the shape of the trainY array \n",
    "trainY_new = np.argmax(trainY, axis=1)  # Converts the trainY array to an array of integers \n",
    "trainY_new                              # Returns the array of integer labels"
   ]
  },
  {
   "cell_type": "code",
   "execution_count": 8,
   "id": "78a23209",
   "metadata": {},
   "outputs": [],
   "source": [
    "# This section of the model imports the class_weight function from the sklearn.utils \n",
    "# library. This is used to compute the class weights for a multi-class classification problem.\n",
    "# The weightOfModel computes the class weights based on the class distribution found in the \n",
    "# training set. The class_weight parameter is set to balanced which means that the class \n",
    "# weights are automatically adjusted in acorrdance with the information obtained from the \n",
    "# input data.\n",
    "\n",
    "from sklearn.utils import class_weight # Used to compute the class weights for a multi-class classification system\n",
    "weightOfModel = class_weight.compute_class_weight(class_weight = 'balanced',\n",
    "                                                 classes = np.unique(trainY_new),\n",
    "                                                 y = trainY_new)\n",
    "\n",
    "# This code is used to map each unique class label in the training set trainY_new variable. \n",
    "# This is then uses the class_weight variable initialised above. \n",
    "weightOfModel = {l:c for l,c in zip(np.unique(trainY_new), weightOfModel)}"
   ]
  },
  {
   "cell_type": "code",
   "execution_count": 9,
   "id": "b2d1340c",
   "metadata": {},
   "outputs": [],
   "source": [
    "# This is used to compile the Convolutional Neural network Model. It uses the adam optimiser, \n",
    "# computes loss using binary_crossentropy and then calculates the measurements listed before.\n",
    "CNNModel.compile(optimizer='adam', \n",
    "                    loss='binary_crossentropy', \n",
    "                    metrics=[f1Measurement,precisionMeasurement, \n",
    "                    recallMeasurement,\n",
    "                    AUC()])"
   ]
  },
  {
   "cell_type": "code",
   "execution_count": 10,
   "id": "28118981",
   "metadata": {},
   "outputs": [
    {
     "name": "stderr",
     "output_type": "stream",
     "text": [
      "2023-05-05 16:28:01.682204: I tensorflow/compiler/mlir/mlir_graph_optimization_pass.cc:116] None of the MLIR optimization passes are enabled (registered 2)\n"
     ]
    },
    {
     "name": "stdout",
     "output_type": "stream",
     "text": [
      "Epoch 1/100\n",
      "3/3 [==============================] - 1s 283ms/step - loss: 0.6748 - f1Measurement: 0.0000e+00 - precisionMeasurement: 0.0000e+00 - recallMeasurement: 0.0000e+00 - auc: 0.5558 - val_loss: 0.4125 - val_f1Measurement: 0.0000e+00 - val_precisionMeasurement: 0.0000e+00 - val_recallMeasurement: 0.0000e+00 - val_auc: 0.5369\n",
      "Epoch 2/100\n",
      "3/3 [==============================] - 0s 55ms/step - loss: 0.4264 - f1Measurement: 0.0482 - precisionMeasurement: 0.5903 - recallMeasurement: 0.0260 - auc: 0.5437 - val_loss: 0.3351 - val_f1Measurement: 0.0000e+00 - val_precisionMeasurement: 0.0000e+00 - val_recallMeasurement: 0.0000e+00 - val_auc: 0.5668\n",
      "Epoch 3/100\n",
      "3/3 [==============================] - 0s 53ms/step - loss: 0.4407 - f1Measurement: 0.0248 - precisionMeasurement: 0.0389 - recallMeasurement: 0.0182 - auc: 0.5124 - val_loss: 0.3101 - val_f1Measurement: 0.0000e+00 - val_precisionMeasurement: 0.0000e+00 - val_recallMeasurement: 0.0000e+00 - val_auc: 0.6140\n",
      "Epoch 4/100\n",
      "3/3 [==============================] - 0s 51ms/step - loss: 0.3348 - f1Measurement: 0.0222 - precisionMeasurement: 0.0833 - recallMeasurement: 0.0128 - auc: 0.6230 - val_loss: 0.2925 - val_f1Measurement: 0.0000e+00 - val_precisionMeasurement: 0.0000e+00 - val_recallMeasurement: 0.0000e+00 - val_auc: 0.6721\n",
      "Epoch 5/100\n",
      "3/3 [==============================] - 0s 52ms/step - loss: 0.3422 - f1Measurement: 0.0000e+00 - precisionMeasurement: 0.0000e+00 - recallMeasurement: 0.0000e+00 - auc: 0.5591 - val_loss: 0.2974 - val_f1Measurement: 0.0000e+00 - val_precisionMeasurement: 0.0000e+00 - val_recallMeasurement: 0.0000e+00 - val_auc: 0.7211\n",
      "Epoch 6/100\n",
      "3/3 [==============================] - 0s 52ms/step - loss: 0.3562 - f1Measurement: 0.0000e+00 - precisionMeasurement: 0.0000e+00 - recallMeasurement: 0.0000e+00 - auc: 0.4938 - val_loss: 0.2961 - val_f1Measurement: 0.0000e+00 - val_precisionMeasurement: 0.0000e+00 - val_recallMeasurement: 0.0000e+00 - val_auc: 0.7635\n",
      "Epoch 7/100\n",
      "3/3 [==============================] - 0s 51ms/step - loss: 0.3328 - f1Measurement: 0.0000e+00 - precisionMeasurement: 0.0000e+00 - recallMeasurement: 0.0000e+00 - auc: 0.5782 - val_loss: 0.2838 - val_f1Measurement: 0.0000e+00 - val_precisionMeasurement: 0.0000e+00 - val_recallMeasurement: 0.0000e+00 - val_auc: 0.7829\n",
      "Epoch 8/100\n",
      "3/3 [==============================] - 0s 52ms/step - loss: 0.3540 - f1Measurement: 0.0000e+00 - precisionMeasurement: 0.0000e+00 - recallMeasurement: 0.0000e+00 - auc: 0.5698 - val_loss: 0.2843 - val_f1Measurement: 0.0000e+00 - val_precisionMeasurement: 0.0000e+00 - val_recallMeasurement: 0.0000e+00 - val_auc: 0.7297\n",
      "Epoch 9/100\n",
      "3/3 [==============================] - 0s 55ms/step - loss: 0.3212 - f1Measurement: 0.0000e+00 - precisionMeasurement: 0.0000e+00 - recallMeasurement: 0.0000e+00 - auc: 0.6643 - val_loss: 0.2819 - val_f1Measurement: 0.0000e+00 - val_precisionMeasurement: 0.0000e+00 - val_recallMeasurement: 0.0000e+00 - val_auc: 0.7212\n",
      "Epoch 10/100\n",
      "3/3 [==============================] - 0s 52ms/step - loss: 0.3174 - f1Measurement: 0.0500 - precisionMeasurement: 0.6875 - recallMeasurement: 0.0260 - auc: 0.6019 - val_loss: 0.2774 - val_f1Measurement: 0.0000e+00 - val_precisionMeasurement: 0.0000e+00 - val_recallMeasurement: 0.0000e+00 - val_auc: 0.7431\n",
      "Epoch 11/100\n",
      "3/3 [==============================] - 0s 53ms/step - loss: 0.3185 - f1Measurement: 0.0328 - precisionMeasurement: 0.5417 - recallMeasurement: 0.0169 - auc: 0.6154 - val_loss: 0.2711 - val_f1Measurement: 0.0000e+00 - val_precisionMeasurement: 0.0000e+00 - val_recallMeasurement: 0.0000e+00 - val_auc: 0.7837\n",
      "Epoch 12/100\n",
      "3/3 [==============================] - 0s 65ms/step - loss: 0.2786 - f1Measurement: 0.0621 - precisionMeasurement: 0.4583 - recallMeasurement: 0.0348 - auc: 0.7499 - val_loss: 0.2587 - val_f1Measurement: 0.1818 - val_precisionMeasurement: 1.0000 - val_recallMeasurement: 0.1000 - val_auc: 0.8211\n",
      "Epoch 13/100\n",
      "3/3 [==============================] - 0s 56ms/step - loss: 0.3151 - f1Measurement: 0.0971 - precisionMeasurement: 0.7361 - recallMeasurement: 0.0521 - auc: 0.6865 - val_loss: 0.2564 - val_f1Measurement: 0.1818 - val_precisionMeasurement: 1.0000 - val_recallMeasurement: 0.1000 - val_auc: 0.8574\n",
      "Epoch 14/100\n",
      "3/3 [==============================] - 0s 56ms/step - loss: 0.2939 - f1Measurement: 0.0652 - precisionMeasurement: 0.4653 - recallMeasurement: 0.0352 - auc: 0.7146 - val_loss: 0.2571 - val_f1Measurement: 0.1818 - val_precisionMeasurement: 1.0000 - val_recallMeasurement: 0.1000 - val_auc: 0.8316\n",
      "Epoch 15/100\n",
      "3/3 [==============================] - 0s 59ms/step - loss: 0.2847 - f1Measurement: 0.0415 - precisionMeasurement: 0.4583 - recallMeasurement: 0.0219 - auc: 0.7198 - val_loss: 0.2563 - val_f1Measurement: 0.1818 - val_precisionMeasurement: 1.0000 - val_recallMeasurement: 0.1000 - val_auc: 0.8556\n",
      "Epoch 16/100\n",
      "3/3 [==============================] - 0s 60ms/step - loss: 0.2645 - f1Measurement: 0.0177 - precisionMeasurement: 0.2917 - recallMeasurement: 0.0091 - auc: 0.7749 - val_loss: 0.2515 - val_f1Measurement: 0.1818 - val_precisionMeasurement: 1.0000 - val_recallMeasurement: 0.1000 - val_auc: 0.8575\n",
      "Epoch 17/100\n",
      "3/3 [==============================] - 0s 58ms/step - loss: 0.2930 - f1Measurement: 0.0343 - precisionMeasurement: 0.2917 - recallMeasurement: 0.0182 - auc: 0.7392 - val_loss: 0.2517 - val_f1Measurement: 0.2609 - val_precisionMeasurement: 1.0000 - val_recallMeasurement: 0.1500 - val_auc: 0.8303\n",
      "Epoch 18/100\n",
      "3/3 [==============================] - 0s 63ms/step - loss: 0.2717 - f1Measurement: 0.0708 - precisionMeasurement: 0.7431 - recallMeasurement: 0.0389 - auc: 0.7397 - val_loss: 0.2474 - val_f1Measurement: 0.2609 - val_precisionMeasurement: 1.0000 - val_recallMeasurement: 0.1500 - val_auc: 0.8369\n",
      "Epoch 19/100\n",
      "3/3 [==============================] - 0s 57ms/step - loss: 0.2482 - f1Measurement: 0.0962 - precisionMeasurement: 0.6528 - recallMeasurement: 0.0521 - auc: 0.7853 - val_loss: 0.2410 - val_f1Measurement: 0.2609 - val_precisionMeasurement: 1.0000 - val_recallMeasurement: 0.1500 - val_auc: 0.8577\n",
      "Epoch 20/100\n",
      "3/3 [==============================] - 0s 62ms/step - loss: 0.2636 - f1Measurement: 0.1119 - precisionMeasurement: 0.6528 - recallMeasurement: 0.0612 - auc: 0.7848 - val_loss: 0.2354 - val_f1Measurement: 0.2609 - val_precisionMeasurement: 1.0000 - val_recallMeasurement: 0.1500 - val_auc: 0.8812\n",
      "Epoch 21/100\n",
      "3/3 [==============================] - 0s 60ms/step - loss: 0.2780 - f1Measurement: 0.1568 - precisionMeasurement: 0.9271 - recallMeasurement: 0.0868 - auc: 0.8325 - val_loss: 0.2313 - val_f1Measurement: 0.2609 - val_precisionMeasurement: 1.0000 - val_recallMeasurement: 0.1500 - val_auc: 0.8999\n",
      "Epoch 22/100\n",
      "3/3 [==============================] - 0s 57ms/step - loss: 0.2381 - f1Measurement: 0.2435 - precisionMeasurement: 0.9271 - recallMeasurement: 0.1417 - auc: 0.8642 - val_loss: 0.2253 - val_f1Measurement: 0.2609 - val_precisionMeasurement: 1.0000 - val_recallMeasurement: 0.1500 - val_auc: 0.8999\n",
      "Epoch 23/100\n",
      "3/3 [==============================] - 0s 55ms/step - loss: 0.2508 - f1Measurement: 0.2296 - precisionMeasurement: 0.8264 - recallMeasurement: 0.1339 - auc: 0.8508 - val_loss: 0.2245 - val_f1Measurement: 0.2609 - val_precisionMeasurement: 1.0000 - val_recallMeasurement: 0.1500 - val_auc: 0.8885\n",
      "Epoch 24/100\n",
      "3/3 [==============================] - 0s 53ms/step - loss: 0.2311 - f1Measurement: 0.2557 - precisionMeasurement: 1.0000 - recallMeasurement: 0.1467 - auc: 0.8636 - val_loss: 0.2236 - val_f1Measurement: 0.2609 - val_precisionMeasurement: 1.0000 - val_recallMeasurement: 0.1500 - val_auc: 0.8947\n",
      "Epoch 25/100\n",
      "3/3 [==============================] - 0s 63ms/step - loss: 0.2371 - f1Measurement: 0.2021 - precisionMeasurement: 1.0000 - recallMeasurement: 0.1129 - auc: 0.9132 - val_loss: 0.2197 - val_f1Measurement: 0.2609 - val_precisionMeasurement: 1.0000 - val_recallMeasurement: 0.1500 - val_auc: 0.9005\n",
      "Epoch 26/100\n",
      "3/3 [==============================] - 0s 57ms/step - loss: 0.2150 - f1Measurement: 0.2704 - precisionMeasurement: 0.8381 - recallMeasurement: 0.1676 - auc: 0.8863 - val_loss: 0.2132 - val_f1Measurement: 0.4615 - val_precisionMeasurement: 1.0000 - val_recallMeasurement: 0.3000 - val_auc: 0.9066\n"
     ]
    },
    {
     "name": "stdout",
     "output_type": "stream",
     "text": [
      "Epoch 27/100\n",
      "3/3 [==============================] - 0s 61ms/step - loss: 0.2122 - f1Measurement: 0.2889 - precisionMeasurement: 0.8981 - recallMeasurement: 0.1989 - auc: 0.8890 - val_loss: 0.2088 - val_f1Measurement: 0.4615 - val_precisionMeasurement: 1.0000 - val_recallMeasurement: 0.3000 - val_auc: 0.9177\n",
      "Epoch 28/100\n",
      "3/3 [==============================] - 0s 55ms/step - loss: 0.1845 - f1Measurement: 0.4472 - precisionMeasurement: 0.9225 - recallMeasurement: 0.2976 - auc: 0.9431 - val_loss: 0.1989 - val_f1Measurement: 0.4615 - val_precisionMeasurement: 1.0000 - val_recallMeasurement: 0.3000 - val_auc: 0.9214\n",
      "Epoch 29/100\n",
      "3/3 [==============================] - 0s 53ms/step - loss: 0.2010 - f1Measurement: 0.3363 - precisionMeasurement: 0.7521 - recallMeasurement: 0.2230 - auc: 0.9103 - val_loss: 0.1950 - val_f1Measurement: 0.5185 - val_precisionMeasurement: 1.0000 - val_recallMeasurement: 0.3500 - val_auc: 0.9221\n",
      "Epoch 30/100\n",
      "3/3 [==============================] - 0s 52ms/step - loss: 0.1993 - f1Measurement: 0.4119 - precisionMeasurement: 0.8868 - recallMeasurement: 0.2687 - auc: 0.9101 - val_loss: 0.1910 - val_f1Measurement: 0.5185 - val_precisionMeasurement: 1.0000 - val_recallMeasurement: 0.3500 - val_auc: 0.9209\n",
      "Epoch 31/100\n",
      "3/3 [==============================] - 0s 50ms/step - loss: 0.2083 - f1Measurement: 0.3775 - precisionMeasurement: 0.9676 - recallMeasurement: 0.2386 - auc: 0.9246 - val_loss: 0.1866 - val_f1Measurement: 0.5185 - val_precisionMeasurement: 1.0000 - val_recallMeasurement: 0.3500 - val_auc: 0.9264\n",
      "Epoch 32/100\n",
      "3/3 [==============================] - 0s 51ms/step - loss: 0.1837 - f1Measurement: 0.3868 - precisionMeasurement: 0.8403 - recallMeasurement: 0.2531 - auc: 0.9233 - val_loss: 0.1853 - val_f1Measurement: 0.5185 - val_precisionMeasurement: 1.0000 - val_recallMeasurement: 0.3500 - val_auc: 0.9336\n",
      "Epoch 33/100\n",
      "3/3 [==============================] - 0s 52ms/step - loss: 0.1627 - f1Measurement: 0.5215 - precisionMeasurement: 0.9059 - recallMeasurement: 0.3721 - auc: 0.9662 - val_loss: 0.1850 - val_f1Measurement: 0.5185 - val_precisionMeasurement: 1.0000 - val_recallMeasurement: 0.3500 - val_auc: 0.9376\n",
      "Epoch 34/100\n",
      "3/3 [==============================] - 0s 50ms/step - loss: 0.1746 - f1Measurement: 0.5208 - precisionMeasurement: 0.9091 - recallMeasurement: 0.3684 - auc: 0.9342 - val_loss: 0.1777 - val_f1Measurement: 0.6207 - val_precisionMeasurement: 1.0000 - val_recallMeasurement: 0.4500 - val_auc: 0.9402\n",
      "Epoch 35/100\n",
      "3/3 [==============================] - 0s 50ms/step - loss: 0.1780 - f1Measurement: 0.5126 - precisionMeasurement: 0.8697 - recallMeasurement: 0.3721 - auc: 0.9503 - val_loss: 0.1720 - val_f1Measurement: 0.6207 - val_precisionMeasurement: 1.0000 - val_recallMeasurement: 0.4500 - val_auc: 0.9422\n",
      "Epoch 36/100\n",
      "3/3 [==============================] - 0s 50ms/step - loss: 0.1443 - f1Measurement: 0.6354 - precisionMeasurement: 0.9276 - recallMeasurement: 0.4858 - auc: 0.9658 - val_loss: 0.1666 - val_f1Measurement: 0.6667 - val_precisionMeasurement: 1.0000 - val_recallMeasurement: 0.5000 - val_auc: 0.9446\n",
      "Epoch 37/100\n",
      "3/3 [==============================] - 0s 52ms/step - loss: 0.1522 - f1Measurement: 0.6148 - precisionMeasurement: 0.8677 - recallMeasurement: 0.4776 - auc: 0.9653 - val_loss: 0.1631 - val_f1Measurement: 0.6667 - val_precisionMeasurement: 1.0000 - val_recallMeasurement: 0.5000 - val_auc: 0.9471\n",
      "Epoch 38/100\n",
      "3/3 [==============================] - 0s 50ms/step - loss: 0.1367 - f1Measurement: 0.6659 - precisionMeasurement: 0.9296 - recallMeasurement: 0.5237 - auc: 0.9750 - val_loss: 0.1616 - val_f1Measurement: 0.7097 - val_precisionMeasurement: 1.0000 - val_recallMeasurement: 0.5500 - val_auc: 0.9390\n",
      "Epoch 39/100\n",
      "3/3 [==============================] - 0s 50ms/step - loss: 0.1265 - f1Measurement: 0.6957 - precisionMeasurement: 0.9854 - recallMeasurement: 0.5420 - auc: 0.9799 - val_loss: 0.1571 - val_f1Measurement: 0.7097 - val_precisionMeasurement: 1.0000 - val_recallMeasurement: 0.5500 - val_auc: 0.9471\n",
      "Epoch 40/100\n",
      "3/3 [==============================] - 0s 51ms/step - loss: 0.1193 - f1Measurement: 0.7462 - precisionMeasurement: 0.9099 - recallMeasurement: 0.6334 - auc: 0.9881 - val_loss: 0.1498 - val_f1Measurement: 0.7500 - val_precisionMeasurement: 1.0000 - val_recallMeasurement: 0.6000 - val_auc: 0.9549\n",
      "Epoch 41/100\n",
      "3/3 [==============================] - 0s 51ms/step - loss: 0.1219 - f1Measurement: 0.7106 - precisionMeasurement: 0.9096 - recallMeasurement: 0.5832 - auc: 0.9801 - val_loss: 0.1451 - val_f1Measurement: 0.8235 - val_precisionMeasurement: 1.0000 - val_recallMeasurement: 0.7000 - val_auc: 0.9551\n",
      "Epoch 42/100\n",
      "3/3 [==============================] - 0s 54ms/step - loss: 0.1033 - f1Measurement: 0.8445 - precisionMeasurement: 0.9815 - recallMeasurement: 0.7432 - auc: 0.9955 - val_loss: 0.1418 - val_f1Measurement: 0.7879 - val_precisionMeasurement: 1.0000 - val_recallMeasurement: 0.6500 - val_auc: 0.9574\n",
      "Epoch 43/100\n",
      "3/3 [==============================] - 0s 51ms/step - loss: 0.1008 - f1Measurement: 0.7914 - precisionMeasurement: 0.9873 - recallMeasurement: 0.6627 - auc: 0.9928 - val_loss: 0.1436 - val_f1Measurement: 0.7097 - val_precisionMeasurement: 1.0000 - val_recallMeasurement: 0.5500 - val_auc: 0.9575\n",
      "Epoch 44/100\n",
      "3/3 [==============================] - 0s 50ms/step - loss: 0.1000 - f1Measurement: 0.8037 - precisionMeasurement: 0.9445 - recallMeasurement: 0.7015 - auc: 0.9929 - val_loss: 0.1479 - val_f1Measurement: 0.7500 - val_precisionMeasurement: 1.0000 - val_recallMeasurement: 0.6000 - val_auc: 0.9436\n",
      "Epoch 45/100\n",
      "3/3 [==============================] - 0s 51ms/step - loss: 0.1075 - f1Measurement: 0.8134 - precisionMeasurement: 0.9107 - recallMeasurement: 0.7372 - auc: 0.9834 - val_loss: 0.1519 - val_f1Measurement: 0.7879 - val_precisionMeasurement: 1.0000 - val_recallMeasurement: 0.6500 - val_auc: 0.9342\n",
      "Epoch 46/100\n",
      "3/3 [==============================] - 0s 50ms/step - loss: 0.1066 - f1Measurement: 0.8085 - precisionMeasurement: 0.9086 - recallMeasurement: 0.7285 - auc: 0.9852 - val_loss: 0.1459 - val_f1Measurement: 0.7273 - val_precisionMeasurement: 0.9231 - val_recallMeasurement: 0.6000 - val_auc: 0.9481\n",
      "Epoch 47/100\n",
      "3/3 [==============================] - 0s 49ms/step - loss: 0.0826 - f1Measurement: 0.8889 - precisionMeasurement: 0.9453 - recallMeasurement: 0.8391 - auc: 0.9945 - val_loss: 0.1417 - val_f1Measurement: 0.7879 - val_precisionMeasurement: 1.0000 - val_recallMeasurement: 0.6500 - val_auc: 0.9579\n",
      "Epoch 48/100\n",
      "3/3 [==============================] - 0s 50ms/step - loss: 0.0850 - f1Measurement: 0.8654 - precisionMeasurement: 0.9354 - recallMeasurement: 0.8053 - auc: 0.9952 - val_loss: 0.1438 - val_f1Measurement: 0.7097 - val_precisionMeasurement: 1.0000 - val_recallMeasurement: 0.5500 - val_auc: 0.9541\n",
      "Epoch 49/100\n",
      "3/3 [==============================] - 0s 51ms/step - loss: 0.0818 - f1Measurement: 0.8441 - precisionMeasurement: 0.9202 - recallMeasurement: 0.7821 - auc: 0.9962 - val_loss: 0.1463 - val_f1Measurement: 0.6667 - val_precisionMeasurement: 0.8462 - val_recallMeasurement: 0.5500 - val_auc: 0.9512\n",
      "Epoch 50/100\n",
      "3/3 [==============================] - 0s 50ms/step - loss: 0.0799 - f1Measurement: 0.8938 - precisionMeasurement: 0.9635 - recallMeasurement: 0.8361 - auc: 0.9966 - val_loss: 0.1393 - val_f1Measurement: 0.6857 - val_precisionMeasurement: 0.8000 - val_recallMeasurement: 0.6000 - val_auc: 0.9577\n",
      "Epoch 51/100\n",
      "3/3 [==============================] - 0s 51ms/step - loss: 0.0681 - f1Measurement: 0.9236 - precisionMeasurement: 0.9653 - recallMeasurement: 0.8858 - auc: 0.9967 - val_loss: 0.1344 - val_f1Measurement: 0.7273 - val_precisionMeasurement: 0.9231 - val_recallMeasurement: 0.6000 - val_auc: 0.9624\n",
      "Epoch 52/100\n",
      "3/3 [==============================] - 0s 51ms/step - loss: 0.0706 - f1Measurement: 0.9462 - precisionMeasurement: 0.9722 - recallMeasurement: 0.9219 - auc: 0.9975 - val_loss: 0.1432 - val_f1Measurement: 0.7879 - val_precisionMeasurement: 1.0000 - val_recallMeasurement: 0.6500 - val_auc: 0.9594\n",
      "Epoch 53/100\n"
     ]
    },
    {
     "name": "stdout",
     "output_type": "stream",
     "text": [
      "3/3 [==============================] - 0s 51ms/step - loss: 0.0721 - f1Measurement: 0.9396 - precisionMeasurement: 0.9722 - recallMeasurement: 0.9091 - auc: 0.9983 - val_loss: 0.1393 - val_f1Measurement: 0.7879 - val_precisionMeasurement: 1.0000 - val_recallMeasurement: 0.6500 - val_auc: 0.9629\n",
      "Epoch 54/100\n",
      "3/3 [==============================] - 0s 50ms/step - loss: 0.0651 - f1Measurement: 0.9250 - precisionMeasurement: 0.9713 - recallMeasurement: 0.8830 - auc: 0.9982 - val_loss: 0.1374 - val_f1Measurement: 0.7273 - val_precisionMeasurement: 0.9231 - val_recallMeasurement: 0.6000 - val_auc: 0.9618\n",
      "Epoch 55/100\n",
      "3/3 [==============================] - 0s 49ms/step - loss: 0.0660 - f1Measurement: 0.9302 - precisionMeasurement: 0.9899 - recallMeasurement: 0.8789 - auc: 0.9965 - val_loss: 0.1492 - val_f1Measurement: 0.6857 - val_precisionMeasurement: 0.8000 - val_recallMeasurement: 0.6000 - val_auc: 0.9416\n",
      "Epoch 56/100\n",
      "3/3 [==============================] - 0s 50ms/step - loss: 0.0575 - f1Measurement: 0.9197 - precisionMeasurement: 0.9807 - recallMeasurement: 0.8661 - auc: 0.9983 - val_loss: 0.1589 - val_f1Measurement: 0.6857 - val_precisionMeasurement: 0.8000 - val_recallMeasurement: 0.6000 - val_auc: 0.9439\n",
      "Epoch 57/100\n",
      "3/3 [==============================] - 0s 50ms/step - loss: 0.0521 - f1Measurement: 0.9572 - precisionMeasurement: 1.0000 - recallMeasurement: 0.9195 - auc: 0.9993 - val_loss: 0.1436 - val_f1Measurement: 0.7059 - val_precisionMeasurement: 0.8571 - val_recallMeasurement: 0.6000 - val_auc: 0.9503\n",
      "Epoch 58/100\n",
      "3/3 [==============================] - 0s 50ms/step - loss: 0.0400 - f1Measurement: 0.9779 - precisionMeasurement: 1.0000 - recallMeasurement: 0.9570 - auc: 0.9999 - val_loss: 0.1331 - val_f1Measurement: 0.7647 - val_precisionMeasurement: 0.9286 - val_recallMeasurement: 0.6500 - val_auc: 0.9540\n",
      "Epoch 59/100\n",
      "3/3 [==============================] - 0s 51ms/step - loss: 0.0551 - f1Measurement: 0.9307 - precisionMeasurement: 0.9631 - recallMeasurement: 0.9012 - auc: 0.9962 - val_loss: 0.1312 - val_f1Measurement: 0.7647 - val_precisionMeasurement: 0.9286 - val_recallMeasurement: 0.6500 - val_auc: 0.9522\n",
      "Epoch 60/100\n",
      "3/3 [==============================] - 0s 50ms/step - loss: 0.0686 - f1Measurement: 0.9475 - precisionMeasurement: 0.9603 - recallMeasurement: 0.9351 - auc: 0.9982 - val_loss: 0.1300 - val_f1Measurement: 0.7059 - val_precisionMeasurement: 0.8571 - val_recallMeasurement: 0.6000 - val_auc: 0.9486\n",
      "Epoch 61/100\n",
      "3/3 [==============================] - 0s 50ms/step - loss: 0.0375 - f1Measurement: 0.9868 - precisionMeasurement: 1.0000 - recallMeasurement: 0.9740 - auc: 1.0000 - val_loss: 0.1375 - val_f1Measurement: 0.7222 - val_precisionMeasurement: 0.8125 - val_recallMeasurement: 0.6500 - val_auc: 0.9457\n",
      "Epoch 62/100\n",
      "3/3 [==============================] - 0s 50ms/step - loss: 0.0440 - f1Measurement: 0.9727 - precisionMeasurement: 0.9727 - recallMeasurement: 0.9727 - auc: 0.9997 - val_loss: 0.1454 - val_f1Measurement: 0.7027 - val_precisionMeasurement: 0.7647 - val_recallMeasurement: 0.6500 - val_auc: 0.9479\n",
      "Epoch 63/100\n",
      "3/3 [==============================] - 0s 50ms/step - loss: 0.0516 - f1Measurement: 0.9581 - precisionMeasurement: 1.0000 - recallMeasurement: 0.9210 - auc: 0.9987 - val_loss: 0.1443 - val_f1Measurement: 0.7778 - val_precisionMeasurement: 0.8750 - val_recallMeasurement: 0.7000 - val_auc: 0.9525\n",
      "Epoch 64/100\n",
      "3/3 [==============================] - 0s 52ms/step - loss: 0.0318 - f1Measurement: 0.9740 - precisionMeasurement: 0.9740 - recallMeasurement: 0.9740 - auc: 0.9997 - val_loss: 0.1391 - val_f1Measurement: 0.7429 - val_precisionMeasurement: 0.8667 - val_recallMeasurement: 0.6500 - val_auc: 0.9510\n",
      "Epoch 65/100\n",
      "3/3 [==============================] - 0s 51ms/step - loss: 0.0403 - f1Measurement: 0.9615 - precisionMeasurement: 0.9661 - recallMeasurement: 0.9570 - auc: 0.9990 - val_loss: 0.1313 - val_f1Measurement: 0.8000 - val_precisionMeasurement: 0.9333 - val_recallMeasurement: 0.7000 - val_auc: 0.9521\n",
      "Epoch 66/100\n",
      "3/3 [==============================] - 0s 49ms/step - loss: 0.0380 - f1Measurement: 0.9513 - precisionMeasurement: 0.9799 - recallMeasurement: 0.9247 - auc: 0.9992 - val_loss: 0.1344 - val_f1Measurement: 0.8108 - val_precisionMeasurement: 0.8824 - val_recallMeasurement: 0.7500 - val_auc: 0.9540\n",
      "Epoch 67/100\n",
      "3/3 [==============================] - 0s 52ms/step - loss: 0.0339 - f1Measurement: 0.9914 - precisionMeasurement: 1.0000 - recallMeasurement: 0.9831 - auc: 1.0000 - val_loss: 0.1418 - val_f1Measurement: 0.7568 - val_precisionMeasurement: 0.8235 - val_recallMeasurement: 0.7000 - val_auc: 0.9525\n",
      "Epoch 68/100\n",
      "3/3 [==============================] - 0s 50ms/step - loss: 0.0290 - f1Measurement: 0.9823 - precisionMeasurement: 0.9909 - recallMeasurement: 0.9740 - auc: 1.0000 - val_loss: 0.1523 - val_f1Measurement: 0.7568 - val_precisionMeasurement: 0.8235 - val_recallMeasurement: 0.7000 - val_auc: 0.9475\n",
      "Epoch 69/100\n",
      "3/3 [==============================] - 0s 52ms/step - loss: 0.0308 - f1Measurement: 1.0000 - precisionMeasurement: 1.0000 - recallMeasurement: 1.0000 - auc: 1.0000 - val_loss: 0.1533 - val_f1Measurement: 0.7222 - val_precisionMeasurement: 0.8125 - val_recallMeasurement: 0.6500 - val_auc: 0.9461\n",
      "Epoch 70/100\n",
      "3/3 [==============================] - 0s 50ms/step - loss: 0.0247 - f1Measurement: 0.9784 - precisionMeasurement: 0.9831 - recallMeasurement: 0.9740 - auc: 0.9998 - val_loss: 0.1486 - val_f1Measurement: 0.6857 - val_precisionMeasurement: 0.8000 - val_recallMeasurement: 0.6000 - val_auc: 0.9485\n",
      "Epoch 71/100\n",
      "3/3 [==============================] - 0s 55ms/step - loss: 0.0373 - f1Measurement: 0.9820 - precisionMeasurement: 1.0000 - recallMeasurement: 0.9648 - auc: 0.9999 - val_loss: 0.1417 - val_f1Measurement: 0.6667 - val_precisionMeasurement: 0.7500 - val_recallMeasurement: 0.6000 - val_auc: 0.9521\n",
      "Epoch 72/100\n",
      "3/3 [==============================] - 0s 53ms/step - loss: 0.0342 - f1Measurement: 0.9557 - precisionMeasurement: 0.9825 - recallMeasurement: 0.9314 - auc: 0.9993 - val_loss: 0.1305 - val_f1Measurement: 0.6857 - val_precisionMeasurement: 0.8000 - val_recallMeasurement: 0.6000 - val_auc: 0.9538\n",
      "Epoch 73/100\n",
      "3/3 [==============================] - 0s 52ms/step - loss: 0.0298 - f1Measurement: 0.9784 - precisionMeasurement: 0.9831 - recallMeasurement: 0.9740 - auc: 0.9998 - val_loss: 0.1284 - val_f1Measurement: 0.7368 - val_precisionMeasurement: 0.7778 - val_recallMeasurement: 0.7000 - val_auc: 0.9513\n",
      "Epoch 74/100\n",
      "3/3 [==============================] - 0s 52ms/step - loss: 0.0203 - f1Measurement: 0.9954 - precisionMeasurement: 1.0000 - recallMeasurement: 0.9909 - auc: 1.0000 - val_loss: 0.1457 - val_f1Measurement: 0.7027 - val_precisionMeasurement: 0.7647 - val_recallMeasurement: 0.6500 - val_auc: 0.9509\n",
      "Epoch 75/100\n",
      "3/3 [==============================] - 0s 50ms/step - loss: 0.0200 - f1Measurement: 0.9842 - precisionMeasurement: 0.9909 - recallMeasurement: 0.9781 - auc: 0.9999 - val_loss: 0.1631 - val_f1Measurement: 0.7368 - val_precisionMeasurement: 0.7778 - val_recallMeasurement: 0.7000 - val_auc: 0.9493\n",
      "Epoch 76/100\n",
      "3/3 [==============================] - 0s 51ms/step - loss: 0.0387 - f1Measurement: 0.9524 - precisionMeasurement: 0.9651 - recallMeasurement: 0.9401 - auc: 0.9992 - val_loss: 0.1471 - val_f1Measurement: 0.6667 - val_precisionMeasurement: 0.7500 - val_recallMeasurement: 0.6000 - val_auc: 0.9448\n",
      "Epoch 77/100\n",
      "3/3 [==============================] - 0s 50ms/step - loss: 0.0216 - f1Measurement: 0.9740 - precisionMeasurement: 0.9740 - recallMeasurement: 0.9740 - auc: 0.9999 - val_loss: 0.1463 - val_f1Measurement: 0.6667 - val_precisionMeasurement: 0.7500 - val_recallMeasurement: 0.6000 - val_auc: 0.9434\n",
      "Epoch 78/100\n",
      "3/3 [==============================] - 0s 52ms/step - loss: 0.0263 - f1Measurement: 0.9764 - precisionMeasurement: 0.9831 - recallMeasurement: 0.9703 - auc: 0.9999 - val_loss: 0.1602 - val_f1Measurement: 0.6667 - val_precisionMeasurement: 0.7500 - val_recallMeasurement: 0.6000 - val_auc: 0.9380\n",
      "Epoch 79/100\n",
      "3/3 [==============================] - 0s 50ms/step - loss: 0.0338 - f1Measurement: 0.9426 - precisionMeasurement: 0.9492 - recallMeasurement: 0.9364 - auc: 0.9988 - val_loss: 0.1640 - val_f1Measurement: 0.6667 - val_precisionMeasurement: 0.7500 - val_recallMeasurement: 0.6000 - val_auc: 0.9361\n"
     ]
    },
    {
     "name": "stdout",
     "output_type": "stream",
     "text": [
      "Epoch 80/100\n",
      "3/3 [==============================] - 0s 50ms/step - loss: 0.0200 - f1Measurement: 0.9786 - precisionMeasurement: 0.9872 - recallMeasurement: 0.9703 - auc: 1.0000 - val_loss: 0.1608 - val_f1Measurement: 0.6857 - val_precisionMeasurement: 0.8000 - val_recallMeasurement: 0.6000 - val_auc: 0.9394\n",
      "Epoch 81/100\n",
      "3/3 [==============================] - 0s 49ms/step - loss: 0.0194 - f1Measurement: 0.9906 - precisionMeasurement: 1.0000 - recallMeasurement: 0.9818 - auc: 1.0000 - val_loss: 0.1492 - val_f1Measurement: 0.6857 - val_precisionMeasurement: 0.8000 - val_recallMeasurement: 0.6000 - val_auc: 0.9450\n",
      "Epoch 82/100\n",
      "3/3 [==============================] - 0s 51ms/step - loss: 0.0239 - f1Measurement: 0.9868 - precisionMeasurement: 1.0000 - recallMeasurement: 0.9740 - auc: 1.0000 - val_loss: 0.1441 - val_f1Measurement: 0.6857 - val_precisionMeasurement: 0.8000 - val_recallMeasurement: 0.6000 - val_auc: 0.9470\n",
      "Epoch 83/100\n",
      "3/3 [==============================] - 0s 49ms/step - loss: 0.0224 - f1Measurement: 0.9909 - precisionMeasurement: 0.9909 - recallMeasurement: 0.9909 - auc: 0.9998 - val_loss: 0.1472 - val_f1Measurement: 0.6667 - val_precisionMeasurement: 0.7500 - val_recallMeasurement: 0.6000 - val_auc: 0.9509\n",
      "Epoch 84/100\n",
      "3/3 [==============================] - 0s 49ms/step - loss: 0.0261 - f1Measurement: 0.9611 - precisionMeasurement: 0.9611 - recallMeasurement: 0.9611 - auc: 0.9987 - val_loss: 0.1495 - val_f1Measurement: 0.7027 - val_precisionMeasurement: 0.7647 - val_recallMeasurement: 0.6500 - val_auc: 0.9499\n",
      "Epoch 85/100\n",
      "3/3 [==============================] - 0s 52ms/step - loss: 0.0201 - f1Measurement: 0.9831 - precisionMeasurement: 0.9831 - recallMeasurement: 0.9831 - auc: 0.9995 - val_loss: 0.1560 - val_f1Measurement: 0.7027 - val_precisionMeasurement: 0.7647 - val_recallMeasurement: 0.6500 - val_auc: 0.9463\n",
      "Epoch 86/100\n",
      "3/3 [==============================] - 0s 52ms/step - loss: 0.0145 - f1Measurement: 0.9954 - precisionMeasurement: 1.0000 - recallMeasurement: 0.9909 - auc: 1.0000 - val_loss: 0.1718 - val_f1Measurement: 0.7027 - val_precisionMeasurement: 0.7647 - val_recallMeasurement: 0.6500 - val_auc: 0.9435\n",
      "Epoch 87/100\n",
      "3/3 [==============================] - 0s 51ms/step - loss: 0.0119 - f1Measurement: 1.0000 - precisionMeasurement: 1.0000 - recallMeasurement: 1.0000 - auc: 1.0000 - val_loss: 0.1837 - val_f1Measurement: 0.6842 - val_precisionMeasurement: 0.7222 - val_recallMeasurement: 0.6500 - val_auc: 0.9455\n",
      "Epoch 88/100\n",
      "3/3 [==============================] - 0s 51ms/step - loss: 0.0113 - f1Measurement: 1.0000 - precisionMeasurement: 1.0000 - recallMeasurement: 1.0000 - auc: 1.0000 - val_loss: 0.1854 - val_f1Measurement: 0.7000 - val_precisionMeasurement: 0.7000 - val_recallMeasurement: 0.7000 - val_auc: 0.9299\n",
      "Epoch 89/100\n",
      "3/3 [==============================] - 0s 50ms/step - loss: 0.0253 - f1Measurement: 0.9642 - precisionMeasurement: 0.9909 - recallMeasurement: 0.9401 - auc: 0.9996 - val_loss: 0.1827 - val_f1Measurement: 0.7179 - val_precisionMeasurement: 0.7368 - val_recallMeasurement: 0.7000 - val_auc: 0.9304\n",
      "Epoch 90/100\n",
      "3/3 [==============================] - 0s 51ms/step - loss: 0.0191 - f1Measurement: 0.9818 - precisionMeasurement: 0.9818 - recallMeasurement: 0.9818 - auc: 0.9999 - val_loss: 0.1757 - val_f1Measurement: 0.7000 - val_precisionMeasurement: 0.7000 - val_recallMeasurement: 0.7000 - val_auc: 0.9305\n",
      "Epoch 91/100\n",
      "3/3 [==============================] - 0s 53ms/step - loss: 0.0133 - f1Measurement: 1.0000 - precisionMeasurement: 1.0000 - recallMeasurement: 1.0000 - auc: 1.0000 - val_loss: 0.1761 - val_f1Measurement: 0.7500 - val_precisionMeasurement: 0.7500 - val_recallMeasurement: 0.7500 - val_auc: 0.9287\n",
      "Epoch 92/100\n",
      "3/3 [==============================] - 0s 51ms/step - loss: 0.0153 - f1Measurement: 0.9744 - precisionMeasurement: 0.9744 - recallMeasurement: 0.9744 - auc: 0.9999 - val_loss: 0.1836 - val_f1Measurement: 0.7500 - val_precisionMeasurement: 0.7500 - val_recallMeasurement: 0.7500 - val_auc: 0.9484\n",
      "Epoch 93/100\n",
      "3/3 [==============================] - 0s 49ms/step - loss: 0.0142 - f1Measurement: 0.9914 - precisionMeasurement: 1.0000 - recallMeasurement: 0.9831 - auc: 1.0000 - val_loss: 0.1815 - val_f1Measurement: 0.7500 - val_precisionMeasurement: 0.7500 - val_recallMeasurement: 0.7500 - val_auc: 0.9473\n",
      "Epoch 94/100\n",
      "3/3 [==============================] - 0s 53ms/step - loss: 0.0124 - f1Measurement: 1.0000 - precisionMeasurement: 1.0000 - recallMeasurement: 1.0000 - auc: 1.0000 - val_loss: 0.1756 - val_f1Measurement: 0.7500 - val_precisionMeasurement: 0.7500 - val_recallMeasurement: 0.7500 - val_auc: 0.9462\n",
      "Epoch 95/100\n",
      "3/3 [==============================] - 0s 52ms/step - loss: 0.0288 - f1Measurement: 0.9868 - precisionMeasurement: 1.0000 - recallMeasurement: 0.9740 - auc: 1.0000 - val_loss: 0.1642 - val_f1Measurement: 0.7179 - val_precisionMeasurement: 0.7368 - val_recallMeasurement: 0.7000 - val_auc: 0.9287\n",
      "Epoch 96/100\n",
      "3/3 [==============================] - 0s 50ms/step - loss: 0.0134 - f1Measurement: 0.9781 - precisionMeasurement: 0.9781 - recallMeasurement: 0.9781 - auc: 1.0000 - val_loss: 0.1612 - val_f1Measurement: 0.6842 - val_precisionMeasurement: 0.7222 - val_recallMeasurement: 0.6500 - val_auc: 0.9467\n",
      "Epoch 97/100\n",
      "3/3 [==============================] - 0s 54ms/step - loss: 0.0141 - f1Measurement: 0.9861 - precisionMeasurement: 0.9906 - recallMeasurement: 0.9818 - auc: 0.9999 - val_loss: 0.1663 - val_f1Measurement: 0.5946 - val_precisionMeasurement: 0.6471 - val_recallMeasurement: 0.5500 - val_auc: 0.9441\n",
      "Epoch 98/100\n",
      "3/3 [==============================] - 0s 52ms/step - loss: 0.0197 - f1Measurement: 0.9861 - precisionMeasurement: 0.9906 - recallMeasurement: 0.9818 - auc: 1.0000 - val_loss: 0.1771 - val_f1Measurement: 0.5789 - val_precisionMeasurement: 0.6111 - val_recallMeasurement: 0.5500 - val_auc: 0.9446\n",
      "Epoch 99/100\n",
      "3/3 [==============================] - 0s 53ms/step - loss: 0.0132 - f1Measurement: 0.9914 - precisionMeasurement: 1.0000 - recallMeasurement: 0.9831 - auc: 1.0000 - val_loss: 0.1912 - val_f1Measurement: 0.5789 - val_precisionMeasurement: 0.6111 - val_recallMeasurement: 0.5500 - val_auc: 0.9462\n",
      "Epoch 100/100\n",
      "3/3 [==============================] - 0s 51ms/step - loss: 0.0120 - f1Measurement: 1.0000 - precisionMeasurement: 1.0000 - recallMeasurement: 1.0000 - auc: 1.0000 - val_loss: 0.2010 - val_f1Measurement: 0.6486 - val_precisionMeasurement: 0.7059 - val_recallMeasurement: 0.6000 - val_auc: 0.9473\n"
     ]
    },
    {
     "data": {
      "text/plain": [
       "<tensorflow.python.keras.callbacks.History at 0x7ff99870d070>"
      ]
     },
     "execution_count": 10,
     "metadata": {},
     "output_type": "execute_result"
    }
   ],
   "source": [
    "# This section of the model is used to trained the convolutional neural network model. \n",
    "# This is achieved by using the fit() method from the Keras API of the TensorFlow library which \n",
    "# was imported previously. Here is where the number of epochs are declared for the model also\n",
    "CNNModel.fit(trainX, trainY, validation_data=(testX, testY), \n",
    "                epochs=100,  \n",
    "                class_weight=weightOfModel)"
   ]
  },
  {
   "cell_type": "code",
   "execution_count": 11,
   "id": "97f32f75",
   "metadata": {},
   "outputs": [
    {
     "name": "stdout",
     "output_type": "stream",
     "text": [
      "1/1 [==============================] - 0s 20ms/step - loss: 0.2010 - f1Measurement: 0.6486 - precisionMeasurement: 0.7059 - recallMeasurement: 0.6000 - auc: 0.9473\n",
      "--------------------------------------------------------------------------------------------------------------------\n",
      "1/1 [==============================] - 0s 22ms/step - loss: 0.2010 - f1Measurement: 0.6486 - precisionMeasurement: 0.7059 - recallMeasurement: 0.6000 - auc: 0.9473\n",
      "--------------------------------------------------------------------------------------------------------------------\n",
      "Final Results for The CNN Model\n",
      "F1 Accuracy of: 0.65 %\n",
      "With a Loss of: 0.20 %\n"
     ]
    }
   ],
   "source": [
    "# Evaluates the trained  model on the test data and returns the values of the  metrics\n",
    "scores = CNNModel.evaluate(testX, testY) \n",
    "print(\"--------------------------------------------------------------------------------------------------------------------\")\n",
    "\n",
    "# Evaluates the trained model on the test data and declares the loss, accuracy \n",
    "# f1_score, precision and recall\n",
    "loss, accuracy, f1_score, precision, recall = CNNModel.evaluate(testX, testY)\n",
    "print(\"--------------------------------------------------------------------------------------------------------------------\")\n",
    "\n",
    "# Used to Print the Final CNN Accuracy of the model\n",
    "print(\"Final Results for The CNN Model\")\n",
    "print(\"F1 Accuracy of: {:.2f}\".format(scores[1]),'%')    # Print Accuracy of Model\n",
    "print(\"With a Loss of: {:.2f}\".format(scores[0]),'%')    # Print Loss of Model"
   ]
  },
  {
   "cell_type": "code",
   "execution_count": null,
   "id": "a2e019da",
   "metadata": {},
   "outputs": [],
   "source": []
  }
 ],
 "metadata": {
  "kernelspec": {
   "display_name": "Python 3 (ipykernel)",
   "language": "python",
   "name": "python3"
  },
  "language_info": {
   "codemirror_mode": {
    "name": "ipython",
    "version": 3
   },
   "file_extension": ".py",
   "mimetype": "text/x-python",
   "name": "python",
   "nbconvert_exporter": "python",
   "pygments_lexer": "ipython3",
   "version": "3.9.16"
  }
 },
 "nbformat": 4,
 "nbformat_minor": 5
}
