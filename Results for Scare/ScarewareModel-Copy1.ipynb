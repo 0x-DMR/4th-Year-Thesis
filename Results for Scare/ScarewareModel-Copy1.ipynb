{
 "cells": [
  {
   "cell_type": "code",
   "execution_count": 1,
   "id": "e08d24dc",
   "metadata": {},
   "outputs": [],
   "source": [
    "import os\n",
    "os.environ['TF_XLA_FLAGS'] = '--tf_xla_enable_xla_devices'\n",
    "path_root = '/home/dmr/DatasetForExperiments/scareware/'"
   ]
  },
  {
   "cell_type": "code",
   "execution_count": 2,
   "id": "6a45dad7",
   "metadata": {},
   "outputs": [
    {
     "name": "stderr",
     "output_type": "stream",
     "text": [
      "2023-05-03 16:03:08.422795: I tensorflow/stream_executor/platform/default/dso_loader.cc:49] Successfully opened dynamic library libcudart.so.10.1\n"
     ]
    },
    {
     "name": "stdout",
     "output_type": "stream",
     "text": [
      "Found 97 images belonging to 11 classes.\n"
     ]
    }
   ],
   "source": [
    "from keras.preprocessing.image import ImageDataGenerator\n",
    "batches = ImageDataGenerator().flow_from_directory(directory=path_root, target_size=(64,64), batch_size=10000)"
   ]
  },
  {
   "cell_type": "code",
   "execution_count": 3,
   "id": "728b8be6",
   "metadata": {},
   "outputs": [
    {
     "data": {
      "text/plain": [
       "(97, 11)"
      ]
     },
     "execution_count": 3,
     "metadata": {},
     "output_type": "execute_result"
    }
   ],
   "source": [
    "# Print information about Images \n",
    "imgs, labels = next(batches)\n",
    "imgs.shape # Images with width x length x depth\n",
    "labels.shape # Lablels with batch_size, number of classes"
   ]
  },
  {
   "cell_type": "code",
   "execution_count": 4,
   "id": "57424da2",
   "metadata": {},
   "outputs": [],
   "source": [
    "import numpy as np\n",
    "import scipy as sp\n",
    "from PIL import Image\n",
    "\n",
    "# Train and Test \n",
    "from sklearn.model_selection import train_test_split\n",
    "X_train, X_test, y_train, y_test = train_test_split(imgs/255.,labels, test_size=0.3)"
   ]
  },
  {
   "cell_type": "code",
   "execution_count": 5,
   "id": "3590200f",
   "metadata": {},
   "outputs": [
    {
     "data": {
      "text/plain": [
       "(67, 64, 64, 3)"
      ]
     },
     "execution_count": 5,
     "metadata": {},
     "output_type": "execute_result"
    }
   ],
   "source": [
    "X_train.shape"
   ]
  },
  {
   "cell_type": "code",
   "execution_count": 6,
   "id": "3db9230c",
   "metadata": {},
   "outputs": [
    {
     "data": {
      "text/plain": [
       "(30, 64, 64, 3)"
      ]
     },
     "execution_count": 6,
     "metadata": {},
     "output_type": "execute_result"
    }
   ],
   "source": [
    "X_test.shape"
   ]
  },
  {
   "cell_type": "code",
   "execution_count": 7,
   "id": "2b6ca85a",
   "metadata": {},
   "outputs": [
    {
     "data": {
      "text/plain": [
       "(67, 11)"
      ]
     },
     "execution_count": 7,
     "metadata": {},
     "output_type": "execute_result"
    }
   ],
   "source": [
    "y_train.shape"
   ]
  },
  {
   "cell_type": "code",
   "execution_count": 8,
   "id": "f5f1dec9",
   "metadata": {},
   "outputs": [
    {
     "data": {
      "text/plain": [
       "(30, 11)"
      ]
     },
     "execution_count": 8,
     "metadata": {},
     "output_type": "execute_result"
    }
   ],
   "source": [
    "y_test.shape"
   ]
  },
  {
   "cell_type": "code",
   "execution_count": 9,
   "id": "fde8f125",
   "metadata": {},
   "outputs": [],
   "source": [
    "# CNN Model"
   ]
  },
  {
   "cell_type": "code",
   "execution_count": 10,
   "id": "0f3529a9",
   "metadata": {},
   "outputs": [],
   "source": [
    "import keras\n",
    "import tensorflow\n",
    "from keras.models import Sequential, Input, Model\n",
    "from keras.layers import Dense, Dropout, Flatten\n",
    "from keras.layers import Conv2D, MaxPooling2D\n",
    "from tensorflow.keras.layers import BatchNormalization\n",
    "from tensorflow.keras.metrics import AUC"
   ]
  },
  {
   "cell_type": "code",
   "execution_count": 11,
   "id": "0401eabd",
   "metadata": {},
   "outputs": [],
   "source": [
    "num_classes = 11 # Changed from 10 to 11 for families on scareware"
   ]
  },
  {
   "cell_type": "code",
   "execution_count": 12,
   "id": "b3593ed6",
   "metadata": {},
   "outputs": [],
   "source": [
    "def malware_model():\n",
    "    Malware_model = Sequential()\n",
    "    # Convolutional Layer : 30 filters, (3 * 3) kernel size\n",
    "    Malware_model.add(Conv2D(30, kernel_size=(3, 3),\n",
    "                     activation='relu',\n",
    "                     input_shape=(64,64,3)))\n",
    "\n",
    "    # Max Pooling Layer : (2 * 2) pool size\n",
    "    Malware_model.add(MaxPooling2D(pool_size=(2, 2)))\n",
    "    \n",
    "    #Convolutional Layer : 15 filters, (3 * 3) kernel size\n",
    "    Malware_model.add(Conv2D(18, (3, 3), activation='relu'))\n",
    "    \n",
    "    # Max Pooling Layer : (2 * 2) pool size\n",
    "    Malware_model.add(MaxPooling2D(pool_size=(2, 2)))\n",
    "    \n",
    "    # DropOut Layer : Dropping 25% of neurons.\n",
    "    Malware_model.add(Dropout(0.25))\n",
    "    \n",
    "    # Flatten Layer\n",
    "    Malware_model.add(Flatten())\n",
    "    \n",
    "    # Dense/Fully Connected Layer : 128 Neurons, Relu activation function\n",
    "    Malware_model.add(Dense(128, activation='relu'))    \n",
    "   # Malware_model.add(Dense(64, activation='relu'))\n",
    "    \n",
    "    # DropOut Layer : Dropping 50% of neurons.\n",
    "    Malware_model.add(Dropout(0.5))\n",
    "    \n",
    "    # Dense/Fully Connected Layer : 50 Neurons, Softmax activation function\n",
    "    Malware_model.add(Dense(50, activation='relu'))\n",
    "    \n",
    "    # Dense/Fully Connected Layer : num_class Neurons, Softmax activation function\n",
    "    Malware_model.add(Dense(num_classes, activation='softmax'))\n",
    "    \n",
    "    \n",
    "    Malware_model.compile(loss='categorical_crossentropy', optimizer = 'adam', metrics=['accuracy'])\n",
    "    return Malware_model\n",
    "\n",
    "\n",
    "    # sparse_categorical_cross_entropy\n",
    "    # categorical_crossentropy\n",
    "    "
   ]
  },
  {
   "cell_type": "code",
   "execution_count": 13,
   "id": "9a4ebf7d",
   "metadata": {},
   "outputs": [],
   "source": [
    "from keras import backend as K\n",
    "\n",
    "def recall_m(y_test, y_pred):\n",
    "    true_positives = K.sum(K.round(K.clip(y_test * y_pred, 0, 1)))\n",
    "    possible_positives = K.sum(K.round(K.clip(y_test, 0, 1)))\n",
    "    recall = true_positives / (possible_positives + K.epsilon())\n",
    "    return recall\n",
    "\n",
    "def precision_m(y_test, y_pred):\n",
    "    true_positives = K.sum(K.round(K.clip(y_test * y_pred, 0, 1)))\n",
    "    predicted_positives = K.sum(K.round(K.clip(y_pred, 0, 1)))\n",
    "    precision = true_positives / (predicted_positives + K.epsilon())\n",
    "    return precision\n",
    "\n",
    "def f1_m(y_test, y_pred):\n",
    "    precision = precision_m(y_test, y_pred)\n",
    "    recall = recall_m(y_test, y_pred)\n",
    "    return 2*((precision*recall)/(precision+recall+K.epsilon()))"
   ]
  },
  {
   "cell_type": "code",
   "execution_count": 14,
   "id": "c1e2abbc",
   "metadata": {},
   "outputs": [
    {
     "name": "stderr",
     "output_type": "stream",
     "text": [
      "2023-05-03 16:03:11.536100: I tensorflow/stream_executor/platform/default/dso_loader.cc:49] Successfully opened dynamic library libcuda.so.1\n",
      "2023-05-03 16:03:11.858655: E tensorflow/stream_executor/cuda/cuda_driver.cc:328] failed call to cuInit: CUDA_ERROR_NO_DEVICE: no CUDA-capable device is detected\n",
      "2023-05-03 16:03:11.858933: I tensorflow/stream_executor/cuda/cuda_diagnostics.cc:156] kernel driver does not appear to be running on this host (pop-os): /proc/driver/nvidia/version does not exist\n",
      "2023-05-03 16:03:11.860903: I tensorflow/core/platform/cpu_feature_guard.cc:142] This TensorFlow binary is optimized with oneAPI Deep Neural Network Library (oneDNN) to use the following CPU instructions in performance-critical operations:  SSE4.1 SSE4.2 AVX AVX2 FMA\n",
      "To enable them in other operations, rebuild TensorFlow with the appropriate compiler flags.\n",
      "2023-05-03 16:03:11.880025: I tensorflow/core/platform/profile_utils/cpu_utils.cc:112] CPU Frequency: 1999965000 Hz\n",
      "2023-05-03 16:03:11.881574: I tensorflow/compiler/xla/service/service.cc:168] XLA service 0x1be7af0 initialized for platform Host (this does not guarantee that XLA will be used). Devices:\n",
      "2023-05-03 16:03:11.881632: I tensorflow/compiler/xla/service/service.cc:176]   StreamExecutor device (0): Host, Default Version\n"
     ]
    }
   ],
   "source": [
    "Malware_model = malware_model()"
   ]
  },
  {
   "cell_type": "code",
   "execution_count": 15,
   "id": "bcb1d474",
   "metadata": {},
   "outputs": [
    {
     "name": "stdout",
     "output_type": "stream",
     "text": [
      "Model: \"sequential\"\n",
      "_________________________________________________________________\n",
      "Layer (type)                 Output Shape              Param #   \n",
      "=================================================================\n",
      "conv2d (Conv2D)              (None, 62, 62, 30)        840       \n",
      "_________________________________________________________________\n",
      "max_pooling2d (MaxPooling2D) (None, 31, 31, 30)        0         \n",
      "_________________________________________________________________\n",
      "conv2d_1 (Conv2D)            (None, 29, 29, 18)        4878      \n",
      "_________________________________________________________________\n",
      "max_pooling2d_1 (MaxPooling2 (None, 14, 14, 18)        0         \n",
      "_________________________________________________________________\n",
      "dropout (Dropout)            (None, 14, 14, 18)        0         \n",
      "_________________________________________________________________\n",
      "flatten (Flatten)            (None, 3528)              0         \n",
      "_________________________________________________________________\n",
      "dense (Dense)                (None, 128)               451712    \n",
      "_________________________________________________________________\n",
      "dropout_1 (Dropout)          (None, 128)               0         \n",
      "_________________________________________________________________\n",
      "dense_1 (Dense)              (None, 50)                6450      \n",
      "_________________________________________________________________\n",
      "dense_2 (Dense)              (None, 11)                561       \n",
      "=================================================================\n",
      "Total params: 464,441\n",
      "Trainable params: 464,441\n",
      "Non-trainable params: 0\n",
      "_________________________________________________________________\n"
     ]
    }
   ],
   "source": [
    "Malware_model.summary()"
   ]
  },
  {
   "cell_type": "code",
   "execution_count": 16,
   "id": "9e8d69b6",
   "metadata": {},
   "outputs": [
    {
     "data": {
      "text/plain": [
       "(67, 11)"
      ]
     },
     "execution_count": 16,
     "metadata": {},
     "output_type": "execute_result"
    }
   ],
   "source": [
    "y_train.shape"
   ]
  },
  {
   "cell_type": "code",
   "execution_count": 17,
   "id": "6711d2f9",
   "metadata": {},
   "outputs": [],
   "source": [
    "y_train_new = np.argmax(y_train, axis=1)"
   ]
  },
  {
   "cell_type": "code",
   "execution_count": 18,
   "id": "838a6a56",
   "metadata": {},
   "outputs": [
    {
     "data": {
      "text/plain": [
       "array([10, 10,  1, 10,  5, 10,  6,  8, 10,  3,  2,  3,  2, 10,  1,  1,  8,\n",
       "        6,  4,  6,  4,  1,  8, 10,  9,  7, 10,  4,  6,  7,  3,  4,  3,  9,\n",
       "        5,  4,  3,  6,  9,  4,  5, 10,  5,  9,  1, 10,  7,  9,  7,  6,  0,\n",
       "        0,  2,  9,  1,  6,  7,  5,  8,  1,  2,  1,  5,  5,  3,  8,  2])"
      ]
     },
     "execution_count": 18,
     "metadata": {},
     "output_type": "execute_result"
    }
   ],
   "source": [
    "y_train_new"
   ]
  },
  {
   "cell_type": "code",
   "execution_count": 19,
   "id": "e5fccc6d",
   "metadata": {},
   "outputs": [],
   "source": [
    "from sklearn.utils import class_weight\n",
    "class_weights = class_weight.compute_class_weight(class_weight = 'balanced',\n",
    "                                                 classes = np.unique(y_train_new),\n",
    "                                                 y = y_train_new)\n",
    "\n",
    "class_weights = {l:c for l,c in zip(np.unique(y_train_new), class_weights)}"
   ]
  },
  {
   "cell_type": "code",
   "execution_count": 20,
   "id": "a62f070a",
   "metadata": {},
   "outputs": [],
   "source": [
    "Malware_model.compile(optimizer='adam', loss='binary_crossentropy', metrics=[f1_m,precision_m, recall_m,AUC()])"
   ]
  },
  {
   "cell_type": "code",
   "execution_count": 21,
   "id": "f8c8523a",
   "metadata": {
    "scrolled": true
   },
   "outputs": [
    {
     "name": "stderr",
     "output_type": "stream",
     "text": [
      "2023-05-03 16:03:12.055843: I tensorflow/compiler/mlir/mlir_graph_optimization_pass.cc:116] None of the MLIR optimization passes are enabled (registered 2)\n"
     ]
    },
    {
     "name": "stdout",
     "output_type": "stream",
     "text": [
      "Epoch 1/100\n",
      "3/3 [==============================] - 1s 257ms/step - loss: 0.6061 - f1_m: 0.0000e+00 - precision_m: 0.0000e+00 - recall_m: 0.0000e+00 - auc: 0.4896 - val_loss: 0.3232 - val_f1_m: 0.0000e+00 - val_precision_m: 0.0000e+00 - val_recall_m: 0.0000e+00 - val_auc: 0.5733\n",
      "Epoch 2/100\n",
      "3/3 [==============================] - 0s 37ms/step - loss: 0.3877 - f1_m: 0.0556 - precision_m: 0.1548 - recall_m: 0.0339 - auc: 0.4775 - val_loss: 0.3422 - val_f1_m: 0.0000e+00 - val_precision_m: 0.0000e+00 - val_recall_m: 0.0000e+00 - val_auc: 0.5701\n",
      "Epoch 3/100\n",
      "3/3 [==============================] - 0s 39ms/step - loss: 0.3781 - f1_m: 0.0516 - precision_m: 0.1083 - recall_m: 0.0339 - auc: 0.5276 - val_loss: 0.3067 - val_f1_m: 0.0000e+00 - val_precision_m: 0.0000e+00 - val_recall_m: 0.0000e+00 - val_auc: 0.5719\n",
      "Epoch 4/100\n",
      "3/3 [==============================] - 0s 39ms/step - loss: 0.3286 - f1_m: 0.0000e+00 - precision_m: 0.0000e+00 - recall_m: 0.0000e+00 - auc: 0.5621 - val_loss: 0.3180 - val_f1_m: 0.0000e+00 - val_precision_m: 0.0000e+00 - val_recall_m: 0.0000e+00 - val_auc: 0.5553\n",
      "Epoch 5/100\n",
      "3/3 [==============================] - 0s 41ms/step - loss: 0.3392 - f1_m: 0.0000e+00 - precision_m: 0.0000e+00 - recall_m: 0.0000e+00 - auc: 0.5266 - val_loss: 0.3237 - val_f1_m: 0.0000e+00 - val_precision_m: 0.0000e+00 - val_recall_m: 0.0000e+00 - val_auc: 0.5226\n",
      "Epoch 6/100\n",
      "3/3 [==============================] - 0s 37ms/step - loss: 0.3505 - f1_m: 0.0000e+00 - precision_m: 0.0000e+00 - recall_m: 0.0000e+00 - auc: 0.5222 - val_loss: 0.3113 - val_f1_m: 0.0000e+00 - val_precision_m: 0.0000e+00 - val_recall_m: 0.0000e+00 - val_auc: 0.5400\n",
      "Epoch 7/100\n",
      "3/3 [==============================] - 0s 38ms/step - loss: 0.3303 - f1_m: 0.0177 - precision_m: 0.2917 - recall_m: 0.0091 - auc: 0.5398 - val_loss: 0.3095 - val_f1_m: 0.0000e+00 - val_precision_m: 0.0000e+00 - val_recall_m: 0.0000e+00 - val_auc: 0.5443\n",
      "Epoch 8/100\n",
      "3/3 [==============================] - 0s 43ms/step - loss: 0.3273 - f1_m: 0.0000e+00 - precision_m: 0.0000e+00 - recall_m: 0.0000e+00 - auc: 0.5611 - val_loss: 0.3055 - val_f1_m: 0.0000e+00 - val_precision_m: 0.0000e+00 - val_recall_m: 0.0000e+00 - val_auc: 0.5774\n",
      "Epoch 9/100\n",
      "3/3 [==============================] - 0s 38ms/step - loss: 0.3433 - f1_m: 0.0000e+00 - precision_m: 0.0000e+00 - recall_m: 0.0000e+00 - auc: 0.5130 - val_loss: 0.3090 - val_f1_m: 0.0000e+00 - val_precision_m: 0.0000e+00 - val_recall_m: 0.0000e+00 - val_auc: 0.5809\n",
      "Epoch 10/100\n",
      "3/3 [==============================] - 0s 38ms/step - loss: 0.3200 - f1_m: 0.0000e+00 - precision_m: 0.0000e+00 - recall_m: 0.0000e+00 - auc: 0.5709 - val_loss: 0.3163 - val_f1_m: 0.0000e+00 - val_precision_m: 0.0000e+00 - val_recall_m: 0.0000e+00 - val_auc: 0.6144\n",
      "Epoch 11/100\n",
      "3/3 [==============================] - 0s 38ms/step - loss: 0.3262 - f1_m: 0.0000e+00 - precision_m: 0.0000e+00 - recall_m: 0.0000e+00 - auc: 0.5868 - val_loss: 0.3070 - val_f1_m: 0.0000e+00 - val_precision_m: 0.0000e+00 - val_recall_m: 0.0000e+00 - val_auc: 0.6180\n",
      "Epoch 12/100\n",
      "3/3 [==============================] - 0s 39ms/step - loss: 0.3214 - f1_m: 0.0000e+00 - precision_m: 0.0000e+00 - recall_m: 0.0000e+00 - auc: 0.5947 - val_loss: 0.3002 - val_f1_m: 0.0000e+00 - val_precision_m: 0.0000e+00 - val_recall_m: 0.0000e+00 - val_auc: 0.6068\n",
      "Epoch 13/100\n",
      "3/3 [==============================] - 0s 38ms/step - loss: 0.3050 - f1_m: 0.0000e+00 - precision_m: 0.0000e+00 - recall_m: 0.0000e+00 - auc: 0.6525 - val_loss: 0.2956 - val_f1_m: 0.0000e+00 - val_precision_m: 0.0000e+00 - val_recall_m: 0.0000e+00 - val_auc: 0.6426\n",
      "Epoch 14/100\n",
      "3/3 [==============================] - 0s 40ms/step - loss: 0.3088 - f1_m: 0.0328 - precision_m: 0.5417 - recall_m: 0.0169 - auc: 0.6508 - val_loss: 0.2903 - val_f1_m: 0.0000e+00 - val_precision_m: 0.0000e+00 - val_recall_m: 0.0000e+00 - val_auc: 0.7237\n",
      "Epoch 15/100\n",
      "3/3 [==============================] - 0s 40ms/step - loss: 0.2945 - f1_m: 0.0000e+00 - precision_m: 0.0000e+00 - recall_m: 0.0000e+00 - auc: 0.6771 - val_loss: 0.2953 - val_f1_m: 0.0000e+00 - val_precision_m: 0.0000e+00 - val_recall_m: 0.0000e+00 - val_auc: 0.8071\n",
      "Epoch 16/100\n",
      "3/3 [==============================] - 0s 42ms/step - loss: 0.2975 - f1_m: 0.0000e+00 - precision_m: 0.0000e+00 - recall_m: 0.0000e+00 - auc: 0.7303 - val_loss: 0.2744 - val_f1_m: 0.0000e+00 - val_precision_m: 0.0000e+00 - val_recall_m: 0.0000e+00 - val_auc: 0.8358\n",
      "Epoch 17/100\n",
      "3/3 [==============================] - 0s 40ms/step - loss: 0.2845 - f1_m: 0.0505 - precision_m: 0.8333 - recall_m: 0.0260 - auc: 0.7279 - val_loss: 0.2801 - val_f1_m: 0.0000e+00 - val_precision_m: 0.0000e+00 - val_recall_m: 0.0000e+00 - val_auc: 0.8333\n",
      "Epoch 18/100\n",
      "3/3 [==============================] - 0s 38ms/step - loss: 0.3085 - f1_m: 0.0177 - precision_m: 0.2917 - recall_m: 0.0091 - auc: 0.6691 - val_loss: 0.2682 - val_f1_m: 0.0000e+00 - val_precision_m: 0.0000e+00 - val_recall_m: 0.0000e+00 - val_auc: 0.8345\n",
      "Epoch 19/100\n",
      "3/3 [==============================] - 0s 37ms/step - loss: 0.2813 - f1_m: 0.0637 - precision_m: 0.5417 - recall_m: 0.0339 - auc: 0.7539 - val_loss: 0.2862 - val_f1_m: 0.0000e+00 - val_precision_m: 0.0000e+00 - val_recall_m: 0.0000e+00 - val_auc: 0.8273\n",
      "Epoch 20/100\n",
      "3/3 [==============================] - 0s 39ms/step - loss: 0.2908 - f1_m: 0.0000e+00 - precision_m: 0.0000e+00 - recall_m: 0.0000e+00 - auc: 0.7809 - val_loss: 0.2697 - val_f1_m: 0.0000e+00 - val_precision_m: 0.0000e+00 - val_recall_m: 0.0000e+00 - val_auc: 0.8222\n",
      "Epoch 21/100\n",
      "3/3 [==============================] - 0s 38ms/step - loss: 0.2739 - f1_m: 0.1105 - precision_m: 0.8333 - recall_m: 0.0599 - auc: 0.7572 - val_loss: 0.2692 - val_f1_m: 0.0000e+00 - val_precision_m: 0.0000e+00 - val_recall_m: 0.0000e+00 - val_auc: 0.7866\n",
      "Epoch 22/100\n",
      "3/3 [==============================] - 0s 40ms/step - loss: 0.2629 - f1_m: 0.0333 - precision_m: 0.1944 - recall_m: 0.0182 - auc: 0.7786 - val_loss: 0.2763 - val_f1_m: 0.0000e+00 - val_precision_m: 0.0000e+00 - val_recall_m: 0.0000e+00 - val_auc: 0.7452\n",
      "Epoch 23/100\n",
      "3/3 [==============================] - 0s 38ms/step - loss: 0.2726 - f1_m: 0.1267 - precision_m: 0.6528 - recall_m: 0.0703 - auc: 0.7815 - val_loss: 0.2748 - val_f1_m: 0.1250 - val_precision_m: 1.0000 - val_recall_m: 0.0667 - val_auc: 0.7293\n",
      "Epoch 24/100\n",
      "3/3 [==============================] - 0s 38ms/step - loss: 0.2627 - f1_m: 0.1429 - precision_m: 0.8333 - recall_m: 0.0781 - auc: 0.7719 - val_loss: 0.2802 - val_f1_m: 0.1250 - val_precision_m: 1.0000 - val_recall_m: 0.0667 - val_auc: 0.7603\n",
      "Epoch 25/100\n",
      "3/3 [==============================] - 0s 37ms/step - loss: 0.2540 - f1_m: 0.2297 - precision_m: 0.7083 - recall_m: 0.1402 - auc: 0.8311 - val_loss: 0.2687 - val_f1_m: 0.1250 - val_precision_m: 1.0000 - val_recall_m: 0.0667 - val_auc: 0.7862\n",
      "Epoch 26/100\n",
      "3/3 [==============================] - 0s 38ms/step - loss: 0.2466 - f1_m: 0.1495 - precision_m: 0.9028 - recall_m: 0.0907 - auc: 0.8541 - val_loss: 0.2578 - val_f1_m: 0.2353 - val_precision_m: 1.0000 - val_recall_m: 0.1333 - val_auc: 0.7896\n",
      "Epoch 27/100\n",
      "3/3 [==============================] - 0s 40ms/step - loss: 0.2271 - f1_m: 0.3358 - precision_m: 0.9028 - recall_m: 0.2131 - auc: 0.8477 - val_loss: 0.2523 - val_f1_m: 0.2353 - val_precision_m: 1.0000 - val_recall_m: 0.1333 - val_auc: 0.8037\n",
      "Epoch 28/100\n",
      "3/3 [==============================] - 0s 37ms/step - loss: 0.2394 - f1_m: 0.2695 - precision_m: 0.7286 - recall_m: 0.1675 - auc: 0.8385 - val_loss: 0.2439 - val_f1_m: 0.2353 - val_precision_m: 1.0000 - val_recall_m: 0.1333 - val_auc: 0.8301\n",
      "Epoch 29/100\n",
      "3/3 [==============================] - 0s 37ms/step - loss: 0.2288 - f1_m: 0.1547 - precision_m: 0.8333 - recall_m: 0.0859 - auc: 0.8743 - val_loss: 0.2420 - val_f1_m: 0.2353 - val_precision_m: 1.0000 - val_recall_m: 0.1333 - val_auc: 0.8398\n",
      "Epoch 30/100\n",
      "3/3 [==============================] - 0s 39ms/step - loss: 0.2283 - f1_m: 0.2323 - precision_m: 0.7014 - recall_m: 0.1393 - auc: 0.8643 - val_loss: 0.2421 - val_f1_m: 0.2353 - val_precision_m: 1.0000 - val_recall_m: 0.1333 - val_auc: 0.8334\n",
      "Epoch 31/100\n"
     ]
    },
    {
     "name": "stdout",
     "output_type": "stream",
     "text": [
      "3/3 [==============================] - 0s 40ms/step - loss: 0.2174 - f1_m: 0.2684 - precision_m: 0.7656 - recall_m: 0.1641 - auc: 0.9172 - val_loss: 0.2385 - val_f1_m: 0.2353 - val_precision_m: 1.0000 - val_recall_m: 0.1333 - val_auc: 0.8300\n",
      "Epoch 32/100\n",
      "3/3 [==============================] - 0s 37ms/step - loss: 0.2161 - f1_m: 0.3434 - precision_m: 0.9583 - recall_m: 0.2335 - auc: 0.8833 - val_loss: 0.2414 - val_f1_m: 0.3684 - val_precision_m: 0.8750 - val_recall_m: 0.2333 - val_auc: 0.8235\n",
      "Epoch 33/100\n",
      "3/3 [==============================] - 0s 38ms/step - loss: 0.2252 - f1_m: 0.3472 - precision_m: 0.8351 - recall_m: 0.2209 - auc: 0.8725 - val_loss: 0.2410 - val_f1_m: 0.4500 - val_precision_m: 0.9000 - val_recall_m: 0.3000 - val_auc: 0.8191\n",
      "Epoch 34/100\n",
      "3/3 [==============================] - 0s 38ms/step - loss: 0.2111 - f1_m: 0.5254 - precision_m: 0.8351 - recall_m: 0.3924 - auc: 0.9248 - val_loss: 0.2317 - val_f1_m: 0.4500 - val_precision_m: 0.9000 - val_recall_m: 0.3000 - val_auc: 0.8413\n",
      "Epoch 35/100\n",
      "3/3 [==============================] - 0s 39ms/step - loss: 0.1835 - f1_m: 0.5257 - precision_m: 0.9336 - recall_m: 0.3707 - auc: 0.9414 - val_loss: 0.2251 - val_f1_m: 0.4500 - val_precision_m: 0.9000 - val_recall_m: 0.3000 - val_auc: 0.8489\n",
      "Epoch 36/100\n",
      "3/3 [==============================] - 0s 37ms/step - loss: 0.1884 - f1_m: 0.5160 - precision_m: 0.9776 - recall_m: 0.3511 - auc: 0.9246 - val_loss: 0.2246 - val_f1_m: 0.4500 - val_precision_m: 0.9000 - val_recall_m: 0.3000 - val_auc: 0.8569\n",
      "Epoch 37/100\n",
      "3/3 [==============================] - 0s 38ms/step - loss: 0.1810 - f1_m: 0.5218 - precision_m: 0.8935 - recall_m: 0.3780 - auc: 0.9435 - val_loss: 0.2270 - val_f1_m: 0.4390 - val_precision_m: 0.8182 - val_recall_m: 0.3000 - val_auc: 0.8438\n",
      "Epoch 38/100\n",
      "3/3 [==============================] - 0s 40ms/step - loss: 0.1681 - f1_m: 0.5822 - precision_m: 0.9278 - recall_m: 0.4314 - auc: 0.9496 - val_loss: 0.2216 - val_f1_m: 0.4500 - val_precision_m: 0.9000 - val_recall_m: 0.3000 - val_auc: 0.8551\n",
      "Epoch 39/100\n",
      "3/3 [==============================] - 0s 39ms/step - loss: 0.1576 - f1_m: 0.4923 - precision_m: 0.7946 - recall_m: 0.3568 - auc: 0.9626 - val_loss: 0.2182 - val_f1_m: 0.4390 - val_precision_m: 0.8182 - val_recall_m: 0.3000 - val_auc: 0.8581\n",
      "Epoch 40/100\n",
      "3/3 [==============================] - 0s 38ms/step - loss: 0.1557 - f1_m: 0.5906 - precision_m: 0.8915 - recall_m: 0.4462 - auc: 0.9684 - val_loss: 0.2166 - val_f1_m: 0.4651 - val_precision_m: 0.7692 - val_recall_m: 0.3333 - val_auc: 0.8607\n",
      "Epoch 41/100\n",
      "3/3 [==============================] - 0s 39ms/step - loss: 0.1408 - f1_m: 0.6109 - precision_m: 0.8676 - recall_m: 0.4722 - auc: 0.9801 - val_loss: 0.2139 - val_f1_m: 0.4783 - val_precision_m: 0.6875 - val_recall_m: 0.3667 - val_auc: 0.8727\n",
      "Epoch 42/100\n",
      "3/3 [==============================] - 0s 40ms/step - loss: 0.1547 - f1_m: 0.5839 - precision_m: 0.8580 - recall_m: 0.4488 - auc: 0.9413 - val_loss: 0.2051 - val_f1_m: 0.4889 - val_precision_m: 0.7333 - val_recall_m: 0.3667 - val_auc: 0.8792\n",
      "Epoch 43/100\n",
      "3/3 [==============================] - 0s 37ms/step - loss: 0.1382 - f1_m: 0.6380 - precision_m: 0.7862 - recall_m: 0.5378 - auc: 0.9670 - val_loss: 0.2050 - val_f1_m: 0.5333 - val_precision_m: 0.8000 - val_recall_m: 0.4000 - val_auc: 0.8726\n",
      "Epoch 44/100\n",
      "3/3 [==============================] - 0s 38ms/step - loss: 0.1423 - f1_m: 0.6968 - precision_m: 0.9715 - recall_m: 0.5516 - auc: 0.9697 - val_loss: 0.2086 - val_f1_m: 0.5333 - val_precision_m: 0.8000 - val_recall_m: 0.4000 - val_auc: 0.8592\n",
      "Epoch 45/100\n",
      "3/3 [==============================] - 0s 40ms/step - loss: 0.1698 - f1_m: 0.6261 - precision_m: 0.7647 - recall_m: 0.5404 - auc: 0.9471 - val_loss: 0.2179 - val_f1_m: 0.5000 - val_precision_m: 0.7857 - val_recall_m: 0.3667 - val_auc: 0.8700\n",
      "Epoch 46/100\n",
      "3/3 [==============================] - 0s 39ms/step - loss: 0.1207 - f1_m: 0.8242 - precision_m: 0.8910 - recall_m: 0.7773 - auc: 0.9766 - val_loss: 0.2163 - val_f1_m: 0.5116 - val_precision_m: 0.8462 - val_recall_m: 0.3667 - val_auc: 0.8788\n",
      "Epoch 47/100\n",
      "3/3 [==============================] - 0s 38ms/step - loss: 0.1203 - f1_m: 0.7261 - precision_m: 0.9276 - recall_m: 0.6168 - auc: 0.9826 - val_loss: 0.2010 - val_f1_m: 0.5000 - val_precision_m: 0.7857 - val_recall_m: 0.3667 - val_auc: 0.8849\n",
      "Epoch 48/100\n",
      "3/3 [==============================] - 0s 41ms/step - loss: 0.1096 - f1_m: 0.8504 - precision_m: 0.9792 - recall_m: 0.7543 - auc: 0.9935 - val_loss: 0.2187 - val_f1_m: 0.5217 - val_precision_m: 0.7500 - val_recall_m: 0.4000 - val_auc: 0.8450\n",
      "Epoch 49/100\n",
      "3/3 [==============================] - 0s 39ms/step - loss: 0.1190 - f1_m: 0.7528 - precision_m: 0.9529 - recall_m: 0.6389 - auc: 0.9835 - val_loss: 0.2256 - val_f1_m: 0.5417 - val_precision_m: 0.7222 - val_recall_m: 0.4333 - val_auc: 0.8421\n",
      "Epoch 50/100\n",
      "3/3 [==============================] - 0s 39ms/step - loss: 0.1167 - f1_m: 0.8007 - precision_m: 0.9222 - recall_m: 0.7088 - auc: 0.9832 - val_loss: 0.2303 - val_f1_m: 0.5106 - val_precision_m: 0.7059 - val_recall_m: 0.4000 - val_auc: 0.8574\n",
      "Epoch 51/100\n",
      "3/3 [==============================] - 0s 38ms/step - loss: 0.1112 - f1_m: 0.8149 - precision_m: 0.9457 - recall_m: 0.7179 - auc: 0.9793 - val_loss: 0.2283 - val_f1_m: 0.5333 - val_precision_m: 0.8000 - val_recall_m: 0.4000 - val_auc: 0.8729\n",
      "Epoch 52/100\n",
      "3/3 [==============================] - 0s 37ms/step - loss: 0.1202 - f1_m: 0.7009 - precision_m: 0.9241 - recall_m: 0.5777 - auc: 0.9853 - val_loss: 0.2012 - val_f1_m: 0.5217 - val_precision_m: 0.7500 - val_recall_m: 0.4000 - val_auc: 0.8743\n",
      "Epoch 53/100\n",
      "3/3 [==============================] - 0s 38ms/step - loss: 0.0898 - f1_m: 0.8523 - precision_m: 0.9390 - recall_m: 0.7878 - auc: 0.9914 - val_loss: 0.2033 - val_f1_m: 0.5652 - val_precision_m: 0.8125 - val_recall_m: 0.4333 - val_auc: 0.8616\n",
      "Epoch 54/100\n",
      "3/3 [==============================] - 0s 38ms/step - loss: 0.1017 - f1_m: 0.8224 - precision_m: 0.9653 - recall_m: 0.7218 - auc: 0.9926 - val_loss: 0.1960 - val_f1_m: 0.5532 - val_precision_m: 0.7647 - val_recall_m: 0.4333 - val_auc: 0.8856\n",
      "Epoch 55/100\n",
      "3/3 [==============================] - 0s 39ms/step - loss: 0.0949 - f1_m: 0.8510 - precision_m: 0.9351 - recall_m: 0.7839 - auc: 0.9893 - val_loss: 0.2011 - val_f1_m: 0.5652 - val_precision_m: 0.8125 - val_recall_m: 0.4333 - val_auc: 0.8934\n",
      "Epoch 56/100\n",
      "3/3 [==============================] - 0s 39ms/step - loss: 0.0977 - f1_m: 0.8812 - precision_m: 1.0000 - recall_m: 0.7930 - auc: 0.9892 - val_loss: 0.1979 - val_f1_m: 0.5532 - val_precision_m: 0.7647 - val_recall_m: 0.4333 - val_auc: 0.8926\n",
      "Epoch 57/100\n",
      "3/3 [==============================] - 0s 37ms/step - loss: 0.0906 - f1_m: 0.8659 - precision_m: 0.9471 - recall_m: 0.8008 - auc: 0.9920 - val_loss: 0.2116 - val_f1_m: 0.5833 - val_precision_m: 0.7778 - val_recall_m: 0.4667 - val_auc: 0.8656\n",
      "Epoch 58/100\n",
      "3/3 [==============================] - 0s 40ms/step - loss: 0.0746 - f1_m: 0.8694 - precision_m: 0.9236 - recall_m: 0.8220 - auc: 0.9963 - val_loss: 0.2218 - val_f1_m: 0.5769 - val_precision_m: 0.6818 - val_recall_m: 0.5000 - val_auc: 0.8511\n",
      "Epoch 59/100\n",
      "3/3 [==============================] - 0s 38ms/step - loss: 0.0628 - f1_m: 0.9442 - precision_m: 0.9896 - recall_m: 0.9036 - auc: 0.9991 - val_loss: 0.2139 - val_f1_m: 0.6296 - val_precision_m: 0.7083 - val_recall_m: 0.5667 - val_auc: 0.8577\n",
      "Epoch 60/100\n",
      "3/3 [==============================] - 0s 39ms/step - loss: 0.0842 - f1_m: 0.8452 - precision_m: 0.9390 - recall_m: 0.7713 - auc: 0.9955 - val_loss: 0.2029 - val_f1_m: 0.6667 - val_precision_m: 0.8095 - val_recall_m: 0.5667 - val_auc: 0.8769\n",
      "Epoch 61/100\n",
      "3/3 [==============================] - 0s 40ms/step - loss: 0.0630 - f1_m: 0.9500 - precision_m: 0.9906 - recall_m: 0.9141 - auc: 0.9989 - val_loss: 0.2182 - val_f1_m: 0.5833 - val_precision_m: 0.7778 - val_recall_m: 0.4667 - val_auc: 0.8812\n",
      "Epoch 62/100\n",
      "3/3 [==============================] - 0s 38ms/step - loss: 0.0676 - f1_m: 0.9219 - precision_m: 0.9706 - recall_m: 0.8789 - auc: 0.9981 - val_loss: 0.2325 - val_f1_m: 0.5200 - val_precision_m: 0.6500 - val_recall_m: 0.4333 - val_auc: 0.8689\n",
      "Epoch 63/100\n"
     ]
    },
    {
     "name": "stdout",
     "output_type": "stream",
     "text": [
      "3/3 [==============================] - 0s 40ms/step - loss: 0.0802 - f1_m: 0.8493 - precision_m: 0.9441 - recall_m: 0.7760 - auc: 0.9949 - val_loss: 0.2160 - val_f1_m: 0.5306 - val_precision_m: 0.6842 - val_recall_m: 0.4333 - val_auc: 0.8611\n",
      "Epoch 64/100\n",
      "3/3 [==============================] - 0s 39ms/step - loss: 0.0558 - f1_m: 0.9413 - precision_m: 0.9813 - recall_m: 0.9049 - auc: 0.9973 - val_loss: 0.2169 - val_f1_m: 0.6122 - val_precision_m: 0.7895 - val_recall_m: 0.5000 - val_auc: 0.8696\n",
      "Epoch 65/100\n",
      "3/3 [==============================] - 0s 38ms/step - loss: 0.0858 - f1_m: 0.8601 - precision_m: 0.9190 - recall_m: 0.8099 - auc: 0.9938 - val_loss: 0.2179 - val_f1_m: 0.5833 - val_precision_m: 0.7778 - val_recall_m: 0.4667 - val_auc: 0.8629\n",
      "Epoch 66/100\n",
      "3/3 [==============================] - 0s 41ms/step - loss: 0.0680 - f1_m: 0.8528 - precision_m: 0.9058 - recall_m: 0.8064 - auc: 0.9956 - val_loss: 0.2191 - val_f1_m: 0.6000 - val_precision_m: 0.7500 - val_recall_m: 0.5000 - val_auc: 0.8578\n",
      "Epoch 67/100\n",
      "3/3 [==============================] - 0s 38ms/step - loss: 0.0576 - f1_m: 0.9431 - precision_m: 0.9556 - recall_m: 0.9310 - auc: 0.9992 - val_loss: 0.2235 - val_f1_m: 0.6531 - val_precision_m: 0.8421 - val_recall_m: 0.5333 - val_auc: 0.8645\n",
      "Epoch 68/100\n",
      "3/3 [==============================] - 0s 38ms/step - loss: 0.0565 - f1_m: 0.9460 - precision_m: 0.9631 - recall_m: 0.9297 - auc: 0.9985 - val_loss: 0.2312 - val_f1_m: 0.6400 - val_precision_m: 0.8000 - val_recall_m: 0.5333 - val_auc: 0.8704\n",
      "Epoch 69/100\n",
      "3/3 [==============================] - 0s 39ms/step - loss: 0.0635 - f1_m: 0.9219 - precision_m: 0.9706 - recall_m: 0.8789 - auc: 0.9949 - val_loss: 0.2241 - val_f1_m: 0.5833 - val_precision_m: 0.7778 - val_recall_m: 0.4667 - val_auc: 0.8753\n",
      "Epoch 70/100\n",
      "3/3 [==============================] - 0s 37ms/step - loss: 0.0551 - f1_m: 0.9399 - precision_m: 0.9799 - recall_m: 0.9036 - auc: 0.9976 - val_loss: 0.2227 - val_f1_m: 0.5600 - val_precision_m: 0.7000 - val_recall_m: 0.4667 - val_auc: 0.8656\n",
      "Epoch 71/100\n",
      "3/3 [==============================] - 0s 37ms/step - loss: 0.0456 - f1_m: 0.9512 - precision_m: 0.9725 - recall_m: 0.9310 - auc: 0.9989 - val_loss: 0.2282 - val_f1_m: 0.5714 - val_precision_m: 0.7368 - val_recall_m: 0.4667 - val_auc: 0.8649\n",
      "Epoch 72/100\n",
      "3/3 [==============================] - 0s 38ms/step - loss: 0.0425 - f1_m: 0.9620 - precision_m: 1.0000 - recall_m: 0.9353 - auc: 0.9998 - val_loss: 0.2252 - val_f1_m: 0.7037 - val_precision_m: 0.7917 - val_recall_m: 0.6333 - val_auc: 0.8619\n",
      "Epoch 73/100\n",
      "3/3 [==============================] - 0s 38ms/step - loss: 0.0455 - f1_m: 0.9726 - precision_m: 0.9903 - recall_m: 0.9557 - auc: 0.9997 - val_loss: 0.2257 - val_f1_m: 0.6182 - val_precision_m: 0.6800 - val_recall_m: 0.5667 - val_auc: 0.8586\n",
      "Epoch 74/100\n",
      "3/3 [==============================] - 0s 37ms/step - loss: 0.0527 - f1_m: 0.9417 - precision_m: 0.9719 - recall_m: 0.9141 - auc: 0.9995 - val_loss: 0.2314 - val_f1_m: 0.6415 - val_precision_m: 0.7391 - val_recall_m: 0.5667 - val_auc: 0.8555\n",
      "Epoch 75/100\n",
      "3/3 [==============================] - 0s 39ms/step - loss: 0.0382 - f1_m: 0.9388 - precision_m: 0.9468 - recall_m: 0.9310 - auc: 0.9993 - val_loss: 0.2481 - val_f1_m: 0.6667 - val_precision_m: 0.7500 - val_recall_m: 0.6000 - val_auc: 0.8437\n",
      "Epoch 76/100\n",
      "3/3 [==============================] - 0s 40ms/step - loss: 0.0531 - f1_m: 0.9556 - precision_m: 0.9813 - recall_m: 0.9323 - auc: 0.9993 - val_loss: 0.2539 - val_f1_m: 0.6545 - val_precision_m: 0.7200 - val_recall_m: 0.6000 - val_auc: 0.8514\n",
      "Epoch 77/100\n",
      "3/3 [==============================] - 0s 43ms/step - loss: 0.0441 - f1_m: 0.9603 - precision_m: 0.9731 - recall_m: 0.9479 - auc: 0.9994 - val_loss: 0.2631 - val_f1_m: 0.6415 - val_precision_m: 0.7391 - val_recall_m: 0.5667 - val_auc: 0.8424\n",
      "Epoch 78/100\n",
      "3/3 [==============================] - 0s 47ms/step - loss: 0.0408 - f1_m: 0.9775 - precision_m: 0.9906 - recall_m: 0.9648 - auc: 0.9997 - val_loss: 0.2536 - val_f1_m: 0.6792 - val_precision_m: 0.7826 - val_recall_m: 0.6000 - val_auc: 0.8642\n",
      "Epoch 79/100\n",
      "3/3 [==============================] - 0s 41ms/step - loss: 0.0320 - f1_m: 0.9906 - precision_m: 1.0000 - recall_m: 0.9818 - auc: 0.9999 - val_loss: 0.2353 - val_f1_m: 0.6000 - val_precision_m: 0.7500 - val_recall_m: 0.5000 - val_auc: 0.8601\n",
      "Epoch 80/100\n",
      "3/3 [==============================] - 0s 39ms/step - loss: 0.0426 - f1_m: 0.9761 - precision_m: 0.9899 - recall_m: 0.9635 - auc: 0.9996 - val_loss: 0.2181 - val_f1_m: 0.5882 - val_precision_m: 0.7143 - val_recall_m: 0.5000 - val_auc: 0.8735\n",
      "Epoch 81/100\n",
      "3/3 [==============================] - 0s 39ms/step - loss: 0.0240 - f1_m: 1.0000 - precision_m: 1.0000 - recall_m: 1.0000 - auc: 1.0000 - val_loss: 0.2171 - val_f1_m: 0.5926 - val_precision_m: 0.6667 - val_recall_m: 0.5333 - val_auc: 0.8614\n",
      "Epoch 82/100\n",
      "3/3 [==============================] - 0s 38ms/step - loss: 0.0302 - f1_m: 0.9861 - precision_m: 0.9906 - recall_m: 0.9818 - auc: 0.9998 - val_loss: 0.2268 - val_f1_m: 0.5818 - val_precision_m: 0.6400 - val_recall_m: 0.5333 - val_auc: 0.8693\n",
      "Epoch 83/100\n",
      "3/3 [==============================] - 0s 38ms/step - loss: 0.0428 - f1_m: 0.9820 - precision_m: 1.0000 - recall_m: 0.9648 - auc: 0.9999 - val_loss: 0.2398 - val_f1_m: 0.5818 - val_precision_m: 0.6400 - val_recall_m: 0.5333 - val_auc: 0.8681\n",
      "Epoch 84/100\n",
      "3/3 [==============================] - 0s 38ms/step - loss: 0.0427 - f1_m: 0.9775 - precision_m: 0.9906 - recall_m: 0.9648 - auc: 0.9998 - val_loss: 0.2474 - val_f1_m: 0.6038 - val_precision_m: 0.6957 - val_recall_m: 0.5333 - val_auc: 0.8776\n",
      "Epoch 85/100\n",
      "3/3 [==============================] - 0s 38ms/step - loss: 0.0348 - f1_m: 0.9726 - precision_m: 0.9903 - recall_m: 0.9557 - auc: 0.9996 - val_loss: 0.2492 - val_f1_m: 0.6000 - val_precision_m: 0.7500 - val_recall_m: 0.5000 - val_auc: 0.8666\n",
      "Epoch 86/100\n",
      "3/3 [==============================] - 0s 39ms/step - loss: 0.0285 - f1_m: 0.9818 - precision_m: 0.9818 - recall_m: 0.9818 - auc: 0.9994 - val_loss: 0.2464 - val_f1_m: 0.5926 - val_precision_m: 0.6667 - val_recall_m: 0.5333 - val_auc: 0.8561\n",
      "Epoch 87/100\n",
      "3/3 [==============================] - 0s 39ms/step - loss: 0.0336 - f1_m: 0.9382 - precision_m: 0.9639 - recall_m: 0.9141 - auc: 0.9988 - val_loss: 0.2433 - val_f1_m: 0.6296 - val_precision_m: 0.7083 - val_recall_m: 0.5667 - val_auc: 0.8472\n",
      "Epoch 88/100\n",
      "3/3 [==============================] - 0s 39ms/step - loss: 0.0300 - f1_m: 0.9179 - precision_m: 0.9353 - recall_m: 0.9015 - auc: 0.9999 - val_loss: 0.2460 - val_f1_m: 0.6038 - val_precision_m: 0.6957 - val_recall_m: 0.5333 - val_auc: 0.8489\n",
      "Epoch 89/100\n",
      "3/3 [==============================] - 0s 39ms/step - loss: 0.0223 - f1_m: 0.9909 - precision_m: 0.9909 - recall_m: 0.9909 - auc: 0.9999 - val_loss: 0.2439 - val_f1_m: 0.6415 - val_precision_m: 0.7391 - val_recall_m: 0.5667 - val_auc: 0.8649\n",
      "Epoch 90/100\n",
      "3/3 [==============================] - 0s 39ms/step - loss: 0.0318 - f1_m: 0.9861 - precision_m: 0.9906 - recall_m: 0.9818 - auc: 0.9998 - val_loss: 0.2391 - val_f1_m: 0.6538 - val_precision_m: 0.7727 - val_recall_m: 0.5667 - val_auc: 0.8699\n",
      "Epoch 91/100\n",
      "3/3 [==============================] - 0s 48ms/step - loss: 0.0266 - f1_m: 0.9696 - precision_m: 0.9825 - recall_m: 0.9570 - auc: 0.9998 - val_loss: 0.2417 - val_f1_m: 0.6275 - val_precision_m: 0.7619 - val_recall_m: 0.5333 - val_auc: 0.8736\n",
      "Epoch 92/100\n",
      "3/3 [==============================] - 0s 41ms/step - loss: 0.0225 - f1_m: 0.9586 - precision_m: 0.9899 - recall_m: 0.9297 - auc: 0.9993 - val_loss: 0.2560 - val_f1_m: 0.6154 - val_precision_m: 0.7273 - val_recall_m: 0.5333 - val_auc: 0.8641\n",
      "Epoch 93/100\n",
      "3/3 [==============================] - 0s 47ms/step - loss: 0.0154 - f1_m: 0.9954 - precision_m: 1.0000 - recall_m: 0.9909 - auc: 1.0000 - val_loss: 0.2790 - val_f1_m: 0.6429 - val_precision_m: 0.6923 - val_recall_m: 0.6000 - val_auc: 0.8634\n",
      "Epoch 94/100\n",
      "3/3 [==============================] - 0s 46ms/step - loss: 0.0175 - f1_m: 1.0000 - precision_m: 1.0000 - recall_m: 1.0000 - auc: 1.0000 - val_loss: 0.2976 - val_f1_m: 0.6667 - val_precision_m: 0.7037 - val_recall_m: 0.6333 - val_auc: 0.8501\n",
      "Epoch 95/100\n"
     ]
    },
    {
     "name": "stdout",
     "output_type": "stream",
     "text": [
      "3/3 [==============================] - 0s 52ms/step - loss: 0.0354 - f1_m: 0.9431 - precision_m: 0.9556 - recall_m: 0.9310 - auc: 0.9988 - val_loss: 0.2844 - val_f1_m: 0.6667 - val_precision_m: 0.7037 - val_recall_m: 0.6333 - val_auc: 0.8488\n",
      "Epoch 96/100\n",
      "3/3 [==============================] - 0s 42ms/step - loss: 0.0185 - f1_m: 0.9914 - precision_m: 1.0000 - recall_m: 0.9831 - auc: 1.0000 - val_loss: 0.2852 - val_f1_m: 0.6441 - val_precision_m: 0.6552 - val_recall_m: 0.6333 - val_auc: 0.8335\n",
      "Epoch 97/100\n",
      "3/3 [==============================] - 0s 47ms/step - loss: 0.0145 - f1_m: 1.0000 - precision_m: 1.0000 - recall_m: 1.0000 - auc: 1.0000 - val_loss: 0.3170 - val_f1_m: 0.5714 - val_precision_m: 0.6154 - val_recall_m: 0.5333 - val_auc: 0.8312\n",
      "Epoch 98/100\n",
      "3/3 [==============================] - 0s 40ms/step - loss: 0.0305 - f1_m: 0.9398 - precision_m: 0.9444 - recall_m: 0.9353 - auc: 0.9999 - val_loss: 0.3204 - val_f1_m: 0.6552 - val_precision_m: 0.6786 - val_recall_m: 0.6333 - val_auc: 0.8428\n",
      "Epoch 99/100\n",
      "3/3 [==============================] - 0s 46ms/step - loss: 0.0382 - f1_m: 0.9353 - precision_m: 0.9353 - recall_m: 0.9353 - auc: 0.9998 - val_loss: 0.2812 - val_f1_m: 0.6786 - val_precision_m: 0.7308 - val_recall_m: 0.6333 - val_auc: 0.8598\n",
      "Epoch 100/100\n",
      "3/3 [==============================] - 0s 48ms/step - loss: 0.0238 - f1_m: 0.9831 - precision_m: 0.9831 - recall_m: 0.9831 - auc: 1.0000 - val_loss: 0.2484 - val_f1_m: 0.6792 - val_precision_m: 0.7826 - val_recall_m: 0.6000 - val_auc: 0.8704\n"
     ]
    },
    {
     "data": {
      "text/plain": [
       "<tensorflow.python.keras.callbacks.History at 0x7f4383fa2100>"
      ]
     },
     "execution_count": 21,
     "metadata": {},
     "output_type": "execute_result"
    }
   ],
   "source": [
    "Malware_model.fit(X_train, y_train, validation_data=(X_test, y_test), epochs=100,  class_weight=class_weights)"
   ]
  },
  {
   "cell_type": "code",
   "execution_count": 22,
   "id": "4471392c",
   "metadata": {},
   "outputs": [
    {
     "name": "stdout",
     "output_type": "stream",
     "text": [
      "1/1 [==============================] - 0s 25ms/step - loss: 0.2484 - f1_m: 0.6792 - precision_m: 0.7826 - recall_m: 0.6000 - auc: 0.8704\n"
     ]
    }
   ],
   "source": [
    "scores = Malware_model.evaluate(X_test, y_test)"
   ]
  },
  {
   "cell_type": "code",
   "execution_count": 23,
   "id": "af5d617f",
   "metadata": {},
   "outputs": [
    {
     "name": "stdout",
     "output_type": "stream",
     "text": [
      "1/1 [==============================] - 0s 21ms/step - loss: 0.2484 - f1_m: 0.6792 - precision_m: 0.7826 - recall_m: 0.6000 - auc: 0.8704\n"
     ]
    }
   ],
   "source": [
    "loss, accuracy, f1_score, precision, recall = Malware_model.evaluate(X_test, y_test)"
   ]
  },
  {
   "cell_type": "code",
   "execution_count": 24,
   "id": "dbcee16a",
   "metadata": {},
   "outputs": [
    {
     "name": "stdout",
     "output_type": "stream",
     "text": [
      "Final CNN accuracy:  0.6792452335357666\n"
     ]
    }
   ],
   "source": [
    "print('Final CNN accuracy: ', scores[1])"
   ]
  }
 ],
 "metadata": {
  "kernelspec": {
   "display_name": "Python 3 (ipykernel)",
   "language": "python",
   "name": "python3"
  },
  "language_info": {
   "codemirror_mode": {
    "name": "ipython",
    "version": 3
   },
   "file_extension": ".py",
   "mimetype": "text/x-python",
   "name": "python",
   "nbconvert_exporter": "python",
   "pygments_lexer": "ipython3",
   "version": "3.9.16"
  }
 },
 "nbformat": 4,
 "nbformat_minor": 5
}
