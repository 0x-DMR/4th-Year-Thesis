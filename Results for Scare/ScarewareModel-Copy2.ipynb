{
 "cells": [
  {
   "cell_type": "code",
   "execution_count": 1,
   "id": "e08d24dc",
   "metadata": {},
   "outputs": [],
   "source": [
    "import os\n",
    "os.environ['TF_XLA_FLAGS'] = '--tf_xla_enable_xla_devices'\n",
    "path_root = '/home/dmr/DatasetForExperiments/scareware/'"
   ]
  },
  {
   "cell_type": "code",
   "execution_count": 2,
   "id": "6a45dad7",
   "metadata": {},
   "outputs": [
    {
     "name": "stderr",
     "output_type": "stream",
     "text": [
      "2023-05-03 16:12:20.982571: I tensorflow/stream_executor/platform/default/dso_loader.cc:49] Successfully opened dynamic library libcudart.so.10.1\n"
     ]
    },
    {
     "name": "stdout",
     "output_type": "stream",
     "text": [
      "Found 97 images belonging to 11 classes.\n"
     ]
    }
   ],
   "source": [
    "from keras.preprocessing.image import ImageDataGenerator\n",
    "batches = ImageDataGenerator().flow_from_directory(directory=path_root, target_size=(64,64), batch_size=10000)"
   ]
  },
  {
   "cell_type": "code",
   "execution_count": 3,
   "id": "728b8be6",
   "metadata": {},
   "outputs": [
    {
     "data": {
      "text/plain": [
       "(97, 11)"
      ]
     },
     "execution_count": 3,
     "metadata": {},
     "output_type": "execute_result"
    }
   ],
   "source": [
    "# Print information about Images \n",
    "imgs, labels = next(batches)\n",
    "imgs.shape # Images with width x length x depth\n",
    "labels.shape # Lablels with batch_size, number of classes"
   ]
  },
  {
   "cell_type": "code",
   "execution_count": 4,
   "id": "57424da2",
   "metadata": {},
   "outputs": [],
   "source": [
    "import numpy as np\n",
    "import scipy as sp\n",
    "from PIL import Image\n",
    "\n",
    "# Train and Test \n",
    "from sklearn.model_selection import train_test_split\n",
    "X_train, X_test, y_train, y_test = train_test_split(imgs/255.,labels, test_size=0.3)"
   ]
  },
  {
   "cell_type": "code",
   "execution_count": 5,
   "id": "3590200f",
   "metadata": {},
   "outputs": [
    {
     "data": {
      "text/plain": [
       "(67, 64, 64, 3)"
      ]
     },
     "execution_count": 5,
     "metadata": {},
     "output_type": "execute_result"
    }
   ],
   "source": [
    "X_train.shape"
   ]
  },
  {
   "cell_type": "code",
   "execution_count": 6,
   "id": "3db9230c",
   "metadata": {},
   "outputs": [
    {
     "data": {
      "text/plain": [
       "(30, 64, 64, 3)"
      ]
     },
     "execution_count": 6,
     "metadata": {},
     "output_type": "execute_result"
    }
   ],
   "source": [
    "X_test.shape"
   ]
  },
  {
   "cell_type": "code",
   "execution_count": 7,
   "id": "2b6ca85a",
   "metadata": {},
   "outputs": [
    {
     "data": {
      "text/plain": [
       "(67, 11)"
      ]
     },
     "execution_count": 7,
     "metadata": {},
     "output_type": "execute_result"
    }
   ],
   "source": [
    "y_train.shape"
   ]
  },
  {
   "cell_type": "code",
   "execution_count": 8,
   "id": "f5f1dec9",
   "metadata": {},
   "outputs": [
    {
     "data": {
      "text/plain": [
       "(30, 11)"
      ]
     },
     "execution_count": 8,
     "metadata": {},
     "output_type": "execute_result"
    }
   ],
   "source": [
    "y_test.shape"
   ]
  },
  {
   "cell_type": "code",
   "execution_count": 9,
   "id": "fde8f125",
   "metadata": {},
   "outputs": [],
   "source": [
    "# CNN Model"
   ]
  },
  {
   "cell_type": "code",
   "execution_count": 10,
   "id": "0f3529a9",
   "metadata": {},
   "outputs": [],
   "source": [
    "import keras\n",
    "import tensorflow\n",
    "from keras.models import Sequential, Input, Model\n",
    "from keras.layers import Dense, Dropout, Flatten\n",
    "from keras.layers import Conv2D, MaxPooling2D\n",
    "from tensorflow.keras.layers import BatchNormalization\n",
    "from tensorflow.keras.metrics import AUC"
   ]
  },
  {
   "cell_type": "code",
   "execution_count": 11,
   "id": "0401eabd",
   "metadata": {},
   "outputs": [],
   "source": [
    "num_classes = 11 # Changed from 10 to 11 for families on scareware"
   ]
  },
  {
   "cell_type": "code",
   "execution_count": 12,
   "id": "b3593ed6",
   "metadata": {},
   "outputs": [],
   "source": [
    "def malware_model():\n",
    "    Malware_model = Sequential()\n",
    "    # Convolutional Layer : 30 filters, (3 * 3) kernel size\n",
    "    Malware_model.add(Conv2D(30, kernel_size=(3, 3),\n",
    "                     activation='relu',\n",
    "                     input_shape=(64,64,3)))\n",
    "\n",
    "    # Max Pooling Layer : (2 * 2) pool size\n",
    "    Malware_model.add(MaxPooling2D(pool_size=(2, 2)))\n",
    "    \n",
    "    #Convolutional Layer : 15 filters, (3 * 3) kernel size\n",
    "    Malware_model.add(Conv2D(16, (3, 3), activation='relu'))\n",
    "    \n",
    "    # Max Pooling Layer : (2 * 2) pool size\n",
    "    Malware_model.add(MaxPooling2D(pool_size=(2, 2)))\n",
    "    \n",
    "    # DropOut Layer : Dropping 25% of neurons.\n",
    "    Malware_model.add(Dropout(0.25))\n",
    "    \n",
    "    # Flatten Layer\n",
    "    Malware_model.add(Flatten())\n",
    "    \n",
    "    # Dense/Fully Connected Layer : 128 Neurons, Relu activation function\n",
    "    Malware_model.add(Dense(128, activation='relu'))    \n",
    "   # Malware_model.add(Dense(64, activation='relu'))\n",
    "    \n",
    "    # DropOut Layer : Dropping 50% of neurons.\n",
    "    Malware_model.add(Dropout(0.5))\n",
    "    \n",
    "    # Dense/Fully Connected Layer : 50 Neurons, Softmax activation function\n",
    "    Malware_model.add(Dense(50, activation='relu'))\n",
    "    \n",
    "    # Dense/Fully Connected Layer : num_class Neurons, Softmax activation function\n",
    "    Malware_model.add(Dense(num_classes, activation='softmax'))\n",
    "    \n",
    "    \n",
    "    Malware_model.compile(loss='categorical_crossentropy', optimizer = 'adam', metrics=['accuracy'])\n",
    "    return Malware_model\n",
    "\n",
    "\n",
    "    # sparse_categorical_cross_entropy\n",
    "    # categorical_crossentropy\n",
    "    "
   ]
  },
  {
   "cell_type": "code",
   "execution_count": 13,
   "id": "9a4ebf7d",
   "metadata": {},
   "outputs": [],
   "source": [
    "from keras import backend as K\n",
    "\n",
    "def recall_m(y_test, y_pred):\n",
    "    true_positives = K.sum(K.round(K.clip(y_test * y_pred, 0, 1)))\n",
    "    possible_positives = K.sum(K.round(K.clip(y_test, 0, 1)))\n",
    "    recall = true_positives / (possible_positives + K.epsilon())\n",
    "    return recall\n",
    "\n",
    "def precision_m(y_test, y_pred):\n",
    "    true_positives = K.sum(K.round(K.clip(y_test * y_pred, 0, 1)))\n",
    "    predicted_positives = K.sum(K.round(K.clip(y_pred, 0, 1)))\n",
    "    precision = true_positives / (predicted_positives + K.epsilon())\n",
    "    return precision\n",
    "\n",
    "def f1_m(y_test, y_pred):\n",
    "    precision = precision_m(y_test, y_pred)\n",
    "    recall = recall_m(y_test, y_pred)\n",
    "    return 2*((precision*recall)/(precision+recall+K.epsilon()))"
   ]
  },
  {
   "cell_type": "code",
   "execution_count": 14,
   "id": "c1e2abbc",
   "metadata": {},
   "outputs": [
    {
     "name": "stderr",
     "output_type": "stream",
     "text": [
      "2023-05-03 16:12:24.037912: I tensorflow/stream_executor/platform/default/dso_loader.cc:49] Successfully opened dynamic library libcuda.so.1\n",
      "2023-05-03 16:12:24.364372: E tensorflow/stream_executor/cuda/cuda_driver.cc:328] failed call to cuInit: CUDA_ERROR_NO_DEVICE: no CUDA-capable device is detected\n",
      "2023-05-03 16:12:24.364470: I tensorflow/stream_executor/cuda/cuda_diagnostics.cc:156] kernel driver does not appear to be running on this host (pop-os): /proc/driver/nvidia/version does not exist\n",
      "2023-05-03 16:12:24.365975: I tensorflow/core/platform/cpu_feature_guard.cc:142] This TensorFlow binary is optimized with oneAPI Deep Neural Network Library (oneDNN) to use the following CPU instructions in performance-critical operations:  SSE4.1 SSE4.2 AVX AVX2 FMA\n",
      "To enable them in other operations, rebuild TensorFlow with the appropriate compiler flags.\n",
      "2023-05-03 16:12:24.384664: I tensorflow/core/platform/profile_utils/cpu_utils.cc:112] CPU Frequency: 1999965000 Hz\n",
      "2023-05-03 16:12:24.386026: I tensorflow/compiler/xla/service/service.cc:168] XLA service 0x1d852c0 initialized for platform Host (this does not guarantee that XLA will be used). Devices:\n",
      "2023-05-03 16:12:24.386067: I tensorflow/compiler/xla/service/service.cc:176]   StreamExecutor device (0): Host, Default Version\n"
     ]
    }
   ],
   "source": [
    "Malware_model = malware_model()"
   ]
  },
  {
   "cell_type": "code",
   "execution_count": 15,
   "id": "bcb1d474",
   "metadata": {},
   "outputs": [
    {
     "name": "stdout",
     "output_type": "stream",
     "text": [
      "Model: \"sequential\"\n",
      "_________________________________________________________________\n",
      "Layer (type)                 Output Shape              Param #   \n",
      "=================================================================\n",
      "conv2d (Conv2D)              (None, 62, 62, 30)        840       \n",
      "_________________________________________________________________\n",
      "max_pooling2d (MaxPooling2D) (None, 31, 31, 30)        0         \n",
      "_________________________________________________________________\n",
      "conv2d_1 (Conv2D)            (None, 29, 29, 16)        4336      \n",
      "_________________________________________________________________\n",
      "max_pooling2d_1 (MaxPooling2 (None, 14, 14, 16)        0         \n",
      "_________________________________________________________________\n",
      "dropout (Dropout)            (None, 14, 14, 16)        0         \n",
      "_________________________________________________________________\n",
      "flatten (Flatten)            (None, 3136)              0         \n",
      "_________________________________________________________________\n",
      "dense (Dense)                (None, 128)               401536    \n",
      "_________________________________________________________________\n",
      "dropout_1 (Dropout)          (None, 128)               0         \n",
      "_________________________________________________________________\n",
      "dense_1 (Dense)              (None, 50)                6450      \n",
      "_________________________________________________________________\n",
      "dense_2 (Dense)              (None, 11)                561       \n",
      "=================================================================\n",
      "Total params: 413,723\n",
      "Trainable params: 413,723\n",
      "Non-trainable params: 0\n",
      "_________________________________________________________________\n"
     ]
    }
   ],
   "source": [
    "Malware_model.summary()"
   ]
  },
  {
   "cell_type": "code",
   "execution_count": 16,
   "id": "9e8d69b6",
   "metadata": {},
   "outputs": [
    {
     "data": {
      "text/plain": [
       "(67, 11)"
      ]
     },
     "execution_count": 16,
     "metadata": {},
     "output_type": "execute_result"
    }
   ],
   "source": [
    "y_train.shape"
   ]
  },
  {
   "cell_type": "code",
   "execution_count": 17,
   "id": "6711d2f9",
   "metadata": {},
   "outputs": [],
   "source": [
    "y_train_new = np.argmax(y_train, axis=1)"
   ]
  },
  {
   "cell_type": "code",
   "execution_count": 18,
   "id": "838a6a56",
   "metadata": {},
   "outputs": [
    {
     "data": {
      "text/plain": [
       "array([ 2,  9,  1,  7,  9,  7,  6,  4,  1,  0,  9,  9, 10,  3,  9,  3, 10,\n",
       "        7,  7,  2,  0,  3,  5,  7,  7,  8,  6,  1,  7,  6,  8,  8,  8,  2,\n",
       "        8,  9,  5,  4,  9,  6,  6,  5,  2,  3,  1,  7, 10,  1,  4,  1,  2,\n",
       "       10,  4,  5,  1,  4,  1,  7,  6,  6, 10,  6,  2,  4,  9,  9,  3])"
      ]
     },
     "execution_count": 18,
     "metadata": {},
     "output_type": "execute_result"
    }
   ],
   "source": [
    "y_train_new"
   ]
  },
  {
   "cell_type": "code",
   "execution_count": 19,
   "id": "e5fccc6d",
   "metadata": {},
   "outputs": [],
   "source": [
    "from sklearn.utils import class_weight\n",
    "class_weights = class_weight.compute_class_weight(class_weight = 'balanced',\n",
    "                                                 classes = np.unique(y_train_new),\n",
    "                                                 y = y_train_new)\n",
    "\n",
    "class_weights = {l:c for l,c in zip(np.unique(y_train_new), class_weights)}"
   ]
  },
  {
   "cell_type": "code",
   "execution_count": 20,
   "id": "a62f070a",
   "metadata": {},
   "outputs": [],
   "source": [
    "Malware_model.compile(optimizer='adam', loss='binary_crossentropy', metrics=[f1_m,precision_m, recall_m,AUC()])"
   ]
  },
  {
   "cell_type": "code",
   "execution_count": 21,
   "id": "f8c8523a",
   "metadata": {
    "scrolled": true
   },
   "outputs": [
    {
     "name": "stderr",
     "output_type": "stream",
     "text": [
      "2023-05-03 16:12:24.557378: I tensorflow/compiler/mlir/mlir_graph_optimization_pass.cc:116] None of the MLIR optimization passes are enabled (registered 2)\n"
     ]
    },
    {
     "name": "stdout",
     "output_type": "stream",
     "text": [
      "Epoch 1/100\n",
      "3/3 [==============================] - 1s 253ms/step - loss: 0.6230 - f1_m: 0.0000e+00 - precision_m: 0.0000e+00 - recall_m: 0.0000e+00 - auc: 0.5069 - val_loss: 0.3911 - val_f1_m: 0.0588 - val_precision_m: 0.2500 - val_recall_m: 0.0333 - val_auc: 0.4875\n",
      "Epoch 2/100\n",
      "3/3 [==============================] - 0s 37ms/step - loss: 0.4158 - f1_m: 0.0139 - precision_m: 0.0292 - recall_m: 0.0091 - auc: 0.5240 - val_loss: 0.3280 - val_f1_m: 0.0000e+00 - val_precision_m: 0.0000e+00 - val_recall_m: 0.0000e+00 - val_auc: 0.5355\n",
      "Epoch 3/100\n",
      "3/3 [==============================] - 0s 37ms/step - loss: 0.3787 - f1_m: 0.0443 - precision_m: 0.1486 - recall_m: 0.0260 - auc: 0.5122 - val_loss: 0.3165 - val_f1_m: 0.0000e+00 - val_precision_m: 0.0000e+00 - val_recall_m: 0.0000e+00 - val_auc: 0.6222\n",
      "Epoch 4/100\n",
      "3/3 [==============================] - 0s 39ms/step - loss: 0.3751 - f1_m: 0.0000e+00 - precision_m: 0.0000e+00 - recall_m: 0.0000e+00 - auc: 0.4737 - val_loss: 0.3217 - val_f1_m: 0.0000e+00 - val_precision_m: 0.0000e+00 - val_recall_m: 0.0000e+00 - val_auc: 0.6265\n",
      "Epoch 5/100\n",
      "3/3 [==============================] - 0s 41ms/step - loss: 0.3331 - f1_m: 0.0328 - precision_m: 0.5417 - recall_m: 0.0169 - auc: 0.5722 - val_loss: 0.3112 - val_f1_m: 0.0000e+00 - val_precision_m: 0.0000e+00 - val_recall_m: 0.0000e+00 - val_auc: 0.5305\n",
      "Epoch 6/100\n",
      "3/3 [==============================] - 0s 37ms/step - loss: 0.3458 - f1_m: 0.0000e+00 - precision_m: 0.0000e+00 - recall_m: 0.0000e+00 - auc: 0.5670 - val_loss: 0.3137 - val_f1_m: 0.0000e+00 - val_precision_m: 0.0000e+00 - val_recall_m: 0.0000e+00 - val_auc: 0.5088\n",
      "Epoch 7/100\n",
      "3/3 [==============================] - 0s 35ms/step - loss: 0.3296 - f1_m: 0.0000e+00 - precision_m: 0.0000e+00 - recall_m: 0.0000e+00 - auc: 0.5800 - val_loss: 0.3194 - val_f1_m: 0.0000e+00 - val_precision_m: 0.0000e+00 - val_recall_m: 0.0000e+00 - val_auc: 0.4979\n",
      "Epoch 8/100\n",
      "3/3 [==============================] - 0s 37ms/step - loss: 0.3329 - f1_m: 0.0586 - precision_m: 0.2167 - recall_m: 0.0339 - auc: 0.6202 - val_loss: 0.3240 - val_f1_m: 0.0000e+00 - val_precision_m: 0.0000e+00 - val_recall_m: 0.0000e+00 - val_auc: 0.4916\n",
      "Epoch 9/100\n",
      "3/3 [==============================] - 0s 36ms/step - loss: 0.3173 - f1_m: 0.0319 - precision_m: 0.2708 - recall_m: 0.0169 - auc: 0.5917 - val_loss: 0.3321 - val_f1_m: 0.0000e+00 - val_precision_m: 0.0000e+00 - val_recall_m: 0.0000e+00 - val_auc: 0.4697\n",
      "Epoch 10/100\n",
      "3/3 [==============================] - 0s 38ms/step - loss: 0.3156 - f1_m: 0.0000e+00 - precision_m: 0.0000e+00 - recall_m: 0.0000e+00 - auc: 0.6246 - val_loss: 0.3222 - val_f1_m: 0.0000e+00 - val_precision_m: 0.0000e+00 - val_recall_m: 0.0000e+00 - val_auc: 0.4872\n",
      "Epoch 11/100\n",
      "3/3 [==============================] - 0s 37ms/step - loss: 0.3323 - f1_m: 0.0310 - precision_m: 0.1806 - recall_m: 0.0169 - auc: 0.5671 - val_loss: 0.3324 - val_f1_m: 0.0000e+00 - val_precision_m: 0.0000e+00 - val_recall_m: 0.0000e+00 - val_auc: 0.5019\n",
      "Epoch 12/100\n",
      "3/3 [==============================] - 0s 38ms/step - loss: 0.3191 - f1_m: 0.0177 - precision_m: 0.2917 - recall_m: 0.0091 - auc: 0.6444 - val_loss: 0.3075 - val_f1_m: 0.0000e+00 - val_precision_m: 0.0000e+00 - val_recall_m: 0.0000e+00 - val_auc: 0.5373\n",
      "Epoch 13/100\n",
      "3/3 [==============================] - 0s 36ms/step - loss: 0.3283 - f1_m: 0.0000e+00 - precision_m: 0.0000e+00 - recall_m: 0.0000e+00 - auc: 0.5539 - val_loss: 0.3236 - val_f1_m: 0.0000e+00 - val_precision_m: 0.0000e+00 - val_recall_m: 0.0000e+00 - val_auc: 0.5941\n",
      "Epoch 14/100\n",
      "3/3 [==============================] - 0s 38ms/step - loss: 0.3327 - f1_m: 0.0000e+00 - precision_m: 0.0000e+00 - recall_m: 0.0000e+00 - auc: 0.6089 - val_loss: 0.3127 - val_f1_m: 0.0000e+00 - val_precision_m: 0.0000e+00 - val_recall_m: 0.0000e+00 - val_auc: 0.6153\n",
      "Epoch 15/100\n",
      "3/3 [==============================] - 0s 39ms/step - loss: 0.3097 - f1_m: 0.0000e+00 - precision_m: 0.0000e+00 - recall_m: 0.0000e+00 - auc: 0.6412 - val_loss: 0.3000 - val_f1_m: 0.0000e+00 - val_precision_m: 0.0000e+00 - val_recall_m: 0.0000e+00 - val_auc: 0.6281\n",
      "Epoch 16/100\n",
      "3/3 [==============================] - 0s 38ms/step - loss: 0.3001 - f1_m: 0.0000e+00 - precision_m: 0.0000e+00 - recall_m: 0.0000e+00 - auc: 0.6839 - val_loss: 0.3042 - val_f1_m: 0.0000e+00 - val_precision_m: 0.0000e+00 - val_recall_m: 0.0000e+00 - val_auc: 0.6506\n",
      "Epoch 17/100\n",
      "3/3 [==============================] - 0s 39ms/step - loss: 0.3183 - f1_m: 0.0473 - precision_m: 0.1750 - recall_m: 0.0273 - auc: 0.6492 - val_loss: 0.2900 - val_f1_m: 0.0000e+00 - val_precision_m: 0.0000e+00 - val_recall_m: 0.0000e+00 - val_auc: 0.6748\n",
      "Epoch 18/100\n",
      "3/3 [==============================] - 0s 37ms/step - loss: 0.2997 - f1_m: 0.0000e+00 - precision_m: 0.0000e+00 - recall_m: 0.0000e+00 - auc: 0.6662 - val_loss: 0.2947 - val_f1_m: 0.0000e+00 - val_precision_m: 0.0000e+00 - val_recall_m: 0.0000e+00 - val_auc: 0.6702\n",
      "Epoch 19/100\n",
      "3/3 [==============================] - 0s 45ms/step - loss: 0.2829 - f1_m: 0.0000e+00 - precision_m: 0.0000e+00 - recall_m: 0.0000e+00 - auc: 0.7415 - val_loss: 0.2916 - val_f1_m: 0.0000e+00 - val_precision_m: 0.0000e+00 - val_recall_m: 0.0000e+00 - val_auc: 0.6702\n",
      "Epoch 20/100\n",
      "3/3 [==============================] - 0s 39ms/step - loss: 0.2960 - f1_m: 0.0319 - precision_m: 0.2708 - recall_m: 0.0169 - auc: 0.7337 - val_loss: 0.2855 - val_f1_m: 0.0000e+00 - val_precision_m: 0.0000e+00 - val_recall_m: 0.0000e+00 - val_auc: 0.6649\n",
      "Epoch 21/100\n",
      "3/3 [==============================] - 0s 38ms/step - loss: 0.2910 - f1_m: 0.0177 - precision_m: 0.2917 - recall_m: 0.0091 - auc: 0.7060 - val_loss: 0.2858 - val_f1_m: 0.0000e+00 - val_precision_m: 0.0000e+00 - val_recall_m: 0.0000e+00 - val_auc: 0.6716\n",
      "Epoch 22/100\n",
      "3/3 [==============================] - 0s 40ms/step - loss: 0.2933 - f1_m: 0.0500 - precision_m: 0.6875 - recall_m: 0.0260 - auc: 0.7132 - val_loss: 0.2798 - val_f1_m: 0.0000e+00 - val_precision_m: 0.0000e+00 - val_recall_m: 0.0000e+00 - val_auc: 0.6833\n",
      "Epoch 23/100\n",
      "3/3 [==============================] - 0s 45ms/step - loss: 0.2725 - f1_m: 0.0671 - precision_m: 0.8333 - recall_m: 0.0352 - auc: 0.7766 - val_loss: 0.2753 - val_f1_m: 0.0000e+00 - val_precision_m: 0.0000e+00 - val_recall_m: 0.0000e+00 - val_auc: 0.7030\n",
      "Epoch 24/100\n",
      "3/3 [==============================] - 0s 41ms/step - loss: 0.2633 - f1_m: 0.0637 - precision_m: 0.5417 - recall_m: 0.0339 - auc: 0.8145 - val_loss: 0.2676 - val_f1_m: 0.0000e+00 - val_precision_m: 0.0000e+00 - val_recall_m: 0.0000e+00 - val_auc: 0.7114\n",
      "Epoch 25/100\n",
      "3/3 [==============================] - 0s 41ms/step - loss: 0.2662 - f1_m: 0.0333 - precision_m: 0.1944 - recall_m: 0.0182 - auc: 0.8196 - val_loss: 0.2712 - val_f1_m: 0.1818 - val_precision_m: 1.0000 - val_recall_m: 0.1000 - val_auc: 0.7247\n",
      "Epoch 26/100\n",
      "3/3 [==============================] - 0s 46ms/step - loss: 0.2711 - f1_m: 0.2460 - precision_m: 0.7465 - recall_m: 0.1506 - auc: 0.7882 - val_loss: 0.2596 - val_f1_m: 0.1250 - val_precision_m: 1.0000 - val_recall_m: 0.0667 - val_auc: 0.7759\n",
      "Epoch 27/100\n",
      "3/3 [==============================] - 0s 39ms/step - loss: 0.2692 - f1_m: 0.1268 - precision_m: 0.7750 - recall_m: 0.0703 - auc: 0.8191 - val_loss: 0.2652 - val_f1_m: 0.0000e+00 - val_precision_m: 0.0000e+00 - val_recall_m: 0.0000e+00 - val_auc: 0.8003\n",
      "Epoch 28/100\n",
      "3/3 [==============================] - 0s 44ms/step - loss: 0.2538 - f1_m: 0.0828 - precision_m: 0.8333 - recall_m: 0.0443 - auc: 0.8556 - val_loss: 0.2644 - val_f1_m: 0.1818 - val_precision_m: 1.0000 - val_recall_m: 0.1000 - val_auc: 0.8245\n",
      "Epoch 29/100\n",
      "3/3 [==============================] - 0s 44ms/step - loss: 0.2502 - f1_m: 0.0788 - precision_m: 0.2917 - recall_m: 0.0456 - auc: 0.8513 - val_loss: 0.2473 - val_f1_m: 0.2857 - val_precision_m: 1.0000 - val_recall_m: 0.1667 - val_auc: 0.8270\n",
      "Epoch 30/100\n",
      "3/3 [==============================] - 0s 40ms/step - loss: 0.2445 - f1_m: 0.2762 - precision_m: 1.0000 - recall_m: 0.1892 - auc: 0.8374 - val_loss: 0.2403 - val_f1_m: 0.3333 - val_precision_m: 1.0000 - val_recall_m: 0.2000 - val_auc: 0.8237\n",
      "Epoch 31/100\n"
     ]
    },
    {
     "name": "stdout",
     "output_type": "stream",
     "text": [
      "3/3 [==============================] - 0s 38ms/step - loss: 0.2319 - f1_m: 0.2297 - precision_m: 0.6976 - recall_m: 0.1380 - auc: 0.8584 - val_loss: 0.2306 - val_f1_m: 0.5000 - val_precision_m: 1.0000 - val_recall_m: 0.3333 - val_auc: 0.8449\n",
      "Epoch 32/100\n",
      "3/3 [==============================] - 0s 38ms/step - loss: 0.2228 - f1_m: 0.2056 - precision_m: 0.6847 - recall_m: 0.1211 - auc: 0.9063 - val_loss: 0.2334 - val_f1_m: 0.4211 - val_precision_m: 1.0000 - val_recall_m: 0.2667 - val_auc: 0.8354\n",
      "Epoch 33/100\n",
      "3/3 [==============================] - 0s 43ms/step - loss: 0.2230 - f1_m: 0.3290 - precision_m: 0.9398 - recall_m: 0.2092 - auc: 0.8871 - val_loss: 0.2389 - val_f1_m: 0.2353 - val_precision_m: 1.0000 - val_recall_m: 0.1333 - val_auc: 0.8258\n",
      "Epoch 34/100\n",
      "3/3 [==============================] - 0s 41ms/step - loss: 0.2233 - f1_m: 0.3131 - precision_m: 0.8643 - recall_m: 0.1936 - auc: 0.9095 - val_loss: 0.2388 - val_f1_m: 0.2353 - val_precision_m: 1.0000 - val_recall_m: 0.1333 - val_auc: 0.8064\n",
      "Epoch 35/100\n",
      "3/3 [==============================] - 0s 45ms/step - loss: 0.2175 - f1_m: 0.2833 - precision_m: 0.7560 - recall_m: 0.1745 - auc: 0.9046 - val_loss: 0.2350 - val_f1_m: 0.5000 - val_precision_m: 1.0000 - val_recall_m: 0.3333 - val_auc: 0.8080\n",
      "Epoch 36/100\n",
      "3/3 [==============================] - 0s 36ms/step - loss: 0.2297 - f1_m: 0.3138 - precision_m: 0.6761 - recall_m: 0.2053 - auc: 0.8720 - val_loss: 0.2279 - val_f1_m: 0.5000 - val_precision_m: 1.0000 - val_recall_m: 0.3333 - val_auc: 0.8525\n",
      "Epoch 37/100\n",
      "3/3 [==============================] - 0s 37ms/step - loss: 0.2187 - f1_m: 0.2722 - precision_m: 0.7917 - recall_m: 0.1892 - auc: 0.8725 - val_loss: 0.2182 - val_f1_m: 0.4878 - val_precision_m: 0.9091 - val_recall_m: 0.3333 - val_auc: 0.8808\n",
      "Epoch 38/100\n",
      "3/3 [==============================] - 0s 35ms/step - loss: 0.2070 - f1_m: 0.3098 - precision_m: 0.7976 - recall_m: 0.1936 - auc: 0.9149 - val_loss: 0.2084 - val_f1_m: 0.4878 - val_precision_m: 0.9091 - val_recall_m: 0.3333 - val_auc: 0.8953\n",
      "Epoch 39/100\n",
      "3/3 [==============================] - 0s 38ms/step - loss: 0.1896 - f1_m: 0.4537 - precision_m: 0.9514 - recall_m: 0.2990 - auc: 0.9160 - val_loss: 0.2097 - val_f1_m: 0.5000 - val_precision_m: 1.0000 - val_recall_m: 0.3333 - val_auc: 0.8751\n",
      "Epoch 40/100\n",
      "3/3 [==============================] - 0s 36ms/step - loss: 0.1899 - f1_m: 0.4455 - precision_m: 0.7847 - recall_m: 0.3112 - auc: 0.9226 - val_loss: 0.2061 - val_f1_m: 0.5000 - val_precision_m: 1.0000 - val_recall_m: 0.3333 - val_auc: 0.8771\n",
      "Epoch 41/100\n",
      "3/3 [==============================] - 0s 37ms/step - loss: 0.1830 - f1_m: 0.4990 - precision_m: 0.9015 - recall_m: 0.3546 - auc: 0.9276 - val_loss: 0.1948 - val_f1_m: 0.5238 - val_precision_m: 0.9167 - val_recall_m: 0.3667 - val_auc: 0.9093\n",
      "Epoch 42/100\n",
      "3/3 [==============================] - 0s 37ms/step - loss: 0.1727 - f1_m: 0.4907 - precision_m: 0.8718 - recall_m: 0.3420 - auc: 0.9528 - val_loss: 0.1910 - val_f1_m: 0.5581 - val_precision_m: 0.9231 - val_recall_m: 0.4000 - val_auc: 0.9173\n",
      "Epoch 43/100\n",
      "3/3 [==============================] - 0s 36ms/step - loss: 0.1694 - f1_m: 0.5757 - precision_m: 0.8833 - recall_m: 0.4557 - auc: 0.9569 - val_loss: 0.1977 - val_f1_m: 0.5581 - val_precision_m: 0.9231 - val_recall_m: 0.4000 - val_auc: 0.9122\n",
      "Epoch 44/100\n",
      "3/3 [==============================] - 0s 37ms/step - loss: 0.1672 - f1_m: 0.6408 - precision_m: 0.8601 - recall_m: 0.5161 - auc: 0.9434 - val_loss: 0.1878 - val_f1_m: 0.5909 - val_precision_m: 0.9286 - val_recall_m: 0.4333 - val_auc: 0.9068\n",
      "Epoch 45/100\n",
      "3/3 [==============================] - 0s 36ms/step - loss: 0.1642 - f1_m: 0.5976 - precision_m: 0.9161 - recall_m: 0.4475 - auc: 0.9503 - val_loss: 0.1876 - val_f1_m: 0.6047 - val_precision_m: 1.0000 - val_recall_m: 0.4333 - val_auc: 0.9067\n",
      "Epoch 46/100\n",
      "3/3 [==============================] - 0s 37ms/step - loss: 0.1849 - f1_m: 0.4160 - precision_m: 0.8333 - recall_m: 0.2773 - auc: 0.9607 - val_loss: 0.1860 - val_f1_m: 0.6364 - val_precision_m: 1.0000 - val_recall_m: 0.4667 - val_auc: 0.9050\n",
      "Epoch 47/100\n",
      "3/3 [==============================] - 0s 38ms/step - loss: 0.1534 - f1_m: 0.6124 - precision_m: 0.9490 - recall_m: 0.4553 - auc: 0.9644 - val_loss: 0.1782 - val_f1_m: 0.6087 - val_precision_m: 0.8750 - val_recall_m: 0.4667 - val_auc: 0.9141\n",
      "Epoch 48/100\n",
      "3/3 [==============================] - 0s 37ms/step - loss: 0.1582 - f1_m: 0.4860 - precision_m: 0.7324 - recall_m: 0.3646 - auc: 0.9539 - val_loss: 0.1839 - val_f1_m: 0.6383 - val_precision_m: 0.8824 - val_recall_m: 0.5000 - val_auc: 0.9176\n",
      "Epoch 49/100\n",
      "3/3 [==============================] - 0s 36ms/step - loss: 0.1431 - f1_m: 0.6869 - precision_m: 0.9115 - recall_m: 0.5525 - auc: 0.9567 - val_loss: 0.1752 - val_f1_m: 0.6364 - val_precision_m: 1.0000 - val_recall_m: 0.4667 - val_auc: 0.9161\n",
      "Epoch 50/100\n",
      "3/3 [==============================] - 0s 38ms/step - loss: 0.1380 - f1_m: 0.7569 - precision_m: 0.9422 - recall_m: 0.6432 - auc: 0.9774 - val_loss: 0.1799 - val_f1_m: 0.6047 - val_precision_m: 1.0000 - val_recall_m: 0.4333 - val_auc: 0.9120\n",
      "Epoch 51/100\n",
      "3/3 [==============================] - 0s 37ms/step - loss: 0.1397 - f1_m: 0.6607 - precision_m: 0.9493 - recall_m: 0.5165 - auc: 0.9744 - val_loss: 0.1899 - val_f1_m: 0.6047 - val_precision_m: 1.0000 - val_recall_m: 0.4333 - val_auc: 0.9040\n",
      "Epoch 52/100\n",
      "3/3 [==============================] - 0s 38ms/step - loss: 0.1699 - f1_m: 0.6031 - precision_m: 0.7532 - recall_m: 0.5030 - auc: 0.9228 - val_loss: 0.1709 - val_f1_m: 0.6809 - val_precision_m: 0.9412 - val_recall_m: 0.5333 - val_auc: 0.9396\n",
      "Epoch 53/100\n",
      "3/3 [==============================] - 0s 38ms/step - loss: 0.1332 - f1_m: 0.6599 - precision_m: 0.8128 - recall_m: 0.5664 - auc: 0.9675 - val_loss: 0.1557 - val_f1_m: 0.6522 - val_precision_m: 0.9375 - val_recall_m: 0.5000 - val_auc: 0.9540\n",
      "Epoch 54/100\n",
      "3/3 [==============================] - 0s 36ms/step - loss: 0.1163 - f1_m: 0.7073 - precision_m: 0.9254 - recall_m: 0.5855 - auc: 0.9855 - val_loss: 0.1554 - val_f1_m: 0.6809 - val_precision_m: 0.9412 - val_recall_m: 0.5333 - val_auc: 0.9472\n",
      "Epoch 55/100\n",
      "3/3 [==============================] - 0s 36ms/step - loss: 0.1331 - f1_m: 0.6536 - precision_m: 0.8354 - recall_m: 0.5530 - auc: 0.9418 - val_loss: 0.1582 - val_f1_m: 0.6809 - val_precision_m: 0.9412 - val_recall_m: 0.5333 - val_auc: 0.9388\n",
      "Epoch 56/100\n",
      "3/3 [==============================] - 0s 35ms/step - loss: 0.1148 - f1_m: 0.8277 - precision_m: 0.9509 - recall_m: 0.7383 - auc: 0.9809 - val_loss: 0.1597 - val_f1_m: 0.7083 - val_precision_m: 0.9444 - val_recall_m: 0.5667 - val_auc: 0.9396\n",
      "Epoch 57/100\n",
      "3/3 [==============================] - 0s 38ms/step - loss: 0.1046 - f1_m: 0.7750 - precision_m: 0.8543 - recall_m: 0.7135 - auc: 0.9812 - val_loss: 0.1674 - val_f1_m: 0.6939 - val_precision_m: 0.8947 - val_recall_m: 0.5667 - val_auc: 0.9303\n",
      "Epoch 58/100\n",
      "3/3 [==============================] - 0s 36ms/step - loss: 0.0970 - f1_m: 0.8223 - precision_m: 0.9299 - recall_m: 0.7413 - auc: 0.9914 - val_loss: 0.1707 - val_f1_m: 0.6800 - val_precision_m: 0.8500 - val_recall_m: 0.5667 - val_auc: 0.9247\n",
      "Epoch 59/100\n",
      "3/3 [==============================] - 0s 38ms/step - loss: 0.0903 - f1_m: 0.8927 - precision_m: 0.9498 - recall_m: 0.8438 - auc: 0.9946 - val_loss: 0.1697 - val_f1_m: 0.6800 - val_precision_m: 0.8500 - val_recall_m: 0.5667 - val_auc: 0.9291\n",
      "Epoch 60/100\n",
      "3/3 [==============================] - 0s 38ms/step - loss: 0.1120 - f1_m: 0.8202 - precision_m: 0.9117 - recall_m: 0.7487 - auc: 0.9907 - val_loss: 0.1652 - val_f1_m: 0.6800 - val_precision_m: 0.8500 - val_recall_m: 0.5667 - val_auc: 0.9363\n",
      "Epoch 61/100\n",
      "3/3 [==============================] - 0s 37ms/step - loss: 0.0737 - f1_m: 0.8456 - precision_m: 0.8986 - recall_m: 0.8016 - auc: 0.9978 - val_loss: 0.1599 - val_f1_m: 0.7059 - val_precision_m: 0.8571 - val_recall_m: 0.6000 - val_auc: 0.9442\n",
      "Epoch 62/100\n",
      "3/3 [==============================] - 0s 37ms/step - loss: 0.0754 - f1_m: 0.9139 - precision_m: 0.9526 - recall_m: 0.8789 - auc: 0.9937 - val_loss: 0.1529 - val_f1_m: 0.6923 - val_precision_m: 0.8182 - val_recall_m: 0.6000 - val_auc: 0.9476\n",
      "Epoch 63/100\n"
     ]
    },
    {
     "name": "stdout",
     "output_type": "stream",
     "text": [
      "3/3 [==============================] - 0s 36ms/step - loss: 0.1050 - f1_m: 0.7692 - precision_m: 0.8395 - recall_m: 0.7114 - auc: 0.9784 - val_loss: 0.1442 - val_f1_m: 0.6923 - val_precision_m: 0.8182 - val_recall_m: 0.6000 - val_auc: 0.9497\n",
      "Epoch 64/100\n",
      "3/3 [==============================] - 0s 37ms/step - loss: 0.0831 - f1_m: 0.8828 - precision_m: 0.9491 - recall_m: 0.8268 - auc: 0.9946 - val_loss: 0.1466 - val_f1_m: 0.6792 - val_precision_m: 0.7826 - val_recall_m: 0.6000 - val_auc: 0.9421\n",
      "Epoch 65/100\n",
      "3/3 [==============================] - 0s 37ms/step - loss: 0.0929 - f1_m: 0.8276 - precision_m: 0.9315 - recall_m: 0.7487 - auc: 0.9882 - val_loss: 0.1566 - val_f1_m: 0.6800 - val_precision_m: 0.8500 - val_recall_m: 0.5667 - val_auc: 0.9346\n",
      "Epoch 66/100\n",
      "3/3 [==============================] - 0s 35ms/step - loss: 0.0678 - f1_m: 0.8935 - precision_m: 0.9197 - recall_m: 0.8698 - auc: 0.9949 - val_loss: 0.1716 - val_f1_m: 0.6667 - val_precision_m: 0.8095 - val_recall_m: 0.5667 - val_auc: 0.9190\n",
      "Epoch 67/100\n",
      "3/3 [==============================] - 0s 38ms/step - loss: 0.0666 - f1_m: 0.8396 - precision_m: 0.8884 - recall_m: 0.8003 - auc: 0.9970 - val_loss: 0.1726 - val_f1_m: 0.6538 - val_precision_m: 0.7727 - val_recall_m: 0.5667 - val_auc: 0.9298\n",
      "Epoch 68/100\n",
      "3/3 [==============================] - 0s 37ms/step - loss: 0.0814 - f1_m: 0.7819 - precision_m: 0.9204 - recall_m: 0.7066 - auc: 0.9952 - val_loss: 0.1622 - val_f1_m: 0.6792 - val_precision_m: 0.7826 - val_recall_m: 0.6000 - val_auc: 0.9300\n",
      "Epoch 69/100\n",
      "3/3 [==============================] - 0s 37ms/step - loss: 0.0839 - f1_m: 0.8725 - precision_m: 0.9792 - recall_m: 0.7895 - auc: 0.9957 - val_loss: 0.1551 - val_f1_m: 0.6923 - val_precision_m: 0.8182 - val_recall_m: 0.6000 - val_auc: 0.9346\n",
      "Epoch 70/100\n",
      "3/3 [==============================] - 0s 37ms/step - loss: 0.0806 - f1_m: 0.8946 - precision_m: 0.9792 - recall_m: 0.8268 - auc: 0.9957 - val_loss: 0.1470 - val_f1_m: 0.7170 - val_precision_m: 0.8261 - val_recall_m: 0.6333 - val_auc: 0.9423\n",
      "Epoch 71/100\n",
      "3/3 [==============================] - 0s 38ms/step - loss: 0.0673 - f1_m: 0.9211 - precision_m: 1.0000 - recall_m: 0.8585 - auc: 0.9992 - val_loss: 0.1449 - val_f1_m: 0.7308 - val_precision_m: 0.8636 - val_recall_m: 0.6333 - val_auc: 0.9461\n",
      "Epoch 72/100\n",
      "3/3 [==============================] - 0s 36ms/step - loss: 0.0716 - f1_m: 0.8656 - precision_m: 0.9418 - recall_m: 0.8051 - auc: 0.9958 - val_loss: 0.1525 - val_f1_m: 0.7200 - val_precision_m: 0.9000 - val_recall_m: 0.6000 - val_auc: 0.9470\n",
      "Epoch 73/100\n",
      "3/3 [==============================] - 0s 36ms/step - loss: 0.0655 - f1_m: 0.9380 - precision_m: 0.9784 - recall_m: 0.9023 - auc: 0.9946 - val_loss: 0.1652 - val_f1_m: 0.7059 - val_precision_m: 0.8571 - val_recall_m: 0.6000 - val_auc: 0.9417\n",
      "Epoch 74/100\n",
      "3/3 [==============================] - 0s 37ms/step - loss: 0.0595 - f1_m: 0.9288 - precision_m: 0.9542 - recall_m: 0.9049 - auc: 0.9972 - val_loss: 0.1744 - val_f1_m: 0.7059 - val_precision_m: 0.8571 - val_recall_m: 0.6000 - val_auc: 0.9257\n",
      "Epoch 75/100\n",
      "3/3 [==============================] - 0s 37ms/step - loss: 0.0577 - f1_m: 0.9240 - precision_m: 0.9532 - recall_m: 0.8971 - auc: 0.9979 - val_loss: 0.1771 - val_f1_m: 0.7170 - val_precision_m: 0.8261 - val_recall_m: 0.6333 - val_auc: 0.9099\n",
      "Epoch 76/100\n",
      "3/3 [==============================] - 0s 36ms/step - loss: 0.0569 - f1_m: 0.9288 - precision_m: 0.9456 - recall_m: 0.9128 - auc: 0.9979 - val_loss: 0.1632 - val_f1_m: 0.6923 - val_precision_m: 0.8182 - val_recall_m: 0.6000 - val_auc: 0.9240\n",
      "Epoch 77/100\n",
      "3/3 [==============================] - 0s 38ms/step - loss: 0.0550 - f1_m: 0.9255 - precision_m: 0.9476 - recall_m: 0.9049 - auc: 0.9985 - val_loss: 0.1565 - val_f1_m: 0.6792 - val_precision_m: 0.7826 - val_recall_m: 0.6000 - val_auc: 0.9276\n",
      "Epoch 78/100\n",
      "3/3 [==============================] - 0s 38ms/step - loss: 0.0627 - f1_m: 0.9400 - precision_m: 0.9899 - recall_m: 0.8958 - auc: 0.9994 - val_loss: 0.1606 - val_f1_m: 0.6923 - val_precision_m: 0.8182 - val_recall_m: 0.6000 - val_auc: 0.9148\n",
      "Epoch 79/100\n",
      "3/3 [==============================] - 0s 36ms/step - loss: 0.0477 - f1_m: 0.9682 - precision_m: 1.0000 - recall_m: 0.9388 - auc: 0.9996 - val_loss: 0.1742 - val_f1_m: 0.7170 - val_precision_m: 0.8261 - val_recall_m: 0.6333 - val_auc: 0.9222\n",
      "Epoch 80/100\n",
      "3/3 [==============================] - 0s 37ms/step - loss: 0.0507 - f1_m: 0.9276 - precision_m: 0.9624 - recall_m: 0.8971 - auc: 0.9974 - val_loss: 0.1909 - val_f1_m: 0.6909 - val_precision_m: 0.7600 - val_recall_m: 0.6333 - val_auc: 0.9198\n",
      "Epoch 81/100\n",
      "3/3 [==============================] - 0s 36ms/step - loss: 0.0480 - f1_m: 0.9812 - precision_m: 0.9903 - recall_m: 0.9727 - auc: 0.9995 - val_loss: 0.1946 - val_f1_m: 0.7170 - val_precision_m: 0.8261 - val_recall_m: 0.6333 - val_auc: 0.9222\n",
      "Epoch 82/100\n",
      "3/3 [==============================] - 0s 36ms/step - loss: 0.0642 - f1_m: 0.8507 - precision_m: 0.8986 - recall_m: 0.8108 - auc: 0.9976 - val_loss: 0.1652 - val_f1_m: 0.7037 - val_precision_m: 0.7917 - val_recall_m: 0.6333 - val_auc: 0.9354\n",
      "Epoch 83/100\n",
      "3/3 [==============================] - 0s 35ms/step - loss: 0.0311 - f1_m: 1.0000 - precision_m: 1.0000 - recall_m: 1.0000 - auc: 1.0000 - val_loss: 0.1404 - val_f1_m: 0.6545 - val_precision_m: 0.7200 - val_recall_m: 0.6000 - val_auc: 0.9550\n",
      "Epoch 84/100\n",
      "3/3 [==============================] - 0s 35ms/step - loss: 0.0407 - f1_m: 0.9806 - precision_m: 1.0000 - recall_m: 0.9635 - auc: 0.9995 - val_loss: 0.1338 - val_f1_m: 0.7037 - val_precision_m: 0.7917 - val_recall_m: 0.6333 - val_auc: 0.9564\n",
      "Epoch 85/100\n",
      "3/3 [==============================] - 0s 37ms/step - loss: 0.0445 - f1_m: 0.9603 - precision_m: 0.9731 - recall_m: 0.9479 - auc: 0.9996 - val_loss: 0.1419 - val_f1_m: 0.6909 - val_precision_m: 0.7600 - val_recall_m: 0.6333 - val_auc: 0.9540\n",
      "Epoch 86/100\n",
      "3/3 [==============================] - 0s 37ms/step - loss: 0.0480 - f1_m: 0.9594 - precision_m: 0.9812 - recall_m: 0.9388 - auc: 0.9988 - val_loss: 0.1620 - val_f1_m: 0.7037 - val_precision_m: 0.7917 - val_recall_m: 0.6333 - val_auc: 0.9372\n",
      "Epoch 87/100\n",
      "3/3 [==============================] - 0s 42ms/step - loss: 0.0364 - f1_m: 0.9687 - precision_m: 0.9831 - recall_m: 0.9557 - auc: 0.9992 - val_loss: 0.1855 - val_f1_m: 0.6786 - val_precision_m: 0.7308 - val_recall_m: 0.6333 - val_auc: 0.9183\n",
      "Epoch 88/100\n",
      "3/3 [==============================] - 0s 37ms/step - loss: 0.0310 - f1_m: 0.9868 - precision_m: 1.0000 - recall_m: 0.9740 - auc: 0.9999 - val_loss: 0.1933 - val_f1_m: 0.6786 - val_precision_m: 0.7308 - val_recall_m: 0.6333 - val_auc: 0.9141\n",
      "Epoch 89/100\n",
      "3/3 [==============================] - 0s 36ms/step - loss: 0.0320 - f1_m: 0.9740 - precision_m: 0.9740 - recall_m: 0.9740 - auc: 0.9997 - val_loss: 0.1840 - val_f1_m: 0.6909 - val_precision_m: 0.7600 - val_recall_m: 0.6333 - val_auc: 0.9269\n",
      "Epoch 90/100\n",
      "3/3 [==============================] - 0s 36ms/step - loss: 0.0235 - f1_m: 0.9954 - precision_m: 1.0000 - recall_m: 0.9909 - auc: 1.0000 - val_loss: 0.1804 - val_f1_m: 0.6667 - val_precision_m: 0.7037 - val_recall_m: 0.6333 - val_auc: 0.9274\n",
      "Epoch 91/100\n",
      "3/3 [==============================] - 0s 37ms/step - loss: 0.0343 - f1_m: 0.9734 - precision_m: 0.9909 - recall_m: 0.9570 - auc: 0.9995 - val_loss: 0.1842 - val_f1_m: 0.6667 - val_precision_m: 0.7037 - val_recall_m: 0.6333 - val_auc: 0.9031\n",
      "Epoch 92/100\n",
      "3/3 [==============================] - 0s 37ms/step - loss: 0.0431 - f1_m: 0.9431 - precision_m: 0.9556 - recall_m: 0.9310 - auc: 0.9982 - val_loss: 0.1914 - val_f1_m: 0.6786 - val_precision_m: 0.7308 - val_recall_m: 0.6333 - val_auc: 0.9013\n",
      "Epoch 93/100\n",
      "3/3 [==============================] - 0s 36ms/step - loss: 0.0321 - f1_m: 0.9661 - precision_m: 0.9661 - recall_m: 0.9661 - auc: 0.9997 - val_loss: 0.1892 - val_f1_m: 0.7037 - val_precision_m: 0.7917 - val_recall_m: 0.6333 - val_auc: 0.9032\n",
      "Epoch 94/100\n",
      "3/3 [==============================] - 0s 39ms/step - loss: 0.0290 - f1_m: 0.9954 - precision_m: 1.0000 - recall_m: 0.9909 - auc: 1.0000 - val_loss: 0.1894 - val_f1_m: 0.6786 - val_precision_m: 0.7308 - val_recall_m: 0.6333 - val_auc: 0.9035\n",
      "Epoch 95/100\n"
     ]
    },
    {
     "name": "stdout",
     "output_type": "stream",
     "text": [
      "3/3 [==============================] - 0s 37ms/step - loss: 0.0385 - f1_m: 0.9615 - precision_m: 0.9661 - recall_m: 0.9570 - auc: 0.9993 - val_loss: 0.1927 - val_f1_m: 0.6786 - val_precision_m: 0.7308 - val_recall_m: 0.6333 - val_auc: 0.9017\n",
      "Epoch 96/100\n",
      "3/3 [==============================] - 0s 37ms/step - loss: 0.0273 - f1_m: 0.9914 - precision_m: 1.0000 - recall_m: 0.9831 - auc: 0.9999 - val_loss: 0.1946 - val_f1_m: 0.6909 - val_precision_m: 0.7600 - val_recall_m: 0.6333 - val_auc: 0.9186\n",
      "Epoch 97/100\n",
      "3/3 [==============================] - 0s 36ms/step - loss: 0.0291 - f1_m: 0.9784 - precision_m: 0.9831 - recall_m: 0.9740 - auc: 0.9997 - val_loss: 0.1953 - val_f1_m: 0.6909 - val_precision_m: 0.7600 - val_recall_m: 0.6333 - val_auc: 0.9216\n",
      "Epoch 98/100\n",
      "3/3 [==============================] - 0s 37ms/step - loss: 0.0283 - f1_m: 0.9909 - precision_m: 0.9909 - recall_m: 0.9909 - auc: 0.9996 - val_loss: 0.1877 - val_f1_m: 0.6667 - val_precision_m: 0.7037 - val_recall_m: 0.6333 - val_auc: 0.9268\n",
      "Epoch 99/100\n",
      "3/3 [==============================] - 0s 36ms/step - loss: 0.0301 - f1_m: 0.9831 - precision_m: 0.9831 - recall_m: 0.9831 - auc: 0.9999 - val_loss: 0.1734 - val_f1_m: 0.6786 - val_precision_m: 0.7308 - val_recall_m: 0.6333 - val_auc: 0.9262\n",
      "Epoch 100/100\n",
      "3/3 [==============================] - 0s 37ms/step - loss: 0.0303 - f1_m: 0.9954 - precision_m: 1.0000 - recall_m: 0.9909 - auc: 1.0000 - val_loss: 0.1707 - val_f1_m: 0.6786 - val_precision_m: 0.7308 - val_recall_m: 0.6333 - val_auc: 0.9146\n"
     ]
    },
    {
     "data": {
      "text/plain": [
       "<tensorflow.python.keras.callbacks.History at 0x7f8b407e2100>"
      ]
     },
     "execution_count": 21,
     "metadata": {},
     "output_type": "execute_result"
    }
   ],
   "source": [
    "Malware_model.fit(X_train, y_train, validation_data=(X_test, y_test), epochs=100,  class_weight=class_weights)"
   ]
  },
  {
   "cell_type": "code",
   "execution_count": 22,
   "id": "4471392c",
   "metadata": {},
   "outputs": [
    {
     "name": "stdout",
     "output_type": "stream",
     "text": [
      "1/1 [==============================] - 0s 20ms/step - loss: 0.1707 - f1_m: 0.6786 - precision_m: 0.7308 - recall_m: 0.6333 - auc: 0.9146\n"
     ]
    }
   ],
   "source": [
    "scores = Malware_model.evaluate(X_test, y_test)"
   ]
  },
  {
   "cell_type": "code",
   "execution_count": 23,
   "id": "af5d617f",
   "metadata": {},
   "outputs": [
    {
     "name": "stdout",
     "output_type": "stream",
     "text": [
      "1/1 [==============================] - 0s 20ms/step - loss: 0.1707 - f1_m: 0.6786 - precision_m: 0.7308 - recall_m: 0.6333 - auc: 0.9146\n"
     ]
    }
   ],
   "source": [
    "loss, accuracy, f1_score, precision, recall = Malware_model.evaluate(X_test, y_test)"
   ]
  },
  {
   "cell_type": "code",
   "execution_count": 24,
   "id": "dbcee16a",
   "metadata": {},
   "outputs": [
    {
     "name": "stdout",
     "output_type": "stream",
     "text": [
      "Final CNN accuracy:  0.6785714030265808\n"
     ]
    }
   ],
   "source": [
    "print('Final CNN accuracy: ', scores[1])"
   ]
  }
 ],
 "metadata": {
  "kernelspec": {
   "display_name": "Python 3 (ipykernel)",
   "language": "python",
   "name": "python3"
  },
  "language_info": {
   "codemirror_mode": {
    "name": "ipython",
    "version": 3
   },
   "file_extension": ".py",
   "mimetype": "text/x-python",
   "name": "python",
   "nbconvert_exporter": "python",
   "pygments_lexer": "ipython3",
   "version": "3.9.16"
  }
 },
 "nbformat": 4,
 "nbformat_minor": 5
}
