{
 "cells": [
  {
   "cell_type": "code",
   "execution_count": 1,
   "id": "e08d24dc",
   "metadata": {},
   "outputs": [],
   "source": [
    "import os\n",
    "os.environ['TF_XLA_FLAGS'] = '--tf_xla_enable_xla_devices'\n",
    "path_root = '/home/dmr/DatasetForExperiments/ransomware/'"
   ]
  },
  {
   "cell_type": "code",
   "execution_count": 2,
   "id": "6a45dad7",
   "metadata": {},
   "outputs": [
    {
     "name": "stderr",
     "output_type": "stream",
     "text": [
      "2023-05-02 17:08:33.386934: I tensorflow/stream_executor/platform/default/dso_loader.cc:49] Successfully opened dynamic library libcudart.so.10.1\n"
     ]
    },
    {
     "name": "stdout",
     "output_type": "stream",
     "text": [
      "Found 101 images belonging to 10 classes.\n"
     ]
    }
   ],
   "source": [
    "from keras.preprocessing.image import ImageDataGenerator\n",
    "batches = ImageDataGenerator().flow_from_directory(directory=path_root, target_size=(64,64), batch_size=10000)"
   ]
  },
  {
   "cell_type": "code",
   "execution_count": 3,
   "id": "728b8be6",
   "metadata": {},
   "outputs": [
    {
     "data": {
      "text/plain": [
       "(101, 10)"
      ]
     },
     "execution_count": 3,
     "metadata": {},
     "output_type": "execute_result"
    }
   ],
   "source": [
    "# Print information about Images \n",
    "imgs, labels = next(batches)\n",
    "imgs.shape # Images with width x length x depth\n",
    "labels.shape # Lablels with batch_size, number of classes"
   ]
  },
  {
   "cell_type": "code",
   "execution_count": 4,
   "id": "57424da2",
   "metadata": {},
   "outputs": [],
   "source": [
    "import numpy as np\n",
    "import scipy as sp\n",
    "from PIL import Image\n",
    "\n",
    "# Train and Test \n",
    "from sklearn.model_selection import train_test_split\n",
    "X_train, X_test, y_train, y_test = train_test_split(imgs/255.,labels, test_size=0.1)"
   ]
  },
  {
   "cell_type": "code",
   "execution_count": 5,
   "id": "3590200f",
   "metadata": {},
   "outputs": [
    {
     "data": {
      "text/plain": [
       "(90, 64, 64, 3)"
      ]
     },
     "execution_count": 5,
     "metadata": {},
     "output_type": "execute_result"
    }
   ],
   "source": [
    "X_train.shape"
   ]
  },
  {
   "cell_type": "code",
   "execution_count": 6,
   "id": "3db9230c",
   "metadata": {},
   "outputs": [
    {
     "data": {
      "text/plain": [
       "(11, 64, 64, 3)"
      ]
     },
     "execution_count": 6,
     "metadata": {},
     "output_type": "execute_result"
    }
   ],
   "source": [
    "X_test.shape"
   ]
  },
  {
   "cell_type": "code",
   "execution_count": 7,
   "id": "2b6ca85a",
   "metadata": {},
   "outputs": [
    {
     "data": {
      "text/plain": [
       "(90, 10)"
      ]
     },
     "execution_count": 7,
     "metadata": {},
     "output_type": "execute_result"
    }
   ],
   "source": [
    "y_train.shape"
   ]
  },
  {
   "cell_type": "code",
   "execution_count": 8,
   "id": "f5f1dec9",
   "metadata": {},
   "outputs": [
    {
     "data": {
      "text/plain": [
       "(11, 10)"
      ]
     },
     "execution_count": 8,
     "metadata": {},
     "output_type": "execute_result"
    }
   ],
   "source": [
    "y_test.shape"
   ]
  },
  {
   "cell_type": "code",
   "execution_count": 9,
   "id": "fde8f125",
   "metadata": {},
   "outputs": [],
   "source": [
    "# CNN Model"
   ]
  },
  {
   "cell_type": "code",
   "execution_count": 10,
   "id": "0f3529a9",
   "metadata": {},
   "outputs": [],
   "source": [
    "import keras\n",
    "import tensorflow\n",
    "from keras.models import Sequential, Input, Model\n",
    "from keras.layers import Dense, Dropout, Flatten\n",
    "from keras.layers import Conv2D, MaxPooling2D\n",
    "from tensorflow.keras.layers import BatchNormalization\n",
    "from tensorflow.keras.metrics import AUC"
   ]
  },
  {
   "cell_type": "code",
   "execution_count": 11,
   "id": "0401eabd",
   "metadata": {},
   "outputs": [],
   "source": [
    "num_classes = 10"
   ]
  },
  {
   "cell_type": "code",
   "execution_count": 12,
   "id": "b3593ed6",
   "metadata": {},
   "outputs": [],
   "source": [
    "def malware_model():\n",
    "    Malware_model = Sequential()\n",
    "    # Convolutional Layer : 30 filters, (3 * 3) kernel size\n",
    "    Malware_model.add(Conv2D(31, kernel_size=(3, 3),\n",
    "                     activation='relu',\n",
    "                     input_shape=(64,64,3)))\n",
    "\n",
    "    # Max Pooling Layer : (2 * 2) pool size\n",
    "    Malware_model.add(MaxPooling2D(pool_size=(2, 2)))\n",
    "    \n",
    "    #Convolutional Layer : 15 filters, (3 * 3) kernel size\n",
    "    Malware_model.add(Conv2D(17, (3, 3), activation='relu'))\n",
    "    \n",
    "    # Max Pooling Layer : (2 * 2) pool size\n",
    "    Malware_model.add(MaxPooling2D(pool_size=(2, 2)))\n",
    "    \n",
    "    # DropOut Layer : Dropping 25% of neurons.\n",
    "    Malware_model.add(Dropout(0.25))\n",
    "    \n",
    "    # Flatten Layer\n",
    "    Malware_model.add(Flatten())\n",
    "    \n",
    "    # Dense/Fully Connected Layer : 128 Neurons, Relu activation function\n",
    "    Malware_model.add(Dense(128, activation='relu'))\n",
    "    \n",
    "   # Malware_model.add(Dense(64, activation='relu'))\n",
    "    \n",
    "    # DropOut Layer : Dropping 50% of neurons.\n",
    "    Malware_model.add(Dropout(0.5))\n",
    "    \n",
    "    # Dense/Fully Connected Layer : 50 Neurons, Softmax activation function\n",
    "    Malware_model.add(Dense(50, activation='relu'))\n",
    "    \n",
    "    # Dense/Fully Connected Layer : num_class Neurons, Softmax activation function\n",
    "    Malware_model.add(Dense(num_classes, activation='softmax'))\n",
    "    \n",
    "    \n",
    "    Malware_model.compile(loss='categorical_crossentropy', optimizer = 'adam', metrics=['accuracy'])\n",
    "    return Malware_model\n",
    "\n",
    "\n",
    "    # sparse_categorical_cross_entropy\n",
    "    # categorical_crossentropy\n",
    "    "
   ]
  },
  {
   "cell_type": "code",
   "execution_count": 13,
   "id": "9a4ebf7d",
   "metadata": {},
   "outputs": [],
   "source": [
    "from keras import backend as K\n",
    "\n",
    "def recall_m(y_test, y_pred):\n",
    "    true_positives = K.sum(K.round(K.clip(y_test * y_pred, 0, 1)))\n",
    "    possible_positives = K.sum(K.round(K.clip(y_test, 0, 1)))\n",
    "    recall = true_positives / (possible_positives + K.epsilon())\n",
    "    return recall\n",
    "\n",
    "def precision_m(y_test, y_pred):\n",
    "    true_positives = K.sum(K.round(K.clip(y_test * y_pred, 0, 1)))\n",
    "    predicted_positives = K.sum(K.round(K.clip(y_pred, 0, 1)))\n",
    "    precision = true_positives / (predicted_positives + K.epsilon())\n",
    "    return precision\n",
    "\n",
    "def f1_m(y_test, y_pred):\n",
    "    precision = precision_m(y_test, y_pred)\n",
    "    recall = recall_m(y_test, y_pred)\n",
    "    return 2*((precision*recall)/(precision+recall+K.epsilon()))"
   ]
  },
  {
   "cell_type": "code",
   "execution_count": 14,
   "id": "c1e2abbc",
   "metadata": {},
   "outputs": [
    {
     "name": "stderr",
     "output_type": "stream",
     "text": [
      "2023-05-02 17:08:35.114442: I tensorflow/stream_executor/platform/default/dso_loader.cc:49] Successfully opened dynamic library libcuda.so.1\n",
      "2023-05-02 17:08:35.373961: E tensorflow/stream_executor/cuda/cuda_driver.cc:328] failed call to cuInit: CUDA_ERROR_NO_DEVICE: no CUDA-capable device is detected\n",
      "2023-05-02 17:08:35.373980: I tensorflow/stream_executor/cuda/cuda_diagnostics.cc:156] kernel driver does not appear to be running on this host (pop-os): /proc/driver/nvidia/version does not exist\n",
      "2023-05-02 17:08:35.374288: I tensorflow/core/platform/cpu_feature_guard.cc:142] This TensorFlow binary is optimized with oneAPI Deep Neural Network Library (oneDNN) to use the following CPU instructions in performance-critical operations:  SSE4.1 SSE4.2 AVX AVX2 FMA\n",
      "To enable them in other operations, rebuild TensorFlow with the appropriate compiler flags.\n",
      "2023-05-02 17:08:35.378409: I tensorflow/core/platform/profile_utils/cpu_utils.cc:112] CPU Frequency: 1999965000 Hz\n",
      "2023-05-02 17:08:35.379137: I tensorflow/compiler/xla/service/service.cc:168] XLA service 0xf72f10 initialized for platform Host (this does not guarantee that XLA will be used). Devices:\n",
      "2023-05-02 17:08:35.379152: I tensorflow/compiler/xla/service/service.cc:176]   StreamExecutor device (0): Host, Default Version\n"
     ]
    }
   ],
   "source": [
    "Malware_model = malware_model()"
   ]
  },
  {
   "cell_type": "code",
   "execution_count": 15,
   "id": "bcb1d474",
   "metadata": {},
   "outputs": [
    {
     "name": "stdout",
     "output_type": "stream",
     "text": [
      "Model: \"sequential\"\n",
      "_________________________________________________________________\n",
      "Layer (type)                 Output Shape              Param #   \n",
      "=================================================================\n",
      "conv2d (Conv2D)              (None, 62, 62, 31)        868       \n",
      "_________________________________________________________________\n",
      "max_pooling2d (MaxPooling2D) (None, 31, 31, 31)        0         \n",
      "_________________________________________________________________\n",
      "conv2d_1 (Conv2D)            (None, 29, 29, 17)        4760      \n",
      "_________________________________________________________________\n",
      "max_pooling2d_1 (MaxPooling2 (None, 14, 14, 17)        0         \n",
      "_________________________________________________________________\n",
      "dropout (Dropout)            (None, 14, 14, 17)        0         \n",
      "_________________________________________________________________\n",
      "flatten (Flatten)            (None, 3332)              0         \n",
      "_________________________________________________________________\n",
      "dense (Dense)                (None, 128)               426624    \n",
      "_________________________________________________________________\n",
      "dropout_1 (Dropout)          (None, 128)               0         \n",
      "_________________________________________________________________\n",
      "dense_1 (Dense)              (None, 50)                6450      \n",
      "_________________________________________________________________\n",
      "dense_2 (Dense)              (None, 10)                510       \n",
      "=================================================================\n",
      "Total params: 439,212\n",
      "Trainable params: 439,212\n",
      "Non-trainable params: 0\n",
      "_________________________________________________________________\n"
     ]
    }
   ],
   "source": [
    "Malware_model.summary()"
   ]
  },
  {
   "cell_type": "code",
   "execution_count": 16,
   "id": "9e8d69b6",
   "metadata": {},
   "outputs": [
    {
     "data": {
      "text/plain": [
       "(90, 10)"
      ]
     },
     "execution_count": 16,
     "metadata": {},
     "output_type": "execute_result"
    }
   ],
   "source": [
    "y_train.shape"
   ]
  },
  {
   "cell_type": "code",
   "execution_count": 17,
   "id": "6711d2f9",
   "metadata": {},
   "outputs": [],
   "source": [
    "y_train_new = np.argmax(y_train, axis=1)"
   ]
  },
  {
   "cell_type": "code",
   "execution_count": 18,
   "id": "838a6a56",
   "metadata": {},
   "outputs": [
    {
     "data": {
      "text/plain": [
       "array([9, 4, 9, 2, 6, 7, 3, 0, 0, 3, 3, 1, 3, 2, 8, 4, 6, 7, 1, 1, 2, 6,\n",
       "       0, 7, 2, 5, 8, 5, 0, 8, 8, 7, 5, 1, 3, 5, 1, 8, 9, 7, 9, 4, 4, 6,\n",
       "       6, 9, 5, 7, 2, 3, 5, 2, 7, 2, 3, 0, 4, 9, 9, 0, 0, 8, 1, 3, 2, 5,\n",
       "       5, 9, 6, 3, 7, 1, 1, 6, 6, 8, 7, 4, 8, 8, 8, 8, 0, 6, 5, 2, 7, 9,\n",
       "       9, 4])"
      ]
     },
     "execution_count": 18,
     "metadata": {},
     "output_type": "execute_result"
    }
   ],
   "source": [
    "y_train_new"
   ]
  },
  {
   "cell_type": "code",
   "execution_count": 19,
   "id": "e5fccc6d",
   "metadata": {},
   "outputs": [],
   "source": [
    "from sklearn.utils import class_weight\n",
    "class_weights = class_weight.compute_class_weight(class_weight = 'balanced',\n",
    "                                                 classes = np.unique(y_train_new),\n",
    "                                                 y = y_train_new)\n",
    "\n",
    "class_weights = {l:c for l,c in zip(np.unique(y_train_new), class_weights)}"
   ]
  },
  {
   "cell_type": "code",
   "execution_count": 20,
   "id": "a62f070a",
   "metadata": {},
   "outputs": [],
   "source": [
    "Malware_model.compile(optimizer='adam', loss='binary_crossentropy', metrics=[f1_m,precision_m, recall_m,AUC()])"
   ]
  },
  {
   "cell_type": "code",
   "execution_count": 21,
   "id": "f8c8523a",
   "metadata": {
    "scrolled": false
   },
   "outputs": [
    {
     "name": "stderr",
     "output_type": "stream",
     "text": [
      "2023-05-02 17:08:35.531782: I tensorflow/compiler/mlir/mlir_graph_optimization_pass.cc:116] None of the MLIR optimization passes are enabled (registered 2)\n"
     ]
    },
    {
     "name": "stdout",
     "output_type": "stream",
     "text": [
      "Epoch 1/100\n",
      "3/3 [==============================] - 1s 267ms/step - loss: 0.6764 - f1_m: 0.0000e+00 - precision_m: 0.0000e+00 - recall_m: 0.0000e+00 - auc: 0.4335 - val_loss: 0.5190 - val_f1_m: 0.0000e+00 - val_precision_m: 0.0000e+00 - val_recall_m: 0.0000e+00 - val_auc: 0.3990\n",
      "Epoch 2/100\n",
      "3/3 [==============================] - 0s 52ms/step - loss: 0.5300 - f1_m: 0.0000e+00 - precision_m: 0.0000e+00 - recall_m: 0.0000e+00 - auc: 0.4844 - val_loss: 0.4339 - val_f1_m: 0.0000e+00 - val_precision_m: 0.0000e+00 - val_recall_m: 0.0000e+00 - val_auc: 0.3719\n",
      "Epoch 3/100\n",
      "3/3 [==============================] - 0s 51ms/step - loss: 0.4618 - f1_m: 0.0301 - precision_m: 0.1354 - recall_m: 0.0169 - auc: 0.4960 - val_loss: 0.3842 - val_f1_m: 0.0000e+00 - val_precision_m: 0.0000e+00 - val_recall_m: 0.0000e+00 - val_auc: 0.4596\n",
      "Epoch 4/100\n",
      "3/3 [==============================] - 0s 53ms/step - loss: 0.4363 - f1_m: 0.0158 - precision_m: 0.0583 - recall_m: 0.0091 - auc: 0.4864 - val_loss: 0.3616 - val_f1_m: 0.0000e+00 - val_precision_m: 0.0000e+00 - val_recall_m: 0.0000e+00 - val_auc: 0.4311\n",
      "Epoch 5/100\n",
      "3/3 [==============================] - 0s 51ms/step - loss: 0.4083 - f1_m: 0.0000e+00 - precision_m: 0.0000e+00 - recall_m: 0.0000e+00 - auc: 0.4726 - val_loss: 0.3596 - val_f1_m: 0.0000e+00 - val_precision_m: 0.0000e+00 - val_recall_m: 0.0000e+00 - val_auc: 0.4421\n",
      "Epoch 6/100\n",
      "3/3 [==============================] - 0s 52ms/step - loss: 0.3629 - f1_m: 0.0115 - precision_m: 0.0556 - recall_m: 0.0064 - auc: 0.5570 - val_loss: 0.3555 - val_f1_m: 0.0000e+00 - val_precision_m: 0.0000e+00 - val_recall_m: 0.0000e+00 - val_auc: 0.3972\n",
      "Epoch 7/100\n",
      "3/3 [==============================] - 0s 52ms/step - loss: 0.3658 - f1_m: 0.0000e+00 - precision_m: 0.0000e+00 - recall_m: 0.0000e+00 - auc: 0.5324 - val_loss: 0.3504 - val_f1_m: 0.0000e+00 - val_precision_m: 0.0000e+00 - val_recall_m: 0.0000e+00 - val_auc: 0.3958\n",
      "Epoch 8/100\n",
      "3/3 [==============================] - 0s 52ms/step - loss: 0.3508 - f1_m: 0.0162 - precision_m: 0.0729 - recall_m: 0.0091 - auc: 0.5869 - val_loss: 0.3438 - val_f1_m: 0.0000e+00 - val_precision_m: 0.0000e+00 - val_recall_m: 0.0000e+00 - val_auc: 0.4504\n",
      "Epoch 9/100\n",
      "3/3 [==============================] - 0s 51ms/step - loss: 0.3606 - f1_m: 0.0000e+00 - precision_m: 0.0000e+00 - recall_m: 0.0000e+00 - auc: 0.5128 - val_loss: 0.3409 - val_f1_m: 0.0000e+00 - val_precision_m: 0.0000e+00 - val_recall_m: 0.0000e+00 - val_auc: 0.4982\n",
      "Epoch 10/100\n",
      "3/3 [==============================] - 0s 52ms/step - loss: 0.3454 - f1_m: 0.0000e+00 - precision_m: 0.0000e+00 - recall_m: 0.0000e+00 - auc: 0.5783 - val_loss: 0.3316 - val_f1_m: 0.0000e+00 - val_precision_m: 0.0000e+00 - val_recall_m: 0.0000e+00 - val_auc: 0.5363\n",
      "Epoch 11/100\n",
      "3/3 [==============================] - 0s 52ms/step - loss: 0.3555 - f1_m: 0.0000e+00 - precision_m: 0.0000e+00 - recall_m: 0.0000e+00 - auc: 0.5186 - val_loss: 0.3240 - val_f1_m: 0.0000e+00 - val_precision_m: 0.0000e+00 - val_recall_m: 0.0000e+00 - val_auc: 0.5712\n",
      "Epoch 12/100\n",
      "3/3 [==============================] - 0s 52ms/step - loss: 0.3468 - f1_m: 0.0000e+00 - precision_m: 0.0000e+00 - recall_m: 0.0000e+00 - auc: 0.5626 - val_loss: 0.3195 - val_f1_m: 0.0000e+00 - val_precision_m: 0.0000e+00 - val_recall_m: 0.0000e+00 - val_auc: 0.5946\n",
      "Epoch 13/100\n",
      "3/3 [==============================] - 0s 52ms/step - loss: 0.3297 - f1_m: 0.0000e+00 - precision_m: 0.0000e+00 - recall_m: 0.0000e+00 - auc: 0.6042 - val_loss: 0.3190 - val_f1_m: 0.0000e+00 - val_precision_m: 0.0000e+00 - val_recall_m: 0.0000e+00 - val_auc: 0.6148\n",
      "Epoch 14/100\n",
      "3/3 [==============================] - 0s 51ms/step - loss: 0.3303 - f1_m: 0.0000e+00 - precision_m: 0.0000e+00 - recall_m: 0.0000e+00 - auc: 0.6475 - val_loss: 0.3145 - val_f1_m: 0.0000e+00 - val_precision_m: 0.0000e+00 - val_recall_m: 0.0000e+00 - val_auc: 0.6644\n",
      "Epoch 15/100\n",
      "3/3 [==============================] - 0s 51ms/step - loss: 0.3292 - f1_m: 0.0000e+00 - precision_m: 0.0000e+00 - recall_m: 0.0000e+00 - auc: 0.6404 - val_loss: 0.3097 - val_f1_m: 0.0000e+00 - val_precision_m: 0.0000e+00 - val_recall_m: 0.0000e+00 - val_auc: 0.7158\n",
      "Epoch 16/100\n",
      "3/3 [==============================] - 0s 51ms/step - loss: 0.3159 - f1_m: 0.0000e+00 - precision_m: 0.0000e+00 - recall_m: 0.0000e+00 - auc: 0.6736 - val_loss: 0.3074 - val_f1_m: 0.0000e+00 - val_precision_m: 0.0000e+00 - val_recall_m: 0.0000e+00 - val_auc: 0.7603\n",
      "Epoch 17/100\n",
      "3/3 [==============================] - 0s 52ms/step - loss: 0.3129 - f1_m: 0.0000e+00 - precision_m: 0.0000e+00 - recall_m: 0.0000e+00 - auc: 0.7046 - val_loss: 0.3005 - val_f1_m: 0.0000e+00 - val_precision_m: 0.0000e+00 - val_recall_m: 0.0000e+00 - val_auc: 0.7736\n",
      "Epoch 18/100\n",
      "3/3 [==============================] - 0s 55ms/step - loss: 0.3075 - f1_m: 0.0000e+00 - precision_m: 0.0000e+00 - recall_m: 0.0000e+00 - auc: 0.7228 - val_loss: 0.2972 - val_f1_m: 0.0000e+00 - val_precision_m: 0.0000e+00 - val_recall_m: 0.0000e+00 - val_auc: 0.7755\n",
      "Epoch 19/100\n",
      "3/3 [==============================] - 0s 52ms/step - loss: 0.2909 - f1_m: 0.0300 - precision_m: 0.4583 - recall_m: 0.0155 - auc: 0.7772 - val_loss: 0.2930 - val_f1_m: 0.0000e+00 - val_precision_m: 0.0000e+00 - val_recall_m: 0.0000e+00 - val_auc: 0.7723\n",
      "Epoch 20/100\n",
      "3/3 [==============================] - 0s 52ms/step - loss: 0.3020 - f1_m: 0.0000e+00 - precision_m: 0.0000e+00 - recall_m: 0.0000e+00 - auc: 0.7408 - val_loss: 0.2911 - val_f1_m: 0.0000e+00 - val_precision_m: 0.0000e+00 - val_recall_m: 0.0000e+00 - val_auc: 0.7961\n",
      "Epoch 21/100\n",
      "3/3 [==============================] - 0s 52ms/step - loss: 0.3006 - f1_m: 0.1218 - precision_m: 1.0000 - recall_m: 0.0649 - auc: 0.7738 - val_loss: 0.2863 - val_f1_m: 0.0000e+00 - val_precision_m: 0.0000e+00 - val_recall_m: 0.0000e+00 - val_auc: 0.7984\n",
      "Epoch 22/100\n",
      "3/3 [==============================] - 0s 53ms/step - loss: 0.2916 - f1_m: 0.0177 - precision_m: 0.2917 - recall_m: 0.0091 - auc: 0.7898 - val_loss: 0.2850 - val_f1_m: 0.0000e+00 - val_precision_m: 0.0000e+00 - val_recall_m: 0.0000e+00 - val_auc: 0.7902\n",
      "Epoch 23/100\n",
      "3/3 [==============================] - 0s 53ms/step - loss: 0.2717 - f1_m: 0.2152 - precision_m: 1.0000 - recall_m: 0.1221 - auc: 0.8429 - val_loss: 0.2820 - val_f1_m: 0.0000e+00 - val_precision_m: 0.0000e+00 - val_recall_m: 0.0000e+00 - val_auc: 0.8039\n",
      "Epoch 24/100\n",
      "3/3 [==============================] - 0s 53ms/step - loss: 0.2827 - f1_m: 0.1880 - precision_m: 0.9583 - recall_m: 0.1052 - auc: 0.7984 - val_loss: 0.2740 - val_f1_m: 0.1667 - val_precision_m: 1.0000 - val_recall_m: 0.0909 - val_auc: 0.8361\n",
      "Epoch 25/100\n",
      "3/3 [==============================] - 0s 53ms/step - loss: 0.2605 - f1_m: 0.2284 - precision_m: 0.9444 - recall_m: 0.1326 - auc: 0.8684 - val_loss: 0.2569 - val_f1_m: 0.3077 - val_precision_m: 1.0000 - val_recall_m: 0.1818 - val_auc: 0.8696\n",
      "Epoch 26/100\n",
      "3/3 [==============================] - 0s 52ms/step - loss: 0.2673 - f1_m: 0.2147 - precision_m: 0.7562 - recall_m: 0.1271 - auc: 0.8367 - val_loss: 0.2505 - val_f1_m: 0.3077 - val_precision_m: 1.0000 - val_recall_m: 0.1818 - val_auc: 0.8912\n",
      "Epoch 27/100\n",
      "3/3 [==============================] - 0s 53ms/step - loss: 0.2417 - f1_m: 0.2342 - precision_m: 1.0000 - recall_m: 0.1348 - auc: 0.9139 - val_loss: 0.2422 - val_f1_m: 0.3077 - val_precision_m: 1.0000 - val_recall_m: 0.1818 - val_auc: 0.9027\n",
      "Epoch 28/100\n",
      "3/3 [==============================] - 0s 58ms/step - loss: 0.2467 - f1_m: 0.2572 - precision_m: 0.7257 - recall_m: 0.1573 - auc: 0.8647 - val_loss: 0.2367 - val_f1_m: 0.3077 - val_precision_m: 1.0000 - val_recall_m: 0.1818 - val_auc: 0.9059\n",
      "Epoch 29/100\n",
      "3/3 [==============================] - 0s 59ms/step - loss: 0.2417 - f1_m: 0.3106 - precision_m: 0.8472 - recall_m: 0.1923 - auc: 0.9004 - val_loss: 0.2393 - val_f1_m: 0.3077 - val_precision_m: 1.0000 - val_recall_m: 0.1818 - val_auc: 0.8926\n",
      "Epoch 30/100\n",
      "3/3 [==============================] - 0s 57ms/step - loss: 0.2353 - f1_m: 0.3509 - precision_m: 0.8194 - recall_m: 0.2235 - auc: 0.9017 - val_loss: 0.2309 - val_f1_m: 0.3077 - val_precision_m: 1.0000 - val_recall_m: 0.1818 - val_auc: 0.8848\n",
      "Epoch 31/100\n"
     ]
    },
    {
     "name": "stdout",
     "output_type": "stream",
     "text": [
      "3/3 [==============================] - 0s 57ms/step - loss: 0.2154 - f1_m: 0.5034 - precision_m: 0.8555 - recall_m: 0.3600 - auc: 0.9196 - val_loss: 0.2259 - val_f1_m: 0.3077 - val_precision_m: 1.0000 - val_recall_m: 0.1818 - val_auc: 0.8843\n",
      "Epoch 32/100\n",
      "3/3 [==============================] - 0s 57ms/step - loss: 0.2230 - f1_m: 0.4242 - precision_m: 0.8125 - recall_m: 0.2881 - auc: 0.9013 - val_loss: 0.2209 - val_f1_m: 0.3077 - val_precision_m: 1.0000 - val_recall_m: 0.1818 - val_auc: 0.8792\n",
      "Epoch 33/100\n",
      "3/3 [==============================] - 0s 61ms/step - loss: 0.2006 - f1_m: 0.4871 - precision_m: 0.8702 - recall_m: 0.3391 - auc: 0.9535 - val_loss: 0.2239 - val_f1_m: 0.3077 - val_precision_m: 1.0000 - val_recall_m: 0.1818 - val_auc: 0.8921\n",
      "Epoch 34/100\n",
      "3/3 [==============================] - 0s 58ms/step - loss: 0.1956 - f1_m: 0.5756 - precision_m: 0.8677 - recall_m: 0.4314 - auc: 0.9426 - val_loss: 0.2138 - val_f1_m: 0.3077 - val_precision_m: 1.0000 - val_recall_m: 0.1818 - val_auc: 0.9096\n",
      "Epoch 35/100\n",
      "3/3 [==============================] - 0s 60ms/step - loss: 0.1953 - f1_m: 0.5276 - precision_m: 0.8472 - recall_m: 0.3853 - auc: 0.9364 - val_loss: 0.2019 - val_f1_m: 0.4286 - val_precision_m: 1.0000 - val_recall_m: 0.2727 - val_auc: 0.9132\n",
      "Epoch 36/100\n",
      "3/3 [==============================] - 0s 58ms/step - loss: 0.1867 - f1_m: 0.5269 - precision_m: 0.8293 - recall_m: 0.3936 - auc: 0.9559 - val_loss: 0.2008 - val_f1_m: 0.5000 - val_precision_m: 0.8000 - val_recall_m: 0.3636 - val_auc: 0.8871\n",
      "Epoch 37/100\n",
      "3/3 [==============================] - 0s 57ms/step - loss: 0.1784 - f1_m: 0.6191 - precision_m: 0.8220 - recall_m: 0.5042 - auc: 0.9559 - val_loss: 0.2107 - val_f1_m: 0.5000 - val_precision_m: 0.8000 - val_recall_m: 0.3636 - val_auc: 0.8747\n",
      "Epoch 38/100\n",
      "3/3 [==============================] - 0s 50ms/step - loss: 0.1567 - f1_m: 0.6736 - precision_m: 0.8798 - recall_m: 0.5467 - auc: 0.9760 - val_loss: 0.2150 - val_f1_m: 0.5882 - val_precision_m: 0.8333 - val_recall_m: 0.4545 - val_auc: 0.8636\n",
      "Epoch 39/100\n",
      "3/3 [==============================] - 0s 58ms/step - loss: 0.1679 - f1_m: 0.6906 - precision_m: 0.8959 - recall_m: 0.5648 - auc: 0.9576 - val_loss: 0.2049 - val_f1_m: 0.6667 - val_precision_m: 0.8571 - val_recall_m: 0.5455 - val_auc: 0.8834\n",
      "Epoch 40/100\n",
      "3/3 [==============================] - 0s 60ms/step - loss: 0.1498 - f1_m: 0.7279 - precision_m: 0.9043 - recall_m: 0.6106 - auc: 0.9723 - val_loss: 0.1993 - val_f1_m: 0.7000 - val_precision_m: 0.7778 - val_recall_m: 0.6364 - val_auc: 0.8889\n",
      "Epoch 41/100\n",
      "3/3 [==============================] - 0s 58ms/step - loss: 0.1411 - f1_m: 0.7426 - precision_m: 0.8587 - recall_m: 0.6561 - auc: 0.9788 - val_loss: 0.2071 - val_f1_m: 0.6667 - val_precision_m: 0.8571 - val_recall_m: 0.5455 - val_auc: 0.8788\n",
      "Epoch 42/100\n",
      "3/3 [==============================] - 0s 53ms/step - loss: 0.1307 - f1_m: 0.7532 - precision_m: 0.8628 - recall_m: 0.6770 - auc: 0.9800 - val_loss: 0.2049 - val_f1_m: 0.6667 - val_precision_m: 0.8571 - val_recall_m: 0.5455 - val_auc: 0.8848\n",
      "Epoch 43/100\n",
      "3/3 [==============================] - 0s 53ms/step - loss: 0.1425 - f1_m: 0.7730 - precision_m: 0.9324 - recall_m: 0.6613 - auc: 0.9772 - val_loss: 0.1939 - val_f1_m: 0.5882 - val_precision_m: 0.8333 - val_recall_m: 0.4545 - val_auc: 0.9100\n",
      "Epoch 44/100\n",
      "3/3 [==============================] - 0s 51ms/step - loss: 0.1189 - f1_m: 0.8387 - precision_m: 0.9558 - recall_m: 0.7482 - auc: 0.9906 - val_loss: 0.1843 - val_f1_m: 0.7368 - val_precision_m: 0.8750 - val_recall_m: 0.6364 - val_auc: 0.9128\n",
      "Epoch 45/100\n",
      "3/3 [==============================] - 0s 52ms/step - loss: 0.1215 - f1_m: 0.8393 - precision_m: 0.9241 - recall_m: 0.7691 - auc: 0.9849 - val_loss: 0.1799 - val_f1_m: 0.7368 - val_precision_m: 0.8750 - val_recall_m: 0.6364 - val_auc: 0.9178\n",
      "Epoch 46/100\n",
      "3/3 [==============================] - 0s 53ms/step - loss: 0.0993 - f1_m: 0.8915 - precision_m: 0.9620 - recall_m: 0.8341 - auc: 0.9932 - val_loss: 0.1955 - val_f1_m: 0.8000 - val_precision_m: 0.8889 - val_recall_m: 0.7273 - val_auc: 0.8742\n",
      "Epoch 47/100\n",
      "3/3 [==============================] - 0s 52ms/step - loss: 0.1021 - f1_m: 0.8985 - precision_m: 0.9522 - recall_m: 0.8506 - auc: 0.9916 - val_loss: 0.2185 - val_f1_m: 0.7000 - val_precision_m: 0.7778 - val_recall_m: 0.6364 - val_auc: 0.8517\n",
      "Epoch 48/100\n",
      "3/3 [==============================] - 0s 54ms/step - loss: 0.0954 - f1_m: 0.8594 - precision_m: 0.9126 - recall_m: 0.8155 - auc: 0.9928 - val_loss: 0.2174 - val_f1_m: 0.6667 - val_precision_m: 0.7000 - val_recall_m: 0.6364 - val_auc: 0.8352\n",
      "Epoch 49/100\n",
      "3/3 [==============================] - 0s 52ms/step - loss: 0.1055 - f1_m: 0.8334 - precision_m: 0.8748 - recall_m: 0.7962 - auc: 0.9876 - val_loss: 0.1972 - val_f1_m: 0.7368 - val_precision_m: 0.8750 - val_recall_m: 0.6364 - val_auc: 0.9013\n",
      "Epoch 50/100\n",
      "3/3 [==============================] - 0s 53ms/step - loss: 0.0955 - f1_m: 0.8429 - precision_m: 0.9345 - recall_m: 0.7677 - auc: 0.9915 - val_loss: 0.1910 - val_f1_m: 0.7778 - val_precision_m: 1.0000 - val_recall_m: 0.6364 - val_auc: 0.9128\n",
      "Epoch 51/100\n",
      "3/3 [==============================] - 0s 53ms/step - loss: 0.1048 - f1_m: 0.8033 - precision_m: 0.8789 - recall_m: 0.7400 - auc: 0.9892 - val_loss: 0.1846 - val_f1_m: 0.8000 - val_precision_m: 0.8889 - val_recall_m: 0.7273 - val_auc: 0.9164\n",
      "Epoch 52/100\n",
      "3/3 [==============================] - 0s 52ms/step - loss: 0.0762 - f1_m: 0.9286 - precision_m: 0.9861 - recall_m: 0.8780 - auc: 0.9975 - val_loss: 0.2032 - val_f1_m: 0.8000 - val_precision_m: 0.8889 - val_recall_m: 0.7273 - val_auc: 0.9040\n",
      "Epoch 53/100\n",
      "3/3 [==============================] - 0s 53ms/step - loss: 0.0830 - f1_m: 0.8702 - precision_m: 0.9098 - recall_m: 0.8349 - auc: 0.9951 - val_loss: 0.2004 - val_f1_m: 0.7000 - val_precision_m: 0.7778 - val_recall_m: 0.6364 - val_auc: 0.8829\n",
      "Epoch 54/100\n",
      "3/3 [==============================] - 0s 52ms/step - loss: 0.0892 - f1_m: 0.8652 - precision_m: 0.9465 - recall_m: 0.7985 - auc: 0.9907 - val_loss: 0.1988 - val_f1_m: 0.6000 - val_precision_m: 0.6667 - val_recall_m: 0.5455 - val_auc: 0.9109\n",
      "Epoch 55/100\n",
      "3/3 [==============================] - 0s 52ms/step - loss: 0.0684 - f1_m: 0.9278 - precision_m: 0.9719 - recall_m: 0.8884 - auc: 0.9980 - val_loss: 0.1956 - val_f1_m: 0.6000 - val_precision_m: 0.6667 - val_recall_m: 0.5455 - val_auc: 0.9082\n",
      "Epoch 56/100\n",
      "3/3 [==============================] - 0s 52ms/step - loss: 0.0925 - f1_m: 0.8284 - precision_m: 0.8938 - recall_m: 0.7741 - auc: 0.9923 - val_loss: 0.1876 - val_f1_m: 0.7368 - val_precision_m: 0.8750 - val_recall_m: 0.6364 - val_auc: 0.9169\n",
      "Epoch 57/100\n",
      "3/3 [==============================] - 0s 52ms/step - loss: 0.0550 - f1_m: 0.9460 - precision_m: 0.9742 - recall_m: 0.9196 - auc: 0.9992 - val_loss: 0.2008 - val_f1_m: 0.7619 - val_precision_m: 0.8000 - val_recall_m: 0.7273 - val_auc: 0.8889\n",
      "Epoch 58/100\n",
      "3/3 [==============================] - 0s 53ms/step - loss: 0.0751 - f1_m: 0.9180 - precision_m: 0.9480 - recall_m: 0.8908 - auc: 0.9961 - val_loss: 0.2072 - val_f1_m: 0.7619 - val_precision_m: 0.8000 - val_recall_m: 0.7273 - val_auc: 0.8623\n",
      "Epoch 59/100\n",
      "3/3 [==============================] - 0s 53ms/step - loss: 0.0648 - f1_m: 0.9204 - precision_m: 0.9751 - recall_m: 0.8716 - auc: 0.9976 - val_loss: 0.2128 - val_f1_m: 0.7619 - val_precision_m: 0.8000 - val_recall_m: 0.7273 - val_auc: 0.8604\n",
      "Epoch 60/100\n",
      "3/3 [==============================] - 0s 54ms/step - loss: 0.0690 - f1_m: 0.9083 - precision_m: 0.9201 - recall_m: 0.8972 - auc: 0.9961 - val_loss: 0.2116 - val_f1_m: 0.7368 - val_precision_m: 0.8750 - val_recall_m: 0.6364 - val_auc: 0.8797\n",
      "Epoch 61/100\n",
      "3/3 [==============================] - 0s 52ms/step - loss: 0.0467 - f1_m: 0.9407 - precision_m: 0.9812 - recall_m: 0.9049 - auc: 0.9987 - val_loss: 0.2308 - val_f1_m: 0.7059 - val_precision_m: 1.0000 - val_recall_m: 0.5455 - val_auc: 0.8861\n",
      "Epoch 62/100\n",
      "3/3 [==============================] - 0s 54ms/step - loss: 0.0484 - f1_m: 0.9566 - precision_m: 0.9825 - recall_m: 0.9324 - auc: 0.9994 - val_loss: 0.2126 - val_f1_m: 0.7368 - val_precision_m: 0.8750 - val_recall_m: 0.6364 - val_auc: 0.9027\n",
      "Epoch 63/100\n"
     ]
    },
    {
     "name": "stdout",
     "output_type": "stream",
     "text": [
      "3/3 [==============================] - 0s 54ms/step - loss: 0.0513 - f1_m: 0.9349 - precision_m: 0.9497 - recall_m: 0.9210 - auc: 0.9982 - val_loss: 0.1997 - val_f1_m: 0.7619 - val_precision_m: 0.8000 - val_recall_m: 0.7273 - val_auc: 0.8714\n",
      "Epoch 64/100\n",
      "3/3 [==============================] - 0s 54ms/step - loss: 0.0461 - f1_m: 0.9726 - precision_m: 0.9903 - recall_m: 0.9557 - auc: 0.9994 - val_loss: 0.1928 - val_f1_m: 0.7619 - val_precision_m: 0.8000 - val_recall_m: 0.7273 - val_auc: 0.8806\n",
      "Epoch 65/100\n",
      "3/3 [==============================] - 0s 53ms/step - loss: 0.0565 - f1_m: 0.9321 - precision_m: 0.9583 - recall_m: 0.9081 - auc: 0.9983 - val_loss: 0.2096 - val_f1_m: 0.7273 - val_precision_m: 0.7273 - val_recall_m: 0.7273 - val_auc: 0.8737\n",
      "Epoch 66/100\n",
      "3/3 [==============================] - 0s 52ms/step - loss: 0.0642 - f1_m: 0.9431 - precision_m: 0.9556 - recall_m: 0.9310 - auc: 0.9950 - val_loss: 0.2132 - val_f1_m: 0.7273 - val_precision_m: 0.7273 - val_recall_m: 0.7273 - val_auc: 0.8572\n",
      "Epoch 67/100\n",
      "3/3 [==============================] - 0s 53ms/step - loss: 0.0386 - f1_m: 0.9561 - precision_m: 0.9812 - recall_m: 0.9324 - auc: 0.9992 - val_loss: 0.2240 - val_f1_m: 0.7619 - val_precision_m: 0.8000 - val_recall_m: 0.7273 - val_auc: 0.8815\n",
      "Epoch 68/100\n",
      "3/3 [==============================] - 0s 53ms/step - loss: 0.0530 - f1_m: 0.9501 - precision_m: 0.9576 - recall_m: 0.9429 - auc: 0.9985 - val_loss: 0.2247 - val_f1_m: 0.6667 - val_precision_m: 0.8571 - val_recall_m: 0.5455 - val_auc: 0.8866\n",
      "Epoch 69/100\n",
      "3/3 [==============================] - 0s 54ms/step - loss: 0.0347 - f1_m: 0.9831 - precision_m: 0.9831 - recall_m: 0.9831 - auc: 0.9999 - val_loss: 0.2251 - val_f1_m: 0.7778 - val_precision_m: 1.0000 - val_recall_m: 0.6364 - val_auc: 0.8705\n",
      "Epoch 70/100\n",
      "3/3 [==============================] - 0s 55ms/step - loss: 0.0417 - f1_m: 0.9618 - precision_m: 0.9734 - recall_m: 0.9506 - auc: 0.9992 - val_loss: 0.2179 - val_f1_m: 0.8000 - val_precision_m: 0.8889 - val_recall_m: 0.7273 - val_auc: 0.9082\n",
      "Epoch 71/100\n",
      "3/3 [==============================] - 0s 54ms/step - loss: 0.0453 - f1_m: 0.9396 - precision_m: 0.9510 - recall_m: 0.9287 - auc: 0.9991 - val_loss: 0.2036 - val_f1_m: 0.7619 - val_precision_m: 0.8000 - val_recall_m: 0.7273 - val_auc: 0.8724\n",
      "Epoch 72/100\n",
      "3/3 [==============================] - 0s 52ms/step - loss: 0.0294 - f1_m: 0.9614 - precision_m: 0.9697 - recall_m: 0.9533 - auc: 0.9995 - val_loss: 0.2136 - val_f1_m: 0.7273 - val_precision_m: 0.7273 - val_recall_m: 0.7273 - val_auc: 0.8710\n",
      "Epoch 73/100\n",
      "3/3 [==============================] - 0s 52ms/step - loss: 0.0260 - f1_m: 0.9845 - precision_m: 0.9845 - recall_m: 0.9845 - auc: 0.9999 - val_loss: 0.2373 - val_f1_m: 0.7273 - val_precision_m: 0.7273 - val_recall_m: 0.7273 - val_auc: 0.8664\n",
      "Epoch 74/100\n",
      "3/3 [==============================] - 0s 52ms/step - loss: 0.0297 - f1_m: 0.9763 - precision_m: 0.9839 - recall_m: 0.9690 - auc: 0.9998 - val_loss: 0.2685 - val_f1_m: 0.7619 - val_precision_m: 0.8000 - val_recall_m: 0.7273 - val_auc: 0.8664\n",
      "Epoch 75/100\n",
      "3/3 [==============================] - 0s 52ms/step - loss: 0.0330 - f1_m: 0.9560 - precision_m: 0.9643 - recall_m: 0.9479 - auc: 0.9994 - val_loss: 0.2666 - val_f1_m: 0.7000 - val_precision_m: 0.7778 - val_recall_m: 0.6364 - val_auc: 0.8705\n",
      "Epoch 76/100\n",
      "3/3 [==============================] - 0s 53ms/step - loss: 0.0352 - f1_m: 0.9661 - precision_m: 0.9661 - recall_m: 0.9661 - auc: 0.9995 - val_loss: 0.2083 - val_f1_m: 0.7619 - val_precision_m: 0.8000 - val_recall_m: 0.7273 - val_auc: 0.8742\n",
      "Epoch 77/100\n",
      "3/3 [==============================] - 0s 50ms/step - loss: 0.0377 - f1_m: 0.9673 - precision_m: 0.9767 - recall_m: 0.9584 - auc: 0.9991 - val_loss: 0.1935 - val_f1_m: 0.7619 - val_precision_m: 0.8000 - val_recall_m: 0.7273 - val_auc: 0.8811\n",
      "Epoch 78/100\n",
      "3/3 [==============================] - 0s 51ms/step - loss: 0.0348 - f1_m: 0.9786 - precision_m: 0.9872 - recall_m: 0.9703 - auc: 0.9995 - val_loss: 0.2103 - val_f1_m: 0.7619 - val_precision_m: 0.8000 - val_recall_m: 0.7273 - val_auc: 0.8733\n",
      "Epoch 79/100\n",
      "3/3 [==============================] - 0s 52ms/step - loss: 0.0248 - f1_m: 0.9873 - precision_m: 1.0000 - recall_m: 0.9754 - auc: 0.9999 - val_loss: 0.2331 - val_f1_m: 0.7619 - val_precision_m: 0.8000 - val_recall_m: 0.7273 - val_auc: 0.8673\n",
      "Epoch 80/100\n",
      "3/3 [==============================] - 0s 53ms/step - loss: 0.0382 - f1_m: 0.9469 - precision_m: 0.9552 - recall_m: 0.9388 - auc: 0.9987 - val_loss: 0.2413 - val_f1_m: 0.7619 - val_precision_m: 0.8000 - val_recall_m: 0.7273 - val_auc: 0.8641\n",
      "Epoch 81/100\n",
      "3/3 [==============================] - 0s 51ms/step - loss: 0.0201 - f1_m: 1.0000 - precision_m: 1.0000 - recall_m: 1.0000 - auc: 1.0000 - val_loss: 0.2365 - val_f1_m: 0.7619 - val_precision_m: 0.8000 - val_recall_m: 0.7273 - val_auc: 0.8673\n",
      "Epoch 82/100\n",
      "3/3 [==============================] - 0s 51ms/step - loss: 0.0180 - f1_m: 0.9954 - precision_m: 1.0000 - recall_m: 0.9909 - auc: 1.0000 - val_loss: 0.2288 - val_f1_m: 0.7273 - val_precision_m: 0.7273 - val_recall_m: 0.7273 - val_auc: 0.8705\n",
      "Epoch 83/100\n",
      "3/3 [==============================] - 0s 53ms/step - loss: 0.0289 - f1_m: 0.9734 - precision_m: 0.9909 - recall_m: 0.9570 - auc: 0.9998 - val_loss: 0.2311 - val_f1_m: 0.7273 - val_precision_m: 0.7273 - val_recall_m: 0.7273 - val_auc: 0.8806\n",
      "Epoch 84/100\n",
      "3/3 [==============================] - 0s 51ms/step - loss: 0.0260 - f1_m: 0.9825 - precision_m: 0.9872 - recall_m: 0.9781 - auc: 0.9999 - val_loss: 0.2327 - val_f1_m: 0.7273 - val_precision_m: 0.7273 - val_recall_m: 0.7273 - val_auc: 0.8843\n",
      "Epoch 85/100\n",
      "3/3 [==============================] - 0s 51ms/step - loss: 0.0368 - f1_m: 0.9479 - precision_m: 0.9479 - recall_m: 0.9479 - auc: 0.9983 - val_loss: 0.2161 - val_f1_m: 0.7273 - val_precision_m: 0.7273 - val_recall_m: 0.7273 - val_auc: 0.8792\n",
      "Epoch 86/100\n",
      "3/3 [==============================] - 0s 52ms/step - loss: 0.0140 - f1_m: 1.0000 - precision_m: 1.0000 - recall_m: 1.0000 - auc: 1.0000 - val_loss: 0.2089 - val_f1_m: 0.6667 - val_precision_m: 0.7000 - val_recall_m: 0.6364 - val_auc: 0.8724\n",
      "Epoch 87/100\n",
      "3/3 [==============================] - 0s 54ms/step - loss: 0.0451 - f1_m: 0.9441 - precision_m: 0.9564 - recall_m: 0.9324 - auc: 0.9936 - val_loss: 0.2196 - val_f1_m: 0.6667 - val_precision_m: 0.7000 - val_recall_m: 0.6364 - val_auc: 0.8691\n",
      "Epoch 88/100\n",
      "3/3 [==============================] - 0s 52ms/step - loss: 0.0145 - f1_m: 1.0000 - precision_m: 1.0000 - recall_m: 1.0000 - auc: 1.0000 - val_loss: 0.2328 - val_f1_m: 0.6667 - val_precision_m: 0.7000 - val_recall_m: 0.6364 - val_auc: 0.8659\n",
      "Epoch 89/100\n",
      "3/3 [==============================] - 0s 52ms/step - loss: 0.0307 - f1_m: 0.9662 - precision_m: 0.9662 - recall_m: 0.9662 - auc: 0.9990 - val_loss: 0.2412 - val_f1_m: 0.7273 - val_precision_m: 0.7273 - val_recall_m: 0.7273 - val_auc: 0.8701\n",
      "Epoch 90/100\n",
      "3/3 [==============================] - 0s 51ms/step - loss: 0.0267 - f1_m: 0.9692 - precision_m: 0.9737 - recall_m: 0.9648 - auc: 0.9998 - val_loss: 0.2494 - val_f1_m: 0.7273 - val_precision_m: 0.7273 - val_recall_m: 0.7273 - val_auc: 0.8613\n",
      "Epoch 91/100\n",
      "3/3 [==============================] - 0s 53ms/step - loss: 0.0189 - f1_m: 0.9823 - precision_m: 0.9909 - recall_m: 0.9740 - auc: 0.9998 - val_loss: 0.2485 - val_f1_m: 0.7273 - val_precision_m: 0.7273 - val_recall_m: 0.7273 - val_auc: 0.8324\n",
      "Epoch 92/100\n",
      "3/3 [==============================] - 0s 52ms/step - loss: 0.0285 - f1_m: 0.9618 - precision_m: 0.9819 - recall_m: 0.9428 - auc: 0.9997 - val_loss: 0.2378 - val_f1_m: 0.7273 - val_precision_m: 0.7273 - val_recall_m: 0.7273 - val_auc: 0.8691\n",
      "Epoch 93/100\n",
      "3/3 [==============================] - 0s 53ms/step - loss: 0.0190 - f1_m: 0.9831 - precision_m: 0.9831 - recall_m: 0.9831 - auc: 1.0000 - val_loss: 0.2472 - val_f1_m: 0.7273 - val_precision_m: 0.7273 - val_recall_m: 0.7273 - val_auc: 0.8719\n",
      "Epoch 94/100\n",
      "3/3 [==============================] - 0s 52ms/step - loss: 0.0190 - f1_m: 0.9909 - precision_m: 0.9909 - recall_m: 0.9909 - auc: 1.0000 - val_loss: 0.2767 - val_f1_m: 0.7619 - val_precision_m: 0.8000 - val_recall_m: 0.7273 - val_auc: 0.8751\n",
      "Epoch 95/100\n"
     ]
    },
    {
     "name": "stdout",
     "output_type": "stream",
     "text": [
      "3/3 [==============================] - 0s 52ms/step - loss: 0.0250 - f1_m: 0.9523 - precision_m: 0.9567 - recall_m: 0.9479 - auc: 0.9996 - val_loss: 0.3121 - val_f1_m: 0.7619 - val_precision_m: 0.8000 - val_recall_m: 0.7273 - val_auc: 0.8747\n",
      "Epoch 96/100\n",
      "3/3 [==============================] - 0s 51ms/step - loss: 0.0314 - f1_m: 0.9661 - precision_m: 0.9661 - recall_m: 0.9661 - auc: 0.9998 - val_loss: 0.3232 - val_f1_m: 0.7619 - val_precision_m: 0.8000 - val_recall_m: 0.7273 - val_auc: 0.8365\n",
      "Epoch 97/100\n",
      "3/3 [==============================] - 0s 51ms/step - loss: 0.0178 - f1_m: 0.9785 - precision_m: 0.9818 - recall_m: 0.9754 - auc: 0.9999 - val_loss: 0.2985 - val_f1_m: 0.7619 - val_precision_m: 0.8000 - val_recall_m: 0.7273 - val_auc: 0.8333\n",
      "Epoch 98/100\n",
      "3/3 [==============================] - 0s 56ms/step - loss: 0.0250 - f1_m: 1.0000 - precision_m: 1.0000 - recall_m: 1.0000 - auc: 1.0000 - val_loss: 0.2615 - val_f1_m: 0.7273 - val_precision_m: 0.7273 - val_recall_m: 0.7273 - val_auc: 0.8356\n",
      "Epoch 99/100\n",
      "3/3 [==============================] - 0s 58ms/step - loss: 0.0205 - f1_m: 0.9954 - precision_m: 1.0000 - recall_m: 0.9909 - auc: 0.9999 - val_loss: 0.2471 - val_f1_m: 0.7273 - val_precision_m: 0.7273 - val_recall_m: 0.7273 - val_auc: 0.8333\n",
      "Epoch 100/100\n",
      "3/3 [==============================] - 0s 60ms/step - loss: 0.0225 - f1_m: 0.9711 - precision_m: 0.9842 - recall_m: 0.9584 - auc: 0.9998 - val_loss: 0.2398 - val_f1_m: 0.7619 - val_precision_m: 0.8000 - val_recall_m: 0.7273 - val_auc: 0.8701\n"
     ]
    },
    {
     "data": {
      "text/plain": [
       "<tensorflow.python.keras.callbacks.History at 0x7fe5244de160>"
      ]
     },
     "execution_count": 21,
     "metadata": {},
     "output_type": "execute_result"
    }
   ],
   "source": [
    "Malware_model.fit(X_train, y_train, validation_data=(X_test, y_test), epochs=100,  class_weight=class_weights)"
   ]
  },
  {
   "cell_type": "code",
   "execution_count": 22,
   "id": "4471392c",
   "metadata": {},
   "outputs": [
    {
     "name": "stdout",
     "output_type": "stream",
     "text": [
      "1/1 [==============================] - 0s 20ms/step - loss: 0.2398 - f1_m: 0.7619 - precision_m: 0.8000 - recall_m: 0.7273 - auc: 0.8701\n"
     ]
    }
   ],
   "source": [
    "scores = Malware_model.evaluate(X_test, y_test)"
   ]
  },
  {
   "cell_type": "code",
   "execution_count": 23,
   "id": "af5d617f",
   "metadata": {},
   "outputs": [
    {
     "name": "stdout",
     "output_type": "stream",
     "text": [
      "1/1 [==============================] - 0s 20ms/step - loss: 0.2398 - f1_m: 0.7619 - precision_m: 0.8000 - recall_m: 0.7273 - auc: 0.8701\n"
     ]
    }
   ],
   "source": [
    "loss, accuracy, f1_score, precision, recall = Malware_model.evaluate(X_test, y_test)"
   ]
  },
  {
   "cell_type": "code",
   "execution_count": 24,
   "id": "dbcee16a",
   "metadata": {},
   "outputs": [
    {
     "name": "stdout",
     "output_type": "stream",
     "text": [
      "Final CNN accuracy:  0.7619047164916992\n"
     ]
    }
   ],
   "source": [
    "print('Final CNN accuracy: ', scores[1])"
   ]
  }
 ],
 "metadata": {
  "kernelspec": {
   "display_name": "Python 3 (ipykernel)",
   "language": "python",
   "name": "python3"
  },
  "language_info": {
   "codemirror_mode": {
    "name": "ipython",
    "version": 3
   },
   "file_extension": ".py",
   "mimetype": "text/x-python",
   "name": "python",
   "nbconvert_exporter": "python",
   "pygments_lexer": "ipython3",
   "version": "3.9.16"
  }
 },
 "nbformat": 4,
 "nbformat_minor": 5
}
