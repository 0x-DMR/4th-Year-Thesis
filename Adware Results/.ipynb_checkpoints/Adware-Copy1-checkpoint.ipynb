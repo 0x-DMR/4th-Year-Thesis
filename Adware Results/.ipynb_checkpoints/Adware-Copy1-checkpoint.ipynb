{
 "cells": [
  {
   "cell_type": "code",
   "execution_count": 1,
   "id": "e1c748fb",
   "metadata": {},
   "outputs": [
    {
     "name": "stderr",
     "output_type": "stream",
     "text": [
      "2023-05-05 17:12:46.676254: I tensorflow/stream_executor/platform/default/dso_loader.cc:49] Successfully opened dynamic library libcudart.so.10.1\n"
     ]
    },
    {
     "name": "stdout",
     "output_type": "stream",
     "text": [
      "Found 107 images belonging to 10 classes.\n",
      "Number of Images and Size of Images:  (107, 64, 64, 3)\n",
      "Number of Images and Families:  (107, 10)\n"
     ]
    }
   ],
   "source": [
    "# The following section is used to generate information about the datasets so these \n",
    "# variables can be initialised in the CNN Model. The information gathered here will\n",
    "# also be used to determine an appropiate size of the training and testing datasets.\n",
    "import os                                                   # Import os to change the information surrounding the enviroment \n",
    "from keras.preprocessing.image import ImageDataGenerator    # Create tensorflow image batches using data augmentation.\n",
    "os.environ['TF_XLA_FLAGS'] = '--tf_xla_enable_xla_devices'\n",
    "locationOfDataset = '/home/dmr/DatasetForExperiments/adware/'\n",
    "batches = ImageDataGenerator().flow_from_directory(directory=locationOfDataset, target_size=(64,64), batch_size=1070)\n",
    "\n",
    "# Print information about Images \n",
    "imgs, labels = next(batches)\n",
    "print(\"Number of Images and Size of Images: \",imgs.shape) # Images with width x length x depth\n",
    "print(\"Number of Images and Families: \",labels.shape) # Lablels with batch_size, number of classes"
   ]
  },
  {
   "cell_type": "code",
   "execution_count": 2,
   "id": "678032d1",
   "metadata": {},
   "outputs": [
    {
     "name": "stdout",
     "output_type": "stream",
     "text": [
      "Number of Samples in Training Set:  (74, 10)\n",
      "Number of Samples in Testing Set:  (33, 10)\n"
     ]
    }
   ],
   "source": [
    "# This section will cover the necessary steps used to split the scareware dataset\n",
    "# into training and testing to evaluate the effectiveness of this convolutional neural \n",
    "# network model based on the scareware samples.\n",
    "import numpy as np                                   # Provides the ability to use numerical data to convert the .dex files to greyscale images\n",
    "import scipy as sp                                   # Provides the use of algorithms to be used \n",
    "from PIL import Image                                # Allow for processing of images\n",
    "\n",
    "# Splitting the Dataset into Training and testing with a test size of 30% of overall \n",
    "# samples in the dataset. \n",
    "from sklearn.model_selection import train_test_split    # Used to split the dataset\n",
    "\n",
    "# Split up the data set, 30% testing 70% training\n",
    "trainX, testX, trainY, testY = train_test_split(imgs/255.,labels, test_size=0.3)\n",
    "\n",
    "# Print the information regarding the training and testing sample sizes\n",
    "#print(\"Size of Training Set: \", trainX.shape)                   # Print training set information\n",
    "#print(\"Size of Testing Set: \",testX.shape)                      # Print testing set information\n",
    "print(\"Number of Samples in Training Set: \",trainY.shape)   # Print training set information\n",
    "print(\"Number of Samples in Testing Set: \",testY.shape)     # Print testing set information"
   ]
  },
  {
   "cell_type": "code",
   "execution_count": 3,
   "id": "612d65d2",
   "metadata": {},
   "outputs": [],
   "source": [
    "# The Convolutional Neural Network Model\n",
    "# This section will encompass the aspects surrounding the convultional neural network\n",
    "# which was used for the experimentation of this research. \n",
    "import keras                                            # Import keras\n",
    "import tensorflow                                       # Import tensorflow\n",
    "from keras.models import Sequential, Input, Model       # Used for CNN model regarding Models\n",
    "from keras.layers import Dense, Dropout, Flatten        # Used for CNN model regarding Layers\n",
    "from keras.layers import Conv2D, MaxPooling2D           # Used for CNN model regarding Layers\n",
    "from tensorflow.keras.layers import BatchNormalization  # Layer used to normalise inputs\n",
    "from tensorflow.keras.metrics import AUC                # Used estimate to Area Under Curve\n",
    "\n",
    "noOfFamilies = 10 # Number of Families in the Sample\n",
    "\n",
    "# Function used to create the layers of the convolutional neural network model. These parameters were\n",
    "# constantly changed throughout testing in order to obtain the best possible results. Within this model \n",
    "# there are 10 main layers and each layers parameters are explained in detail. \n",
    "def CNNModel():\n",
    "    CNNModel = Sequential()        # Sequential Model is used the experiments\n",
    "\n",
    "    # Convolutional Layer: With relu Activation, 31 filters, and a kernel size of 3 x 3\n",
    "    CNNModel.add(Conv2D(30, kernel_size=(3, 3),\n",
    "                     activation='relu',\n",
    "                     input_shape=(64,64,3)))                # Layer 1 \n",
    "\n",
    "    # Max Pooling Layer: With a pool size of 2 x 2\n",
    "    CNNModel.add(MaxPooling2D(pool_size=(2, 2)))            # Layer 2\n",
    "    \n",
    "    # Convolutional Layer: 17 filters and kernel size of 3 x 3 \n",
    "    CNNModel.add(Conv2D(15, (3, 3), activation='relu'))     # Layer 3\n",
    "    \n",
    "    # Max Pooling Layer: Pool size of 2 x 2 \n",
    "    CNNModel.add(MaxPooling2D(pool_size=(2, 2)))            # Layer 4\n",
    "    \n",
    "    # Drop Out Layer: This layer used to drop 25% of neurons in the model .\n",
    "    CNNModel.add(Dropout(0.25))                             # Layer 5\n",
    "    \n",
    "    # Flatten Layer\n",
    "    CNNModel.add(Flatten())                                 # Layer 6\n",
    "    \n",
    "    # Dense/Fully Connected Layer : 128 Neurons using the relu activation function\n",
    "    CNNModel.add(Dense(128, activation='relu'))             # Layer 7\n",
    "    \n",
    "    # Drop Out Layer: This layer used to drop 50% of neurons in the model.\n",
    "    CNNModel.add(Dropout(0.5))                              # Layer 8\n",
    "    \n",
    "    # Dense/Fully Connected Layer : 50 Neurons using the relu activation function\n",
    "    CNNModel.add(Dense(50, activation='relu'))              # Layer 9\n",
    "    \n",
    "    # Dense/Fully Connected Layer : number of families neurons, using the softmax activation function\n",
    "    CNNModel.add(Dense(noOfFamilies, activation='softmax')) # Layer 10\n",
    "    \n",
    "    CNNModel.compile(loss='categorical_crossentropy', optimizer = 'adam', metrics=['accuracy'])\n",
    "    return CNNModel     # Return the Convolutional Neural Network Model"
   ]
  },
  {
   "cell_type": "code",
   "execution_count": 4,
   "id": "43cddf0f",
   "metadata": {},
   "outputs": [],
   "source": [
    "# Measure the effectiveness of the model. This section is used to generate the results of the \n",
    "# corresponding convolutional neural network. For the purpose of this mode, there are three main \n",
    "# measurements which have to be declared. These are recall, preicision and f1. Listed below\n",
    "# are the neccessary formulas which are required to obtain these results.\n",
    "from keras import backend as K\n",
    "\n",
    "# Recall Measurement\n",
    "def recallMeasurement(testY, yPrediction):\n",
    "    true_positives = K.sum(K.round(K.clip(testY * yPrediction, 0, 1)))\n",
    "    possible_positives = K.sum(K.round(K.clip(testY, 0, 1)))\n",
    "    recall = true_positives / (possible_positives + K.epsilon())\n",
    "    return recall\n",
    "\n",
    "# Precision Measurement\n",
    "def precisionMeasurement(testY, yPrediction):\n",
    "    true_positives = K.sum(K.round(K.clip(testY * yPrediction, 0, 1)))\n",
    "    predicted_positives = K.sum(K.round(K.clip(yPrediction, 0, 1)))\n",
    "    precision = true_positives / (predicted_positives + K.epsilon())\n",
    "    return precision\n",
    "\n",
    "# F1 Measurement\n",
    "def f1Measurement(testY, yPrediction):\n",
    "    precision = precisionMeasurement(testY, yPrediction)\n",
    "    recall = recallMeasurement(testY, yPrediction)\n",
    "    return 2*((precision*recall)/(precision+recall+K.epsilon()))"
   ]
  },
  {
   "cell_type": "code",
   "execution_count": 5,
   "id": "3d135f36",
   "metadata": {},
   "outputs": [
    {
     "name": "stderr",
     "output_type": "stream",
     "text": [
      "2023-05-05 17:12:49.852515: I tensorflow/stream_executor/platform/default/dso_loader.cc:49] Successfully opened dynamic library libcuda.so.1\n",
      "2023-05-05 17:12:50.133584: E tensorflow/stream_executor/cuda/cuda_driver.cc:328] failed call to cuInit: CUDA_ERROR_NO_DEVICE: no CUDA-capable device is detected\n",
      "2023-05-05 17:12:50.133631: I tensorflow/stream_executor/cuda/cuda_diagnostics.cc:156] kernel driver does not appear to be running on this host (pop-os): /proc/driver/nvidia/version does not exist\n",
      "2023-05-05 17:12:50.134839: I tensorflow/core/platform/cpu_feature_guard.cc:142] This TensorFlow binary is optimized with oneAPI Deep Neural Network Library (oneDNN) to use the following CPU instructions in performance-critical operations:  SSE4.1 SSE4.2 AVX AVX2 FMA\n",
      "To enable them in other operations, rebuild TensorFlow with the appropriate compiler flags.\n",
      "2023-05-05 17:12:50.144411: I tensorflow/core/platform/profile_utils/cpu_utils.cc:112] CPU Frequency: 1999965000 Hz\n",
      "2023-05-05 17:12:50.145328: I tensorflow/compiler/xla/service/service.cc:168] XLA service 0x1e55620 initialized for platform Host (this does not guarantee that XLA will be used). Devices:\n",
      "2023-05-05 17:12:50.145370: I tensorflow/compiler/xla/service/service.cc:176]   StreamExecutor device (0): Host, Default Version\n"
     ]
    }
   ],
   "source": [
    "# Initialise the Model\n",
    "CNNModel = CNNModel()"
   ]
  },
  {
   "cell_type": "code",
   "execution_count": 6,
   "id": "4f9fc651",
   "metadata": {},
   "outputs": [
    {
     "name": "stdout",
     "output_type": "stream",
     "text": [
      "Model: \"sequential\"\n",
      "_________________________________________________________________\n",
      "Layer (type)                 Output Shape              Param #   \n",
      "=================================================================\n",
      "conv2d (Conv2D)              (None, 62, 62, 30)        840       \n",
      "_________________________________________________________________\n",
      "max_pooling2d (MaxPooling2D) (None, 31, 31, 30)        0         \n",
      "_________________________________________________________________\n",
      "conv2d_1 (Conv2D)            (None, 29, 29, 15)        4065      \n",
      "_________________________________________________________________\n",
      "max_pooling2d_1 (MaxPooling2 (None, 14, 14, 15)        0         \n",
      "_________________________________________________________________\n",
      "dropout (Dropout)            (None, 14, 14, 15)        0         \n",
      "_________________________________________________________________\n",
      "flatten (Flatten)            (None, 2940)              0         \n",
      "_________________________________________________________________\n",
      "dense (Dense)                (None, 128)               376448    \n",
      "_________________________________________________________________\n",
      "dropout_1 (Dropout)          (None, 128)               0         \n",
      "_________________________________________________________________\n",
      "dense_1 (Dense)              (None, 50)                6450      \n",
      "_________________________________________________________________\n",
      "dense_2 (Dense)              (None, 10)                510       \n",
      "=================================================================\n",
      "Total params: 388,313\n",
      "Trainable params: 388,313\n",
      "Non-trainable params: 0\n",
      "_________________________________________________________________\n"
     ]
    }
   ],
   "source": [
    "# Print the Information of the Model. This includes the information surrounding \n",
    "# the layers of the models as well as the number of total parameters\n",
    "CNNModel.summary()"
   ]
  },
  {
   "cell_type": "code",
   "execution_count": 7,
   "id": "45305f00",
   "metadata": {},
   "outputs": [
    {
     "data": {
      "text/plain": [
       "array([5, 0, 2, 0, 5, 6, 1, 5, 8, 3, 2, 6, 3, 1, 4, 7, 3, 2, 5, 2, 7, 0,\n",
       "       5, 4, 0, 6, 2, 2, 0, 7, 9, 0, 2, 2, 8, 9, 3, 7, 3, 5, 7, 1, 4, 2,\n",
       "       9, 2, 2, 5, 3, 7, 4, 9, 6, 7, 4, 6, 0, 9, 4, 0, 2, 9, 4, 0, 4, 3,\n",
       "       3, 3, 5, 3, 4, 8, 4, 7])"
      ]
     },
     "execution_count": 7,
     "metadata": {},
     "output_type": "execute_result"
    }
   ],
   "source": [
    "trainY.shape                            # Returns the shape of the trainY array \n",
    "trainY_new = np.argmax(trainY, axis=1)  # Converts the trainY array to an array of integers \n",
    "trainY_new                              # Returns the array of integer labels"
   ]
  },
  {
   "cell_type": "code",
   "execution_count": 8,
   "id": "78a23209",
   "metadata": {},
   "outputs": [],
   "source": [
    "# This section of the model imports the class_weight function from the sklearn.utils \n",
    "# library. This is used to compute the class weights for a multi-class classification problem.\n",
    "# The weightOfModel computes the class weights based on the class distribution found in the \n",
    "# training set. The class_weight parameter is set to balanced which means that the class \n",
    "# weights are automatically adjusted in acorrdance with the information obtained from the \n",
    "# input data.\n",
    "\n",
    "from sklearn.utils import class_weight # Used to compute the class weights for a multi-class classification system\n",
    "weightOfModel = class_weight.compute_class_weight(class_weight = 'balanced',\n",
    "                                                 classes = np.unique(trainY_new),\n",
    "                                                 y = trainY_new)\n",
    "\n",
    "# This code is used to map each unique class label in the training set trainY_new variable. \n",
    "# This is then uses the class_weight variable initialised above. \n",
    "weightOfModel = {l:c for l,c in zip(np.unique(trainY_new), weightOfModel)}"
   ]
  },
  {
   "cell_type": "code",
   "execution_count": 9,
   "id": "b2d1340c",
   "metadata": {},
   "outputs": [],
   "source": [
    "# This is used to compile the Convolutional Neural network Model. It uses the adam optimiser, \n",
    "# computes loss using binary_crossentropy and then calculates the measurements listed before.\n",
    "CNNModel.compile(optimizer='adam', \n",
    "                    loss='binary_crossentropy', \n",
    "                    metrics=[f1Measurement,precisionMeasurement, \n",
    "                    recallMeasurement,\n",
    "                    AUC()])"
   ]
  },
  {
   "cell_type": "code",
   "execution_count": 10,
   "id": "28118981",
   "metadata": {},
   "outputs": [
    {
     "name": "stderr",
     "output_type": "stream",
     "text": [
      "2023-05-05 17:12:50.292920: I tensorflow/compiler/mlir/mlir_graph_optimization_pass.cc:116] None of the MLIR optimization passes are enabled (registered 2)\n"
     ]
    },
    {
     "name": "stdout",
     "output_type": "stream",
     "text": [
      "Epoch 1/100\n",
      "3/3 [==============================] - 1s 234ms/step - loss: 0.6139 - f1Measurement: 0.0000e+00 - precisionMeasurement: 0.0000e+00 - recallMeasurement: 0.0000e+00 - auc: 0.5107 - val_loss: 0.3700 - val_f1Measurement: 0.0000e+00 - val_precisionMeasurement: 0.0000e+00 - val_recallMeasurement: 0.0000e+00 - val_auc: 0.5273\n",
      "Epoch 2/100\n",
      "3/3 [==============================] - 0s 39ms/step - loss: 0.4012 - f1Measurement: 0.0771 - precisionMeasurement: 0.4792 - recallMeasurement: 0.0427 - auc: 0.4954 - val_loss: 0.3633 - val_f1Measurement: 0.0000e+00 - val_precisionMeasurement: 0.0000e+00 - val_recallMeasurement: 0.0000e+00 - val_auc: 0.5715\n",
      "Epoch 3/100\n",
      "3/3 [==============================] - 0s 40ms/step - loss: 0.3993 - f1Measurement: 0.0439 - precisionMeasurement: 0.1448 - recallMeasurement: 0.0260 - auc: 0.4857 - val_loss: 0.3365 - val_f1Measurement: 0.0000e+00 - val_precisionMeasurement: 0.0000e+00 - val_recallMeasurement: 0.0000e+00 - val_auc: 0.5380\n",
      "Epoch 4/100\n",
      "3/3 [==============================] - 0s 42ms/step - loss: 0.3721 - f1Measurement: 0.0000e+00 - precisionMeasurement: 0.0000e+00 - recallMeasurement: 0.0000e+00 - auc: 0.5213 - val_loss: 0.3493 - val_f1Measurement: 0.0000e+00 - val_precisionMeasurement: 0.0000e+00 - val_recallMeasurement: 0.0000e+00 - val_auc: 0.5409\n",
      "Epoch 5/100\n",
      "3/3 [==============================] - 0s 39ms/step - loss: 0.3866 - f1Measurement: 0.0000e+00 - precisionMeasurement: 0.0000e+00 - recallMeasurement: 0.0000e+00 - auc: 0.4606 - val_loss: 0.3378 - val_f1Measurement: 0.0000e+00 - val_precisionMeasurement: 0.0000e+00 - val_recallMeasurement: 0.0000e+00 - val_auc: 0.5584\n",
      "Epoch 6/100\n",
      "3/3 [==============================] - 0s 45ms/step - loss: 0.3525 - f1Measurement: 0.0000e+00 - precisionMeasurement: 0.0000e+00 - recallMeasurement: 0.0000e+00 - auc: 0.5075 - val_loss: 0.3228 - val_f1Measurement: 0.0000e+00 - val_precisionMeasurement: 0.0000e+00 - val_recallMeasurement: 0.0000e+00 - val_auc: 0.6207\n",
      "Epoch 7/100\n",
      "3/3 [==============================] - 0s 39ms/step - loss: 0.3533 - f1Measurement: 0.0177 - precisionMeasurement: 0.2917 - recallMeasurement: 0.0091 - auc: 0.5420 - val_loss: 0.3238 - val_f1Measurement: 0.0000e+00 - val_precisionMeasurement: 0.0000e+00 - val_recallMeasurement: 0.0000e+00 - val_auc: 0.6249\n",
      "Epoch 8/100\n",
      "3/3 [==============================] - 0s 40ms/step - loss: 0.3347 - f1Measurement: 0.0000e+00 - precisionMeasurement: 0.0000e+00 - recallMeasurement: 0.0000e+00 - auc: 0.5699 - val_loss: 0.3226 - val_f1Measurement: 0.0000e+00 - val_precisionMeasurement: 0.0000e+00 - val_recallMeasurement: 0.0000e+00 - val_auc: 0.6385\n",
      "Epoch 9/100\n",
      "3/3 [==============================] - 0s 40ms/step - loss: 0.3247 - f1Measurement: 0.0000e+00 - precisionMeasurement: 0.0000e+00 - recallMeasurement: 0.0000e+00 - auc: 0.6162 - val_loss: 0.3213 - val_f1Measurement: 0.0000e+00 - val_precisionMeasurement: 0.0000e+00 - val_recallMeasurement: 0.0000e+00 - val_auc: 0.6394\n",
      "Epoch 10/100\n",
      "3/3 [==============================] - 0s 41ms/step - loss: 0.3400 - f1Measurement: 0.0000e+00 - precisionMeasurement: 0.0000e+00 - recallMeasurement: 0.0000e+00 - auc: 0.5613 - val_loss: 0.3201 - val_f1Measurement: 0.0000e+00 - val_precisionMeasurement: 0.0000e+00 - val_recallMeasurement: 0.0000e+00 - val_auc: 0.6502\n",
      "Epoch 11/100\n",
      "3/3 [==============================] - 0s 39ms/step - loss: 0.3359 - f1Measurement: 0.0000e+00 - precisionMeasurement: 0.0000e+00 - recallMeasurement: 0.0000e+00 - auc: 0.5661 - val_loss: 0.3185 - val_f1Measurement: 0.0000e+00 - val_precisionMeasurement: 0.0000e+00 - val_recallMeasurement: 0.0000e+00 - val_auc: 0.6566\n",
      "Epoch 12/100\n",
      "3/3 [==============================] - 0s 39ms/step - loss: 0.3126 - f1Measurement: 0.0000e+00 - precisionMeasurement: 0.0000e+00 - recallMeasurement: 0.0000e+00 - auc: 0.6827 - val_loss: 0.3173 - val_f1Measurement: 0.0000e+00 - val_precisionMeasurement: 0.0000e+00 - val_recallMeasurement: 0.0000e+00 - val_auc: 0.6489\n",
      "Epoch 13/100\n",
      "3/3 [==============================] - 0s 42ms/step - loss: 0.3196 - f1Measurement: 0.0328 - precisionMeasurement: 0.5417 - recallMeasurement: 0.0169 - auc: 0.6813 - val_loss: 0.3137 - val_f1Measurement: 0.0000e+00 - val_precisionMeasurement: 0.0000e+00 - val_recallMeasurement: 0.0000e+00 - val_auc: 0.6721\n",
      "Epoch 14/100\n",
      "3/3 [==============================] - 0s 45ms/step - loss: 0.3156 - f1Measurement: 0.0000e+00 - precisionMeasurement: 0.0000e+00 - recallMeasurement: 0.0000e+00 - auc: 0.6225 - val_loss: 0.3106 - val_f1Measurement: 0.0000e+00 - val_precisionMeasurement: 0.0000e+00 - val_recallMeasurement: 0.0000e+00 - val_auc: 0.6870\n",
      "Epoch 15/100\n",
      "3/3 [==============================] - 0s 43ms/step - loss: 0.3002 - f1Measurement: 0.0000e+00 - precisionMeasurement: 0.0000e+00 - recallMeasurement: 0.0000e+00 - auc: 0.6679 - val_loss: 0.3072 - val_f1Measurement: 0.0000e+00 - val_precisionMeasurement: 0.0000e+00 - val_recallMeasurement: 0.0000e+00 - val_auc: 0.7153\n",
      "Epoch 16/100\n",
      "3/3 [==============================] - 0s 39ms/step - loss: 0.3106 - f1Measurement: 0.0505 - precisionMeasurement: 0.8333 - recallMeasurement: 0.0260 - auc: 0.6710 - val_loss: 0.3008 - val_f1Measurement: 0.0303 - val_precisionMeasurement: 0.5000 - val_recallMeasurement: 0.0156 - val_auc: 0.7280\n",
      "Epoch 17/100\n",
      "3/3 [==============================] - 0s 40ms/step - loss: 0.2998 - f1Measurement: 0.0303 - precisionMeasurement: 0.1667 - recallMeasurement: 0.0167 - auc: 0.6800 - val_loss: 0.2978 - val_f1Measurement: 0.0303 - val_precisionMeasurement: 0.5000 - val_recallMeasurement: 0.0156 - val_auc: 0.7338\n",
      "Epoch 18/100\n",
      "3/3 [==============================] - 0s 39ms/step - loss: 0.2961 - f1Measurement: 0.0177 - precisionMeasurement: 0.2917 - recallMeasurement: 0.0091 - auc: 0.7343 - val_loss: 0.2973 - val_f1Measurement: 0.0303 - val_precisionMeasurement: 0.5000 - val_recallMeasurement: 0.0156 - val_auc: 0.7281\n",
      "Epoch 19/100\n",
      "3/3 [==============================] - 0s 40ms/step - loss: 0.2774 - f1Measurement: 0.0974 - precisionMeasurement: 1.0000 - recallMeasurement: 0.0518 - auc: 0.7839 - val_loss: 0.2953 - val_f1Measurement: 0.0303 - val_precisionMeasurement: 0.5000 - val_recallMeasurement: 0.0156 - val_auc: 0.7249\n",
      "Epoch 20/100\n",
      "3/3 [==============================] - 0s 38ms/step - loss: 0.2771 - f1Measurement: 0.0671 - precisionMeasurement: 0.8333 - recallMeasurement: 0.0352 - auc: 0.7856 - val_loss: 0.2903 - val_f1Measurement: 0.0303 - val_precisionMeasurement: 0.5000 - val_recallMeasurement: 0.0156 - val_auc: 0.7412\n",
      "Epoch 21/100\n",
      "3/3 [==============================] - 0s 44ms/step - loss: 0.2680 - f1Measurement: 0.0343 - precisionMeasurement: 0.2917 - recallMeasurement: 0.0182 - auc: 0.8113 - val_loss: 0.2860 - val_f1Measurement: 0.0588 - val_precisionMeasurement: 0.5000 - val_recallMeasurement: 0.0312 - val_auc: 0.7382\n",
      "Epoch 22/100\n",
      "3/3 [==============================] - 0s 38ms/step - loss: 0.2593 - f1Measurement: 0.1551 - precisionMeasurement: 0.6979 - recallMeasurement: 0.0872 - auc: 0.7813 - val_loss: 0.2783 - val_f1Measurement: 0.1351 - val_precisionMeasurement: 0.5000 - val_recallMeasurement: 0.0781 - val_auc: 0.7472\n",
      "Epoch 23/100\n",
      "3/3 [==============================] - 0s 40ms/step - loss: 0.2520 - f1Measurement: 0.2116 - precisionMeasurement: 0.6994 - recallMeasurement: 0.1271 - auc: 0.8077 - val_loss: 0.2743 - val_f1Measurement: 0.1579 - val_precisionMeasurement: 0.5000 - val_recallMeasurement: 0.0938 - val_auc: 0.7616\n",
      "Epoch 24/100\n",
      "3/3 [==============================] - 0s 37ms/step - loss: 0.2402 - f1Measurement: 0.1984 - precisionMeasurement: 1.0000 - recallMeasurement: 0.1115 - auc: 0.8262 - val_loss: 0.2765 - val_f1Measurement: 0.1795 - val_precisionMeasurement: 0.5000 - val_recallMeasurement: 0.1094 - val_auc: 0.7751\n",
      "Epoch 25/100\n",
      "3/3 [==============================] - 0s 40ms/step - loss: 0.2702 - f1Measurement: 0.1075 - precisionMeasurement: 0.6181 - recallMeasurement: 0.0609 - auc: 0.7649 - val_loss: 0.2700 - val_f1Measurement: 0.1795 - val_precisionMeasurement: 0.5000 - val_recallMeasurement: 0.1094 - val_auc: 0.7742\n",
      "Epoch 26/100\n"
     ]
    },
    {
     "name": "stdout",
     "output_type": "stream",
     "text": [
      "3/3 [==============================] - 0s 38ms/step - loss: 0.2459 - f1Measurement: 0.2279 - precisionMeasurement: 1.0000 - recallMeasurement: 0.1313 - auc: 0.8286 - val_loss: 0.2706 - val_f1Measurement: 0.1795 - val_precisionMeasurement: 0.5000 - val_recallMeasurement: 0.1094 - val_auc: 0.7824\n",
      "Epoch 27/100\n",
      "3/3 [==============================] - 0s 39ms/step - loss: 0.2309 - f1Measurement: 0.2363 - precisionMeasurement: 1.0000 - recallMeasurement: 0.1362 - auc: 0.8795 - val_loss: 0.2647 - val_f1Measurement: 0.2000 - val_precisionMeasurement: 0.5000 - val_recallMeasurement: 0.1250 - val_auc: 0.7999\n",
      "Epoch 28/100\n",
      "3/3 [==============================] - 0s 39ms/step - loss: 0.2126 - f1Measurement: 0.2973 - precisionMeasurement: 0.8833 - recallMeasurement: 0.1792 - auc: 0.8771 - val_loss: 0.2691 - val_f1Measurement: 0.2000 - val_precisionMeasurement: 0.5000 - val_recallMeasurement: 0.1250 - val_auc: 0.8023\n",
      "Epoch 29/100\n",
      "3/3 [==============================] - 0s 39ms/step - loss: 0.2224 - f1Measurement: 0.2822 - precisionMeasurement: 0.7750 - recallMeasurement: 0.1745 - auc: 0.8585 - val_loss: 0.2576 - val_f1Measurement: 0.2000 - val_precisionMeasurement: 0.5000 - val_recallMeasurement: 0.1250 - val_auc: 0.8032\n",
      "Epoch 30/100\n",
      "3/3 [==============================] - 0s 42ms/step - loss: 0.2136 - f1Measurement: 0.2965 - precisionMeasurement: 0.7969 - recallMeasurement: 0.1823 - auc: 0.9130 - val_loss: 0.2557 - val_f1Measurement: 0.2000 - val_precisionMeasurement: 0.5000 - val_recallMeasurement: 0.1250 - val_auc: 0.8055\n",
      "Epoch 31/100\n",
      "3/3 [==============================] - 0s 44ms/step - loss: 0.2078 - f1Measurement: 0.3169 - precisionMeasurement: 1.0000 - recallMeasurement: 0.1898 - auc: 0.9027 - val_loss: 0.2575 - val_f1Measurement: 0.1951 - val_precisionMeasurement: 0.4444 - val_recallMeasurement: 0.1250 - val_auc: 0.8027\n",
      "Epoch 32/100\n",
      "3/3 [==============================] - 0s 40ms/step - loss: 0.2077 - f1Measurement: 0.3764 - precisionMeasurement: 0.7336 - recallMeasurement: 0.2570 - auc: 0.8635 - val_loss: 0.2615 - val_f1Measurement: 0.1951 - val_precisionMeasurement: 0.4444 - val_recallMeasurement: 0.1250 - val_auc: 0.8033\n",
      "Epoch 33/100\n",
      "3/3 [==============================] - 0s 44ms/step - loss: 0.1867 - f1Measurement: 0.4213 - precisionMeasurement: 0.9184 - recallMeasurement: 0.2755 - auc: 0.9130 - val_loss: 0.2619 - val_f1Measurement: 0.2000 - val_precisionMeasurement: 0.5000 - val_recallMeasurement: 0.1250 - val_auc: 0.7976\n",
      "Epoch 34/100\n",
      "3/3 [==============================] - 0s 39ms/step - loss: 0.1953 - f1Measurement: 0.4789 - precisionMeasurement: 0.8189 - recallMeasurement: 0.3430 - auc: 0.9086 - val_loss: 0.2580 - val_f1Measurement: 0.2000 - val_precisionMeasurement: 0.5000 - val_recallMeasurement: 0.1250 - val_auc: 0.7994\n",
      "Epoch 35/100\n",
      "3/3 [==============================] - 0s 38ms/step - loss: 0.1696 - f1Measurement: 0.5155 - precisionMeasurement: 0.8321 - recallMeasurement: 0.3784 - auc: 0.9462 - val_loss: 0.2574 - val_f1Measurement: 0.1860 - val_precisionMeasurement: 0.3636 - val_recallMeasurement: 0.1250 - val_auc: 0.8071\n",
      "Epoch 36/100\n",
      "3/3 [==============================] - 0s 37ms/step - loss: 0.1709 - f1Measurement: 0.5459 - precisionMeasurement: 0.8845 - recallMeasurement: 0.4021 - auc: 0.9397 - val_loss: 0.2549 - val_f1Measurement: 0.2093 - val_precisionMeasurement: 0.4091 - val_recallMeasurement: 0.1406 - val_auc: 0.8298\n",
      "Epoch 37/100\n",
      "3/3 [==============================] - 0s 38ms/step - loss: 0.1834 - f1Measurement: 0.5108 - precisionMeasurement: 0.8079 - recallMeasurement: 0.3794 - auc: 0.9374 - val_loss: 0.2506 - val_f1Measurement: 0.2093 - val_precisionMeasurement: 0.4091 - val_recallMeasurement: 0.1406 - val_auc: 0.8337\n",
      "Epoch 38/100\n",
      "3/3 [==============================] - 0s 38ms/step - loss: 0.1526 - f1Measurement: 0.6503 - precisionMeasurement: 0.8553 - recallMeasurement: 0.5255 - auc: 0.9540 - val_loss: 0.2527 - val_f1Measurement: 0.2093 - val_precisionMeasurement: 0.4091 - val_recallMeasurement: 0.1406 - val_auc: 0.8300\n",
      "Epoch 39/100\n",
      "3/3 [==============================] - 0s 38ms/step - loss: 0.1630 - f1Measurement: 0.5518 - precisionMeasurement: 0.7760 - recallMeasurement: 0.4307 - auc: 0.9305 - val_loss: 0.2513 - val_f1Measurement: 0.1905 - val_precisionMeasurement: 0.4000 - val_recallMeasurement: 0.1250 - val_auc: 0.8298\n",
      "Epoch 40/100\n",
      "3/3 [==============================] - 0s 38ms/step - loss: 0.1552 - f1Measurement: 0.6290 - precisionMeasurement: 0.8595 - recallMeasurement: 0.4982 - auc: 0.9432 - val_loss: 0.2535 - val_f1Measurement: 0.1860 - val_precisionMeasurement: 0.3636 - val_recallMeasurement: 0.1250 - val_auc: 0.8185\n",
      "Epoch 41/100\n",
      "3/3 [==============================] - 0s 39ms/step - loss: 0.1335 - f1Measurement: 0.7133 - precisionMeasurement: 0.8666 - recallMeasurement: 0.6112 - auc: 0.9672 - val_loss: 0.2658 - val_f1Measurement: 0.2000 - val_precisionMeasurement: 0.3462 - val_recallMeasurement: 0.1406 - val_auc: 0.8189\n",
      "Epoch 42/100\n",
      "3/3 [==============================] - 0s 37ms/step - loss: 0.1434 - f1Measurement: 0.6258 - precisionMeasurement: 0.7910 - recallMeasurement: 0.5182 - auc: 0.9658 - val_loss: 0.2657 - val_f1Measurement: 0.2174 - val_precisionMeasurement: 0.3571 - val_recallMeasurement: 0.1562 - val_auc: 0.8215\n",
      "Epoch 43/100\n",
      "3/3 [==============================] - 0s 37ms/step - loss: 0.1463 - f1Measurement: 0.5742 - precisionMeasurement: 0.7525 - recallMeasurement: 0.4661 - auc: 0.9594 - val_loss: 0.2545 - val_f1Measurement: 0.2174 - val_precisionMeasurement: 0.3571 - val_recallMeasurement: 0.1562 - val_auc: 0.8264\n",
      "Epoch 44/100\n",
      "3/3 [==============================] - 0s 38ms/step - loss: 0.1254 - f1Measurement: 0.7402 - precisionMeasurement: 0.9225 - recallMeasurement: 0.6255 - auc: 0.9748 - val_loss: 0.2572 - val_f1Measurement: 0.2041 - val_precisionMeasurement: 0.2941 - val_recallMeasurement: 0.1562 - val_auc: 0.8340\n",
      "Epoch 45/100\n",
      "3/3 [==============================] - 0s 41ms/step - loss: 0.1246 - f1Measurement: 0.7075 - precisionMeasurement: 0.8739 - recallMeasurement: 0.5948 - auc: 0.9783 - val_loss: 0.2723 - val_f1Measurement: 0.2245 - val_precisionMeasurement: 0.3235 - val_recallMeasurement: 0.1719 - val_auc: 0.8335\n",
      "Epoch 46/100\n",
      "3/3 [==============================] - 0s 38ms/step - loss: 0.0986 - f1Measurement: 0.7328 - precisionMeasurement: 0.8212 - recallMeasurement: 0.6625 - auc: 0.9855 - val_loss: 0.2766 - val_f1Measurement: 0.2041 - val_precisionMeasurement: 0.2941 - val_recallMeasurement: 0.1562 - val_auc: 0.8327\n",
      "Epoch 47/100\n",
      "3/3 [==============================] - 0s 39ms/step - loss: 0.1244 - f1Measurement: 0.7303 - precisionMeasurement: 0.8492 - recallMeasurement: 0.6409 - auc: 0.9789 - val_loss: 0.2584 - val_f1Measurement: 0.2128 - val_precisionMeasurement: 0.3333 - val_recallMeasurement: 0.1562 - val_auc: 0.8443\n",
      "Epoch 48/100\n",
      "3/3 [==============================] - 0s 39ms/step - loss: 0.1092 - f1Measurement: 0.7491 - precisionMeasurement: 0.9110 - recallMeasurement: 0.6365 - auc: 0.9800 - val_loss: 0.2681 - val_f1Measurement: 0.2083 - val_precisionMeasurement: 0.3125 - val_recallMeasurement: 0.1562 - val_auc: 0.8334\n",
      "Epoch 49/100\n",
      "3/3 [==============================] - 0s 39ms/step - loss: 0.1129 - f1Measurement: 0.7418 - precisionMeasurement: 0.8627 - recallMeasurement: 0.6544 - auc: 0.9858 - val_loss: 0.2732 - val_f1Measurement: 0.2083 - val_precisionMeasurement: 0.3125 - val_recallMeasurement: 0.1562 - val_auc: 0.8408\n",
      "Epoch 50/100\n",
      "3/3 [==============================] - 0s 38ms/step - loss: 0.0828 - f1Measurement: 0.7603 - precisionMeasurement: 0.7913 - recallMeasurement: 0.7318 - auc: 0.9885 - val_loss: 0.2832 - val_f1Measurement: 0.1961 - val_precisionMeasurement: 0.2632 - val_recallMeasurement: 0.1562 - val_auc: 0.8366\n",
      "Epoch 51/100\n",
      "3/3 [==============================] - 0s 38ms/step - loss: 0.0912 - f1Measurement: 0.7757 - precisionMeasurement: 0.8884 - recallMeasurement: 0.6906 - auc: 0.9857 - val_loss: 0.2733 - val_f1Measurement: 0.2075 - val_precisionMeasurement: 0.2619 - val_recallMeasurement: 0.1719 - val_auc: 0.8304\n",
      "Epoch 52/100\n",
      "3/3 [==============================] - 0s 37ms/step - loss: 0.1011 - f1Measurement: 0.7498 - precisionMeasurement: 0.8626 - recallMeasurement: 0.6646 - auc: 0.9823 - val_loss: 0.2601 - val_f1Measurement: 0.2264 - val_precisionMeasurement: 0.2857 - val_recallMeasurement: 0.1875 - val_auc: 0.8400\n"
     ]
    },
    {
     "name": "stdout",
     "output_type": "stream",
     "text": [
      "Epoch 53/100\n",
      "3/3 [==============================] - 0s 40ms/step - loss: 0.0819 - f1Measurement: 0.8760 - precisionMeasurement: 0.9311 - recallMeasurement: 0.8271 - auc: 0.9934 - val_loss: 0.2765 - val_f1Measurement: 0.2075 - val_precisionMeasurement: 0.2619 - val_recallMeasurement: 0.1719 - val_auc: 0.8497\n",
      "Epoch 54/100\n",
      "3/3 [==============================] - 0s 38ms/step - loss: 0.0887 - f1Measurement: 0.7707 - precisionMeasurement: 0.8066 - recallMeasurement: 0.7385 - auc: 0.9875 - val_loss: 0.2944 - val_f1Measurement: 0.2115 - val_precisionMeasurement: 0.2750 - val_recallMeasurement: 0.1719 - val_auc: 0.8554\n",
      "Epoch 55/100\n",
      "3/3 [==============================] - 0s 37ms/step - loss: 0.0960 - f1Measurement: 0.7427 - precisionMeasurement: 0.7644 - recallMeasurement: 0.7232 - auc: 0.9857 - val_loss: 0.2792 - val_f1Measurement: 0.1887 - val_precisionMeasurement: 0.2381 - val_recallMeasurement: 0.1562 - val_auc: 0.8539\n",
      "Epoch 56/100\n",
      "3/3 [==============================] - 0s 46ms/step - loss: 0.0743 - f1Measurement: 0.8333 - precisionMeasurement: 0.8810 - recallMeasurement: 0.7917 - auc: 0.9928 - val_loss: 0.2660 - val_f1Measurement: 0.2364 - val_precisionMeasurement: 0.2826 - val_recallMeasurement: 0.2031 - val_auc: 0.8460\n",
      "Epoch 57/100\n",
      "3/3 [==============================] - 0s 45ms/step - loss: 0.0685 - f1Measurement: 0.9000 - precisionMeasurement: 0.9438 - recallMeasurement: 0.8609 - auc: 0.9937 - val_loss: 0.2676 - val_f1Measurement: 0.2222 - val_precisionMeasurement: 0.2727 - val_recallMeasurement: 0.1875 - val_auc: 0.8484\n",
      "Epoch 58/100\n",
      "3/3 [==============================] - 0s 44ms/step - loss: 0.0785 - f1Measurement: 0.9002 - precisionMeasurement: 0.9347 - recallMeasurement: 0.8688 - auc: 0.9928 - val_loss: 0.2712 - val_f1Measurement: 0.2264 - val_precisionMeasurement: 0.2857 - val_recallMeasurement: 0.1875 - val_auc: 0.8569\n",
      "Epoch 59/100\n",
      "3/3 [==============================] - 0s 44ms/step - loss: 0.0591 - f1Measurement: 0.8634 - precisionMeasurement: 0.8841 - recallMeasurement: 0.8443 - auc: 0.9945 - val_loss: 0.2853 - val_f1Measurement: 0.2182 - val_precisionMeasurement: 0.2609 - val_recallMeasurement: 0.1875 - val_auc: 0.8530\n",
      "Epoch 60/100\n",
      "3/3 [==============================] - 0s 50ms/step - loss: 0.0631 - f1Measurement: 0.8774 - precisionMeasurement: 0.9256 - recallMeasurement: 0.8362 - auc: 0.9942 - val_loss: 0.3032 - val_f1Measurement: 0.2075 - val_precisionMeasurement: 0.2619 - val_recallMeasurement: 0.1719 - val_auc: 0.8430\n",
      "Epoch 61/100\n",
      "3/3 [==============================] - 0s 49ms/step - loss: 0.0667 - f1Measurement: 0.8536 - precisionMeasurement: 0.9088 - recallMeasurement: 0.8096 - auc: 0.9947 - val_loss: 0.3125 - val_f1Measurement: 0.2000 - val_precisionMeasurement: 0.2391 - val_recallMeasurement: 0.1719 - val_auc: 0.8411\n",
      "Epoch 62/100\n",
      "3/3 [==============================] - 0s 47ms/step - loss: 0.0599 - f1Measurement: 0.8603 - precisionMeasurement: 0.9053 - recallMeasurement: 0.8195 - auc: 0.9954 - val_loss: 0.3123 - val_f1Measurement: 0.2143 - val_precisionMeasurement: 0.2500 - val_recallMeasurement: 0.1875 - val_auc: 0.8525\n",
      "Epoch 63/100\n",
      "3/3 [==============================] - 0s 46ms/step - loss: 0.0680 - f1Measurement: 0.7922 - precisionMeasurement: 0.8107 - recallMeasurement: 0.7750 - auc: 0.9884 - val_loss: 0.3094 - val_f1Measurement: 0.2143 - val_precisionMeasurement: 0.2500 - val_recallMeasurement: 0.1875 - val_auc: 0.8598\n",
      "Epoch 64/100\n",
      "3/3 [==============================] - 0s 49ms/step - loss: 0.0596 - f1Measurement: 0.8815 - precisionMeasurement: 0.8933 - recallMeasurement: 0.8701 - auc: 0.9950 - val_loss: 0.3223 - val_f1Measurement: 0.2203 - val_precisionMeasurement: 0.2407 - val_recallMeasurement: 0.2031 - val_auc: 0.8666\n",
      "Epoch 65/100\n",
      "3/3 [==============================] - 0s 45ms/step - loss: 0.0623 - f1Measurement: 0.8111 - precisionMeasurement: 0.8287 - recallMeasurement: 0.7945 - auc: 0.9905 - val_loss: 0.3314 - val_f1Measurement: 0.2333 - val_precisionMeasurement: 0.2500 - val_recallMeasurement: 0.2188 - val_auc: 0.8610\n",
      "Epoch 66/100\n",
      "3/3 [==============================] - 0s 45ms/step - loss: 0.0501 - f1Measurement: 0.8970 - precisionMeasurement: 0.9170 - recallMeasurement: 0.8781 - auc: 0.9969 - val_loss: 0.3274 - val_f1Measurement: 0.2105 - val_precisionMeasurement: 0.2400 - val_recallMeasurement: 0.1875 - val_auc: 0.8406\n",
      "Epoch 67/100\n",
      "3/3 [==============================] - 0s 47ms/step - loss: 0.0619 - f1Measurement: 0.8874 - precisionMeasurement: 0.9074 - recallMeasurement: 0.8685 - auc: 0.9955 - val_loss: 0.3145 - val_f1Measurement: 0.2105 - val_precisionMeasurement: 0.2400 - val_recallMeasurement: 0.1875 - val_auc: 0.8301\n",
      "Epoch 68/100\n",
      "3/3 [==============================] - 0s 39ms/step - loss: 0.0558 - f1Measurement: 0.8443 - precisionMeasurement: 0.8644 - recallMeasurement: 0.8276 - auc: 0.9960 - val_loss: 0.3020 - val_f1Measurement: 0.2143 - val_precisionMeasurement: 0.2500 - val_recallMeasurement: 0.1875 - val_auc: 0.8344\n",
      "Epoch 69/100\n",
      "3/3 [==============================] - 0s 45ms/step - loss: 0.0671 - f1Measurement: 0.8604 - precisionMeasurement: 0.8971 - recallMeasurement: 0.8271 - auc: 0.9952 - val_loss: 0.3067 - val_f1Measurement: 0.2281 - val_precisionMeasurement: 0.2600 - val_recallMeasurement: 0.2031 - val_auc: 0.8510\n",
      "Epoch 70/100\n",
      "3/3 [==============================] - 0s 46ms/step - loss: 0.0581 - f1Measurement: 0.8640 - precisionMeasurement: 0.9234 - recallMeasurement: 0.8117 - auc: 0.9951 - val_loss: 0.3005 - val_f1Measurement: 0.2075 - val_precisionMeasurement: 0.2619 - val_recallMeasurement: 0.1719 - val_auc: 0.8614\n",
      "Epoch 71/100\n",
      "3/3 [==============================] - 0s 50ms/step - loss: 0.0505 - f1Measurement: 0.8810 - precisionMeasurement: 0.9009 - recallMeasurement: 0.8622 - auc: 0.9954 - val_loss: 0.2958 - val_f1Measurement: 0.2105 - val_precisionMeasurement: 0.2400 - val_recallMeasurement: 0.1875 - val_auc: 0.8686\n",
      "Epoch 72/100\n",
      "3/3 [==============================] - 0s 40ms/step - loss: 0.0577 - f1Measurement: 0.8152 - precisionMeasurement: 0.8579 - recallMeasurement: 0.7766 - auc: 0.9932 - val_loss: 0.3089 - val_f1Measurement: 0.2241 - val_precisionMeasurement: 0.2500 - val_recallMeasurement: 0.2031 - val_auc: 0.8694\n",
      "Epoch 73/100\n",
      "3/3 [==============================] - 0s 38ms/step - loss: 0.0462 - f1Measurement: 0.8298 - precisionMeasurement: 0.8407 - recallMeasurement: 0.8198 - auc: 0.9943 - val_loss: 0.3310 - val_f1Measurement: 0.2105 - val_precisionMeasurement: 0.2400 - val_recallMeasurement: 0.1875 - val_auc: 0.8625\n",
      "Epoch 74/100\n",
      "3/3 [==============================] - 0s 44ms/step - loss: 0.0316 - f1Measurement: 0.9356 - precisionMeasurement: 0.9401 - recallMeasurement: 0.9313 - auc: 0.9983 - val_loss: 0.3464 - val_f1Measurement: 0.2069 - val_precisionMeasurement: 0.2308 - val_recallMeasurement: 0.1875 - val_auc: 0.8485\n",
      "Epoch 75/100\n",
      "3/3 [==============================] - 0s 38ms/step - loss: 0.0666 - f1Measurement: 0.8311 - precisionMeasurement: 0.8439 - recallMeasurement: 0.8193 - auc: 0.9898 - val_loss: 0.3207 - val_f1Measurement: 0.2105 - val_precisionMeasurement: 0.2400 - val_recallMeasurement: 0.1875 - val_auc: 0.8495\n",
      "Epoch 76/100\n",
      "3/3 [==============================] - 0s 38ms/step - loss: 0.0548 - f1Measurement: 0.8416 - precisionMeasurement: 0.8646 - recallMeasurement: 0.8208 - auc: 0.9953 - val_loss: 0.2974 - val_f1Measurement: 0.2105 - val_precisionMeasurement: 0.2400 - val_recallMeasurement: 0.1875 - val_auc: 0.8367\n",
      "Epoch 77/100\n",
      "3/3 [==============================] - 0s 39ms/step - loss: 0.0535 - f1Measurement: 0.8549 - precisionMeasurement: 0.9046 - recallMeasurement: 0.8104 - auc: 0.9947 - val_loss: 0.2972 - val_f1Measurement: 0.7373 - val_precisionMeasurement: 0.7593 - val_recallMeasurement: 0.7187 - val_auc: 0.8364\n",
      "Epoch 78/100\n",
      "3/3 [==============================] - 0s 38ms/step - loss: 0.0422 - f1Measurement: 0.8986 - precisionMeasurement: 0.9194 - recallMeasurement: 0.8792 - auc: 0.9978 - val_loss: 0.3127 - val_f1Measurement: 0.7143 - val_precisionMeasurement: 0.7500 - val_recallMeasurement: 0.6875 - val_auc: 0.8332\n",
      "Epoch 79/100\n"
     ]
    },
    {
     "name": "stdout",
     "output_type": "stream",
     "text": [
      "3/3 [==============================] - 0s 38ms/step - loss: 0.0566 - f1Measurement: 0.8545 - precisionMeasurement: 0.8633 - recallMeasurement: 0.8466 - auc: 0.9919 - val_loss: 0.3264 - val_f1Measurement: 0.2167 - val_precisionMeasurement: 0.2321 - val_recallMeasurement: 0.2031 - val_auc: 0.8359\n",
      "Epoch 80/100\n",
      "3/3 [==============================] - 0s 39ms/step - loss: 0.0424 - f1Measurement: 0.8550 - precisionMeasurement: 0.8664 - recallMeasurement: 0.8440 - auc: 0.9961 - val_loss: 0.3266 - val_f1Measurement: 0.2131 - val_precisionMeasurement: 0.2241 - val_recallMeasurement: 0.2031 - val_auc: 0.8351\n",
      "Epoch 81/100\n",
      "3/3 [==============================] - 0s 37ms/step - loss: 0.0385 - f1Measurement: 0.8820 - precisionMeasurement: 0.8941 - recallMeasurement: 0.8703 - auc: 0.9969 - val_loss: 0.3219 - val_f1Measurement: 0.2000 - val_precisionMeasurement: 0.2143 - val_recallMeasurement: 0.1875 - val_auc: 0.8354\n",
      "Epoch 82/100\n",
      "3/3 [==============================] - 0s 38ms/step - loss: 0.0421 - f1Measurement: 0.8835 - precisionMeasurement: 0.8877 - recallMeasurement: 0.8794 - auc: 0.9961 - val_loss: 0.3361 - val_f1Measurement: 0.1964 - val_precisionMeasurement: 0.2292 - val_recallMeasurement: 0.1719 - val_auc: 0.8457\n",
      "Epoch 83/100\n",
      "3/3 [==============================] - 0s 38ms/step - loss: 0.0425 - f1Measurement: 0.8835 - precisionMeasurement: 0.8877 - recallMeasurement: 0.8794 - auc: 0.9961 - val_loss: 0.3747 - val_f1Measurement: 0.2034 - val_precisionMeasurement: 0.2222 - val_recallMeasurement: 0.1875 - val_auc: 0.8148\n",
      "Epoch 84/100\n",
      "3/3 [==============================] - 0s 42ms/step - loss: 0.0350 - f1Measurement: 0.8797 - precisionMeasurement: 0.8797 - recallMeasurement: 0.8797 - auc: 0.9973 - val_loss: 0.3864 - val_f1Measurement: 0.2069 - val_precisionMeasurement: 0.2308 - val_recallMeasurement: 0.1875 - val_auc: 0.8112\n",
      "Epoch 85/100\n",
      "3/3 [==============================] - 0s 39ms/step - loss: 0.0480 - f1Measurement: 0.8666 - precisionMeasurement: 0.8707 - recallMeasurement: 0.8625 - auc: 0.9957 - val_loss: 0.3491 - val_f1Measurement: 0.2105 - val_precisionMeasurement: 0.2400 - val_recallMeasurement: 0.1875 - val_auc: 0.8365\n",
      "Epoch 86/100\n",
      "3/3 [==============================] - 0s 39ms/step - loss: 0.0522 - f1Measurement: 0.8909 - precisionMeasurement: 0.8949 - recallMeasurement: 0.8870 - auc: 0.9967 - val_loss: 0.3130 - val_f1Measurement: 0.1897 - val_precisionMeasurement: 0.2115 - val_recallMeasurement: 0.1719 - val_auc: 0.8660\n",
      "Epoch 87/100\n",
      "3/3 [==============================] - 0s 39ms/step - loss: 0.0466 - f1Measurement: 0.8395 - precisionMeasurement: 0.8625 - recallMeasurement: 0.8180 - auc: 0.9937 - val_loss: 0.2988 - val_f1Measurement: 0.2069 - val_precisionMeasurement: 0.2308 - val_recallMeasurement: 0.1875 - val_auc: 0.8657\n",
      "Epoch 88/100\n",
      "3/3 [==============================] - 0s 40ms/step - loss: 0.0419 - f1Measurement: 0.8629 - precisionMeasurement: 0.8831 - recallMeasurement: 0.8440 - auc: 0.9960 - val_loss: 0.2991 - val_f1Measurement: 0.2333 - val_precisionMeasurement: 0.2500 - val_recallMeasurement: 0.2188 - val_auc: 0.8542\n",
      "Epoch 89/100\n",
      "3/3 [==============================] - 0s 40ms/step - loss: 0.0349 - f1Measurement: 0.8870 - precisionMeasurement: 0.9269 - recallMeasurement: 0.8518 - auc: 0.9969 - val_loss: 0.3188 - val_f1Measurement: 0.2373 - val_precisionMeasurement: 0.2593 - val_recallMeasurement: 0.2188 - val_auc: 0.8513\n",
      "Epoch 90/100\n",
      "3/3 [==============================] - 0s 38ms/step - loss: 0.0419 - f1Measurement: 0.8705 - precisionMeasurement: 0.8777 - recallMeasurement: 0.8635 - auc: 0.9962 - val_loss: 0.3462 - val_f1Measurement: 0.2295 - val_precisionMeasurement: 0.2414 - val_recallMeasurement: 0.2188 - val_auc: 0.8245\n",
      "Epoch 91/100\n",
      "3/3 [==============================] - 0s 38ms/step - loss: 0.0426 - f1Measurement: 0.8856 - precisionMeasurement: 0.9107 - recallMeasurement: 0.8622 - auc: 0.9950 - val_loss: 0.3567 - val_f1Measurement: 0.7333 - val_precisionMeasurement: 0.7500 - val_recallMeasurement: 0.7187 - val_auc: 0.8263\n",
      "Epoch 92/100\n",
      "3/3 [==============================] - 0s 39ms/step - loss: 0.0366 - f1Measurement: 0.8806 - precisionMeasurement: 0.8893 - recallMeasurement: 0.8727 - auc: 0.9968 - val_loss: 0.3569 - val_f1Measurement: 0.7414 - val_precisionMeasurement: 0.7692 - val_recallMeasurement: 0.7187 - val_auc: 0.8414\n",
      "Epoch 93/100\n",
      "3/3 [==============================] - 0s 39ms/step - loss: 0.0463 - f1Measurement: 0.8312 - precisionMeasurement: 0.8422 - recallMeasurement: 0.8206 - auc: 0.9928 - val_loss: 0.3357 - val_f1Measurement: 0.2333 - val_precisionMeasurement: 0.2500 - val_recallMeasurement: 0.2188 - val_auc: 0.8478\n",
      "Epoch 94/100\n",
      "3/3 [==============================] - 0s 38ms/step - loss: 0.0401 - f1Measurement: 0.8737 - precisionMeasurement: 0.8777 - recallMeasurement: 0.8698 - auc: 0.9960 - val_loss: 0.3276 - val_f1Measurement: 0.2373 - val_precisionMeasurement: 0.2593 - val_recallMeasurement: 0.2188 - val_auc: 0.8482\n",
      "Epoch 95/100\n",
      "3/3 [==============================] - 0s 39ms/step - loss: 0.0382 - f1Measurement: 0.8810 - precisionMeasurement: 0.8925 - recallMeasurement: 0.8698 - auc: 0.9955 - val_loss: 0.3371 - val_f1Measurement: 0.2373 - val_precisionMeasurement: 0.2593 - val_recallMeasurement: 0.2188 - val_auc: 0.8239\n",
      "Epoch 96/100\n",
      "3/3 [==============================] - 0s 39ms/step - loss: 0.0384 - f1Measurement: 0.8614 - precisionMeasurement: 0.8686 - recallMeasurement: 0.8544 - auc: 0.9959 - val_loss: 0.3407 - val_f1Measurement: 0.2241 - val_precisionMeasurement: 0.2500 - val_recallMeasurement: 0.2031 - val_auc: 0.8485\n",
      "Epoch 97/100\n",
      "3/3 [==============================] - 0s 44ms/step - loss: 0.0373 - f1Measurement: 0.9233 - precisionMeasurement: 0.9355 - recallMeasurement: 0.9115 - auc: 0.9979 - val_loss: 0.3395 - val_f1Measurement: 0.2034 - val_precisionMeasurement: 0.2222 - val_recallMeasurement: 0.1875 - val_auc: 0.8536\n",
      "Epoch 98/100\n",
      "3/3 [==============================] - 0s 40ms/step - loss: 0.0355 - f1Measurement: 0.8883 - precisionMeasurement: 0.8960 - recallMeasurement: 0.8807 - auc: 0.9972 - val_loss: 0.3477 - val_f1Measurement: 0.2167 - val_precisionMeasurement: 0.2321 - val_recallMeasurement: 0.2031 - val_auc: 0.8564\n",
      "Epoch 99/100\n",
      "3/3 [==============================] - 0s 38ms/step - loss: 0.0278 - f1Measurement: 0.9042 - precisionMeasurement: 0.9042 - recallMeasurement: 0.9042 - auc: 0.9983 - val_loss: 0.3482 - val_f1Measurement: 0.7167 - val_precisionMeasurement: 0.7321 - val_recallMeasurement: 0.7031 - val_auc: 0.8590\n",
      "Epoch 100/100\n",
      "3/3 [==============================] - 0s 38ms/step - loss: 0.0467 - f1Measurement: 0.8272 - precisionMeasurement: 0.8341 - recallMeasurement: 0.8211 - auc: 0.9929 - val_loss: 0.3449 - val_f1Measurement: 0.7131 - val_precisionMeasurement: 0.7241 - val_recallMeasurement: 0.7031 - val_auc: 0.8464\n"
     ]
    },
    {
     "data": {
      "text/plain": [
       "<tensorflow.python.keras.callbacks.History at 0x7f1438113070>"
      ]
     },
     "execution_count": 10,
     "metadata": {},
     "output_type": "execute_result"
    }
   ],
   "source": [
    "# This section of the model is used to trained the convolutional neural network model. \n",
    "# This is achieved by using the fit() method from the Keras API of the TensorFlow library which \n",
    "# was imported previously. Here is where the number of epochs are declared for the model also\n",
    "CNNModel.fit(trainX, trainY, validation_data=(testX, testY), \n",
    "                epochs=100,  \n",
    "                class_weight=weightOfModel)"
   ]
  },
  {
   "cell_type": "code",
   "execution_count": 11,
   "id": "97f32f75",
   "metadata": {},
   "outputs": [
    {
     "name": "stdout",
     "output_type": "stream",
     "text": [
      "2/2 [==============================] - 0s 3ms/step - loss: 0.3449 - f1Measurement: 0.7131 - precisionMeasurement: 0.7241 - recallMeasurement: 0.7031 - auc: 0.8464\n",
      "--------------------------------------------------------------------------------------------------------------------\n",
      "2/2 [==============================] - 0s 2ms/step - loss: 0.3449 - f1Measurement: 0.7131 - precisionMeasurement: 0.7241 - recallMeasurement: 0.7031 - auc: 0.8464\n",
      "--------------------------------------------------------------------------------------------------------------------\n",
      "Final Results for The CNN Model\n",
      "F1 Accuracy of: 0.71 %\n",
      "With a Loss of: 0.34 %\n"
     ]
    }
   ],
   "source": [
    "# Evaluates the trained  model on the test data and returns the values of the  metrics\n",
    "scores = CNNModel.evaluate(testX, testY) \n",
    "print(\"--------------------------------------------------------------------------------------------------------------------\")\n",
    "\n",
    "# Evaluates the trained model on the test data and declares the loss, accuracy \n",
    "# f1_score, precision and recall\n",
    "loss, accuracy, f1_score, precision, recall = CNNModel.evaluate(testX, testY)\n",
    "print(\"--------------------------------------------------------------------------------------------------------------------\")\n",
    "\n",
    "# Used to Print the Final CNN Accuracy of the model\n",
    "print(\"Final Results for The CNN Model\")\n",
    "print(\"F1 Accuracy of: {:.2f}\".format(scores[1]),'%')    # Print Accuracy of Model\n",
    "print(\"With a Loss of: {:.2f}\".format(scores[0]),'%')    # Print Loss of Model"
   ]
  },
  {
   "cell_type": "code",
   "execution_count": null,
   "id": "a2e019da",
   "metadata": {},
   "outputs": [],
   "source": []
  }
 ],
 "metadata": {
  "kernelspec": {
   "display_name": "Python 3 (ipykernel)",
   "language": "python",
   "name": "python3"
  },
  "language_info": {
   "codemirror_mode": {
    "name": "ipython",
    "version": 3
   },
   "file_extension": ".py",
   "mimetype": "text/x-python",
   "name": "python",
   "nbconvert_exporter": "python",
   "pygments_lexer": "ipython3",
   "version": "3.9.16"
  }
 },
 "nbformat": 4,
 "nbformat_minor": 5
}
