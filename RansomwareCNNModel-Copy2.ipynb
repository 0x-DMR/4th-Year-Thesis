{
 "cells": [
  {
   "cell_type": "code",
   "execution_count": 1,
   "id": "e08d24dc",
   "metadata": {},
   "outputs": [],
   "source": [
    "import os\n",
    "os.environ['TF_XLA_FLAGS'] = '--tf_xla_enable_xla_devices'\n",
    "path_root = '/home/dmr/DatasetForExperiments/ransomware/'"
   ]
  },
  {
   "cell_type": "code",
   "execution_count": 2,
   "id": "6a45dad7",
   "metadata": {},
   "outputs": [
    {
     "name": "stderr",
     "output_type": "stream",
     "text": [
      "2023-05-02 17:32:17.262052: I tensorflow/stream_executor/platform/default/dso_loader.cc:49] Successfully opened dynamic library libcudart.so.10.1\n"
     ]
    },
    {
     "name": "stdout",
     "output_type": "stream",
     "text": [
      "Found 101 images belonging to 10 classes.\n"
     ]
    }
   ],
   "source": [
    "from keras.preprocessing.image import ImageDataGenerator\n",
    "batches = ImageDataGenerator().flow_from_directory(directory=path_root, target_size=(64,64), batch_size=10000)"
   ]
  },
  {
   "cell_type": "code",
   "execution_count": 3,
   "id": "728b8be6",
   "metadata": {},
   "outputs": [
    {
     "data": {
      "text/plain": [
       "(101, 10)"
      ]
     },
     "execution_count": 3,
     "metadata": {},
     "output_type": "execute_result"
    }
   ],
   "source": [
    "# Print information about Images \n",
    "imgs, labels = next(batches)\n",
    "imgs.shape # Images with width x length x depth\n",
    "labels.shape # Lablels with batch_size, number of classes"
   ]
  },
  {
   "cell_type": "code",
   "execution_count": 4,
   "id": "57424da2",
   "metadata": {},
   "outputs": [],
   "source": [
    "import numpy as np\n",
    "import scipy as sp\n",
    "from PIL import Image\n",
    "\n",
    "# Train and Test \n",
    "from sklearn.model_selection import train_test_split\n",
    "X_train, X_test, y_train, y_test = train_test_split(imgs/255.,labels, test_size=0.2)"
   ]
  },
  {
   "cell_type": "code",
   "execution_count": 5,
   "id": "3590200f",
   "metadata": {},
   "outputs": [
    {
     "data": {
      "text/plain": [
       "(80, 64, 64, 3)"
      ]
     },
     "execution_count": 5,
     "metadata": {},
     "output_type": "execute_result"
    }
   ],
   "source": [
    "X_train.shape"
   ]
  },
  {
   "cell_type": "code",
   "execution_count": 6,
   "id": "3db9230c",
   "metadata": {},
   "outputs": [
    {
     "data": {
      "text/plain": [
       "(21, 64, 64, 3)"
      ]
     },
     "execution_count": 6,
     "metadata": {},
     "output_type": "execute_result"
    }
   ],
   "source": [
    "X_test.shape"
   ]
  },
  {
   "cell_type": "code",
   "execution_count": 7,
   "id": "2b6ca85a",
   "metadata": {},
   "outputs": [
    {
     "data": {
      "text/plain": [
       "(80, 10)"
      ]
     },
     "execution_count": 7,
     "metadata": {},
     "output_type": "execute_result"
    }
   ],
   "source": [
    "y_train.shape"
   ]
  },
  {
   "cell_type": "code",
   "execution_count": 8,
   "id": "f5f1dec9",
   "metadata": {},
   "outputs": [
    {
     "data": {
      "text/plain": [
       "(21, 10)"
      ]
     },
     "execution_count": 8,
     "metadata": {},
     "output_type": "execute_result"
    }
   ],
   "source": [
    "y_test.shape"
   ]
  },
  {
   "cell_type": "code",
   "execution_count": 9,
   "id": "fde8f125",
   "metadata": {},
   "outputs": [],
   "source": [
    "# CNN Model"
   ]
  },
  {
   "cell_type": "code",
   "execution_count": 10,
   "id": "0f3529a9",
   "metadata": {},
   "outputs": [],
   "source": [
    "import keras\n",
    "import tensorflow\n",
    "from keras.models import Sequential, Input, Model\n",
    "from keras.layers import Dense, Dropout, Flatten\n",
    "from keras.layers import Conv2D, MaxPooling2D\n",
    "from tensorflow.keras.layers import BatchNormalization\n",
    "from tensorflow.keras.metrics import AUC"
   ]
  },
  {
   "cell_type": "code",
   "execution_count": 11,
   "id": "0401eabd",
   "metadata": {},
   "outputs": [],
   "source": [
    "num_classes = 10"
   ]
  },
  {
   "cell_type": "code",
   "execution_count": 12,
   "id": "b3593ed6",
   "metadata": {},
   "outputs": [],
   "source": [
    "def malware_model():\n",
    "    Malware_model = Sequential()\n",
    "    # Convolutional Layer : 30 filters, (3 * 3) kernel size\n",
    "    Malware_model.add(Conv2D(31, kernel_size=(3, 3),\n",
    "                     activation='relu',\n",
    "                     input_shape=(64,64,3)))\n",
    "\n",
    "    # Max Pooling Layer : (2 * 2) pool size\n",
    "    Malware_model.add(MaxPooling2D(pool_size=(2, 2)))\n",
    "    \n",
    "    #Convolutional Layer : 15 filters, (3 * 3) kernel size\n",
    "    Malware_model.add(Conv2D(17, (3, 3), activation='relu'))\n",
    "    \n",
    "    # Max Pooling Layer : (2 * 2) pool size\n",
    "    Malware_model.add(MaxPooling2D(pool_size=(2, 2)))\n",
    "    \n",
    "    # DropOut Layer : Dropping 25% of neurons.\n",
    "    Malware_model.add(Dropout(0.25))\n",
    "    \n",
    "    # Flatten Layer\n",
    "    Malware_model.add(Flatten())\n",
    "    \n",
    "    # Dense/Fully Connected Layer : 128 Neurons, Relu activation function\n",
    "    Malware_model.add(Dense(128, activation='relu'))\n",
    "    \n",
    "   # Malware_model.add(Dense(64, activation='relu'))\n",
    "    \n",
    "    # DropOut Layer : Dropping 50% of neurons.\n",
    "    Malware_model.add(Dropout(0.5))\n",
    "    \n",
    "    # Dense/Fully Connected Layer : 50 Neurons, Softmax activation function\n",
    "    Malware_model.add(Dense(50, activation='relu'))\n",
    "    \n",
    "    # Dense/Fully Connected Layer : num_class Neurons, Softmax activation function\n",
    "    Malware_model.add(Dense(num_classes, activation='softmax'))\n",
    "    \n",
    "    \n",
    "    Malware_model.compile(loss='categorical_crossentropy', optimizer = 'adam', metrics=['accuracy'])\n",
    "    return Malware_model\n",
    "\n",
    "\n",
    "    # sparse_categorical_cross_entropy\n",
    "    # categorical_crossentropy\n",
    "    "
   ]
  },
  {
   "cell_type": "code",
   "execution_count": 13,
   "id": "9a4ebf7d",
   "metadata": {},
   "outputs": [],
   "source": [
    "from keras import backend as K\n",
    "\n",
    "def recall_m(y_test, y_pred):\n",
    "    true_positives = K.sum(K.round(K.clip(y_test * y_pred, 0, 1)))\n",
    "    possible_positives = K.sum(K.round(K.clip(y_test, 0, 1)))\n",
    "    recall = true_positives / (possible_positives + K.epsilon())\n",
    "    return recall\n",
    "\n",
    "def precision_m(y_test, y_pred):\n",
    "    true_positives = K.sum(K.round(K.clip(y_test * y_pred, 0, 1)))\n",
    "    predicted_positives = K.sum(K.round(K.clip(y_pred, 0, 1)))\n",
    "    precision = true_positives / (predicted_positives + K.epsilon())\n",
    "    return precision\n",
    "\n",
    "def f1_m(y_test, y_pred):\n",
    "    precision = precision_m(y_test, y_pred)\n",
    "    recall = recall_m(y_test, y_pred)\n",
    "    return 2*((precision*recall)/(precision+recall+K.epsilon()))"
   ]
  },
  {
   "cell_type": "code",
   "execution_count": 14,
   "id": "c1e2abbc",
   "metadata": {},
   "outputs": [
    {
     "name": "stderr",
     "output_type": "stream",
     "text": [
      "2023-05-02 17:32:19.132689: I tensorflow/stream_executor/platform/default/dso_loader.cc:49] Successfully opened dynamic library libcuda.so.1\n",
      "2023-05-02 17:32:19.402141: E tensorflow/stream_executor/cuda/cuda_driver.cc:328] failed call to cuInit: CUDA_ERROR_NO_DEVICE: no CUDA-capable device is detected\n",
      "2023-05-02 17:32:19.402160: I tensorflow/stream_executor/cuda/cuda_diagnostics.cc:156] kernel driver does not appear to be running on this host (pop-os): /proc/driver/nvidia/version does not exist\n",
      "2023-05-02 17:32:19.402415: I tensorflow/core/platform/cpu_feature_guard.cc:142] This TensorFlow binary is optimized with oneAPI Deep Neural Network Library (oneDNN) to use the following CPU instructions in performance-critical operations:  SSE4.1 SSE4.2 AVX AVX2 FMA\n",
      "To enable them in other operations, rebuild TensorFlow with the appropriate compiler flags.\n",
      "2023-05-02 17:32:19.410391: I tensorflow/core/platform/profile_utils/cpu_utils.cc:112] CPU Frequency: 1999965000 Hz\n",
      "2023-05-02 17:32:19.411144: I tensorflow/compiler/xla/service/service.cc:168] XLA service 0x2420f10 initialized for platform Host (this does not guarantee that XLA will be used). Devices:\n",
      "2023-05-02 17:32:19.411183: I tensorflow/compiler/xla/service/service.cc:176]   StreamExecutor device (0): Host, Default Version\n"
     ]
    }
   ],
   "source": [
    "Malware_model = malware_model()"
   ]
  },
  {
   "cell_type": "code",
   "execution_count": 15,
   "id": "bcb1d474",
   "metadata": {},
   "outputs": [
    {
     "name": "stdout",
     "output_type": "stream",
     "text": [
      "Model: \"sequential\"\n",
      "_________________________________________________________________\n",
      "Layer (type)                 Output Shape              Param #   \n",
      "=================================================================\n",
      "conv2d (Conv2D)              (None, 62, 62, 31)        868       \n",
      "_________________________________________________________________\n",
      "max_pooling2d (MaxPooling2D) (None, 31, 31, 31)        0         \n",
      "_________________________________________________________________\n",
      "conv2d_1 (Conv2D)            (None, 29, 29, 17)        4760      \n",
      "_________________________________________________________________\n",
      "max_pooling2d_1 (MaxPooling2 (None, 14, 14, 17)        0         \n",
      "_________________________________________________________________\n",
      "dropout (Dropout)            (None, 14, 14, 17)        0         \n",
      "_________________________________________________________________\n",
      "flatten (Flatten)            (None, 3332)              0         \n",
      "_________________________________________________________________\n",
      "dense (Dense)                (None, 128)               426624    \n",
      "_________________________________________________________________\n",
      "dropout_1 (Dropout)          (None, 128)               0         \n",
      "_________________________________________________________________\n",
      "dense_1 (Dense)              (None, 50)                6450      \n",
      "_________________________________________________________________\n",
      "dense_2 (Dense)              (None, 10)                510       \n",
      "=================================================================\n",
      "Total params: 439,212\n",
      "Trainable params: 439,212\n",
      "Non-trainable params: 0\n",
      "_________________________________________________________________\n"
     ]
    }
   ],
   "source": [
    "Malware_model.summary()"
   ]
  },
  {
   "cell_type": "code",
   "execution_count": 16,
   "id": "9e8d69b6",
   "metadata": {},
   "outputs": [
    {
     "data": {
      "text/plain": [
       "(80, 10)"
      ]
     },
     "execution_count": 16,
     "metadata": {},
     "output_type": "execute_result"
    }
   ],
   "source": [
    "y_train.shape"
   ]
  },
  {
   "cell_type": "code",
   "execution_count": 17,
   "id": "6711d2f9",
   "metadata": {},
   "outputs": [],
   "source": [
    "y_train_new = np.argmax(y_train, axis=1)"
   ]
  },
  {
   "cell_type": "code",
   "execution_count": 18,
   "id": "838a6a56",
   "metadata": {},
   "outputs": [
    {
     "data": {
      "text/plain": [
       "array([4, 9, 8, 0, 0, 1, 8, 5, 9, 3, 2, 9, 8, 3, 3, 7, 1, 7, 1, 5, 2, 1,\n",
       "       0, 1, 3, 9, 6, 3, 7, 5, 4, 2, 6, 8, 6, 7, 3, 9, 8, 7, 2, 7, 5, 8,\n",
       "       9, 6, 4, 7, 8, 3, 9, 4, 5, 0, 0, 5, 5, 1, 0, 4, 4, 2, 8, 2, 0, 3,\n",
       "       9, 6, 5, 3, 7, 7, 4, 8, 6, 3, 4, 0, 7, 1])"
      ]
     },
     "execution_count": 18,
     "metadata": {},
     "output_type": "execute_result"
    }
   ],
   "source": [
    "y_train_new"
   ]
  },
  {
   "cell_type": "code",
   "execution_count": 19,
   "id": "e5fccc6d",
   "metadata": {},
   "outputs": [],
   "source": [
    "from sklearn.utils import class_weight\n",
    "class_weights = class_weight.compute_class_weight(class_weight = 'balanced',\n",
    "                                                 classes = np.unique(y_train_new),\n",
    "                                                 y = y_train_new)\n",
    "\n",
    "class_weights = {l:c for l,c in zip(np.unique(y_train_new), class_weights)}"
   ]
  },
  {
   "cell_type": "code",
   "execution_count": 20,
   "id": "a62f070a",
   "metadata": {},
   "outputs": [],
   "source": [
    "Malware_model.compile(optimizer='adam', loss='binary_crossentropy', metrics=[f1_m,precision_m, recall_m,AUC()])"
   ]
  },
  {
   "cell_type": "code",
   "execution_count": 21,
   "id": "f8c8523a",
   "metadata": {
    "scrolled": false
   },
   "outputs": [
    {
     "name": "stderr",
     "output_type": "stream",
     "text": [
      "2023-05-02 17:32:19.602038: I tensorflow/compiler/mlir/mlir_graph_optimization_pass.cc:116] None of the MLIR optimization passes are enabled (registered 2)\n"
     ]
    },
    {
     "name": "stdout",
     "output_type": "stream",
     "text": [
      "Epoch 1/100\n",
      "3/3 [==============================] - 2s 313ms/step - loss: 0.7175 - f1_m: 0.0000e+00 - precision_m: 0.0000e+00 - recall_m: 0.0000e+00 - auc: 0.4878 - val_loss: 0.5816 - val_f1_m: 0.0000e+00 - val_precision_m: 0.0000e+00 - val_recall_m: 0.0000e+00 - val_auc: 0.4544\n",
      "Epoch 2/100\n",
      "3/3 [==============================] - 0s 54ms/step - loss: 0.5862 - f1_m: 0.0000e+00 - precision_m: 0.0000e+00 - recall_m: 0.0000e+00 - auc: 0.4881 - val_loss: 0.4668 - val_f1_m: 0.0000e+00 - val_precision_m: 0.0000e+00 - val_recall_m: 0.0000e+00 - val_auc: 0.4429\n",
      "Epoch 3/100\n",
      "3/3 [==============================] - 0s 65ms/step - loss: 0.4743 - f1_m: 0.0000e+00 - precision_m: 0.0000e+00 - recall_m: 0.0000e+00 - auc: 0.5180 - val_loss: 0.4024 - val_f1_m: 0.0000e+00 - val_precision_m: 0.0000e+00 - val_recall_m: 0.0000e+00 - val_auc: 0.4764\n",
      "Epoch 4/100\n",
      "3/3 [==============================] - 0s 63ms/step - loss: 0.4539 - f1_m: 0.0542 - precision_m: 0.1354 - recall_m: 0.0339 - auc: 0.5064 - val_loss: 0.3556 - val_f1_m: 0.0000e+00 - val_precision_m: 0.0000e+00 - val_recall_m: 0.0000e+00 - val_auc: 0.5205\n",
      "Epoch 5/100\n",
      "3/3 [==============================] - 0s 65ms/step - loss: 0.4081 - f1_m: 0.0271 - precision_m: 0.0677 - recall_m: 0.0169 - auc: 0.5525 - val_loss: 0.3288 - val_f1_m: 0.0000e+00 - val_precision_m: 0.0000e+00 - val_recall_m: 0.0000e+00 - val_auc: 0.5928\n",
      "Epoch 6/100\n",
      "3/3 [==============================] - 0s 56ms/step - loss: 0.3885 - f1_m: 0.0175 - precision_m: 0.0556 - recall_m: 0.0104 - auc: 0.5422 - val_loss: 0.3205 - val_f1_m: 0.0000e+00 - val_precision_m: 0.0000e+00 - val_recall_m: 0.0000e+00 - val_auc: 0.6565\n",
      "Epoch 7/100\n",
      "3/3 [==============================] - 0s 55ms/step - loss: 0.3657 - f1_m: 0.0328 - precision_m: 0.5417 - recall_m: 0.0169 - auc: 0.5692 - val_loss: 0.3166 - val_f1_m: 0.0000e+00 - val_precision_m: 0.0000e+00 - val_recall_m: 0.0000e+00 - val_auc: 0.6682\n",
      "Epoch 8/100\n",
      "3/3 [==============================] - 0s 48ms/step - loss: 0.3585 - f1_m: 0.0000e+00 - precision_m: 0.0000e+00 - recall_m: 0.0000e+00 - auc: 0.5434 - val_loss: 0.3130 - val_f1_m: 0.0000e+00 - val_precision_m: 0.0000e+00 - val_recall_m: 0.0000e+00 - val_auc: 0.6992\n",
      "Epoch 9/100\n",
      "3/3 [==============================] - 0s 52ms/step - loss: 0.3609 - f1_m: 0.0000e+00 - precision_m: 0.0000e+00 - recall_m: 0.0000e+00 - auc: 0.5524 - val_loss: 0.3096 - val_f1_m: 0.0000e+00 - val_precision_m: 0.0000e+00 - val_recall_m: 0.0000e+00 - val_auc: 0.7139\n",
      "Epoch 10/100\n",
      "3/3 [==============================] - 0s 67ms/step - loss: 0.3455 - f1_m: 0.0000e+00 - precision_m: 0.0000e+00 - recall_m: 0.0000e+00 - auc: 0.6109 - val_loss: 0.3075 - val_f1_m: 0.0000e+00 - val_precision_m: 0.0000e+00 - val_recall_m: 0.0000e+00 - val_auc: 0.7216\n",
      "Epoch 11/100\n",
      "3/3 [==============================] - 0s 63ms/step - loss: 0.3506 - f1_m: 0.0000e+00 - precision_m: 0.0000e+00 - recall_m: 0.0000e+00 - auc: 0.5342 - val_loss: 0.3049 - val_f1_m: 0.0000e+00 - val_precision_m: 0.0000e+00 - val_recall_m: 0.0000e+00 - val_auc: 0.7339\n",
      "Epoch 12/100\n",
      "3/3 [==============================] - 0s 60ms/step - loss: 0.3495 - f1_m: 0.0000e+00 - precision_m: 0.0000e+00 - recall_m: 0.0000e+00 - auc: 0.5645 - val_loss: 0.3037 - val_f1_m: 0.0000e+00 - val_precision_m: 0.0000e+00 - val_recall_m: 0.0000e+00 - val_auc: 0.7812\n",
      "Epoch 13/100\n",
      "3/3 [==============================] - 0s 66ms/step - loss: 0.3226 - f1_m: 0.0000e+00 - precision_m: 0.0000e+00 - recall_m: 0.0000e+00 - auc: 0.6621 - val_loss: 0.2955 - val_f1_m: 0.0000e+00 - val_precision_m: 0.0000e+00 - val_recall_m: 0.0000e+00 - val_auc: 0.8041\n",
      "Epoch 14/100\n",
      "3/3 [==============================] - 0s 65ms/step - loss: 0.3261 - f1_m: 0.0000e+00 - precision_m: 0.0000e+00 - recall_m: 0.0000e+00 - auc: 0.6744 - val_loss: 0.2838 - val_f1_m: 0.0000e+00 - val_precision_m: 0.0000e+00 - val_recall_m: 0.0000e+00 - val_auc: 0.8482\n",
      "Epoch 15/100\n",
      "3/3 [==============================] - 0s 62ms/step - loss: 0.3069 - f1_m: 0.0000e+00 - precision_m: 0.0000e+00 - recall_m: 0.0000e+00 - auc: 0.7323 - val_loss: 0.2751 - val_f1_m: 0.0000e+00 - val_precision_m: 0.0000e+00 - val_recall_m: 0.0000e+00 - val_auc: 0.8832\n",
      "Epoch 16/100\n",
      "3/3 [==============================] - 0s 46ms/step - loss: 0.3088 - f1_m: 0.0000e+00 - precision_m: 0.0000e+00 - recall_m: 0.0000e+00 - auc: 0.7208 - val_loss: 0.2683 - val_f1_m: 0.0000e+00 - val_precision_m: 0.0000e+00 - val_recall_m: 0.0000e+00 - val_auc: 0.8970\n",
      "Epoch 17/100\n",
      "3/3 [==============================] - 0s 47ms/step - loss: 0.3052 - f1_m: 0.0000e+00 - precision_m: 0.0000e+00 - recall_m: 0.0000e+00 - auc: 0.7286 - val_loss: 0.2623 - val_f1_m: 0.0000e+00 - val_precision_m: 0.0000e+00 - val_recall_m: 0.0000e+00 - val_auc: 0.9070\n",
      "Epoch 18/100\n",
      "3/3 [==============================] - 0s 45ms/step - loss: 0.2817 - f1_m: 0.0505 - precision_m: 0.8333 - recall_m: 0.0260 - auc: 0.8090 - val_loss: 0.2557 - val_f1_m: 0.0000e+00 - val_precision_m: 0.0000e+00 - val_recall_m: 0.0000e+00 - val_auc: 0.9005\n",
      "Epoch 19/100\n",
      "3/3 [==============================] - 0s 49ms/step - loss: 0.2967 - f1_m: 0.0373 - precision_m: 0.4583 - recall_m: 0.0195 - auc: 0.7650 - val_loss: 0.2497 - val_f1_m: 0.0000e+00 - val_precision_m: 0.0000e+00 - val_recall_m: 0.0000e+00 - val_auc: 0.9116\n",
      "Epoch 20/100\n",
      "3/3 [==============================] - 0s 59ms/step - loss: 0.2712 - f1_m: 0.0637 - precision_m: 0.5417 - recall_m: 0.0339 - auc: 0.8326 - val_loss: 0.2409 - val_f1_m: 0.0000e+00 - val_precision_m: 0.0000e+00 - val_recall_m: 0.0000e+00 - val_auc: 0.9242\n",
      "Epoch 21/100\n",
      "3/3 [==============================] - 0s 66ms/step - loss: 0.2805 - f1_m: 0.0858 - precision_m: 0.9028 - recall_m: 0.0456 - auc: 0.8060 - val_loss: 0.2354 - val_f1_m: 0.0000e+00 - val_precision_m: 0.0000e+00 - val_recall_m: 0.0000e+00 - val_auc: 0.9276\n",
      "Epoch 22/100\n",
      "3/3 [==============================] - 0s 66ms/step - loss: 0.2556 - f1_m: 0.1622 - precision_m: 0.9028 - recall_m: 0.0911 - auc: 0.8718 - val_loss: 0.2230 - val_f1_m: 0.0000e+00 - val_precision_m: 0.0000e+00 - val_recall_m: 0.0000e+00 - val_auc: 0.9331\n",
      "Epoch 23/100\n",
      "3/3 [==============================] - 0s 77ms/step - loss: 0.2405 - f1_m: 0.2490 - precision_m: 0.8646 - recall_m: 0.1471 - auc: 0.9039 - val_loss: 0.2119 - val_f1_m: 0.6000 - val_precision_m: 1.0000 - val_recall_m: 0.4286 - val_auc: 0.9381\n",
      "Epoch 24/100\n",
      "3/3 [==============================] - 0s 61ms/step - loss: 0.2542 - f1_m: 0.2490 - precision_m: 0.8646 - recall_m: 0.1471 - auc: 0.8454 - val_loss: 0.2023 - val_f1_m: 0.6000 - val_precision_m: 1.0000 - val_recall_m: 0.4286 - val_auc: 0.9452\n",
      "Epoch 25/100\n",
      "3/3 [==============================] - 0s 59ms/step - loss: 0.2397 - f1_m: 0.2679 - precision_m: 0.8354 - recall_m: 0.1641 - auc: 0.8765 - val_loss: 0.1937 - val_f1_m: 0.6875 - val_precision_m: 1.0000 - val_recall_m: 0.5238 - val_auc: 0.9541\n",
      "Epoch 26/100\n",
      "3/3 [==============================] - 0s 59ms/step - loss: 0.2331 - f1_m: 0.4174 - precision_m: 0.8972 - recall_m: 0.2747 - auc: 0.8896 - val_loss: 0.1873 - val_f1_m: 0.6875 - val_precision_m: 1.0000 - val_recall_m: 0.5238 - val_auc: 0.9549\n",
      "Epoch 27/100\n",
      "3/3 [==============================] - 0s 65ms/step - loss: 0.2016 - f1_m: 0.5125 - precision_m: 0.9352 - recall_m: 0.3724 - auc: 0.9349 - val_loss: 0.1868 - val_f1_m: 0.6000 - val_precision_m: 1.0000 - val_recall_m: 0.4286 - val_auc: 0.9654\n",
      "Epoch 28/100\n",
      "3/3 [==============================] - 0s 62ms/step - loss: 0.2098 - f1_m: 0.4912 - precision_m: 0.8257 - recall_m: 0.3542 - auc: 0.9146 - val_loss: 0.1908 - val_f1_m: 0.6000 - val_precision_m: 1.0000 - val_recall_m: 0.4286 - val_auc: 0.9497\n",
      "Epoch 29/100\n",
      "3/3 [==============================] - 0s 60ms/step - loss: 0.1980 - f1_m: 0.5951 - precision_m: 0.9167 - recall_m: 0.4466 - auc: 0.9423 - val_loss: 0.2013 - val_f1_m: 0.6452 - val_precision_m: 1.0000 - val_recall_m: 0.4762 - val_auc: 0.9303\n",
      "Epoch 30/100\n",
      "3/3 [==============================] - 0s 54ms/step - loss: 0.1904 - f1_m: 0.5187 - precision_m: 0.7554 - recall_m: 0.3971 - auc: 0.9330 - val_loss: 0.1798 - val_f1_m: 0.6452 - val_precision_m: 1.0000 - val_recall_m: 0.4762 - val_auc: 0.9505\n",
      "Epoch 31/100\n"
     ]
    },
    {
     "name": "stdout",
     "output_type": "stream",
     "text": [
      "3/3 [==============================] - 0s 51ms/step - loss: 0.2055 - f1_m: 0.5379 - precision_m: 0.7964 - recall_m: 0.4062 - auc: 0.9170 - val_loss: 0.1716 - val_f1_m: 0.6000 - val_precision_m: 1.0000 - val_recall_m: 0.4286 - val_auc: 0.9690\n",
      "Epoch 32/100\n",
      "3/3 [==============================] - 0s 63ms/step - loss: 0.1834 - f1_m: 0.5819 - precision_m: 0.8065 - recall_m: 0.4570 - auc: 0.9552 - val_loss: 0.1605 - val_f1_m: 0.6452 - val_precision_m: 1.0000 - val_recall_m: 0.4762 - val_auc: 0.9762\n",
      "Epoch 33/100\n",
      "3/3 [==============================] - 0s 58ms/step - loss: 0.1795 - f1_m: 0.6222 - precision_m: 0.8471 - recall_m: 0.4948 - auc: 0.9531 - val_loss: 0.1560 - val_f1_m: 0.7273 - val_precision_m: 1.0000 - val_recall_m: 0.5714 - val_auc: 0.9763\n",
      "Epoch 34/100\n",
      "3/3 [==============================] - 0s 66ms/step - loss: 0.1763 - f1_m: 0.6305 - precision_m: 0.8282 - recall_m: 0.5104 - auc: 0.9484 - val_loss: 0.1578 - val_f1_m: 0.6667 - val_precision_m: 0.9167 - val_recall_m: 0.5238 - val_auc: 0.9678\n",
      "Epoch 35/100\n",
      "3/3 [==============================] - 0s 67ms/step - loss: 0.1616 - f1_m: 0.6601 - precision_m: 0.8768 - recall_m: 0.5312 - auc: 0.9577 - val_loss: 0.1579 - val_f1_m: 0.7273 - val_precision_m: 1.0000 - val_recall_m: 0.5714 - val_auc: 0.9612\n",
      "Epoch 36/100\n",
      "3/3 [==============================] - 0s 57ms/step - loss: 0.1539 - f1_m: 0.6755 - precision_m: 0.8760 - recall_m: 0.5599 - auc: 0.9690 - val_loss: 0.1645 - val_f1_m: 0.7059 - val_precision_m: 0.9231 - val_recall_m: 0.5714 - val_auc: 0.9494\n",
      "Epoch 37/100\n",
      "3/3 [==============================] - 0s 51ms/step - loss: 0.1458 - f1_m: 0.7664 - precision_m: 0.9715 - recall_m: 0.6367 - auc: 0.9755 - val_loss: 0.1624 - val_f1_m: 0.7429 - val_precision_m: 0.9286 - val_recall_m: 0.6190 - val_auc: 0.9511\n",
      "Epoch 38/100\n",
      "3/3 [==============================] - 0s 53ms/step - loss: 0.1181 - f1_m: 0.8325 - precision_m: 0.9589 - recall_m: 0.7370 - auc: 0.9887 - val_loss: 0.1530 - val_f1_m: 0.7429 - val_precision_m: 0.9286 - val_recall_m: 0.6190 - val_auc: 0.9565\n",
      "Epoch 39/100\n",
      "3/3 [==============================] - 0s 62ms/step - loss: 0.1349 - f1_m: 0.8024 - precision_m: 0.9276 - recall_m: 0.7148 - auc: 0.9824 - val_loss: 0.1460 - val_f1_m: 0.7059 - val_precision_m: 0.9231 - val_recall_m: 0.5714 - val_auc: 0.9640\n",
      "Epoch 40/100\n",
      "3/3 [==============================] - 0s 66ms/step - loss: 0.1473 - f1_m: 0.7317 - precision_m: 0.8314 - recall_m: 0.6562 - auc: 0.9697 - val_loss: 0.1447 - val_f1_m: 0.7429 - val_precision_m: 0.9286 - val_recall_m: 0.6190 - val_auc: 0.9642\n",
      "Epoch 41/100\n",
      "3/3 [==============================] - 0s 57ms/step - loss: 0.1123 - f1_m: 0.8428 - precision_m: 0.9448 - recall_m: 0.7630 - auc: 0.9924 - val_loss: 0.1485 - val_f1_m: 0.7027 - val_precision_m: 0.8125 - val_recall_m: 0.6190 - val_auc: 0.9597\n",
      "Epoch 42/100\n",
      "3/3 [==============================] - 0s 56ms/step - loss: 0.1072 - f1_m: 0.8616 - precision_m: 0.9389 - recall_m: 0.7969 - auc: 0.9919 - val_loss: 0.1525 - val_f1_m: 0.6667 - val_precision_m: 0.8000 - val_recall_m: 0.5714 - val_auc: 0.9569\n",
      "Epoch 43/100\n",
      "3/3 [==============================] - 0s 56ms/step - loss: 0.0977 - f1_m: 0.8573 - precision_m: 0.9381 - recall_m: 0.7930 - auc: 0.9952 - val_loss: 0.1488 - val_f1_m: 0.6486 - val_precision_m: 0.7500 - val_recall_m: 0.5714 - val_auc: 0.9548\n",
      "Epoch 44/100\n",
      "3/3 [==============================] - 0s 57ms/step - loss: 0.1011 - f1_m: 0.8687 - precision_m: 0.9259 - recall_m: 0.8190 - auc: 0.9925 - val_loss: 0.1405 - val_f1_m: 0.7429 - val_precision_m: 0.9286 - val_recall_m: 0.6190 - val_auc: 0.9620\n",
      "Epoch 45/100\n",
      "3/3 [==============================] - 0s 54ms/step - loss: 0.0893 - f1_m: 0.9023 - precision_m: 0.9515 - recall_m: 0.8581 - auc: 0.9947 - val_loss: 0.1474 - val_f1_m: 0.7179 - val_precision_m: 0.7778 - val_recall_m: 0.6667 - val_auc: 0.9458\n",
      "Epoch 46/100\n",
      "3/3 [==============================] - 0s 52ms/step - loss: 0.0808 - f1_m: 0.9007 - precision_m: 0.9493 - recall_m: 0.8581 - auc: 0.9962 - val_loss: 0.1483 - val_f1_m: 0.6667 - val_precision_m: 0.7222 - val_recall_m: 0.6190 - val_auc: 0.9615\n",
      "Epoch 47/100\n",
      "3/3 [==============================] - 0s 53ms/step - loss: 0.0808 - f1_m: 0.8908 - precision_m: 0.9238 - recall_m: 0.8607 - auc: 0.9966 - val_loss: 0.1433 - val_f1_m: 0.6667 - val_precision_m: 0.8000 - val_recall_m: 0.5714 - val_auc: 0.9612\n",
      "Epoch 48/100\n",
      "3/3 [==============================] - 0s 51ms/step - loss: 0.0640 - f1_m: 0.9701 - precision_m: 0.9903 - recall_m: 0.9518 - auc: 0.9991 - val_loss: 0.1407 - val_f1_m: 0.7568 - val_precision_m: 0.8750 - val_recall_m: 0.6667 - val_auc: 0.9461\n",
      "Epoch 49/100\n",
      "3/3 [==============================] - 0s 54ms/step - loss: 0.0812 - f1_m: 0.9400 - precision_m: 0.9899 - recall_m: 0.8958 - auc: 0.9976 - val_loss: 0.1471 - val_f1_m: 0.7500 - val_precision_m: 0.7895 - val_recall_m: 0.7143 - val_auc: 0.9434\n",
      "Epoch 50/100\n",
      "3/3 [==============================] - 0s 52ms/step - loss: 0.0662 - f1_m: 0.9327 - precision_m: 0.9460 - recall_m: 0.9206 - auc: 0.9984 - val_loss: 0.1565 - val_f1_m: 0.6667 - val_precision_m: 0.7222 - val_recall_m: 0.6190 - val_auc: 0.9428\n",
      "Epoch 51/100\n",
      "3/3 [==============================] - 0s 51ms/step - loss: 0.0680 - f1_m: 0.9249 - precision_m: 0.9294 - recall_m: 0.9206 - auc: 0.9952 - val_loss: 0.1455 - val_f1_m: 0.7000 - val_precision_m: 0.7368 - val_recall_m: 0.6667 - val_auc: 0.9661\n",
      "Epoch 52/100\n",
      "3/3 [==============================] - 0s 51ms/step - loss: 0.0684 - f1_m: 0.9121 - precision_m: 0.9531 - recall_m: 0.8750 - auc: 0.9966 - val_loss: 0.1415 - val_f1_m: 0.6500 - val_precision_m: 0.6842 - val_recall_m: 0.6190 - val_auc: 0.9701\n",
      "Epoch 53/100\n",
      "3/3 [==============================] - 0s 55ms/step - loss: 0.0581 - f1_m: 0.9726 - precision_m: 0.9903 - recall_m: 0.9557 - auc: 0.9993 - val_loss: 0.1363 - val_f1_m: 0.6667 - val_precision_m: 0.7222 - val_recall_m: 0.6190 - val_auc: 0.9735\n",
      "Epoch 54/100\n",
      "3/3 [==============================] - 0s 57ms/step - loss: 0.0500 - f1_m: 0.9861 - precision_m: 0.9906 - recall_m: 0.9818 - auc: 0.9997 - val_loss: 0.1457 - val_f1_m: 0.6667 - val_precision_m: 0.8000 - val_recall_m: 0.5714 - val_auc: 0.9656\n",
      "Epoch 55/100\n",
      "3/3 [==============================] - 0s 55ms/step - loss: 0.0634 - f1_m: 0.9207 - precision_m: 0.9417 - recall_m: 0.9010 - auc: 0.9985 - val_loss: 0.1543 - val_f1_m: 0.7368 - val_precision_m: 0.8235 - val_recall_m: 0.6667 - val_auc: 0.9617\n",
      "Epoch 56/100\n",
      "3/3 [==============================] - 0s 60ms/step - loss: 0.0555 - f1_m: 0.9517 - precision_m: 0.9621 - recall_m: 0.9427 - auc: 0.9990 - val_loss: 0.1601 - val_f1_m: 0.7692 - val_precision_m: 0.8333 - val_recall_m: 0.7143 - val_auc: 0.9404\n",
      "Epoch 57/100\n",
      "3/3 [==============================] - 0s 54ms/step - loss: 0.0480 - f1_m: 0.9579 - precision_m: 0.9799 - recall_m: 0.9375 - auc: 0.9992 - val_loss: 0.1850 - val_f1_m: 0.7000 - val_precision_m: 0.7368 - val_recall_m: 0.6667 - val_auc: 0.9438\n",
      "Epoch 58/100\n",
      "3/3 [==============================] - 0s 50ms/step - loss: 0.0588 - f1_m: 0.9427 - precision_m: 0.9651 - recall_m: 0.9219 - auc: 0.9982 - val_loss: 0.1649 - val_f1_m: 0.7317 - val_precision_m: 0.7500 - val_recall_m: 0.7143 - val_auc: 0.9448\n",
      "Epoch 59/100\n",
      "3/3 [==============================] - 0s 65ms/step - loss: 0.0536 - f1_m: 0.9495 - precision_m: 0.9538 - recall_m: 0.9453 - auc: 0.9965 - val_loss: 0.1443 - val_f1_m: 0.7143 - val_precision_m: 0.7143 - val_recall_m: 0.7143 - val_auc: 0.9655\n",
      "Epoch 60/100\n",
      "3/3 [==============================] - 0s 69ms/step - loss: 0.0417 - f1_m: 0.9900 - precision_m: 1.0000 - recall_m: 0.9805 - auc: 1.0000 - val_loss: 0.1398 - val_f1_m: 0.7895 - val_precision_m: 0.8824 - val_recall_m: 0.7143 - val_auc: 0.9699\n",
      "Epoch 61/100\n",
      "3/3 [==============================] - 0s 59ms/step - loss: 0.0496 - f1_m: 0.9682 - precision_m: 1.0000 - recall_m: 0.9388 - auc: 0.9992 - val_loss: 0.1419 - val_f1_m: 0.7805 - val_precision_m: 0.8000 - val_recall_m: 0.7619 - val_auc: 0.9709\n",
      "Epoch 62/100\n",
      "3/3 [==============================] - 0s 63ms/step - loss: 0.0360 - f1_m: 0.9719 - precision_m: 0.9805 - recall_m: 0.9635 - auc: 0.9995 - val_loss: 0.1555 - val_f1_m: 0.7619 - val_precision_m: 0.7619 - val_recall_m: 0.7619 - val_auc: 0.9495\n",
      "Epoch 63/100\n"
     ]
    },
    {
     "name": "stdout",
     "output_type": "stream",
     "text": [
      "3/3 [==============================] - 0s 58ms/step - loss: 0.0396 - f1_m: 0.9717 - precision_m: 1.0000 - recall_m: 0.9453 - auc: 0.9993 - val_loss: 0.1738 - val_f1_m: 0.7500 - val_precision_m: 0.7895 - val_recall_m: 0.7143 - val_auc: 0.9458\n",
      "Epoch 64/100\n",
      "3/3 [==============================] - 0s 63ms/step - loss: 0.0332 - f1_m: 0.9909 - precision_m: 0.9909 - recall_m: 0.9909 - auc: 0.9999 - val_loss: 0.1884 - val_f1_m: 0.7368 - val_precision_m: 0.8235 - val_recall_m: 0.6667 - val_auc: 0.9418\n",
      "Epoch 65/100\n",
      "3/3 [==============================] - 0s 67ms/step - loss: 0.0379 - f1_m: 0.9726 - precision_m: 0.9903 - recall_m: 0.9557 - auc: 0.9996 - val_loss: 0.1905 - val_f1_m: 0.6829 - val_precision_m: 0.7000 - val_recall_m: 0.6667 - val_auc: 0.9418\n",
      "Epoch 66/100\n",
      "3/3 [==============================] - 0s 63ms/step - loss: 0.0341 - f1_m: 0.9850 - precision_m: 0.9896 - recall_m: 0.9805 - auc: 0.9999 - val_loss: 0.1774 - val_f1_m: 0.6829 - val_precision_m: 0.7000 - val_recall_m: 0.6667 - val_auc: 0.9395\n",
      "Epoch 67/100\n",
      "3/3 [==============================] - 0s 55ms/step - loss: 0.0365 - f1_m: 0.9686 - precision_m: 0.9740 - recall_m: 0.9635 - auc: 0.9993 - val_loss: 0.1731 - val_f1_m: 0.7317 - val_precision_m: 0.7500 - val_recall_m: 0.7143 - val_auc: 0.9441\n",
      "Epoch 68/100\n",
      "3/3 [==============================] - 0s 54ms/step - loss: 0.0308 - f1_m: 0.9635 - precision_m: 0.9635 - recall_m: 0.9635 - auc: 0.9997 - val_loss: 0.1613 - val_f1_m: 0.7143 - val_precision_m: 0.7143 - val_recall_m: 0.7143 - val_auc: 0.9487\n",
      "Epoch 69/100\n",
      "3/3 [==============================] - 0s 56ms/step - loss: 0.0346 - f1_m: 0.9651 - precision_m: 0.9819 - recall_m: 0.9492 - auc: 0.9997 - val_loss: 0.1482 - val_f1_m: 0.7619 - val_precision_m: 0.7619 - val_recall_m: 0.7619 - val_auc: 0.9535\n",
      "Epoch 70/100\n",
      "3/3 [==============================] - 0s 57ms/step - loss: 0.0257 - f1_m: 0.9868 - precision_m: 1.0000 - recall_m: 0.9740 - auc: 1.0000 - val_loss: 0.1481 - val_f1_m: 0.7619 - val_precision_m: 0.7619 - val_recall_m: 0.7619 - val_auc: 0.9530\n",
      "Epoch 71/100\n",
      "3/3 [==============================] - 0s 55ms/step - loss: 0.0229 - f1_m: 0.9914 - precision_m: 1.0000 - recall_m: 0.9831 - auc: 0.9999 - val_loss: 0.1545 - val_f1_m: 0.7619 - val_precision_m: 0.7619 - val_recall_m: 0.7619 - val_auc: 0.9523\n",
      "Epoch 72/100\n",
      "3/3 [==============================] - 0s 56ms/step - loss: 0.0278 - f1_m: 0.9909 - precision_m: 0.9909 - recall_m: 0.9909 - auc: 1.0000 - val_loss: 0.1765 - val_f1_m: 0.7619 - val_precision_m: 0.7619 - val_recall_m: 0.7619 - val_auc: 0.9506\n",
      "Epoch 73/100\n",
      "3/3 [==============================] - 0s 61ms/step - loss: 0.0332 - f1_m: 0.9775 - precision_m: 0.9906 - recall_m: 0.9648 - auc: 0.9998 - val_loss: 0.1976 - val_f1_m: 0.7143 - val_precision_m: 0.7143 - val_recall_m: 0.7143 - val_auc: 0.9478\n",
      "Epoch 74/100\n",
      "3/3 [==============================] - 0s 66ms/step - loss: 0.0219 - f1_m: 0.9909 - precision_m: 0.9909 - recall_m: 0.9909 - auc: 0.9999 - val_loss: 0.2019 - val_f1_m: 0.7143 - val_precision_m: 0.7143 - val_recall_m: 0.7143 - val_auc: 0.9446\n",
      "Epoch 75/100\n",
      "3/3 [==============================] - 0s 57ms/step - loss: 0.0173 - f1_m: 1.0000 - precision_m: 1.0000 - recall_m: 1.0000 - auc: 1.0000 - val_loss: 0.2077 - val_f1_m: 0.7143 - val_precision_m: 0.7143 - val_recall_m: 0.7143 - val_auc: 0.9434\n",
      "Epoch 76/100\n",
      "3/3 [==============================] - 0s 53ms/step - loss: 0.0182 - f1_m: 0.9909 - precision_m: 0.9909 - recall_m: 0.9909 - auc: 1.0000 - val_loss: 0.2220 - val_f1_m: 0.7143 - val_precision_m: 0.7143 - val_recall_m: 0.7143 - val_auc: 0.9194\n",
      "Epoch 77/100\n",
      "3/3 [==============================] - 0s 59ms/step - loss: 0.0290 - f1_m: 0.9740 - precision_m: 0.9740 - recall_m: 0.9740 - auc: 0.9998 - val_loss: 0.2308 - val_f1_m: 0.7143 - val_precision_m: 0.7143 - val_recall_m: 0.7143 - val_auc: 0.9442\n",
      "Epoch 78/100\n",
      "3/3 [==============================] - 0s 56ms/step - loss: 0.0199 - f1_m: 1.0000 - precision_m: 1.0000 - recall_m: 1.0000 - auc: 1.0000 - val_loss: 0.2105 - val_f1_m: 0.7143 - val_precision_m: 0.7143 - val_recall_m: 0.7143 - val_auc: 0.9051\n",
      "Epoch 79/100\n",
      "3/3 [==============================] - 0s 53ms/step - loss: 0.0238 - f1_m: 0.9831 - precision_m: 0.9831 - recall_m: 0.9831 - auc: 1.0000 - val_loss: 0.1757 - val_f1_m: 0.6829 - val_precision_m: 0.7000 - val_recall_m: 0.6667 - val_auc: 0.9229\n",
      "Epoch 80/100\n",
      "3/3 [==============================] - 0s 53ms/step - loss: 0.0200 - f1_m: 1.0000 - precision_m: 1.0000 - recall_m: 1.0000 - auc: 1.0000 - val_loss: 0.1591 - val_f1_m: 0.7143 - val_precision_m: 0.7143 - val_recall_m: 0.7143 - val_auc: 0.9233\n",
      "Epoch 81/100\n",
      "3/3 [==============================] - 0s 59ms/step - loss: 0.0293 - f1_m: 0.9740 - precision_m: 0.9740 - recall_m: 0.9740 - auc: 0.9999 - val_loss: 0.1566 - val_f1_m: 0.7143 - val_precision_m: 0.7143 - val_recall_m: 0.7143 - val_auc: 0.9457\n",
      "Epoch 82/100\n",
      "3/3 [==============================] - 0s 59ms/step - loss: 0.0250 - f1_m: 0.9896 - precision_m: 0.9896 - recall_m: 0.9896 - auc: 1.0000 - val_loss: 0.1670 - val_f1_m: 0.7317 - val_precision_m: 0.7500 - val_recall_m: 0.7143 - val_auc: 0.9298\n",
      "Epoch 83/100\n",
      "3/3 [==============================] - 0s 58ms/step - loss: 0.0291 - f1_m: 0.9896 - precision_m: 0.9896 - recall_m: 0.9896 - auc: 0.9999 - val_loss: 0.1714 - val_f1_m: 0.7619 - val_precision_m: 0.7619 - val_recall_m: 0.7619 - val_auc: 0.9317\n",
      "Epoch 84/100\n",
      "3/3 [==============================] - 0s 59ms/step - loss: 0.0145 - f1_m: 1.0000 - precision_m: 1.0000 - recall_m: 1.0000 - auc: 1.0000 - val_loss: 0.1716 - val_f1_m: 0.7619 - val_precision_m: 0.7619 - val_recall_m: 0.7619 - val_auc: 0.9342\n",
      "Epoch 85/100\n",
      "3/3 [==============================] - 0s 54ms/step - loss: 0.0229 - f1_m: 0.9954 - precision_m: 1.0000 - recall_m: 0.9909 - auc: 1.0000 - val_loss: 0.1699 - val_f1_m: 0.7317 - val_precision_m: 0.7500 - val_recall_m: 0.7143 - val_auc: 0.9331\n",
      "Epoch 86/100\n",
      "3/3 [==============================] - 0s 55ms/step - loss: 0.0169 - f1_m: 1.0000 - precision_m: 1.0000 - recall_m: 1.0000 - auc: 1.0000 - val_loss: 0.1994 - val_f1_m: 0.7317 - val_precision_m: 0.7500 - val_recall_m: 0.7143 - val_auc: 0.9307\n",
      "Epoch 87/100\n",
      "3/3 [==============================] - 0s 60ms/step - loss: 0.0171 - f1_m: 0.9831 - precision_m: 0.9831 - recall_m: 0.9831 - auc: 1.0000 - val_loss: 0.2214 - val_f1_m: 0.7143 - val_precision_m: 0.7143 - val_recall_m: 0.7143 - val_auc: 0.9059\n",
      "Epoch 88/100\n",
      "3/3 [==============================] - 0s 55ms/step - loss: 0.0258 - f1_m: 0.9818 - precision_m: 0.9818 - recall_m: 0.9818 - auc: 0.9997 - val_loss: 0.1999 - val_f1_m: 0.7143 - val_precision_m: 0.7143 - val_recall_m: 0.7143 - val_auc: 0.9229\n",
      "Epoch 89/100\n",
      "3/3 [==============================] - 0s 57ms/step - loss: 0.0264 - f1_m: 0.9831 - precision_m: 0.9831 - recall_m: 0.9831 - auc: 0.9896 - val_loss: 0.1848 - val_f1_m: 0.6829 - val_precision_m: 0.7000 - val_recall_m: 0.6667 - val_auc: 0.9192\n",
      "Epoch 90/100\n",
      "3/3 [==============================] - 0s 71ms/step - loss: 0.0186 - f1_m: 0.9946 - precision_m: 1.0000 - recall_m: 0.9896 - auc: 1.0000 - val_loss: 0.1771 - val_f1_m: 0.7692 - val_precision_m: 0.8333 - val_recall_m: 0.7143 - val_auc: 0.9379\n",
      "Epoch 91/100\n",
      "3/3 [==============================] - 0s 53ms/step - loss: 0.0182 - f1_m: 0.9909 - precision_m: 0.9909 - recall_m: 0.9909 - auc: 0.9999 - val_loss: 0.1688 - val_f1_m: 0.7500 - val_precision_m: 0.7895 - val_recall_m: 0.7143 - val_auc: 0.9398\n",
      "Epoch 92/100\n",
      "3/3 [==============================] - 0s 62ms/step - loss: 0.0212 - f1_m: 0.9909 - precision_m: 0.9909 - recall_m: 0.9909 - auc: 0.9998 - val_loss: 0.1706 - val_f1_m: 0.7317 - val_precision_m: 0.7500 - val_recall_m: 0.7143 - val_auc: 0.9621\n",
      "Epoch 93/100\n",
      "3/3 [==============================] - 0s 69ms/step - loss: 0.0355 - f1_m: 0.9737 - precision_m: 0.9831 - recall_m: 0.9648 - auc: 0.9993 - val_loss: 0.1840 - val_f1_m: 0.7619 - val_precision_m: 0.7619 - val_recall_m: 0.7619 - val_auc: 0.9308\n",
      "Epoch 94/100\n",
      "3/3 [==============================] - 0s 55ms/step - loss: 0.0186 - f1_m: 0.9914 - precision_m: 1.0000 - recall_m: 0.9831 - auc: 1.0000 - val_loss: 0.1936 - val_f1_m: 0.7619 - val_precision_m: 0.7619 - val_recall_m: 0.7619 - val_auc: 0.9331\n",
      "Epoch 95/100\n"
     ]
    },
    {
     "name": "stdout",
     "output_type": "stream",
     "text": [
      "3/3 [==============================] - 0s 60ms/step - loss: 0.0133 - f1_m: 1.0000 - precision_m: 1.0000 - recall_m: 1.0000 - auc: 1.0000 - val_loss: 0.2019 - val_f1_m: 0.7619 - val_precision_m: 0.7619 - val_recall_m: 0.7619 - val_auc: 0.9327\n",
      "Epoch 96/100\n",
      "3/3 [==============================] - 0s 57ms/step - loss: 0.0152 - f1_m: 0.9896 - precision_m: 0.9896 - recall_m: 0.9896 - auc: 1.0000 - val_loss: 0.1814 - val_f1_m: 0.7143 - val_precision_m: 0.7143 - val_recall_m: 0.7143 - val_auc: 0.9505\n",
      "Epoch 97/100\n",
      "3/3 [==============================] - 0s 56ms/step - loss: 0.0214 - f1_m: 0.9855 - precision_m: 0.9909 - recall_m: 0.9805 - auc: 1.0000 - val_loss: 0.1692 - val_f1_m: 0.7317 - val_precision_m: 0.7500 - val_recall_m: 0.7143 - val_auc: 0.9482\n",
      "Epoch 98/100\n",
      "3/3 [==============================] - 0s 59ms/step - loss: 0.0137 - f1_m: 0.9855 - precision_m: 0.9909 - recall_m: 0.9805 - auc: 0.9999 - val_loss: 0.1649 - val_f1_m: 0.7619 - val_precision_m: 0.7619 - val_recall_m: 0.7619 - val_auc: 0.9487\n",
      "Epoch 99/100\n",
      "3/3 [==============================] - 0s 63ms/step - loss: 0.0175 - f1_m: 0.9909 - precision_m: 0.9909 - recall_m: 0.9909 - auc: 0.9999 - val_loss: 0.1744 - val_f1_m: 0.7317 - val_precision_m: 0.7500 - val_recall_m: 0.7143 - val_auc: 0.9070\n",
      "Epoch 100/100\n",
      "3/3 [==============================] - 0s 77ms/step - loss: 0.0111 - f1_m: 1.0000 - precision_m: 1.0000 - recall_m: 1.0000 - auc: 1.0000 - val_loss: 0.1920 - val_f1_m: 0.7143 - val_precision_m: 0.7143 - val_recall_m: 0.7143 - val_auc: 0.9058\n"
     ]
    },
    {
     "data": {
      "text/plain": [
       "<tensorflow.python.keras.callbacks.History at 0x7f7e83fa0160>"
      ]
     },
     "execution_count": 21,
     "metadata": {},
     "output_type": "execute_result"
    }
   ],
   "source": [
    "Malware_model.fit(X_train, y_train, validation_data=(X_test, y_test), epochs=100,  class_weight=class_weights)"
   ]
  },
  {
   "cell_type": "code",
   "execution_count": 22,
   "id": "4471392c",
   "metadata": {},
   "outputs": [
    {
     "name": "stdout",
     "output_type": "stream",
     "text": [
      "1/1 [==============================] - 0s 30ms/step - loss: 0.1920 - f1_m: 0.7143 - precision_m: 0.7143 - recall_m: 0.7143 - auc: 0.9058\n"
     ]
    }
   ],
   "source": [
    "scores = Malware_model.evaluate(X_test, y_test)"
   ]
  },
  {
   "cell_type": "code",
   "execution_count": 23,
   "id": "af5d617f",
   "metadata": {},
   "outputs": [
    {
     "name": "stdout",
     "output_type": "stream",
     "text": [
      "1/1 [==============================] - 0s 30ms/step - loss: 0.1920 - f1_m: 0.7143 - precision_m: 0.7143 - recall_m: 0.7143 - auc: 0.9058\n"
     ]
    }
   ],
   "source": [
    "loss, accuracy, f1_score, precision, recall = Malware_model.evaluate(X_test, y_test)"
   ]
  },
  {
   "cell_type": "code",
   "execution_count": 24,
   "id": "dbcee16a",
   "metadata": {},
   "outputs": [
    {
     "name": "stdout",
     "output_type": "stream",
     "text": [
      "Final CNN accuracy:  0.7142856121063232\n"
     ]
    }
   ],
   "source": [
    "print('Final CNN accuracy: ', scores[1])"
   ]
  }
 ],
 "metadata": {
  "kernelspec": {
   "display_name": "Python 3 (ipykernel)",
   "language": "python",
   "name": "python3"
  },
  "language_info": {
   "codemirror_mode": {
    "name": "ipython",
    "version": 3
   },
   "file_extension": ".py",
   "mimetype": "text/x-python",
   "name": "python",
   "nbconvert_exporter": "python",
   "pygments_lexer": "ipython3",
   "version": "3.9.16"
  }
 },
 "nbformat": 4,
 "nbformat_minor": 5
}
